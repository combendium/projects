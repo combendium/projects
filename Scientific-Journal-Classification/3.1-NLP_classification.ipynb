{
 "cells": [
  {
   "cell_type": "markdown",
   "id": "c5f8f35e-7a69-4448-a159-90bb9418a54c",
   "metadata": {
    "id": "c5f8f35e-7a69-4448-a159-90bb9418a54c"
   },
   "source": [
    "<img src=\"http://imgur.com/1ZcRyrc.png\" style=\"float: left; margin: 20px; height: 55px\">\n",
    "\n",
    "# Modeling"
   ]
  },
  {
   "cell_type": "markdown",
   "id": "9696d0db-5d86-475c-b92b-2596297144b9",
   "metadata": {
    "id": "9696d0db-5d86-475c-b92b-2596297144b9"
   },
   "source": [
    "# Imports"
   ]
  },
  {
   "cell_type": "code",
   "execution_count": 1,
   "id": "d3594d2c-358d-46df-a813-885ab8230b28",
   "metadata": {
    "colab": {
     "base_uri": "https://localhost:8080/"
    },
    "executionInfo": {
     "elapsed": 6421,
     "status": "ok",
     "timestamp": 1691405674023,
     "user": {
      "displayName": "Benjamin Seah",
      "userId": "10807984017160968891"
     },
     "user_tz": -480
    },
    "id": "d3594d2c-358d-46df-a813-885ab8230b28",
    "outputId": "2f891d1a-a2d3-45ad-9529-6a9f736c207c"
   },
   "outputs": [
    {
     "name": "stderr",
     "output_type": "stream",
     "text": [
      "[nltk_data] Downloading package wordnet to\n",
      "[nltk_data]     C:\\Users\\benja\\AppData\\Roaming\\nltk_data...\n",
      "[nltk_data]   Package wordnet is already up-to-date!\n",
      "[nltk_data] Downloading package punkt to\n",
      "[nltk_data]     C:\\Users\\benja\\AppData\\Roaming\\nltk_data...\n",
      "[nltk_data]   Package punkt is already up-to-date!\n",
      "[nltk_data] Downloading package stopwords to\n",
      "[nltk_data]     C:\\Users\\benja\\AppData\\Roaming\\nltk_data...\n",
      "[nltk_data]   Package stopwords is already up-to-date!\n"
     ]
    }
   ],
   "source": [
    "# import library\n",
    "\n",
    "import os\n",
    "import requests\n",
    "import pandas as pd\n",
    "import numpy as np\n",
    "import matplotlib.pyplot as plt\n",
    "import seaborn as sns\n",
    "\n",
    "#imports for preprocessing\n",
    "import nltk\n",
    "nltk.download('wordnet')\n",
    "nltk.download('punkt')\n",
    "nltk.download('stopwords')\n",
    "\n",
    "#from nltk.tokenize import sent_tokenize, word_tokenize, RegexpTokenizer\n",
    "from nltk.stem import WordNetLemmatizer\n",
    "#from nltk.stem.porter import PorterStemmer\n",
    "from nltk.corpus import stopwords\n",
    "import re\n",
    "from sklearn.feature_extraction.text import CountVectorizer, TfidfVectorizer\n",
    "\n",
    "#imports for processing data\n",
    "from sklearn.model_selection import train_test_split, GridSearchCV\n",
    "from sklearn.pipeline import Pipeline\n",
    "from sklearn.compose import ColumnTransformer, make_column_transformer\n",
    "#pip install -U imbalanced-learn\n",
    "from imblearn.over_sampling import RandomOverSampler\n",
    "\n",
    "#imports for models\n",
    "from sklearn.naive_bayes import MultinomialNB, ComplementNB\n",
    "from sklearn.linear_model import LogisticRegression, LassoCV, Lasso, RidgeCV, Ridge\n",
    "from sklearn.neighbors import KNeighborsClassifier\n",
    "from sklearn.ensemble import RandomForestClassifier, ExtraTreesClassifier\n",
    "\n",
    "#metrics\n",
    "from sklearn.metrics import confusion_matrix, ConfusionMatrixDisplay \n",
    "from sklearn.metrics import classification_report, precision_recall_curve, auc\n",
    "\n",
    "#from sklearn.metrics import r2_score, mean_squared_error, plot_confusion_matrix\n",
    "import statsmodels.api as sm\n",
    "\n",
    "import pickle\n",
    "pd.set_option('display.max_rows', 50)"
   ]
  },
  {
   "cell_type": "code",
   "execution_count": 2,
   "id": "d7077276-5c03-482e-b288-47280ad69895",
   "metadata": {
    "executionInfo": {
     "elapsed": 3654,
     "status": "ok",
     "timestamp": 1691405709168,
     "user": {
      "displayName": "Benjamin Seah",
      "userId": "10807984017160968891"
     },
     "user_tz": -480
    },
    "id": "d7077276-5c03-482e-b288-47280ad69895"
   },
   "outputs": [],
   "source": [
    "#import dataframe\n",
    "journal_df = pd.read_csv('data/output/journal_df.csv', encoding = 'utf-8')"
   ]
  },
  {
   "cell_type": "code",
   "execution_count": 3,
   "id": "37084845-6b46-4c4d-aae9-d6d272fc6f73",
   "metadata": {
    "colab": {
     "base_uri": "https://localhost:8080/",
     "height": 610
    },
    "executionInfo": {
     "elapsed": 34,
     "status": "ok",
     "timestamp": 1691405709170,
     "user": {
      "displayName": "Benjamin Seah",
      "userId": "10807984017160968891"
     },
     "user_tz": -480
    },
    "id": "37084845-6b46-4c4d-aae9-d6d272fc6f73",
    "outputId": "6ecea499-8e5e-4414-90b2-7e9cd74db545"
   },
   "outputs": [
    {
     "name": "stdout",
     "output_type": "stream",
     "text": [
      "<class 'pandas.core.frame.DataFrame'>\n",
      "RangeIndex: 18636 entries, 0 to 18635\n",
      "Data columns (total 8 columns):\n",
      " #   Column        Non-Null Count  Dtype \n",
      "---  ------        --------------  ----- \n",
      " 0   title         18636 non-null  object\n",
      " 1   issue         18636 non-null  object\n",
      " 2   issue_href    18636 non-null  object\n",
      " 3   url           18636 non-null  object\n",
      " 4   content_type  18636 non-null  object\n",
      " 5   publish_date  18636 non-null  object\n",
      " 6   abstract      18636 non-null  object\n",
      " 7   high_HI       18636 non-null  int64 \n",
      "dtypes: int64(1), object(7)\n",
      "memory usage: 1.1+ MB\n",
      "None\n"
     ]
    },
    {
     "data": {
      "text/html": [
       "<div>\n",
       "<style scoped>\n",
       "    .dataframe tbody tr th:only-of-type {\n",
       "        vertical-align: middle;\n",
       "    }\n",
       "\n",
       "    .dataframe tbody tr th {\n",
       "        vertical-align: top;\n",
       "    }\n",
       "\n",
       "    .dataframe thead th {\n",
       "        text-align: right;\n",
       "    }\n",
       "</style>\n",
       "<table border=\"1\" class=\"dataframe\">\n",
       "  <thead>\n",
       "    <tr style=\"text-align: right;\">\n",
       "      <th></th>\n",
       "      <th>title</th>\n",
       "      <th>issue</th>\n",
       "      <th>issue_href</th>\n",
       "      <th>url</th>\n",
       "      <th>content_type</th>\n",
       "      <th>publish_date</th>\n",
       "      <th>abstract</th>\n",
       "      <th>high_HI</th>\n",
       "    </tr>\n",
       "  </thead>\n",
       "  <tbody>\n",
       "    <tr>\n",
       "      <th>0</th>\n",
       "      <td>optical multisensor systems in analytical spec...</td>\n",
       "      <td>March 2022, issue 3</td>\n",
       "      <td>/journal/10809/volumes-and-issues/77-3</td>\n",
       "      <td>https://link.springer.com/article/10.1134/S106...</td>\n",
       "      <td>review</td>\n",
       "      <td>2022-03-31</td>\n",
       "      <td>a review of works in developing optical multis...</td>\n",
       "      <td>0</td>\n",
       "    </tr>\n",
       "    <tr>\n",
       "      <th>1</th>\n",
       "      <td>liquid–liquid extraction of organic compounds ...</td>\n",
       "      <td>August 2021, issue 8</td>\n",
       "      <td>/journal/10809/volumes-and-issues/76-8</td>\n",
       "      <td>https://link.springer.com/article/10.1134/S106...</td>\n",
       "      <td>review</td>\n",
       "      <td>2021-07-29</td>\n",
       "      <td>single-drop microextraction (sdme) and hollow-...</td>\n",
       "      <td>0</td>\n",
       "    </tr>\n",
       "  </tbody>\n",
       "</table>\n",
       "</div>"
      ],
      "text/plain": [
       "                                               title                 issue  \\\n",
       "0  optical multisensor systems in analytical spec...   March 2022, issue 3   \n",
       "1  liquid–liquid extraction of organic compounds ...  August 2021, issue 8   \n",
       "\n",
       "                               issue_href  \\\n",
       "0  /journal/10809/volumes-and-issues/77-3   \n",
       "1  /journal/10809/volumes-and-issues/76-8   \n",
       "\n",
       "                                                 url content_type  \\\n",
       "0  https://link.springer.com/article/10.1134/S106...       review   \n",
       "1  https://link.springer.com/article/10.1134/S106...       review   \n",
       "\n",
       "  publish_date                                           abstract  high_HI  \n",
       "0   2022-03-31  a review of works in developing optical multis...        0  \n",
       "1   2021-07-29  single-drop microextraction (sdme) and hollow-...        0  "
      ]
     },
     "execution_count": 3,
     "metadata": {},
     "output_type": "execute_result"
    }
   ],
   "source": [
    "#inspect\n",
    "print(journal_df.info())\n",
    "journal_df.head(2)"
   ]
  },
  {
   "cell_type": "code",
   "execution_count": 4,
   "id": "4f824205-72e5-4524-aa57-087741c968b8",
   "metadata": {
    "colab": {
     "base_uri": "https://localhost:8080/",
     "height": 641
    },
    "executionInfo": {
     "elapsed": 26,
     "status": "ok",
     "timestamp": 1691405709172,
     "user": {
      "displayName": "Benjamin Seah",
      "userId": "10807984017160968891"
     },
     "user_tz": -480
    },
    "id": "4f824205-72e5-4524-aa57-087741c968b8",
    "outputId": "da10105b-7176-4443-e865-c398e389240f"
   },
   "outputs": [
    {
     "data": {
      "text/html": [
       "<div>\n",
       "<style scoped>\n",
       "    .dataframe tbody tr th:only-of-type {\n",
       "        vertical-align: middle;\n",
       "    }\n",
       "\n",
       "    .dataframe tbody tr th {\n",
       "        vertical-align: top;\n",
       "    }\n",
       "\n",
       "    .dataframe thead th {\n",
       "        text-align: right;\n",
       "    }\n",
       "</style>\n",
       "<table border=\"1\" class=\"dataframe\">\n",
       "  <thead>\n",
       "    <tr style=\"text-align: right;\">\n",
       "      <th></th>\n",
       "      <th>high_HI</th>\n",
       "      <th>content_type</th>\n",
       "      <th>title</th>\n",
       "      <th>abstract</th>\n",
       "    </tr>\n",
       "  </thead>\n",
       "  <tbody>\n",
       "    <tr>\n",
       "      <th>0</th>\n",
       "      <td>0</td>\n",
       "      <td>review</td>\n",
       "      <td>optical multisensor systems in analytical spec...</td>\n",
       "      <td>a review of works in developing optical multis...</td>\n",
       "    </tr>\n",
       "    <tr>\n",
       "      <th>1</th>\n",
       "      <td>0</td>\n",
       "      <td>review</td>\n",
       "      <td>liquid–liquid extraction of organic compounds ...</td>\n",
       "      <td>single-drop microextraction (sdme) and hollow-...</td>\n",
       "    </tr>\n",
       "    <tr>\n",
       "      <th>2</th>\n",
       "      <td>0</td>\n",
       "      <td>article</td>\n",
       "      <td>determination of lanthanides in coal fly ash, ...</td>\n",
       "      <td>a method has been developed for the separation...</td>\n",
       "    </tr>\n",
       "    <tr>\n",
       "      <th>3</th>\n",
       "      <td>0</td>\n",
       "      <td>article</td>\n",
       "      <td>application of atmospheric pressure photoioniz...</td>\n",
       "      <td>the behavior of eight nitrogen-containing toxi...</td>\n",
       "    </tr>\n",
       "    <tr>\n",
       "      <th>4</th>\n",
       "      <td>0</td>\n",
       "      <td>article</td>\n",
       "      <td>simultaneous determination of sulfur mustard a...</td>\n",
       "      <td>we propose a procedure for the simultaneous de...</td>\n",
       "    </tr>\n",
       "    <tr>\n",
       "      <th>...</th>\n",
       "      <td>...</td>\n",
       "      <td>...</td>\n",
       "      <td>...</td>\n",
       "      <td>...</td>\n",
       "    </tr>\n",
       "    <tr>\n",
       "      <th>18631</th>\n",
       "      <td>1</td>\n",
       "      <td>special issue paper</td>\n",
       "      <td>monitoring of total hg in the river elbe:  fia...</td>\n",
       "      <td>the development of an apparatus for the on-lin...</td>\n",
       "    </tr>\n",
       "    <tr>\n",
       "      <th>18632</th>\n",
       "      <td>1</td>\n",
       "      <td>special issue paper</td>\n",
       "      <td>on-line determination of mercury in river wate...</td>\n",
       "      <td>a monitor is described which provides the on-l...</td>\n",
       "    </tr>\n",
       "    <tr>\n",
       "      <th>18633</th>\n",
       "      <td>1</td>\n",
       "      <td>special issue paper</td>\n",
       "      <td>determination of arsenic species in water, soi...</td>\n",
       "      <td>ion chromatographic separation coupled with ic...</td>\n",
       "    </tr>\n",
       "    <tr>\n",
       "      <th>18634</th>\n",
       "      <td>1</td>\n",
       "      <td>special issue paper</td>\n",
       "      <td>solar blind photocell –  a simple element spec...</td>\n",
       "      <td>an element-specific detection method, based on...</td>\n",
       "    </tr>\n",
       "    <tr>\n",
       "      <th>18635</th>\n",
       "      <td>1</td>\n",
       "      <td>special issue paper</td>\n",
       "      <td>speciation of copper, lead and cadmium in aqua...</td>\n",
       "      <td>the assessment of free cu(ii), pb(ii) and cd(i...</td>\n",
       "    </tr>\n",
       "  </tbody>\n",
       "</table>\n",
       "<p>18636 rows × 4 columns</p>\n",
       "</div>"
      ],
      "text/plain": [
       "       high_HI         content_type  \\\n",
       "0            0               review   \n",
       "1            0               review   \n",
       "2            0              article   \n",
       "3            0              article   \n",
       "4            0              article   \n",
       "...        ...                  ...   \n",
       "18631        1  special issue paper   \n",
       "18632        1  special issue paper   \n",
       "18633        1  special issue paper   \n",
       "18634        1  special issue paper   \n",
       "18635        1  special issue paper   \n",
       "\n",
       "                                                   title  \\\n",
       "0      optical multisensor systems in analytical spec...   \n",
       "1      liquid–liquid extraction of organic compounds ...   \n",
       "2      determination of lanthanides in coal fly ash, ...   \n",
       "3      application of atmospheric pressure photoioniz...   \n",
       "4      simultaneous determination of sulfur mustard a...   \n",
       "...                                                  ...   \n",
       "18631  monitoring of total hg in the river elbe:  fia...   \n",
       "18632  on-line determination of mercury in river wate...   \n",
       "18633  determination of arsenic species in water, soi...   \n",
       "18634  solar blind photocell –  a simple element spec...   \n",
       "18635  speciation of copper, lead and cadmium in aqua...   \n",
       "\n",
       "                                                abstract  \n",
       "0      a review of works in developing optical multis...  \n",
       "1      single-drop microextraction (sdme) and hollow-...  \n",
       "2      a method has been developed for the separation...  \n",
       "3      the behavior of eight nitrogen-containing toxi...  \n",
       "4      we propose a procedure for the simultaneous de...  \n",
       "...                                                  ...  \n",
       "18631  the development of an apparatus for the on-lin...  \n",
       "18632  a monitor is described which provides the on-l...  \n",
       "18633  ion chromatographic separation coupled with ic...  \n",
       "18634  an element-specific detection method, based on...  \n",
       "18635  the assessment of free cu(ii), pb(ii) and cd(i...  \n",
       "\n",
       "[18636 rows x 4 columns]"
      ]
     },
     "execution_count": 4,
     "metadata": {},
     "output_type": "execute_result"
    }
   ],
   "source": [
    "#drop features, rearrange\n",
    "df = journal_df.drop(columns = ['issue', 'issue_href', 'url', 'publish_date'])\n",
    "df = df[['high_HI', 'content_type', 'title', 'abstract']]\n",
    "df"
   ]
  },
  {
   "cell_type": "markdown",
   "id": "2d5bf4c5-551b-42f8-8af6-5a04a8e96012",
   "metadata": {
    "id": "2d5bf4c5-551b-42f8-8af6-5a04a8e96012"
   },
   "source": [
    "# Preprocessing and evaluating"
   ]
  },
  {
   "cell_type": "markdown",
   "id": "2ece381e-5216-4984-a817-132a838d1bb8",
   "metadata": {
    "id": "2ece381e-5216-4984-a817-132a838d1bb8"
   },
   "source": [
    "Due to the presence of technical words in the abstract, between stemming and lemmatizing, lemmatizing would be a more referable choice since it is able to transform words to their base while preserving the validity of the resulting words. The hope is that will be able to preserve the validity of the scientific terms, chemical names and formulas."
   ]
  },
  {
   "cell_type": "markdown",
   "id": "6b133068-7416-4b85-bdc9-6a39a8f88407",
   "metadata": {
    "id": "6b133068-7416-4b85-bdc9-6a39a8f88407"
   },
   "source": [
    "## Lemmatizing texts\n",
    "Set function to easily apply on each row"
   ]
  },
  {
   "cell_type": "code",
   "execution_count": 238,
   "id": "38234dd3-fe7c-4481-b836-4e6084bdae2f",
   "metadata": {
    "executionInfo": {
     "elapsed": 605,
     "status": "ok",
     "timestamp": 1691405709755,
     "user": {
      "displayName": "Benjamin Seah",
      "userId": "10807984017160968891"
     },
     "user_tz": -480
    },
    "id": "38234dd3-fe7c-4481-b836-4e6084bdae2f"
   },
   "outputs": [],
   "source": [
    "#Initialize the lemmatizer\n",
    "lemmatizer = nltk.WordNetLemmatizer()\n",
    "\n",
    "#Defining a function to lemmatize the abstract\n",
    "def lemma_text(text):\n",
    "    words = nltk.word_tokenize(text)\n",
    "    lemmed_words = [lemmatizer.lemmatize(word) for word in words]\n",
    "    return ' '.join(lemmed_words)\n",
    "\n",
    "#preprocessor to remove digits and \n",
    "#to remove 2 character words (likely to be units, e.g. ml mg, ms, and other words lieklly to be english stop words e.g. he to go in by)\n",
    "def preprocess_text(text):\n",
    "    text = re.sub(r'\\d+|\\b\\w{2}\\b', '', text.lower()) \n",
    "    return text"
   ]
  },
  {
   "cell_type": "code",
   "execution_count": 6,
   "id": "c4c67426-78b4-4ce2-b363-ad0c10e94fc8",
   "metadata": {
    "executionInfo": {
     "elapsed": 48521,
     "status": "ok",
     "timestamp": 1691405758262,
     "user": {
      "displayName": "Benjamin Seah",
      "userId": "10807984017160968891"
     },
     "user_tz": -480
    },
    "id": "c4c67426-78b4-4ce2-b363-ad0c10e94fc8"
   },
   "outputs": [],
   "source": [
    "#lemmatize the astract column, remove 2 charactern words\n",
    "df['abstract'] = df['abstract'].apply(lemma_text).apply(preprocess_text)"
   ]
  },
  {
   "cell_type": "code",
   "execution_count": 7,
   "id": "c8333066-d53e-4bd2-8019-5f044223aff4",
   "metadata": {
    "executionInfo": {
     "elapsed": 48521,
     "status": "ok",
     "timestamp": 1691405758262,
     "user": {
      "displayName": "Benjamin Seah",
      "userId": "10807984017160968891"
     },
     "user_tz": -480
    },
    "id": "c4c67426-78b4-4ce2-b363-ad0c10e94fc8"
   },
   "outputs": [],
   "source": [
    "#lemmatize the astract column\n",
    "df['abstract'] = df['abstract'].apply(preprocess_text)"
   ]
  },
  {
   "cell_type": "markdown",
   "id": "7dd5c633-a996-4ead-bc97-af5bce4b8587",
   "metadata": {
    "id": "7dd5c633-a996-4ead-bc97-af5bce4b8587"
   },
   "source": [
    "## Train-Test split of data"
   ]
  },
  {
   "cell_type": "code",
   "execution_count": 8,
   "id": "6e56130a-1742-4d60-98c2-08f60d5e30fb",
   "metadata": {
    "executionInfo": {
     "elapsed": 29,
     "status": "ok",
     "timestamp": 1691405758263,
     "user": {
      "displayName": "Benjamin Seah",
      "userId": "10807984017160968891"
     },
     "user_tz": -480
    },
    "id": "6e56130a-1742-4d60-98c2-08f60d5e30fb"
   },
   "outputs": [],
   "source": [
    "#assign X & y and straitfy the imbalance observed during cleaning\n",
    "X = df['abstract']\n",
    "y = df['high_HI']\n",
    "\n",
    "# Split the data into the training and testing sets.\n",
    "X_train, X_test, y_train, y_test = train_test_split(X,\n",
    "                                                    y,\n",
    "                                                    test_size=0.33, #0.33 to reduce data imbalance impact\n",
    "                                                    stratify=y,     #account for data imabalance.\n",
    "                                                    random_state=42)\n"
   ]
  },
  {
   "cell_type": "markdown",
   "id": "97120b42-1c2d-4974-9590-0f3800e28317",
   "metadata": {},
   "source": [
    "## Scoring evaluation\n",
    " - F1-scores is used to balance the scoring of both side since it is the harmonic mean between precision and recall and in this case is a way to deal with the trade-off from trying to balance higher recall and higher precision without sacrificing ther other too much\n",
    "     - Accuracy not used because of the data imbalance which will easily skew the results since it is unable to distinguish between false positives and false negatives.\n",
    " - Matthews Correlation Coefficient (MCC) (a.k.a. phi-coefficient) is also used in conjuction to help ensure that the scoring is symmetric while precision and recall are maximised and monitoered via F1-scores.\n",
    "     - This works by treating a binary classification problem as a multi-class problem with 2 classes\n",
    "     - Since precision, and recall, and F1-scores are asymmetric, while MCC MCC takes into account all four values in the confusion matrix, it remain symmetric."
   ]
  },
  {
   "cell_type": "markdown",
   "id": "6ee083f8-5179-419c-a43b-b0ac7073e299",
   "metadata": {
    "id": "6ee083f8-5179-419c-a43b-b0ac7073e299"
   },
   "source": [
    "### Functions\n",
    "* For metrics scoring \n",
    "* For getting ngrams words form models"
   ]
  },
  {
   "cell_type": "code",
   "execution_count": 225,
   "id": "672c2bbc-f162-4b78-b59c-81287b3c1ac2",
   "metadata": {
    "executionInfo": {
     "elapsed": 29,
     "status": "ok",
     "timestamp": 1691405758264,
     "user": {
      "displayName": "Benjamin Seah",
      "userId": "10807984017160968891"
     },
     "user_tz": -480
    },
    "id": "672c2bbc-f162-4b78-b59c-81287b3c1ac2"
   },
   "outputs": [],
   "source": [
    "#for use after generating confusion metrix\n",
    "# cm = confusion_matrix(y_test, preds)  # True vs Predicted values.\n",
    "def score_metric(cm):\n",
    "    tn, fp, fn, tp = cm.ravel()\n",
    "    acc = (tn + tp) / (tn + fp + fn + tp) #accuracy (Total Predictive Value)\n",
    "    spec = tn / (tn + fp)                 #specificity(True Negative Rate)\n",
    "    sens = tp / (tp + fn)                 #sensitivity/recall(True Positive Rate)\n",
    "    prec = tp / (tp + fp)                 #precision(Positive Predictive Value)\n",
    "    f1 = 2 * (prec * sens) / (prec + sens)#f1_score of harmonic mean\n",
    "    mcc = ((tp * tn) - (fp * fn))/((tp + fp) * (tp + fn) * (tn + fp) * (tn + fn)) ** 0.5\n",
    "    print(f\"Accuracy score (Predictive Value): {acc:.4f}\")\n",
    "    print(f\"Specificity (True Negative Rate) score: {spec:.4f}\")\n",
    "    print(f\"Sensitivity (True Positive Rate) score: {sens:.4f}\")\n",
    "    print(f\"Precision (Positive Predictive Value) score: {prec:.4f}\")\n",
    "    print(f\"F1 score: {f1:.4f}\")\n",
    "    print(f\"MCC score (phi-coefficient): {mcc:.4f}\")\n",
    "#    return (acc, spec, sens, prec, f1)"
   ]
  },
  {
   "cell_type": "code",
   "execution_count": 226,
   "id": "NOWYMY_cTSCl",
   "metadata": {
    "executionInfo": {
     "elapsed": 28,
     "status": "ok",
     "timestamp": 1691405758264,
     "user": {
      "displayName": "Benjamin Seah",
      "userId": "10807984017160968891"
     },
     "user_tz": -480
    },
    "id": "NOWYMY_cTSCl"
   },
   "outputs": [],
   "source": [
    "#function to reduce the repetitions when finding the scores during evaluation..\n",
    "def evaluator(gs):\n",
    "\n",
    "    #get best output from gs\n",
    "    gs_best = gs.best_estimator_\n",
    "    print(f\"Best estimator from gridsearch: {gs_best}\\n{'_'*41}\")\n",
    "\n",
    "    # Get predictions\n",
    "    train_pred = gs.predict(X_train)\n",
    "    test_pred = gs.predict(X_test)\n",
    "\n",
    "    #Get confusion matrix values\n",
    "    cm_train = confusion_matrix(y_train, train_pred)\n",
    "    cm_test = confusion_matrix(y_test, test_pred)\n",
    "\n",
    "    # Calculate the scores\n",
    "    print(f\"Score metrics of train data:\\n{'-'*40}\")\n",
    "    score_metric(cm_train)\n",
    "    print(f\"\\n{'_'*50}\\n Score metrics of test data:\\n{'-'*40}\")\n",
    "    score_metric(cm_test)\n",
    "    print(f\"{'_'*50}\")\n",
    "\n",
    "    #generate confusion matrix\n",
    "    disp = ConfusionMatrixDisplay(confusion_matrix = cm_test,\n",
    "                                 display_labels=['not high_HI', 'high_HI'])\n",
    "    disp.plot()\n",
    "    plt.title('Confusion Matrix of test data');"
   ]
  },
  {
   "cell_type": "code",
   "execution_count": 11,
   "id": "4210d8d1-bf78-4dd9-9eb3-ae5d243efb75",
   "metadata": {},
   "outputs": [],
   "source": [
    "#build ngram long form function\n",
    "def ngram_cvec_coefs(gs_method, X_train_df, y_train_df):\n",
    "    #get features names\n",
    "    best_gs = gs_method.best_estimator_\n",
    "    best_cvec = best_gs.named_steps['cvec']\n",
    "    ngram_names = best_cvec.get_feature_names_out()\n",
    "    #transform X_train into results\n",
    "    X_train_set = best_cvec.transform(X_train_df)\n",
    "    #pdf the arrays and names\n",
    "    ngram_train_df = pd.DataFrame(X_train_set.toarray(), columns = ngram_names)\n",
    "    #reassign y values\n",
    "    ngram_train_df['high_HI'] = y_train_df.values\n",
    "    #groubpy to get frequency counts\n",
    "    ngram_counts_train = ngram_train_df.groupby('high_HI').sum()\n",
    "    return ngram_counts_train.T\n",
    "\n",
    "def ngram_tvec_coefs(gs_method, X_train_df, y_train_df):\n",
    "    #get features names\n",
    "    best_gs = gs_method.best_estimator_\n",
    "    best_tvec = best_gs.named_steps['tvec']\n",
    "    ngram_names = best_tvec.get_feature_names_out()\n",
    "    #transform X_train into results\n",
    "    X_train_set = best_tvec.transform(X_train_df)\n",
    "    #pdf the arrays and names\n",
    "    ngram_train_df = pd.DataFrame(X_train_set.toarray(), columns = ngram_names)\n",
    "    #reassign y values\n",
    "    ngram_train_df['high_HI'] = y_train_df.values\n",
    "    #groubpy to get frequency counts\n",
    "    ngram_counts_train = ngram_train_df.groupby('high_HI').sum()\n",
    "    return ngram_counts_train.T"
   ]
  },
  {
   "cell_type": "markdown",
   "id": "57dd74cb-e8bd-4827-ab1f-c4742543010a",
   "metadata": {},
   "source": [
    "# Modelling\n",
    "Referring back to the problem statement, the aim is to :\n",
    "- Classify both journals thereby identifying which papers belong to which journal.\n",
    "- Extract out the words distinct to each journal\n",
    "    - Explore the keywords that is distinct to each journal (in particular high_HI journal)\n",
    "        - Pass on this information to allows researchers to optimize their abstract crafting process for improved acceptance rate.\n",
    "\n",
    "\n",
    "Due to the nature of language compounded by scientific vernacular and terms, 1_gram (1 word n_gram. i.e. one word token) would not be useful and 2_gram (2 word token) may not even be substantial enough. Therefore:\n",
    "- Decision is to use 3_grams or even 4_grams to allow the keywords to come through the modelling process intact and be of actual comprehensibility and usage. \n",
    "- The increase in n_grams would result in a trade off:\n",
    "    - Reduced scores of the model \n",
    "    - Reduced fit of the model \n",
    "    - Acceptable trade off as it gives better use case of the n_gram words being used in the fit and generated subsequently."
   ]
  },
  {
   "cell_type": "markdown",
   "id": "6yKgeC7cXfw_",
   "metadata": {
    "id": "6yKgeC7cXfw_"
   },
   "source": [
    "## Method 1: Baseline with Count Vectorizer + Multinomial naive Bayes\n",
    "- Count Vectoriser to see if the default state of word tokens without any weightage assigned.\n",
    "- GridSearchCV used for hyperparameter tuning to arrive at the best possible model within reason (of recourse limtiations)\n",
    "    - cvec__stop_words has been set to english since having these common words would not be helpful in advising the researches at the end.\n",
    "    - cvec__ngram_range has been set to (3,4), again for the same reasons, to derive ceontextual words/phrases that would be relevant rather than single most commonw words.\n",
    "- MultinomialNB is used as the classified since the columns will be in integer counts and it is relative simple and quick model.\n",
    "    - Even though tokens are not independent as supposed to, this sets a baseline\n",
    "    - pipeline features have been"
   ]
  },
  {
   "cell_type": "markdown",
   "id": "wGhlJDunXfw_",
   "metadata": {
    "id": "wGhlJDunXfw_"
   },
   "source": [
    "### Modeling\n"
   ]
  },
  {
   "cell_type": "code",
   "execution_count": 14,
   "id": "-Bd1KzqPXfw_",
   "metadata": {
    "id": "-Bd1KzqPXfw_"
   },
   "outputs": [],
   "source": [
    "#Set up a pipeline\n",
    "pipe_M1 = Pipeline([('cvec', CountVectorizer()),\n",
    "                    ('nb', MultinomialNB())\n",
    "                   ])"
   ]
  },
  {
   "cell_type": "code",
   "execution_count": 12,
   "id": "JUza2X55XfxI",
   "metadata": {
    "id": "JUza2X55XfxI"
   },
   "outputs": [],
   "source": [
    "#Set pipline parameters\n",
    "pipe_M1_params = {'cvec__max_features': [30000],   #max features for considering after finetuning in the background\n",
    "                  'cvec__min_df': [2, 3],\n",
    "                  'cvec__max_df': [.85, .9, .95],\n",
    "                  'cvec__stop_words': ['english'],\n",
    "                  'cvec__ngram_range': [(3, 4)],   #min number ngrams for considering after finetuning in the background\n",
    "                  'nb__alpha': np.linspace(1,10,5)\n",
    "                 }"
   ]
  },
  {
   "cell_type": "code",
   "execution_count": 15,
   "id": "1V-JvfdtXfxJ",
   "metadata": {
    "id": "1V-JvfdtXfxJ"
   },
   "outputs": [],
   "source": [
    "# Instantiate GridSearchCV.\n",
    "gs_M1 = GridSearchCV(pipe_M1,                     # what object are we optimizing?\n",
    "                     param_grid = pipe_M1_params, # what parameters values are we searching?\n",
    "                     cv=3,                        # 3-fold cross-validation.\n",
    "                     scoring = 'f1',              # balanced to check both precision and recall \n",
    "                     n_jobs = -2,\n",
    "                     verbose = 10\n",
    "                    )\n"
   ]
  },
  {
   "cell_type": "code",
   "execution_count": 16,
   "id": "XFv9QMAJXfxJ",
   "metadata": {
    "colab": {
     "base_uri": "https://localhost:8080/",
     "height": 152
    },
    "executionInfo": {
     "elapsed": 874798,
     "status": "ok",
     "timestamp": 1691391911146,
     "user": {
      "displayName": "Benjamin Seah",
      "userId": "10807984017160968891"
     },
     "user_tz": -480
    },
    "id": "XFv9QMAJXfxJ",
    "outputId": "ffd4bfca-8acd-42a2-9917-d099f95a6a3a"
   },
   "outputs": [
    {
     "name": "stdout",
     "output_type": "stream",
     "text": [
      "Fitting 3 folds for each of 30 candidates, totalling 90 fits\n"
     ]
    },
    {
     "data": {
      "text/html": [
       "<style>#sk-container-id-1 {color: black;}#sk-container-id-1 pre{padding: 0;}#sk-container-id-1 div.sk-toggleable {background-color: white;}#sk-container-id-1 label.sk-toggleable__label {cursor: pointer;display: block;width: 100%;margin-bottom: 0;padding: 0.3em;box-sizing: border-box;text-align: center;}#sk-container-id-1 label.sk-toggleable__label-arrow:before {content: \"▸\";float: left;margin-right: 0.25em;color: #696969;}#sk-container-id-1 label.sk-toggleable__label-arrow:hover:before {color: black;}#sk-container-id-1 div.sk-estimator:hover label.sk-toggleable__label-arrow:before {color: black;}#sk-container-id-1 div.sk-toggleable__content {max-height: 0;max-width: 0;overflow: hidden;text-align: left;background-color: #f0f8ff;}#sk-container-id-1 div.sk-toggleable__content pre {margin: 0.2em;color: black;border-radius: 0.25em;background-color: #f0f8ff;}#sk-container-id-1 input.sk-toggleable__control:checked~div.sk-toggleable__content {max-height: 200px;max-width: 100%;overflow: auto;}#sk-container-id-1 input.sk-toggleable__control:checked~label.sk-toggleable__label-arrow:before {content: \"▾\";}#sk-container-id-1 div.sk-estimator input.sk-toggleable__control:checked~label.sk-toggleable__label {background-color: #d4ebff;}#sk-container-id-1 div.sk-label input.sk-toggleable__control:checked~label.sk-toggleable__label {background-color: #d4ebff;}#sk-container-id-1 input.sk-hidden--visually {border: 0;clip: rect(1px 1px 1px 1px);clip: rect(1px, 1px, 1px, 1px);height: 1px;margin: -1px;overflow: hidden;padding: 0;position: absolute;width: 1px;}#sk-container-id-1 div.sk-estimator {font-family: monospace;background-color: #f0f8ff;border: 1px dotted black;border-radius: 0.25em;box-sizing: border-box;margin-bottom: 0.5em;}#sk-container-id-1 div.sk-estimator:hover {background-color: #d4ebff;}#sk-container-id-1 div.sk-parallel-item::after {content: \"\";width: 100%;border-bottom: 1px solid gray;flex-grow: 1;}#sk-container-id-1 div.sk-label:hover label.sk-toggleable__label {background-color: #d4ebff;}#sk-container-id-1 div.sk-serial::before {content: \"\";position: absolute;border-left: 1px solid gray;box-sizing: border-box;top: 0;bottom: 0;left: 50%;z-index: 0;}#sk-container-id-1 div.sk-serial {display: flex;flex-direction: column;align-items: center;background-color: white;padding-right: 0.2em;padding-left: 0.2em;position: relative;}#sk-container-id-1 div.sk-item {position: relative;z-index: 1;}#sk-container-id-1 div.sk-parallel {display: flex;align-items: stretch;justify-content: center;background-color: white;position: relative;}#sk-container-id-1 div.sk-item::before, #sk-container-id-1 div.sk-parallel-item::before {content: \"\";position: absolute;border-left: 1px solid gray;box-sizing: border-box;top: 0;bottom: 0;left: 50%;z-index: -1;}#sk-container-id-1 div.sk-parallel-item {display: flex;flex-direction: column;z-index: 1;position: relative;background-color: white;}#sk-container-id-1 div.sk-parallel-item:first-child::after {align-self: flex-end;width: 50%;}#sk-container-id-1 div.sk-parallel-item:last-child::after {align-self: flex-start;width: 50%;}#sk-container-id-1 div.sk-parallel-item:only-child::after {width: 0;}#sk-container-id-1 div.sk-dashed-wrapped {border: 1px dashed gray;margin: 0 0.4em 0.5em 0.4em;box-sizing: border-box;padding-bottom: 0.4em;background-color: white;}#sk-container-id-1 div.sk-label label {font-family: monospace;font-weight: bold;display: inline-block;line-height: 1.2em;}#sk-container-id-1 div.sk-label-container {text-align: center;}#sk-container-id-1 div.sk-container {/* jupyter's `normalize.less` sets `[hidden] { display: none; }` but bootstrap.min.css set `[hidden] { display: none !important; }` so we also need the `!important` here to be able to override the default hidden behavior on the sphinx rendered scikit-learn.org. See: https://github.com/scikit-learn/scikit-learn/issues/21755 */display: inline-block !important;position: relative;}#sk-container-id-1 div.sk-text-repr-fallback {display: none;}</style><div id=\"sk-container-id-1\" class=\"sk-top-container\"><div class=\"sk-text-repr-fallback\"><pre>GridSearchCV(cv=3,\n",
       "             estimator=Pipeline(steps=[(&#x27;cvec&#x27;, CountVectorizer()),\n",
       "                                       (&#x27;nb&#x27;, MultinomialNB())]),\n",
       "             n_jobs=-2,\n",
       "             param_grid={&#x27;cvec__max_df&#x27;: [0.85, 0.9, 0.95],\n",
       "                         &#x27;cvec__max_features&#x27;: [30000], &#x27;cvec__min_df&#x27;: [2, 3],\n",
       "                         &#x27;cvec__ngram_range&#x27;: [(3, 4)],\n",
       "                         &#x27;cvec__stop_words&#x27;: [&#x27;english&#x27;],\n",
       "                         &#x27;nb__alpha&#x27;: array([ 1.  ,  3.25,  5.5 ,  7.75, 10.  ])},\n",
       "             scoring=&#x27;f1&#x27;, verbose=10)</pre><b>In a Jupyter environment, please rerun this cell to show the HTML representation or trust the notebook. <br />On GitHub, the HTML representation is unable to render, please try loading this page with nbviewer.org.</b></div><div class=\"sk-container\" hidden><div class=\"sk-item sk-dashed-wrapped\"><div class=\"sk-label-container\"><div class=\"sk-label sk-toggleable\"><input class=\"sk-toggleable__control sk-hidden--visually\" id=\"sk-estimator-id-1\" type=\"checkbox\" ><label for=\"sk-estimator-id-1\" class=\"sk-toggleable__label sk-toggleable__label-arrow\">GridSearchCV</label><div class=\"sk-toggleable__content\"><pre>GridSearchCV(cv=3,\n",
       "             estimator=Pipeline(steps=[(&#x27;cvec&#x27;, CountVectorizer()),\n",
       "                                       (&#x27;nb&#x27;, MultinomialNB())]),\n",
       "             n_jobs=-2,\n",
       "             param_grid={&#x27;cvec__max_df&#x27;: [0.85, 0.9, 0.95],\n",
       "                         &#x27;cvec__max_features&#x27;: [30000], &#x27;cvec__min_df&#x27;: [2, 3],\n",
       "                         &#x27;cvec__ngram_range&#x27;: [(3, 4)],\n",
       "                         &#x27;cvec__stop_words&#x27;: [&#x27;english&#x27;],\n",
       "                         &#x27;nb__alpha&#x27;: array([ 1.  ,  3.25,  5.5 ,  7.75, 10.  ])},\n",
       "             scoring=&#x27;f1&#x27;, verbose=10)</pre></div></div></div><div class=\"sk-parallel\"><div class=\"sk-parallel-item\"><div class=\"sk-item\"><div class=\"sk-label-container\"><div class=\"sk-label sk-toggleable\"><input class=\"sk-toggleable__control sk-hidden--visually\" id=\"sk-estimator-id-2\" type=\"checkbox\" ><label for=\"sk-estimator-id-2\" class=\"sk-toggleable__label sk-toggleable__label-arrow\">estimator: Pipeline</label><div class=\"sk-toggleable__content\"><pre>Pipeline(steps=[(&#x27;cvec&#x27;, CountVectorizer()), (&#x27;nb&#x27;, MultinomialNB())])</pre></div></div></div><div class=\"sk-serial\"><div class=\"sk-item\"><div class=\"sk-serial\"><div class=\"sk-item\"><div class=\"sk-estimator sk-toggleable\"><input class=\"sk-toggleable__control sk-hidden--visually\" id=\"sk-estimator-id-3\" type=\"checkbox\" ><label for=\"sk-estimator-id-3\" class=\"sk-toggleable__label sk-toggleable__label-arrow\">CountVectorizer</label><div class=\"sk-toggleable__content\"><pre>CountVectorizer()</pre></div></div></div><div class=\"sk-item\"><div class=\"sk-estimator sk-toggleable\"><input class=\"sk-toggleable__control sk-hidden--visually\" id=\"sk-estimator-id-4\" type=\"checkbox\" ><label for=\"sk-estimator-id-4\" class=\"sk-toggleable__label sk-toggleable__label-arrow\">MultinomialNB</label><div class=\"sk-toggleable__content\"><pre>MultinomialNB()</pre></div></div></div></div></div></div></div></div></div></div></div></div>"
      ],
      "text/plain": [
       "GridSearchCV(cv=3,\n",
       "             estimator=Pipeline(steps=[('cvec', CountVectorizer()),\n",
       "                                       ('nb', MultinomialNB())]),\n",
       "             n_jobs=-2,\n",
       "             param_grid={'cvec__max_df': [0.85, 0.9, 0.95],\n",
       "                         'cvec__max_features': [30000], 'cvec__min_df': [2, 3],\n",
       "                         'cvec__ngram_range': [(3, 4)],\n",
       "                         'cvec__stop_words': ['english'],\n",
       "                         'nb__alpha': array([ 1.  ,  3.25,  5.5 ,  7.75, 10.  ])},\n",
       "             scoring='f1', verbose=10)"
      ]
     },
     "execution_count": 16,
     "metadata": {},
     "output_type": "execute_result"
    }
   ],
   "source": [
    "# Fit GridSearch to training data.\n",
    "gs_M1.fit(X_train, y_train)"
   ]
  },
  {
   "cell_type": "code",
   "execution_count": 244,
   "id": "e7bcb735-5288-4476-a013-e1b7004cfdc3",
   "metadata": {},
   "outputs": [
    {
     "data": {
      "text/html": [
       "<div>\n",
       "<style scoped>\n",
       "    .dataframe tbody tr th:only-of-type {\n",
       "        vertical-align: middle;\n",
       "    }\n",
       "\n",
       "    .dataframe tbody tr th {\n",
       "        vertical-align: top;\n",
       "    }\n",
       "\n",
       "    .dataframe thead th {\n",
       "        text-align: right;\n",
       "    }\n",
       "</style>\n",
       "<table border=\"1\" class=\"dataframe\">\n",
       "  <thead>\n",
       "    <tr style=\"text-align: right;\">\n",
       "      <th></th>\n",
       "      <th>mean_fit_time</th>\n",
       "      <th>std_fit_time</th>\n",
       "      <th>mean_score_time</th>\n",
       "      <th>std_score_time</th>\n",
       "      <th>param_cvec__max_df</th>\n",
       "      <th>param_cvec__max_features</th>\n",
       "      <th>param_cvec__min_df</th>\n",
       "      <th>param_cvec__ngram_range</th>\n",
       "      <th>param_cvec__stop_words</th>\n",
       "      <th>param_nb__alpha</th>\n",
       "      <th>params</th>\n",
       "      <th>split0_test_score</th>\n",
       "      <th>split1_test_score</th>\n",
       "      <th>split2_test_score</th>\n",
       "      <th>mean_test_score</th>\n",
       "      <th>std_test_score</th>\n",
       "      <th>rank_test_score</th>\n",
       "    </tr>\n",
       "  </thead>\n",
       "  <tbody>\n",
       "    <tr>\n",
       "      <th>0</th>\n",
       "      <td>15.916169</td>\n",
       "      <td>0.114318</td>\n",
       "      <td>1.705263</td>\n",
       "      <td>0.023190</td>\n",
       "      <td>0.85</td>\n",
       "      <td>30000</td>\n",
       "      <td>2</td>\n",
       "      <td>(3, 4)</td>\n",
       "      <td>english</td>\n",
       "      <td>1.0</td>\n",
       "      <td>{'cvec__max_df': 0.85, 'cvec__max_features': 3...</td>\n",
       "      <td>0.914302</td>\n",
       "      <td>0.918817</td>\n",
       "      <td>0.918536</td>\n",
       "      <td>0.917218</td>\n",
       "      <td>0.002065</td>\n",
       "      <td>1</td>\n",
       "    </tr>\n",
       "    <tr>\n",
       "      <th>10</th>\n",
       "      <td>15.708008</td>\n",
       "      <td>0.170712</td>\n",
       "      <td>2.080356</td>\n",
       "      <td>0.020062</td>\n",
       "      <td>0.9</td>\n",
       "      <td>30000</td>\n",
       "      <td>2</td>\n",
       "      <td>(3, 4)</td>\n",
       "      <td>english</td>\n",
       "      <td>1.0</td>\n",
       "      <td>{'cvec__max_df': 0.9, 'cvec__max_features': 30...</td>\n",
       "      <td>0.914302</td>\n",
       "      <td>0.918817</td>\n",
       "      <td>0.918536</td>\n",
       "      <td>0.917218</td>\n",
       "      <td>0.002065</td>\n",
       "      <td>1</td>\n",
       "    </tr>\n",
       "    <tr>\n",
       "      <th>20</th>\n",
       "      <td>13.772038</td>\n",
       "      <td>0.028779</td>\n",
       "      <td>1.878344</td>\n",
       "      <td>0.022811</td>\n",
       "      <td>0.95</td>\n",
       "      <td>30000</td>\n",
       "      <td>2</td>\n",
       "      <td>(3, 4)</td>\n",
       "      <td>english</td>\n",
       "      <td>1.0</td>\n",
       "      <td>{'cvec__max_df': 0.95, 'cvec__max_features': 3...</td>\n",
       "      <td>0.914302</td>\n",
       "      <td>0.918817</td>\n",
       "      <td>0.918536</td>\n",
       "      <td>0.917218</td>\n",
       "      <td>0.002065</td>\n",
       "      <td>1</td>\n",
       "    </tr>\n",
       "    <tr>\n",
       "      <th>1</th>\n",
       "      <td>15.670669</td>\n",
       "      <td>0.176149</td>\n",
       "      <td>1.741978</td>\n",
       "      <td>0.065675</td>\n",
       "      <td>0.85</td>\n",
       "      <td>30000</td>\n",
       "      <td>2</td>\n",
       "      <td>(3, 4)</td>\n",
       "      <td>english</td>\n",
       "      <td>3.25</td>\n",
       "      <td>{'cvec__max_df': 0.85, 'cvec__max_features': 3...</td>\n",
       "      <td>0.914102</td>\n",
       "      <td>0.917776</td>\n",
       "      <td>0.919585</td>\n",
       "      <td>0.917154</td>\n",
       "      <td>0.002281</td>\n",
       "      <td>4</td>\n",
       "    </tr>\n",
       "    <tr>\n",
       "      <th>21</th>\n",
       "      <td>13.790376</td>\n",
       "      <td>0.123064</td>\n",
       "      <td>1.597432</td>\n",
       "      <td>0.143768</td>\n",
       "      <td>0.95</td>\n",
       "      <td>30000</td>\n",
       "      <td>2</td>\n",
       "      <td>(3, 4)</td>\n",
       "      <td>english</td>\n",
       "      <td>3.25</td>\n",
       "      <td>{'cvec__max_df': 0.95, 'cvec__max_features': 3...</td>\n",
       "      <td>0.914102</td>\n",
       "      <td>0.917776</td>\n",
       "      <td>0.919585</td>\n",
       "      <td>0.917154</td>\n",
       "      <td>0.002281</td>\n",
       "      <td>4</td>\n",
       "    </tr>\n",
       "  </tbody>\n",
       "</table>\n",
       "</div>"
      ],
      "text/plain": [
       "    mean_fit_time  std_fit_time  mean_score_time  std_score_time  \\\n",
       "0       15.916169      0.114318         1.705263        0.023190   \n",
       "10      15.708008      0.170712         2.080356        0.020062   \n",
       "20      13.772038      0.028779         1.878344        0.022811   \n",
       "1       15.670669      0.176149         1.741978        0.065675   \n",
       "21      13.790376      0.123064         1.597432        0.143768   \n",
       "\n",
       "   param_cvec__max_df param_cvec__max_features param_cvec__min_df  \\\n",
       "0                0.85                    30000                  2   \n",
       "10                0.9                    30000                  2   \n",
       "20               0.95                    30000                  2   \n",
       "1                0.85                    30000                  2   \n",
       "21               0.95                    30000                  2   \n",
       "\n",
       "   param_cvec__ngram_range param_cvec__stop_words param_nb__alpha  \\\n",
       "0                   (3, 4)                english             1.0   \n",
       "10                  (3, 4)                english             1.0   \n",
       "20                  (3, 4)                english             1.0   \n",
       "1                   (3, 4)                english            3.25   \n",
       "21                  (3, 4)                english            3.25   \n",
       "\n",
       "                                               params  split0_test_score  \\\n",
       "0   {'cvec__max_df': 0.85, 'cvec__max_features': 3...           0.914302   \n",
       "10  {'cvec__max_df': 0.9, 'cvec__max_features': 30...           0.914302   \n",
       "20  {'cvec__max_df': 0.95, 'cvec__max_features': 3...           0.914302   \n",
       "1   {'cvec__max_df': 0.85, 'cvec__max_features': 3...           0.914102   \n",
       "21  {'cvec__max_df': 0.95, 'cvec__max_features': 3...           0.914102   \n",
       "\n",
       "    split1_test_score  split2_test_score  mean_test_score  std_test_score  \\\n",
       "0            0.918817           0.918536         0.917218        0.002065   \n",
       "10           0.918817           0.918536         0.917218        0.002065   \n",
       "20           0.918817           0.918536         0.917218        0.002065   \n",
       "1            0.917776           0.919585         0.917154        0.002281   \n",
       "21           0.917776           0.919585         0.917154        0.002281   \n",
       "\n",
       "    rank_test_score  \n",
       "0                 1  \n",
       "10                1  \n",
       "20                1  \n",
       "1                 4  \n",
       "21                4  "
      ]
     },
     "execution_count": 244,
     "metadata": {},
     "output_type": "execute_result"
    }
   ],
   "source": [
    "#top 5 paramters ranked by test score.\n",
    "pd.DataFrame(gs_M1.cv_results_).sort_values(\"rank_test_score\").head()"
   ]
  },
  {
   "cell_type": "markdown",
   "id": "6cea12b3-decd-4a21-a86d-33e1f2fb7458",
   "metadata": {},
   "source": [
    "#### Pickle"
   ]
  },
  {
   "cell_type": "markdown",
   "id": "b4fad872-6340-4404-b96a-904aa6bbaf98",
   "metadata": {},
   "source": [
    "Pickle cells are marked with hashtag to prevent accidental saving/loading since it is not necessary to run but an option for import and exporting the models to save on time for future use e.g. in produciton or revisting the notebook without refitting the model.\n",
    "This is the only explanation markdown regarding pickle cells. \n",
    "It is the users perogative to activate as necessary."
   ]
  },
  {
   "cell_type": "code",
   "execution_count": 21,
   "id": "aYxkCLxhtqw5",
   "metadata": {
    "id": "aYxkCLxhtqw5"
   },
   "outputs": [],
   "source": [
    "##export pickle\n",
    "#if not os.path.exists('pkl/'):\n",
    "#    os.makedirs('pkl/')\n",
    "#\n",
    "#pickle.dump(gs_M1, open('pkl/gs_M1.pkl', 'wb'))\n",
    "#pickle.dump(pipe_M1, open('pkl/pipe_M1.pkl', 'wb'))"
   ]
  },
  {
   "cell_type": "code",
   "execution_count": 22,
   "id": "oGb8ViwPtqw7",
   "metadata": {
    "id": "oGb8ViwPtqw7"
   },
   "outputs": [],
   "source": [
    "#import pickle\n",
    "\n",
    "#gs_M1 = pickle.load(open('pkl/gs_M1.pkl', 'rb'))\n",
    "#pipe_M1 = pickle.load(open('pkl/gs_M1.pkl', 'rb'))"
   ]
  },
  {
   "cell_type": "markdown",
   "id": "mhuHaayMXfxJ",
   "metadata": {
    "id": "mhuHaayMXfxJ"
   },
   "source": [
    "### Scoring evaluation\n",
    " - f1_score is used to balance the scoring of both side since it is the harmonic mean between precision and recall and in this case is a way to deal with the trade-off from trying to balance higher recall and higher precision without sacrificing ther other too much\n",
    "     - Accuracy not used before of the data imbalance which will easily skew the results since it is unable to distinguish between false positives and false negatives.\n",
    " - Matthews Correlation Coefficient (MCC) (a.k.a. phi-coefficient) is also used in conjuction to help ensure that the scoring is symmetric while precision and recall are maximised and monitoered via f1 scores.\n",
    "     - This works by treating a binary classification problem as a multi-class problem with 2 classes\n",
    "     - Since precision, and recall, and F1-score are asymmetric, while MCC MCC takes into account all four values in the confusion matrix, it remain symmetric."
   ]
  },
  {
   "cell_type": "code",
   "execution_count": 23,
   "id": "FFlgCKW8XfxK",
   "metadata": {
    "colab": {
     "base_uri": "https://localhost:8080/",
     "height": 832
    },
    "executionInfo": {
     "elapsed": 8795,
     "status": "ok",
     "timestamp": 1691391919925,
     "user": {
      "displayName": "Benjamin Seah",
      "userId": "10807984017160968891"
     },
     "user_tz": -480
    },
    "id": "FFlgCKW8XfxK",
    "outputId": "6d8a6e5b-4744-4c22-e678-cfb520ee619d"
   },
   "outputs": [
    {
     "name": "stdout",
     "output_type": "stream",
     "text": [
      "Best estimator from gridsearch: Pipeline(steps=[('cvec',\n",
      "                 CountVectorizer(max_df=0.85, max_features=30000, min_df=2,\n",
      "                                 ngram_range=(3, 4), stop_words='english')),\n",
      "                ('nb', MultinomialNB())])\n",
      "_________________________________________\n",
      "Score metrics of train data:\n",
      "----------------------------------------\n",
      "Accuracy score (Predictive Value): 0.9250\n",
      "Specificity (True Negative Rate) score: 0.8400\n",
      "Sensitivity (True Positive Rate) score: 0.9451\n",
      "Precision (Positive Predictive Value) score: 0.9615\n",
      "F1 score: 0.9533\n",
      "MCC score (phi-coefficient): 0.7649\n",
      "\n",
      "__________________________________________________\n",
      " Score metrics of test data:\n",
      "----------------------------------------\n",
      "Accuracy score (Predictive Value): 0.8603\n",
      "Specificity (True Negative Rate) score: 0.5910\n",
      "Sensitivity (True Positive Rate) score: 0.9240\n",
      "Precision (Positive Predictive Value) score: 0.9053\n",
      "F1 score: 0.9145\n",
      "MCC score (phi-coefficient): 0.5336\n",
      "__________________________________________________\n"
     ]
    },
    {
     "data": {
      "image/png": "[encoded data removed]",
      "text/plain": [
       "<Figure size 640x480 with 2 Axes>"
      ]
     },
     "metadata": {},
     "output_type": "display_data"
    }
   ],
   "source": [
    "#scores for evaluation\n",
    "evaluator(gs_M1)"
   ]
  },
  {
   "cell_type": "markdown",
   "id": "wcsTANyUXfxK",
   "metadata": {
    "id": "wcsTANyUXfxK"
   },
   "source": [
    "As evident above, the main f1 score seems rather good at 91.45% with some overfit of almost 4%. This is due to overfitting with particularly with precision.\n",
    "The secondary MCC score is around 53% and has quite significant over fit at around 23% which is quite severe and directs out attention to the false postives. \n",
    "Indeed, there is a relatively higher occurences of a false positives (top right quadrant) where ppapers from low_HI journal is wrongly predicted to be from high_HI journals. This is also likely to be an impact of an unbalanced data set so we can consider exploring other models to try and minimise the false negatives while maintaning the F1 score as far as possible."
   ]
  },
  {
   "cell_type": "markdown",
   "id": "177682e6-6ae6-441d-a287-556a55660d32",
   "metadata": {
    "id": "177682e6-6ae6-441d-a287-556a55660d32"
   },
   "source": [
    "## Method 2: TF-IDF Vectorizer + Multinomial naive Bayes\n",
    "- TF-IDF Vectorizer is used to determine if assigning heavier weightage to less common words and lower weightage to more commons words would help to improve the score.\n",
    "    - Parameters are kept the same for comparison\n",
    "- MultinomialNB is also kept the same for direct comparison. This is even though TF-IDF vectorising gives fractions while MultinomialNB is supposed to use positive integers. However, the [documentation](https://scikit-learn.org/stable/modules/generated/sklearn.naive_bayes.MultinomialNB.html#sklearn.naive_bayes.MultinomialNB) does mention that \"in practice, fractional counts such as tf-idf may also work.\""
   ]
  },
  {
   "cell_type": "markdown",
   "id": "402a8556-c34c-4316-a76e-30edef563b49",
   "metadata": {
    "id": "402a8556-c34c-4316-a76e-30edef563b49"
   },
   "source": [
    "### Modeling\n"
   ]
  },
  {
   "cell_type": "code",
   "execution_count": 26,
   "id": "bdf24dfe-20d5-47da-9436-bf08a19cbaf0",
   "metadata": {
    "id": "bdf24dfe-20d5-47da-9436-bf08a19cbaf0"
   },
   "outputs": [],
   "source": [
    "#Set up a pipeline\n",
    "pipe_M2 = Pipeline([('tvec', TfidfVectorizer()),\n",
    "                    ('nb', MultinomialNB())\n",
    "                   ])"
   ]
  },
  {
   "cell_type": "code",
   "execution_count": 27,
   "id": "d966070e-8f26-4cf3-8a01-f9d35ba22a34",
   "metadata": {
    "id": "d966070e-8f26-4cf3-8a01-f9d35ba22a34"
   },
   "outputs": [],
   "source": [
    "#Set pipline parameters\n",
    "pipe_M2_params = {'tvec__max_features': [30000],   #max features for considering after finetuning in the background\n",
    "                  'tvec__min_df': [2, 3],\n",
    "                  'tvec__max_df': [.85, .9, .95],\n",
    "                  'tvec__stop_words': ['english'],\n",
    "                  'tvec__ngram_range': [(3, 4)],   #min number ngrams for considering after finetuning in the background\n",
    "                  'nb__alpha': np.linspace(1,10,5)\n",
    "                 }"
   ]
  },
  {
   "cell_type": "code",
   "execution_count": 28,
   "id": "b312a519-2552-44dc-9c26-a601f501dcdf",
   "metadata": {
    "id": "b312a519-2552-44dc-9c26-a601f501dcdf"
   },
   "outputs": [],
   "source": [
    "# Instantiate GridSearchCV.\n",
    "gs_M2 = GridSearchCV(pipe_M2,                     # what object are we optimizing?\n",
    "                     param_grid = pipe_M2_params, # what parameters values are we searching?\n",
    "                     cv=3,                        # 3-fold cross-validation.\n",
    "                     scoring = 'f1',              # balanced to check both precision and recall \n",
    "                     n_jobs = -2,\n",
    "                     verbose = 10\n",
    "                    )"
   ]
  },
  {
   "cell_type": "code",
   "execution_count": 29,
   "id": "8e5eac84-9f81-4908-addc-2d82764f5fdc",
   "metadata": {
    "colab": {
     "base_uri": "https://localhost:8080/",
     "height": 152
    },
    "executionInfo": {
     "elapsed": 939201,
     "status": "ok",
     "timestamp": 1691393306099,
     "user": {
      "displayName": "Benjamin Seah",
      "userId": "10807984017160968891"
     },
     "user_tz": -480
    },
    "id": "8e5eac84-9f81-4908-addc-2d82764f5fdc",
    "outputId": "7a92e3ef-62b4-403d-d343-46dcdba49d71"
   },
   "outputs": [
    {
     "name": "stdout",
     "output_type": "stream",
     "text": [
      "Fitting 3 folds for each of 30 candidates, totalling 90 fits\n"
     ]
    },
    {
     "data": {
      "text/html": [
       "<style>#sk-container-id-2 {color: black;}#sk-container-id-2 pre{padding: 0;}#sk-container-id-2 div.sk-toggleable {background-color: white;}#sk-container-id-2 label.sk-toggleable__label {cursor: pointer;display: block;width: 100%;margin-bottom: 0;padding: 0.3em;box-sizing: border-box;text-align: center;}#sk-container-id-2 label.sk-toggleable__label-arrow:before {content: \"▸\";float: left;margin-right: 0.25em;color: #696969;}#sk-container-id-2 label.sk-toggleable__label-arrow:hover:before {color: black;}#sk-container-id-2 div.sk-estimator:hover label.sk-toggleable__label-arrow:before {color: black;}#sk-container-id-2 div.sk-toggleable__content {max-height: 0;max-width: 0;overflow: hidden;text-align: left;background-color: #f0f8ff;}#sk-container-id-2 div.sk-toggleable__content pre {margin: 0.2em;color: black;border-radius: 0.25em;background-color: #f0f8ff;}#sk-container-id-2 input.sk-toggleable__control:checked~div.sk-toggleable__content {max-height: 200px;max-width: 100%;overflow: auto;}#sk-container-id-2 input.sk-toggleable__control:checked~label.sk-toggleable__label-arrow:before {content: \"▾\";}#sk-container-id-2 div.sk-estimator input.sk-toggleable__control:checked~label.sk-toggleable__label {background-color: #d4ebff;}#sk-container-id-2 div.sk-label input.sk-toggleable__control:checked~label.sk-toggleable__label {background-color: #d4ebff;}#sk-container-id-2 input.sk-hidden--visually {border: 0;clip: rect(1px 1px 1px 1px);clip: rect(1px, 1px, 1px, 1px);height: 1px;margin: -1px;overflow: hidden;padding: 0;position: absolute;width: 1px;}#sk-container-id-2 div.sk-estimator {font-family: monospace;background-color: #f0f8ff;border: 1px dotted black;border-radius: 0.25em;box-sizing: border-box;margin-bottom: 0.5em;}#sk-container-id-2 div.sk-estimator:hover {background-color: #d4ebff;}#sk-container-id-2 div.sk-parallel-item::after {content: \"\";width: 100%;border-bottom: 1px solid gray;flex-grow: 1;}#sk-container-id-2 div.sk-label:hover label.sk-toggleable__label {background-color: #d4ebff;}#sk-container-id-2 div.sk-serial::before {content: \"\";position: absolute;border-left: 1px solid gray;box-sizing: border-box;top: 0;bottom: 0;left: 50%;z-index: 0;}#sk-container-id-2 div.sk-serial {display: flex;flex-direction: column;align-items: center;background-color: white;padding-right: 0.2em;padding-left: 0.2em;position: relative;}#sk-container-id-2 div.sk-item {position: relative;z-index: 1;}#sk-container-id-2 div.sk-parallel {display: flex;align-items: stretch;justify-content: center;background-color: white;position: relative;}#sk-container-id-2 div.sk-item::before, #sk-container-id-2 div.sk-parallel-item::before {content: \"\";position: absolute;border-left: 1px solid gray;box-sizing: border-box;top: 0;bottom: 0;left: 50%;z-index: -1;}#sk-container-id-2 div.sk-parallel-item {display: flex;flex-direction: column;z-index: 1;position: relative;background-color: white;}#sk-container-id-2 div.sk-parallel-item:first-child::after {align-self: flex-end;width: 50%;}#sk-container-id-2 div.sk-parallel-item:last-child::after {align-self: flex-start;width: 50%;}#sk-container-id-2 div.sk-parallel-item:only-child::after {width: 0;}#sk-container-id-2 div.sk-dashed-wrapped {border: 1px dashed gray;margin: 0 0.4em 0.5em 0.4em;box-sizing: border-box;padding-bottom: 0.4em;background-color: white;}#sk-container-id-2 div.sk-label label {font-family: monospace;font-weight: bold;display: inline-block;line-height: 1.2em;}#sk-container-id-2 div.sk-label-container {text-align: center;}#sk-container-id-2 div.sk-container {/* jupyter's `normalize.less` sets `[hidden] { display: none; }` but bootstrap.min.css set `[hidden] { display: none !important; }` so we also need the `!important` here to be able to override the default hidden behavior on the sphinx rendered scikit-learn.org. See: https://github.com/scikit-learn/scikit-learn/issues/21755 */display: inline-block !important;position: relative;}#sk-container-id-2 div.sk-text-repr-fallback {display: none;}</style><div id=\"sk-container-id-2\" class=\"sk-top-container\"><div class=\"sk-text-repr-fallback\"><pre>GridSearchCV(cv=3,\n",
       "             estimator=Pipeline(steps=[(&#x27;tvec&#x27;, TfidfVectorizer()),\n",
       "                                       (&#x27;nb&#x27;, MultinomialNB())]),\n",
       "             n_jobs=-2,\n",
       "             param_grid={&#x27;nb__alpha&#x27;: array([ 1.  ,  3.25,  5.5 ,  7.75, 10.  ]),\n",
       "                         &#x27;tvec__max_df&#x27;: [0.85, 0.9, 0.95],\n",
       "                         &#x27;tvec__max_features&#x27;: [30000], &#x27;tvec__min_df&#x27;: [2, 3],\n",
       "                         &#x27;tvec__ngram_range&#x27;: [(3, 4)],\n",
       "                         &#x27;tvec__stop_words&#x27;: [&#x27;english&#x27;]},\n",
       "             scoring=&#x27;f1&#x27;, verbose=10)</pre><b>In a Jupyter environment, please rerun this cell to show the HTML representation or trust the notebook. <br />On GitHub, the HTML representation is unable to render, please try loading this page with nbviewer.org.</b></div><div class=\"sk-container\" hidden><div class=\"sk-item sk-dashed-wrapped\"><div class=\"sk-label-container\"><div class=\"sk-label sk-toggleable\"><input class=\"sk-toggleable__control sk-hidden--visually\" id=\"sk-estimator-id-5\" type=\"checkbox\" ><label for=\"sk-estimator-id-5\" class=\"sk-toggleable__label sk-toggleable__label-arrow\">GridSearchCV</label><div class=\"sk-toggleable__content\"><pre>GridSearchCV(cv=3,\n",
       "             estimator=Pipeline(steps=[(&#x27;tvec&#x27;, TfidfVectorizer()),\n",
       "                                       (&#x27;nb&#x27;, MultinomialNB())]),\n",
       "             n_jobs=-2,\n",
       "             param_grid={&#x27;nb__alpha&#x27;: array([ 1.  ,  3.25,  5.5 ,  7.75, 10.  ]),\n",
       "                         &#x27;tvec__max_df&#x27;: [0.85, 0.9, 0.95],\n",
       "                         &#x27;tvec__max_features&#x27;: [30000], &#x27;tvec__min_df&#x27;: [2, 3],\n",
       "                         &#x27;tvec__ngram_range&#x27;: [(3, 4)],\n",
       "                         &#x27;tvec__stop_words&#x27;: [&#x27;english&#x27;]},\n",
       "             scoring=&#x27;f1&#x27;, verbose=10)</pre></div></div></div><div class=\"sk-parallel\"><div class=\"sk-parallel-item\"><div class=\"sk-item\"><div class=\"sk-label-container\"><div class=\"sk-label sk-toggleable\"><input class=\"sk-toggleable__control sk-hidden--visually\" id=\"sk-estimator-id-6\" type=\"checkbox\" ><label for=\"sk-estimator-id-6\" class=\"sk-toggleable__label sk-toggleable__label-arrow\">estimator: Pipeline</label><div class=\"sk-toggleable__content\"><pre>Pipeline(steps=[(&#x27;tvec&#x27;, TfidfVectorizer()), (&#x27;nb&#x27;, MultinomialNB())])</pre></div></div></div><div class=\"sk-serial\"><div class=\"sk-item\"><div class=\"sk-serial\"><div class=\"sk-item\"><div class=\"sk-estimator sk-toggleable\"><input class=\"sk-toggleable__control sk-hidden--visually\" id=\"sk-estimator-id-7\" type=\"checkbox\" ><label for=\"sk-estimator-id-7\" class=\"sk-toggleable__label sk-toggleable__label-arrow\">TfidfVectorizer</label><div class=\"sk-toggleable__content\"><pre>TfidfVectorizer()</pre></div></div></div><div class=\"sk-item\"><div class=\"sk-estimator sk-toggleable\"><input class=\"sk-toggleable__control sk-hidden--visually\" id=\"sk-estimator-id-8\" type=\"checkbox\" ><label for=\"sk-estimator-id-8\" class=\"sk-toggleable__label sk-toggleable__label-arrow\">MultinomialNB</label><div class=\"sk-toggleable__content\"><pre>MultinomialNB()</pre></div></div></div></div></div></div></div></div></div></div></div></div>"
      ],
      "text/plain": [
       "GridSearchCV(cv=3,\n",
       "             estimator=Pipeline(steps=[('tvec', TfidfVectorizer()),\n",
       "                                       ('nb', MultinomialNB())]),\n",
       "             n_jobs=-2,\n",
       "             param_grid={'nb__alpha': array([ 1.  ,  3.25,  5.5 ,  7.75, 10.  ]),\n",
       "                         'tvec__max_df': [0.85, 0.9, 0.95],\n",
       "                         'tvec__max_features': [30000], 'tvec__min_df': [2, 3],\n",
       "                         'tvec__ngram_range': [(3, 4)],\n",
       "                         'tvec__stop_words': ['english']},\n",
       "             scoring='f1', verbose=10)"
      ]
     },
     "execution_count": 29,
     "metadata": {},
     "output_type": "execute_result"
    }
   ],
   "source": [
    "# Fit GridSearch to training data.\n",
    "gs_M2.fit(X_train, y_train)"
   ]
  },
  {
   "cell_type": "code",
   "execution_count": 243,
   "id": "d9a74de9-278a-4ffe-bf42-766e1205e682",
   "metadata": {},
   "outputs": [
    {
     "data": {
      "text/html": [
       "<div>\n",
       "<style scoped>\n",
       "    .dataframe tbody tr th:only-of-type {\n",
       "        vertical-align: middle;\n",
       "    }\n",
       "\n",
       "    .dataframe tbody tr th {\n",
       "        vertical-align: top;\n",
       "    }\n",
       "\n",
       "    .dataframe thead th {\n",
       "        text-align: right;\n",
       "    }\n",
       "</style>\n",
       "<table border=\"1\" class=\"dataframe\">\n",
       "  <thead>\n",
       "    <tr style=\"text-align: right;\">\n",
       "      <th></th>\n",
       "      <th>mean_fit_time</th>\n",
       "      <th>std_fit_time</th>\n",
       "      <th>mean_score_time</th>\n",
       "      <th>std_score_time</th>\n",
       "      <th>param_nb__alpha</th>\n",
       "      <th>param_tvec__max_df</th>\n",
       "      <th>param_tvec__max_features</th>\n",
       "      <th>param_tvec__min_df</th>\n",
       "      <th>param_tvec__ngram_range</th>\n",
       "      <th>param_tvec__stop_words</th>\n",
       "      <th>params</th>\n",
       "      <th>split0_test_score</th>\n",
       "      <th>split1_test_score</th>\n",
       "      <th>split2_test_score</th>\n",
       "      <th>mean_test_score</th>\n",
       "      <th>std_test_score</th>\n",
       "      <th>rank_test_score</th>\n",
       "    </tr>\n",
       "  </thead>\n",
       "  <tbody>\n",
       "    <tr>\n",
       "      <th>1</th>\n",
       "      <td>15.275370</td>\n",
       "      <td>0.053046</td>\n",
       "      <td>1.613583</td>\n",
       "      <td>0.071422</td>\n",
       "      <td>1.0</td>\n",
       "      <td>0.85</td>\n",
       "      <td>30000</td>\n",
       "      <td>3</td>\n",
       "      <td>(3, 4)</td>\n",
       "      <td>english</td>\n",
       "      <td>{'nb__alpha': 1.0, 'tvec__max_df': 0.85, 'tvec...</td>\n",
       "      <td>0.913604</td>\n",
       "      <td>0.914841</td>\n",
       "      <td>0.919313</td>\n",
       "      <td>0.915919</td>\n",
       "      <td>0.002452</td>\n",
       "      <td>1</td>\n",
       "    </tr>\n",
       "    <tr>\n",
       "      <th>3</th>\n",
       "      <td>13.848892</td>\n",
       "      <td>0.145822</td>\n",
       "      <td>1.862295</td>\n",
       "      <td>0.016581</td>\n",
       "      <td>1.0</td>\n",
       "      <td>0.9</td>\n",
       "      <td>30000</td>\n",
       "      <td>3</td>\n",
       "      <td>(3, 4)</td>\n",
       "      <td>english</td>\n",
       "      <td>{'nb__alpha': 1.0, 'tvec__max_df': 0.9, 'tvec_...</td>\n",
       "      <td>0.913604</td>\n",
       "      <td>0.914841</td>\n",
       "      <td>0.919313</td>\n",
       "      <td>0.915919</td>\n",
       "      <td>0.002452</td>\n",
       "      <td>1</td>\n",
       "    </tr>\n",
       "    <tr>\n",
       "      <th>5</th>\n",
       "      <td>14.130461</td>\n",
       "      <td>0.068989</td>\n",
       "      <td>1.918645</td>\n",
       "      <td>0.038111</td>\n",
       "      <td>1.0</td>\n",
       "      <td>0.95</td>\n",
       "      <td>30000</td>\n",
       "      <td>3</td>\n",
       "      <td>(3, 4)</td>\n",
       "      <td>english</td>\n",
       "      <td>{'nb__alpha': 1.0, 'tvec__max_df': 0.95, 'tvec...</td>\n",
       "      <td>0.913604</td>\n",
       "      <td>0.914841</td>\n",
       "      <td>0.919313</td>\n",
       "      <td>0.915919</td>\n",
       "      <td>0.002452</td>\n",
       "      <td>1</td>\n",
       "    </tr>\n",
       "    <tr>\n",
       "      <th>0</th>\n",
       "      <td>15.198498</td>\n",
       "      <td>0.189327</td>\n",
       "      <td>1.591513</td>\n",
       "      <td>0.040434</td>\n",
       "      <td>1.0</td>\n",
       "      <td>0.85</td>\n",
       "      <td>30000</td>\n",
       "      <td>2</td>\n",
       "      <td>(3, 4)</td>\n",
       "      <td>english</td>\n",
       "      <td>{'nb__alpha': 1.0, 'tvec__max_df': 0.85, 'tvec...</td>\n",
       "      <td>0.909905</td>\n",
       "      <td>0.909239</td>\n",
       "      <td>0.913262</td>\n",
       "      <td>0.910802</td>\n",
       "      <td>0.001761</td>\n",
       "      <td>4</td>\n",
       "    </tr>\n",
       "    <tr>\n",
       "      <th>2</th>\n",
       "      <td>14.094589</td>\n",
       "      <td>0.570826</td>\n",
       "      <td>1.748569</td>\n",
       "      <td>0.101215</td>\n",
       "      <td>1.0</td>\n",
       "      <td>0.9</td>\n",
       "      <td>30000</td>\n",
       "      <td>2</td>\n",
       "      <td>(3, 4)</td>\n",
       "      <td>english</td>\n",
       "      <td>{'nb__alpha': 1.0, 'tvec__max_df': 0.9, 'tvec_...</td>\n",
       "      <td>0.909905</td>\n",
       "      <td>0.909239</td>\n",
       "      <td>0.913262</td>\n",
       "      <td>0.910802</td>\n",
       "      <td>0.001761</td>\n",
       "      <td>4</td>\n",
       "    </tr>\n",
       "  </tbody>\n",
       "</table>\n",
       "</div>"
      ],
      "text/plain": [
       "   mean_fit_time  std_fit_time  mean_score_time  std_score_time  \\\n",
       "1      15.275370      0.053046         1.613583        0.071422   \n",
       "3      13.848892      0.145822         1.862295        0.016581   \n",
       "5      14.130461      0.068989         1.918645        0.038111   \n",
       "0      15.198498      0.189327         1.591513        0.040434   \n",
       "2      14.094589      0.570826         1.748569        0.101215   \n",
       "\n",
       "  param_nb__alpha param_tvec__max_df param_tvec__max_features  \\\n",
       "1             1.0               0.85                    30000   \n",
       "3             1.0                0.9                    30000   \n",
       "5             1.0               0.95                    30000   \n",
       "0             1.0               0.85                    30000   \n",
       "2             1.0                0.9                    30000   \n",
       "\n",
       "  param_tvec__min_df param_tvec__ngram_range param_tvec__stop_words  \\\n",
       "1                  3                  (3, 4)                english   \n",
       "3                  3                  (3, 4)                english   \n",
       "5                  3                  (3, 4)                english   \n",
       "0                  2                  (3, 4)                english   \n",
       "2                  2                  (3, 4)                english   \n",
       "\n",
       "                                              params  split0_test_score  \\\n",
       "1  {'nb__alpha': 1.0, 'tvec__max_df': 0.85, 'tvec...           0.913604   \n",
       "3  {'nb__alpha': 1.0, 'tvec__max_df': 0.9, 'tvec_...           0.913604   \n",
       "5  {'nb__alpha': 1.0, 'tvec__max_df': 0.95, 'tvec...           0.913604   \n",
       "0  {'nb__alpha': 1.0, 'tvec__max_df': 0.85, 'tvec...           0.909905   \n",
       "2  {'nb__alpha': 1.0, 'tvec__max_df': 0.9, 'tvec_...           0.909905   \n",
       "\n",
       "   split1_test_score  split2_test_score  mean_test_score  std_test_score  \\\n",
       "1           0.914841           0.919313         0.915919        0.002452   \n",
       "3           0.914841           0.919313         0.915919        0.002452   \n",
       "5           0.914841           0.919313         0.915919        0.002452   \n",
       "0           0.909239           0.913262         0.910802        0.001761   \n",
       "2           0.909239           0.913262         0.910802        0.001761   \n",
       "\n",
       "   rank_test_score  \n",
       "1                1  \n",
       "3                1  \n",
       "5                1  \n",
       "0                4  \n",
       "2                4  "
      ]
     },
     "execution_count": 243,
     "metadata": {},
     "output_type": "execute_result"
    }
   ],
   "source": [
    "#top 5 paramters ranked by test score.\n",
    "pd.DataFrame(gs_M2.cv_results_).sort_values(\"rank_test_score\").head()"
   ]
  },
  {
   "cell_type": "markdown",
   "id": "6f6bfa2c-dd41-4de8-907d-418722835973",
   "metadata": {},
   "source": [
    "#### Pickle"
   ]
  },
  {
   "cell_type": "code",
   "execution_count": 34,
   "id": "6v04_pugt3J8",
   "metadata": {
    "id": "6v04_pugt3J8"
   },
   "outputs": [],
   "source": [
    "##export pickle\n",
    "#if not os.path.exists('pkl/'):\n",
    "#    os.makedirs('pkl/')\n",
    "#\n",
    "#pickle.dump(gs_M2, open('pkl/gs_M2.pkl', 'wb'))\n",
    "#pickle.dump(pipe_M2, open('pkl/pipe_M2.pkl', 'wb'))"
   ]
  },
  {
   "cell_type": "code",
   "execution_count": 35,
   "id": "qqoSf20pt3KY",
   "metadata": {
    "id": "qqoSf20pt3KY"
   },
   "outputs": [],
   "source": [
    "##import pickle\n",
    "#gs_M2 = pickle.load(open('pkl/gs_M2.pkl', 'rb'))\n",
    "#pipe_M2 = pickle.load(open('pkl/pipe_M2.pkl', 'rb'))\n"
   ]
  },
  {
   "cell_type": "markdown",
   "id": "854aeeeb-373e-424a-89fe-f82f98c77462",
   "metadata": {
    "id": "854aeeeb-373e-424a-89fe-f82f98c77462"
   },
   "source": [
    "### Scoring evaluation\n",
    "Same as method 1\n",
    "- Primary F1 score\n",
    "- secondary MCC"
   ]
  },
  {
   "cell_type": "code",
   "execution_count": 36,
   "id": "zdRkG4BsLfYf",
   "metadata": {
    "colab": {
     "base_uri": "https://localhost:8080/",
     "height": 126
    },
    "executionInfo": {
     "elapsed": 15,
     "status": "ok",
     "timestamp": 1691393306100,
     "user": {
      "displayName": "Benjamin Seah",
      "userId": "10807984017160968891"
     },
     "user_tz": -480
    },
    "id": "zdRkG4BsLfYf",
    "outputId": "30020b30-6aab-4626-bf38-dcd040dff0ba"
   },
   "outputs": [
    {
     "data": {
      "text/html": [
       "<style>#sk-container-id-3 {color: black;}#sk-container-id-3 pre{padding: 0;}#sk-container-id-3 div.sk-toggleable {background-color: white;}#sk-container-id-3 label.sk-toggleable__label {cursor: pointer;display: block;width: 100%;margin-bottom: 0;padding: 0.3em;box-sizing: border-box;text-align: center;}#sk-container-id-3 label.sk-toggleable__label-arrow:before {content: \"▸\";float: left;margin-right: 0.25em;color: #696969;}#sk-container-id-3 label.sk-toggleable__label-arrow:hover:before {color: black;}#sk-container-id-3 div.sk-estimator:hover label.sk-toggleable__label-arrow:before {color: black;}#sk-container-id-3 div.sk-toggleable__content {max-height: 0;max-width: 0;overflow: hidden;text-align: left;background-color: #f0f8ff;}#sk-container-id-3 div.sk-toggleable__content pre {margin: 0.2em;color: black;border-radius: 0.25em;background-color: #f0f8ff;}#sk-container-id-3 input.sk-toggleable__control:checked~div.sk-toggleable__content {max-height: 200px;max-width: 100%;overflow: auto;}#sk-container-id-3 input.sk-toggleable__control:checked~label.sk-toggleable__label-arrow:before {content: \"▾\";}#sk-container-id-3 div.sk-estimator input.sk-toggleable__control:checked~label.sk-toggleable__label {background-color: #d4ebff;}#sk-container-id-3 div.sk-label input.sk-toggleable__control:checked~label.sk-toggleable__label {background-color: #d4ebff;}#sk-container-id-3 input.sk-hidden--visually {border: 0;clip: rect(1px 1px 1px 1px);clip: rect(1px, 1px, 1px, 1px);height: 1px;margin: -1px;overflow: hidden;padding: 0;position: absolute;width: 1px;}#sk-container-id-3 div.sk-estimator {font-family: monospace;background-color: #f0f8ff;border: 1px dotted black;border-radius: 0.25em;box-sizing: border-box;margin-bottom: 0.5em;}#sk-container-id-3 div.sk-estimator:hover {background-color: #d4ebff;}#sk-container-id-3 div.sk-parallel-item::after {content: \"\";width: 100%;border-bottom: 1px solid gray;flex-grow: 1;}#sk-container-id-3 div.sk-label:hover label.sk-toggleable__label {background-color: #d4ebff;}#sk-container-id-3 div.sk-serial::before {content: \"\";position: absolute;border-left: 1px solid gray;box-sizing: border-box;top: 0;bottom: 0;left: 50%;z-index: 0;}#sk-container-id-3 div.sk-serial {display: flex;flex-direction: column;align-items: center;background-color: white;padding-right: 0.2em;padding-left: 0.2em;position: relative;}#sk-container-id-3 div.sk-item {position: relative;z-index: 1;}#sk-container-id-3 div.sk-parallel {display: flex;align-items: stretch;justify-content: center;background-color: white;position: relative;}#sk-container-id-3 div.sk-item::before, #sk-container-id-3 div.sk-parallel-item::before {content: \"\";position: absolute;border-left: 1px solid gray;box-sizing: border-box;top: 0;bottom: 0;left: 50%;z-index: -1;}#sk-container-id-3 div.sk-parallel-item {display: flex;flex-direction: column;z-index: 1;position: relative;background-color: white;}#sk-container-id-3 div.sk-parallel-item:first-child::after {align-self: flex-end;width: 50%;}#sk-container-id-3 div.sk-parallel-item:last-child::after {align-self: flex-start;width: 50%;}#sk-container-id-3 div.sk-parallel-item:only-child::after {width: 0;}#sk-container-id-3 div.sk-dashed-wrapped {border: 1px dashed gray;margin: 0 0.4em 0.5em 0.4em;box-sizing: border-box;padding-bottom: 0.4em;background-color: white;}#sk-container-id-3 div.sk-label label {font-family: monospace;font-weight: bold;display: inline-block;line-height: 1.2em;}#sk-container-id-3 div.sk-label-container {text-align: center;}#sk-container-id-3 div.sk-container {/* jupyter's `normalize.less` sets `[hidden] { display: none; }` but bootstrap.min.css set `[hidden] { display: none !important; }` so we also need the `!important` here to be able to override the default hidden behavior on the sphinx rendered scikit-learn.org. See: https://github.com/scikit-learn/scikit-learn/issues/21755 */display: inline-block !important;position: relative;}#sk-container-id-3 div.sk-text-repr-fallback {display: none;}</style><div id=\"sk-container-id-3\" class=\"sk-top-container\"><div class=\"sk-text-repr-fallback\"><pre>Pipeline(steps=[(&#x27;tvec&#x27;,\n",
       "                 TfidfVectorizer(max_df=0.85, max_features=30000, min_df=3,\n",
       "                                 ngram_range=(3, 4), stop_words=&#x27;english&#x27;)),\n",
       "                (&#x27;nb&#x27;, MultinomialNB())])</pre><b>In a Jupyter environment, please rerun this cell to show the HTML representation or trust the notebook. <br />On GitHub, the HTML representation is unable to render, please try loading this page with nbviewer.org.</b></div><div class=\"sk-container\" hidden><div class=\"sk-item sk-dashed-wrapped\"><div class=\"sk-label-container\"><div class=\"sk-label sk-toggleable\"><input class=\"sk-toggleable__control sk-hidden--visually\" id=\"sk-estimator-id-9\" type=\"checkbox\" ><label for=\"sk-estimator-id-9\" class=\"sk-toggleable__label sk-toggleable__label-arrow\">Pipeline</label><div class=\"sk-toggleable__content\"><pre>Pipeline(steps=[(&#x27;tvec&#x27;,\n",
       "                 TfidfVectorizer(max_df=0.85, max_features=30000, min_df=3,\n",
       "                                 ngram_range=(3, 4), stop_words=&#x27;english&#x27;)),\n",
       "                (&#x27;nb&#x27;, MultinomialNB())])</pre></div></div></div><div class=\"sk-serial\"><div class=\"sk-item\"><div class=\"sk-estimator sk-toggleable\"><input class=\"sk-toggleable__control sk-hidden--visually\" id=\"sk-estimator-id-10\" type=\"checkbox\" ><label for=\"sk-estimator-id-10\" class=\"sk-toggleable__label sk-toggleable__label-arrow\">TfidfVectorizer</label><div class=\"sk-toggleable__content\"><pre>TfidfVectorizer(max_df=0.85, max_features=30000, min_df=3, ngram_range=(3, 4),\n",
       "                stop_words=&#x27;english&#x27;)</pre></div></div></div><div class=\"sk-item\"><div class=\"sk-estimator sk-toggleable\"><input class=\"sk-toggleable__control sk-hidden--visually\" id=\"sk-estimator-id-11\" type=\"checkbox\" ><label for=\"sk-estimator-id-11\" class=\"sk-toggleable__label sk-toggleable__label-arrow\">MultinomialNB</label><div class=\"sk-toggleable__content\"><pre>MultinomialNB()</pre></div></div></div></div></div></div></div>"
      ],
      "text/plain": [
       "Pipeline(steps=[('tvec',\n",
       "                 TfidfVectorizer(max_df=0.85, max_features=30000, min_df=3,\n",
       "                                 ngram_range=(3, 4), stop_words='english')),\n",
       "                ('nb', MultinomialNB())])"
      ]
     },
     "execution_count": 36,
     "metadata": {},
     "output_type": "execute_result"
    }
   ],
   "source": [
    "#get best output from gs\n",
    "gs_M2.best_estimator_"
   ]
  },
  {
   "cell_type": "code",
   "execution_count": 37,
   "id": "xSrqu8OcUBIT",
   "metadata": {
    "colab": {
     "base_uri": "https://localhost:8080/",
     "height": 832
    },
    "executionInfo": {
     "elapsed": 8790,
     "status": "ok",
     "timestamp": 1691393314879,
     "user": {
      "displayName": "Benjamin Seah",
      "userId": "10807984017160968891"
     },
     "user_tz": -480
    },
    "id": "xSrqu8OcUBIT",
    "outputId": "6cab6b38-c3ca-4f50-d62d-7b9c68538a9f"
   },
   "outputs": [
    {
     "name": "stdout",
     "output_type": "stream",
     "text": [
      "Best estimator from gridsearch: Pipeline(steps=[('tvec',\n",
      "                 TfidfVectorizer(max_df=0.85, max_features=30000, min_df=3,\n",
      "                                 ngram_range=(3, 4), stop_words='english')),\n",
      "                ('nb', MultinomialNB())])\n",
      "_________________________________________\n",
      "Score metrics of train data:\n",
      "----------------------------------------\n",
      "Accuracy score (Predictive Value): 0.9092\n",
      "Specificity (True Negative Rate) score: 0.5444\n",
      "Sensitivity (True Positive Rate) score: 0.9954\n",
      "Precision (Positive Predictive Value) score: 0.9023\n",
      "F1 score: 0.9466\n",
      "MCC score (phi-coefficient): 0.6846\n",
      "\n",
      "__________________________________________________\n",
      " Score metrics of test data:\n",
      "----------------------------------------\n",
      "Accuracy score (Predictive Value): 0.8662\n",
      "Specificity (True Negative Rate) score: 0.3257\n",
      "Sensitivity (True Positive Rate) score: 0.9940\n",
      "Precision (Positive Predictive Value) score: 0.8618\n",
      "F1 score: 0.9232\n",
      "MCC score (phi-coefficient): 0.5022\n",
      "__________________________________________________\n"
     ]
    },
    {
     "data": {
      "image/png": "[encoded data removed]",
      "text/plain": [
       "<Figure size 640x480 with 2 Axes>"
      ]
     },
     "metadata": {},
     "output_type": "display_data"
    }
   ],
   "source": [
    "#scores for evaluation\n",
    "evaluator(gs_M2)"
   ]
  },
  {
   "cell_type": "markdown",
   "id": "DgWOi62jXZQP",
   "metadata": {
    "id": "DgWOi62jXZQP"
   },
   "source": [
    "It seems like using the TFID-Vectorizer improved the f1 scores a little from around 91.45% % to almost 92.32% when compared to Count Vectorizer and a lower overfit of around 2.3%. However, it caused the the MCC score to decrease from 53.36 % to 50.22% but reducing the over fit from around 23% to 18%.\n",
    "\n",
    "There is now lower false negatives as can be see with the bottom left quadrant but false positive (top right has increased 1.5 times. This is likely due to TF-IDF Vectorizer assigning heavier weightage to less common words and lower weightage to more commons words or in this case higher ngrams words which are beginning to be more specific to their respective journals. \n",
    "\n",
    "Neverthelss, from understanding the confusion maatrix, the data imbalance is causing the false positives to be quite significant in the entire negative category(low_HI journal). Thus, it would be good to explore other ways such as oversampling and complement Naive Bayes to improve the score and fit."
   ]
  },
  {
   "cell_type": "markdown",
   "id": "35f851e7-9140-4112-9357-72bc0aafbb7c",
   "metadata": {
    "id": "402a8556-c34c-4316-a76e-30edef563b49"
   },
   "source": [
    "### Modeling\n"
   ]
  },
  {
   "cell_type": "code",
   "execution_count": 26,
   "id": "6ec9730d-389e-437a-a187-d9709bf4363a",
   "metadata": {
    "id": "bdf24dfe-20d5-47da-9436-bf08a19cbaf0"
   },
   "outputs": [],
   "source": [
    "#Set up a pipeline\n",
    "pipe_M2 = Pipeline([('tvec', TfidfVectorizer()),\n",
    "                    ('nb', MultinomialNB())\n",
    "                   ])"
   ]
  },
  {
   "cell_type": "code",
   "execution_count": 27,
   "id": "7e375ffe-81f9-41c8-ba2b-4ccdcbfe5dfd",
   "metadata": {
    "id": "d966070e-8f26-4cf3-8a01-f9d35ba22a34"
   },
   "outputs": [],
   "source": [
    "#Set pipline parameters\n",
    "pipe_M2_params = {'tvec__max_features': [30000],   #max features for considering after finetuning in the background\n",
    "                  'tvec__min_df': [2, 3],\n",
    "                  'tvec__max_df': [.85, .9, .95],\n",
    "                  'tvec__stop_words': ['english'],\n",
    "                  'tvec__ngram_range': [(3, 4)],   #min number ngrams for considering after finetuning in the background\n",
    "                  'nb__alpha': np.linspace(1,10,5)\n",
    "                 }"
   ]
  },
  {
   "cell_type": "code",
   "execution_count": 28,
   "id": "4bbf9300-521a-4b2a-bd1b-7d4f75cf4030",
   "metadata": {
    "id": "b312a519-2552-44dc-9c26-a601f501dcdf"
   },
   "outputs": [],
   "source": [
    "# Instantiate GridSearchCV.\n",
    "gs_M2 = GridSearchCV(pipe_M2,                     # what object are we optimizing?\n",
    "                     param_grid = pipe_M2_params, # what parameters values are we searching?\n",
    "                     cv=3,                        # 3-fold cross-validation.\n",
    "                     scoring = 'f1',              # balanced to check both precision and recall \n",
    "                     n_jobs = -2,\n",
    "                     verbose = 10\n",
    "                    )"
   ]
  },
  {
   "cell_type": "code",
   "execution_count": 29,
   "id": "0d5ecc35-a9a9-4eaa-a05a-492980ade2f2",
   "metadata": {
    "colab": {
     "base_uri": "https://localhost:8080/",
     "height": 152
    },
    "executionInfo": {
     "elapsed": 939201,
     "status": "ok",
     "timestamp": 1691393306099,
     "user": {
      "displayName": "Benjamin Seah",
      "userId": "10807984017160968891"
     },
     "user_tz": -480
    },
    "id": "8e5eac84-9f81-4908-addc-2d82764f5fdc",
    "outputId": "7a92e3ef-62b4-403d-d343-46dcdba49d71"
   },
   "outputs": [
    {
     "name": "stdout",
     "output_type": "stream",
     "text": [
      "Fitting 3 folds for each of 30 candidates, totalling 90 fits\n"
     ]
    },
    {
     "data": {
      "text/html": [
       "<style>#sk-container-id-2 {color: black;}#sk-container-id-2 pre{padding: 0;}#sk-container-id-2 div.sk-toggleable {background-color: white;}#sk-container-id-2 label.sk-toggleable__label {cursor: pointer;display: block;width: 100%;margin-bottom: 0;padding: 0.3em;box-sizing: border-box;text-align: center;}#sk-container-id-2 label.sk-toggleable__label-arrow:before {content: \"▸\";float: left;margin-right: 0.25em;color: #696969;}#sk-container-id-2 label.sk-toggleable__label-arrow:hover:before {color: black;}#sk-container-id-2 div.sk-estimator:hover label.sk-toggleable__label-arrow:before {color: black;}#sk-container-id-2 div.sk-toggleable__content {max-height: 0;max-width: 0;overflow: hidden;text-align: left;background-color: #f0f8ff;}#sk-container-id-2 div.sk-toggleable__content pre {margin: 0.2em;color: black;border-radius: 0.25em;background-color: #f0f8ff;}#sk-container-id-2 input.sk-toggleable__control:checked~div.sk-toggleable__content {max-height: 200px;max-width: 100%;overflow: auto;}#sk-container-id-2 input.sk-toggleable__control:checked~label.sk-toggleable__label-arrow:before {content: \"▾\";}#sk-container-id-2 div.sk-estimator input.sk-toggleable__control:checked~label.sk-toggleable__label {background-color: #d4ebff;}#sk-container-id-2 div.sk-label input.sk-toggleable__control:checked~label.sk-toggleable__label {background-color: #d4ebff;}#sk-container-id-2 input.sk-hidden--visually {border: 0;clip: rect(1px 1px 1px 1px);clip: rect(1px, 1px, 1px, 1px);height: 1px;margin: -1px;overflow: hidden;padding: 0;position: absolute;width: 1px;}#sk-container-id-2 div.sk-estimator {font-family: monospace;background-color: #f0f8ff;border: 1px dotted black;border-radius: 0.25em;box-sizing: border-box;margin-bottom: 0.5em;}#sk-container-id-2 div.sk-estimator:hover {background-color: #d4ebff;}#sk-container-id-2 div.sk-parallel-item::after {content: \"\";width: 100%;border-bottom: 1px solid gray;flex-grow: 1;}#sk-container-id-2 div.sk-label:hover label.sk-toggleable__label {background-color: #d4ebff;}#sk-container-id-2 div.sk-serial::before {content: \"\";position: absolute;border-left: 1px solid gray;box-sizing: border-box;top: 0;bottom: 0;left: 50%;z-index: 0;}#sk-container-id-2 div.sk-serial {display: flex;flex-direction: column;align-items: center;background-color: white;padding-right: 0.2em;padding-left: 0.2em;position: relative;}#sk-container-id-2 div.sk-item {position: relative;z-index: 1;}#sk-container-id-2 div.sk-parallel {display: flex;align-items: stretch;justify-content: center;background-color: white;position: relative;}#sk-container-id-2 div.sk-item::before, #sk-container-id-2 div.sk-parallel-item::before {content: \"\";position: absolute;border-left: 1px solid gray;box-sizing: border-box;top: 0;bottom: 0;left: 50%;z-index: -1;}#sk-container-id-2 div.sk-parallel-item {display: flex;flex-direction: column;z-index: 1;position: relative;background-color: white;}#sk-container-id-2 div.sk-parallel-item:first-child::after {align-self: flex-end;width: 50%;}#sk-container-id-2 div.sk-parallel-item:last-child::after {align-self: flex-start;width: 50%;}#sk-container-id-2 div.sk-parallel-item:only-child::after {width: 0;}#sk-container-id-2 div.sk-dashed-wrapped {border: 1px dashed gray;margin: 0 0.4em 0.5em 0.4em;box-sizing: border-box;padding-bottom: 0.4em;background-color: white;}#sk-container-id-2 div.sk-label label {font-family: monospace;font-weight: bold;display: inline-block;line-height: 1.2em;}#sk-container-id-2 div.sk-label-container {text-align: center;}#sk-container-id-2 div.sk-container {/* jupyter's `normalize.less` sets `[hidden] { display: none; }` but bootstrap.min.css set `[hidden] { display: none !important; }` so we also need the `!important` here to be able to override the default hidden behavior on the sphinx rendered scikit-learn.org. See: https://github.com/scikit-learn/scikit-learn/issues/21755 */display: inline-block !important;position: relative;}#sk-container-id-2 div.sk-text-repr-fallback {display: none;}</style><div id=\"sk-container-id-2\" class=\"sk-top-container\"><div class=\"sk-text-repr-fallback\"><pre>GridSearchCV(cv=3,\n",
       "             estimator=Pipeline(steps=[(&#x27;tvec&#x27;, TfidfVectorizer()),\n",
       "                                       (&#x27;nb&#x27;, MultinomialNB())]),\n",
       "             n_jobs=-2,\n",
       "             param_grid={&#x27;nb__alpha&#x27;: array([ 1.  ,  3.25,  5.5 ,  7.75, 10.  ]),\n",
       "                         &#x27;tvec__max_df&#x27;: [0.85, 0.9, 0.95],\n",
       "                         &#x27;tvec__max_features&#x27;: [30000], &#x27;tvec__min_df&#x27;: [2, 3],\n",
       "                         &#x27;tvec__ngram_range&#x27;: [(3, 4)],\n",
       "                         &#x27;tvec__stop_words&#x27;: [&#x27;english&#x27;]},\n",
       "             scoring=&#x27;f1&#x27;, verbose=10)</pre><b>In a Jupyter environment, please rerun this cell to show the HTML representation or trust the notebook. <br />On GitHub, the HTML representation is unable to render, please try loading this page with nbviewer.org.</b></div><div class=\"sk-container\" hidden><div class=\"sk-item sk-dashed-wrapped\"><div class=\"sk-label-container\"><div class=\"sk-label sk-toggleable\"><input class=\"sk-toggleable__control sk-hidden--visually\" id=\"sk-estimator-id-5\" type=\"checkbox\" ><label for=\"sk-estimator-id-5\" class=\"sk-toggleable__label sk-toggleable__label-arrow\">GridSearchCV</label><div class=\"sk-toggleable__content\"><pre>GridSearchCV(cv=3,\n",
       "             estimator=Pipeline(steps=[(&#x27;tvec&#x27;, TfidfVectorizer()),\n",
       "                                       (&#x27;nb&#x27;, MultinomialNB())]),\n",
       "             n_jobs=-2,\n",
       "             param_grid={&#x27;nb__alpha&#x27;: array([ 1.  ,  3.25,  5.5 ,  7.75, 10.  ]),\n",
       "                         &#x27;tvec__max_df&#x27;: [0.85, 0.9, 0.95],\n",
       "                         &#x27;tvec__max_features&#x27;: [30000], &#x27;tvec__min_df&#x27;: [2, 3],\n",
       "                         &#x27;tvec__ngram_range&#x27;: [(3, 4)],\n",
       "                         &#x27;tvec__stop_words&#x27;: [&#x27;english&#x27;]},\n",
       "             scoring=&#x27;f1&#x27;, verbose=10)</pre></div></div></div><div class=\"sk-parallel\"><div class=\"sk-parallel-item\"><div class=\"sk-item\"><div class=\"sk-label-container\"><div class=\"sk-label sk-toggleable\"><input class=\"sk-toggleable__control sk-hidden--visually\" id=\"sk-estimator-id-6\" type=\"checkbox\" ><label for=\"sk-estimator-id-6\" class=\"sk-toggleable__label sk-toggleable__label-arrow\">estimator: Pipeline</label><div class=\"sk-toggleable__content\"><pre>Pipeline(steps=[(&#x27;tvec&#x27;, TfidfVectorizer()), (&#x27;nb&#x27;, MultinomialNB())])</pre></div></div></div><div class=\"sk-serial\"><div class=\"sk-item\"><div class=\"sk-serial\"><div class=\"sk-item\"><div class=\"sk-estimator sk-toggleable\"><input class=\"sk-toggleable__control sk-hidden--visually\" id=\"sk-estimator-id-7\" type=\"checkbox\" ><label for=\"sk-estimator-id-7\" class=\"sk-toggleable__label sk-toggleable__label-arrow\">TfidfVectorizer</label><div class=\"sk-toggleable__content\"><pre>TfidfVectorizer()</pre></div></div></div><div class=\"sk-item\"><div class=\"sk-estimator sk-toggleable\"><input class=\"sk-toggleable__control sk-hidden--visually\" id=\"sk-estimator-id-8\" type=\"checkbox\" ><label for=\"sk-estimator-id-8\" class=\"sk-toggleable__label sk-toggleable__label-arrow\">MultinomialNB</label><div class=\"sk-toggleable__content\"><pre>MultinomialNB()</pre></div></div></div></div></div></div></div></div></div></div></div></div>"
      ],
      "text/plain": [
       "GridSearchCV(cv=3,\n",
       "             estimator=Pipeline(steps=[('tvec', TfidfVectorizer()),\n",
       "                                       ('nb', MultinomialNB())]),\n",
       "             n_jobs=-2,\n",
       "             param_grid={'nb__alpha': array([ 1.  ,  3.25,  5.5 ,  7.75, 10.  ]),\n",
       "                         'tvec__max_df': [0.85, 0.9, 0.95],\n",
       "                         'tvec__max_features': [30000], 'tvec__min_df': [2, 3],\n",
       "                         'tvec__ngram_range': [(3, 4)],\n",
       "                         'tvec__stop_words': ['english']},\n",
       "             scoring='f1', verbose=10)"
      ]
     },
     "execution_count": 29,
     "metadata": {},
     "output_type": "execute_result"
    }
   ],
   "source": [
    "# Fit GridSearch to training data.\n",
    "gs_M2.fit(X_train, y_train)"
   ]
  },
  {
   "cell_type": "code",
   "execution_count": 30,
   "id": "92ac73d4-ce58-45f8-be51-5d4b3a740ead",
   "metadata": {},
   "outputs": [
    {
     "data": {
      "text/html": [
       "<div>\n",
       "<style scoped>\n",
       "    .dataframe tbody tr th:only-of-type {\n",
       "        vertical-align: middle;\n",
       "    }\n",
       "\n",
       "    .dataframe tbody tr th {\n",
       "        vertical-align: top;\n",
       "    }\n",
       "\n",
       "    .dataframe thead th {\n",
       "        text-align: right;\n",
       "    }\n",
       "</style>\n",
       "<table border=\"1\" class=\"dataframe\">\n",
       "  <thead>\n",
       "    <tr style=\"text-align: right;\">\n",
       "      <th></th>\n",
       "      <th>mean_fit_time</th>\n",
       "      <th>std_fit_time</th>\n",
       "      <th>mean_score_time</th>\n",
       "      <th>std_score_time</th>\n",
       "      <th>param_nb__alpha</th>\n",
       "      <th>param_tvec__max_df</th>\n",
       "      <th>param_tvec__max_features</th>\n",
       "      <th>param_tvec__min_df</th>\n",
       "      <th>param_tvec__ngram_range</th>\n",
       "      <th>param_tvec__stop_words</th>\n",
       "      <th>params</th>\n",
       "      <th>split0_test_score</th>\n",
       "      <th>split1_test_score</th>\n",
       "      <th>split2_test_score</th>\n",
       "      <th>mean_test_score</th>\n",
       "      <th>std_test_score</th>\n",
       "      <th>rank_test_score</th>\n",
       "    </tr>\n",
       "  </thead>\n",
       "  <tbody>\n",
       "    <tr>\n",
       "      <th>1</th>\n",
       "      <td>15.275370</td>\n",
       "      <td>0.053046</td>\n",
       "      <td>1.613583</td>\n",
       "      <td>0.071422</td>\n",
       "      <td>1.0</td>\n",
       "      <td>0.85</td>\n",
       "      <td>30000</td>\n",
       "      <td>3</td>\n",
       "      <td>(3, 4)</td>\n",
       "      <td>english</td>\n",
       "      <td>{'nb__alpha': 1.0, 'tvec__max_df': 0.85, 'tvec...</td>\n",
       "      <td>0.913604</td>\n",
       "      <td>0.914841</td>\n",
       "      <td>0.919313</td>\n",
       "      <td>0.915919</td>\n",
       "      <td>0.002452</td>\n",
       "      <td>1</td>\n",
       "    </tr>\n",
       "    <tr>\n",
       "      <th>3</th>\n",
       "      <td>13.848892</td>\n",
       "      <td>0.145822</td>\n",
       "      <td>1.862295</td>\n",
       "      <td>0.016581</td>\n",
       "      <td>1.0</td>\n",
       "      <td>0.9</td>\n",
       "      <td>30000</td>\n",
       "      <td>3</td>\n",
       "      <td>(3, 4)</td>\n",
       "      <td>english</td>\n",
       "      <td>{'nb__alpha': 1.0, 'tvec__max_df': 0.9, 'tvec_...</td>\n",
       "      <td>0.913604</td>\n",
       "      <td>0.914841</td>\n",
       "      <td>0.919313</td>\n",
       "      <td>0.915919</td>\n",
       "      <td>0.002452</td>\n",
       "      <td>1</td>\n",
       "    </tr>\n",
       "    <tr>\n",
       "      <th>5</th>\n",
       "      <td>14.130461</td>\n",
       "      <td>0.068989</td>\n",
       "      <td>1.918645</td>\n",
       "      <td>0.038111</td>\n",
       "      <td>1.0</td>\n",
       "      <td>0.95</td>\n",
       "      <td>30000</td>\n",
       "      <td>3</td>\n",
       "      <td>(3, 4)</td>\n",
       "      <td>english</td>\n",
       "      <td>{'nb__alpha': 1.0, 'tvec__max_df': 0.95, 'tvec...</td>\n",
       "      <td>0.913604</td>\n",
       "      <td>0.914841</td>\n",
       "      <td>0.919313</td>\n",
       "      <td>0.915919</td>\n",
       "      <td>0.002452</td>\n",
       "      <td>1</td>\n",
       "    </tr>\n",
       "    <tr>\n",
       "      <th>0</th>\n",
       "      <td>15.198498</td>\n",
       "      <td>0.189327</td>\n",
       "      <td>1.591513</td>\n",
       "      <td>0.040434</td>\n",
       "      <td>1.0</td>\n",
       "      <td>0.85</td>\n",
       "      <td>30000</td>\n",
       "      <td>2</td>\n",
       "      <td>(3, 4)</td>\n",
       "      <td>english</td>\n",
       "      <td>{'nb__alpha': 1.0, 'tvec__max_df': 0.85, 'tvec...</td>\n",
       "      <td>0.909905</td>\n",
       "      <td>0.909239</td>\n",
       "      <td>0.913262</td>\n",
       "      <td>0.910802</td>\n",
       "      <td>0.001761</td>\n",
       "      <td>4</td>\n",
       "    </tr>\n",
       "    <tr>\n",
       "      <th>2</th>\n",
       "      <td>14.094589</td>\n",
       "      <td>0.570826</td>\n",
       "      <td>1.748569</td>\n",
       "      <td>0.101215</td>\n",
       "      <td>1.0</td>\n",
       "      <td>0.9</td>\n",
       "      <td>30000</td>\n",
       "      <td>2</td>\n",
       "      <td>(3, 4)</td>\n",
       "      <td>english</td>\n",
       "      <td>{'nb__alpha': 1.0, 'tvec__max_df': 0.9, 'tvec_...</td>\n",
       "      <td>0.909905</td>\n",
       "      <td>0.909239</td>\n",
       "      <td>0.913262</td>\n",
       "      <td>0.910802</td>\n",
       "      <td>0.001761</td>\n",
       "      <td>4</td>\n",
       "    </tr>\n",
       "  </tbody>\n",
       "</table>\n",
       "</div>"
      ],
      "text/plain": [
       "   mean_fit_time  std_fit_time  mean_score_time  std_score_time  \\\n",
       "1      15.275370      0.053046         1.613583        0.071422   \n",
       "3      13.848892      0.145822         1.862295        0.016581   \n",
       "5      14.130461      0.068989         1.918645        0.038111   \n",
       "0      15.198498      0.189327         1.591513        0.040434   \n",
       "2      14.094589      0.570826         1.748569        0.101215   \n",
       "\n",
       "  param_nb__alpha param_tvec__max_df param_tvec__max_features  \\\n",
       "1             1.0               0.85                    30000   \n",
       "3             1.0                0.9                    30000   \n",
       "5             1.0               0.95                    30000   \n",
       "0             1.0               0.85                    30000   \n",
       "2             1.0                0.9                    30000   \n",
       "\n",
       "  param_tvec__min_df param_tvec__ngram_range param_tvec__stop_words  \\\n",
       "1                  3                  (3, 4)                english   \n",
       "3                  3                  (3, 4)                english   \n",
       "5                  3                  (3, 4)                english   \n",
       "0                  2                  (3, 4)                english   \n",
       "2                  2                  (3, 4)                english   \n",
       "\n",
       "                                              params  split0_test_score  \\\n",
       "1  {'nb__alpha': 1.0, 'tvec__max_df': 0.85, 'tvec...           0.913604   \n",
       "3  {'nb__alpha': 1.0, 'tvec__max_df': 0.9, 'tvec_...           0.913604   \n",
       "5  {'nb__alpha': 1.0, 'tvec__max_df': 0.95, 'tvec...           0.913604   \n",
       "0  {'nb__alpha': 1.0, 'tvec__max_df': 0.85, 'tvec...           0.909905   \n",
       "2  {'nb__alpha': 1.0, 'tvec__max_df': 0.9, 'tvec_...           0.909905   \n",
       "\n",
       "   split1_test_score  split2_test_score  mean_test_score  std_test_score  \\\n",
       "1           0.914841           0.919313         0.915919        0.002452   \n",
       "3           0.914841           0.919313         0.915919        0.002452   \n",
       "5           0.914841           0.919313         0.915919        0.002452   \n",
       "0           0.909239           0.913262         0.910802        0.001761   \n",
       "2           0.909239           0.913262         0.910802        0.001761   \n",
       "\n",
       "   rank_test_score  \n",
       "1                1  \n",
       "3                1  \n",
       "5                1  \n",
       "0                4  \n",
       "2                4  "
      ]
     },
     "execution_count": 30,
     "metadata": {},
     "output_type": "execute_result"
    }
   ],
   "source": [
    "pd.DataFrame(gs_M2.cv_results_).sort_values(\"rank_test_score\").head()"
   ]
  },
  {
   "cell_type": "code",
   "execution_count": 31,
   "id": "7b1fd090-4fbe-4d20-9694-4b807f089514",
   "metadata": {
    "scrolled": true
   },
   "outputs": [
    {
     "data": {
      "text/html": [
       "<div>\n",
       "<style scoped>\n",
       "    .dataframe tbody tr th:only-of-type {\n",
       "        vertical-align: middle;\n",
       "    }\n",
       "\n",
       "    .dataframe tbody tr th {\n",
       "        vertical-align: top;\n",
       "    }\n",
       "\n",
       "    .dataframe thead th {\n",
       "        text-align: right;\n",
       "    }\n",
       "</style>\n",
       "<table border=\"1\" class=\"dataframe\">\n",
       "  <thead>\n",
       "    <tr style=\"text-align: right;\">\n",
       "      <th>high_HI</th>\n",
       "      <th>0</th>\n",
       "      <th>1</th>\n",
       "    </tr>\n",
       "  </thead>\n",
       "  <tbody>\n",
       "    <tr>\n",
       "      <th>relative standard deviation</th>\n",
       "      <td>23.630517</td>\n",
       "      <td>64.676007</td>\n",
       "    </tr>\n",
       "    <tr>\n",
       "      <th>chromatography mass spectrometry</th>\n",
       "      <td>18.650823</td>\n",
       "      <td>63.713159</td>\n",
       "    </tr>\n",
       "    <tr>\n",
       "      <th>ion selective electrode</th>\n",
       "      <td>14.901440</td>\n",
       "      <td>7.284102</td>\n",
       "    </tr>\n",
       "    <tr>\n",
       "      <th>gas chromatography mass</th>\n",
       "      <td>14.881539</td>\n",
       "      <td>42.453656</td>\n",
       "    </tr>\n",
       "    <tr>\n",
       "      <th>procedure developed determination</th>\n",
       "      <td>13.883409</td>\n",
       "      <td>1.509595</td>\n",
       "    </tr>\n",
       "    <tr>\n",
       "      <th>high performance liquid</th>\n",
       "      <td>13.610774</td>\n",
       "      <td>74.053576</td>\n",
       "    </tr>\n",
       "    <tr>\n",
       "      <th>performance liquid chromatography</th>\n",
       "      <td>13.300907</td>\n",
       "      <td>78.681956</td>\n",
       "    </tr>\n",
       "    <tr>\n",
       "      <th>gas chromatography mass spectrometry</th>\n",
       "      <td>13.169126</td>\n",
       "      <td>41.301460</td>\n",
       "    </tr>\n",
       "    <tr>\n",
       "      <th>inductively coupled plasma</th>\n",
       "      <td>13.090364</td>\n",
       "      <td>58.225657</td>\n",
       "    </tr>\n",
       "    <tr>\n",
       "      <th>high performance liquid chromatography</th>\n",
       "      <td>12.748048</td>\n",
       "      <td>71.192843</td>\n",
       "    </tr>\n",
       "    <tr>\n",
       "      <th>glassy carbon electrode</th>\n",
       "      <td>12.662126</td>\n",
       "      <td>17.099473</td>\n",
       "    </tr>\n",
       "    <tr>\n",
       "      <th>procedure developed determining</th>\n",
       "      <td>12.661135</td>\n",
       "      <td>0.200605</td>\n",
       "    </tr>\n",
       "    <tr>\n",
       "      <th>method successfully applied</th>\n",
       "      <td>11.875093</td>\n",
       "      <td>29.330907</td>\n",
       "    </tr>\n",
       "    <tr>\n",
       "      <th>reversed phase hplc</th>\n",
       "      <td>11.024525</td>\n",
       "      <td>5.615616</td>\n",
       "    </tr>\n",
       "    <tr>\n",
       "      <th>atomic absorption spectrometry</th>\n",
       "      <td>10.910573</td>\n",
       "      <td>18.330989</td>\n",
       "    </tr>\n",
       "    <tr>\n",
       "      <th>atomic emission spectrometry</th>\n",
       "      <td>10.524528</td>\n",
       "      <td>6.126297</td>\n",
       "    </tr>\n",
       "    <tr>\n",
       "      <th>range detection limit</th>\n",
       "      <td>10.236126</td>\n",
       "      <td>27.047513</td>\n",
       "    </tr>\n",
       "    <tr>\n",
       "      <th>ray fluorescence analysis</th>\n",
       "      <td>9.673251</td>\n",
       "      <td>2.600533</td>\n",
       "    </tr>\n",
       "    <tr>\n",
       "      <th>successfully applied determination</th>\n",
       "      <td>9.238452</td>\n",
       "      <td>11.574346</td>\n",
       "    </tr>\n",
       "    <tr>\n",
       "      <th>solid phase extraction</th>\n",
       "      <td>9.058546</td>\n",
       "      <td>72.016225</td>\n",
       "    </tr>\n",
       "    <tr>\n",
       "      <th>gas chromatographic determination</th>\n",
       "      <td>8.124811</td>\n",
       "      <td>0.000000</td>\n",
       "    </tr>\n",
       "    <tr>\n",
       "      <th>method developed determination</th>\n",
       "      <td>8.074289</td>\n",
       "      <td>11.221329</td>\n",
       "    </tr>\n",
       "    <tr>\n",
       "      <th>capillary zone electrophoresis</th>\n",
       "      <td>7.938218</td>\n",
       "      <td>10.054168</td>\n",
       "    </tr>\n",
       "    <tr>\n",
       "      <th>linear concentration range</th>\n",
       "      <td>7.665691</td>\n",
       "      <td>7.521914</td>\n",
       "    </tr>\n",
       "    <tr>\n",
       "      <th>mass spectrometric detection</th>\n",
       "      <td>7.630413</td>\n",
       "      <td>12.515898</td>\n",
       "    </tr>\n",
       "    <tr>\n",
       "      <th>method successfully applied determination</th>\n",
       "      <td>7.550449</td>\n",
       "      <td>7.303554</td>\n",
       "    </tr>\n",
       "    <tr>\n",
       "      <th>flow rate min</th>\n",
       "      <td>7.324710</td>\n",
       "      <td>17.022979</td>\n",
       "    </tr>\n",
       "    <tr>\n",
       "      <th>flow injection analysis</th>\n",
       "      <td>7.177338</td>\n",
       "      <td>12.470542</td>\n",
       "    </tr>\n",
       "    <tr>\n",
       "      <th>plasma atomic emission</th>\n",
       "      <td>7.176468</td>\n",
       "      <td>7.668763</td>\n",
       "    </tr>\n",
       "    <tr>\n",
       "      <th>liquid liquid microextraction</th>\n",
       "      <td>6.909978</td>\n",
       "      <td>9.614470</td>\n",
       "    </tr>\n",
       "    <tr>\n",
       "      <th>sodium dodecyl sulfate</th>\n",
       "      <td>6.874338</td>\n",
       "      <td>12.245383</td>\n",
       "    </tr>\n",
       "    <tr>\n",
       "      <th>coupled plasma atomic</th>\n",
       "      <td>6.676165</td>\n",
       "      <td>7.083590</td>\n",
       "    </tr>\n",
       "    <tr>\n",
       "      <th>coupled plasma atomic emission</th>\n",
       "      <td>6.676165</td>\n",
       "      <td>7.083590</td>\n",
       "    </tr>\n",
       "    <tr>\n",
       "      <th>range limit detection</th>\n",
       "      <td>6.619037</td>\n",
       "      <td>17.394338</td>\n",
       "    </tr>\n",
       "    <tr>\n",
       "      <th>scanning electron microscopy</th>\n",
       "      <td>6.548067</td>\n",
       "      <td>27.216852</td>\n",
       "    </tr>\n",
       "    <tr>\n",
       "      <th>beer law obeyed</th>\n",
       "      <td>6.508703</td>\n",
       "      <td>1.469753</td>\n",
       "    </tr>\n",
       "    <tr>\n",
       "      <th>inductively coupled plasma atomic</th>\n",
       "      <td>6.497621</td>\n",
       "      <td>6.742247</td>\n",
       "    </tr>\n",
       "    <tr>\n",
       "      <th>carbon paste electrode</th>\n",
       "      <td>6.478909</td>\n",
       "      <td>6.629359</td>\n",
       "    </tr>\n",
       "    <tr>\n",
       "      <th>principal component analysis</th>\n",
       "      <td>6.341491</td>\n",
       "      <td>36.523049</td>\n",
       "    </tr>\n",
       "    <tr>\n",
       "      <th>standard deviation result</th>\n",
       "      <td>6.235578</td>\n",
       "      <td>1.007633</td>\n",
       "    </tr>\n",
       "  </tbody>\n",
       "</table>\n",
       "</div>"
      ],
      "text/plain": [
       "high_HI                                            0          1\n",
       "relative standard deviation                23.630517  64.676007\n",
       "chromatography mass spectrometry           18.650823  63.713159\n",
       "ion selective electrode                    14.901440   7.284102\n",
       "gas chromatography mass                    14.881539  42.453656\n",
       "procedure developed determination          13.883409   1.509595\n",
       "high performance liquid                    13.610774  74.053576\n",
       "performance liquid chromatography          13.300907  78.681956\n",
       "gas chromatography mass spectrometry       13.169126  41.301460\n",
       "inductively coupled plasma                 13.090364  58.225657\n",
       "high performance liquid chromatography     12.748048  71.192843\n",
       "glassy carbon electrode                    12.662126  17.099473\n",
       "procedure developed determining            12.661135   0.200605\n",
       "method successfully applied                11.875093  29.330907\n",
       "reversed phase hplc                        11.024525   5.615616\n",
       "atomic absorption spectrometry             10.910573  18.330989\n",
       "atomic emission spectrometry               10.524528   6.126297\n",
       "range detection limit                      10.236126  27.047513\n",
       "ray fluorescence analysis                   9.673251   2.600533\n",
       "successfully applied determination          9.238452  11.574346\n",
       "solid phase extraction                      9.058546  72.016225\n",
       "gas chromatographic determination           8.124811   0.000000\n",
       "method developed determination              8.074289  11.221329\n",
       "capillary zone electrophoresis              7.938218  10.054168\n",
       "linear concentration range                  7.665691   7.521914\n",
       "mass spectrometric detection                7.630413  12.515898\n",
       "method successfully applied determination   7.550449   7.303554\n",
       "flow rate min                               7.324710  17.022979\n",
       "flow injection analysis                     7.177338  12.470542\n",
       "plasma atomic emission                      7.176468   7.668763\n",
       "liquid liquid microextraction               6.909978   9.614470\n",
       "sodium dodecyl sulfate                      6.874338  12.245383\n",
       "coupled plasma atomic                       6.676165   7.083590\n",
       "coupled plasma atomic emission              6.676165   7.083590\n",
       "range limit detection                       6.619037  17.394338\n",
       "scanning electron microscopy                6.548067  27.216852\n",
       "beer law obeyed                             6.508703   1.469753\n",
       "inductively coupled plasma atomic           6.497621   6.742247\n",
       "carbon paste electrode                      6.478909   6.629359\n",
       "principal component analysis                6.341491  36.523049\n",
       "standard deviation result                   6.235578   1.007633"
      ]
     },
     "execution_count": 31,
     "metadata": {},
     "output_type": "execute_result"
    }
   ],
   "source": [
    "#get coefficents\n",
    "ngram_counts_M2 = ngram_tvec_coefs(gs_M2, X_train, y_train)\n",
    "ngram_counts_M2.sort_values(by = 0, ascending = False)[:40]"
   ]
  },
  {
   "cell_type": "code",
   "execution_count": 32,
   "id": "e71a10c4-0108-4db2-8b76-9b4e1d61340f",
   "metadata": {
    "scrolled": true
   },
   "outputs": [
    {
     "data": {
      "text/html": [
       "<div>\n",
       "<style scoped>\n",
       "    .dataframe tbody tr th:only-of-type {\n",
       "        vertical-align: middle;\n",
       "    }\n",
       "\n",
       "    .dataframe tbody tr th {\n",
       "        vertical-align: top;\n",
       "    }\n",
       "\n",
       "    .dataframe thead th {\n",
       "        text-align: right;\n",
       "    }\n",
       "</style>\n",
       "<table border=\"1\" class=\"dataframe\">\n",
       "  <thead>\n",
       "    <tr style=\"text-align: right;\">\n",
       "      <th>high_HI</th>\n",
       "      <th>0</th>\n",
       "      <th>1</th>\n",
       "    </tr>\n",
       "  </thead>\n",
       "  <tbody>\n",
       "    <tr>\n",
       "      <th>tandem mass spectrometry</th>\n",
       "      <td>5.851098</td>\n",
       "      <td>84.292699</td>\n",
       "    </tr>\n",
       "    <tr>\n",
       "      <th>performance liquid chromatography</th>\n",
       "      <td>13.300907</td>\n",
       "      <td>78.681956</td>\n",
       "    </tr>\n",
       "    <tr>\n",
       "      <th>high performance liquid</th>\n",
       "      <td>13.610774</td>\n",
       "      <td>74.053576</td>\n",
       "    </tr>\n",
       "    <tr>\n",
       "      <th>solid phase extraction</th>\n",
       "      <td>9.058546</td>\n",
       "      <td>72.016225</td>\n",
       "    </tr>\n",
       "    <tr>\n",
       "      <th>high performance liquid chromatography</th>\n",
       "      <td>12.748048</td>\n",
       "      <td>71.192843</td>\n",
       "    </tr>\n",
       "    <tr>\n",
       "      <th>relative standard deviation</th>\n",
       "      <td>23.630517</td>\n",
       "      <td>64.676007</td>\n",
       "    </tr>\n",
       "    <tr>\n",
       "      <th>chromatography mass spectrometry</th>\n",
       "      <td>18.650823</td>\n",
       "      <td>63.713159</td>\n",
       "    </tr>\n",
       "    <tr>\n",
       "      <th>inductively coupled plasma</th>\n",
       "      <td>13.090364</td>\n",
       "      <td>58.225657</td>\n",
       "    </tr>\n",
       "    <tr>\n",
       "      <th>chromatography tandem mass</th>\n",
       "      <td>3.603937</td>\n",
       "      <td>51.335686</td>\n",
       "    </tr>\n",
       "    <tr>\n",
       "      <th>chromatography tandem mass spectrometry</th>\n",
       "      <td>3.326560</td>\n",
       "      <td>50.191599</td>\n",
       "    </tr>\n",
       "    <tr>\n",
       "      <th>liquid chromatography tandem</th>\n",
       "      <td>3.241366</td>\n",
       "      <td>48.760847</td>\n",
       "    </tr>\n",
       "    <tr>\n",
       "      <th>liquid chromatography tandem mass</th>\n",
       "      <td>3.082382</td>\n",
       "      <td>48.398247</td>\n",
       "    </tr>\n",
       "    <tr>\n",
       "      <th>coupled plasma mass</th>\n",
       "      <td>5.924366</td>\n",
       "      <td>47.217764</td>\n",
       "    </tr>\n",
       "    <tr>\n",
       "      <th>inductively coupled plasma mass</th>\n",
       "      <td>5.931658</td>\n",
       "      <td>47.098637</td>\n",
       "    </tr>\n",
       "    <tr>\n",
       "      <th>plasma mass spectrometry</th>\n",
       "      <td>5.358616</td>\n",
       "      <td>44.712934</td>\n",
       "    </tr>\n",
       "    <tr>\n",
       "      <th>coupled plasma mass spectrometry</th>\n",
       "      <td>5.376315</td>\n",
       "      <td>43.615851</td>\n",
       "    </tr>\n",
       "    <tr>\n",
       "      <th>gas chromatography mass</th>\n",
       "      <td>14.881539</td>\n",
       "      <td>42.453656</td>\n",
       "    </tr>\n",
       "    <tr>\n",
       "      <th>gas chromatography mass spectrometry</th>\n",
       "      <td>13.169126</td>\n",
       "      <td>41.301460</td>\n",
       "    </tr>\n",
       "    <tr>\n",
       "      <th>principal component analysis</th>\n",
       "      <td>6.341491</td>\n",
       "      <td>36.523049</td>\n",
       "    </tr>\n",
       "    <tr>\n",
       "      <th>certified reference material</th>\n",
       "      <td>3.572049</td>\n",
       "      <td>35.996244</td>\n",
       "    </tr>\n",
       "    <tr>\n",
       "      <th>laser desorption ionization</th>\n",
       "      <td>4.717415</td>\n",
       "      <td>35.380738</td>\n",
       "    </tr>\n",
       "    <tr>\n",
       "      <th>assisted laser desorption</th>\n",
       "      <td>3.505528</td>\n",
       "      <td>35.011199</td>\n",
       "    </tr>\n",
       "    <tr>\n",
       "      <th>time flight mass</th>\n",
       "      <td>4.792158</td>\n",
       "      <td>34.642952</td>\n",
       "    </tr>\n",
       "    <tr>\n",
       "      <th>surface plasmon resonance</th>\n",
       "      <td>1.112983</td>\n",
       "      <td>34.260878</td>\n",
       "    </tr>\n",
       "    <tr>\n",
       "      <th>limit detection lod</th>\n",
       "      <td>3.426349</td>\n",
       "      <td>34.077550</td>\n",
       "    </tr>\n",
       "    <tr>\n",
       "      <th>matrix assisted laser</th>\n",
       "      <td>2.578848</td>\n",
       "      <td>33.845903</td>\n",
       "    </tr>\n",
       "    <tr>\n",
       "      <th>matrix assisted laser desorption</th>\n",
       "      <td>2.424498</td>\n",
       "      <td>33.566402</td>\n",
       "    </tr>\n",
       "    <tr>\n",
       "      <th>ionization mass spectrometry</th>\n",
       "      <td>4.274951</td>\n",
       "      <td>33.454811</td>\n",
       "    </tr>\n",
       "    <tr>\n",
       "      <th>mass spectrometry icp</th>\n",
       "      <td>1.939533</td>\n",
       "      <td>33.098218</td>\n",
       "    </tr>\n",
       "    <tr>\n",
       "      <th>assisted laser desorption ionization</th>\n",
       "      <td>3.586126</td>\n",
       "      <td>31.812103</td>\n",
       "    </tr>\n",
       "    <tr>\n",
       "      <th>fourier transform infrared</th>\n",
       "      <td>2.737708</td>\n",
       "      <td>31.575762</td>\n",
       "    </tr>\n",
       "    <tr>\n",
       "      <th>molecularly imprinted polymer</th>\n",
       "      <td>4.969828</td>\n",
       "      <td>31.542042</td>\n",
       "    </tr>\n",
       "    <tr>\n",
       "      <th>liquid chromatography mass</th>\n",
       "      <td>3.665771</td>\n",
       "      <td>30.958901</td>\n",
       "    </tr>\n",
       "    <tr>\n",
       "      <th>surface enhanced raman</th>\n",
       "      <td>0.965049</td>\n",
       "      <td>30.327076</td>\n",
       "    </tr>\n",
       "    <tr>\n",
       "      <th>liquid chromatography coupled</th>\n",
       "      <td>1.021213</td>\n",
       "      <td>30.316138</td>\n",
       "    </tr>\n",
       "    <tr>\n",
       "      <th>high resolution mass</th>\n",
       "      <td>5.696755</td>\n",
       "      <td>30.263070</td>\n",
       "    </tr>\n",
       "    <tr>\n",
       "      <th>plasma mass spectrometry icp</th>\n",
       "      <td>1.992142</td>\n",
       "      <td>30.031729</td>\n",
       "    </tr>\n",
       "    <tr>\n",
       "      <th>liquid chromatography mass spectrometry</th>\n",
       "      <td>3.094587</td>\n",
       "      <td>29.976101</td>\n",
       "    </tr>\n",
       "    <tr>\n",
       "      <th>time flight mass spectrometry</th>\n",
       "      <td>2.456891</td>\n",
       "      <td>29.962244</td>\n",
       "    </tr>\n",
       "    <tr>\n",
       "      <th>flight mass spectrometry</th>\n",
       "      <td>2.456891</td>\n",
       "      <td>29.962244</td>\n",
       "    </tr>\n",
       "  </tbody>\n",
       "</table>\n",
       "</div>"
      ],
      "text/plain": [
       "high_HI                                          0          1\n",
       "tandem mass spectrometry                  5.851098  84.292699\n",
       "performance liquid chromatography        13.300907  78.681956\n",
       "high performance liquid                  13.610774  74.053576\n",
       "solid phase extraction                    9.058546  72.016225\n",
       "high performance liquid chromatography   12.748048  71.192843\n",
       "relative standard deviation              23.630517  64.676007\n",
       "chromatography mass spectrometry         18.650823  63.713159\n",
       "inductively coupled plasma               13.090364  58.225657\n",
       "chromatography tandem mass                3.603937  51.335686\n",
       "chromatography tandem mass spectrometry   3.326560  50.191599\n",
       "liquid chromatography tandem              3.241366  48.760847\n",
       "liquid chromatography tandem mass         3.082382  48.398247\n",
       "coupled plasma mass                       5.924366  47.217764\n",
       "inductively coupled plasma mass           5.931658  47.098637\n",
       "plasma mass spectrometry                  5.358616  44.712934\n",
       "coupled plasma mass spectrometry          5.376315  43.615851\n",
       "gas chromatography mass                  14.881539  42.453656\n",
       "gas chromatography mass spectrometry     13.169126  41.301460\n",
       "principal component analysis              6.341491  36.523049\n",
       "certified reference material              3.572049  35.996244\n",
       "laser desorption ionization               4.717415  35.380738\n",
       "assisted laser desorption                 3.505528  35.011199\n",
       "time flight mass                          4.792158  34.642952\n",
       "surface plasmon resonance                 1.112983  34.260878\n",
       "limit detection lod                       3.426349  34.077550\n",
       "matrix assisted laser                     2.578848  33.845903\n",
       "matrix assisted laser desorption          2.424498  33.566402\n",
       "ionization mass spectrometry              4.274951  33.454811\n",
       "mass spectrometry icp                     1.939533  33.098218\n",
       "assisted laser desorption ionization      3.586126  31.812103\n",
       "fourier transform infrared                2.737708  31.575762\n",
       "molecularly imprinted polymer             4.969828  31.542042\n",
       "liquid chromatography mass                3.665771  30.958901\n",
       "surface enhanced raman                    0.965049  30.327076\n",
       "liquid chromatography coupled             1.021213  30.316138\n",
       "high resolution mass                      5.696755  30.263070\n",
       "plasma mass spectrometry icp              1.992142  30.031729\n",
       "liquid chromatography mass spectrometry   3.094587  29.976101\n",
       "time flight mass spectrometry             2.456891  29.962244\n",
       "flight mass spectrometry                  2.456891  29.962244"
      ]
     },
     "execution_count": 32,
     "metadata": {},
     "output_type": "execute_result"
    }
   ],
   "source": [
    "ngram_counts_M2.sort_values(by = 1, ascending = False)[:40]"
   ]
  },
  {
   "cell_type": "code",
   "execution_count": 34,
   "id": "c5065a59-9c65-4f83-88a1-f62539bb457d",
   "metadata": {
    "id": "6v04_pugt3J8"
   },
   "outputs": [],
   "source": [
    "##export pickle\n",
    "#if not os.path.exists('pkl/'):\n",
    "#    os.makedirs('pkl/')\n",
    "#\n",
    "#pickle.dump(gs_M2, open('pkl/gs_M2.pkl', 'wb'))\n",
    "#pickle.dump(pipe_M2, open('pkl/pipe_M2.pkl', 'wb'))"
   ]
  },
  {
   "cell_type": "code",
   "execution_count": 35,
   "id": "53637859-29ce-4c06-840a-78fcff031fb6",
   "metadata": {
    "id": "qqoSf20pt3KY"
   },
   "outputs": [],
   "source": [
    "##import pickle\n",
    "#gs_M2 = pickle.load(open('pkl/gs_M2.pkl', 'rb'))\n",
    "#pipe_M2 = pickle.load(open('pkl/pipe_M2.pkl', 'rb'))\n"
   ]
  },
  {
   "cell_type": "markdown",
   "id": "f0e36513-2e42-47c0-b884-eb4d4427a39d",
   "metadata": {
    "id": "854aeeeb-373e-424a-89fe-f82f98c77462"
   },
   "source": [
    "### Scoring evaluation\n",
    "similar to Method 1"
   ]
  },
  {
   "cell_type": "code",
   "execution_count": 36,
   "id": "6d7b7e94-fde2-410b-b5a4-2ae22af25dee",
   "metadata": {
    "colab": {
     "base_uri": "https://localhost:8080/",
     "height": 126
    },
    "executionInfo": {
     "elapsed": 15,
     "status": "ok",
     "timestamp": 1691393306100,
     "user": {
      "displayName": "Benjamin Seah",
      "userId": "10807984017160968891"
     },
     "user_tz": -480
    },
    "id": "zdRkG4BsLfYf",
    "outputId": "30020b30-6aab-4626-bf38-dcd040dff0ba"
   },
   "outputs": [
    {
     "data": {
      "text/html": [
       "<style>#sk-container-id-3 {color: black;}#sk-container-id-3 pre{padding: 0;}#sk-container-id-3 div.sk-toggleable {background-color: white;}#sk-container-id-3 label.sk-toggleable__label {cursor: pointer;display: block;width: 100%;margin-bottom: 0;padding: 0.3em;box-sizing: border-box;text-align: center;}#sk-container-id-3 label.sk-toggleable__label-arrow:before {content: \"▸\";float: left;margin-right: 0.25em;color: #696969;}#sk-container-id-3 label.sk-toggleable__label-arrow:hover:before {color: black;}#sk-container-id-3 div.sk-estimator:hover label.sk-toggleable__label-arrow:before {color: black;}#sk-container-id-3 div.sk-toggleable__content {max-height: 0;max-width: 0;overflow: hidden;text-align: left;background-color: #f0f8ff;}#sk-container-id-3 div.sk-toggleable__content pre {margin: 0.2em;color: black;border-radius: 0.25em;background-color: #f0f8ff;}#sk-container-id-3 input.sk-toggleable__control:checked~div.sk-toggleable__content {max-height: 200px;max-width: 100%;overflow: auto;}#sk-container-id-3 input.sk-toggleable__control:checked~label.sk-toggleable__label-arrow:before {content: \"▾\";}#sk-container-id-3 div.sk-estimator input.sk-toggleable__control:checked~label.sk-toggleable__label {background-color: #d4ebff;}#sk-container-id-3 div.sk-label input.sk-toggleable__control:checked~label.sk-toggleable__label {background-color: #d4ebff;}#sk-container-id-3 input.sk-hidden--visually {border: 0;clip: rect(1px 1px 1px 1px);clip: rect(1px, 1px, 1px, 1px);height: 1px;margin: -1px;overflow: hidden;padding: 0;position: absolute;width: 1px;}#sk-container-id-3 div.sk-estimator {font-family: monospace;background-color: #f0f8ff;border: 1px dotted black;border-radius: 0.25em;box-sizing: border-box;margin-bottom: 0.5em;}#sk-container-id-3 div.sk-estimator:hover {background-color: #d4ebff;}#sk-container-id-3 div.sk-parallel-item::after {content: \"\";width: 100%;border-bottom: 1px solid gray;flex-grow: 1;}#sk-container-id-3 div.sk-label:hover label.sk-toggleable__label {background-color: #d4ebff;}#sk-container-id-3 div.sk-serial::before {content: \"\";position: absolute;border-left: 1px solid gray;box-sizing: border-box;top: 0;bottom: 0;left: 50%;z-index: 0;}#sk-container-id-3 div.sk-serial {display: flex;flex-direction: column;align-items: center;background-color: white;padding-right: 0.2em;padding-left: 0.2em;position: relative;}#sk-container-id-3 div.sk-item {position: relative;z-index: 1;}#sk-container-id-3 div.sk-parallel {display: flex;align-items: stretch;justify-content: center;background-color: white;position: relative;}#sk-container-id-3 div.sk-item::before, #sk-container-id-3 div.sk-parallel-item::before {content: \"\";position: absolute;border-left: 1px solid gray;box-sizing: border-box;top: 0;bottom: 0;left: 50%;z-index: -1;}#sk-container-id-3 div.sk-parallel-item {display: flex;flex-direction: column;z-index: 1;position: relative;background-color: white;}#sk-container-id-3 div.sk-parallel-item:first-child::after {align-self: flex-end;width: 50%;}#sk-container-id-3 div.sk-parallel-item:last-child::after {align-self: flex-start;width: 50%;}#sk-container-id-3 div.sk-parallel-item:only-child::after {width: 0;}#sk-container-id-3 div.sk-dashed-wrapped {border: 1px dashed gray;margin: 0 0.4em 0.5em 0.4em;box-sizing: border-box;padding-bottom: 0.4em;background-color: white;}#sk-container-id-3 div.sk-label label {font-family: monospace;font-weight: bold;display: inline-block;line-height: 1.2em;}#sk-container-id-3 div.sk-label-container {text-align: center;}#sk-container-id-3 div.sk-container {/* jupyter's `normalize.less` sets `[hidden] { display: none; }` but bootstrap.min.css set `[hidden] { display: none !important; }` so we also need the `!important` here to be able to override the default hidden behavior on the sphinx rendered scikit-learn.org. See: https://github.com/scikit-learn/scikit-learn/issues/21755 */display: inline-block !important;position: relative;}#sk-container-id-3 div.sk-text-repr-fallback {display: none;}</style><div id=\"sk-container-id-3\" class=\"sk-top-container\"><div class=\"sk-text-repr-fallback\"><pre>Pipeline(steps=[(&#x27;tvec&#x27;,\n",
       "                 TfidfVectorizer(max_df=0.85, max_features=30000, min_df=3,\n",
       "                                 ngram_range=(3, 4), stop_words=&#x27;english&#x27;)),\n",
       "                (&#x27;nb&#x27;, MultinomialNB())])</pre><b>In a Jupyter environment, please rerun this cell to show the HTML representation or trust the notebook. <br />On GitHub, the HTML representation is unable to render, please try loading this page with nbviewer.org.</b></div><div class=\"sk-container\" hidden><div class=\"sk-item sk-dashed-wrapped\"><div class=\"sk-label-container\"><div class=\"sk-label sk-toggleable\"><input class=\"sk-toggleable__control sk-hidden--visually\" id=\"sk-estimator-id-9\" type=\"checkbox\" ><label for=\"sk-estimator-id-9\" class=\"sk-toggleable__label sk-toggleable__label-arrow\">Pipeline</label><div class=\"sk-toggleable__content\"><pre>Pipeline(steps=[(&#x27;tvec&#x27;,\n",
       "                 TfidfVectorizer(max_df=0.85, max_features=30000, min_df=3,\n",
       "                                 ngram_range=(3, 4), stop_words=&#x27;english&#x27;)),\n",
       "                (&#x27;nb&#x27;, MultinomialNB())])</pre></div></div></div><div class=\"sk-serial\"><div class=\"sk-item\"><div class=\"sk-estimator sk-toggleable\"><input class=\"sk-toggleable__control sk-hidden--visually\" id=\"sk-estimator-id-10\" type=\"checkbox\" ><label for=\"sk-estimator-id-10\" class=\"sk-toggleable__label sk-toggleable__label-arrow\">TfidfVectorizer</label><div class=\"sk-toggleable__content\"><pre>TfidfVectorizer(max_df=0.85, max_features=30000, min_df=3, ngram_range=(3, 4),\n",
       "                stop_words=&#x27;english&#x27;)</pre></div></div></div><div class=\"sk-item\"><div class=\"sk-estimator sk-toggleable\"><input class=\"sk-toggleable__control sk-hidden--visually\" id=\"sk-estimator-id-11\" type=\"checkbox\" ><label for=\"sk-estimator-id-11\" class=\"sk-toggleable__label sk-toggleable__label-arrow\">MultinomialNB</label><div class=\"sk-toggleable__content\"><pre>MultinomialNB()</pre></div></div></div></div></div></div></div>"
      ],
      "text/plain": [
       "Pipeline(steps=[('tvec',\n",
       "                 TfidfVectorizer(max_df=0.85, max_features=30000, min_df=3,\n",
       "                                 ngram_range=(3, 4), stop_words='english')),\n",
       "                ('nb', MultinomialNB())])"
      ]
     },
     "execution_count": 36,
     "metadata": {},
     "output_type": "execute_result"
    }
   ],
   "source": [
    "#get best output from gs\n",
    "gs_M2.best_estimator_"
   ]
  },
  {
   "cell_type": "code",
   "execution_count": 37,
   "id": "af0d72a5-bc97-4ce5-80c0-cc035a17f0cc",
   "metadata": {
    "colab": {
     "base_uri": "https://localhost:8080/",
     "height": 832
    },
    "executionInfo": {
     "elapsed": 8790,
     "status": "ok",
     "timestamp": 1691393314879,
     "user": {
      "displayName": "Benjamin Seah",
      "userId": "10807984017160968891"
     },
     "user_tz": -480
    },
    "id": "xSrqu8OcUBIT",
    "outputId": "6cab6b38-c3ca-4f50-d62d-7b9c68538a9f"
   },
   "outputs": [
    {
     "name": "stdout",
     "output_type": "stream",
     "text": [
      "Best estimator from gridsearch: Pipeline(steps=[('tvec',\n",
      "                 TfidfVectorizer(max_df=0.85, max_features=30000, min_df=3,\n",
      "                                 ngram_range=(3, 4), stop_words='english')),\n",
      "                ('nb', MultinomialNB())])\n",
      "_________________________________________\n",
      "Score metrics of train data:\n",
      "----------------------------------------\n",
      "Accuracy score (Predictive Value): 0.9092\n",
      "Specificity (True Negative Rate) score: 0.5444\n",
      "Sensitivity (True Positive Rate) score: 0.9954\n",
      "Precision (Positive Predictive Value) score: 0.9023\n",
      "F1 score: 0.9466\n",
      "MCC score (phi-coefficient): 0.6846\n",
      "\n",
      "__________________________________________________\n",
      " Score metrics of test data:\n",
      "----------------------------------------\n",
      "Accuracy score (Predictive Value): 0.8662\n",
      "Specificity (True Negative Rate) score: 0.3257\n",
      "Sensitivity (True Positive Rate) score: 0.9940\n",
      "Precision (Positive Predictive Value) score: 0.8618\n",
      "F1 score: 0.9232\n",
      "MCC score (phi-coefficient): 0.5022\n",
      "__________________________________________________\n"
     ]
    },
    {
     "data": {
      "image/png": "[encoded data removed]",
      "text/plain": [
       "<Figure size 640x480 with 2 Axes>"
      ]
     },
     "metadata": {},
     "output_type": "display_data"
    }
   ],
   "source": [
    "#scores for evaluation\n",
    "evaluator(gs_M2)"
   ]
  },
  {
   "cell_type": "markdown",
   "id": "595f6aa3-559b-41b4-ba53-a6d752ca7e7a",
   "metadata": {
    "id": "DgWOi62jXZQP"
   },
   "source": [
    "It seems like using the TFID-Vectorizer improved the f1 scores alittle from around 93% to almost 95% when compared to Count Vectorizer. However, it casued the the MCC score to decrease from 67% to 72% with around 2% overfit. This translates to lower false positives as can be see with the top right quadrant. This is likely due to TF-IDF Vectorizer assigning heavier weightage to less common words and lower weightage to more commons words or in this case higher ngrams words which are beginning to be more specific to their respective journals. \n",
    "\n",
    "Neverthelss, form understanding the confusion maatrix, the data imbalance is causing the false positives to be quite significant in the entire negative category(low_HI journal). Thus, it would be good to explore other ways such as oversampling and complement Naive Bayes to improve the score and fit."
   ]
  },
  {
   "cell_type": "markdown",
   "id": "jWsrzz2BnMLO",
   "metadata": {
    "id": "jWsrzz2BnMLO"
   },
   "source": [
    "## Method 3: Reducing overfit.\n",
    "- As the dataset is unbalanced and it is potentially an issue, there are a few ways to deal with the issue. Since the train and test data has already been stratified when splitting, this leave a few options.\n",
    "    1. Undersample the majority class but it reduces the overall dataset\n",
    "    2. Oversample the minority class is preferred<br>\n",
    "    3. Try ComplementNB is particularly suited for imbalanced data sets\n",
    "- Various parameters are kept the same for direct comparison."
   ]
  },
  {
   "cell_type": "markdown",
   "id": "nufOPGBJ-OEu",
   "metadata": {
    "id": "nufOPGBJ-OEu"
   },
   "source": [
    "### Method 3A: TfidfVectorizer + Complement Naive Bayes\n"
   ]
  },
  {
   "cell_type": "markdown",
   "id": "s4MFxFOrnMLX",
   "metadata": {
    "id": "s4MFxFOrnMLX"
   },
   "source": [
    "#### Modeling\n"
   ]
  },
  {
   "cell_type": "code",
   "execution_count": 200,
   "id": "-EXe5GQfnMLX",
   "metadata": {
    "id": "-EXe5GQfnMLX"
   },
   "outputs": [],
   "source": [
    "#Set up a pipeline\n",
    "pipe_M3A = Pipeline([('tvec', TfidfVectorizer()),\n",
    "                     ('cnb', ComplementNB())\n",
    "                    ])"
   ]
  },
  {
   "cell_type": "code",
   "execution_count": 72,
   "id": "a397ca6e-e4f8-4e4f-b766-221debf33ee7",
   "metadata": {
    "id": "JUza2X55XfxI"
   },
   "outputs": [],
   "source": [
    "#Set pipline parameters\n",
    "pipe_M3A_params = {'tvec__max_features': [30000], #max features for considering after finetuning in the background\n",
    "                  'tvec__min_df': [2, 4],\n",
    "                  'tvec__max_df': [.85, .9, .95],\n",
    "                  'tvec__stop_words': ['english'],\n",
    "                  'tvec__ngram_range': [(3, 4)],  #min number ngrams for considering after finetuning in the background\n",
    "                  'cnb__alpha': np.linspace(1,10,5)\n",
    "                 }"
   ]
  },
  {
   "cell_type": "code",
   "execution_count": 73,
   "id": "ebfe4014-fc9b-475f-8dac-70db9d11e8e8",
   "metadata": {
    "id": "1V-JvfdtXfxJ"
   },
   "outputs": [],
   "source": [
    "# Instantiate GridSearchCV.\n",
    "gs_M3A = GridSearchCV(pipe_M3A,                   \n",
    "                     param_grid = pipe_M3A_params,\n",
    "                     cv=3,                        # 3-fold cross-validation.\n",
    "                     scoring = 'f1',              # balanced to check both precision and recall \n",
    "                     n_jobs = -2,\n",
    "                     verbose = 10\n",
    "                    )\n"
   ]
  },
  {
   "cell_type": "code",
   "execution_count": 74,
   "id": "BrrgIu2QnMLY",
   "metadata": {
    "colab": {
     "base_uri": "https://localhost:8080/",
     "height": 152
    },
    "executionInfo": {
     "elapsed": 907794,
     "status": "ok",
     "timestamp": 1691394446105,
     "user": {
      "displayName": "Benjamin Seah",
      "userId": "10807984017160968891"
     },
     "user_tz": -480
    },
    "id": "BrrgIu2QnMLY",
    "outputId": "0b567fba-f13e-4af2-fb95-5d26aec43654"
   },
   "outputs": [
    {
     "name": "stdout",
     "output_type": "stream",
     "text": [
      "Fitting 3 folds for each of 30 candidates, totalling 90 fits\n"
     ]
    },
    {
     "data": {
      "text/html": [
       "<style>#sk-container-id-8 {color: black;}#sk-container-id-8 pre{padding: 0;}#sk-container-id-8 div.sk-toggleable {background-color: white;}#sk-container-id-8 label.sk-toggleable__label {cursor: pointer;display: block;width: 100%;margin-bottom: 0;padding: 0.3em;box-sizing: border-box;text-align: center;}#sk-container-id-8 label.sk-toggleable__label-arrow:before {content: \"▸\";float: left;margin-right: 0.25em;color: #696969;}#sk-container-id-8 label.sk-toggleable__label-arrow:hover:before {color: black;}#sk-container-id-8 div.sk-estimator:hover label.sk-toggleable__label-arrow:before {color: black;}#sk-container-id-8 div.sk-toggleable__content {max-height: 0;max-width: 0;overflow: hidden;text-align: left;background-color: #f0f8ff;}#sk-container-id-8 div.sk-toggleable__content pre {margin: 0.2em;color: black;border-radius: 0.25em;background-color: #f0f8ff;}#sk-container-id-8 input.sk-toggleable__control:checked~div.sk-toggleable__content {max-height: 200px;max-width: 100%;overflow: auto;}#sk-container-id-8 input.sk-toggleable__control:checked~label.sk-toggleable__label-arrow:before {content: \"▾\";}#sk-container-id-8 div.sk-estimator input.sk-toggleable__control:checked~label.sk-toggleable__label {background-color: #d4ebff;}#sk-container-id-8 div.sk-label input.sk-toggleable__control:checked~label.sk-toggleable__label {background-color: #d4ebff;}#sk-container-id-8 input.sk-hidden--visually {border: 0;clip: rect(1px 1px 1px 1px);clip: rect(1px, 1px, 1px, 1px);height: 1px;margin: -1px;overflow: hidden;padding: 0;position: absolute;width: 1px;}#sk-container-id-8 div.sk-estimator {font-family: monospace;background-color: #f0f8ff;border: 1px dotted black;border-radius: 0.25em;box-sizing: border-box;margin-bottom: 0.5em;}#sk-container-id-8 div.sk-estimator:hover {background-color: #d4ebff;}#sk-container-id-8 div.sk-parallel-item::after {content: \"\";width: 100%;border-bottom: 1px solid gray;flex-grow: 1;}#sk-container-id-8 div.sk-label:hover label.sk-toggleable__label {background-color: #d4ebff;}#sk-container-id-8 div.sk-serial::before {content: \"\";position: absolute;border-left: 1px solid gray;box-sizing: border-box;top: 0;bottom: 0;left: 50%;z-index: 0;}#sk-container-id-8 div.sk-serial {display: flex;flex-direction: column;align-items: center;background-color: white;padding-right: 0.2em;padding-left: 0.2em;position: relative;}#sk-container-id-8 div.sk-item {position: relative;z-index: 1;}#sk-container-id-8 div.sk-parallel {display: flex;align-items: stretch;justify-content: center;background-color: white;position: relative;}#sk-container-id-8 div.sk-item::before, #sk-container-id-8 div.sk-parallel-item::before {content: \"\";position: absolute;border-left: 1px solid gray;box-sizing: border-box;top: 0;bottom: 0;left: 50%;z-index: -1;}#sk-container-id-8 div.sk-parallel-item {display: flex;flex-direction: column;z-index: 1;position: relative;background-color: white;}#sk-container-id-8 div.sk-parallel-item:first-child::after {align-self: flex-end;width: 50%;}#sk-container-id-8 div.sk-parallel-item:last-child::after {align-self: flex-start;width: 50%;}#sk-container-id-8 div.sk-parallel-item:only-child::after {width: 0;}#sk-container-id-8 div.sk-dashed-wrapped {border: 1px dashed gray;margin: 0 0.4em 0.5em 0.4em;box-sizing: border-box;padding-bottom: 0.4em;background-color: white;}#sk-container-id-8 div.sk-label label {font-family: monospace;font-weight: bold;display: inline-block;line-height: 1.2em;}#sk-container-id-8 div.sk-label-container {text-align: center;}#sk-container-id-8 div.sk-container {/* jupyter's `normalize.less` sets `[hidden] { display: none; }` but bootstrap.min.css set `[hidden] { display: none !important; }` so we also need the `!important` here to be able to override the default hidden behavior on the sphinx rendered scikit-learn.org. See: https://github.com/scikit-learn/scikit-learn/issues/21755 */display: inline-block !important;position: relative;}#sk-container-id-8 div.sk-text-repr-fallback {display: none;}</style><div id=\"sk-container-id-8\" class=\"sk-top-container\"><div class=\"sk-text-repr-fallback\"><pre>GridSearchCV(cv=3,\n",
       "             estimator=Pipeline(steps=[(&#x27;tvec&#x27;, TfidfVectorizer()),\n",
       "                                       (&#x27;cnb&#x27;, ComplementNB())]),\n",
       "             n_jobs=-2,\n",
       "             param_grid={&#x27;cnb__alpha&#x27;: array([ 1.  ,  3.25,  5.5 ,  7.75, 10.  ]),\n",
       "                         &#x27;tvec__max_df&#x27;: [0.85, 0.9, 0.95],\n",
       "                         &#x27;tvec__max_features&#x27;: [30000], &#x27;tvec__min_df&#x27;: [2, 4],\n",
       "                         &#x27;tvec__ngram_range&#x27;: [(3, 4)],\n",
       "                         &#x27;tvec__stop_words&#x27;: [&#x27;english&#x27;]},\n",
       "             scoring=&#x27;f1&#x27;, verbose=10)</pre><b>In a Jupyter environment, please rerun this cell to show the HTML representation or trust the notebook. <br />On GitHub, the HTML representation is unable to render, please try loading this page with nbviewer.org.</b></div><div class=\"sk-container\" hidden><div class=\"sk-item sk-dashed-wrapped\"><div class=\"sk-label-container\"><div class=\"sk-label sk-toggleable\"><input class=\"sk-toggleable__control sk-hidden--visually\" id=\"sk-estimator-id-26\" type=\"checkbox\" ><label for=\"sk-estimator-id-26\" class=\"sk-toggleable__label sk-toggleable__label-arrow\">GridSearchCV</label><div class=\"sk-toggleable__content\"><pre>GridSearchCV(cv=3,\n",
       "             estimator=Pipeline(steps=[(&#x27;tvec&#x27;, TfidfVectorizer()),\n",
       "                                       (&#x27;cnb&#x27;, ComplementNB())]),\n",
       "             n_jobs=-2,\n",
       "             param_grid={&#x27;cnb__alpha&#x27;: array([ 1.  ,  3.25,  5.5 ,  7.75, 10.  ]),\n",
       "                         &#x27;tvec__max_df&#x27;: [0.85, 0.9, 0.95],\n",
       "                         &#x27;tvec__max_features&#x27;: [30000], &#x27;tvec__min_df&#x27;: [2, 4],\n",
       "                         &#x27;tvec__ngram_range&#x27;: [(3, 4)],\n",
       "                         &#x27;tvec__stop_words&#x27;: [&#x27;english&#x27;]},\n",
       "             scoring=&#x27;f1&#x27;, verbose=10)</pre></div></div></div><div class=\"sk-parallel\"><div class=\"sk-parallel-item\"><div class=\"sk-item\"><div class=\"sk-label-container\"><div class=\"sk-label sk-toggleable\"><input class=\"sk-toggleable__control sk-hidden--visually\" id=\"sk-estimator-id-27\" type=\"checkbox\" ><label for=\"sk-estimator-id-27\" class=\"sk-toggleable__label sk-toggleable__label-arrow\">estimator: Pipeline</label><div class=\"sk-toggleable__content\"><pre>Pipeline(steps=[(&#x27;tvec&#x27;, TfidfVectorizer()), (&#x27;cnb&#x27;, ComplementNB())])</pre></div></div></div><div class=\"sk-serial\"><div class=\"sk-item\"><div class=\"sk-serial\"><div class=\"sk-item\"><div class=\"sk-estimator sk-toggleable\"><input class=\"sk-toggleable__control sk-hidden--visually\" id=\"sk-estimator-id-28\" type=\"checkbox\" ><label for=\"sk-estimator-id-28\" class=\"sk-toggleable__label sk-toggleable__label-arrow\">TfidfVectorizer</label><div class=\"sk-toggleable__content\"><pre>TfidfVectorizer()</pre></div></div></div><div class=\"sk-item\"><div class=\"sk-estimator sk-toggleable\"><input class=\"sk-toggleable__control sk-hidden--visually\" id=\"sk-estimator-id-29\" type=\"checkbox\" ><label for=\"sk-estimator-id-29\" class=\"sk-toggleable__label sk-toggleable__label-arrow\">ComplementNB</label><div class=\"sk-toggleable__content\"><pre>ComplementNB()</pre></div></div></div></div></div></div></div></div></div></div></div></div>"
      ],
      "text/plain": [
       "GridSearchCV(cv=3,\n",
       "             estimator=Pipeline(steps=[('tvec', TfidfVectorizer()),\n",
       "                                       ('cnb', ComplementNB())]),\n",
       "             n_jobs=-2,\n",
       "             param_grid={'cnb__alpha': array([ 1.  ,  3.25,  5.5 ,  7.75, 10.  ]),\n",
       "                         'tvec__max_df': [0.85, 0.9, 0.95],\n",
       "                         'tvec__max_features': [30000], 'tvec__min_df': [2, 4],\n",
       "                         'tvec__ngram_range': [(3, 4)],\n",
       "                         'tvec__stop_words': ['english']},\n",
       "             scoring='f1', verbose=10)"
      ]
     },
     "execution_count": 74,
     "metadata": {},
     "output_type": "execute_result"
    }
   ],
   "source": [
    "# Fit GridSearch to training data.\n",
    "gs_M3A.fit(X_train, y_train)"
   ]
  },
  {
   "cell_type": "code",
   "execution_count": 245,
   "id": "9a39fa96-8871-4562-b76f-6d6b1b8c2ce1",
   "metadata": {},
   "outputs": [
    {
     "data": {
      "text/html": [
       "<div>\n",
       "<style scoped>\n",
       "    .dataframe tbody tr th:only-of-type {\n",
       "        vertical-align: middle;\n",
       "    }\n",
       "\n",
       "    .dataframe tbody tr th {\n",
       "        vertical-align: top;\n",
       "    }\n",
       "\n",
       "    .dataframe thead th {\n",
       "        text-align: right;\n",
       "    }\n",
       "</style>\n",
       "<table border=\"1\" class=\"dataframe\">\n",
       "  <thead>\n",
       "    <tr style=\"text-align: right;\">\n",
       "      <th></th>\n",
       "      <th>mean_fit_time</th>\n",
       "      <th>std_fit_time</th>\n",
       "      <th>mean_score_time</th>\n",
       "      <th>std_score_time</th>\n",
       "      <th>param_cnb__alpha</th>\n",
       "      <th>param_tvec__max_df</th>\n",
       "      <th>param_tvec__max_features</th>\n",
       "      <th>param_tvec__min_df</th>\n",
       "      <th>param_tvec__ngram_range</th>\n",
       "      <th>param_tvec__stop_words</th>\n",
       "      <th>params</th>\n",
       "      <th>split0_test_score</th>\n",
       "      <th>split1_test_score</th>\n",
       "      <th>split2_test_score</th>\n",
       "      <th>mean_test_score</th>\n",
       "      <th>std_test_score</th>\n",
       "      <th>rank_test_score</th>\n",
       "    </tr>\n",
       "  </thead>\n",
       "  <tbody>\n",
       "    <tr>\n",
       "      <th>14</th>\n",
       "      <td>14.119604</td>\n",
       "      <td>0.262566</td>\n",
       "      <td>1.768284</td>\n",
       "      <td>0.181911</td>\n",
       "      <td>5.5</td>\n",
       "      <td>0.9</td>\n",
       "      <td>30000</td>\n",
       "      <td>2</td>\n",
       "      <td>(3, 4)</td>\n",
       "      <td>english</td>\n",
       "      <td>{'cnb__alpha': 5.5, 'tvec__max_df': 0.9, 'tvec...</td>\n",
       "      <td>0.894065</td>\n",
       "      <td>0.895625</td>\n",
       "      <td>0.901873</td>\n",
       "      <td>0.897188</td>\n",
       "      <td>0.003374</td>\n",
       "      <td>1</td>\n",
       "    </tr>\n",
       "    <tr>\n",
       "      <th>16</th>\n",
       "      <td>14.047538</td>\n",
       "      <td>0.258242</td>\n",
       "      <td>1.828840</td>\n",
       "      <td>0.144810</td>\n",
       "      <td>5.5</td>\n",
       "      <td>0.95</td>\n",
       "      <td>30000</td>\n",
       "      <td>2</td>\n",
       "      <td>(3, 4)</td>\n",
       "      <td>english</td>\n",
       "      <td>{'cnb__alpha': 5.5, 'tvec__max_df': 0.95, 'tve...</td>\n",
       "      <td>0.894065</td>\n",
       "      <td>0.895625</td>\n",
       "      <td>0.901873</td>\n",
       "      <td>0.897188</td>\n",
       "      <td>0.003374</td>\n",
       "      <td>1</td>\n",
       "    </tr>\n",
       "    <tr>\n",
       "      <th>12</th>\n",
       "      <td>14.451897</td>\n",
       "      <td>0.013726</td>\n",
       "      <td>1.821683</td>\n",
       "      <td>0.065984</td>\n",
       "      <td>5.5</td>\n",
       "      <td>0.85</td>\n",
       "      <td>30000</td>\n",
       "      <td>2</td>\n",
       "      <td>(3, 4)</td>\n",
       "      <td>english</td>\n",
       "      <td>{'cnb__alpha': 5.5, 'tvec__max_df': 0.85, 'tve...</td>\n",
       "      <td>0.894065</td>\n",
       "      <td>0.895625</td>\n",
       "      <td>0.901873</td>\n",
       "      <td>0.897188</td>\n",
       "      <td>0.003374</td>\n",
       "      <td>1</td>\n",
       "    </tr>\n",
       "    <tr>\n",
       "      <th>6</th>\n",
       "      <td>15.916646</td>\n",
       "      <td>0.097677</td>\n",
       "      <td>1.986358</td>\n",
       "      <td>0.032446</td>\n",
       "      <td>3.25</td>\n",
       "      <td>0.85</td>\n",
       "      <td>30000</td>\n",
       "      <td>2</td>\n",
       "      <td>(3, 4)</td>\n",
       "      <td>english</td>\n",
       "      <td>{'cnb__alpha': 3.25, 'tvec__max_df': 0.85, 'tv...</td>\n",
       "      <td>0.893706</td>\n",
       "      <td>0.895952</td>\n",
       "      <td>0.901796</td>\n",
       "      <td>0.897152</td>\n",
       "      <td>0.003410</td>\n",
       "      <td>4</td>\n",
       "    </tr>\n",
       "    <tr>\n",
       "      <th>8</th>\n",
       "      <td>14.469062</td>\n",
       "      <td>0.149820</td>\n",
       "      <td>1.822747</td>\n",
       "      <td>0.041874</td>\n",
       "      <td>3.25</td>\n",
       "      <td>0.9</td>\n",
       "      <td>30000</td>\n",
       "      <td>2</td>\n",
       "      <td>(3, 4)</td>\n",
       "      <td>english</td>\n",
       "      <td>{'cnb__alpha': 3.25, 'tvec__max_df': 0.9, 'tve...</td>\n",
       "      <td>0.893706</td>\n",
       "      <td>0.895952</td>\n",
       "      <td>0.901796</td>\n",
       "      <td>0.897152</td>\n",
       "      <td>0.003410</td>\n",
       "      <td>4</td>\n",
       "    </tr>\n",
       "  </tbody>\n",
       "</table>\n",
       "</div>"
      ],
      "text/plain": [
       "    mean_fit_time  std_fit_time  mean_score_time  std_score_time  \\\n",
       "14      14.119604      0.262566         1.768284        0.181911   \n",
       "16      14.047538      0.258242         1.828840        0.144810   \n",
       "12      14.451897      0.013726         1.821683        0.065984   \n",
       "6       15.916646      0.097677         1.986358        0.032446   \n",
       "8       14.469062      0.149820         1.822747        0.041874   \n",
       "\n",
       "   param_cnb__alpha param_tvec__max_df param_tvec__max_features  \\\n",
       "14              5.5                0.9                    30000   \n",
       "16              5.5               0.95                    30000   \n",
       "12              5.5               0.85                    30000   \n",
       "6              3.25               0.85                    30000   \n",
       "8              3.25                0.9                    30000   \n",
       "\n",
       "   param_tvec__min_df param_tvec__ngram_range param_tvec__stop_words  \\\n",
       "14                  2                  (3, 4)                english   \n",
       "16                  2                  (3, 4)                english   \n",
       "12                  2                  (3, 4)                english   \n",
       "6                   2                  (3, 4)                english   \n",
       "8                   2                  (3, 4)                english   \n",
       "\n",
       "                                               params  split0_test_score  \\\n",
       "14  {'cnb__alpha': 5.5, 'tvec__max_df': 0.9, 'tvec...           0.894065   \n",
       "16  {'cnb__alpha': 5.5, 'tvec__max_df': 0.95, 'tve...           0.894065   \n",
       "12  {'cnb__alpha': 5.5, 'tvec__max_df': 0.85, 'tve...           0.894065   \n",
       "6   {'cnb__alpha': 3.25, 'tvec__max_df': 0.85, 'tv...           0.893706   \n",
       "8   {'cnb__alpha': 3.25, 'tvec__max_df': 0.9, 'tve...           0.893706   \n",
       "\n",
       "    split1_test_score  split2_test_score  mean_test_score  std_test_score  \\\n",
       "14           0.895625           0.901873         0.897188        0.003374   \n",
       "16           0.895625           0.901873         0.897188        0.003374   \n",
       "12           0.895625           0.901873         0.897188        0.003374   \n",
       "6            0.895952           0.901796         0.897152        0.003410   \n",
       "8            0.895952           0.901796         0.897152        0.003410   \n",
       "\n",
       "    rank_test_score  \n",
       "14                1  \n",
       "16                1  \n",
       "12                1  \n",
       "6                 4  \n",
       "8                 4  "
      ]
     },
     "execution_count": 245,
     "metadata": {},
     "output_type": "execute_result"
    }
   ],
   "source": [
    "#top 5 paramters ranked by test score.\n",
    "pd.DataFrame(gs_M3A.cv_results_).sort_values(\"rank_test_score\").head()"
   ]
  },
  {
   "cell_type": "markdown",
   "id": "177ed85b-2287-4ce7-b99f-67053914fd88",
   "metadata": {},
   "source": [
    "#### Pickle"
   ]
  },
  {
   "cell_type": "code",
   "execution_count": 78,
   "id": "1RUME6WCwZzK",
   "metadata": {
    "id": "1RUME6WCwZzK"
   },
   "outputs": [],
   "source": [
    "#if not os.path.exists('pkl/'):\n",
    "#    os.makedirs('pkl/')\n",
    "#\n",
    "#pickle.dump(gs_M3A, open('pkl/gs_M3A.pkl', 'wb'))\n",
    "#pickle.dump(pipe_M3A, open('pkl/pipe_M3A.pkl', 'wb'))"
   ]
  },
  {
   "cell_type": "code",
   "execution_count": 79,
   "id": "mTyIMSn-wZzd",
   "metadata": {
    "id": "mTyIMSn-wZzd"
   },
   "outputs": [],
   "source": [
    "##import pickle\n",
    "#gs_M3A = pickle.load(open('pkl/gs_M3A.pkl', 'rb'))\n",
    "#pipe_M3A = pickle.load(open('pkl/pipe_M3A.pkl', 'rb'))"
   ]
  },
  {
   "cell_type": "markdown",
   "id": "dSq5b8tTnMLZ",
   "metadata": {
    "id": "dSq5b8tTnMLZ"
   },
   "source": [
    "#### Scoring evaluation\n",
    "Same as method 1\n",
    "- Primary F1 score\n",
    "- secondary MCC"
   ]
  },
  {
   "cell_type": "code",
   "execution_count": 80,
   "id": "9ogCdR9hnMLZ",
   "metadata": {
    "colab": {
     "base_uri": "https://localhost:8080/",
     "height": 126
    },
    "executionInfo": {
     "elapsed": 0,
     "status": "ok",
     "timestamp": 1691394446160,
     "user": {
      "displayName": "Benjamin Seah",
      "userId": "10807984017160968891"
     },
     "user_tz": -480
    },
    "id": "9ogCdR9hnMLZ",
    "outputId": "357542cf-dda5-4114-8508-15b0bc517bae"
   },
   "outputs": [
    {
     "data": {
      "text/html": [
       "<style>#sk-container-id-9 {color: black;}#sk-container-id-9 pre{padding: 0;}#sk-container-id-9 div.sk-toggleable {background-color: white;}#sk-container-id-9 label.sk-toggleable__label {cursor: pointer;display: block;width: 100%;margin-bottom: 0;padding: 0.3em;box-sizing: border-box;text-align: center;}#sk-container-id-9 label.sk-toggleable__label-arrow:before {content: \"▸\";float: left;margin-right: 0.25em;color: #696969;}#sk-container-id-9 label.sk-toggleable__label-arrow:hover:before {color: black;}#sk-container-id-9 div.sk-estimator:hover label.sk-toggleable__label-arrow:before {color: black;}#sk-container-id-9 div.sk-toggleable__content {max-height: 0;max-width: 0;overflow: hidden;text-align: left;background-color: #f0f8ff;}#sk-container-id-9 div.sk-toggleable__content pre {margin: 0.2em;color: black;border-radius: 0.25em;background-color: #f0f8ff;}#sk-container-id-9 input.sk-toggleable__control:checked~div.sk-toggleable__content {max-height: 200px;max-width: 100%;overflow: auto;}#sk-container-id-9 input.sk-toggleable__control:checked~label.sk-toggleable__label-arrow:before {content: \"▾\";}#sk-container-id-9 div.sk-estimator input.sk-toggleable__control:checked~label.sk-toggleable__label {background-color: #d4ebff;}#sk-container-id-9 div.sk-label input.sk-toggleable__control:checked~label.sk-toggleable__label {background-color: #d4ebff;}#sk-container-id-9 input.sk-hidden--visually {border: 0;clip: rect(1px 1px 1px 1px);clip: rect(1px, 1px, 1px, 1px);height: 1px;margin: -1px;overflow: hidden;padding: 0;position: absolute;width: 1px;}#sk-container-id-9 div.sk-estimator {font-family: monospace;background-color: #f0f8ff;border: 1px dotted black;border-radius: 0.25em;box-sizing: border-box;margin-bottom: 0.5em;}#sk-container-id-9 div.sk-estimator:hover {background-color: #d4ebff;}#sk-container-id-9 div.sk-parallel-item::after {content: \"\";width: 100%;border-bottom: 1px solid gray;flex-grow: 1;}#sk-container-id-9 div.sk-label:hover label.sk-toggleable__label {background-color: #d4ebff;}#sk-container-id-9 div.sk-serial::before {content: \"\";position: absolute;border-left: 1px solid gray;box-sizing: border-box;top: 0;bottom: 0;left: 50%;z-index: 0;}#sk-container-id-9 div.sk-serial {display: flex;flex-direction: column;align-items: center;background-color: white;padding-right: 0.2em;padding-left: 0.2em;position: relative;}#sk-container-id-9 div.sk-item {position: relative;z-index: 1;}#sk-container-id-9 div.sk-parallel {display: flex;align-items: stretch;justify-content: center;background-color: white;position: relative;}#sk-container-id-9 div.sk-item::before, #sk-container-id-9 div.sk-parallel-item::before {content: \"\";position: absolute;border-left: 1px solid gray;box-sizing: border-box;top: 0;bottom: 0;left: 50%;z-index: -1;}#sk-container-id-9 div.sk-parallel-item {display: flex;flex-direction: column;z-index: 1;position: relative;background-color: white;}#sk-container-id-9 div.sk-parallel-item:first-child::after {align-self: flex-end;width: 50%;}#sk-container-id-9 div.sk-parallel-item:last-child::after {align-self: flex-start;width: 50%;}#sk-container-id-9 div.sk-parallel-item:only-child::after {width: 0;}#sk-container-id-9 div.sk-dashed-wrapped {border: 1px dashed gray;margin: 0 0.4em 0.5em 0.4em;box-sizing: border-box;padding-bottom: 0.4em;background-color: white;}#sk-container-id-9 div.sk-label label {font-family: monospace;font-weight: bold;display: inline-block;line-height: 1.2em;}#sk-container-id-9 div.sk-label-container {text-align: center;}#sk-container-id-9 div.sk-container {/* jupyter's `normalize.less` sets `[hidden] { display: none; }` but bootstrap.min.css set `[hidden] { display: none !important; }` so we also need the `!important` here to be able to override the default hidden behavior on the sphinx rendered scikit-learn.org. See: https://github.com/scikit-learn/scikit-learn/issues/21755 */display: inline-block !important;position: relative;}#sk-container-id-9 div.sk-text-repr-fallback {display: none;}</style><div id=\"sk-container-id-9\" class=\"sk-top-container\"><div class=\"sk-text-repr-fallback\"><pre>Pipeline(steps=[(&#x27;tvec&#x27;,\n",
       "                 TfidfVectorizer(max_df=0.85, max_features=30000, min_df=2,\n",
       "                                 ngram_range=(3, 4), stop_words=&#x27;english&#x27;)),\n",
       "                (&#x27;cnb&#x27;, ComplementNB(alpha=5.5))])</pre><b>In a Jupyter environment, please rerun this cell to show the HTML representation or trust the notebook. <br />On GitHub, the HTML representation is unable to render, please try loading this page with nbviewer.org.</b></div><div class=\"sk-container\" hidden><div class=\"sk-item sk-dashed-wrapped\"><div class=\"sk-label-container\"><div class=\"sk-label sk-toggleable\"><input class=\"sk-toggleable__control sk-hidden--visually\" id=\"sk-estimator-id-30\" type=\"checkbox\" ><label for=\"sk-estimator-id-30\" class=\"sk-toggleable__label sk-toggleable__label-arrow\">Pipeline</label><div class=\"sk-toggleable__content\"><pre>Pipeline(steps=[(&#x27;tvec&#x27;,\n",
       "                 TfidfVectorizer(max_df=0.85, max_features=30000, min_df=2,\n",
       "                                 ngram_range=(3, 4), stop_words=&#x27;english&#x27;)),\n",
       "                (&#x27;cnb&#x27;, ComplementNB(alpha=5.5))])</pre></div></div></div><div class=\"sk-serial\"><div class=\"sk-item\"><div class=\"sk-estimator sk-toggleable\"><input class=\"sk-toggleable__control sk-hidden--visually\" id=\"sk-estimator-id-31\" type=\"checkbox\" ><label for=\"sk-estimator-id-31\" class=\"sk-toggleable__label sk-toggleable__label-arrow\">TfidfVectorizer</label><div class=\"sk-toggleable__content\"><pre>TfidfVectorizer(max_df=0.85, max_features=30000, min_df=2, ngram_range=(3, 4),\n",
       "                stop_words=&#x27;english&#x27;)</pre></div></div></div><div class=\"sk-item\"><div class=\"sk-estimator sk-toggleable\"><input class=\"sk-toggleable__control sk-hidden--visually\" id=\"sk-estimator-id-32\" type=\"checkbox\" ><label for=\"sk-estimator-id-32\" class=\"sk-toggleable__label sk-toggleable__label-arrow\">ComplementNB</label><div class=\"sk-toggleable__content\"><pre>ComplementNB(alpha=5.5)</pre></div></div></div></div></div></div></div>"
      ],
      "text/plain": [
       "Pipeline(steps=[('tvec',\n",
       "                 TfidfVectorizer(max_df=0.85, max_features=30000, min_df=2,\n",
       "                                 ngram_range=(3, 4), stop_words='english')),\n",
       "                ('cnb', ComplementNB(alpha=5.5))])"
      ]
     },
     "execution_count": 80,
     "metadata": {},
     "output_type": "execute_result"
    }
   ],
   "source": [
    "#get best output from gs\n",
    "gs_M3A.best_estimator_"
   ]
  },
  {
   "cell_type": "code",
   "execution_count": 81,
   "id": "oaY-5GPqnMLZ",
   "metadata": {
    "colab": {
     "base_uri": "https://localhost:8080/",
     "height": 836
    },
    "executionInfo": {
     "elapsed": 8150,
     "status": "ok",
     "timestamp": 1691394454250,
     "user": {
      "displayName": "Benjamin Seah",
      "userId": "10807984017160968891"
     },
     "user_tz": -480
    },
    "id": "oaY-5GPqnMLZ",
    "outputId": "18555664-f901-4368-cb11-ab8a3e61a6e6"
   },
   "outputs": [
    {
     "name": "stdout",
     "output_type": "stream",
     "text": [
      "Best estimator from gridsearch: Pipeline(steps=[('tvec',\n",
      "                 TfidfVectorizer(max_df=0.85, max_features=30000, min_df=2,\n",
      "                                 ngram_range=(3, 4), stop_words='english')),\n",
      "                ('cnb', ComplementNB(alpha=5.5))])\n",
      "_________________________________________\n",
      "Score metrics of train data:\n",
      "----------------------------------------\n",
      "Accuracy score (Predictive Value): 0.9061\n",
      "Specificity (True Negative Rate) score: 0.7718\n",
      "Sensitivity (True Positive Rate) score: 0.9379\n",
      "Precision (Positive Predictive Value) score: 0.9456\n",
      "F1 score: 0.9417\n",
      "MCC score (phi-coefficient): 0.7007\n",
      "\n",
      "__________________________________________________\n",
      " Score metrics of test data:\n",
      "----------------------------------------\n",
      "Accuracy score (Predictive Value): 0.8324\n",
      "Specificity (True Negative Rate) score: 0.6250\n",
      "Sensitivity (True Positive Rate) score: 0.8814\n",
      "Precision (Positive Predictive Value) score: 0.9086\n",
      "F1 score: 0.8948\n",
      "MCC score (phi-coefficient): 0.4844\n",
      "__________________________________________________\n"
     ]
    },
    {
     "data": {
      "image/png": "[encoded data removed]",
      "text/plain": [
       "<Figure size 640x480 with 2 Axes>"
      ]
     },
     "metadata": {},
     "output_type": "display_data"
    }
   ],
   "source": [
    "#scores for evaluation\n",
    "evaluator(gs_M3A)"
   ]
  },
  {
   "cell_type": "markdown",
   "id": "tIeYgLeBnMLZ",
   "metadata": {
    "id": "tIeYgLeBnMLZ"
   },
   "source": [
    "Using the CNB seems to not improve the metrics results, with f1 score dropping from around 92.3% in model 2 to around 89.5%, and overfitting has actually increase from around 2.3% to 4.7%. The metric scores in general has also dropped, with the mcc score dropping almost 2% to 48%. THe reason is clear with the false negative spiking up. \n",
    "\n",
    "It may be that this peculiarity of the situation where forcing out high ngrams words/features is causing the model to not be effectively categorised since the models seems to be performing worse and worse."
   ]
  },
  {
   "cell_type": "markdown",
   "id": "348c61e4-94d1-4cd3-812c-509ea1d35bbe",
   "metadata": {
    "id": "nufOPGBJ-OEu"
   },
   "source": [
    "### Method 3B: Random Oversampling + TfidfVectorizer + Multinomial Naive Bayes\n",
    "Random Oversampling using imblearn library"
   ]
  },
  {
   "cell_type": "code",
   "execution_count": 202,
   "id": "29a91ed5-5bd9-4aba-bd17-ea2437b6171f",
   "metadata": {},
   "outputs": [],
   "source": [
    "# Randomly over sample the minority class\n",
    "#instantiate ROS\n",
    "ros = RandomOverSampler(random_state=42)\n",
    "\n",
    "#reshape to fit oversampler\n",
    "X_train_reshaped = X_train.values.reshape(-1, 1)\n",
    "\n",
    "#fit and resample\n",
    "X_train_ros, y_train_ros = ros.fit_resample(X_train_reshaped, y_train)"
   ]
  },
  {
   "cell_type": "markdown",
   "id": "5eca2a6f-94c3-41b1-afe9-040e646f4dee",
   "metadata": {
    "id": "s4MFxFOrnMLX"
   },
   "source": [
    "#### Modeling\n"
   ]
  },
  {
   "cell_type": "code",
   "execution_count": 206,
   "id": "05dfa0f6-0baf-4816-86b5-89e518949e88",
   "metadata": {
    "id": "-EXe5GQfnMLX"
   },
   "outputs": [],
   "source": [
    "#Set up a pipeline\n",
    "pipe_M3B = Pipeline([('tvec', TfidfVectorizer(lowercase = False)),\n",
    "                     ('nb', MultinomialNB())\n",
    "                    ])"
   ]
  },
  {
   "cell_type": "code",
   "execution_count": 207,
   "id": "af25cb90-31ff-480d-8a84-cc101a76c6da",
   "metadata": {
    "id": "JUza2X55XfxI"
   },
   "outputs": [],
   "source": [
    "#Set pipline parameters\n",
    "pipe_M3B_params = {'tvec__max_features': [30000], #max features for considering after finetuning in the background\n",
    "                   'tvec__min_df': [2, 4],\n",
    "                   'tvec__max_df': [.85, .9, .95],\n",
    "                   'tvec__stop_words': ['english'],\n",
    "                   'tvec__ngram_range': [(3, 4)],  #min number ngrams for considering after finetuning in the background\n",
    "                   'nb__alpha': np.linspace(1,10,5)\n",
    "                  }"
   ]
  },
  {
   "cell_type": "code",
   "execution_count": 208,
   "id": "2fa2e4bf-b9c2-4abb-ab68-3b82caff1a9b",
   "metadata": {
    "id": "1V-JvfdtXfxJ"
   },
   "outputs": [],
   "source": [
    "# Instantiate GridSearchCV.\n",
    "gs_M3B = GridSearchCV(pipe_M3B,                     # what object are we optimizing?\n",
    "                     param_grid = pipe_M3B_params, # what parameters values are we searching?\n",
    "                     cv=3,                        # 3-fold cross-validation.\n",
    "                     scoring = 'f1',              # balanced to check both precision and recall \n",
    "                     n_jobs = -2,\n",
    "                     verbose = 10\n",
    "                    )\n"
   ]
  },
  {
   "cell_type": "code",
   "execution_count": 209,
   "id": "2551515b-14ed-49df-9d37-af6dd768672b",
   "metadata": {
    "colab": {
     "base_uri": "https://localhost:8080/",
     "height": 152
    },
    "executionInfo": {
     "elapsed": 907794,
     "status": "ok",
     "timestamp": 1691394446105,
     "user": {
      "displayName": "Benjamin Seah",
      "userId": "10807984017160968891"
     },
     "user_tz": -480
    },
    "id": "BrrgIu2QnMLY",
    "outputId": "0b567fba-f13e-4af2-fb95-5d26aec43654"
   },
   "outputs": [
    {
     "name": "stdout",
     "output_type": "stream",
     "text": [
      "Fitting 3 folds for each of 30 candidates, totalling 90 fits\n"
     ]
    },
    {
     "data": {
      "text/html": [
       "<style>#sk-container-id-26 {color: black;}#sk-container-id-26 pre{padding: 0;}#sk-container-id-26 div.sk-toggleable {background-color: white;}#sk-container-id-26 label.sk-toggleable__label {cursor: pointer;display: block;width: 100%;margin-bottom: 0;padding: 0.3em;box-sizing: border-box;text-align: center;}#sk-container-id-26 label.sk-toggleable__label-arrow:before {content: \"▸\";float: left;margin-right: 0.25em;color: #696969;}#sk-container-id-26 label.sk-toggleable__label-arrow:hover:before {color: black;}#sk-container-id-26 div.sk-estimator:hover label.sk-toggleable__label-arrow:before {color: black;}#sk-container-id-26 div.sk-toggleable__content {max-height: 0;max-width: 0;overflow: hidden;text-align: left;background-color: #f0f8ff;}#sk-container-id-26 div.sk-toggleable__content pre {margin: 0.2em;color: black;border-radius: 0.25em;background-color: #f0f8ff;}#sk-container-id-26 input.sk-toggleable__control:checked~div.sk-toggleable__content {max-height: 200px;max-width: 100%;overflow: auto;}#sk-container-id-26 input.sk-toggleable__control:checked~label.sk-toggleable__label-arrow:before {content: \"▾\";}#sk-container-id-26 div.sk-estimator input.sk-toggleable__control:checked~label.sk-toggleable__label {background-color: #d4ebff;}#sk-container-id-26 div.sk-label input.sk-toggleable__control:checked~label.sk-toggleable__label {background-color: #d4ebff;}#sk-container-id-26 input.sk-hidden--visually {border: 0;clip: rect(1px 1px 1px 1px);clip: rect(1px, 1px, 1px, 1px);height: 1px;margin: -1px;overflow: hidden;padding: 0;position: absolute;width: 1px;}#sk-container-id-26 div.sk-estimator {font-family: monospace;background-color: #f0f8ff;border: 1px dotted black;border-radius: 0.25em;box-sizing: border-box;margin-bottom: 0.5em;}#sk-container-id-26 div.sk-estimator:hover {background-color: #d4ebff;}#sk-container-id-26 div.sk-parallel-item::after {content: \"\";width: 100%;border-bottom: 1px solid gray;flex-grow: 1;}#sk-container-id-26 div.sk-label:hover label.sk-toggleable__label {background-color: #d4ebff;}#sk-container-id-26 div.sk-serial::before {content: \"\";position: absolute;border-left: 1px solid gray;box-sizing: border-box;top: 0;bottom: 0;left: 50%;z-index: 0;}#sk-container-id-26 div.sk-serial {display: flex;flex-direction: column;align-items: center;background-color: white;padding-right: 0.2em;padding-left: 0.2em;position: relative;}#sk-container-id-26 div.sk-item {position: relative;z-index: 1;}#sk-container-id-26 div.sk-parallel {display: flex;align-items: stretch;justify-content: center;background-color: white;position: relative;}#sk-container-id-26 div.sk-item::before, #sk-container-id-26 div.sk-parallel-item::before {content: \"\";position: absolute;border-left: 1px solid gray;box-sizing: border-box;top: 0;bottom: 0;left: 50%;z-index: -1;}#sk-container-id-26 div.sk-parallel-item {display: flex;flex-direction: column;z-index: 1;position: relative;background-color: white;}#sk-container-id-26 div.sk-parallel-item:first-child::after {align-self: flex-end;width: 50%;}#sk-container-id-26 div.sk-parallel-item:last-child::after {align-self: flex-start;width: 50%;}#sk-container-id-26 div.sk-parallel-item:only-child::after {width: 0;}#sk-container-id-26 div.sk-dashed-wrapped {border: 1px dashed gray;margin: 0 0.4em 0.5em 0.4em;box-sizing: border-box;padding-bottom: 0.4em;background-color: white;}#sk-container-id-26 div.sk-label label {font-family: monospace;font-weight: bold;display: inline-block;line-height: 1.2em;}#sk-container-id-26 div.sk-label-container {text-align: center;}#sk-container-id-26 div.sk-container {/* jupyter's `normalize.less` sets `[hidden] { display: none; }` but bootstrap.min.css set `[hidden] { display: none !important; }` so we also need the `!important` here to be able to override the default hidden behavior on the sphinx rendered scikit-learn.org. See: https://github.com/scikit-learn/scikit-learn/issues/21755 */display: inline-block !important;position: relative;}#sk-container-id-26 div.sk-text-repr-fallback {display: none;}</style><div id=\"sk-container-id-26\" class=\"sk-top-container\"><div class=\"sk-text-repr-fallback\"><pre>GridSearchCV(cv=3,\n",
       "             estimator=Pipeline(steps=[(&#x27;tvec&#x27;,\n",
       "                                        TfidfVectorizer(lowercase=False)),\n",
       "                                       (&#x27;nb&#x27;, MultinomialNB())]),\n",
       "             n_jobs=-2,\n",
       "             param_grid={&#x27;nb__alpha&#x27;: array([ 1.  ,  3.25,  5.5 ,  7.75, 10.  ]),\n",
       "                         &#x27;tvec__max_df&#x27;: [0.85, 0.9, 0.95],\n",
       "                         &#x27;tvec__max_features&#x27;: [30000], &#x27;tvec__min_df&#x27;: [2, 4],\n",
       "                         &#x27;tvec__ngram_range&#x27;: [(3, 4)],\n",
       "                         &#x27;tvec__stop_words&#x27;: [&#x27;english&#x27;]},\n",
       "             scoring=&#x27;f1&#x27;, verbose=10)</pre><b>In a Jupyter environment, please rerun this cell to show the HTML representation or trust the notebook. <br />On GitHub, the HTML representation is unable to render, please try loading this page with nbviewer.org.</b></div><div class=\"sk-container\" hidden><div class=\"sk-item sk-dashed-wrapped\"><div class=\"sk-label-container\"><div class=\"sk-label sk-toggleable\"><input class=\"sk-toggleable__control sk-hidden--visually\" id=\"sk-estimator-id-85\" type=\"checkbox\" ><label for=\"sk-estimator-id-85\" class=\"sk-toggleable__label sk-toggleable__label-arrow\">GridSearchCV</label><div class=\"sk-toggleable__content\"><pre>GridSearchCV(cv=3,\n",
       "             estimator=Pipeline(steps=[(&#x27;tvec&#x27;,\n",
       "                                        TfidfVectorizer(lowercase=False)),\n",
       "                                       (&#x27;nb&#x27;, MultinomialNB())]),\n",
       "             n_jobs=-2,\n",
       "             param_grid={&#x27;nb__alpha&#x27;: array([ 1.  ,  3.25,  5.5 ,  7.75, 10.  ]),\n",
       "                         &#x27;tvec__max_df&#x27;: [0.85, 0.9, 0.95],\n",
       "                         &#x27;tvec__max_features&#x27;: [30000], &#x27;tvec__min_df&#x27;: [2, 4],\n",
       "                         &#x27;tvec__ngram_range&#x27;: [(3, 4)],\n",
       "                         &#x27;tvec__stop_words&#x27;: [&#x27;english&#x27;]},\n",
       "             scoring=&#x27;f1&#x27;, verbose=10)</pre></div></div></div><div class=\"sk-parallel\"><div class=\"sk-parallel-item\"><div class=\"sk-item\"><div class=\"sk-label-container\"><div class=\"sk-label sk-toggleable\"><input class=\"sk-toggleable__control sk-hidden--visually\" id=\"sk-estimator-id-86\" type=\"checkbox\" ><label for=\"sk-estimator-id-86\" class=\"sk-toggleable__label sk-toggleable__label-arrow\">estimator: Pipeline</label><div class=\"sk-toggleable__content\"><pre>Pipeline(steps=[(&#x27;tvec&#x27;, TfidfVectorizer(lowercase=False)),\n",
       "                (&#x27;nb&#x27;, MultinomialNB())])</pre></div></div></div><div class=\"sk-serial\"><div class=\"sk-item\"><div class=\"sk-serial\"><div class=\"sk-item\"><div class=\"sk-estimator sk-toggleable\"><input class=\"sk-toggleable__control sk-hidden--visually\" id=\"sk-estimator-id-87\" type=\"checkbox\" ><label for=\"sk-estimator-id-87\" class=\"sk-toggleable__label sk-toggleable__label-arrow\">TfidfVectorizer</label><div class=\"sk-toggleable__content\"><pre>TfidfVectorizer(lowercase=False)</pre></div></div></div><div class=\"sk-item\"><div class=\"sk-estimator sk-toggleable\"><input class=\"sk-toggleable__control sk-hidden--visually\" id=\"sk-estimator-id-88\" type=\"checkbox\" ><label for=\"sk-estimator-id-88\" class=\"sk-toggleable__label sk-toggleable__label-arrow\">MultinomialNB</label><div class=\"sk-toggleable__content\"><pre>MultinomialNB()</pre></div></div></div></div></div></div></div></div></div></div></div></div>"
      ],
      "text/plain": [
       "GridSearchCV(cv=3,\n",
       "             estimator=Pipeline(steps=[('tvec',\n",
       "                                        TfidfVectorizer(lowercase=False)),\n",
       "                                       ('nb', MultinomialNB())]),\n",
       "             n_jobs=-2,\n",
       "             param_grid={'nb__alpha': array([ 1.  ,  3.25,  5.5 ,  7.75, 10.  ]),\n",
       "                         'tvec__max_df': [0.85, 0.9, 0.95],\n",
       "                         'tvec__max_features': [30000], 'tvec__min_df': [2, 4],\n",
       "                         'tvec__ngram_range': [(3, 4)],\n",
       "                         'tvec__stop_words': ['english']},\n",
       "             scoring='f1', verbose=10)"
      ]
     },
     "execution_count": 209,
     "metadata": {},
     "output_type": "execute_result"
    }
   ],
   "source": [
    "# Fit GridSearch to training data.\n",
    "gs_M3B.fit(X_train_ros.ravel(), y_train_ros.ravel())"
   ]
  },
  {
   "cell_type": "code",
   "execution_count": 246,
   "id": "a5d07b8d-6e54-4176-a3c3-d59581a1a4d2",
   "metadata": {},
   "outputs": [
    {
     "data": {
      "text/html": [
       "<div>\n",
       "<style scoped>\n",
       "    .dataframe tbody tr th:only-of-type {\n",
       "        vertical-align: middle;\n",
       "    }\n",
       "\n",
       "    .dataframe tbody tr th {\n",
       "        vertical-align: top;\n",
       "    }\n",
       "\n",
       "    .dataframe thead th {\n",
       "        text-align: right;\n",
       "    }\n",
       "</style>\n",
       "<table border=\"1\" class=\"dataframe\">\n",
       "  <thead>\n",
       "    <tr style=\"text-align: right;\">\n",
       "      <th></th>\n",
       "      <th>mean_fit_time</th>\n",
       "      <th>std_fit_time</th>\n",
       "      <th>mean_score_time</th>\n",
       "      <th>std_score_time</th>\n",
       "      <th>param_nb__alpha</th>\n",
       "      <th>param_tvec__max_df</th>\n",
       "      <th>param_tvec__max_features</th>\n",
       "      <th>param_tvec__min_df</th>\n",
       "      <th>param_tvec__ngram_range</th>\n",
       "      <th>param_tvec__stop_words</th>\n",
       "      <th>params</th>\n",
       "      <th>split0_test_score</th>\n",
       "      <th>split1_test_score</th>\n",
       "      <th>split2_test_score</th>\n",
       "      <th>mean_test_score</th>\n",
       "      <th>std_test_score</th>\n",
       "      <th>rank_test_score</th>\n",
       "    </tr>\n",
       "  </thead>\n",
       "  <tbody>\n",
       "    <tr>\n",
       "      <th>0</th>\n",
       "      <td>22.226506</td>\n",
       "      <td>0.319421</td>\n",
       "      <td>2.934424</td>\n",
       "      <td>0.064495</td>\n",
       "      <td>1.0</td>\n",
       "      <td>0.85</td>\n",
       "      <td>30000</td>\n",
       "      <td>2</td>\n",
       "      <td>(3, 4)</td>\n",
       "      <td>english</td>\n",
       "      <td>{'nb__alpha': 1.0, 'tvec__max_df': 0.85, 'tvec...</td>\n",
       "      <td>0.835432</td>\n",
       "      <td>0.847829</td>\n",
       "      <td>0.845614</td>\n",
       "      <td>0.842958</td>\n",
       "      <td>0.005398</td>\n",
       "      <td>1</td>\n",
       "    </tr>\n",
       "    <tr>\n",
       "      <th>2</th>\n",
       "      <td>18.984030</td>\n",
       "      <td>2.235124</td>\n",
       "      <td>2.922294</td>\n",
       "      <td>0.067984</td>\n",
       "      <td>1.0</td>\n",
       "      <td>0.9</td>\n",
       "      <td>30000</td>\n",
       "      <td>2</td>\n",
       "      <td>(3, 4)</td>\n",
       "      <td>english</td>\n",
       "      <td>{'nb__alpha': 1.0, 'tvec__max_df': 0.9, 'tvec_...</td>\n",
       "      <td>0.835432</td>\n",
       "      <td>0.847829</td>\n",
       "      <td>0.845614</td>\n",
       "      <td>0.842958</td>\n",
       "      <td>0.005398</td>\n",
       "      <td>1</td>\n",
       "    </tr>\n",
       "    <tr>\n",
       "      <th>4</th>\n",
       "      <td>18.412985</td>\n",
       "      <td>1.050730</td>\n",
       "      <td>2.897565</td>\n",
       "      <td>0.046447</td>\n",
       "      <td>1.0</td>\n",
       "      <td>0.95</td>\n",
       "      <td>30000</td>\n",
       "      <td>2</td>\n",
       "      <td>(3, 4)</td>\n",
       "      <td>english</td>\n",
       "      <td>{'nb__alpha': 1.0, 'tvec__max_df': 0.95, 'tvec...</td>\n",
       "      <td>0.835432</td>\n",
       "      <td>0.847829</td>\n",
       "      <td>0.845614</td>\n",
       "      <td>0.842958</td>\n",
       "      <td>0.005398</td>\n",
       "      <td>1</td>\n",
       "    </tr>\n",
       "    <tr>\n",
       "      <th>1</th>\n",
       "      <td>21.945104</td>\n",
       "      <td>0.220836</td>\n",
       "      <td>2.944946</td>\n",
       "      <td>0.011026</td>\n",
       "      <td>1.0</td>\n",
       "      <td>0.85</td>\n",
       "      <td>30000</td>\n",
       "      <td>4</td>\n",
       "      <td>(3, 4)</td>\n",
       "      <td>english</td>\n",
       "      <td>{'nb__alpha': 1.0, 'tvec__max_df': 0.85, 'tvec...</td>\n",
       "      <td>0.831724</td>\n",
       "      <td>0.843039</td>\n",
       "      <td>0.848183</td>\n",
       "      <td>0.840982</td>\n",
       "      <td>0.006875</td>\n",
       "      <td>4</td>\n",
       "    </tr>\n",
       "    <tr>\n",
       "      <th>3</th>\n",
       "      <td>17.802764</td>\n",
       "      <td>0.079947</td>\n",
       "      <td>2.888735</td>\n",
       "      <td>0.028640</td>\n",
       "      <td>1.0</td>\n",
       "      <td>0.9</td>\n",
       "      <td>30000</td>\n",
       "      <td>4</td>\n",
       "      <td>(3, 4)</td>\n",
       "      <td>english</td>\n",
       "      <td>{'nb__alpha': 1.0, 'tvec__max_df': 0.9, 'tvec_...</td>\n",
       "      <td>0.831724</td>\n",
       "      <td>0.843039</td>\n",
       "      <td>0.848183</td>\n",
       "      <td>0.840982</td>\n",
       "      <td>0.006875</td>\n",
       "      <td>4</td>\n",
       "    </tr>\n",
       "  </tbody>\n",
       "</table>\n",
       "</div>"
      ],
      "text/plain": [
       "   mean_fit_time  std_fit_time  mean_score_time  std_score_time  \\\n",
       "0      22.226506      0.319421         2.934424        0.064495   \n",
       "2      18.984030      2.235124         2.922294        0.067984   \n",
       "4      18.412985      1.050730         2.897565        0.046447   \n",
       "1      21.945104      0.220836         2.944946        0.011026   \n",
       "3      17.802764      0.079947         2.888735        0.028640   \n",
       "\n",
       "  param_nb__alpha param_tvec__max_df param_tvec__max_features  \\\n",
       "0             1.0               0.85                    30000   \n",
       "2             1.0                0.9                    30000   \n",
       "4             1.0               0.95                    30000   \n",
       "1             1.0               0.85                    30000   \n",
       "3             1.0                0.9                    30000   \n",
       "\n",
       "  param_tvec__min_df param_tvec__ngram_range param_tvec__stop_words  \\\n",
       "0                  2                  (3, 4)                english   \n",
       "2                  2                  (3, 4)                english   \n",
       "4                  2                  (3, 4)                english   \n",
       "1                  4                  (3, 4)                english   \n",
       "3                  4                  (3, 4)                english   \n",
       "\n",
       "                                              params  split0_test_score  \\\n",
       "0  {'nb__alpha': 1.0, 'tvec__max_df': 0.85, 'tvec...           0.835432   \n",
       "2  {'nb__alpha': 1.0, 'tvec__max_df': 0.9, 'tvec_...           0.835432   \n",
       "4  {'nb__alpha': 1.0, 'tvec__max_df': 0.95, 'tvec...           0.835432   \n",
       "1  {'nb__alpha': 1.0, 'tvec__max_df': 0.85, 'tvec...           0.831724   \n",
       "3  {'nb__alpha': 1.0, 'tvec__max_df': 0.9, 'tvec_...           0.831724   \n",
       "\n",
       "   split1_test_score  split2_test_score  mean_test_score  std_test_score  \\\n",
       "0           0.847829           0.845614         0.842958        0.005398   \n",
       "2           0.847829           0.845614         0.842958        0.005398   \n",
       "4           0.847829           0.845614         0.842958        0.005398   \n",
       "1           0.843039           0.848183         0.840982        0.006875   \n",
       "3           0.843039           0.848183         0.840982        0.006875   \n",
       "\n",
       "   rank_test_score  \n",
       "0                1  \n",
       "2                1  \n",
       "4                1  \n",
       "1                4  \n",
       "3                4  "
      ]
     },
     "execution_count": 246,
     "metadata": {},
     "output_type": "execute_result"
    }
   ],
   "source": [
    "#top 5 paramters ranked by test score.\n",
    "pd.DataFrame(gs_M3B.cv_results_).sort_values(\"rank_test_score\").head()"
   ]
  },
  {
   "cell_type": "code",
   "execution_count": 121,
   "id": "fabf8dd2-4cd2-48c6-b29f-6f6ded6ea91c",
   "metadata": {
    "id": "1RUME6WCwZzK"
   },
   "outputs": [],
   "source": [
    "if not os.path.exists('pkl/'):\n",
    "    os.makedirs('pkl/')\n",
    "\n",
    "pickle.dump(gs_M3B, open('pkl/gs_M3B.pkl', 'wb'))\n",
    "pickle.dump(pipe_M3B, open('pkl/pipe_M3B.pkl', 'wb'))"
   ]
  },
  {
   "cell_type": "code",
   "execution_count": 92,
   "id": "c4db64b6-2286-4051-a089-2d3d5951555f",
   "metadata": {
    "id": "mTyIMSn-wZzd"
   },
   "outputs": [],
   "source": [
    "##import pickle\n",
    "#gs_M3B = pickle.load(open('pkl/gs_M3B.pkl', 'rb'))\n",
    "#pipe_M3B = pickle.load(open('pkl/pipe_M3B.pkl', 'rb'))"
   ]
  },
  {
   "cell_type": "markdown",
   "id": "9a3373b6-4e0e-41ea-9ddb-7b365667cb08",
   "metadata": {
    "id": "dSq5b8tTnMLZ"
   },
   "source": [
    "#### Scoring evaluation\n",
    "Same as method 1\n",
    "- Primary F1 score\n",
    "- secondary MCC"
   ]
  },
  {
   "cell_type": "code",
   "execution_count": 211,
   "id": "c46de77f-173c-4161-a67d-1d82bd3e7a1a",
   "metadata": {
    "colab": {
     "base_uri": "https://localhost:8080/",
     "height": 126
    },
    "executionInfo": {
     "elapsed": 0,
     "status": "ok",
     "timestamp": 1691394446160,
     "user": {
      "displayName": "Benjamin Seah",
      "userId": "10807984017160968891"
     },
     "user_tz": -480
    },
    "id": "9ogCdR9hnMLZ",
    "outputId": "357542cf-dda5-4114-8508-15b0bc517bae"
   },
   "outputs": [
    {
     "data": {
      "text/html": [
       "<style>#sk-container-id-27 {color: black;}#sk-container-id-27 pre{padding: 0;}#sk-container-id-27 div.sk-toggleable {background-color: white;}#sk-container-id-27 label.sk-toggleable__label {cursor: pointer;display: block;width: 100%;margin-bottom: 0;padding: 0.3em;box-sizing: border-box;text-align: center;}#sk-container-id-27 label.sk-toggleable__label-arrow:before {content: \"▸\";float: left;margin-right: 0.25em;color: #696969;}#sk-container-id-27 label.sk-toggleable__label-arrow:hover:before {color: black;}#sk-container-id-27 div.sk-estimator:hover label.sk-toggleable__label-arrow:before {color: black;}#sk-container-id-27 div.sk-toggleable__content {max-height: 0;max-width: 0;overflow: hidden;text-align: left;background-color: #f0f8ff;}#sk-container-id-27 div.sk-toggleable__content pre {margin: 0.2em;color: black;border-radius: 0.25em;background-color: #f0f8ff;}#sk-container-id-27 input.sk-toggleable__control:checked~div.sk-toggleable__content {max-height: 200px;max-width: 100%;overflow: auto;}#sk-container-id-27 input.sk-toggleable__control:checked~label.sk-toggleable__label-arrow:before {content: \"▾\";}#sk-container-id-27 div.sk-estimator input.sk-toggleable__control:checked~label.sk-toggleable__label {background-color: #d4ebff;}#sk-container-id-27 div.sk-label input.sk-toggleable__control:checked~label.sk-toggleable__label {background-color: #d4ebff;}#sk-container-id-27 input.sk-hidden--visually {border: 0;clip: rect(1px 1px 1px 1px);clip: rect(1px, 1px, 1px, 1px);height: 1px;margin: -1px;overflow: hidden;padding: 0;position: absolute;width: 1px;}#sk-container-id-27 div.sk-estimator {font-family: monospace;background-color: #f0f8ff;border: 1px dotted black;border-radius: 0.25em;box-sizing: border-box;margin-bottom: 0.5em;}#sk-container-id-27 div.sk-estimator:hover {background-color: #d4ebff;}#sk-container-id-27 div.sk-parallel-item::after {content: \"\";width: 100%;border-bottom: 1px solid gray;flex-grow: 1;}#sk-container-id-27 div.sk-label:hover label.sk-toggleable__label {background-color: #d4ebff;}#sk-container-id-27 div.sk-serial::before {content: \"\";position: absolute;border-left: 1px solid gray;box-sizing: border-box;top: 0;bottom: 0;left: 50%;z-index: 0;}#sk-container-id-27 div.sk-serial {display: flex;flex-direction: column;align-items: center;background-color: white;padding-right: 0.2em;padding-left: 0.2em;position: relative;}#sk-container-id-27 div.sk-item {position: relative;z-index: 1;}#sk-container-id-27 div.sk-parallel {display: flex;align-items: stretch;justify-content: center;background-color: white;position: relative;}#sk-container-id-27 div.sk-item::before, #sk-container-id-27 div.sk-parallel-item::before {content: \"\";position: absolute;border-left: 1px solid gray;box-sizing: border-box;top: 0;bottom: 0;left: 50%;z-index: -1;}#sk-container-id-27 div.sk-parallel-item {display: flex;flex-direction: column;z-index: 1;position: relative;background-color: white;}#sk-container-id-27 div.sk-parallel-item:first-child::after {align-self: flex-end;width: 50%;}#sk-container-id-27 div.sk-parallel-item:last-child::after {align-self: flex-start;width: 50%;}#sk-container-id-27 div.sk-parallel-item:only-child::after {width: 0;}#sk-container-id-27 div.sk-dashed-wrapped {border: 1px dashed gray;margin: 0 0.4em 0.5em 0.4em;box-sizing: border-box;padding-bottom: 0.4em;background-color: white;}#sk-container-id-27 div.sk-label label {font-family: monospace;font-weight: bold;display: inline-block;line-height: 1.2em;}#sk-container-id-27 div.sk-label-container {text-align: center;}#sk-container-id-27 div.sk-container {/* jupyter's `normalize.less` sets `[hidden] { display: none; }` but bootstrap.min.css set `[hidden] { display: none !important; }` so we also need the `!important` here to be able to override the default hidden behavior on the sphinx rendered scikit-learn.org. See: https://github.com/scikit-learn/scikit-learn/issues/21755 */display: inline-block !important;position: relative;}#sk-container-id-27 div.sk-text-repr-fallback {display: none;}</style><div id=\"sk-container-id-27\" class=\"sk-top-container\"><div class=\"sk-text-repr-fallback\"><pre>Pipeline(steps=[(&#x27;tvec&#x27;,\n",
       "                 TfidfVectorizer(lowercase=False, max_df=0.85,\n",
       "                                 max_features=30000, min_df=2,\n",
       "                                 ngram_range=(3, 4), stop_words=&#x27;english&#x27;)),\n",
       "                (&#x27;nb&#x27;, MultinomialNB())])</pre><b>In a Jupyter environment, please rerun this cell to show the HTML representation or trust the notebook. <br />On GitHub, the HTML representation is unable to render, please try loading this page with nbviewer.org.</b></div><div class=\"sk-container\" hidden><div class=\"sk-item sk-dashed-wrapped\"><div class=\"sk-label-container\"><div class=\"sk-label sk-toggleable\"><input class=\"sk-toggleable__control sk-hidden--visually\" id=\"sk-estimator-id-89\" type=\"checkbox\" ><label for=\"sk-estimator-id-89\" class=\"sk-toggleable__label sk-toggleable__label-arrow\">Pipeline</label><div class=\"sk-toggleable__content\"><pre>Pipeline(steps=[(&#x27;tvec&#x27;,\n",
       "                 TfidfVectorizer(lowercase=False, max_df=0.85,\n",
       "                                 max_features=30000, min_df=2,\n",
       "                                 ngram_range=(3, 4), stop_words=&#x27;english&#x27;)),\n",
       "                (&#x27;nb&#x27;, MultinomialNB())])</pre></div></div></div><div class=\"sk-serial\"><div class=\"sk-item\"><div class=\"sk-estimator sk-toggleable\"><input class=\"sk-toggleable__control sk-hidden--visually\" id=\"sk-estimator-id-90\" type=\"checkbox\" ><label for=\"sk-estimator-id-90\" class=\"sk-toggleable__label sk-toggleable__label-arrow\">TfidfVectorizer</label><div class=\"sk-toggleable__content\"><pre>TfidfVectorizer(lowercase=False, max_df=0.85, max_features=30000, min_df=2,\n",
       "                ngram_range=(3, 4), stop_words=&#x27;english&#x27;)</pre></div></div></div><div class=\"sk-item\"><div class=\"sk-estimator sk-toggleable\"><input class=\"sk-toggleable__control sk-hidden--visually\" id=\"sk-estimator-id-91\" type=\"checkbox\" ><label for=\"sk-estimator-id-91\" class=\"sk-toggleable__label sk-toggleable__label-arrow\">MultinomialNB</label><div class=\"sk-toggleable__content\"><pre>MultinomialNB()</pre></div></div></div></div></div></div></div>"
      ],
      "text/plain": [
       "Pipeline(steps=[('tvec',\n",
       "                 TfidfVectorizer(lowercase=False, max_df=0.85,\n",
       "                                 max_features=30000, min_df=2,\n",
       "                                 ngram_range=(3, 4), stop_words='english')),\n",
       "                ('nb', MultinomialNB())])"
      ]
     },
     "execution_count": 211,
     "metadata": {},
     "output_type": "execute_result"
    }
   ],
   "source": [
    "#get best output from gs\n",
    "gs_M3B.best_estimator_"
   ]
  },
  {
   "cell_type": "code",
   "execution_count": 227,
   "id": "0650eb3a-f25f-4baa-a6f7-c5b480b25295",
   "metadata": {
    "colab": {
     "base_uri": "https://localhost:8080/",
     "height": 836
    },
    "executionInfo": {
     "elapsed": 8150,
     "status": "ok",
     "timestamp": 1691394454250,
     "user": {
      "displayName": "Benjamin Seah",
      "userId": "10807984017160968891"
     },
     "user_tz": -480
    },
    "id": "oaY-5GPqnMLZ",
    "outputId": "18555664-f901-4368-cb11-ab8a3e61a6e6"
   },
   "outputs": [
    {
     "name": "stdout",
     "output_type": "stream",
     "text": [
      "Best estimator from gridsearch: Pipeline(steps=[('tvec',\n",
      "                 TfidfVectorizer(lowercase=False, max_df=0.85,\n",
      "                                 max_features=30000, min_df=2,\n",
      "                                 ngram_range=(3, 4), stop_words='english')),\n",
      "                ('nb', MultinomialNB())])\n",
      "_________________________________________\n",
      "Score metrics of train data:\n",
      "----------------------------------------\n",
      "Accuracy score (Predictive Value): 0.8857\n",
      "Specificity (True Negative Rate) score: 0.8522\n",
      "Sensitivity (True Positive Rate) score: 0.8936\n",
      "Precision (Positive Predictive Value) score: 0.9624\n",
      "F1 score: 0.9267\n",
      "MCC score (phi-coefficient): 0.6783\n",
      "\n",
      "__________________________________________________\n",
      " Score metrics of test data:\n",
      "----------------------------------------\n",
      "Accuracy score (Predictive Value): 0.8176\n",
      "Specificity (True Negative Rate) score: 0.6531\n",
      "Sensitivity (True Positive Rate) score: 0.8565\n",
      "Precision (Positive Predictive Value) score: 0.9126\n",
      "F1 score: 0.8836\n",
      "MCC score (phi-coefficient): 0.4685\n",
      "__________________________________________________\n"
     ]
    },
    {
     "data": {
      "image/png": "[encoded data removed]",
      "text/plain": [
       "<Figure size 640x480 with 2 Axes>"
      ]
     },
     "metadata": {},
     "output_type": "display_data"
    }
   ],
   "source": [
    "#scores for evaluation\n",
    "evaluator(gs_M3B)"
   ]
  },
  {
   "cell_type": "markdown",
   "id": "6bfe8387-2ac8-4570-85f6-8625e42ff837",
   "metadata": {
    "id": "tIeYgLeBnMLZ"
   },
   "source": [
    "As compared to M2, the added Oversampling portions seems cause a marginal decline in the score from from around basline 92.7% to around 88.3% and the overfit sems to be worse as well. This is suprising and would require some investigation. \n",
    "\n",
    "It is possible that the oversampling may be causing this issue of false negatives. Another oversampler method or undersampling may alleviate this issue. One way would be to pair over sampling with logsitic regreions to reduce overfit via regularisation. \n",
    "\n",
    "But for this purpose, it would be good to skip this model. "
   ]
  },
  {
   "cell_type": "markdown",
   "id": "a1cVL3ZZMQmO",
   "metadata": {
    "id": "a1cVL3ZZMQmO"
   },
   "source": [
    "## Method 4: Oversampler + Count Vectorizer + Logistic Regression\n",
    "- Keeping Count Vectorizer the same\n",
    "    - Parameters are kept the same for comparison\n",
    "- While oversampling did not help, switching to Logistic Regression may require a more balance dataset\n",
    "- Logistic Regression is used to utilise regularisation function to try and reduce the overfit that seems to plauge the MultiNB model."
   ]
  },
  {
   "cell_type": "markdown",
   "id": "IUYhQbnuMQmV",
   "metadata": {
    "id": "IUYhQbnuMQmV"
   },
   "source": [
    "### Modeling\n"
   ]
  },
  {
   "cell_type": "code",
   "execution_count": 137,
   "id": "nQYjWLXoMQmV",
   "metadata": {
    "executionInfo": {
     "elapsed": 27,
     "status": "ok",
     "timestamp": 1691405758265,
     "user": {
      "displayName": "Benjamin Seah",
      "userId": "10807984017160968891"
     },
     "user_tz": -480
    },
    "id": "nQYjWLXoMQmV"
   },
   "outputs": [],
   "source": [
    "#Set up a pipeline\n",
    "pipe_M4 = Pipeline([('cvec', CountVectorizer(lowercase = False)),\n",
    "                    ('logreg', LogisticRegression())\n",
    "                   ])"
   ]
  },
  {
   "cell_type": "code",
   "execution_count": 138,
   "id": "Vn2lZibMMQmW",
   "metadata": {
    "executionInfo": {
     "elapsed": 27,
     "status": "ok",
     "timestamp": 1691405758265,
     "user": {
      "displayName": "Benjamin Seah",
      "userId": "10807984017160968891"
     },
     "user_tz": -480
    },
    "id": "Vn2lZibMMQmW"
   },
   "outputs": [],
   "source": [
    "#Set pipline parameters\n",
    "pipe_M4_params = {'cvec__max_features': [30000],\n",
    "                  'cvec__min_df': [2, 4],\n",
    "                  'cvec__max_df': [.85, .9, .95],\n",
    "                  'cvec__stop_words': ['english'],\n",
    "                  'cvec__ngram_range': [(3,4)],\n",
    "                  'logreg__penalty': ['l1','l2'],\n",
    "                  'logreg__C': [0.1,0.5,1],\n",
    "                  'logreg__solver': ['liblinear'],\n",
    "                  'logreg__max_iter': [1000,2000]\n",
    "                 }"
   ]
  },
  {
   "cell_type": "code",
   "execution_count": 139,
   "id": "f3XyXGF2MQmW",
   "metadata": {
    "executionInfo": {
     "elapsed": 27,
     "status": "ok",
     "timestamp": 1691405758266,
     "user": {
      "displayName": "Benjamin Seah",
      "userId": "10807984017160968891"
     },
     "user_tz": -480
    },
    "id": "f3XyXGF2MQmW"
   },
   "outputs": [],
   "source": [
    "# Instantiate GridSearchCV.\n",
    "gs_M4 = GridSearchCV(pipe_M4,                     # what object are we optimizing?\n",
    "                     param_grid = pipe_M4_params, # what parameters values are we searching?\n",
    "                     cv=3,                        # 3-fold cross-validation.\n",
    "                     scoring = 'f1',              # balanced to check both precision and recall \n",
    "                     n_jobs = -2,\n",
    "                     verbose = 10\n",
    "                    )"
   ]
  },
  {
   "cell_type": "code",
   "execution_count": 141,
   "id": "D_hZ0gfaMQmW",
   "metadata": {
    "colab": {
     "base_uri": "https://localhost:8080/",
     "height": 154
    },
    "executionInfo": {
     "elapsed": 12658519,
     "status": "ok",
     "timestamp": 1691418416759,
     "user": {
      "displayName": "Benjamin Seah",
      "userId": "10807984017160968891"
     },
     "user_tz": -480
    },
    "id": "D_hZ0gfaMQmW",
    "outputId": "cfa40466-47f9-44b1-f7a3-a21765d377a2"
   },
   "outputs": [
    {
     "name": "stdout",
     "output_type": "stream",
     "text": [
      "Fitting 3 folds for each of 72 candidates, totalling 216 fits\n"
     ]
    },
    {
     "data": {
      "text/html": [
       "<style>#sk-container-id-19 {color: black;}#sk-container-id-19 pre{padding: 0;}#sk-container-id-19 div.sk-toggleable {background-color: white;}#sk-container-id-19 label.sk-toggleable__label {cursor: pointer;display: block;width: 100%;margin-bottom: 0;padding: 0.3em;box-sizing: border-box;text-align: center;}#sk-container-id-19 label.sk-toggleable__label-arrow:before {content: \"▸\";float: left;margin-right: 0.25em;color: #696969;}#sk-container-id-19 label.sk-toggleable__label-arrow:hover:before {color: black;}#sk-container-id-19 div.sk-estimator:hover label.sk-toggleable__label-arrow:before {color: black;}#sk-container-id-19 div.sk-toggleable__content {max-height: 0;max-width: 0;overflow: hidden;text-align: left;background-color: #f0f8ff;}#sk-container-id-19 div.sk-toggleable__content pre {margin: 0.2em;color: black;border-radius: 0.25em;background-color: #f0f8ff;}#sk-container-id-19 input.sk-toggleable__control:checked~div.sk-toggleable__content {max-height: 200px;max-width: 100%;overflow: auto;}#sk-container-id-19 input.sk-toggleable__control:checked~label.sk-toggleable__label-arrow:before {content: \"▾\";}#sk-container-id-19 div.sk-estimator input.sk-toggleable__control:checked~label.sk-toggleable__label {background-color: #d4ebff;}#sk-container-id-19 div.sk-label input.sk-toggleable__control:checked~label.sk-toggleable__label {background-color: #d4ebff;}#sk-container-id-19 input.sk-hidden--visually {border: 0;clip: rect(1px 1px 1px 1px);clip: rect(1px, 1px, 1px, 1px);height: 1px;margin: -1px;overflow: hidden;padding: 0;position: absolute;width: 1px;}#sk-container-id-19 div.sk-estimator {font-family: monospace;background-color: #f0f8ff;border: 1px dotted black;border-radius: 0.25em;box-sizing: border-box;margin-bottom: 0.5em;}#sk-container-id-19 div.sk-estimator:hover {background-color: #d4ebff;}#sk-container-id-19 div.sk-parallel-item::after {content: \"\";width: 100%;border-bottom: 1px solid gray;flex-grow: 1;}#sk-container-id-19 div.sk-label:hover label.sk-toggleable__label {background-color: #d4ebff;}#sk-container-id-19 div.sk-serial::before {content: \"\";position: absolute;border-left: 1px solid gray;box-sizing: border-box;top: 0;bottom: 0;left: 50%;z-index: 0;}#sk-container-id-19 div.sk-serial {display: flex;flex-direction: column;align-items: center;background-color: white;padding-right: 0.2em;padding-left: 0.2em;position: relative;}#sk-container-id-19 div.sk-item {position: relative;z-index: 1;}#sk-container-id-19 div.sk-parallel {display: flex;align-items: stretch;justify-content: center;background-color: white;position: relative;}#sk-container-id-19 div.sk-item::before, #sk-container-id-19 div.sk-parallel-item::before {content: \"\";position: absolute;border-left: 1px solid gray;box-sizing: border-box;top: 0;bottom: 0;left: 50%;z-index: -1;}#sk-container-id-19 div.sk-parallel-item {display: flex;flex-direction: column;z-index: 1;position: relative;background-color: white;}#sk-container-id-19 div.sk-parallel-item:first-child::after {align-self: flex-end;width: 50%;}#sk-container-id-19 div.sk-parallel-item:last-child::after {align-self: flex-start;width: 50%;}#sk-container-id-19 div.sk-parallel-item:only-child::after {width: 0;}#sk-container-id-19 div.sk-dashed-wrapped {border: 1px dashed gray;margin: 0 0.4em 0.5em 0.4em;box-sizing: border-box;padding-bottom: 0.4em;background-color: white;}#sk-container-id-19 div.sk-label label {font-family: monospace;font-weight: bold;display: inline-block;line-height: 1.2em;}#sk-container-id-19 div.sk-label-container {text-align: center;}#sk-container-id-19 div.sk-container {/* jupyter's `normalize.less` sets `[hidden] { display: none; }` but bootstrap.min.css set `[hidden] { display: none !important; }` so we also need the `!important` here to be able to override the default hidden behavior on the sphinx rendered scikit-learn.org. See: https://github.com/scikit-learn/scikit-learn/issues/21755 */display: inline-block !important;position: relative;}#sk-container-id-19 div.sk-text-repr-fallback {display: none;}</style><div id=\"sk-container-id-19\" class=\"sk-top-container\"><div class=\"sk-text-repr-fallback\"><pre>GridSearchCV(cv=3,\n",
       "             estimator=Pipeline(steps=[(&#x27;cvec&#x27;,\n",
       "                                        CountVectorizer(lowercase=False)),\n",
       "                                       (&#x27;logreg&#x27;, LogisticRegression())]),\n",
       "             n_jobs=-2,\n",
       "             param_grid={&#x27;cvec__max_df&#x27;: [0.85, 0.9, 0.95],\n",
       "                         &#x27;cvec__max_features&#x27;: [30000], &#x27;cvec__min_df&#x27;: [2, 4],\n",
       "                         &#x27;cvec__ngram_range&#x27;: [(3, 4)],\n",
       "                         &#x27;cvec__stop_words&#x27;: [&#x27;english&#x27;],\n",
       "                         &#x27;logreg__C&#x27;: [0.1, 0.5, 1],\n",
       "                         &#x27;logreg__max_iter&#x27;: [1000, 2000],\n",
       "                         &#x27;logreg__penalty&#x27;: [&#x27;l1&#x27;, &#x27;l2&#x27;],\n",
       "                         &#x27;logreg__solver&#x27;: [&#x27;liblinear&#x27;]},\n",
       "             scoring=&#x27;f1&#x27;, verbose=10)</pre><b>In a Jupyter environment, please rerun this cell to show the HTML representation or trust the notebook. <br />On GitHub, the HTML representation is unable to render, please try loading this page with nbviewer.org.</b></div><div class=\"sk-container\" hidden><div class=\"sk-item sk-dashed-wrapped\"><div class=\"sk-label-container\"><div class=\"sk-label sk-toggleable\"><input class=\"sk-toggleable__control sk-hidden--visually\" id=\"sk-estimator-id-66\" type=\"checkbox\" ><label for=\"sk-estimator-id-66\" class=\"sk-toggleable__label sk-toggleable__label-arrow\">GridSearchCV</label><div class=\"sk-toggleable__content\"><pre>GridSearchCV(cv=3,\n",
       "             estimator=Pipeline(steps=[(&#x27;cvec&#x27;,\n",
       "                                        CountVectorizer(lowercase=False)),\n",
       "                                       (&#x27;logreg&#x27;, LogisticRegression())]),\n",
       "             n_jobs=-2,\n",
       "             param_grid={&#x27;cvec__max_df&#x27;: [0.85, 0.9, 0.95],\n",
       "                         &#x27;cvec__max_features&#x27;: [30000], &#x27;cvec__min_df&#x27;: [2, 4],\n",
       "                         &#x27;cvec__ngram_range&#x27;: [(3, 4)],\n",
       "                         &#x27;cvec__stop_words&#x27;: [&#x27;english&#x27;],\n",
       "                         &#x27;logreg__C&#x27;: [0.1, 0.5, 1],\n",
       "                         &#x27;logreg__max_iter&#x27;: [1000, 2000],\n",
       "                         &#x27;logreg__penalty&#x27;: [&#x27;l1&#x27;, &#x27;l2&#x27;],\n",
       "                         &#x27;logreg__solver&#x27;: [&#x27;liblinear&#x27;]},\n",
       "             scoring=&#x27;f1&#x27;, verbose=10)</pre></div></div></div><div class=\"sk-parallel\"><div class=\"sk-parallel-item\"><div class=\"sk-item\"><div class=\"sk-label-container\"><div class=\"sk-label sk-toggleable\"><input class=\"sk-toggleable__control sk-hidden--visually\" id=\"sk-estimator-id-67\" type=\"checkbox\" ><label for=\"sk-estimator-id-67\" class=\"sk-toggleable__label sk-toggleable__label-arrow\">estimator: Pipeline</label><div class=\"sk-toggleable__content\"><pre>Pipeline(steps=[(&#x27;cvec&#x27;, CountVectorizer(lowercase=False)),\n",
       "                (&#x27;logreg&#x27;, LogisticRegression())])</pre></div></div></div><div class=\"sk-serial\"><div class=\"sk-item\"><div class=\"sk-serial\"><div class=\"sk-item\"><div class=\"sk-estimator sk-toggleable\"><input class=\"sk-toggleable__control sk-hidden--visually\" id=\"sk-estimator-id-68\" type=\"checkbox\" ><label for=\"sk-estimator-id-68\" class=\"sk-toggleable__label sk-toggleable__label-arrow\">CountVectorizer</label><div class=\"sk-toggleable__content\"><pre>CountVectorizer(lowercase=False)</pre></div></div></div><div class=\"sk-item\"><div class=\"sk-estimator sk-toggleable\"><input class=\"sk-toggleable__control sk-hidden--visually\" id=\"sk-estimator-id-69\" type=\"checkbox\" ><label for=\"sk-estimator-id-69\" class=\"sk-toggleable__label sk-toggleable__label-arrow\">LogisticRegression</label><div class=\"sk-toggleable__content\"><pre>LogisticRegression()</pre></div></div></div></div></div></div></div></div></div></div></div></div>"
      ],
      "text/plain": [
       "GridSearchCV(cv=3,\n",
       "             estimator=Pipeline(steps=[('cvec',\n",
       "                                        CountVectorizer(lowercase=False)),\n",
       "                                       ('logreg', LogisticRegression())]),\n",
       "             n_jobs=-2,\n",
       "             param_grid={'cvec__max_df': [0.85, 0.9, 0.95],\n",
       "                         'cvec__max_features': [30000], 'cvec__min_df': [2, 4],\n",
       "                         'cvec__ngram_range': [(3, 4)],\n",
       "                         'cvec__stop_words': ['english'],\n",
       "                         'logreg__C': [0.1, 0.5, 1],\n",
       "                         'logreg__max_iter': [1000, 2000],\n",
       "                         'logreg__penalty': ['l1', 'l2'],\n",
       "                         'logreg__solver': ['liblinear']},\n",
       "             scoring='f1', verbose=10)"
      ]
     },
     "execution_count": 141,
     "metadata": {},
     "output_type": "execute_result"
    }
   ],
   "source": [
    "# Fit GridSearch to training data.\n",
    "gs_M4.fit(X_train_ros.ravel(), y_train_ros.ravel())"
   ]
  },
  {
   "cell_type": "code",
   "execution_count": 247,
   "id": "a8e767a7-83a4-4ed7-9602-089434b336ab",
   "metadata": {},
   "outputs": [
    {
     "data": {
      "text/html": [
       "<div>\n",
       "<style scoped>\n",
       "    .dataframe tbody tr th:only-of-type {\n",
       "        vertical-align: middle;\n",
       "    }\n",
       "\n",
       "    .dataframe tbody tr th {\n",
       "        vertical-align: top;\n",
       "    }\n",
       "\n",
       "    .dataframe thead th {\n",
       "        text-align: right;\n",
       "    }\n",
       "</style>\n",
       "<table border=\"1\" class=\"dataframe\">\n",
       "  <thead>\n",
       "    <tr style=\"text-align: right;\">\n",
       "      <th></th>\n",
       "      <th>mean_fit_time</th>\n",
       "      <th>std_fit_time</th>\n",
       "      <th>mean_score_time</th>\n",
       "      <th>std_score_time</th>\n",
       "      <th>param_cvec__max_df</th>\n",
       "      <th>param_cvec__max_features</th>\n",
       "      <th>param_cvec__min_df</th>\n",
       "      <th>param_cvec__ngram_range</th>\n",
       "      <th>param_cvec__stop_words</th>\n",
       "      <th>param_logreg__C</th>\n",
       "      <th>param_logreg__max_iter</th>\n",
       "      <th>param_logreg__penalty</th>\n",
       "      <th>param_logreg__solver</th>\n",
       "      <th>params</th>\n",
       "      <th>split0_test_score</th>\n",
       "      <th>split1_test_score</th>\n",
       "      <th>split2_test_score</th>\n",
       "      <th>mean_test_score</th>\n",
       "      <th>std_test_score</th>\n",
       "      <th>rank_test_score</th>\n",
       "    </tr>\n",
       "  </thead>\n",
       "  <tbody>\n",
       "    <tr>\n",
       "      <th>35</th>\n",
       "      <td>17.478811</td>\n",
       "      <td>0.083068</td>\n",
       "      <td>2.500272</td>\n",
       "      <td>0.116875</td>\n",
       "      <td>0.9</td>\n",
       "      <td>30000</td>\n",
       "      <td>2</td>\n",
       "      <td>(3, 4)</td>\n",
       "      <td>english</td>\n",
       "      <td>1</td>\n",
       "      <td>2000</td>\n",
       "      <td>l2</td>\n",
       "      <td>liblinear</td>\n",
       "      <td>{'cvec__max_df': 0.9, 'cvec__max_features': 30...</td>\n",
       "      <td>0.915113</td>\n",
       "      <td>0.938962</td>\n",
       "      <td>0.935205</td>\n",
       "      <td>0.92976</td>\n",
       "      <td>0.01047</td>\n",
       "      <td>1</td>\n",
       "    </tr>\n",
       "    <tr>\n",
       "      <th>59</th>\n",
       "      <td>17.545321</td>\n",
       "      <td>0.301390</td>\n",
       "      <td>2.651653</td>\n",
       "      <td>0.031681</td>\n",
       "      <td>0.95</td>\n",
       "      <td>30000</td>\n",
       "      <td>2</td>\n",
       "      <td>(3, 4)</td>\n",
       "      <td>english</td>\n",
       "      <td>1</td>\n",
       "      <td>2000</td>\n",
       "      <td>l2</td>\n",
       "      <td>liblinear</td>\n",
       "      <td>{'cvec__max_df': 0.95, 'cvec__max_features': 3...</td>\n",
       "      <td>0.915113</td>\n",
       "      <td>0.938962</td>\n",
       "      <td>0.935205</td>\n",
       "      <td>0.92976</td>\n",
       "      <td>0.01047</td>\n",
       "      <td>1</td>\n",
       "    </tr>\n",
       "    <tr>\n",
       "      <th>57</th>\n",
       "      <td>17.915551</td>\n",
       "      <td>0.068931</td>\n",
       "      <td>2.635569</td>\n",
       "      <td>0.047780</td>\n",
       "      <td>0.95</td>\n",
       "      <td>30000</td>\n",
       "      <td>2</td>\n",
       "      <td>(3, 4)</td>\n",
       "      <td>english</td>\n",
       "      <td>1</td>\n",
       "      <td>1000</td>\n",
       "      <td>l2</td>\n",
       "      <td>liblinear</td>\n",
       "      <td>{'cvec__max_df': 0.95, 'cvec__max_features': 3...</td>\n",
       "      <td>0.915113</td>\n",
       "      <td>0.938962</td>\n",
       "      <td>0.935205</td>\n",
       "      <td>0.92976</td>\n",
       "      <td>0.01047</td>\n",
       "      <td>1</td>\n",
       "    </tr>\n",
       "    <tr>\n",
       "      <th>33</th>\n",
       "      <td>18.658561</td>\n",
       "      <td>0.184339</td>\n",
       "      <td>2.685950</td>\n",
       "      <td>0.039155</td>\n",
       "      <td>0.9</td>\n",
       "      <td>30000</td>\n",
       "      <td>2</td>\n",
       "      <td>(3, 4)</td>\n",
       "      <td>english</td>\n",
       "      <td>1</td>\n",
       "      <td>1000</td>\n",
       "      <td>l2</td>\n",
       "      <td>liblinear</td>\n",
       "      <td>{'cvec__max_df': 0.9, 'cvec__max_features': 30...</td>\n",
       "      <td>0.915113</td>\n",
       "      <td>0.938962</td>\n",
       "      <td>0.935205</td>\n",
       "      <td>0.92976</td>\n",
       "      <td>0.01047</td>\n",
       "      <td>1</td>\n",
       "    </tr>\n",
       "    <tr>\n",
       "      <th>9</th>\n",
       "      <td>17.430099</td>\n",
       "      <td>0.764131</td>\n",
       "      <td>2.452241</td>\n",
       "      <td>0.171672</td>\n",
       "      <td>0.85</td>\n",
       "      <td>30000</td>\n",
       "      <td>2</td>\n",
       "      <td>(3, 4)</td>\n",
       "      <td>english</td>\n",
       "      <td>1</td>\n",
       "      <td>1000</td>\n",
       "      <td>l2</td>\n",
       "      <td>liblinear</td>\n",
       "      <td>{'cvec__max_df': 0.85, 'cvec__max_features': 3...</td>\n",
       "      <td>0.915113</td>\n",
       "      <td>0.938962</td>\n",
       "      <td>0.935205</td>\n",
       "      <td>0.92976</td>\n",
       "      <td>0.01047</td>\n",
       "      <td>1</td>\n",
       "    </tr>\n",
       "  </tbody>\n",
       "</table>\n",
       "</div>"
      ],
      "text/plain": [
       "    mean_fit_time  std_fit_time  mean_score_time  std_score_time  \\\n",
       "35      17.478811      0.083068         2.500272        0.116875   \n",
       "59      17.545321      0.301390         2.651653        0.031681   \n",
       "57      17.915551      0.068931         2.635569        0.047780   \n",
       "33      18.658561      0.184339         2.685950        0.039155   \n",
       "9       17.430099      0.764131         2.452241        0.171672   \n",
       "\n",
       "   param_cvec__max_df param_cvec__max_features param_cvec__min_df  \\\n",
       "35                0.9                    30000                  2   \n",
       "59               0.95                    30000                  2   \n",
       "57               0.95                    30000                  2   \n",
       "33                0.9                    30000                  2   \n",
       "9                0.85                    30000                  2   \n",
       "\n",
       "   param_cvec__ngram_range param_cvec__stop_words param_logreg__C  \\\n",
       "35                  (3, 4)                english               1   \n",
       "59                  (3, 4)                english               1   \n",
       "57                  (3, 4)                english               1   \n",
       "33                  (3, 4)                english               1   \n",
       "9                   (3, 4)                english               1   \n",
       "\n",
       "   param_logreg__max_iter param_logreg__penalty param_logreg__solver  \\\n",
       "35                   2000                    l2            liblinear   \n",
       "59                   2000                    l2            liblinear   \n",
       "57                   1000                    l2            liblinear   \n",
       "33                   1000                    l2            liblinear   \n",
       "9                    1000                    l2            liblinear   \n",
       "\n",
       "                                               params  split0_test_score  \\\n",
       "35  {'cvec__max_df': 0.9, 'cvec__max_features': 30...           0.915113   \n",
       "59  {'cvec__max_df': 0.95, 'cvec__max_features': 3...           0.915113   \n",
       "57  {'cvec__max_df': 0.95, 'cvec__max_features': 3...           0.915113   \n",
       "33  {'cvec__max_df': 0.9, 'cvec__max_features': 30...           0.915113   \n",
       "9   {'cvec__max_df': 0.85, 'cvec__max_features': 3...           0.915113   \n",
       "\n",
       "    split1_test_score  split2_test_score  mean_test_score  std_test_score  \\\n",
       "35           0.938962           0.935205          0.92976         0.01047   \n",
       "59           0.938962           0.935205          0.92976         0.01047   \n",
       "57           0.938962           0.935205          0.92976         0.01047   \n",
       "33           0.938962           0.935205          0.92976         0.01047   \n",
       "9            0.938962           0.935205          0.92976         0.01047   \n",
       "\n",
       "    rank_test_score  \n",
       "35                1  \n",
       "59                1  \n",
       "57                1  \n",
       "33                1  \n",
       "9                 1  "
      ]
     },
     "execution_count": 247,
     "metadata": {},
     "output_type": "execute_result"
    }
   ],
   "source": [
    "#top 5 paramters ranked by test score.\n",
    "pd.DataFrame(gs_M4.cv_results_).sort_values(\"rank_test_score\").head()"
   ]
  },
  {
   "cell_type": "code",
   "execution_count": 145,
   "id": "iINDtlndfpto",
   "metadata": {
    "executionInfo": {
     "elapsed": 758,
     "status": "ok",
     "timestamp": 1691418423626,
     "user": {
      "displayName": "Benjamin Seah",
      "userId": "10807984017160968891"
     },
     "user_tz": -480
    },
    "id": "iINDtlndfpto"
   },
   "outputs": [],
   "source": [
    "if not os.path.exists('pkl/'):\n",
    "    os.makedirs('pkl/')\n",
    "\n",
    "pickle.dump(gs_M4, open('pkl/gs_M4.pkl', 'wb'))\n",
    "pickle.dump(pipe_M4, open('pkl/pipe_M4.pkl', 'wb'))"
   ]
  },
  {
   "cell_type": "code",
   "execution_count": null,
   "id": "NpjulqNOZ3ZN",
   "metadata": {
    "id": "NpjulqNOZ3ZN"
   },
   "outputs": [],
   "source": [
    "#import pickle\n",
    "#gs_M4 = pickle.load(open('pkl/gs_M4.pkl', 'rb'))\n",
    "#pipe_M4 = pickle.load(open('pkl/pipe_M4.pkl', 'rb'))"
   ]
  },
  {
   "cell_type": "markdown",
   "id": "Y-pDo51kMQmW",
   "metadata": {
    "id": "Y-pDo51kMQmW"
   },
   "source": [
    "### Scoring evaluation\n",
    "Same as method 1\n",
    "- Primary F1 score\n",
    "- secondary MCC"
   ]
  },
  {
   "cell_type": "code",
   "execution_count": 147,
   "id": "3C71BGumMQmW",
   "metadata": {
    "colab": {
     "base_uri": "https://localhost:8080/",
     "height": 174
    },
    "executionInfo": {
     "elapsed": 67,
     "status": "ok",
     "timestamp": 1691418416761,
     "user": {
      "displayName": "Benjamin Seah",
      "userId": "10807984017160968891"
     },
     "user_tz": -480
    },
    "id": "3C71BGumMQmW",
    "outputId": "9060eced-b4fb-402e-cdbe-c2c85979742c"
   },
   "outputs": [
    {
     "data": {
      "text/html": [
       "<style>#sk-container-id-20 {color: black;}#sk-container-id-20 pre{padding: 0;}#sk-container-id-20 div.sk-toggleable {background-color: white;}#sk-container-id-20 label.sk-toggleable__label {cursor: pointer;display: block;width: 100%;margin-bottom: 0;padding: 0.3em;box-sizing: border-box;text-align: center;}#sk-container-id-20 label.sk-toggleable__label-arrow:before {content: \"▸\";float: left;margin-right: 0.25em;color: #696969;}#sk-container-id-20 label.sk-toggleable__label-arrow:hover:before {color: black;}#sk-container-id-20 div.sk-estimator:hover label.sk-toggleable__label-arrow:before {color: black;}#sk-container-id-20 div.sk-toggleable__content {max-height: 0;max-width: 0;overflow: hidden;text-align: left;background-color: #f0f8ff;}#sk-container-id-20 div.sk-toggleable__content pre {margin: 0.2em;color: black;border-radius: 0.25em;background-color: #f0f8ff;}#sk-container-id-20 input.sk-toggleable__control:checked~div.sk-toggleable__content {max-height: 200px;max-width: 100%;overflow: auto;}#sk-container-id-20 input.sk-toggleable__control:checked~label.sk-toggleable__label-arrow:before {content: \"▾\";}#sk-container-id-20 div.sk-estimator input.sk-toggleable__control:checked~label.sk-toggleable__label {background-color: #d4ebff;}#sk-container-id-20 div.sk-label input.sk-toggleable__control:checked~label.sk-toggleable__label {background-color: #d4ebff;}#sk-container-id-20 input.sk-hidden--visually {border: 0;clip: rect(1px 1px 1px 1px);clip: rect(1px, 1px, 1px, 1px);height: 1px;margin: -1px;overflow: hidden;padding: 0;position: absolute;width: 1px;}#sk-container-id-20 div.sk-estimator {font-family: monospace;background-color: #f0f8ff;border: 1px dotted black;border-radius: 0.25em;box-sizing: border-box;margin-bottom: 0.5em;}#sk-container-id-20 div.sk-estimator:hover {background-color: #d4ebff;}#sk-container-id-20 div.sk-parallel-item::after {content: \"\";width: 100%;border-bottom: 1px solid gray;flex-grow: 1;}#sk-container-id-20 div.sk-label:hover label.sk-toggleable__label {background-color: #d4ebff;}#sk-container-id-20 div.sk-serial::before {content: \"\";position: absolute;border-left: 1px solid gray;box-sizing: border-box;top: 0;bottom: 0;left: 50%;z-index: 0;}#sk-container-id-20 div.sk-serial {display: flex;flex-direction: column;align-items: center;background-color: white;padding-right: 0.2em;padding-left: 0.2em;position: relative;}#sk-container-id-20 div.sk-item {position: relative;z-index: 1;}#sk-container-id-20 div.sk-parallel {display: flex;align-items: stretch;justify-content: center;background-color: white;position: relative;}#sk-container-id-20 div.sk-item::before, #sk-container-id-20 div.sk-parallel-item::before {content: \"\";position: absolute;border-left: 1px solid gray;box-sizing: border-box;top: 0;bottom: 0;left: 50%;z-index: -1;}#sk-container-id-20 div.sk-parallel-item {display: flex;flex-direction: column;z-index: 1;position: relative;background-color: white;}#sk-container-id-20 div.sk-parallel-item:first-child::after {align-self: flex-end;width: 50%;}#sk-container-id-20 div.sk-parallel-item:last-child::after {align-self: flex-start;width: 50%;}#sk-container-id-20 div.sk-parallel-item:only-child::after {width: 0;}#sk-container-id-20 div.sk-dashed-wrapped {border: 1px dashed gray;margin: 0 0.4em 0.5em 0.4em;box-sizing: border-box;padding-bottom: 0.4em;background-color: white;}#sk-container-id-20 div.sk-label label {font-family: monospace;font-weight: bold;display: inline-block;line-height: 1.2em;}#sk-container-id-20 div.sk-label-container {text-align: center;}#sk-container-id-20 div.sk-container {/* jupyter's `normalize.less` sets `[hidden] { display: none; }` but bootstrap.min.css set `[hidden] { display: none !important; }` so we also need the `!important` here to be able to override the default hidden behavior on the sphinx rendered scikit-learn.org. See: https://github.com/scikit-learn/scikit-learn/issues/21755 */display: inline-block !important;position: relative;}#sk-container-id-20 div.sk-text-repr-fallback {display: none;}</style><div id=\"sk-container-id-20\" class=\"sk-top-container\"><div class=\"sk-text-repr-fallback\"><pre>Pipeline(steps=[(&#x27;cvec&#x27;,\n",
       "                 CountVectorizer(lowercase=False, max_df=0.85,\n",
       "                                 max_features=30000, min_df=2,\n",
       "                                 ngram_range=(3, 4), stop_words=&#x27;english&#x27;)),\n",
       "                (&#x27;logreg&#x27;,\n",
       "                 LogisticRegression(C=1, max_iter=1000, solver=&#x27;liblinear&#x27;))])</pre><b>In a Jupyter environment, please rerun this cell to show the HTML representation or trust the notebook. <br />On GitHub, the HTML representation is unable to render, please try loading this page with nbviewer.org.</b></div><div class=\"sk-container\" hidden><div class=\"sk-item sk-dashed-wrapped\"><div class=\"sk-label-container\"><div class=\"sk-label sk-toggleable\"><input class=\"sk-toggleable__control sk-hidden--visually\" id=\"sk-estimator-id-70\" type=\"checkbox\" ><label for=\"sk-estimator-id-70\" class=\"sk-toggleable__label sk-toggleable__label-arrow\">Pipeline</label><div class=\"sk-toggleable__content\"><pre>Pipeline(steps=[(&#x27;cvec&#x27;,\n",
       "                 CountVectorizer(lowercase=False, max_df=0.85,\n",
       "                                 max_features=30000, min_df=2,\n",
       "                                 ngram_range=(3, 4), stop_words=&#x27;english&#x27;)),\n",
       "                (&#x27;logreg&#x27;,\n",
       "                 LogisticRegression(C=1, max_iter=1000, solver=&#x27;liblinear&#x27;))])</pre></div></div></div><div class=\"sk-serial\"><div class=\"sk-item\"><div class=\"sk-estimator sk-toggleable\"><input class=\"sk-toggleable__control sk-hidden--visually\" id=\"sk-estimator-id-71\" type=\"checkbox\" ><label for=\"sk-estimator-id-71\" class=\"sk-toggleable__label sk-toggleable__label-arrow\">CountVectorizer</label><div class=\"sk-toggleable__content\"><pre>CountVectorizer(lowercase=False, max_df=0.85, max_features=30000, min_df=2,\n",
       "                ngram_range=(3, 4), stop_words=&#x27;english&#x27;)</pre></div></div></div><div class=\"sk-item\"><div class=\"sk-estimator sk-toggleable\"><input class=\"sk-toggleable__control sk-hidden--visually\" id=\"sk-estimator-id-72\" type=\"checkbox\" ><label for=\"sk-estimator-id-72\" class=\"sk-toggleable__label sk-toggleable__label-arrow\">LogisticRegression</label><div class=\"sk-toggleable__content\"><pre>LogisticRegression(C=1, max_iter=1000, solver=&#x27;liblinear&#x27;)</pre></div></div></div></div></div></div></div>"
      ],
      "text/plain": [
       "Pipeline(steps=[('cvec',\n",
       "                 CountVectorizer(lowercase=False, max_df=0.85,\n",
       "                                 max_features=30000, min_df=2,\n",
       "                                 ngram_range=(3, 4), stop_words='english')),\n",
       "                ('logreg',\n",
       "                 LogisticRegression(C=1, max_iter=1000, solver='liblinear'))])"
      ]
     },
     "execution_count": 147,
     "metadata": {},
     "output_type": "execute_result"
    }
   ],
   "source": [
    "#get best output from gs\n",
    "gs_M4.best_estimator_"
   ]
  },
  {
   "cell_type": "code",
   "execution_count": 148,
   "id": "8ge6BGGQMQmW",
   "metadata": {
    "colab": {
     "base_uri": "https://localhost:8080/",
     "height": 849
    },
    "executionInfo": {
     "elapsed": 6177,
     "status": "ok",
     "timestamp": 1691418422879,
     "user": {
      "displayName": "Benjamin Seah",
      "userId": "10807984017160968891"
     },
     "user_tz": -480
    },
    "id": "8ge6BGGQMQmW",
    "outputId": "58847876-f7f0-4a36-c0bb-4b318fdadcc9"
   },
   "outputs": [
    {
     "name": "stdout",
     "output_type": "stream",
     "text": [
      "Best estimator from gridsearch: Pipeline(steps=[('cvec',\n",
      "                 CountVectorizer(lowercase=False, max_df=0.85,\n",
      "                                 max_features=30000, min_df=2,\n",
      "                                 ngram_range=(3, 4), stop_words='english')),\n",
      "                ('logreg',\n",
      "                 LogisticRegression(C=1, max_iter=1000, solver='liblinear'))])\n",
      "_________________________________________\n",
      "Score metrics of train data:\n",
      "----------------------------------------\n",
      "Accuracy score (Predictive Value): 0.9832\n",
      "Specificity (True Negative Rate) score: 0.9393\n",
      "Sensitivity (True Positive Rate) score: 0.9936\n",
      "Precision (Positive Predictive Value) score: 0.9858\n",
      "F1 score: 0.9896\n",
      "MCC score (phi-coefficient): 0.9451\n",
      "\n",
      "__________________________________________________\n",
      " Score metrics of test data:\n",
      "----------------------------------------\n",
      "Accuracy score (Predictive Value): 0.8728\n",
      "Specificity (True Negative Rate) score: 0.4923\n",
      "Sensitivity (True Positive Rate) score: 0.9628\n",
      "Precision (Positive Predictive Value) score: 0.8892\n",
      "F1 score: 0.9245\n",
      "MCC score (phi-coefficient): 0.5427\n",
      "__________________________________________________\n"
     ]
    },
    {
     "data": {
      "image/png": "[encoded data removed]",
      "text/plain": [
       "<Figure size 640x480 with 2 Axes>"
      ]
     },
     "metadata": {},
     "output_type": "display_data"
    }
   ],
   "source": [
    "#scores for evaluation\n",
    "evaluator(gs_M4)"
   ]
  },
  {
   "cell_type": "markdown",
   "id": "CcvIVo6yMQmX",
   "metadata": {
    "id": "CcvIVo6yMQmX"
   },
   "source": [
    "With the oversampling and using logistic regression, the train f1 scores has imrpoved tp 99 % but the test f1 scores remains the same at 92%. MCC score has an even larger difference owing to the large overfit in specificity in this case. This a an unexpected result.\n",
    "\n",
    "It seems like trying to solve the data imbalance via bootsstrapping (Oversampler) and trying to take advantage of regularization in Logistic Regression does not seems to help the case as the ngrams are much higher and the words are getting specific in its context but also appearing in both high and low journals. Perhaps having too high ngrams may be causing such a large drift between the results. Perhaps this model may not be suitable for this use case."
   ]
  },
  {
   "cell_type": "markdown",
   "id": "XJDjjU5RflEJ",
   "metadata": {
    "id": "XJDjjU5RflEJ"
   },
   "source": [
    "## Method 5: Oversampler + CVEC Vectorizer + Random Forest\n",
    "Since the methods so far can be said to be parametric, perhaps a non-parametric classifier may be able to give a better result since with higher ngrams as it is unclear if the samples follows what kind of distribution anymore since the EDA was done on tokenised forms. \n",
    "\n",
    "- Keeping Count Vectorizer the same\n",
    "    - Parameters are kept the same for comparison\n",
    "- While oversampling did not help, switching to Logistic Regression may require a more balance dataset\n",
    "- Random Forrest is used to utilise regularisation function to try adn reduce the overfit that seems to plauge the MultiNB model."
   ]
  },
  {
   "cell_type": "markdown",
   "id": "Iuo_ljVuflEY",
   "metadata": {
    "id": "Iuo_ljVuflEY"
   },
   "source": [
    "### Modeling\n"
   ]
  },
  {
   "cell_type": "code",
   "execution_count": 150,
   "id": "hxDaZKMjflEZ",
   "metadata": {
    "id": "hxDaZKMjflEZ"
   },
   "outputs": [],
   "source": [
    "#Set up a pipeline\n",
    "pipe_M5 = Pipeline([('cvec', CountVectorizer(lowercase = False)),\n",
    "                    ('rf', RandomForestClassifier(n_estimators=100, class_weight = 'balanced'))\n",
    "                   ])"
   ]
  },
  {
   "cell_type": "code",
   "execution_count": 237,
   "id": "L_CWZQluflEZ",
   "metadata": {
    "id": "L_CWZQluflEZ"
   },
   "outputs": [],
   "source": [
    "#Set pipline parameters\n",
    "pipe_M5_params = {'cvec__max_features': [30000],\n",
    "                  'cvec__min_df': [2, 4],\n",
    "                  'cvec__max_df': [.85, .9, .95],\n",
    "                  'cvec__stop_words': ['english'],\n",
    "                  'cvec__ngram_range': [(3, 4)],\n",
    "                  'rf__n_estimators': [100],\n",
    "                  'rf__max_depth': [20, 30],\n",
    "                  'rf__min_samples_split': [(3, 4)],\n",
    "                  }"
   ]
  },
  {
   "cell_type": "code",
   "execution_count": 152,
   "id": "dPNjUKUlflEa",
   "metadata": {
    "id": "dPNjUKUlflEa"
   },
   "outputs": [],
   "source": [
    "# Instantiate GridSearchCV.\n",
    "gs_M5 = GridSearchCV(pipe_M5,                     # what object are we optimizing?\n",
    "                     param_grid = pipe_M5_params, # what parameters values are we searching?\n",
    "                     cv=3,                        # 5-fold cross-validation.\n",
    "                     scoring = 'f1',              # balanced to check both precision and recall \n",
    "                     n_jobs = -2,\n",
    "                     verbose = 10\n",
    "                    )"
   ]
  },
  {
   "cell_type": "code",
   "execution_count": 153,
   "id": "NBg4x2A7flEa",
   "metadata": {
    "id": "NBg4x2A7flEa"
   },
   "outputs": [
    {
     "name": "stdout",
     "output_type": "stream",
     "text": [
      "Fitting 3 folds for each of 12 candidates, totalling 36 fits\n"
     ]
    },
    {
     "data": {
      "text/html": [
       "<style>#sk-container-id-21 {color: black;}#sk-container-id-21 pre{padding: 0;}#sk-container-id-21 div.sk-toggleable {background-color: white;}#sk-container-id-21 label.sk-toggleable__label {cursor: pointer;display: block;width: 100%;margin-bottom: 0;padding: 0.3em;box-sizing: border-box;text-align: center;}#sk-container-id-21 label.sk-toggleable__label-arrow:before {content: \"▸\";float: left;margin-right: 0.25em;color: #696969;}#sk-container-id-21 label.sk-toggleable__label-arrow:hover:before {color: black;}#sk-container-id-21 div.sk-estimator:hover label.sk-toggleable__label-arrow:before {color: black;}#sk-container-id-21 div.sk-toggleable__content {max-height: 0;max-width: 0;overflow: hidden;text-align: left;background-color: #f0f8ff;}#sk-container-id-21 div.sk-toggleable__content pre {margin: 0.2em;color: black;border-radius: 0.25em;background-color: #f0f8ff;}#sk-container-id-21 input.sk-toggleable__control:checked~div.sk-toggleable__content {max-height: 200px;max-width: 100%;overflow: auto;}#sk-container-id-21 input.sk-toggleable__control:checked~label.sk-toggleable__label-arrow:before {content: \"▾\";}#sk-container-id-21 div.sk-estimator input.sk-toggleable__control:checked~label.sk-toggleable__label {background-color: #d4ebff;}#sk-container-id-21 div.sk-label input.sk-toggleable__control:checked~label.sk-toggleable__label {background-color: #d4ebff;}#sk-container-id-21 input.sk-hidden--visually {border: 0;clip: rect(1px 1px 1px 1px);clip: rect(1px, 1px, 1px, 1px);height: 1px;margin: -1px;overflow: hidden;padding: 0;position: absolute;width: 1px;}#sk-container-id-21 div.sk-estimator {font-family: monospace;background-color: #f0f8ff;border: 1px dotted black;border-radius: 0.25em;box-sizing: border-box;margin-bottom: 0.5em;}#sk-container-id-21 div.sk-estimator:hover {background-color: #d4ebff;}#sk-container-id-21 div.sk-parallel-item::after {content: \"\";width: 100%;border-bottom: 1px solid gray;flex-grow: 1;}#sk-container-id-21 div.sk-label:hover label.sk-toggleable__label {background-color: #d4ebff;}#sk-container-id-21 div.sk-serial::before {content: \"\";position: absolute;border-left: 1px solid gray;box-sizing: border-box;top: 0;bottom: 0;left: 50%;z-index: 0;}#sk-container-id-21 div.sk-serial {display: flex;flex-direction: column;align-items: center;background-color: white;padding-right: 0.2em;padding-left: 0.2em;position: relative;}#sk-container-id-21 div.sk-item {position: relative;z-index: 1;}#sk-container-id-21 div.sk-parallel {display: flex;align-items: stretch;justify-content: center;background-color: white;position: relative;}#sk-container-id-21 div.sk-item::before, #sk-container-id-21 div.sk-parallel-item::before {content: \"\";position: absolute;border-left: 1px solid gray;box-sizing: border-box;top: 0;bottom: 0;left: 50%;z-index: -1;}#sk-container-id-21 div.sk-parallel-item {display: flex;flex-direction: column;z-index: 1;position: relative;background-color: white;}#sk-container-id-21 div.sk-parallel-item:first-child::after {align-self: flex-end;width: 50%;}#sk-container-id-21 div.sk-parallel-item:last-child::after {align-self: flex-start;width: 50%;}#sk-container-id-21 div.sk-parallel-item:only-child::after {width: 0;}#sk-container-id-21 div.sk-dashed-wrapped {border: 1px dashed gray;margin: 0 0.4em 0.5em 0.4em;box-sizing: border-box;padding-bottom: 0.4em;background-color: white;}#sk-container-id-21 div.sk-label label {font-family: monospace;font-weight: bold;display: inline-block;line-height: 1.2em;}#sk-container-id-21 div.sk-label-container {text-align: center;}#sk-container-id-21 div.sk-container {/* jupyter's `normalize.less` sets `[hidden] { display: none; }` but bootstrap.min.css set `[hidden] { display: none !important; }` so we also need the `!important` here to be able to override the default hidden behavior on the sphinx rendered scikit-learn.org. See: https://github.com/scikit-learn/scikit-learn/issues/21755 */display: inline-block !important;position: relative;}#sk-container-id-21 div.sk-text-repr-fallback {display: none;}</style><div id=\"sk-container-id-21\" class=\"sk-top-container\"><div class=\"sk-text-repr-fallback\"><pre>GridSearchCV(cv=3,\n",
       "             estimator=Pipeline(steps=[(&#x27;cvec&#x27;,\n",
       "                                        CountVectorizer(lowercase=False)),\n",
       "                                       (&#x27;rf&#x27;,\n",
       "                                        RandomForestClassifier(class_weight=&#x27;balanced&#x27;))]),\n",
       "             n_jobs=-2,\n",
       "             param_grid={&#x27;cvec__max_df&#x27;: [0.85, 0.9, 0.95],\n",
       "                         &#x27;cvec__max_features&#x27;: [30000], &#x27;cvec__min_df&#x27;: [2, 4],\n",
       "                         &#x27;cvec__ngram_range&#x27;: [(3, 4)],\n",
       "                         &#x27;cvec__stop_words&#x27;: [&#x27;english&#x27;],\n",
       "                         &#x27;rf__max_depth&#x27;: [20, 30],\n",
       "                         &#x27;rf__min_samples_split&#x27;: [2],\n",
       "                         &#x27;rf__n_estimators&#x27;: [100]},\n",
       "             scoring=&#x27;f1&#x27;, verbose=10)</pre><b>In a Jupyter environment, please rerun this cell to show the HTML representation or trust the notebook. <br />On GitHub, the HTML representation is unable to render, please try loading this page with nbviewer.org.</b></div><div class=\"sk-container\" hidden><div class=\"sk-item sk-dashed-wrapped\"><div class=\"sk-label-container\"><div class=\"sk-label sk-toggleable\"><input class=\"sk-toggleable__control sk-hidden--visually\" id=\"sk-estimator-id-73\" type=\"checkbox\" ><label for=\"sk-estimator-id-73\" class=\"sk-toggleable__label sk-toggleable__label-arrow\">GridSearchCV</label><div class=\"sk-toggleable__content\"><pre>GridSearchCV(cv=3,\n",
       "             estimator=Pipeline(steps=[(&#x27;cvec&#x27;,\n",
       "                                        CountVectorizer(lowercase=False)),\n",
       "                                       (&#x27;rf&#x27;,\n",
       "                                        RandomForestClassifier(class_weight=&#x27;balanced&#x27;))]),\n",
       "             n_jobs=-2,\n",
       "             param_grid={&#x27;cvec__max_df&#x27;: [0.85, 0.9, 0.95],\n",
       "                         &#x27;cvec__max_features&#x27;: [30000], &#x27;cvec__min_df&#x27;: [2, 4],\n",
       "                         &#x27;cvec__ngram_range&#x27;: [(3, 4)],\n",
       "                         &#x27;cvec__stop_words&#x27;: [&#x27;english&#x27;],\n",
       "                         &#x27;rf__max_depth&#x27;: [20, 30],\n",
       "                         &#x27;rf__min_samples_split&#x27;: [2],\n",
       "                         &#x27;rf__n_estimators&#x27;: [100]},\n",
       "             scoring=&#x27;f1&#x27;, verbose=10)</pre></div></div></div><div class=\"sk-parallel\"><div class=\"sk-parallel-item\"><div class=\"sk-item\"><div class=\"sk-label-container\"><div class=\"sk-label sk-toggleable\"><input class=\"sk-toggleable__control sk-hidden--visually\" id=\"sk-estimator-id-74\" type=\"checkbox\" ><label for=\"sk-estimator-id-74\" class=\"sk-toggleable__label sk-toggleable__label-arrow\">estimator: Pipeline</label><div class=\"sk-toggleable__content\"><pre>Pipeline(steps=[(&#x27;cvec&#x27;, CountVectorizer(lowercase=False)),\n",
       "                (&#x27;rf&#x27;, RandomForestClassifier(class_weight=&#x27;balanced&#x27;))])</pre></div></div></div><div class=\"sk-serial\"><div class=\"sk-item\"><div class=\"sk-serial\"><div class=\"sk-item\"><div class=\"sk-estimator sk-toggleable\"><input class=\"sk-toggleable__control sk-hidden--visually\" id=\"sk-estimator-id-75\" type=\"checkbox\" ><label for=\"sk-estimator-id-75\" class=\"sk-toggleable__label sk-toggleable__label-arrow\">CountVectorizer</label><div class=\"sk-toggleable__content\"><pre>CountVectorizer(lowercase=False)</pre></div></div></div><div class=\"sk-item\"><div class=\"sk-estimator sk-toggleable\"><input class=\"sk-toggleable__control sk-hidden--visually\" id=\"sk-estimator-id-76\" type=\"checkbox\" ><label for=\"sk-estimator-id-76\" class=\"sk-toggleable__label sk-toggleable__label-arrow\">RandomForestClassifier</label><div class=\"sk-toggleable__content\"><pre>RandomForestClassifier(class_weight=&#x27;balanced&#x27;)</pre></div></div></div></div></div></div></div></div></div></div></div></div>"
      ],
      "text/plain": [
       "GridSearchCV(cv=3,\n",
       "             estimator=Pipeline(steps=[('cvec',\n",
       "                                        CountVectorizer(lowercase=False)),\n",
       "                                       ('rf',\n",
       "                                        RandomForestClassifier(class_weight='balanced'))]),\n",
       "             n_jobs=-2,\n",
       "             param_grid={'cvec__max_df': [0.85, 0.9, 0.95],\n",
       "                         'cvec__max_features': [30000], 'cvec__min_df': [2, 4],\n",
       "                         'cvec__ngram_range': [(3, 4)],\n",
       "                         'cvec__stop_words': ['english'],\n",
       "                         'rf__max_depth': [20, 30],\n",
       "                         'rf__min_samples_split': [2],\n",
       "                         'rf__n_estimators': [100]},\n",
       "             scoring='f1', verbose=10)"
      ]
     },
     "execution_count": 153,
     "metadata": {},
     "output_type": "execute_result"
    }
   ],
   "source": [
    "# Fit GridSearch to training data.\n",
    "gs_M5.fit(X_train_ros.ravel(), y_train_ros.ravel())"
   ]
  },
  {
   "cell_type": "code",
   "execution_count": 248,
   "id": "f64dca52-7f4a-414c-a9f9-d427506584b5",
   "metadata": {
    "scrolled": true
   },
   "outputs": [
    {
     "data": {
      "text/html": [
       "<div>\n",
       "<style scoped>\n",
       "    .dataframe tbody tr th:only-of-type {\n",
       "        vertical-align: middle;\n",
       "    }\n",
       "\n",
       "    .dataframe tbody tr th {\n",
       "        vertical-align: top;\n",
       "    }\n",
       "\n",
       "    .dataframe thead th {\n",
       "        text-align: right;\n",
       "    }\n",
       "</style>\n",
       "<table border=\"1\" class=\"dataframe\">\n",
       "  <thead>\n",
       "    <tr style=\"text-align: right;\">\n",
       "      <th></th>\n",
       "      <th>mean_fit_time</th>\n",
       "      <th>std_fit_time</th>\n",
       "      <th>mean_score_time</th>\n",
       "      <th>std_score_time</th>\n",
       "      <th>param_cvec__max_df</th>\n",
       "      <th>param_cvec__max_features</th>\n",
       "      <th>param_cvec__min_df</th>\n",
       "      <th>param_cvec__ngram_range</th>\n",
       "      <th>param_cvec__stop_words</th>\n",
       "      <th>param_rf__max_depth</th>\n",
       "      <th>param_rf__min_samples_split</th>\n",
       "      <th>param_rf__n_estimators</th>\n",
       "      <th>params</th>\n",
       "      <th>split0_test_score</th>\n",
       "      <th>split1_test_score</th>\n",
       "      <th>split2_test_score</th>\n",
       "      <th>mean_test_score</th>\n",
       "      <th>std_test_score</th>\n",
       "      <th>rank_test_score</th>\n",
       "    </tr>\n",
       "  </thead>\n",
       "  <tbody>\n",
       "    <tr>\n",
       "      <th>7</th>\n",
       "      <td>27.039890</td>\n",
       "      <td>0.281325</td>\n",
       "      <td>2.628470</td>\n",
       "      <td>0.138238</td>\n",
       "      <td>0.9</td>\n",
       "      <td>30000</td>\n",
       "      <td>4</td>\n",
       "      <td>(3, 4)</td>\n",
       "      <td>english</td>\n",
       "      <td>30</td>\n",
       "      <td>2</td>\n",
       "      <td>100</td>\n",
       "      <td>{'cvec__max_df': 0.9, 'cvec__max_features': 30...</td>\n",
       "      <td>0.648265</td>\n",
       "      <td>0.666792</td>\n",
       "      <td>0.668311</td>\n",
       "      <td>0.661123</td>\n",
       "      <td>0.009113</td>\n",
       "      <td>1</td>\n",
       "    </tr>\n",
       "    <tr>\n",
       "      <th>5</th>\n",
       "      <td>28.205773</td>\n",
       "      <td>0.310660</td>\n",
       "      <td>2.680950</td>\n",
       "      <td>0.104643</td>\n",
       "      <td>0.9</td>\n",
       "      <td>30000</td>\n",
       "      <td>2</td>\n",
       "      <td>(3, 4)</td>\n",
       "      <td>english</td>\n",
       "      <td>30</td>\n",
       "      <td>2</td>\n",
       "      <td>100</td>\n",
       "      <td>{'cvec__max_df': 0.9, 'cvec__max_features': 30...</td>\n",
       "      <td>0.644444</td>\n",
       "      <td>0.664913</td>\n",
       "      <td>0.662333</td>\n",
       "      <td>0.657230</td>\n",
       "      <td>0.009102</td>\n",
       "      <td>2</td>\n",
       "    </tr>\n",
       "    <tr>\n",
       "      <th>1</th>\n",
       "      <td>27.250333</td>\n",
       "      <td>0.556105</td>\n",
       "      <td>2.935699</td>\n",
       "      <td>0.027766</td>\n",
       "      <td>0.85</td>\n",
       "      <td>30000</td>\n",
       "      <td>2</td>\n",
       "      <td>(3, 4)</td>\n",
       "      <td>english</td>\n",
       "      <td>30</td>\n",
       "      <td>2</td>\n",
       "      <td>100</td>\n",
       "      <td>{'cvec__max_df': 0.85, 'cvec__max_features': 3...</td>\n",
       "      <td>0.642527</td>\n",
       "      <td>0.666919</td>\n",
       "      <td>0.661873</td>\n",
       "      <td>0.657106</td>\n",
       "      <td>0.010513</td>\n",
       "      <td>3</td>\n",
       "    </tr>\n",
       "    <tr>\n",
       "      <th>11</th>\n",
       "      <td>21.919192</td>\n",
       "      <td>4.522865</td>\n",
       "      <td>1.374706</td>\n",
       "      <td>0.113860</td>\n",
       "      <td>0.95</td>\n",
       "      <td>30000</td>\n",
       "      <td>4</td>\n",
       "      <td>(3, 4)</td>\n",
       "      <td>english</td>\n",
       "      <td>30</td>\n",
       "      <td>2</td>\n",
       "      <td>100</td>\n",
       "      <td>{'cvec__max_df': 0.95, 'cvec__max_features': 3...</td>\n",
       "      <td>0.645953</td>\n",
       "      <td>0.664038</td>\n",
       "      <td>0.659644</td>\n",
       "      <td>0.656545</td>\n",
       "      <td>0.007701</td>\n",
       "      <td>4</td>\n",
       "    </tr>\n",
       "    <tr>\n",
       "      <th>3</th>\n",
       "      <td>27.875663</td>\n",
       "      <td>0.863864</td>\n",
       "      <td>2.632787</td>\n",
       "      <td>0.033943</td>\n",
       "      <td>0.85</td>\n",
       "      <td>30000</td>\n",
       "      <td>4</td>\n",
       "      <td>(3, 4)</td>\n",
       "      <td>english</td>\n",
       "      <td>30</td>\n",
       "      <td>2</td>\n",
       "      <td>100</td>\n",
       "      <td>{'cvec__max_df': 0.85, 'cvec__max_features': 3...</td>\n",
       "      <td>0.629715</td>\n",
       "      <td>0.663772</td>\n",
       "      <td>0.664127</td>\n",
       "      <td>0.652538</td>\n",
       "      <td>0.016139</td>\n",
       "      <td>5</td>\n",
       "    </tr>\n",
       "  </tbody>\n",
       "</table>\n",
       "</div>"
      ],
      "text/plain": [
       "    mean_fit_time  std_fit_time  mean_score_time  std_score_time  \\\n",
       "7       27.039890      0.281325         2.628470        0.138238   \n",
       "5       28.205773      0.310660         2.680950        0.104643   \n",
       "1       27.250333      0.556105         2.935699        0.027766   \n",
       "11      21.919192      4.522865         1.374706        0.113860   \n",
       "3       27.875663      0.863864         2.632787        0.033943   \n",
       "\n",
       "   param_cvec__max_df param_cvec__max_features param_cvec__min_df  \\\n",
       "7                 0.9                    30000                  4   \n",
       "5                 0.9                    30000                  2   \n",
       "1                0.85                    30000                  2   \n",
       "11               0.95                    30000                  4   \n",
       "3                0.85                    30000                  4   \n",
       "\n",
       "   param_cvec__ngram_range param_cvec__stop_words param_rf__max_depth  \\\n",
       "7                   (3, 4)                english                  30   \n",
       "5                   (3, 4)                english                  30   \n",
       "1                   (3, 4)                english                  30   \n",
       "11                  (3, 4)                english                  30   \n",
       "3                   (3, 4)                english                  30   \n",
       "\n",
       "   param_rf__min_samples_split param_rf__n_estimators  \\\n",
       "7                            2                    100   \n",
       "5                            2                    100   \n",
       "1                            2                    100   \n",
       "11                           2                    100   \n",
       "3                            2                    100   \n",
       "\n",
       "                                               params  split0_test_score  \\\n",
       "7   {'cvec__max_df': 0.9, 'cvec__max_features': 30...           0.648265   \n",
       "5   {'cvec__max_df': 0.9, 'cvec__max_features': 30...           0.644444   \n",
       "1   {'cvec__max_df': 0.85, 'cvec__max_features': 3...           0.642527   \n",
       "11  {'cvec__max_df': 0.95, 'cvec__max_features': 3...           0.645953   \n",
       "3   {'cvec__max_df': 0.85, 'cvec__max_features': 3...           0.629715   \n",
       "\n",
       "    split1_test_score  split2_test_score  mean_test_score  std_test_score  \\\n",
       "7            0.666792           0.668311         0.661123        0.009113   \n",
       "5            0.664913           0.662333         0.657230        0.009102   \n",
       "1            0.666919           0.661873         0.657106        0.010513   \n",
       "11           0.664038           0.659644         0.656545        0.007701   \n",
       "3            0.663772           0.664127         0.652538        0.016139   \n",
       "\n",
       "    rank_test_score  \n",
       "7                 1  \n",
       "5                 2  \n",
       "1                 3  \n",
       "11                4  \n",
       "3                 5  "
      ]
     },
     "execution_count": 248,
     "metadata": {},
     "output_type": "execute_result"
    }
   ],
   "source": [
    "#top 5 paramters ranked by test score.\n",
    "pd.DataFrame(gs_M5.cv_results_).sort_values(\"rank_test_score\").head()"
   ]
  },
  {
   "cell_type": "markdown",
   "id": "5abab433-67f0-41d5-b00d-3522a104a187",
   "metadata": {},
   "source": [
    "#### Pickle"
   ]
  },
  {
   "cell_type": "code",
   "execution_count": 154,
   "id": "pfHPBp0hflEc",
   "metadata": {
    "id": "pfHPBp0hflEc"
   },
   "outputs": [],
   "source": [
    "#save pickle\n",
    "#if not os.path.exists('pkl/'):\n",
    "#    os.makedirs('pkl/')\n",
    "#\n",
    "#pickle.dump(gs_M5, open('pkl/gs_M5.pkl', 'wb'))\n",
    "#pickle.dump(pipe_M5, open('pkl/pipe_M5.pkl', 'wb'))"
   ]
  },
  {
   "cell_type": "code",
   "execution_count": null,
   "id": "iw0Sss8XGs5q",
   "metadata": {
    "id": "iw0Sss8XGs5q"
   },
   "outputs": [],
   "source": [
    "#open pickle\n",
    "#import pickle\n",
    "#gs_M5 = pickle.load(open('pkl/gs_M5.pkl', 'rb'))\n",
    "#pipe_M5 = pickle.load(open('pkl/pipe_M5.pkl', 'rb'))\n",
    "\n",
    "##alternate\n",
    "#with open('pipe_M5.pkl', 'rb') as f:\n",
    "#    pipeline = pickle.load(f)"
   ]
  },
  {
   "cell_type": "markdown",
   "id": "Tt7lCsb3flEc",
   "metadata": {
    "id": "Tt7lCsb3flEc"
   },
   "source": [
    "### Scoring evaluation\n",
    "Same as method 1\n",
    "- Primary F1 score\n",
    "- secondary MCC"
   ]
  },
  {
   "cell_type": "code",
   "execution_count": 155,
   "id": "1hZ8DkbIflEc",
   "metadata": {
    "id": "1hZ8DkbIflEc"
   },
   "outputs": [
    {
     "data": {
      "text/html": [
       "<style>#sk-container-id-22 {color: black;}#sk-container-id-22 pre{padding: 0;}#sk-container-id-22 div.sk-toggleable {background-color: white;}#sk-container-id-22 label.sk-toggleable__label {cursor: pointer;display: block;width: 100%;margin-bottom: 0;padding: 0.3em;box-sizing: border-box;text-align: center;}#sk-container-id-22 label.sk-toggleable__label-arrow:before {content: \"▸\";float: left;margin-right: 0.25em;color: #696969;}#sk-container-id-22 label.sk-toggleable__label-arrow:hover:before {color: black;}#sk-container-id-22 div.sk-estimator:hover label.sk-toggleable__label-arrow:before {color: black;}#sk-container-id-22 div.sk-toggleable__content {max-height: 0;max-width: 0;overflow: hidden;text-align: left;background-color: #f0f8ff;}#sk-container-id-22 div.sk-toggleable__content pre {margin: 0.2em;color: black;border-radius: 0.25em;background-color: #f0f8ff;}#sk-container-id-22 input.sk-toggleable__control:checked~div.sk-toggleable__content {max-height: 200px;max-width: 100%;overflow: auto;}#sk-container-id-22 input.sk-toggleable__control:checked~label.sk-toggleable__label-arrow:before {content: \"▾\";}#sk-container-id-22 div.sk-estimator input.sk-toggleable__control:checked~label.sk-toggleable__label {background-color: #d4ebff;}#sk-container-id-22 div.sk-label input.sk-toggleable__control:checked~label.sk-toggleable__label {background-color: #d4ebff;}#sk-container-id-22 input.sk-hidden--visually {border: 0;clip: rect(1px 1px 1px 1px);clip: rect(1px, 1px, 1px, 1px);height: 1px;margin: -1px;overflow: hidden;padding: 0;position: absolute;width: 1px;}#sk-container-id-22 div.sk-estimator {font-family: monospace;background-color: #f0f8ff;border: 1px dotted black;border-radius: 0.25em;box-sizing: border-box;margin-bottom: 0.5em;}#sk-container-id-22 div.sk-estimator:hover {background-color: #d4ebff;}#sk-container-id-22 div.sk-parallel-item::after {content: \"\";width: 100%;border-bottom: 1px solid gray;flex-grow: 1;}#sk-container-id-22 div.sk-label:hover label.sk-toggleable__label {background-color: #d4ebff;}#sk-container-id-22 div.sk-serial::before {content: \"\";position: absolute;border-left: 1px solid gray;box-sizing: border-box;top: 0;bottom: 0;left: 50%;z-index: 0;}#sk-container-id-22 div.sk-serial {display: flex;flex-direction: column;align-items: center;background-color: white;padding-right: 0.2em;padding-left: 0.2em;position: relative;}#sk-container-id-22 div.sk-item {position: relative;z-index: 1;}#sk-container-id-22 div.sk-parallel {display: flex;align-items: stretch;justify-content: center;background-color: white;position: relative;}#sk-container-id-22 div.sk-item::before, #sk-container-id-22 div.sk-parallel-item::before {content: \"\";position: absolute;border-left: 1px solid gray;box-sizing: border-box;top: 0;bottom: 0;left: 50%;z-index: -1;}#sk-container-id-22 div.sk-parallel-item {display: flex;flex-direction: column;z-index: 1;position: relative;background-color: white;}#sk-container-id-22 div.sk-parallel-item:first-child::after {align-self: flex-end;width: 50%;}#sk-container-id-22 div.sk-parallel-item:last-child::after {align-self: flex-start;width: 50%;}#sk-container-id-22 div.sk-parallel-item:only-child::after {width: 0;}#sk-container-id-22 div.sk-dashed-wrapped {border: 1px dashed gray;margin: 0 0.4em 0.5em 0.4em;box-sizing: border-box;padding-bottom: 0.4em;background-color: white;}#sk-container-id-22 div.sk-label label {font-family: monospace;font-weight: bold;display: inline-block;line-height: 1.2em;}#sk-container-id-22 div.sk-label-container {text-align: center;}#sk-container-id-22 div.sk-container {/* jupyter's `normalize.less` sets `[hidden] { display: none; }` but bootstrap.min.css set `[hidden] { display: none !important; }` so we also need the `!important` here to be able to override the default hidden behavior on the sphinx rendered scikit-learn.org. See: https://github.com/scikit-learn/scikit-learn/issues/21755 */display: inline-block !important;position: relative;}#sk-container-id-22 div.sk-text-repr-fallback {display: none;}</style><div id=\"sk-container-id-22\" class=\"sk-top-container\"><div class=\"sk-text-repr-fallback\"><pre>Pipeline(steps=[(&#x27;cvec&#x27;,\n",
       "                 CountVectorizer(lowercase=False, max_df=0.9,\n",
       "                                 max_features=30000, min_df=4,\n",
       "                                 ngram_range=(3, 4), stop_words=&#x27;english&#x27;)),\n",
       "                (&#x27;rf&#x27;,\n",
       "                 RandomForestClassifier(class_weight=&#x27;balanced&#x27;,\n",
       "                                        max_depth=30))])</pre><b>In a Jupyter environment, please rerun this cell to show the HTML representation or trust the notebook. <br />On GitHub, the HTML representation is unable to render, please try loading this page with nbviewer.org.</b></div><div class=\"sk-container\" hidden><div class=\"sk-item sk-dashed-wrapped\"><div class=\"sk-label-container\"><div class=\"sk-label sk-toggleable\"><input class=\"sk-toggleable__control sk-hidden--visually\" id=\"sk-estimator-id-77\" type=\"checkbox\" ><label for=\"sk-estimator-id-77\" class=\"sk-toggleable__label sk-toggleable__label-arrow\">Pipeline</label><div class=\"sk-toggleable__content\"><pre>Pipeline(steps=[(&#x27;cvec&#x27;,\n",
       "                 CountVectorizer(lowercase=False, max_df=0.9,\n",
       "                                 max_features=30000, min_df=4,\n",
       "                                 ngram_range=(3, 4), stop_words=&#x27;english&#x27;)),\n",
       "                (&#x27;rf&#x27;,\n",
       "                 RandomForestClassifier(class_weight=&#x27;balanced&#x27;,\n",
       "                                        max_depth=30))])</pre></div></div></div><div class=\"sk-serial\"><div class=\"sk-item\"><div class=\"sk-estimator sk-toggleable\"><input class=\"sk-toggleable__control sk-hidden--visually\" id=\"sk-estimator-id-78\" type=\"checkbox\" ><label for=\"sk-estimator-id-78\" class=\"sk-toggleable__label sk-toggleable__label-arrow\">CountVectorizer</label><div class=\"sk-toggleable__content\"><pre>CountVectorizer(lowercase=False, max_df=0.9, max_features=30000, min_df=4,\n",
       "                ngram_range=(3, 4), stop_words=&#x27;english&#x27;)</pre></div></div></div><div class=\"sk-item\"><div class=\"sk-estimator sk-toggleable\"><input class=\"sk-toggleable__control sk-hidden--visually\" id=\"sk-estimator-id-79\" type=\"checkbox\" ><label for=\"sk-estimator-id-79\" class=\"sk-toggleable__label sk-toggleable__label-arrow\">RandomForestClassifier</label><div class=\"sk-toggleable__content\"><pre>RandomForestClassifier(class_weight=&#x27;balanced&#x27;, max_depth=30)</pre></div></div></div></div></div></div></div>"
      ],
      "text/plain": [
       "Pipeline(steps=[('cvec',\n",
       "                 CountVectorizer(lowercase=False, max_df=0.9,\n",
       "                                 max_features=30000, min_df=4,\n",
       "                                 ngram_range=(3, 4), stop_words='english')),\n",
       "                ('rf',\n",
       "                 RandomForestClassifier(class_weight='balanced',\n",
       "                                        max_depth=30))])"
      ]
     },
     "execution_count": 155,
     "metadata": {},
     "output_type": "execute_result"
    }
   ],
   "source": [
    "#get best output from gs\n",
    "gs_M5.best_estimator_"
   ]
  },
  {
   "cell_type": "code",
   "execution_count": 156,
   "id": "Lsctb-HIflEd",
   "metadata": {
    "id": "Lsctb-HIflEd"
   },
   "outputs": [
    {
     "name": "stdout",
     "output_type": "stream",
     "text": [
      "Best estimator from gridsearch: Pipeline(steps=[('cvec',\n",
      "                 CountVectorizer(lowercase=False, max_df=0.9,\n",
      "                                 max_features=30000, min_df=4,\n",
      "                                 ngram_range=(3, 4), stop_words='english')),\n",
      "                ('rf',\n",
      "                 RandomForestClassifier(class_weight='balanced',\n",
      "                                        max_depth=30))])\n",
      "_________________________________________\n",
      "Score metrics of train data:\n",
      "----------------------------------------\n",
      "Accuracy score (Predictive Value): 0.6204\n",
      "Specificity (True Negative Rate) score: 0.9577\n",
      "Sensitivity (True Positive Rate) score: 0.5406\n",
      "Precision (Positive Predictive Value) score: 0.9818\n",
      "F1 score: 0.6973\n",
      "MCC score (phi-coefficient): 0.3943\n",
      "\n",
      "__________________________________________________\n",
      " Score metrics of test data:\n",
      "----------------------------------------\n",
      "Accuracy score (Predictive Value): 0.5789\n",
      "Specificity (True Negative Rate) score: 0.8656\n",
      "Sensitivity (True Positive Rate) score: 0.5111\n",
      "Precision (Positive Predictive Value) score: 0.9415\n",
      "F1 score: 0.6625\n",
      "MCC score (phi-coefficient): 0.2985\n",
      "__________________________________________________\n"
     ]
    },
    {
     "data": {
      "image/png": "[encoded data removed]",
      "text/plain": [
       "<Figure size 640x480 with 2 Axes>"
      ]
     },
     "metadata": {},
     "output_type": "display_data"
    }
   ],
   "source": [
    "#scores for evaluation\n",
    "evaluator(gs_M5)"
   ]
  },
  {
   "cell_type": "markdown",
   "id": "BQLitT-TflEd",
   "metadata": {
    "id": "BQLitT-TflEd"
   },
   "source": [
    "This method seems to have led to an even worse f1 score of 66.3% so it seems like using the Random Forrest might not be a good classifier. This is unexpected but it may be the ngrams are much higher and the words are getting specific in its context but also appearing in both high and low journals. Perhaps having too high ngrams may be causing such a large drift between the results. For the current purpose, this model may not be suitable for this use case."
   ]
  },
  {
   "cell_type": "markdown",
   "id": "IYUg7GuR8DDL",
   "metadata": {
    "id": "IYUg7GuR8DDL"
   },
   "source": [
    "### Modeling\n"
   ]
  },
  {
   "cell_type": "code",
   "execution_count": 230,
   "id": "Dl0Gn_KS8DDL",
   "metadata": {
    "id": "Dl0Gn_KS8DDL"
   },
   "outputs": [],
   "source": [
    "#Set up a pipeline\n",
    "pipe_M5B = Pipeline([('cvec', CountVectorizer()),\n",
    "                    ('rf', RandomForestClassifier())\n",
    "                   ])"
   ]
  },
  {
   "cell_type": "code",
   "execution_count": 234,
   "id": "Ws-eVVtw8DDM",
   "metadata": {
    "id": "Ws-eVVtw8DDM"
   },
   "outputs": [],
   "source": [
    "#Set pipline parameters\n",
    "pipe_M5_params = {'cvec__max_features': [30000],\n",
    "                  'cvec__min_df': [2, 4],\n",
    "                  'cvec__max_df': [.85, .9, .95],\n",
    "                  'cvec__stop_words': ['english'],\n",
    "                  'cvec__ngram_range': [(3, 4)],\n",
    "                  'rf__n_estimators': [100],\n",
    "                  'rf__max_depth': [20, 30],\n",
    "                  'rf__min_samples_split': [2,4],\n",
    "                  }"
   ]
  },
  {
   "cell_type": "code",
   "execution_count": 235,
   "id": "V7_Totqq8DDM",
   "metadata": {
    "id": "V7_Totqq8DDM"
   },
   "outputs": [],
   "source": [
    "# Instantiate GridSearchCV.\n",
    "gs_M5B = GridSearchCV(pipe_M5B,                     # what object are we optimizing?\n",
    "                     param_grid = pipe_M5B_params, # what parameters values are we searching?\n",
    "                     cv=3,                        # 5-fold cross-validation.\n",
    "                     scoring = 'f1',              # balanced to check both precision and recall \n",
    "                     n_jobs = -2,\n",
    "                     verbose = 10\n",
    "                    )"
   ]
  },
  {
   "cell_type": "code",
   "execution_count": 236,
   "id": "TiqEppmL8DDM",
   "metadata": {
    "colab": {
     "base_uri": "https://localhost:8080/",
     "height": 154
    },
    "executionInfo": {
     "elapsed": 1028386,
     "status": "ok",
     "timestamp": 1691294741264,
     "user": {
      "displayName": "Benjamin Seah",
      "userId": "10807984017160968891"
     },
     "user_tz": -480
    },
    "id": "TiqEppmL8DDM",
    "outputId": "a4d5def1-db1f-4648-f60d-95e693b73de4",
    "scrolled": true
   },
   "outputs": [
    {
     "name": "stdout",
     "output_type": "stream",
     "text": [
      "Fitting 3 folds for each of 12 candidates, totalling 36 fits\n"
     ]
    },
    {
     "ename": "ValueError",
     "evalue": "\nAll the 36 fits failed.\nIt is very likely that your model is misconfigured.\nYou can try to debug the error by setting error_score='raise'.\n\nBelow are more details about the failures:\n--------------------------------------------------------------------------------\n36 fits failed with the following error:\nTraceback (most recent call last):\n  File \"C:\\Users\\benja\\mambaforge\\envs\\dsi-sg\\lib\\site-packages\\sklearn\\model_selection\\_validation.py\", line 732, in _fit_and_score\n    estimator.fit(X_train, y_train, **fit_params)\n  File \"C:\\Users\\benja\\mambaforge\\envs\\dsi-sg\\lib\\site-packages\\sklearn\\base.py\", line 1151, in wrapper\n    return fit_method(estimator, *args, **kwargs)\n  File \"C:\\Users\\benja\\mambaforge\\envs\\dsi-sg\\lib\\site-packages\\sklearn\\pipeline.py\", line 420, in fit\n    self._final_estimator.fit(Xt, y, **fit_params_last_step)\n  File \"C:\\Users\\benja\\mambaforge\\envs\\dsi-sg\\lib\\site-packages\\sklearn\\base.py\", line 1144, in wrapper\n    estimator._validate_params()\n  File \"C:\\Users\\benja\\mambaforge\\envs\\dsi-sg\\lib\\site-packages\\sklearn\\base.py\", line 637, in _validate_params\n    validate_parameter_constraints(\n  File \"C:\\Users\\benja\\mambaforge\\envs\\dsi-sg\\lib\\site-packages\\sklearn\\utils\\_param_validation.py\", line 95, in validate_parameter_constraints\n    raise InvalidParameterError(\nsklearn.utils._param_validation.InvalidParameterError: The 'min_samples_split' parameter of RandomForestClassifier must be an int in the range [2, inf) or a float in the range (0.0, 1.0]. Got (3, 4) instead.\n",
     "output_type": "error",
     "traceback": [
      "\u001b[1;31m------------------------------------------------------------\u001b[0m",
      "\u001b[1;31mValueError\u001b[0m                 Traceback (most recent call last)",
      "Cell \u001b[1;32mIn[236], line 2\u001b[0m\n\u001b[0;32m      1\u001b[0m \u001b[38;5;66;03m# Fit GridSearch to training data.\u001b[39;00m\n\u001b[1;32m----> 2\u001b[0m \u001b[43mgs_M5B\u001b[49m\u001b[38;5;241;43m.\u001b[39;49m\u001b[43mfit\u001b[49m\u001b[43m(\u001b[49m\u001b[43mX_train\u001b[49m\u001b[43m,\u001b[49m\u001b[43m \u001b[49m\u001b[43my_train\u001b[49m\u001b[43m)\u001b[49m\n",
      "File \u001b[1;32m~\\mambaforge\\envs\\dsi-sg\\lib\\site-packages\\sklearn\\base.py:1151\u001b[0m, in \u001b[0;36m_fit_context.<locals>.decorator.<locals>.wrapper\u001b[1;34m(estimator, *args, **kwargs)\u001b[0m\n\u001b[0;32m   1144\u001b[0m     estimator\u001b[38;5;241m.\u001b[39m_validate_params()\n\u001b[0;32m   1146\u001b[0m \u001b[38;5;28;01mwith\u001b[39;00m config_context(\n\u001b[0;32m   1147\u001b[0m     skip_parameter_validation\u001b[38;5;241m=\u001b[39m(\n\u001b[0;32m   1148\u001b[0m         prefer_skip_nested_validation \u001b[38;5;129;01mor\u001b[39;00m global_skip_validation\n\u001b[0;32m   1149\u001b[0m     )\n\u001b[0;32m   1150\u001b[0m ):\n\u001b[1;32m-> 1151\u001b[0m     \u001b[38;5;28;01mreturn\u001b[39;00m \u001b[43mfit_method\u001b[49m\u001b[43m(\u001b[49m\u001b[43mestimator\u001b[49m\u001b[43m,\u001b[49m\u001b[43m \u001b[49m\u001b[38;5;241;43m*\u001b[39;49m\u001b[43margs\u001b[49m\u001b[43m,\u001b[49m\u001b[43m \u001b[49m\u001b[38;5;241;43m*\u001b[39;49m\u001b[38;5;241;43m*\u001b[39;49m\u001b[43mkwargs\u001b[49m\u001b[43m)\u001b[49m\n",
      "File \u001b[1;32m~\\mambaforge\\envs\\dsi-sg\\lib\\site-packages\\sklearn\\model_selection\\_search.py:898\u001b[0m, in \u001b[0;36mBaseSearchCV.fit\u001b[1;34m(self, X, y, groups, **fit_params)\u001b[0m\n\u001b[0;32m    892\u001b[0m     results \u001b[38;5;241m=\u001b[39m \u001b[38;5;28mself\u001b[39m\u001b[38;5;241m.\u001b[39m_format_results(\n\u001b[0;32m    893\u001b[0m         all_candidate_params, n_splits, all_out, all_more_results\n\u001b[0;32m    894\u001b[0m     )\n\u001b[0;32m    896\u001b[0m     \u001b[38;5;28;01mreturn\u001b[39;00m results\n\u001b[1;32m--> 898\u001b[0m \u001b[38;5;28;43mself\u001b[39;49m\u001b[38;5;241;43m.\u001b[39;49m\u001b[43m_run_search\u001b[49m\u001b[43m(\u001b[49m\u001b[43mevaluate_candidates\u001b[49m\u001b[43m)\u001b[49m\n\u001b[0;32m    900\u001b[0m \u001b[38;5;66;03m# multimetric is determined here because in the case of a callable\u001b[39;00m\n\u001b[0;32m    901\u001b[0m \u001b[38;5;66;03m# self.scoring the return type is only known after calling\u001b[39;00m\n\u001b[0;32m    902\u001b[0m first_test_score \u001b[38;5;241m=\u001b[39m all_out[\u001b[38;5;241m0\u001b[39m][\u001b[38;5;124m\"\u001b[39m\u001b[38;5;124mtest_scores\u001b[39m\u001b[38;5;124m\"\u001b[39m]\n",
      "File \u001b[1;32m~\\mambaforge\\envs\\dsi-sg\\lib\\site-packages\\sklearn\\model_selection\\_search.py:1419\u001b[0m, in \u001b[0;36mGridSearchCV._run_search\u001b[1;34m(self, evaluate_candidates)\u001b[0m\n\u001b[0;32m   1417\u001b[0m \u001b[38;5;28;01mdef\u001b[39;00m \u001b[38;5;21m_run_search\u001b[39m(\u001b[38;5;28mself\u001b[39m, evaluate_candidates):\n\u001b[0;32m   1418\u001b[0m \u001b[38;5;250m    \u001b[39m\u001b[38;5;124;03m\"\"\"Search all candidates in param_grid\"\"\"\u001b[39;00m\n\u001b[1;32m-> 1419\u001b[0m     \u001b[43mevaluate_candidates\u001b[49m\u001b[43m(\u001b[49m\u001b[43mParameterGrid\u001b[49m\u001b[43m(\u001b[49m\u001b[38;5;28;43mself\u001b[39;49m\u001b[38;5;241;43m.\u001b[39;49m\u001b[43mparam_grid\u001b[49m\u001b[43m)\u001b[49m\u001b[43m)\u001b[49m\n",
      "File \u001b[1;32m~\\mambaforge\\envs\\dsi-sg\\lib\\site-packages\\sklearn\\model_selection\\_search.py:875\u001b[0m, in \u001b[0;36mBaseSearchCV.fit.<locals>.evaluate_candidates\u001b[1;34m(candidate_params, cv, more_results)\u001b[0m\n\u001b[0;32m    868\u001b[0m \u001b[38;5;28;01melif\u001b[39;00m \u001b[38;5;28mlen\u001b[39m(out) \u001b[38;5;241m!=\u001b[39m n_candidates \u001b[38;5;241m*\u001b[39m n_splits:\n\u001b[0;32m    869\u001b[0m     \u001b[38;5;28;01mraise\u001b[39;00m \u001b[38;5;167;01mValueError\u001b[39;00m(\n\u001b[0;32m    870\u001b[0m         \u001b[38;5;124m\"\u001b[39m\u001b[38;5;124mcv.split and cv.get_n_splits returned \u001b[39m\u001b[38;5;124m\"\u001b[39m\n\u001b[0;32m    871\u001b[0m         \u001b[38;5;124m\"\u001b[39m\u001b[38;5;124minconsistent results. Expected \u001b[39m\u001b[38;5;132;01m{}\u001b[39;00m\u001b[38;5;124m \u001b[39m\u001b[38;5;124m\"\u001b[39m\n\u001b[0;32m    872\u001b[0m         \u001b[38;5;124m\"\u001b[39m\u001b[38;5;124msplits, got \u001b[39m\u001b[38;5;132;01m{}\u001b[39;00m\u001b[38;5;124m\"\u001b[39m\u001b[38;5;241m.\u001b[39mformat(n_splits, \u001b[38;5;28mlen\u001b[39m(out) \u001b[38;5;241m/\u001b[39m\u001b[38;5;241m/\u001b[39m n_candidates)\n\u001b[0;32m    873\u001b[0m     )\n\u001b[1;32m--> 875\u001b[0m \u001b[43m_warn_or_raise_about_fit_failures\u001b[49m\u001b[43m(\u001b[49m\u001b[43mout\u001b[49m\u001b[43m,\u001b[49m\u001b[43m \u001b[49m\u001b[38;5;28;43mself\u001b[39;49m\u001b[38;5;241;43m.\u001b[39;49m\u001b[43merror_score\u001b[49m\u001b[43m)\u001b[49m\n\u001b[0;32m    877\u001b[0m \u001b[38;5;66;03m# For callable self.scoring, the return type is only know after\u001b[39;00m\n\u001b[0;32m    878\u001b[0m \u001b[38;5;66;03m# calling. If the return type is a dictionary, the error scores\u001b[39;00m\n\u001b[0;32m    879\u001b[0m \u001b[38;5;66;03m# can now be inserted with the correct key. The type checking\u001b[39;00m\n\u001b[0;32m    880\u001b[0m \u001b[38;5;66;03m# of out will be done in `_insert_error_scores`.\u001b[39;00m\n\u001b[0;32m    881\u001b[0m \u001b[38;5;28;01mif\u001b[39;00m \u001b[38;5;28mcallable\u001b[39m(\u001b[38;5;28mself\u001b[39m\u001b[38;5;241m.\u001b[39mscoring):\n",
      "File \u001b[1;32m~\\mambaforge\\envs\\dsi-sg\\lib\\site-packages\\sklearn\\model_selection\\_validation.py:414\u001b[0m, in \u001b[0;36m_warn_or_raise_about_fit_failures\u001b[1;34m(results, error_score)\u001b[0m\n\u001b[0;32m    407\u001b[0m \u001b[38;5;28;01mif\u001b[39;00m num_failed_fits \u001b[38;5;241m==\u001b[39m num_fits:\n\u001b[0;32m    408\u001b[0m     all_fits_failed_message \u001b[38;5;241m=\u001b[39m (\n\u001b[0;32m    409\u001b[0m         \u001b[38;5;124mf\u001b[39m\u001b[38;5;124m\"\u001b[39m\u001b[38;5;130;01m\\n\u001b[39;00m\u001b[38;5;124mAll the \u001b[39m\u001b[38;5;132;01m{\u001b[39;00mnum_fits\u001b[38;5;132;01m}\u001b[39;00m\u001b[38;5;124m fits failed.\u001b[39m\u001b[38;5;130;01m\\n\u001b[39;00m\u001b[38;5;124m\"\u001b[39m\n\u001b[0;32m    410\u001b[0m         \u001b[38;5;124m\"\u001b[39m\u001b[38;5;124mIt is very likely that your model is misconfigured.\u001b[39m\u001b[38;5;130;01m\\n\u001b[39;00m\u001b[38;5;124m\"\u001b[39m\n\u001b[0;32m    411\u001b[0m         \u001b[38;5;124m\"\u001b[39m\u001b[38;5;124mYou can try to debug the error by setting error_score=\u001b[39m\u001b[38;5;124m'\u001b[39m\u001b[38;5;124mraise\u001b[39m\u001b[38;5;124m'\u001b[39m\u001b[38;5;124m.\u001b[39m\u001b[38;5;130;01m\\n\u001b[39;00m\u001b[38;5;130;01m\\n\u001b[39;00m\u001b[38;5;124m\"\u001b[39m\n\u001b[0;32m    412\u001b[0m         \u001b[38;5;124mf\u001b[39m\u001b[38;5;124m\"\u001b[39m\u001b[38;5;124mBelow are more details about the failures:\u001b[39m\u001b[38;5;130;01m\\n\u001b[39;00m\u001b[38;5;132;01m{\u001b[39;00mfit_errors_summary\u001b[38;5;132;01m}\u001b[39;00m\u001b[38;5;124m\"\u001b[39m\n\u001b[0;32m    413\u001b[0m     )\n\u001b[1;32m--> 414\u001b[0m     \u001b[38;5;28;01mraise\u001b[39;00m \u001b[38;5;167;01mValueError\u001b[39;00m(all_fits_failed_message)\n\u001b[0;32m    416\u001b[0m \u001b[38;5;28;01melse\u001b[39;00m:\n\u001b[0;32m    417\u001b[0m     some_fits_failed_message \u001b[38;5;241m=\u001b[39m (\n\u001b[0;32m    418\u001b[0m         \u001b[38;5;124mf\u001b[39m\u001b[38;5;124m\"\u001b[39m\u001b[38;5;130;01m\\n\u001b[39;00m\u001b[38;5;132;01m{\u001b[39;00mnum_failed_fits\u001b[38;5;132;01m}\u001b[39;00m\u001b[38;5;124m fits failed out of a total of \u001b[39m\u001b[38;5;132;01m{\u001b[39;00mnum_fits\u001b[38;5;132;01m}\u001b[39;00m\u001b[38;5;124m.\u001b[39m\u001b[38;5;130;01m\\n\u001b[39;00m\u001b[38;5;124m\"\u001b[39m\n\u001b[0;32m    419\u001b[0m         \u001b[38;5;124m\"\u001b[39m\u001b[38;5;124mThe score on these train-test partitions for these parameters\u001b[39m\u001b[38;5;124m\"\u001b[39m\n\u001b[1;32m   (...)\u001b[0m\n\u001b[0;32m    423\u001b[0m         \u001b[38;5;124mf\u001b[39m\u001b[38;5;124m\"\u001b[39m\u001b[38;5;124mBelow are more details about the failures:\u001b[39m\u001b[38;5;130;01m\\n\u001b[39;00m\u001b[38;5;132;01m{\u001b[39;00mfit_errors_summary\u001b[38;5;132;01m}\u001b[39;00m\u001b[38;5;124m\"\u001b[39m\n\u001b[0;32m    424\u001b[0m     )\n",
      "\u001b[1;31mValueError\u001b[0m: \nAll the 36 fits failed.\nIt is very likely that your model is misconfigured.\nYou can try to debug the error by setting error_score='raise'.\n\nBelow are more details about the failures:\n--------------------------------------------------------------------------------\n36 fits failed with the following error:\nTraceback (most recent call last):\n  File \"C:\\Users\\benja\\mambaforge\\envs\\dsi-sg\\lib\\site-packages\\sklearn\\model_selection\\_validation.py\", line 732, in _fit_and_score\n    estimator.fit(X_train, y_train, **fit_params)\n  File \"C:\\Users\\benja\\mambaforge\\envs\\dsi-sg\\lib\\site-packages\\sklearn\\base.py\", line 1151, in wrapper\n    return fit_method(estimator, *args, **kwargs)\n  File \"C:\\Users\\benja\\mambaforge\\envs\\dsi-sg\\lib\\site-packages\\sklearn\\pipeline.py\", line 420, in fit\n    self._final_estimator.fit(Xt, y, **fit_params_last_step)\n  File \"C:\\Users\\benja\\mambaforge\\envs\\dsi-sg\\lib\\site-packages\\sklearn\\base.py\", line 1144, in wrapper\n    estimator._validate_params()\n  File \"C:\\Users\\benja\\mambaforge\\envs\\dsi-sg\\lib\\site-packages\\sklearn\\base.py\", line 637, in _validate_params\n    validate_parameter_constraints(\n  File \"C:\\Users\\benja\\mambaforge\\envs\\dsi-sg\\lib\\site-packages\\sklearn\\utils\\_param_validation.py\", line 95, in validate_parameter_constraints\n    raise InvalidParameterError(\nsklearn.utils._param_validation.InvalidParameterError: The 'min_samples_split' parameter of RandomForestClassifier must be an int in the range [2, inf) or a float in the range (0.0, 1.0]. Got (3, 4) instead.\n"
     ]
    }
   ],
   "source": [
    "# Fit GridSearch to training data.\n",
    "gs_M5B.fit(X_train, y_train)"
   ]
  },
  {
   "cell_type": "markdown",
   "id": "saYUdQCk8DDN",
   "metadata": {
    "id": "saYUdQCk8DDN"
   },
   "source": []
  },
  {
   "cell_type": "code",
   "execution_count": null,
   "id": "hTrjCZ858DDN",
   "metadata": {
    "id": "hTrjCZ858DDN"
   },
   "outputs": [],
   "source": [
    "if not os.path.exists('/content/drive/MyDrive/Colab Notebooks/project_3/pkl/'):\n",
    "    os.makedirs('/content/drive/MyDrive/Colab Notebooks/project_3/pkl/')\n",
    "\n",
    "pickle.dump(gs_M5B, open('/content/drive/MyDrive/Colab Notebooks/project_3/pkl/gs_M5B.pkl', 'wb'))\n",
    "pickle.dump(pipe_M5B, open('/content/drive/MyDrive/Colab Notebooks/project_3/pkl/pipe_M5B.pkl', 'wb'))\n"
   ]
  },
  {
   "cell_type": "code",
   "execution_count": null,
   "id": "uzpdynGc8DDN",
   "metadata": {
    "id": "uzpdynGc8DDN"
   },
   "outputs": [],
   "source": [
    "#import pickle\n",
    "\n",
    "#with open('pipe_M5B.pkl', 'wb') as f:\n",
    "#    pickle.dump(pipeline, f)"
   ]
  },
  {
   "cell_type": "markdown",
   "id": "s8OErQD98DDO",
   "metadata": {
    "id": "s8OErQD98DDO"
   },
   "source": [
    "### Scoring evaluation\n",
    " - Since it is important to assign both journals as best as possible even though there is data imbalanace, the Precision-Recall (PR) curve focuses on the minority class would not be used.\n",
    " - The Receiver Operating Characteristic (ROC) curve which covers both classes would be a better gauge."
   ]
  },
  {
   "cell_type": "code",
   "execution_count": null,
   "id": "2qvJ9uO48DDO",
   "metadata": {
    "colab": {
     "base_uri": "https://localhost:8080/",
     "height": 128
    },
    "executionInfo": {
     "elapsed": 5,
     "status": "ok",
     "timestamp": 1691294742515,
     "user": {
      "displayName": "Benjamin Seah",
      "userId": "10807984017160968891"
     },
     "user_tz": -480
    },
    "id": "2qvJ9uO48DDO",
    "outputId": "10bfa9cb-1f18-46df-8198-d243e48f2b1f"
   },
   "outputs": [],
   "source": [
    "#get best output from gs\n",
    "gs_M5B.best_estimator_"
   ]
  },
  {
   "cell_type": "code",
   "execution_count": null,
   "id": "V7UAKgaH8DDO",
   "metadata": {
    "colab": {
     "base_uri": "https://localhost:8080/",
     "height": 868
    },
    "executionInfo": {
     "elapsed": 5451,
     "status": "ok",
     "timestamp": 1691294747963,
     "user": {
      "displayName": "Benjamin Seah",
      "userId": "10807984017160968891"
     },
     "user_tz": -480
    },
    "id": "V7UAKgaH8DDO",
    "outputId": "eeb72d07-bd6c-4d3a-a428-c15dc19e859b"
   },
   "outputs": [],
   "source": [
    "#scores for evaluation\n",
    "evaluator(gs_M5B)"
   ]
  },
  {
   "cell_type": "markdown",
   "id": "992RNkCQ8DDO",
   "metadata": {
    "id": "992RNkCQ8DDO"
   },
   "source": [
    "From this result, it is obious that oversampling helps the situation since there the metrics took a hit of about 4-5% with specificty in particular, decreaased to about 65% for test and 80% for train which is terrible and highlight severe overfit and underfit at the same time. It like liek hyer parameter tuning would be better a better course of action."
   ]
  },
  {
   "cell_type": "code",
   "execution_count": 187,
   "id": "424e9f68-00c7-43fc-b023-6d44eea7b818",
   "metadata": {},
   "outputs": [],
   "source": [
    "from sklearn.metrics import classification_report, precision_recall_curve, auc"
   ]
  },
  {
   "cell_type": "code",
   "execution_count": 199,
   "id": "0-bpXg39HG0e",
   "metadata": {
    "id": "0-bpXg39HG0e"
   },
   "outputs": [
    {
     "data": {
      "image/png": "[encoded data removed]",
      "text/plain": [
       "<Figure size 1200x800 with 1 Axes>"
      ]
     },
     "metadata": {},
     "output_type": "display_data"
    }
   ],
   "source": [
    "#get precision and recall\n",
    "probs_M1 = gs_M1.best_estimator_.predict_proba(X_test)[:, 1]\n",
    "probs_M2 = gs_M2.best_estimator_.predict_proba(X_test)[:, 1]\n",
    "probs_M3A = gs_M3A.best_estimator_.predict_proba(X_test)[:, 1]\n",
    "probs_M3B = gs_M3B.best_estimator_.predict_proba(X_test)[:, 1]\n",
    "probs_M4 = gs_M4.best_estimator_.predict_proba(X_test)[:, 1]\n",
    "probs_M5 = gs_M5.best_estimator_.predict_proba(X_test)[:, 1]\n",
    "\n",
    "\n",
    "# Calculate pres and rec for each model\n",
    "prec_M1, rec_M1, threshold_M1 = precision_recall_curve(y_test, probs_M1)\n",
    "prec_M2, rec_M2, threshold_M2 = precision_recall_curve(y_test, probs_M2)\n",
    "prec_M3A, rec_M3A, threshold_M3A = precision_recall_curve(y_test, probs_M3A)\n",
    "prec_M3B, rec_M3B, threshold_M3B = precision_recall_curve(y_test, probs_M3B)\n",
    "prec_M4, rec_M4, threshold_M4 = precision_recall_curve(y_test, probs_M4)       \n",
    "prec_M5, rec_M5, threshold_M5 = precision_recall_curve(y_test, probs_M5)\n",
    "\n",
    "# Calculate auc from pres and rec for each model\n",
    "auc_M1 = auc(rec_M1, prec_M1)\n",
    "auc_M2 = auc(rec_M2, prec_M2)\n",
    "auc_M3A = auc(rec_M3A, prec_M3A)\n",
    "auc_M3B = auc(rec_M3B, prec_M3B)\n",
    "auc_M4 = auc(rec_M4, prec_M4)\n",
    "auc_M5 = auc(rec_M5, prec_M5)                 \n",
    "\n",
    "# Step 6: Plot the ROC curves\n",
    "plt.figure(figsize=(12, 8))\n",
    "plt.step(prec_M1, rec_M1, label=\"M1: CountVectorizer + Multinomial Naive Bayes (AUC = {:.2f})\".format(auc_M1))\n",
    "plt.step(prec_M2, rec_M2, label=\"M2: TfidfVectorizer + Multinomial Naive Bayes (AUC = {:.2f})\".format(auc_M2))\n",
    "plt.step(prec_M3A, rec_M3A, label=\"M3A: TfidfVectorizer + Complement Naive Bayes (AUC = {:.2f})\".format(auc_M3A))\n",
    "plt.step(prec_M3B, rec_M3B, label=\"M3B: Random Oversampling + TfidfVectorizer + Multinomial Naive Bayes (AUC = {:.2f})\".format(auc_M3B))\n",
    "plt.step(prec_M4, rec_M4, label=\"M4: Random Oversampling + Count Vectorizer + Logistic Regression (AUC = {:.2f})\".format(auc_M4))\n",
    "plt.step(prec_M5, rec_M5, label=\"M5: Random Oversampling + CountVectorizer + Random Forest (AUC = {:.2f})\".format(auc_M5))\n",
    "\n",
    "plt.xlabel('Recall')\n",
    "plt.ylabel('Precision')\n",
    "#plt.ylim([0.0, 1.05])\n",
    "#plt.xlim([0.0, 1.0])\n",
    "plt.title('Stacked Precision-Recall Curve')\n",
    "plt.legend(loc='best')\n",
    "plt.grid(True, alpha = 0.3)\n",
    "plt.show()\n"
   ]
  },
  {
   "cell_type": "markdown",
   "id": "b6b61492-769d-407a-9a18-58f90a5293a1",
   "metadata": {},
   "source": [
    "## Models Score summary"
   ]
  },
  {
   "cell_type": "markdown",
   "id": "897d9d5f-e59a-4a68-83b5-c8cf344cbd09",
   "metadata": {},
   "source": [
    "| Model | Description                                                     | F1 train | F1 test | MCC train | MCC test |\n",
    "|-------|-----------------------------------------------------------------|----------|---------|-----------|----------|\n",
    "| 1     | Count Vectorizer + Multinomial naive Bayes                      | 0.9533   | 0.9145  | 0.7649    | 0.5336   |\n",
    "| 2     | TF-IDF Vectorizer + Multinomial naive Bayes                     | 0.9466   | 0.9232  | 0.6846    | 0.5022   |\n",
    "| 3A    | TfidfVectorizer + Complement Naive Bayes                        | 0.9417   | 0.8948  | 0.7007    | 0.4844   |\n",
    "| 3B    | Random Oversampling + TfidfVectorizer + Multinomial Naive Bayes | 0.9267   | 0.8836  | 0.6783    | 0.4685   |\n",
    "| 4     | Oversampler + Count Vectorizer + Logistic Regression            | 0.9896   | 0.9245  | 0.9451    | 0.5427   |\n",
    "| 5     | Oversampler + CVEC Vectorizer + Random Forest                   | 0.6973   | 0.6625  | 0.3943    | 0.2985   |"
   ]
  },
  {
   "cell_type": "markdown",
   "id": "9862fdda-eab2-41d2-8f9f-0caa6f9f4a4d",
   "metadata": {},
   "source": [
    "From the summary of scores above, it would seem F1 scores, for test and train are relatively high except for model 5 which is the random forrest. Since the F1 score is sthe main metric, model 1,2 and 3A are fairly acceptable with similar overfit. \n",
    "\n",
    "MCC scores however are generally low but it is useful to have a secondary metric to reference. In this case, based on the overfit of the MCC scores Models 1 and 2 are acceptable with similar overfit percentage. Since Model 2 has lower overfit, (~2%) and higher test f1 scores, it is selected. \n",
    "\n",
    "With a score of 0.9232, it shows that it can classify the two journals quite well."
   ]
  },
  {
   "cell_type": "markdown",
   "id": "540b895b-c014-4155-9602-0c73a0b573a0",
   "metadata": {},
   "source": [
    "# Getting ngrams by count"
   ]
  },
  {
   "cell_type": "markdown",
   "id": "634b4289-dc51-4ff0-ad5b-2dea26a03380",
   "metadata": {},
   "source": [
    "Using model 2 we can get the ngrams out to show the top ranking words tha can be used to advise the researchers."
   ]
  },
  {
   "cell_type": "code",
   "execution_count": 249,
   "id": "4038d8b3-3d6a-4c71-ad90-9dcc55e0678b",
   "metadata": {
    "scrolled": true
   },
   "outputs": [
    {
     "data": {
      "text/html": [
       "<div>\n",
       "<style scoped>\n",
       "    .dataframe tbody tr th:only-of-type {\n",
       "        vertical-align: middle;\n",
       "    }\n",
       "\n",
       "    .dataframe tbody tr th {\n",
       "        vertical-align: top;\n",
       "    }\n",
       "\n",
       "    .dataframe thead th {\n",
       "        text-align: right;\n",
       "    }\n",
       "</style>\n",
       "<table border=\"1\" class=\"dataframe\">\n",
       "  <thead>\n",
       "    <tr style=\"text-align: right;\">\n",
       "      <th>high_HI</th>\n",
       "      <th>0</th>\n",
       "      <th>1</th>\n",
       "    </tr>\n",
       "  </thead>\n",
       "  <tbody>\n",
       "    <tr>\n",
       "      <th>relative standard deviation</th>\n",
       "      <td>23.630517</td>\n",
       "      <td>64.676007</td>\n",
       "    </tr>\n",
       "    <tr>\n",
       "      <th>chromatography mass spectrometry</th>\n",
       "      <td>18.650823</td>\n",
       "      <td>63.713159</td>\n",
       "    </tr>\n",
       "    <tr>\n",
       "      <th>ion selective electrode</th>\n",
       "      <td>14.901440</td>\n",
       "      <td>7.284102</td>\n",
       "    </tr>\n",
       "    <tr>\n",
       "      <th>gas chromatography mass</th>\n",
       "      <td>14.881539</td>\n",
       "      <td>42.453656</td>\n",
       "    </tr>\n",
       "    <tr>\n",
       "      <th>procedure developed determination</th>\n",
       "      <td>13.883409</td>\n",
       "      <td>1.509595</td>\n",
       "    </tr>\n",
       "    <tr>\n",
       "      <th>high performance liquid</th>\n",
       "      <td>13.610774</td>\n",
       "      <td>74.053576</td>\n",
       "    </tr>\n",
       "    <tr>\n",
       "      <th>performance liquid chromatography</th>\n",
       "      <td>13.300907</td>\n",
       "      <td>78.681956</td>\n",
       "    </tr>\n",
       "    <tr>\n",
       "      <th>gas chromatography mass spectrometry</th>\n",
       "      <td>13.169126</td>\n",
       "      <td>41.301460</td>\n",
       "    </tr>\n",
       "    <tr>\n",
       "      <th>inductively coupled plasma</th>\n",
       "      <td>13.090364</td>\n",
       "      <td>58.225657</td>\n",
       "    </tr>\n",
       "    <tr>\n",
       "      <th>high performance liquid chromatography</th>\n",
       "      <td>12.748048</td>\n",
       "      <td>71.192843</td>\n",
       "    </tr>\n",
       "    <tr>\n",
       "      <th>glassy carbon electrode</th>\n",
       "      <td>12.662126</td>\n",
       "      <td>17.099473</td>\n",
       "    </tr>\n",
       "    <tr>\n",
       "      <th>procedure developed determining</th>\n",
       "      <td>12.661135</td>\n",
       "      <td>0.200605</td>\n",
       "    </tr>\n",
       "    <tr>\n",
       "      <th>method successfully applied</th>\n",
       "      <td>11.875093</td>\n",
       "      <td>29.330907</td>\n",
       "    </tr>\n",
       "    <tr>\n",
       "      <th>reversed phase hplc</th>\n",
       "      <td>11.024525</td>\n",
       "      <td>5.615616</td>\n",
       "    </tr>\n",
       "    <tr>\n",
       "      <th>atomic absorption spectrometry</th>\n",
       "      <td>10.910573</td>\n",
       "      <td>18.330989</td>\n",
       "    </tr>\n",
       "    <tr>\n",
       "      <th>atomic emission spectrometry</th>\n",
       "      <td>10.524528</td>\n",
       "      <td>6.126297</td>\n",
       "    </tr>\n",
       "    <tr>\n",
       "      <th>range detection limit</th>\n",
       "      <td>10.236126</td>\n",
       "      <td>27.047513</td>\n",
       "    </tr>\n",
       "    <tr>\n",
       "      <th>ray fluorescence analysis</th>\n",
       "      <td>9.673251</td>\n",
       "      <td>2.600533</td>\n",
       "    </tr>\n",
       "    <tr>\n",
       "      <th>successfully applied determination</th>\n",
       "      <td>9.238452</td>\n",
       "      <td>11.574346</td>\n",
       "    </tr>\n",
       "    <tr>\n",
       "      <th>solid phase extraction</th>\n",
       "      <td>9.058546</td>\n",
       "      <td>72.016225</td>\n",
       "    </tr>\n",
       "    <tr>\n",
       "      <th>gas chromatographic determination</th>\n",
       "      <td>8.124811</td>\n",
       "      <td>0.000000</td>\n",
       "    </tr>\n",
       "    <tr>\n",
       "      <th>method developed determination</th>\n",
       "      <td>8.074289</td>\n",
       "      <td>11.221329</td>\n",
       "    </tr>\n",
       "    <tr>\n",
       "      <th>capillary zone electrophoresis</th>\n",
       "      <td>7.938218</td>\n",
       "      <td>10.054168</td>\n",
       "    </tr>\n",
       "    <tr>\n",
       "      <th>linear concentration range</th>\n",
       "      <td>7.665691</td>\n",
       "      <td>7.521914</td>\n",
       "    </tr>\n",
       "    <tr>\n",
       "      <th>mass spectrometric detection</th>\n",
       "      <td>7.630413</td>\n",
       "      <td>12.515898</td>\n",
       "    </tr>\n",
       "    <tr>\n",
       "      <th>method successfully applied determination</th>\n",
       "      <td>7.550449</td>\n",
       "      <td>7.303554</td>\n",
       "    </tr>\n",
       "    <tr>\n",
       "      <th>flow rate min</th>\n",
       "      <td>7.324710</td>\n",
       "      <td>17.022979</td>\n",
       "    </tr>\n",
       "    <tr>\n",
       "      <th>flow injection analysis</th>\n",
       "      <td>7.177338</td>\n",
       "      <td>12.470542</td>\n",
       "    </tr>\n",
       "    <tr>\n",
       "      <th>plasma atomic emission</th>\n",
       "      <td>7.176468</td>\n",
       "      <td>7.668763</td>\n",
       "    </tr>\n",
       "    <tr>\n",
       "      <th>liquid liquid microextraction</th>\n",
       "      <td>6.909978</td>\n",
       "      <td>9.614470</td>\n",
       "    </tr>\n",
       "    <tr>\n",
       "      <th>sodium dodecyl sulfate</th>\n",
       "      <td>6.874338</td>\n",
       "      <td>12.245383</td>\n",
       "    </tr>\n",
       "    <tr>\n",
       "      <th>coupled plasma atomic</th>\n",
       "      <td>6.676165</td>\n",
       "      <td>7.083590</td>\n",
       "    </tr>\n",
       "    <tr>\n",
       "      <th>coupled plasma atomic emission</th>\n",
       "      <td>6.676165</td>\n",
       "      <td>7.083590</td>\n",
       "    </tr>\n",
       "    <tr>\n",
       "      <th>range limit detection</th>\n",
       "      <td>6.619037</td>\n",
       "      <td>17.394338</td>\n",
       "    </tr>\n",
       "    <tr>\n",
       "      <th>scanning electron microscopy</th>\n",
       "      <td>6.548067</td>\n",
       "      <td>27.216852</td>\n",
       "    </tr>\n",
       "    <tr>\n",
       "      <th>beer law obeyed</th>\n",
       "      <td>6.508703</td>\n",
       "      <td>1.469753</td>\n",
       "    </tr>\n",
       "    <tr>\n",
       "      <th>inductively coupled plasma atomic</th>\n",
       "      <td>6.497621</td>\n",
       "      <td>6.742247</td>\n",
       "    </tr>\n",
       "    <tr>\n",
       "      <th>carbon paste electrode</th>\n",
       "      <td>6.478909</td>\n",
       "      <td>6.629359</td>\n",
       "    </tr>\n",
       "    <tr>\n",
       "      <th>principal component analysis</th>\n",
       "      <td>6.341491</td>\n",
       "      <td>36.523049</td>\n",
       "    </tr>\n",
       "    <tr>\n",
       "      <th>standard deviation result</th>\n",
       "      <td>6.235578</td>\n",
       "      <td>1.007633</td>\n",
       "    </tr>\n",
       "  </tbody>\n",
       "</table>\n",
       "</div>"
      ],
      "text/plain": [
       "high_HI                                            0          1\n",
       "relative standard deviation                23.630517  64.676007\n",
       "chromatography mass spectrometry           18.650823  63.713159\n",
       "ion selective electrode                    14.901440   7.284102\n",
       "gas chromatography mass                    14.881539  42.453656\n",
       "procedure developed determination          13.883409   1.509595\n",
       "high performance liquid                    13.610774  74.053576\n",
       "performance liquid chromatography          13.300907  78.681956\n",
       "gas chromatography mass spectrometry       13.169126  41.301460\n",
       "inductively coupled plasma                 13.090364  58.225657\n",
       "high performance liquid chromatography     12.748048  71.192843\n",
       "glassy carbon electrode                    12.662126  17.099473\n",
       "procedure developed determining            12.661135   0.200605\n",
       "method successfully applied                11.875093  29.330907\n",
       "reversed phase hplc                        11.024525   5.615616\n",
       "atomic absorption spectrometry             10.910573  18.330989\n",
       "atomic emission spectrometry               10.524528   6.126297\n",
       "range detection limit                      10.236126  27.047513\n",
       "ray fluorescence analysis                   9.673251   2.600533\n",
       "successfully applied determination          9.238452  11.574346\n",
       "solid phase extraction                      9.058546  72.016225\n",
       "gas chromatographic determination           8.124811   0.000000\n",
       "method developed determination              8.074289  11.221329\n",
       "capillary zone electrophoresis              7.938218  10.054168\n",
       "linear concentration range                  7.665691   7.521914\n",
       "mass spectrometric detection                7.630413  12.515898\n",
       "method successfully applied determination   7.550449   7.303554\n",
       "flow rate min                               7.324710  17.022979\n",
       "flow injection analysis                     7.177338  12.470542\n",
       "plasma atomic emission                      7.176468   7.668763\n",
       "liquid liquid microextraction               6.909978   9.614470\n",
       "sodium dodecyl sulfate                      6.874338  12.245383\n",
       "coupled plasma atomic                       6.676165   7.083590\n",
       "coupled plasma atomic emission              6.676165   7.083590\n",
       "range limit detection                       6.619037  17.394338\n",
       "scanning electron microscopy                6.548067  27.216852\n",
       "beer law obeyed                             6.508703   1.469753\n",
       "inductively coupled plasma atomic           6.497621   6.742247\n",
       "carbon paste electrode                      6.478909   6.629359\n",
       "principal component analysis                6.341491  36.523049\n",
       "standard deviation result                   6.235578   1.007633"
      ]
     },
     "execution_count": 249,
     "metadata": {},
     "output_type": "execute_result"
    }
   ],
   "source": [
    "#get coefficents\n",
    "ngram_counts_M2 = ngram_tvec_coefs(gs_M2, X_train, y_train)\n",
    "ngram_counts_M2.sort_values(by = 0, ascending = False)[:40]"
   ]
  },
  {
   "cell_type": "code",
   "execution_count": 284,
   "id": "f22ac76f-c5f3-47c1-b829-8ac88df9e9a5",
   "metadata": {
    "scrolled": true
   },
   "outputs": [],
   "source": [
    "top_ngram = ngram_counts_M2.sort_values(by = 1, ascending = False)[:25]"
   ]
  },
  {
   "cell_type": "code",
   "execution_count": 302,
   "id": "3a30a628-7a6e-4770-9f28-d3d576dc8cd7",
   "metadata": {},
   "outputs": [],
   "source": [
    "low_HI_words = ngram_counts_M2.sort_values(by = 0, ascending = False)[:25][0]\n",
    "high_HI_words = ngram_counts_M2.sort_values(by = 1, ascending = False)[:25][1]\n"
   ]
  },
  {
   "cell_type": "code",
   "execution_count": 310,
   "id": "00642a10-cb58-4954-833e-542559bdbe44",
   "metadata": {},
   "outputs": [
    {
     "data": {
      "image/png": "[encoded data removed]",
      "text/plain": [
       "<Figure size 640x480 with 1 Axes>"
      ]
     },
     "metadata": {},
     "output_type": "display_data"
    }
   ],
   "source": [
    "low_HI_words.sort_values(ascending = True).plot(kind = 'barh', title = 'Frequency distributions of the top 25 words in low_HI Journal');"
   ]
  },
  {
   "cell_type": "code",
   "execution_count": 311,
   "id": "f616f54b-8105-4e2a-8692-5b877135dc0e",
   "metadata": {},
   "outputs": [
    {
     "data": {
      "image/png": "[encoded data removed]",
      "text/plain": [
       "<Figure size 640x480 with 1 Axes>"
      ]
     },
     "metadata": {},
     "output_type": "display_data"
    }
   ],
   "source": [
    "high_HI_words.sort_values(ascending = True).plot(kind = 'barh', title = 'Frequency distributions of the top 25 words in high_HI Journal');"
   ]
  },
  {
   "cell_type": "markdown",
   "id": "7f9e1d5d-1396-44c7-b8ad-24215d7b329c",
   "metadata": {},
   "source": [
    "From the two plots above, we can see that the top words does overlap alittle such as performance liquid chromatogaphy but this shows that the key words are not mutually exclusive. In fact, any overlap just shows the value of published papers in relation to the key words. \n",
    "Thus, the words can be very useful in advising the research "
   ]
  },
  {
   "cell_type": "markdown",
   "id": "84526665-c532-428d-8711-beee5cb7419d",
   "metadata": {},
   "source": [
    "# Current limitations and future directions"
   ]
  },
  {
   "cell_type": "markdown",
   "id": "af892180-9923-4c4d-8f87-98d32707608f",
   "metadata": {},
   "source": [
    "For future development, assess to larger databsses would prove beneficial since we can have a larger dataset which woud improve robustness for this and the journals can be further fine tuned to be of even mroe similar topic to see if it can still be seperated well. Addtionally, other classifiers and methods should be explored to resolve the data imbalance as well as further hyper parameter tune to improve the MCC scores and common ngrams."
   ]
  },
  {
   "cell_type": "markdown",
   "id": "8766ebff-2898-4c2b-9949-a2ebe54e3269",
   "metadata": {},
   "source": [
    "# Conclusion"
   ]
  },
  {
   "cell_type": "markdown",
   "id": "f2e25b99-3db4-4993-b2a5-7dd4aa3bc341",
   "metadata": {},
   "source": [
    "Through the trials of 6 models, and assessment via the primary metric f1 scores as well as the secondary metric MCC, Model 2 is selected since it has lower overfit (~2%) and higher test f1 score. With a f1 score of 0.9232, it can be established that the two journals of differing HI_index can be classified with emphasis on the true positives via the harmonic balance of recall and precision, which is the targeted high_HI journal. With the model's ability to classify between a high and low HI journal, this established that the keywords in the abstract are different. This permits the extraction of the top key words that are prevalent in the target (high_HI journal) which can then be shared with the researcher who either want to know which area to research into or even prepare their paper accordingly for submisssion. "
   ]
  },
  {
   "cell_type": "code",
   "execution_count": null,
   "id": "7db5bb0f-3b55-4ce4-8549-e64f95ba2f2b",
   "metadata": {},
   "outputs": [],
   "source": []
  }
 ],
 "metadata": {
  "colab": {
   "provenance": []
  },
  "kernelspec": {
   "display_name": "Python 3 (ipykernel)",
   "language": "python",
   "name": "python3"
  },
  "language_info": {
   "codemirror_mode": {
    "name": "ipython",
    "version": 3
   },
   "file_extension": ".py",
   "mimetype": "text/x-python",
   "name": "python",
   "nbconvert_exporter": "python",
   "pygments_lexer": "ipython3",
   "version": "3.8.17"
  }
 },
 "nbformat": 4,
 "nbformat_minor": 5
}
