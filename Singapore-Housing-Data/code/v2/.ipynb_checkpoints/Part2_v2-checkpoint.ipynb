{
 "cells": [
  {
   "cell_type": "markdown",
   "id": "a98d375f-3ca7-41e9-bab4-a05f74db5272",
   "metadata": {},
   "source": [
    "<img src=\"http://imgur.com/1ZcRyrc.png\" style=\"float: left; margin: 20px; height: 55px\"> \n",
    "\n",
    "# Project 2: Singapore Housing Data and Kaggle Challenge"
   ]
  },
  {
   "cell_type": "markdown",
   "id": "4a8ff5bc-6e06-4761-837b-e1ee170af9b4",
   "metadata": {},
   "source": [
    "--- \n",
    "# Part 2 Modeling and refining\n",
    "---"
   ]
  },
  {
   "cell_type": "markdown",
   "id": "c7360e1a-9802-4df8-99e7-7fcec197966d",
   "metadata": {},
   "source": [
    "# Contents:\n",
    "- [Problem Statement](#Problem-Statement)\n",
    "- [All imports](#All-imports)\n",
    "- [Preprocessing](#Preprocessing)\n",
    "- [Data Dictionary](#Data-Dictionary)\n",
    "- [Train-Test Split](#Train-Test-Split)\n",
    "- [Linear Regression](#Linear-Regression)\n",
    "- [Ridge Regression](#Ridge-Regression)\n",
    "- [Lasso Regression](#Lasso-Regression)\n",
    "- [Predictions](#Predictions)"
   ]
  },
  {
   "cell_type": "markdown",
   "id": "907483bc-d727-4bdd-b78c-379290cf900a",
   "metadata": {},
   "source": [
    "## Problem Statement"
   ]
  },
  {
   "cell_type": "markdown",
   "id": "d5bc0d96-43e3-4634-a4d1-6997289a4c4b",
   "metadata": {},
   "source": [
    "Housing pricing affects the decision making process of buyers in their assessment of the unit. This project attempts to build a linear regression model, using the data contain in the dataset folder. The goal is to have the model accurately predict the sales price of the houses in the test set, which will be evaluated based on common evaluation metrics such as R2 and RMSE.\n",
    "This will give those who are impacted by housing prices, e.g. owners, buyers and agents additional data to inform their own decision making process. "
   ]
  },
  {
   "cell_type": "markdown",
   "id": "b7757f48-5a08-4d78-ba06-b94a4f9233a7",
   "metadata": {},
   "source": [
    "## All imports\n",
    "Libraries and data imports"
   ]
  },
  {
   "cell_type": "code",
   "execution_count": 1,
   "id": "83dfe51f-5db8-4607-a154-f91bce39c437",
   "metadata": {},
   "outputs": [],
   "source": [
    "# Imports:\n",
    "import numpy as np\n",
    "import pandas as pd\n",
    "import os\n",
    "import matplotlib.pyplot as plt\n",
    "import seaborn as sns\n",
    "\n",
    "from sklearn.linear_model import LinearRegression, LassoCV, Lasso, RidgeCV, Ridge\n",
    "from sklearn.preprocessing import StandardScaler, OneHotEncoder, PolynomialFeatures, PowerTransformer\n",
    "from sklearn.model_selection import train_test_split, cross_val_score, cross_val_predict\n",
    "from sklearn.metrics import r2_score, mean_squared_error\n",
    "import statsmodels.api as sm"
   ]
  },
  {
   "cell_type": "code",
   "execution_count": 2,
   "id": "9d619f91-1eb4-4315-ba73-64321e3cddc0",
   "metadata": {},
   "outputs": [],
   "source": [
    "df = pd.read_csv('../../data/output/cleaner_train.csv')"
   ]
  },
  {
   "cell_type": "code",
   "execution_count": 3,
   "id": "cf8817c2-105d-4d77-a61f-8627328bc2e6",
   "metadata": {},
   "outputs": [
    {
     "name": "stdout",
     "output_type": "stream",
     "text": [
      "<class 'pandas.core.frame.DataFrame'>\n",
      "RangeIndex: 149772 entries, 0 to 149771\n",
      "Data columns (total 45 columns):\n",
      " #   Column                     Non-Null Count   Dtype  \n",
      "---  ------                     --------------   -----  \n",
      " 0   flat_type                  149772 non-null  object \n",
      " 1   street_name                149772 non-null  object \n",
      " 2   floor_area_sqm             149772 non-null  float64\n",
      " 3   flat_model                 149772 non-null  object \n",
      " 4   lease_commence_date        149772 non-null  int64  \n",
      " 5   resale_price               149772 non-null  float64\n",
      " 6   Tranc_Year                 149772 non-null  int64  \n",
      " 7   Tranc_Month                149772 non-null  int64  \n",
      " 8   mid                        149772 non-null  int64  \n",
      " 9   max_floor_lvl              149772 non-null  int64  \n",
      " 10  commercial                 149772 non-null  int64  \n",
      " 11  market_hawker              149772 non-null  int64  \n",
      " 12  multistorey_carpark        149772 non-null  int64  \n",
      " 13  precinct_pavilion          149772 non-null  int64  \n",
      " 14  total_dwelling_units       149772 non-null  int64  \n",
      " 15  1room_sold                 149772 non-null  int64  \n",
      " 16  2room_sold                 149772 non-null  int64  \n",
      " 17  3room_sold                 149772 non-null  int64  \n",
      " 18  4room_sold                 149772 non-null  int64  \n",
      " 19  5room_sold                 149772 non-null  int64  \n",
      " 20  exec_sold                  149772 non-null  int64  \n",
      " 21  multigen_sold              149772 non-null  int64  \n",
      " 22  studio_apartment_sold      149772 non-null  int64  \n",
      " 23  1room_rental               149772 non-null  int64  \n",
      " 24  2room_rental               149772 non-null  int64  \n",
      " 25  3room_rental               149772 non-null  int64  \n",
      " 26  other_room_rental          149772 non-null  int64  \n",
      " 27  planning_area              149772 non-null  object \n",
      " 28  Mall_Nearest_Distance      149772 non-null  float64\n",
      " 29  Mall_Within_500m           149772 non-null  float64\n",
      " 30  Mall_Within_1km            149772 non-null  float64\n",
      " 31  Mall_Within_2km            149772 non-null  float64\n",
      " 32  Hawker_Nearest_Distance    149772 non-null  float64\n",
      " 33  Hawker_Within_500m         149772 non-null  float64\n",
      " 34  Hawker_Within_1km          149772 non-null  float64\n",
      " 35  Hawker_Within_2km          149772 non-null  float64\n",
      " 36  mrt_nearest_distance       149772 non-null  float64\n",
      " 37  bus_interchange            149772 non-null  int64  \n",
      " 38  mrt_interchange            149772 non-null  int64  \n",
      " 39  bus_stop_nearest_distance  149772 non-null  float64\n",
      " 40  pri_sch_nearest_distance   149772 non-null  float64\n",
      " 41  pri_sch_name               149772 non-null  object \n",
      " 42  pri_sch_affiliation        149772 non-null  int64  \n",
      " 43  sec_sch_name               149772 non-null  object \n",
      " 44  cutoff_point               149772 non-null  int64  \n",
      "dtypes: float64(13), int64(26), object(6)\n",
      "memory usage: 51.4+ MB\n"
     ]
    }
   ],
   "source": [
    "df.info()"
   ]
  },
  {
   "cell_type": "markdown",
   "id": "daef33c7-9f02-4eed-a89c-b4293f68fc80",
   "metadata": {},
   "source": [
    "## Preprocessing\n",
    "As mentioned in Part1 (EDA), some features would have to engineered, e.g. remaining lease at point of sale, storey level and the max floor level could be combined to hopefully increase the fit of the feature"
   ]
  },
  {
   "cell_type": "markdown",
   "id": "e5766865-b4e8-4928-80be-579a81bd19f9",
   "metadata": {},
   "source": [
    "### Initial Feature engineering"
   ]
  },
  {
   "cell_type": "markdown",
   "id": "f69d5884-d11a-45d3-8f40-2ab0392f3bb8",
   "metadata": {},
   "source": [
    "With the baseline in v1 done, it is possible to test if some features would help."
   ]
  },
  {
   "cell_type": "code",
   "execution_count": 4,
   "id": "134be0fb-fe0f-4216-800a-dc4d5e70e92f",
   "metadata": {},
   "outputs": [],
   "source": [
    "df['transaction_age'] = df['Tranc_Year'] - df['lease_commence_date']\n",
    "df.drop(columns = ['lease_commence_date'], inplace = True)"
   ]
  },
  {
   "cell_type": "code",
   "execution_count": 5,
   "id": "f7a6a548-5d6d-4d69-8002-ca1fd2761b6f",
   "metadata": {},
   "outputs": [
    {
     "name": "stdout",
     "output_type": "stream",
     "text": [
      "<class 'pandas.core.frame.DataFrame'>\n",
      "RangeIndex: 149772 entries, 0 to 149771\n",
      "Data columns (total 45 columns):\n",
      " #   Column                     Non-Null Count   Dtype  \n",
      "---  ------                     --------------   -----  \n",
      " 0   flat_type                  149772 non-null  object \n",
      " 1   street_name                149772 non-null  object \n",
      " 2   floor_area_sqm             149772 non-null  float64\n",
      " 3   flat_model                 149772 non-null  object \n",
      " 4   resale_price               149772 non-null  float64\n",
      " 5   Tranc_Year                 149772 non-null  int64  \n",
      " 6   Tranc_Month                149772 non-null  int64  \n",
      " 7   mid                        149772 non-null  int64  \n",
      " 8   max_floor_lvl              149772 non-null  int64  \n",
      " 9   commercial                 149772 non-null  int64  \n",
      " 10  market_hawker              149772 non-null  int64  \n",
      " 11  multistorey_carpark        149772 non-null  int64  \n",
      " 12  precinct_pavilion          149772 non-null  int64  \n",
      " 13  total_dwelling_units       149772 non-null  int64  \n",
      " 14  1room_sold                 149772 non-null  int64  \n",
      " 15  2room_sold                 149772 non-null  int64  \n",
      " 16  3room_sold                 149772 non-null  int64  \n",
      " 17  4room_sold                 149772 non-null  int64  \n",
      " 18  5room_sold                 149772 non-null  int64  \n",
      " 19  exec_sold                  149772 non-null  int64  \n",
      " 20  multigen_sold              149772 non-null  int64  \n",
      " 21  studio_apartment_sold      149772 non-null  int64  \n",
      " 22  1room_rental               149772 non-null  int64  \n",
      " 23  2room_rental               149772 non-null  int64  \n",
      " 24  3room_rental               149772 non-null  int64  \n",
      " 25  other_room_rental          149772 non-null  int64  \n",
      " 26  planning_area              149772 non-null  object \n",
      " 27  Mall_Nearest_Distance      149772 non-null  float64\n",
      " 28  Mall_Within_500m           149772 non-null  float64\n",
      " 29  Mall_Within_1km            149772 non-null  float64\n",
      " 30  Mall_Within_2km            149772 non-null  float64\n",
      " 31  Hawker_Nearest_Distance    149772 non-null  float64\n",
      " 32  Hawker_Within_500m         149772 non-null  float64\n",
      " 33  Hawker_Within_1km          149772 non-null  float64\n",
      " 34  Hawker_Within_2km          149772 non-null  float64\n",
      " 35  mrt_nearest_distance       149772 non-null  float64\n",
      " 36  bus_interchange            149772 non-null  int64  \n",
      " 37  mrt_interchange            149772 non-null  int64  \n",
      " 38  bus_stop_nearest_distance  149772 non-null  float64\n",
      " 39  pri_sch_nearest_distance   149772 non-null  float64\n",
      " 40  pri_sch_name               149772 non-null  object \n",
      " 41  pri_sch_affiliation        149772 non-null  int64  \n",
      " 42  sec_sch_name               149772 non-null  object \n",
      " 43  cutoff_point               149772 non-null  int64  \n",
      " 44  transaction_age            149772 non-null  int64  \n",
      "dtypes: float64(13), int64(26), object(6)\n",
      "memory usage: 51.4+ MB\n"
     ]
    }
   ],
   "source": [
    "df.info()"
   ]
  },
  {
   "cell_type": "markdown",
   "id": "8d778ef5-cf0f-4ed7-8647-b69c9d4a06c7",
   "metadata": {},
   "source": [
    "### Data Dictionary"
   ]
  },
  {
   "cell_type": "markdown",
   "id": "7d542658-f27d-4d66-acdf-7fec5c2a1ad1",
   "metadata": {},
   "source": [
    "|        Feature Name       |                        Feature Description per data source                        |\n",
    "|:-------------------------:|:---------------------------------------------------------------------------------:|\n",
    "| resale_price              | the property's sale price in Singapore dollars. This is the target variable.      |\n",
    "| flat_type                 |  type of the resale flat unit, e.g.   3 ROOM                                      |\n",
    "| street_name               |  street name where the resale flat   resides, e.g. TAMPINES ST 42                 |\n",
    "| floor_area_sqm            |  floor area of the resale flat unit   in square metres                            |\n",
    "| flat_model                |  HDB model of the resale flat, e.g.   Multi Generation                            |\n",
    "| lease_commence_date       |  commencement year of the flat   unit's 99-year lease                             |\n",
    "| Tranc_Year                |  year of resale transaction                                                       |\n",
    "| Tranc_Month               |  month of resale transaction                                                      |\n",
    "| mid                       |  middle value of storey_range                                                     |\n",
    "| max_floor_lvl             |  highest floor of the resale flat                                                 |\n",
    "| commercial                |  boolean value if resale flat has   commercial units in the same block            |\n",
    "| market_hawker             |  boolean value if resale flat has a   market or hawker centre in the same block   |\n",
    "| multistorey_carpark       |  boolean value if resale flat has a   multistorey carpark in the same block       |\n",
    "| precinct_pavilion         |  boolean value if resale flat has a   pavilion in the same block                  |\n",
    "| total_dwelling_units      |  total number of residential   dwelling units in the resale flat                  |\n",
    "| 1room_sold                |  number of 1-room residential units   in the resale flat                          |\n",
    "| 2room_sold                |  number of 2-room residential units   in the resale flat                          |\n",
    "| 3room_sold                |  number of 3-room residential units   in the resale flat                          |\n",
    "| 4room_sold                |  number of 4-room residential units   in the resale flat                          |\n",
    "| 5room_sold                |  number of 5-room residential units   in the resale flat                          |\n",
    "| exec_sold                 |  number of executive type   residential units in the resale flat block            |\n",
    "| multigen_sold             |  number of multi-generational type   residential units in the resale flat block   |\n",
    "| studio_apartment_sold     |  number of studio apartment type   residential units in the resale flat block     |\n",
    "| 1room_rental              |  number of 1-room rental   residential units in the resale flat block             |\n",
    "| 2room_rental              |  number of 2-room rental   residential units in the resale flat block             |\n",
    "| 3room_rental              |  number of 3-room rental   residential units in the resale flat block             |\n",
    "| other_room_rental         |  number of \"other\" type   rental residential units in the resale flat block       |\n",
    "| planning_area             |  Government planning area that the   flat is located                              |\n",
    "| Mall_Nearest_Distance     |  distance (in metres) to the   nearest mall                                       |\n",
    "| Mall_Within_500m          |  number of malls within 500 metres                                                |\n",
    "| Mall_Within_1km           |  number of malls within 1 kilometre                                               |\n",
    "| Mall_Within_2km           |  number of malls within 2   kilometres                                            |\n",
    "| Hawker_Nearest_Distance   |  distance (in metres) to the   nearest hawker centre                              |\n",
    "| Hawker_Within_500m        |  number of hawker centres within   500 metres                                     |\n",
    "| Hawker_Within_1km         |  number of hawker centres within 1   kilometre                                    |\n",
    "| Hawker_Within_2km         |  number of hawker centres within 2   kilometres                                   |\n",
    "| mrt_nearest_distance      |  distance (in metres) to the   nearest MRT station                                |\n",
    "| bus_interchange           |  boolean value if the nearest MRT   station is also a bus interchange             |\n",
    "| mrt_interchange           |  boolean value if the nearest MRT   station is a train interchange station        |\n",
    "| bus_stop_nearest_distance |  distance (in metres) to the   nearest bus stop                                   |\n",
    "| pri_sch_nearest_distance  |  distance (in metres) to the   nearest primary school                             |\n",
    "| pri_sch_name              |  name of the nearest primary school                                               |\n",
    "| pri_sch_affiliation       |  boolean value if the nearest   primary school has a secondary school affiliation |\n",
    "| sec_sch_name              |  name of the nearest secondary   school                                           |\n",
    "| cutoff_point              |  PSLE cutoff point of the nearest   secondary school                              |\n",
    "| transaction_age           |  'Tranc_Year' - 'lease_commence_date'                                             |"
   ]
  },
  {
   "cell_type": "markdown",
   "id": "02d87454-69b0-434b-85a7-291e17bc594a",
   "metadata": {},
   "source": [
    "### Train-Test Split\n",
    "The dataframe is split into a train set and a hold out 'test' set. <br>\n",
    "As was done in the EDA, the features are split into numerical and caategorical for processing before combining back later on."
   ]
  },
  {
   "cell_type": "code",
   "execution_count": 6,
   "id": "1c33270a-7f75-4c07-a8ca-8567be3d0279",
   "metadata": {},
   "outputs": [],
   "source": [
    "features = df.columns.to_list()\n",
    "features.remove('resale_price')"
   ]
  },
  {
   "cell_type": "code",
   "execution_count": 7,
   "id": "623988fc-d7da-4140-9d36-4c640273cf82",
   "metadata": {},
   "outputs": [],
   "source": [
    "#Create features matrix (X) and target vector (y)\n",
    "y = df['resale_price']\n",
    "X = df[features]"
   ]
  },
  {
   "cell_type": "code",
   "execution_count": 8,
   "id": "f801a2c5-c8ed-4723-8d2d-14498fddcae5",
   "metadata": {},
   "outputs": [],
   "source": [
    "#train-test split\n",
    "X_train, X_test, y_train, y_test = train_test_split(X, y, random_state=123)"
   ]
  },
  {
   "cell_type": "code",
   "execution_count": 9,
   "id": "81576fe1-bce7-40be-b66d-2a0c858c2087",
   "metadata": {},
   "outputs": [],
   "source": [
    "cat_feat = ['flat_type', 'street_name', 'flat_model', 'commercial', 'market_hawker',   \n",
    "            'multistorey_carpark', 'precinct_pavilion', 'planning_area', 'bus_interchange', \n",
    "            'mrt_interchange', 'pri_sch_name', 'pri_sch_affiliation', 'sec_sch_name'\n",
    "           ]\n",
    "num_feat = list(set(features) - set(cat_feat))"
   ]
  },
  {
   "cell_type": "markdown",
   "id": "61f18665-30ae-405f-8ec9-90235c52511b",
   "metadata": {},
   "source": [
    "### Numerical features\n",
    "Standard scalar will be applied scale the individual features for modelling since there is a wide range of values within."
   ]
  },
  {
   "cell_type": "code",
   "execution_count": 10,
   "id": "c6591ff3-133a-49ab-a868-137a5efcb62a",
   "metadata": {},
   "outputs": [],
   "source": [
    "# use sklearn StandardScaler for train set\n",
    "ss = StandardScaler()\n",
    "X_train_num_scaled = pd.DataFrame(ss.fit_transform(X_train[num_feat]))\n",
    "X_test_num_scaled = pd.DataFrame(ss.transform(X_test[num_feat]))\n",
    "X_train_num_scaled.columns = X_train[num_feat].columns\n",
    "X_test_num_scaled.columns = X_test[num_feat].columns"
   ]
  },
  {
   "cell_type": "code",
   "execution_count": 11,
   "id": "d11ce23d-2863-4abd-b5dd-ba0bc1dbeafe",
   "metadata": {},
   "outputs": [
    {
     "data": {
      "text/html": [
       "<div>\n",
       "<style scoped>\n",
       "    .dataframe tbody tr th:only-of-type {\n",
       "        vertical-align: middle;\n",
       "    }\n",
       "\n",
       "    .dataframe tbody tr th {\n",
       "        vertical-align: top;\n",
       "    }\n",
       "\n",
       "    .dataframe thead th {\n",
       "        text-align: right;\n",
       "    }\n",
       "</style>\n",
       "<table border=\"1\" class=\"dataframe\">\n",
       "  <thead>\n",
       "    <tr style=\"text-align: right;\">\n",
       "      <th></th>\n",
       "      <th>Mall_Within_2km</th>\n",
       "      <th>cutoff_point</th>\n",
       "      <th>2room_rental</th>\n",
       "      <th>mid</th>\n",
       "      <th>1room_sold</th>\n",
       "      <th>2room_sold</th>\n",
       "      <th>Mall_Within_500m</th>\n",
       "      <th>3room_sold</th>\n",
       "      <th>4room_sold</th>\n",
       "      <th>exec_sold</th>\n",
       "      <th>...</th>\n",
       "      <th>Hawker_Within_500m</th>\n",
       "      <th>Hawker_Within_2km</th>\n",
       "      <th>transaction_age</th>\n",
       "      <th>other_room_rental</th>\n",
       "      <th>Tranc_Month</th>\n",
       "      <th>studio_apartment_sold</th>\n",
       "      <th>mrt_nearest_distance</th>\n",
       "      <th>Mall_Within_1km</th>\n",
       "      <th>pri_sch_nearest_distance</th>\n",
       "      <th>5room_sold</th>\n",
       "    </tr>\n",
       "  </thead>\n",
       "  <tbody>\n",
       "    <tr>\n",
       "      <th>0</th>\n",
       "      <td>-0.056933</td>\n",
       "      <td>-1.107259</td>\n",
       "      <td>-0.056527</td>\n",
       "      <td>-0.048992</td>\n",
       "      <td>-0.024062</td>\n",
       "      <td>-0.151432</td>\n",
       "      <td>-0.671314</td>\n",
       "      <td>-0.572480</td>\n",
       "      <td>-0.483135</td>\n",
       "      <td>-0.310921</td>\n",
       "      <td>...</td>\n",
       "      <td>-0.639332</td>\n",
       "      <td>-0.451629</td>\n",
       "      <td>-0.436830</td>\n",
       "      <td>-0.013751</td>\n",
       "      <td>-0.172644</td>\n",
       "      <td>-0.082435</td>\n",
       "      <td>1.217885</td>\n",
       "      <td>0.142231</td>\n",
       "      <td>-0.982031</td>\n",
       "      <td>0.889710</td>\n",
       "    </tr>\n",
       "    <tr>\n",
       "      <th>1</th>\n",
       "      <td>1.097444</td>\n",
       "      <td>-1.107259</td>\n",
       "      <td>-0.056527</td>\n",
       "      <td>1.045130</td>\n",
       "      <td>-0.024062</td>\n",
       "      <td>-0.151432</td>\n",
       "      <td>3.424053</td>\n",
       "      <td>-0.572480</td>\n",
       "      <td>-0.040249</td>\n",
       "      <td>-0.310921</td>\n",
       "      <td>...</td>\n",
       "      <td>-0.639332</td>\n",
       "      <td>-0.700918</td>\n",
       "      <td>-0.352343</td>\n",
       "      <td>-0.013751</td>\n",
       "      <td>-1.071769</td>\n",
       "      <td>-0.082435</td>\n",
       "      <td>-1.182624</td>\n",
       "      <td>1.548442</td>\n",
       "      <td>-0.438532</td>\n",
       "      <td>2.682960</td>\n",
       "    </tr>\n",
       "    <tr>\n",
       "      <th>2</th>\n",
       "      <td>0.231661</td>\n",
       "      <td>-1.057314</td>\n",
       "      <td>-0.056527</td>\n",
       "      <td>-0.048992</td>\n",
       "      <td>-0.024062</td>\n",
       "      <td>-0.151432</td>\n",
       "      <td>0.693809</td>\n",
       "      <td>-0.572480</td>\n",
       "      <td>-1.103175</td>\n",
       "      <td>2.824966</td>\n",
       "      <td>...</td>\n",
       "      <td>-0.639332</td>\n",
       "      <td>-0.700918</td>\n",
       "      <td>0.577014</td>\n",
       "      <td>-0.013751</td>\n",
       "      <td>0.127064</td>\n",
       "      <td>-0.082435</td>\n",
       "      <td>-1.174373</td>\n",
       "      <td>-0.560874</td>\n",
       "      <td>0.641285</td>\n",
       "      <td>-0.783989</td>\n",
       "    </tr>\n",
       "    <tr>\n",
       "      <th>3</th>\n",
       "      <td>-0.634122</td>\n",
       "      <td>-1.107259</td>\n",
       "      <td>-0.056527</td>\n",
       "      <td>-0.048992</td>\n",
       "      <td>-0.024062</td>\n",
       "      <td>-0.151432</td>\n",
       "      <td>0.693809</td>\n",
       "      <td>1.020995</td>\n",
       "      <td>-0.616000</td>\n",
       "      <td>-0.310921</td>\n",
       "      <td>...</td>\n",
       "      <td>1.958586</td>\n",
       "      <td>0.046949</td>\n",
       "      <td>0.577014</td>\n",
       "      <td>-0.013751</td>\n",
       "      <td>1.325897</td>\n",
       "      <td>-0.082435</td>\n",
       "      <td>-0.293837</td>\n",
       "      <td>-0.560874</td>\n",
       "      <td>-0.394824</td>\n",
       "      <td>-0.783989</td>\n",
       "    </tr>\n",
       "    <tr>\n",
       "      <th>4</th>\n",
       "      <td>-0.634122</td>\n",
       "      <td>1.240134</td>\n",
       "      <td>-0.056527</td>\n",
       "      <td>-1.143114</td>\n",
       "      <td>-0.024062</td>\n",
       "      <td>-0.151432</td>\n",
       "      <td>-0.671314</td>\n",
       "      <td>0.716786</td>\n",
       "      <td>0.004040</td>\n",
       "      <td>-0.310921</td>\n",
       "      <td>...</td>\n",
       "      <td>0.659627</td>\n",
       "      <td>1.791971</td>\n",
       "      <td>0.745988</td>\n",
       "      <td>-0.013751</td>\n",
       "      <td>-1.371477</td>\n",
       "      <td>-0.082435</td>\n",
       "      <td>0.022902</td>\n",
       "      <td>-0.560874</td>\n",
       "      <td>0.121074</td>\n",
       "      <td>-0.783989</td>\n",
       "    </tr>\n",
       "    <tr>\n",
       "      <th>...</th>\n",
       "      <td>...</td>\n",
       "      <td>...</td>\n",
       "      <td>...</td>\n",
       "      <td>...</td>\n",
       "      <td>...</td>\n",
       "      <td>...</td>\n",
       "      <td>...</td>\n",
       "      <td>...</td>\n",
       "      <td>...</td>\n",
       "      <td>...</td>\n",
       "      <td>...</td>\n",
       "      <td>...</td>\n",
       "      <td>...</td>\n",
       "      <td>...</td>\n",
       "      <td>...</td>\n",
       "      <td>...</td>\n",
       "      <td>...</td>\n",
       "      <td>...</td>\n",
       "      <td>...</td>\n",
       "      <td>...</td>\n",
       "      <td>...</td>\n",
       "    </tr>\n",
       "    <tr>\n",
       "      <th>112324</th>\n",
       "      <td>0.520256</td>\n",
       "      <td>0.690745</td>\n",
       "      <td>-0.056527</td>\n",
       "      <td>1.592191</td>\n",
       "      <td>-0.024062</td>\n",
       "      <td>-0.151432</td>\n",
       "      <td>-0.671314</td>\n",
       "      <td>-0.572480</td>\n",
       "      <td>1.022677</td>\n",
       "      <td>-0.310921</td>\n",
       "      <td>...</td>\n",
       "      <td>0.659627</td>\n",
       "      <td>2.290548</td>\n",
       "      <td>-1.281700</td>\n",
       "      <td>-0.013751</td>\n",
       "      <td>-1.071769</td>\n",
       "      <td>-0.082435</td>\n",
       "      <td>-1.011052</td>\n",
       "      <td>-1.263980</td>\n",
       "      <td>3.172083</td>\n",
       "      <td>0.590835</td>\n",
       "    </tr>\n",
       "    <tr>\n",
       "      <th>112325</th>\n",
       "      <td>-0.634122</td>\n",
       "      <td>-1.107259</td>\n",
       "      <td>-0.056527</td>\n",
       "      <td>-0.048992</td>\n",
       "      <td>-0.024062</td>\n",
       "      <td>-0.151432</td>\n",
       "      <td>-0.671314</td>\n",
       "      <td>2.411663</td>\n",
       "      <td>-1.103175</td>\n",
       "      <td>-0.310921</td>\n",
       "      <td>...</td>\n",
       "      <td>0.659627</td>\n",
       "      <td>-0.451629</td>\n",
       "      <td>1.590857</td>\n",
       "      <td>-0.013751</td>\n",
       "      <td>-0.772061</td>\n",
       "      <td>-0.082435</td>\n",
       "      <td>0.711000</td>\n",
       "      <td>-1.263980</td>\n",
       "      <td>2.155829</td>\n",
       "      <td>-0.754102</td>\n",
       "    </tr>\n",
       "    <tr>\n",
       "      <th>112326</th>\n",
       "      <td>-0.056933</td>\n",
       "      <td>1.939358</td>\n",
       "      <td>-0.056527</td>\n",
       "      <td>-0.048992</td>\n",
       "      <td>-0.024062</td>\n",
       "      <td>-0.151432</td>\n",
       "      <td>-0.671314</td>\n",
       "      <td>-0.572480</td>\n",
       "      <td>3.547125</td>\n",
       "      <td>-0.310921</td>\n",
       "      <td>...</td>\n",
       "      <td>1.958586</td>\n",
       "      <td>1.293393</td>\n",
       "      <td>1.590857</td>\n",
       "      <td>-0.013751</td>\n",
       "      <td>1.026189</td>\n",
       "      <td>-0.082435</td>\n",
       "      <td>0.514377</td>\n",
       "      <td>-0.560874</td>\n",
       "      <td>-0.720921</td>\n",
       "      <td>-0.783989</td>\n",
       "    </tr>\n",
       "    <tr>\n",
       "      <th>112327</th>\n",
       "      <td>0.231661</td>\n",
       "      <td>-1.057314</td>\n",
       "      <td>-0.056527</td>\n",
       "      <td>-0.596053</td>\n",
       "      <td>-0.024062</td>\n",
       "      <td>-0.151432</td>\n",
       "      <td>-0.671314</td>\n",
       "      <td>1.281745</td>\n",
       "      <td>-0.616000</td>\n",
       "      <td>-0.258656</td>\n",
       "      <td>...</td>\n",
       "      <td>1.958586</td>\n",
       "      <td>1.791971</td>\n",
       "      <td>1.590857</td>\n",
       "      <td>-0.013751</td>\n",
       "      <td>0.426773</td>\n",
       "      <td>-0.082435</td>\n",
       "      <td>-0.683963</td>\n",
       "      <td>-1.263980</td>\n",
       "      <td>-0.431725</td>\n",
       "      <td>-0.754102</td>\n",
       "    </tr>\n",
       "    <tr>\n",
       "      <th>112328</th>\n",
       "      <td>0.808850</td>\n",
       "      <td>1.639691</td>\n",
       "      <td>-0.056527</td>\n",
       "      <td>-0.596053</td>\n",
       "      <td>-0.024062</td>\n",
       "      <td>-0.151432</td>\n",
       "      <td>-0.671314</td>\n",
       "      <td>-0.572480</td>\n",
       "      <td>-0.748866</td>\n",
       "      <td>-0.310921</td>\n",
       "      <td>...</td>\n",
       "      <td>-0.639332</td>\n",
       "      <td>-0.700918</td>\n",
       "      <td>-0.605804</td>\n",
       "      <td>-0.013751</td>\n",
       "      <td>0.127064</td>\n",
       "      <td>-0.082435</td>\n",
       "      <td>0.428496</td>\n",
       "      <td>0.142231</td>\n",
       "      <td>-0.909208</td>\n",
       "      <td>1.935773</td>\n",
       "    </tr>\n",
       "  </tbody>\n",
       "</table>\n",
       "<p>112329 rows × 31 columns</p>\n",
       "</div>"
      ],
      "text/plain": [
       "        Mall_Within_2km  cutoff_point  2room_rental       mid  1room_sold  \\\n",
       "0             -0.056933     -1.107259     -0.056527 -0.048992   -0.024062   \n",
       "1              1.097444     -1.107259     -0.056527  1.045130   -0.024062   \n",
       "2              0.231661     -1.057314     -0.056527 -0.048992   -0.024062   \n",
       "3             -0.634122     -1.107259     -0.056527 -0.048992   -0.024062   \n",
       "4             -0.634122      1.240134     -0.056527 -1.143114   -0.024062   \n",
       "...                 ...           ...           ...       ...         ...   \n",
       "112324         0.520256      0.690745     -0.056527  1.592191   -0.024062   \n",
       "112325        -0.634122     -1.107259     -0.056527 -0.048992   -0.024062   \n",
       "112326        -0.056933      1.939358     -0.056527 -0.048992   -0.024062   \n",
       "112327         0.231661     -1.057314     -0.056527 -0.596053   -0.024062   \n",
       "112328         0.808850      1.639691     -0.056527 -0.596053   -0.024062   \n",
       "\n",
       "        2room_sold  Mall_Within_500m  3room_sold  4room_sold  exec_sold  ...  \\\n",
       "0        -0.151432         -0.671314   -0.572480   -0.483135  -0.310921  ...   \n",
       "1        -0.151432          3.424053   -0.572480   -0.040249  -0.310921  ...   \n",
       "2        -0.151432          0.693809   -0.572480   -1.103175   2.824966  ...   \n",
       "3        -0.151432          0.693809    1.020995   -0.616000  -0.310921  ...   \n",
       "4        -0.151432         -0.671314    0.716786    0.004040  -0.310921  ...   \n",
       "...            ...               ...         ...         ...        ...  ...   \n",
       "112324   -0.151432         -0.671314   -0.572480    1.022677  -0.310921  ...   \n",
       "112325   -0.151432         -0.671314    2.411663   -1.103175  -0.310921  ...   \n",
       "112326   -0.151432         -0.671314   -0.572480    3.547125  -0.310921  ...   \n",
       "112327   -0.151432         -0.671314    1.281745   -0.616000  -0.258656  ...   \n",
       "112328   -0.151432         -0.671314   -0.572480   -0.748866  -0.310921  ...   \n",
       "\n",
       "        Hawker_Within_500m  Hawker_Within_2km  transaction_age  \\\n",
       "0                -0.639332          -0.451629        -0.436830   \n",
       "1                -0.639332          -0.700918        -0.352343   \n",
       "2                -0.639332          -0.700918         0.577014   \n",
       "3                 1.958586           0.046949         0.577014   \n",
       "4                 0.659627           1.791971         0.745988   \n",
       "...                    ...                ...              ...   \n",
       "112324            0.659627           2.290548        -1.281700   \n",
       "112325            0.659627          -0.451629         1.590857   \n",
       "112326            1.958586           1.293393         1.590857   \n",
       "112327            1.958586           1.791971         1.590857   \n",
       "112328           -0.639332          -0.700918        -0.605804   \n",
       "\n",
       "        other_room_rental  Tranc_Month  studio_apartment_sold  \\\n",
       "0               -0.013751    -0.172644              -0.082435   \n",
       "1               -0.013751    -1.071769              -0.082435   \n",
       "2               -0.013751     0.127064              -0.082435   \n",
       "3               -0.013751     1.325897              -0.082435   \n",
       "4               -0.013751    -1.371477              -0.082435   \n",
       "...                   ...          ...                    ...   \n",
       "112324          -0.013751    -1.071769              -0.082435   \n",
       "112325          -0.013751    -0.772061              -0.082435   \n",
       "112326          -0.013751     1.026189              -0.082435   \n",
       "112327          -0.013751     0.426773              -0.082435   \n",
       "112328          -0.013751     0.127064              -0.082435   \n",
       "\n",
       "        mrt_nearest_distance  Mall_Within_1km  pri_sch_nearest_distance  \\\n",
       "0                   1.217885         0.142231                 -0.982031   \n",
       "1                  -1.182624         1.548442                 -0.438532   \n",
       "2                  -1.174373        -0.560874                  0.641285   \n",
       "3                  -0.293837        -0.560874                 -0.394824   \n",
       "4                   0.022902        -0.560874                  0.121074   \n",
       "...                      ...              ...                       ...   \n",
       "112324             -1.011052        -1.263980                  3.172083   \n",
       "112325              0.711000        -1.263980                  2.155829   \n",
       "112326              0.514377        -0.560874                 -0.720921   \n",
       "112327             -0.683963        -1.263980                 -0.431725   \n",
       "112328              0.428496         0.142231                 -0.909208   \n",
       "\n",
       "        5room_sold  \n",
       "0         0.889710  \n",
       "1         2.682960  \n",
       "2        -0.783989  \n",
       "3        -0.783989  \n",
       "4        -0.783989  \n",
       "...            ...  \n",
       "112324    0.590835  \n",
       "112325   -0.754102  \n",
       "112326   -0.783989  \n",
       "112327   -0.754102  \n",
       "112328    1.935773  \n",
       "\n",
       "[112329 rows x 31 columns]"
      ]
     },
     "execution_count": 11,
     "metadata": {},
     "output_type": "execute_result"
    }
   ],
   "source": [
    "X_train_num_scaled"
   ]
  },
  {
   "cell_type": "markdown",
   "id": "0df98585-effb-4834-b355-67669e4cf3e4",
   "metadata": {},
   "source": [
    "### Categorical features\n",
    "One Hot encoding will be used to dummify the categorical columns into a matrix."
   ]
  },
  {
   "cell_type": "code",
   "execution_count": 12,
   "id": "c62dc858-96e1-46d5-be02-9c65be8d3063",
   "metadata": {},
   "outputs": [
    {
     "name": "stdout",
     "output_type": "stream",
     "text": [
      "<class 'pandas.core.frame.DataFrame'>\n",
      "RangeIndex: 112329 entries, 0 to 112328\n",
      "Data columns (total 14 columns):\n",
      " #   Column               Non-Null Count   Dtype \n",
      "---  ------               --------------   ----- \n",
      " 0   index                112329 non-null  int64 \n",
      " 1   flat_type            112329 non-null  object\n",
      " 2   street_name          112329 non-null  object\n",
      " 3   flat_model           112329 non-null  object\n",
      " 4   commercial           112329 non-null  int64 \n",
      " 5   market_hawker        112329 non-null  int64 \n",
      " 6   multistorey_carpark  112329 non-null  int64 \n",
      " 7   precinct_pavilion    112329 non-null  int64 \n",
      " 8   planning_area        112329 non-null  object\n",
      " 9   bus_interchange      112329 non-null  int64 \n",
      " 10  mrt_interchange      112329 non-null  int64 \n",
      " 11  pri_sch_name         112329 non-null  object\n",
      " 12  pri_sch_affiliation  112329 non-null  int64 \n",
      " 13  sec_sch_name         112329 non-null  object\n",
      "dtypes: int64(8), object(6)\n",
      "memory usage: 12.0+ MB\n"
     ]
    }
   ],
   "source": [
    "#calling out categories to look for non binary cat.\n",
    "train_cat_df = X_train[cat_feat].reset_index()\n",
    "test_cat_df = X_test[cat_feat].reset_index()\n",
    "train_cat_df.info()"
   ]
  },
  {
   "cell_type": "markdown",
   "id": "ccb922d0-5058-4ffe-a02c-551e6e5aa3fa",
   "metadata": {},
   "source": [
    "For those with object type, it is likely string values hence it will be one hot encoded. However, the list will be refined so that categories with less datapoints can be combined to have data points as a group for modelling."
   ]
  },
  {
   "cell_type": "code",
   "execution_count": 13,
   "id": "042e734a-5167-4163-aa65-bf3b28b6b572",
   "metadata": {},
   "outputs": [
    {
     "data": {
      "text/plain": [
       "['flat_type',\n",
       " 'street_name',\n",
       " 'flat_model',\n",
       " 'planning_area',\n",
       " 'pri_sch_name',\n",
       " 'sec_sch_name']"
      ]
     },
     "execution_count": 13,
     "metadata": {},
     "output_type": "execute_result"
    }
   ],
   "source": [
    "#set list with object dtype to OHE\n",
    "cat_list = list(train_cat_df.dtypes[train_cat_df.dtypes == object].index)\n",
    "cat_list"
   ]
  },
  {
   "cell_type": "code",
   "execution_count": 14,
   "id": "c8734634-266b-456e-97ec-254b8f18a60a",
   "metadata": {},
   "outputs": [
    {
     "data": {
      "text/plain": [
       "11"
      ]
     },
     "execution_count": 14,
     "metadata": {},
     "output_type": "execute_result"
    }
   ],
   "source": [
    "#set threshold\n",
    "round(train_cat_df.shape[0]*0.0001)"
   ]
  },
  {
   "cell_type": "code",
   "execution_count": 15,
   "id": "2a4167ab-6cfd-44f4-b19d-32480a033d1d",
   "metadata": {
    "scrolled": true
   },
   "outputs": [
    {
     "data": {
      "text/html": [
       "<div>\n",
       "<style scoped>\n",
       "    .dataframe tbody tr th:only-of-type {\n",
       "        vertical-align: middle;\n",
       "    }\n",
       "\n",
       "    .dataframe tbody tr th {\n",
       "        vertical-align: top;\n",
       "    }\n",
       "\n",
       "    .dataframe thead th {\n",
       "        text-align: right;\n",
       "    }\n",
       "</style>\n",
       "<table border=\"1\" class=\"dataframe\">\n",
       "  <thead>\n",
       "    <tr style=\"text-align: right;\">\n",
       "      <th></th>\n",
       "      <th>flat_type_1 ROOM</th>\n",
       "      <th>flat_type_2 ROOM</th>\n",
       "      <th>flat_type_3 ROOM</th>\n",
       "      <th>flat_type_4 ROOM</th>\n",
       "      <th>flat_type_5 ROOM</th>\n",
       "      <th>flat_type_EXECUTIVE</th>\n",
       "      <th>flat_type_MULTI-GENERATION</th>\n",
       "      <th>street_name_ADMIRALTY DR</th>\n",
       "      <th>street_name_ADMIRALTY LINK</th>\n",
       "      <th>street_name_AH HOOD RD</th>\n",
       "      <th>...</th>\n",
       "      <th>sec_sch_name_Yio Chu Kang Secondary School</th>\n",
       "      <th>sec_sch_name_Yishun Secondary School</th>\n",
       "      <th>sec_sch_name_Yishun Town Secondary School</th>\n",
       "      <th>sec_sch_name_Yuan Ching Secondary School</th>\n",
       "      <th>sec_sch_name_Yuhua Secondary School</th>\n",
       "      <th>sec_sch_name_Yusof Ishak Secondary School</th>\n",
       "      <th>sec_sch_name_Yuying Secondary School</th>\n",
       "      <th>sec_sch_name_Zhenghua Secondary School</th>\n",
       "      <th>sec_sch_name_Zhonghua Secondary School</th>\n",
       "      <th>sec_sch_name_infrequent_sklearn</th>\n",
       "    </tr>\n",
       "  </thead>\n",
       "  <tbody>\n",
       "    <tr>\n",
       "      <th>112324</th>\n",
       "      <td>0.0</td>\n",
       "      <td>0.0</td>\n",
       "      <td>0.0</td>\n",
       "      <td>1.0</td>\n",
       "      <td>0.0</td>\n",
       "      <td>0.0</td>\n",
       "      <td>0.0</td>\n",
       "      <td>0.0</td>\n",
       "      <td>0.0</td>\n",
       "      <td>0.0</td>\n",
       "      <td>...</td>\n",
       "      <td>0.0</td>\n",
       "      <td>0.0</td>\n",
       "      <td>0.0</td>\n",
       "      <td>0.0</td>\n",
       "      <td>0.0</td>\n",
       "      <td>0.0</td>\n",
       "      <td>0.0</td>\n",
       "      <td>0.0</td>\n",
       "      <td>0.0</td>\n",
       "      <td>0.0</td>\n",
       "    </tr>\n",
       "    <tr>\n",
       "      <th>112325</th>\n",
       "      <td>0.0</td>\n",
       "      <td>0.0</td>\n",
       "      <td>1.0</td>\n",
       "      <td>0.0</td>\n",
       "      <td>0.0</td>\n",
       "      <td>0.0</td>\n",
       "      <td>0.0</td>\n",
       "      <td>0.0</td>\n",
       "      <td>0.0</td>\n",
       "      <td>0.0</td>\n",
       "      <td>...</td>\n",
       "      <td>0.0</td>\n",
       "      <td>0.0</td>\n",
       "      <td>0.0</td>\n",
       "      <td>0.0</td>\n",
       "      <td>0.0</td>\n",
       "      <td>0.0</td>\n",
       "      <td>0.0</td>\n",
       "      <td>0.0</td>\n",
       "      <td>0.0</td>\n",
       "      <td>0.0</td>\n",
       "    </tr>\n",
       "    <tr>\n",
       "      <th>112326</th>\n",
       "      <td>0.0</td>\n",
       "      <td>0.0</td>\n",
       "      <td>0.0</td>\n",
       "      <td>1.0</td>\n",
       "      <td>0.0</td>\n",
       "      <td>0.0</td>\n",
       "      <td>0.0</td>\n",
       "      <td>0.0</td>\n",
       "      <td>0.0</td>\n",
       "      <td>0.0</td>\n",
       "      <td>...</td>\n",
       "      <td>0.0</td>\n",
       "      <td>0.0</td>\n",
       "      <td>0.0</td>\n",
       "      <td>0.0</td>\n",
       "      <td>0.0</td>\n",
       "      <td>0.0</td>\n",
       "      <td>0.0</td>\n",
       "      <td>0.0</td>\n",
       "      <td>0.0</td>\n",
       "      <td>0.0</td>\n",
       "    </tr>\n",
       "    <tr>\n",
       "      <th>112327</th>\n",
       "      <td>0.0</td>\n",
       "      <td>0.0</td>\n",
       "      <td>1.0</td>\n",
       "      <td>0.0</td>\n",
       "      <td>0.0</td>\n",
       "      <td>0.0</td>\n",
       "      <td>0.0</td>\n",
       "      <td>0.0</td>\n",
       "      <td>0.0</td>\n",
       "      <td>0.0</td>\n",
       "      <td>...</td>\n",
       "      <td>0.0</td>\n",
       "      <td>0.0</td>\n",
       "      <td>0.0</td>\n",
       "      <td>0.0</td>\n",
       "      <td>0.0</td>\n",
       "      <td>0.0</td>\n",
       "      <td>0.0</td>\n",
       "      <td>0.0</td>\n",
       "      <td>0.0</td>\n",
       "      <td>0.0</td>\n",
       "    </tr>\n",
       "    <tr>\n",
       "      <th>112328</th>\n",
       "      <td>0.0</td>\n",
       "      <td>0.0</td>\n",
       "      <td>0.0</td>\n",
       "      <td>1.0</td>\n",
       "      <td>0.0</td>\n",
       "      <td>0.0</td>\n",
       "      <td>0.0</td>\n",
       "      <td>0.0</td>\n",
       "      <td>0.0</td>\n",
       "      <td>0.0</td>\n",
       "      <td>...</td>\n",
       "      <td>0.0</td>\n",
       "      <td>0.0</td>\n",
       "      <td>0.0</td>\n",
       "      <td>0.0</td>\n",
       "      <td>0.0</td>\n",
       "      <td>0.0</td>\n",
       "      <td>0.0</td>\n",
       "      <td>0.0</td>\n",
       "      <td>0.0</td>\n",
       "      <td>0.0</td>\n",
       "    </tr>\n",
       "  </tbody>\n",
       "</table>\n",
       "<p>5 rows × 899 columns</p>\n",
       "</div>"
      ],
      "text/plain": [
       "        flat_type_1 ROOM  flat_type_2 ROOM  flat_type_3 ROOM  \\\n",
       "112324               0.0               0.0               0.0   \n",
       "112325               0.0               0.0               1.0   \n",
       "112326               0.0               0.0               0.0   \n",
       "112327               0.0               0.0               1.0   \n",
       "112328               0.0               0.0               0.0   \n",
       "\n",
       "        flat_type_4 ROOM  flat_type_5 ROOM  flat_type_EXECUTIVE  \\\n",
       "112324               1.0               0.0                  0.0   \n",
       "112325               0.0               0.0                  0.0   \n",
       "112326               1.0               0.0                  0.0   \n",
       "112327               0.0               0.0                  0.0   \n",
       "112328               1.0               0.0                  0.0   \n",
       "\n",
       "        flat_type_MULTI-GENERATION  street_name_ADMIRALTY DR  \\\n",
       "112324                         0.0                       0.0   \n",
       "112325                         0.0                       0.0   \n",
       "112326                         0.0                       0.0   \n",
       "112327                         0.0                       0.0   \n",
       "112328                         0.0                       0.0   \n",
       "\n",
       "        street_name_ADMIRALTY LINK  street_name_AH HOOD RD  ...  \\\n",
       "112324                         0.0                     0.0  ...   \n",
       "112325                         0.0                     0.0  ...   \n",
       "112326                         0.0                     0.0  ...   \n",
       "112327                         0.0                     0.0  ...   \n",
       "112328                         0.0                     0.0  ...   \n",
       "\n",
       "        sec_sch_name_Yio Chu Kang Secondary School  \\\n",
       "112324                                         0.0   \n",
       "112325                                         0.0   \n",
       "112326                                         0.0   \n",
       "112327                                         0.0   \n",
       "112328                                         0.0   \n",
       "\n",
       "        sec_sch_name_Yishun Secondary School  \\\n",
       "112324                                   0.0   \n",
       "112325                                   0.0   \n",
       "112326                                   0.0   \n",
       "112327                                   0.0   \n",
       "112328                                   0.0   \n",
       "\n",
       "        sec_sch_name_Yishun Town Secondary School  \\\n",
       "112324                                        0.0   \n",
       "112325                                        0.0   \n",
       "112326                                        0.0   \n",
       "112327                                        0.0   \n",
       "112328                                        0.0   \n",
       "\n",
       "        sec_sch_name_Yuan Ching Secondary School  \\\n",
       "112324                                       0.0   \n",
       "112325                                       0.0   \n",
       "112326                                       0.0   \n",
       "112327                                       0.0   \n",
       "112328                                       0.0   \n",
       "\n",
       "        sec_sch_name_Yuhua Secondary School  \\\n",
       "112324                                  0.0   \n",
       "112325                                  0.0   \n",
       "112326                                  0.0   \n",
       "112327                                  0.0   \n",
       "112328                                  0.0   \n",
       "\n",
       "        sec_sch_name_Yusof Ishak Secondary School  \\\n",
       "112324                                        0.0   \n",
       "112325                                        0.0   \n",
       "112326                                        0.0   \n",
       "112327                                        0.0   \n",
       "112328                                        0.0   \n",
       "\n",
       "        sec_sch_name_Yuying Secondary School  \\\n",
       "112324                                   0.0   \n",
       "112325                                   0.0   \n",
       "112326                                   0.0   \n",
       "112327                                   0.0   \n",
       "112328                                   0.0   \n",
       "\n",
       "        sec_sch_name_Zhenghua Secondary School  \\\n",
       "112324                                     0.0   \n",
       "112325                                     0.0   \n",
       "112326                                     0.0   \n",
       "112327                                     0.0   \n",
       "112328                                     0.0   \n",
       "\n",
       "        sec_sch_name_Zhonghua Secondary School  \\\n",
       "112324                                     0.0   \n",
       "112325                                     0.0   \n",
       "112326                                     0.0   \n",
       "112327                                     0.0   \n",
       "112328                                     0.0   \n",
       "\n",
       "        sec_sch_name_infrequent_sklearn  \n",
       "112324                              0.0  \n",
       "112325                              0.0  \n",
       "112326                              0.0  \n",
       "112327                              0.0  \n",
       "112328                              0.0  \n",
       "\n",
       "[5 rows x 899 columns]"
      ]
     },
     "execution_count": 15,
     "metadata": {},
     "output_type": "execute_result"
    }
   ],
   "source": [
    "#setup OHE\n",
    "OHE = OneHotEncoder(sparse_output = False, handle_unknown = 'infrequent_if_exist', min_frequency = 0.0001)\n",
    "train_OHE_cat_df = pd.DataFrame(OHE.fit_transform(train_cat_df[cat_list]), columns = OHE.get_feature_names_out())\n",
    "test_OHE_cat_df = pd.DataFrame(OHE.transform(test_cat_df[cat_list]), columns = OHE.get_feature_names_out())\n",
    "train_OHE_cat_df.tail()"
   ]
  },
  {
   "cell_type": "code",
   "execution_count": 16,
   "id": "cae9b1d9-98d6-43a5-9078-d16262ac363e",
   "metadata": {},
   "outputs": [],
   "source": [
    "#concat categories train sets\n",
    "train_cat_df = pd.concat([train_cat_df, train_OHE_cat_df], axis = 1)\n",
    "train_cat_df.drop(columns = cat_list, inplace = True)\n",
    "#concat categories test set\n",
    "test_cat_df = pd.concat([test_cat_df, test_OHE_cat_df], axis = 1)\n",
    "test_cat_df.drop(columns = cat_list, inplace = True)"
   ]
  },
  {
   "cell_type": "code",
   "execution_count": 17,
   "id": "591d40ab-62ee-4844-8a87-e6ac788ee0fc",
   "metadata": {},
   "outputs": [
    {
     "data": {
      "text/html": [
       "<div>\n",
       "<style scoped>\n",
       "    .dataframe tbody tr th:only-of-type {\n",
       "        vertical-align: middle;\n",
       "    }\n",
       "\n",
       "    .dataframe tbody tr th {\n",
       "        vertical-align: top;\n",
       "    }\n",
       "\n",
       "    .dataframe thead th {\n",
       "        text-align: right;\n",
       "    }\n",
       "</style>\n",
       "<table border=\"1\" class=\"dataframe\">\n",
       "  <thead>\n",
       "    <tr style=\"text-align: right;\">\n",
       "      <th></th>\n",
       "      <th>Mall_Within_2km</th>\n",
       "      <th>cutoff_point</th>\n",
       "      <th>2room_rental</th>\n",
       "      <th>mid</th>\n",
       "      <th>1room_sold</th>\n",
       "      <th>2room_sold</th>\n",
       "      <th>Mall_Within_500m</th>\n",
       "      <th>3room_sold</th>\n",
       "      <th>4room_sold</th>\n",
       "      <th>exec_sold</th>\n",
       "      <th>...</th>\n",
       "      <th>sec_sch_name_Yio Chu Kang Secondary School</th>\n",
       "      <th>sec_sch_name_Yishun Secondary School</th>\n",
       "      <th>sec_sch_name_Yishun Town Secondary School</th>\n",
       "      <th>sec_sch_name_Yuan Ching Secondary School</th>\n",
       "      <th>sec_sch_name_Yuhua Secondary School</th>\n",
       "      <th>sec_sch_name_Yusof Ishak Secondary School</th>\n",
       "      <th>sec_sch_name_Yuying Secondary School</th>\n",
       "      <th>sec_sch_name_Zhenghua Secondary School</th>\n",
       "      <th>sec_sch_name_Zhonghua Secondary School</th>\n",
       "      <th>sec_sch_name_infrequent_sklearn</th>\n",
       "    </tr>\n",
       "    <tr>\n",
       "      <th>index</th>\n",
       "      <th></th>\n",
       "      <th></th>\n",
       "      <th></th>\n",
       "      <th></th>\n",
       "      <th></th>\n",
       "      <th></th>\n",
       "      <th></th>\n",
       "      <th></th>\n",
       "      <th></th>\n",
       "      <th></th>\n",
       "      <th></th>\n",
       "      <th></th>\n",
       "      <th></th>\n",
       "      <th></th>\n",
       "      <th></th>\n",
       "      <th></th>\n",
       "      <th></th>\n",
       "      <th></th>\n",
       "      <th></th>\n",
       "      <th></th>\n",
       "      <th></th>\n",
       "    </tr>\n",
       "  </thead>\n",
       "  <tbody>\n",
       "    <tr>\n",
       "      <th>30484</th>\n",
       "      <td>-0.056933</td>\n",
       "      <td>-1.107259</td>\n",
       "      <td>-0.056527</td>\n",
       "      <td>-0.048992</td>\n",
       "      <td>-0.024062</td>\n",
       "      <td>-0.151432</td>\n",
       "      <td>-0.671314</td>\n",
       "      <td>-0.572480</td>\n",
       "      <td>-0.483135</td>\n",
       "      <td>-0.310921</td>\n",
       "      <td>...</td>\n",
       "      <td>0.0</td>\n",
       "      <td>0.0</td>\n",
       "      <td>0.0</td>\n",
       "      <td>0.0</td>\n",
       "      <td>0.0</td>\n",
       "      <td>0.0</td>\n",
       "      <td>0.0</td>\n",
       "      <td>0.0</td>\n",
       "      <td>0.0</td>\n",
       "      <td>0.0</td>\n",
       "    </tr>\n",
       "    <tr>\n",
       "      <th>87242</th>\n",
       "      <td>1.097444</td>\n",
       "      <td>-1.107259</td>\n",
       "      <td>-0.056527</td>\n",
       "      <td>1.045130</td>\n",
       "      <td>-0.024062</td>\n",
       "      <td>-0.151432</td>\n",
       "      <td>3.424053</td>\n",
       "      <td>-0.572480</td>\n",
       "      <td>-0.040249</td>\n",
       "      <td>-0.310921</td>\n",
       "      <td>...</td>\n",
       "      <td>0.0</td>\n",
       "      <td>0.0</td>\n",
       "      <td>0.0</td>\n",
       "      <td>0.0</td>\n",
       "      <td>0.0</td>\n",
       "      <td>0.0</td>\n",
       "      <td>0.0</td>\n",
       "      <td>0.0</td>\n",
       "      <td>0.0</td>\n",
       "      <td>0.0</td>\n",
       "    </tr>\n",
       "    <tr>\n",
       "      <th>79640</th>\n",
       "      <td>0.231661</td>\n",
       "      <td>-1.057314</td>\n",
       "      <td>-0.056527</td>\n",
       "      <td>-0.048992</td>\n",
       "      <td>-0.024062</td>\n",
       "      <td>-0.151432</td>\n",
       "      <td>0.693809</td>\n",
       "      <td>-0.572480</td>\n",
       "      <td>-1.103175</td>\n",
       "      <td>2.824966</td>\n",
       "      <td>...</td>\n",
       "      <td>0.0</td>\n",
       "      <td>0.0</td>\n",
       "      <td>0.0</td>\n",
       "      <td>0.0</td>\n",
       "      <td>0.0</td>\n",
       "      <td>0.0</td>\n",
       "      <td>0.0</td>\n",
       "      <td>0.0</td>\n",
       "      <td>0.0</td>\n",
       "      <td>0.0</td>\n",
       "    </tr>\n",
       "    <tr>\n",
       "      <th>63804</th>\n",
       "      <td>-0.634122</td>\n",
       "      <td>-1.107259</td>\n",
       "      <td>-0.056527</td>\n",
       "      <td>-0.048992</td>\n",
       "      <td>-0.024062</td>\n",
       "      <td>-0.151432</td>\n",
       "      <td>0.693809</td>\n",
       "      <td>1.020995</td>\n",
       "      <td>-0.616000</td>\n",
       "      <td>-0.310921</td>\n",
       "      <td>...</td>\n",
       "      <td>0.0</td>\n",
       "      <td>0.0</td>\n",
       "      <td>0.0</td>\n",
       "      <td>0.0</td>\n",
       "      <td>1.0</td>\n",
       "      <td>0.0</td>\n",
       "      <td>0.0</td>\n",
       "      <td>0.0</td>\n",
       "      <td>0.0</td>\n",
       "      <td>0.0</td>\n",
       "    </tr>\n",
       "    <tr>\n",
       "      <th>146273</th>\n",
       "      <td>-0.634122</td>\n",
       "      <td>1.240134</td>\n",
       "      <td>-0.056527</td>\n",
       "      <td>-1.143114</td>\n",
       "      <td>-0.024062</td>\n",
       "      <td>-0.151432</td>\n",
       "      <td>-0.671314</td>\n",
       "      <td>0.716786</td>\n",
       "      <td>0.004040</td>\n",
       "      <td>-0.310921</td>\n",
       "      <td>...</td>\n",
       "      <td>0.0</td>\n",
       "      <td>0.0</td>\n",
       "      <td>0.0</td>\n",
       "      <td>0.0</td>\n",
       "      <td>0.0</td>\n",
       "      <td>0.0</td>\n",
       "      <td>0.0</td>\n",
       "      <td>0.0</td>\n",
       "      <td>0.0</td>\n",
       "      <td>0.0</td>\n",
       "    </tr>\n",
       "  </tbody>\n",
       "</table>\n",
       "<p>5 rows × 937 columns</p>\n",
       "</div>"
      ],
      "text/plain": [
       "        Mall_Within_2km  cutoff_point  2room_rental       mid  1room_sold  \\\n",
       "index                                                                       \n",
       "30484         -0.056933     -1.107259     -0.056527 -0.048992   -0.024062   \n",
       "87242          1.097444     -1.107259     -0.056527  1.045130   -0.024062   \n",
       "79640          0.231661     -1.057314     -0.056527 -0.048992   -0.024062   \n",
       "63804         -0.634122     -1.107259     -0.056527 -0.048992   -0.024062   \n",
       "146273        -0.634122      1.240134     -0.056527 -1.143114   -0.024062   \n",
       "\n",
       "        2room_sold  Mall_Within_500m  3room_sold  4room_sold  exec_sold  ...  \\\n",
       "index                                                                    ...   \n",
       "30484    -0.151432         -0.671314   -0.572480   -0.483135  -0.310921  ...   \n",
       "87242    -0.151432          3.424053   -0.572480   -0.040249  -0.310921  ...   \n",
       "79640    -0.151432          0.693809   -0.572480   -1.103175   2.824966  ...   \n",
       "63804    -0.151432          0.693809    1.020995   -0.616000  -0.310921  ...   \n",
       "146273   -0.151432         -0.671314    0.716786    0.004040  -0.310921  ...   \n",
       "\n",
       "        sec_sch_name_Yio Chu Kang Secondary School  \\\n",
       "index                                                \n",
       "30484                                          0.0   \n",
       "87242                                          0.0   \n",
       "79640                                          0.0   \n",
       "63804                                          0.0   \n",
       "146273                                         0.0   \n",
       "\n",
       "        sec_sch_name_Yishun Secondary School  \\\n",
       "index                                          \n",
       "30484                                    0.0   \n",
       "87242                                    0.0   \n",
       "79640                                    0.0   \n",
       "63804                                    0.0   \n",
       "146273                                   0.0   \n",
       "\n",
       "        sec_sch_name_Yishun Town Secondary School  \\\n",
       "index                                               \n",
       "30484                                         0.0   \n",
       "87242                                         0.0   \n",
       "79640                                         0.0   \n",
       "63804                                         0.0   \n",
       "146273                                        0.0   \n",
       "\n",
       "        sec_sch_name_Yuan Ching Secondary School  \\\n",
       "index                                              \n",
       "30484                                        0.0   \n",
       "87242                                        0.0   \n",
       "79640                                        0.0   \n",
       "63804                                        0.0   \n",
       "146273                                       0.0   \n",
       "\n",
       "        sec_sch_name_Yuhua Secondary School  \\\n",
       "index                                         \n",
       "30484                                   0.0   \n",
       "87242                                   0.0   \n",
       "79640                                   0.0   \n",
       "63804                                   1.0   \n",
       "146273                                  0.0   \n",
       "\n",
       "        sec_sch_name_Yusof Ishak Secondary School  \\\n",
       "index                                               \n",
       "30484                                         0.0   \n",
       "87242                                         0.0   \n",
       "79640                                         0.0   \n",
       "63804                                         0.0   \n",
       "146273                                        0.0   \n",
       "\n",
       "        sec_sch_name_Yuying Secondary School  \\\n",
       "index                                          \n",
       "30484                                    0.0   \n",
       "87242                                    0.0   \n",
       "79640                                    0.0   \n",
       "63804                                    0.0   \n",
       "146273                                   0.0   \n",
       "\n",
       "        sec_sch_name_Zhenghua Secondary School  \\\n",
       "index                                            \n",
       "30484                                      0.0   \n",
       "87242                                      0.0   \n",
       "79640                                      0.0   \n",
       "63804                                      0.0   \n",
       "146273                                     0.0   \n",
       "\n",
       "        sec_sch_name_Zhonghua Secondary School  \\\n",
       "index                                            \n",
       "30484                                      0.0   \n",
       "87242                                      0.0   \n",
       "79640                                      0.0   \n",
       "63804                                      0.0   \n",
       "146273                                     0.0   \n",
       "\n",
       "        sec_sch_name_infrequent_sklearn  \n",
       "index                                    \n",
       "30484                               0.0  \n",
       "87242                               0.0  \n",
       "79640                               0.0  \n",
       "63804                               0.0  \n",
       "146273                              0.0  \n",
       "\n",
       "[5 rows x 937 columns]"
      ]
     },
     "execution_count": 17,
     "metadata": {},
     "output_type": "execute_result"
    }
   ],
   "source": [
    "#concat train set\n",
    "Z_train = pd.concat([X_train_num_scaled, train_cat_df], axis = 1)\n",
    "Z_train.set_index('index', inplace = True)\n",
    "\n",
    "#concat test set\n",
    "Z_test = pd.concat([X_test_num_scaled, test_cat_df], axis = 1)\n",
    "Z_test.set_index('index', inplace = True)\n",
    "\n",
    "Z_train.head()"
   ]
  },
  {
   "cell_type": "markdown",
   "id": "abaa9f44-79a0-4530-94b8-63bffd073194",
   "metadata": {},
   "source": [
    "## Modelling #2\n",
    "- [OLS](#OLS) - quick review of the numerical features\n",
    "- [Linear Regression](#Linear-Regression)\n",
    "- [Ridge Regression](#Ridge-Regression)\n",
    "- [Lasso Regression](#Lasso-Regression)\n",
    "- [Results Analysis](#Results-Analysis)"
   ]
  },
  {
   "cell_type": "markdown",
   "id": "070bba89-bedb-49fb-ab31-5d7d986f984f",
   "metadata": {},
   "source": [
    "#### OLS"
   ]
  },
  {
   "cell_type": "markdown",
   "id": "5b7a07a8-cdc2-4c15-87bc-c2610c0a34ad",
   "metadata": {},
   "source": [
    "Using OLS, this allows a quick review of the numerical features included currently and check for features which are not very impactful and can be dropped in the next iteration. The limitation being it works for numerical features and probably not categories but atleast it some area of improvement can be done."
   ]
  },
  {
   "cell_type": "code",
   "execution_count": 18,
   "id": "26de9d6a-ec73-4ebe-b371-8a2be9112151",
   "metadata": {},
   "outputs": [],
   "source": [
    "# Statsmodels OLS \n",
    "X_train_num = sm.add_constant(X_train[num_feat])\n",
    "ols = sm.OLS(y_train, X_train_num).fit() "
   ]
  },
  {
   "cell_type": "code",
   "execution_count": 19,
   "id": "8e8dfbd0-328e-494b-8da8-5cd1e07ea555",
   "metadata": {},
   "outputs": [
    {
     "data": {
      "text/plain": [
       "2room_rental             0.018370\n",
       "1room_sold               0.006674\n",
       "3room_sold               0.010931\n",
       "4room_sold               0.010897\n",
       "exec_sold                0.030395\n",
       "3room_rental             0.207591\n",
       "total_dwelling_units     0.028192\n",
       "1room_rental             0.089188\n",
       "multigen_sold            0.801153\n",
       "other_room_rental        0.033103\n",
       "studio_apartment_sold    0.014717\n",
       "dtype: float64"
      ]
     },
     "execution_count": 19,
     "metadata": {},
     "output_type": "execute_result"
    }
   ],
   "source": [
    "ols.pvalues[ols.pvalues > 0.005]"
   ]
  },
  {
   "cell_type": "markdown",
   "id": "ac1fc10b-c25c-418e-bcaa-aa5500ab5de2",
   "metadata": {},
   "source": [
    "Using the a p-value of 0.005 as my my threshold since it would be that with 99.5% confidence that the features are not having an impact and may be dropped in the next iteration."
   ]
  },
  {
   "cell_type": "markdown",
   "id": "c436712a-b8fe-4ee7-aaa0-dab02691a66b",
   "metadata": {},
   "source": [
    "### Linear Regression"
   ]
  },
  {
   "cell_type": "code",
   "execution_count": 20,
   "id": "65149ff9-1fce-413d-80a7-f38deae429d4",
   "metadata": {},
   "outputs": [
    {
     "name": "stdout",
     "output_type": "stream",
     "text": [
      "[0.92574967 0.92498421 0.9241191  0.92540709 0.92347876]\n"
     ]
    },
    {
     "data": {
      "text/plain": [
       "0.9247474569568096"
      ]
     },
     "execution_count": 20,
     "metadata": {},
     "output_type": "execute_result"
    }
   ],
   "source": [
    "#Instantiate your model\n",
    "lr = LinearRegression()\n",
    "\n",
    "#Obtain Cross-validation scores\n",
    "print(cross_val_score(lr, Z_train, y_train, cv =5))\n",
    "\n",
    "#Obtain MEAN Cross-validation score\n",
    "cross_val_score(lr, Z_train, y_train).mean()"
   ]
  },
  {
   "cell_type": "code",
   "execution_count": 21,
   "id": "54449c3d-ae04-4ad1-b7ea-4b2ae8694f35",
   "metadata": {},
   "outputs": [],
   "source": [
    "# Train your model\n",
    "lr.fit(Z_train, y_train)\n",
    "\n",
    "#Generate predictions\n",
    "y_train_preds = lr.predict(Z_train)\n",
    "y_test_preds = lr.predict(Z_test)"
   ]
  },
  {
   "cell_type": "code",
   "execution_count": 22,
   "id": "6e1c64c0-f5dd-4280-a2b9-ef8d3891f8ac",
   "metadata": {},
   "outputs": [
    {
     "data": {
      "text/plain": [
       "0.926179126360245"
      ]
     },
     "execution_count": 22,
     "metadata": {},
     "output_type": "execute_result"
    }
   ],
   "source": [
    "# Train score:\n",
    "lr.score(Z_train, y_train)"
   ]
  },
  {
   "cell_type": "code",
   "execution_count": 23,
   "id": "ae0e3154-913f-4296-87b4-3a1cc0ea70ad",
   "metadata": {},
   "outputs": [
    {
     "data": {
      "text/plain": [
       "-267759160690952.22"
      ]
     },
     "execution_count": 23,
     "metadata": {},
     "output_type": "execute_result"
    }
   ],
   "source": [
    "# Test score:\n",
    "lr.score(Z_test, y_test)"
   ]
  },
  {
   "cell_type": "code",
   "execution_count": 24,
   "id": "a7a390f6-aea8-4349-b921-626e5afcb062",
   "metadata": {},
   "outputs": [
    {
     "name": "stdout",
     "output_type": "stream",
     "text": [
      "38915.30427526979\n",
      "2343474971158.487\n"
     ]
    }
   ],
   "source": [
    "#MSE\n",
    "train_MSE = mean_squared_error(y_train, y_train_preds)\n",
    "test_MSE = mean_squared_error(y_test, y_test_preds)\n",
    "#RMSE \n",
    "print(np.sqrt(train_MSE))\n",
    "print(np.sqrt(test_MSE))"
   ]
  },
  {
   "cell_type": "markdown",
   "id": "daf491f9-d4a2-4f06-bb16-5356a7ed1ff3",
   "metadata": {},
   "source": [
    "### Ridge Regression"
   ]
  },
  {
   "cell_type": "code",
   "execution_count": 25,
   "id": "c3c1d403-a1fb-4b57-a0f7-021426076452",
   "metadata": {},
   "outputs": [
    {
     "data": {
      "text/html": [
       "<style>#sk-container-id-1 {color: black;background-color: white;}#sk-container-id-1 pre{padding: 0;}#sk-container-id-1 div.sk-toggleable {background-color: white;}#sk-container-id-1 label.sk-toggleable__label {cursor: pointer;display: block;width: 100%;margin-bottom: 0;padding: 0.3em;box-sizing: border-box;text-align: center;}#sk-container-id-1 label.sk-toggleable__label-arrow:before {content: \"▸\";float: left;margin-right: 0.25em;color: #696969;}#sk-container-id-1 label.sk-toggleable__label-arrow:hover:before {color: black;}#sk-container-id-1 div.sk-estimator:hover label.sk-toggleable__label-arrow:before {color: black;}#sk-container-id-1 div.sk-toggleable__content {max-height: 0;max-width: 0;overflow: hidden;text-align: left;background-color: #f0f8ff;}#sk-container-id-1 div.sk-toggleable__content pre {margin: 0.2em;color: black;border-radius: 0.25em;background-color: #f0f8ff;}#sk-container-id-1 input.sk-toggleable__control:checked~div.sk-toggleable__content {max-height: 200px;max-width: 100%;overflow: auto;}#sk-container-id-1 input.sk-toggleable__control:checked~label.sk-toggleable__label-arrow:before {content: \"▾\";}#sk-container-id-1 div.sk-estimator input.sk-toggleable__control:checked~label.sk-toggleable__label {background-color: #d4ebff;}#sk-container-id-1 div.sk-label input.sk-toggleable__control:checked~label.sk-toggleable__label {background-color: #d4ebff;}#sk-container-id-1 input.sk-hidden--visually {border: 0;clip: rect(1px 1px 1px 1px);clip: rect(1px, 1px, 1px, 1px);height: 1px;margin: -1px;overflow: hidden;padding: 0;position: absolute;width: 1px;}#sk-container-id-1 div.sk-estimator {font-family: monospace;background-color: #f0f8ff;border: 1px dotted black;border-radius: 0.25em;box-sizing: border-box;margin-bottom: 0.5em;}#sk-container-id-1 div.sk-estimator:hover {background-color: #d4ebff;}#sk-container-id-1 div.sk-parallel-item::after {content: \"\";width: 100%;border-bottom: 1px solid gray;flex-grow: 1;}#sk-container-id-1 div.sk-label:hover label.sk-toggleable__label {background-color: #d4ebff;}#sk-container-id-1 div.sk-serial::before {content: \"\";position: absolute;border-left: 1px solid gray;box-sizing: border-box;top: 0;bottom: 0;left: 50%;z-index: 0;}#sk-container-id-1 div.sk-serial {display: flex;flex-direction: column;align-items: center;background-color: white;padding-right: 0.2em;padding-left: 0.2em;position: relative;}#sk-container-id-1 div.sk-item {position: relative;z-index: 1;}#sk-container-id-1 div.sk-parallel {display: flex;align-items: stretch;justify-content: center;background-color: white;position: relative;}#sk-container-id-1 div.sk-item::before, #sk-container-id-1 div.sk-parallel-item::before {content: \"\";position: absolute;border-left: 1px solid gray;box-sizing: border-box;top: 0;bottom: 0;left: 50%;z-index: -1;}#sk-container-id-1 div.sk-parallel-item {display: flex;flex-direction: column;z-index: 1;position: relative;background-color: white;}#sk-container-id-1 div.sk-parallel-item:first-child::after {align-self: flex-end;width: 50%;}#sk-container-id-1 div.sk-parallel-item:last-child::after {align-self: flex-start;width: 50%;}#sk-container-id-1 div.sk-parallel-item:only-child::after {width: 0;}#sk-container-id-1 div.sk-dashed-wrapped {border: 1px dashed gray;margin: 0 0.4em 0.5em 0.4em;box-sizing: border-box;padding-bottom: 0.4em;background-color: white;}#sk-container-id-1 div.sk-label label {font-family: monospace;font-weight: bold;display: inline-block;line-height: 1.2em;}#sk-container-id-1 div.sk-label-container {text-align: center;}#sk-container-id-1 div.sk-container {/* jupyter's `normalize.less` sets `[hidden] { display: none; }` but bootstrap.min.css set `[hidden] { display: none !important; }` so we also need the `!important` here to be able to override the default hidden behavior on the sphinx rendered scikit-learn.org. See: https://github.com/scikit-learn/scikit-learn/issues/21755 */display: inline-block !important;position: relative;}#sk-container-id-1 div.sk-text-repr-fallback {display: none;}</style><div id=\"sk-container-id-1\" class=\"sk-top-container\"><div class=\"sk-text-repr-fallback\"><pre>RidgeCV(alphas=array([1.00000000e-03, 2.78255940e-03, 7.74263683e-03, 2.15443469e-02,\n",
       "       5.99484250e-02, 1.66810054e-01, 4.64158883e-01, 1.29154967e+00,\n",
       "       3.59381366e+00, 1.00000000e+01]),\n",
       "        cv=5, scoring=&#x27;r2&#x27;)</pre><b>In a Jupyter environment, please rerun this cell to show the HTML representation or trust the notebook. <br />On GitHub, the HTML representation is unable to render, please try loading this page with nbviewer.org.</b></div><div class=\"sk-container\" hidden><div class=\"sk-item\"><div class=\"sk-estimator sk-toggleable\"><input class=\"sk-toggleable__control sk-hidden--visually\" id=\"sk-estimator-id-1\" type=\"checkbox\" checked><label for=\"sk-estimator-id-1\" class=\"sk-toggleable__label sk-toggleable__label-arrow\">RidgeCV</label><div class=\"sk-toggleable__content\"><pre>RidgeCV(alphas=array([1.00000000e-03, 2.78255940e-03, 7.74263683e-03, 2.15443469e-02,\n",
       "       5.99484250e-02, 1.66810054e-01, 4.64158883e-01, 1.29154967e+00,\n",
       "       3.59381366e+00, 1.00000000e+01]),\n",
       "        cv=5, scoring=&#x27;r2&#x27;)</pre></div></div></div></div></div>"
      ],
      "text/plain": [
       "RidgeCV(alphas=array([1.00000000e-03, 2.78255940e-03, 7.74263683e-03, 2.15443469e-02,\n",
       "       5.99484250e-02, 1.66810054e-01, 4.64158883e-01, 1.29154967e+00,\n",
       "       3.59381366e+00, 1.00000000e+01]),\n",
       "        cv=5, scoring='r2')"
      ]
     },
     "execution_count": 25,
     "metadata": {},
     "output_type": "execute_result"
    }
   ],
   "source": [
    "#alpha_list = np.logspace(-3, 1, 10)\n",
    "ridgecv = RidgeCV(alphas = np.logspace(-3, 1, 10) , scoring='r2', cv = 5)\n",
    "ridgecv.fit(Z_train, y_train)"
   ]
  },
  {
   "cell_type": "code",
   "execution_count": 26,
   "id": "7cf01fca-9fa6-4c30-ae40-055f47a84a6e",
   "metadata": {},
   "outputs": [
    {
     "data": {
      "text/plain": [
       "0.021544346900318832"
      ]
     },
     "execution_count": 26,
     "metadata": {},
     "output_type": "execute_result"
    }
   ],
   "source": [
    "#optimal alpha\n",
    "ridgecv.alpha_"
   ]
  },
  {
   "cell_type": "code",
   "execution_count": 27,
   "id": "e5301f83-87e7-45d2-8fa3-0589488637af",
   "metadata": {},
   "outputs": [
    {
     "name": "stdout",
     "output_type": "stream",
     "text": [
      "[0.92573897 0.92495868 0.92414662 0.92541301 0.92349769]\n",
      "0.924750994006662\n"
     ]
    }
   ],
   "source": [
    "#Instantiate the model\n",
    "ridge = Ridge(alpha = ridgecv.alpha_)\n",
    "ridge_scores = cross_val_score(ridge, Z_train, y_train)\n",
    "\n",
    "print (ridge_scores)\n",
    "print (np.mean(ridge_scores))"
   ]
  },
  {
   "cell_type": "code",
   "execution_count": 28,
   "id": "d51450f1-6d2a-44cf-8a4e-ca86a6e2e120",
   "metadata": {},
   "outputs": [],
   "source": [
    "#Retrain ridge\n",
    "ridge.fit(Z_train, y_train)\n",
    "\n",
    "#Generate predictions\n",
    "y_train_preds = ridge.predict(Z_train)\n",
    "y_test_preds = ridge.predict(Z_test)"
   ]
  },
  {
   "cell_type": "code",
   "execution_count": 29,
   "id": "8feba7bc-1369-4c34-a487-15c1153d6d68",
   "metadata": {},
   "outputs": [
    {
     "data": {
      "text/plain": [
       "0.926177755657659"
      ]
     },
     "execution_count": 29,
     "metadata": {},
     "output_type": "execute_result"
    }
   ],
   "source": [
    "# Train score:\n",
    "ridge_train_score = ridge.score(Z_train, y_train)\n",
    "ridge_train_score"
   ]
  },
  {
   "cell_type": "code",
   "execution_count": 30,
   "id": "7aad30f5-d36e-4c64-9d67-7e3a1c5188fa",
   "metadata": {},
   "outputs": [
    {
     "data": {
      "text/plain": [
       "0.9247602589130399"
      ]
     },
     "execution_count": 30,
     "metadata": {},
     "output_type": "execute_result"
    }
   ],
   "source": [
    "# Test  score:\n",
    "ridge_test_score = ridge.score(Z_test, y_test)\n",
    "ridge_test_score"
   ]
  },
  {
   "cell_type": "code",
   "execution_count": 31,
   "id": "939f3ee2-6e09-4c84-97c2-1f1ff05c4183",
   "metadata": {},
   "outputs": [
    {
     "name": "stdout",
     "output_type": "stream",
     "text": [
      "38915.66556238254\n",
      "39283.64671544856\n"
     ]
    }
   ],
   "source": [
    "#MSE\n",
    "train_MSE = mean_squared_error(y_train, y_train_preds)\n",
    "test_MSE = mean_squared_error(y_test, y_test_preds)\n",
    "#RMSE \n",
    "print(np.sqrt(train_MSE))\n",
    "print(np.sqrt(test_MSE))"
   ]
  },
  {
   "cell_type": "markdown",
   "id": "5047a92e-9360-4351-ab7e-d7f1c72c3462",
   "metadata": {},
   "source": [
    "### Lasso Regression"
   ]
  },
  {
   "cell_type": "code",
   "execution_count": 32,
   "id": "c7d0cb6a-23e8-44e3-be18-9fa284167262",
   "metadata": {},
   "outputs": [
    {
     "name": "stderr",
     "output_type": "stream",
     "text": [
      "C:\\Users\\benja\\mambaforge\\envs\\dsi-sg\\lib\\site-packages\\sklearn\\linear_model\\_coordinate_descent.py:617: ConvergenceWarning: Objective did not converge. You might want to increase the number of iterations. Duality gap: 25761675007175.53, tolerance: 183876531387.44037\n",
      "  model = cd_fast.enet_coordinate_descent_gram(\n",
      "C:\\Users\\benja\\mambaforge\\envs\\dsi-sg\\lib\\site-packages\\sklearn\\linear_model\\_coordinate_descent.py:617: ConvergenceWarning: Objective did not converge. You might want to increase the number of iterations. Duality gap: 11422015050779.812, tolerance: 183876531387.44037\n",
      "  model = cd_fast.enet_coordinate_descent_gram(\n",
      "C:\\Users\\benja\\mambaforge\\envs\\dsi-sg\\lib\\site-packages\\sklearn\\linear_model\\_coordinate_descent.py:617: ConvergenceWarning: Objective did not converge. You might want to increase the number of iterations. Duality gap: 8643754835721.328, tolerance: 183876531387.44037\n",
      "  model = cd_fast.enet_coordinate_descent_gram(\n",
      "C:\\Users\\benja\\mambaforge\\envs\\dsi-sg\\lib\\site-packages\\sklearn\\linear_model\\_coordinate_descent.py:617: ConvergenceWarning: Objective did not converge. You might want to increase the number of iterations. Duality gap: 7520221766217.766, tolerance: 183876531387.44037\n",
      "  model = cd_fast.enet_coordinate_descent_gram(\n",
      "C:\\Users\\benja\\mambaforge\\envs\\dsi-sg\\lib\\site-packages\\sklearn\\linear_model\\_coordinate_descent.py:617: ConvergenceWarning: Objective did not converge. You might want to increase the number of iterations. Duality gap: 30792782943153.61, tolerance: 183876531387.44037\n",
      "  model = cd_fast.enet_coordinate_descent_gram(\n",
      "C:\\Users\\benja\\mambaforge\\envs\\dsi-sg\\lib\\site-packages\\sklearn\\linear_model\\_coordinate_descent.py:617: ConvergenceWarning: Objective did not converge. You might want to increase the number of iterations. Duality gap: 31602749690131.094, tolerance: 183876531387.44037\n",
      "  model = cd_fast.enet_coordinate_descent_gram(\n",
      "C:\\Users\\benja\\mambaforge\\envs\\dsi-sg\\lib\\site-packages\\sklearn\\linear_model\\_coordinate_descent.py:617: ConvergenceWarning: Objective did not converge. You might want to increase the number of iterations. Duality gap: 49777236407210.53, tolerance: 183876531387.44037\n",
      "  model = cd_fast.enet_coordinate_descent_gram(\n",
      "C:\\Users\\benja\\mambaforge\\envs\\dsi-sg\\lib\\site-packages\\sklearn\\linear_model\\_coordinate_descent.py:617: ConvergenceWarning: Objective did not converge. You might want to increase the number of iterations. Duality gap: 58586797983806.86, tolerance: 183876531387.44037\n",
      "  model = cd_fast.enet_coordinate_descent_gram(\n",
      "C:\\Users\\benja\\mambaforge\\envs\\dsi-sg\\lib\\site-packages\\sklearn\\linear_model\\_coordinate_descent.py:617: ConvergenceWarning: Objective did not converge. You might want to increase the number of iterations. Duality gap: 63155564201911.3, tolerance: 183876531387.44037\n",
      "  model = cd_fast.enet_coordinate_descent_gram(\n",
      "C:\\Users\\benja\\mambaforge\\envs\\dsi-sg\\lib\\site-packages\\sklearn\\linear_model\\_coordinate_descent.py:617: ConvergenceWarning: Objective did not converge. You might want to increase the number of iterations. Duality gap: 65242917353835.6, tolerance: 183876531387.44037\n",
      "  model = cd_fast.enet_coordinate_descent_gram(\n",
      "C:\\Users\\benja\\mambaforge\\envs\\dsi-sg\\lib\\site-packages\\sklearn\\linear_model\\_coordinate_descent.py:617: ConvergenceWarning: Objective did not converge. You might want to increase the number of iterations. Duality gap: 25781514514542.47, tolerance: 183895226173.57632\n",
      "  model = cd_fast.enet_coordinate_descent_gram(\n",
      "C:\\Users\\benja\\mambaforge\\envs\\dsi-sg\\lib\\site-packages\\sklearn\\linear_model\\_coordinate_descent.py:617: ConvergenceWarning: Objective did not converge. You might want to increase the number of iterations. Duality gap: 11806293070129.766, tolerance: 183895226173.57632\n",
      "  model = cd_fast.enet_coordinate_descent_gram(\n",
      "C:\\Users\\benja\\mambaforge\\envs\\dsi-sg\\lib\\site-packages\\sklearn\\linear_model\\_coordinate_descent.py:617: ConvergenceWarning: Objective did not converge. You might want to increase the number of iterations. Duality gap: 8572426588972.875, tolerance: 183895226173.57632\n",
      "  model = cd_fast.enet_coordinate_descent_gram(\n",
      "C:\\Users\\benja\\mambaforge\\envs\\dsi-sg\\lib\\site-packages\\sklearn\\linear_model\\_coordinate_descent.py:617: ConvergenceWarning: Objective did not converge. You might want to increase the number of iterations. Duality gap: 9316917753274.5, tolerance: 183895226173.57632\n",
      "  model = cd_fast.enet_coordinate_descent_gram(\n",
      "C:\\Users\\benja\\mambaforge\\envs\\dsi-sg\\lib\\site-packages\\sklearn\\linear_model\\_coordinate_descent.py:617: ConvergenceWarning: Objective did not converge. You might want to increase the number of iterations. Duality gap: 23067456781941.36, tolerance: 183895226173.57632\n",
      "  model = cd_fast.enet_coordinate_descent_gram(\n",
      "C:\\Users\\benja\\mambaforge\\envs\\dsi-sg\\lib\\site-packages\\sklearn\\linear_model\\_coordinate_descent.py:617: ConvergenceWarning: Objective did not converge. You might want to increase the number of iterations. Duality gap: 54766627072630.586, tolerance: 183895226173.57632\n",
      "  model = cd_fast.enet_coordinate_descent_gram(\n",
      "C:\\Users\\benja\\mambaforge\\envs\\dsi-sg\\lib\\site-packages\\sklearn\\linear_model\\_coordinate_descent.py:617: ConvergenceWarning: Objective did not converge. You might want to increase the number of iterations. Duality gap: 52321122028273.27, tolerance: 183895226173.57632\n",
      "  model = cd_fast.enet_coordinate_descent_gram(\n",
      "C:\\Users\\benja\\mambaforge\\envs\\dsi-sg\\lib\\site-packages\\sklearn\\linear_model\\_coordinate_descent.py:617: ConvergenceWarning: Objective did not converge. You might want to increase the number of iterations. Duality gap: 60074115713420.87, tolerance: 183895226173.57632\n",
      "  model = cd_fast.enet_coordinate_descent_gram(\n",
      "C:\\Users\\benja\\mambaforge\\envs\\dsi-sg\\lib\\site-packages\\sklearn\\linear_model\\_coordinate_descent.py:617: ConvergenceWarning: Objective did not converge. You might want to increase the number of iterations. Duality gap: 63679255471800.0, tolerance: 183895226173.57632\n",
      "  model = cd_fast.enet_coordinate_descent_gram(\n",
      "C:\\Users\\benja\\mambaforge\\envs\\dsi-sg\\lib\\site-packages\\sklearn\\linear_model\\_coordinate_descent.py:617: ConvergenceWarning: Objective did not converge. You might want to increase the number of iterations. Duality gap: 65265030815633.74, tolerance: 183895226173.57632\n",
      "  model = cd_fast.enet_coordinate_descent_gram(\n",
      "C:\\Users\\benja\\mambaforge\\envs\\dsi-sg\\lib\\site-packages\\sklearn\\linear_model\\_coordinate_descent.py:617: ConvergenceWarning: Objective did not converge. You might want to increase the number of iterations. Duality gap: 25521968041181.28, tolerance: 185019062274.13406\n",
      "  model = cd_fast.enet_coordinate_descent_gram(\n",
      "C:\\Users\\benja\\mambaforge\\envs\\dsi-sg\\lib\\site-packages\\sklearn\\linear_model\\_coordinate_descent.py:617: ConvergenceWarning: Objective did not converge. You might want to increase the number of iterations. Duality gap: 12824308639253.719, tolerance: 185019062274.13406\n",
      "  model = cd_fast.enet_coordinate_descent_gram(\n",
      "C:\\Users\\benja\\mambaforge\\envs\\dsi-sg\\lib\\site-packages\\sklearn\\linear_model\\_coordinate_descent.py:617: ConvergenceWarning: Objective did not converge. You might want to increase the number of iterations. Duality gap: 8838745825307.89, tolerance: 185019062274.13406\n",
      "  model = cd_fast.enet_coordinate_descent_gram(\n",
      "C:\\Users\\benja\\mambaforge\\envs\\dsi-sg\\lib\\site-packages\\sklearn\\linear_model\\_coordinate_descent.py:617: ConvergenceWarning: Objective did not converge. You might want to increase the number of iterations. Duality gap: 6791756494457.203, tolerance: 185019062274.13406\n",
      "  model = cd_fast.enet_coordinate_descent_gram(\n",
      "C:\\Users\\benja\\mambaforge\\envs\\dsi-sg\\lib\\site-packages\\sklearn\\linear_model\\_coordinate_descent.py:617: ConvergenceWarning: Objective did not converge. You might want to increase the number of iterations. Duality gap: 43408144849028.75, tolerance: 185019062274.13406\n",
      "  model = cd_fast.enet_coordinate_descent_gram(\n",
      "C:\\Users\\benja\\mambaforge\\envs\\dsi-sg\\lib\\site-packages\\sklearn\\linear_model\\_coordinate_descent.py:617: ConvergenceWarning: Objective did not converge. You might want to increase the number of iterations. Duality gap: 32110608719459.33, tolerance: 185019062274.13406\n",
      "  model = cd_fast.enet_coordinate_descent_gram(\n",
      "C:\\Users\\benja\\mambaforge\\envs\\dsi-sg\\lib\\site-packages\\sklearn\\linear_model\\_coordinate_descent.py:617: ConvergenceWarning: Objective did not converge. You might want to increase the number of iterations. Duality gap: 45694738593916.81, tolerance: 185019062274.13406\n",
      "  model = cd_fast.enet_coordinate_descent_gram(\n",
      "C:\\Users\\benja\\mambaforge\\envs\\dsi-sg\\lib\\site-packages\\sklearn\\linear_model\\_coordinate_descent.py:617: ConvergenceWarning: Objective did not converge. You might want to increase the number of iterations. Duality gap: 58611728009187.086, tolerance: 185019062274.13406\n",
      "  model = cd_fast.enet_coordinate_descent_gram(\n",
      "C:\\Users\\benja\\mambaforge\\envs\\dsi-sg\\lib\\site-packages\\sklearn\\linear_model\\_coordinate_descent.py:617: ConvergenceWarning: Objective did not converge. You might want to increase the number of iterations. Duality gap: 63772730436845.195, tolerance: 185019062274.13406\n",
      "  model = cd_fast.enet_coordinate_descent_gram(\n",
      "C:\\Users\\benja\\mambaforge\\envs\\dsi-sg\\lib\\site-packages\\sklearn\\linear_model\\_coordinate_descent.py:617: ConvergenceWarning: Objective did not converge. You might want to increase the number of iterations. Duality gap: 65799176032679.03, tolerance: 185019062274.13406\n",
      "  model = cd_fast.enet_coordinate_descent_gram(\n",
      "C:\\Users\\benja\\mambaforge\\envs\\dsi-sg\\lib\\site-packages\\sklearn\\linear_model\\_coordinate_descent.py:617: ConvergenceWarning: Objective did not converge. You might want to increase the number of iterations. Duality gap: 25881905475493.72, tolerance: 184875043672.3557\n",
      "  model = cd_fast.enet_coordinate_descent_gram(\n",
      "C:\\Users\\benja\\mambaforge\\envs\\dsi-sg\\lib\\site-packages\\sklearn\\linear_model\\_coordinate_descent.py:617: ConvergenceWarning: Objective did not converge. You might want to increase the number of iterations. Duality gap: 9596826343519.375, tolerance: 184875043672.3557\n",
      "  model = cd_fast.enet_coordinate_descent_gram(\n",
      "C:\\Users\\benja\\mambaforge\\envs\\dsi-sg\\lib\\site-packages\\sklearn\\linear_model\\_coordinate_descent.py:617: ConvergenceWarning: Objective did not converge. You might want to increase the number of iterations. Duality gap: 8883686768275.203, tolerance: 184875043672.3557\n",
      "  model = cd_fast.enet_coordinate_descent_gram(\n",
      "C:\\Users\\benja\\mambaforge\\envs\\dsi-sg\\lib\\site-packages\\sklearn\\linear_model\\_coordinate_descent.py:617: ConvergenceWarning: Objective did not converge. You might want to increase the number of iterations. Duality gap: 9739092445256.719, tolerance: 184875043672.3557\n",
      "  model = cd_fast.enet_coordinate_descent_gram(\n",
      "C:\\Users\\benja\\mambaforge\\envs\\dsi-sg\\lib\\site-packages\\sklearn\\linear_model\\_coordinate_descent.py:617: ConvergenceWarning: Objective did not converge. You might want to increase the number of iterations. Duality gap: 17373371557948.797, tolerance: 184875043672.3557\n",
      "  model = cd_fast.enet_coordinate_descent_gram(\n",
      "C:\\Users\\benja\\mambaforge\\envs\\dsi-sg\\lib\\site-packages\\sklearn\\linear_model\\_coordinate_descent.py:617: ConvergenceWarning: Objective did not converge. You might want to increase the number of iterations. Duality gap: 33627104189956.14, tolerance: 184875043672.3557\n",
      "  model = cd_fast.enet_coordinate_descent_gram(\n",
      "C:\\Users\\benja\\mambaforge\\envs\\dsi-sg\\lib\\site-packages\\sklearn\\linear_model\\_coordinate_descent.py:617: ConvergenceWarning: Objective did not converge. You might want to increase the number of iterations. Duality gap: 48535631974798.43, tolerance: 184875043672.3557\n",
      "  model = cd_fast.enet_coordinate_descent_gram(\n",
      "C:\\Users\\benja\\mambaforge\\envs\\dsi-sg\\lib\\site-packages\\sklearn\\linear_model\\_coordinate_descent.py:617: ConvergenceWarning: Objective did not converge. You might want to increase the number of iterations. Duality gap: 59858803354343.73, tolerance: 184875043672.3557\n",
      "  model = cd_fast.enet_coordinate_descent_gram(\n",
      "C:\\Users\\benja\\mambaforge\\envs\\dsi-sg\\lib\\site-packages\\sklearn\\linear_model\\_coordinate_descent.py:617: ConvergenceWarning: Objective did not converge. You might want to increase the number of iterations. Duality gap: 63725600430913.04, tolerance: 184875043672.3557\n",
      "  model = cd_fast.enet_coordinate_descent_gram(\n",
      "C:\\Users\\benja\\mambaforge\\envs\\dsi-sg\\lib\\site-packages\\sklearn\\linear_model\\_coordinate_descent.py:617: ConvergenceWarning: Objective did not converge. You might want to increase the number of iterations. Duality gap: 65551244876724.11, tolerance: 184875043672.3557\n",
      "  model = cd_fast.enet_coordinate_descent_gram(\n",
      "C:\\Users\\benja\\mambaforge\\envs\\dsi-sg\\lib\\site-packages\\sklearn\\linear_model\\_coordinate_descent.py:617: ConvergenceWarning: Objective did not converge. You might want to increase the number of iterations. Duality gap: 25463520141783.016, tolerance: 184083558034.64145\n",
      "  model = cd_fast.enet_coordinate_descent_gram(\n",
      "C:\\Users\\benja\\mambaforge\\envs\\dsi-sg\\lib\\site-packages\\sklearn\\linear_model\\_coordinate_descent.py:617: ConvergenceWarning: Objective did not converge. You might want to increase the number of iterations. Duality gap: 12206772095291.578, tolerance: 184083558034.64145\n",
      "  model = cd_fast.enet_coordinate_descent_gram(\n",
      "C:\\Users\\benja\\mambaforge\\envs\\dsi-sg\\lib\\site-packages\\sklearn\\linear_model\\_coordinate_descent.py:617: ConvergenceWarning: Objective did not converge. You might want to increase the number of iterations. Duality gap: 8574580179538.391, tolerance: 184083558034.64145\n",
      "  model = cd_fast.enet_coordinate_descent_gram(\n",
      "C:\\Users\\benja\\mambaforge\\envs\\dsi-sg\\lib\\site-packages\\sklearn\\linear_model\\_coordinate_descent.py:617: ConvergenceWarning: Objective did not converge. You might want to increase the number of iterations. Duality gap: 9307536540777.61, tolerance: 184083558034.64145\n",
      "  model = cd_fast.enet_coordinate_descent_gram(\n",
      "C:\\Users\\benja\\mambaforge\\envs\\dsi-sg\\lib\\site-packages\\sklearn\\linear_model\\_coordinate_descent.py:617: ConvergenceWarning: Objective did not converge. You might want to increase the number of iterations. Duality gap: 43074353631258.516, tolerance: 184083558034.64145\n",
      "  model = cd_fast.enet_coordinate_descent_gram(\n",
      "C:\\Users\\benja\\mambaforge\\envs\\dsi-sg\\lib\\site-packages\\sklearn\\linear_model\\_coordinate_descent.py:617: ConvergenceWarning: Objective did not converge. You might want to increase the number of iterations. Duality gap: 40536779742121.125, tolerance: 184083558034.64145\n",
      "  model = cd_fast.enet_coordinate_descent_gram(\n",
      "C:\\Users\\benja\\mambaforge\\envs\\dsi-sg\\lib\\site-packages\\sklearn\\linear_model\\_coordinate_descent.py:617: ConvergenceWarning: Objective did not converge. You might want to increase the number of iterations. Duality gap: 51764309210437.234, tolerance: 184083558034.64145\n",
      "  model = cd_fast.enet_coordinate_descent_gram(\n",
      "C:\\Users\\benja\\mambaforge\\envs\\dsi-sg\\lib\\site-packages\\sklearn\\linear_model\\_coordinate_descent.py:617: ConvergenceWarning: Objective did not converge. You might want to increase the number of iterations. Duality gap: 59898628376919.37, tolerance: 184083558034.64145\n",
      "  model = cd_fast.enet_coordinate_descent_gram(\n",
      "C:\\Users\\benja\\mambaforge\\envs\\dsi-sg\\lib\\site-packages\\sklearn\\linear_model\\_coordinate_descent.py:617: ConvergenceWarning: Objective did not converge. You might want to increase the number of iterations. Duality gap: 64131069841553.86, tolerance: 184083558034.64145\n",
      "  model = cd_fast.enet_coordinate_descent_gram(\n",
      "C:\\Users\\benja\\mambaforge\\envs\\dsi-sg\\lib\\site-packages\\sklearn\\linear_model\\_coordinate_descent.py:617: ConvergenceWarning: Objective did not converge. You might want to increase the number of iterations. Duality gap: 65874244250626.4, tolerance: 184083558034.64145\n",
      "  model = cd_fast.enet_coordinate_descent_gram(\n",
      "C:\\Users\\benja\\mambaforge\\envs\\dsi-sg\\lib\\site-packages\\sklearn\\linear_model\\_coordinate_descent.py:631: ConvergenceWarning: Objective did not converge. You might want to increase the number of iterations, check the scale of the features or consider increasing regularisation. Duality gap: 8.497e+13, tolerance: 2.304e+11\n",
      "  model = cd_fast.enet_coordinate_descent(\n"
     ]
    },
    {
     "data": {
      "text/html": [
       "<style>#sk-container-id-2 {color: black;background-color: white;}#sk-container-id-2 pre{padding: 0;}#sk-container-id-2 div.sk-toggleable {background-color: white;}#sk-container-id-2 label.sk-toggleable__label {cursor: pointer;display: block;width: 100%;margin-bottom: 0;padding: 0.3em;box-sizing: border-box;text-align: center;}#sk-container-id-2 label.sk-toggleable__label-arrow:before {content: \"▸\";float: left;margin-right: 0.25em;color: #696969;}#sk-container-id-2 label.sk-toggleable__label-arrow:hover:before {color: black;}#sk-container-id-2 div.sk-estimator:hover label.sk-toggleable__label-arrow:before {color: black;}#sk-container-id-2 div.sk-toggleable__content {max-height: 0;max-width: 0;overflow: hidden;text-align: left;background-color: #f0f8ff;}#sk-container-id-2 div.sk-toggleable__content pre {margin: 0.2em;color: black;border-radius: 0.25em;background-color: #f0f8ff;}#sk-container-id-2 input.sk-toggleable__control:checked~div.sk-toggleable__content {max-height: 200px;max-width: 100%;overflow: auto;}#sk-container-id-2 input.sk-toggleable__control:checked~label.sk-toggleable__label-arrow:before {content: \"▾\";}#sk-container-id-2 div.sk-estimator input.sk-toggleable__control:checked~label.sk-toggleable__label {background-color: #d4ebff;}#sk-container-id-2 div.sk-label input.sk-toggleable__control:checked~label.sk-toggleable__label {background-color: #d4ebff;}#sk-container-id-2 input.sk-hidden--visually {border: 0;clip: rect(1px 1px 1px 1px);clip: rect(1px, 1px, 1px, 1px);height: 1px;margin: -1px;overflow: hidden;padding: 0;position: absolute;width: 1px;}#sk-container-id-2 div.sk-estimator {font-family: monospace;background-color: #f0f8ff;border: 1px dotted black;border-radius: 0.25em;box-sizing: border-box;margin-bottom: 0.5em;}#sk-container-id-2 div.sk-estimator:hover {background-color: #d4ebff;}#sk-container-id-2 div.sk-parallel-item::after {content: \"\";width: 100%;border-bottom: 1px solid gray;flex-grow: 1;}#sk-container-id-2 div.sk-label:hover label.sk-toggleable__label {background-color: #d4ebff;}#sk-container-id-2 div.sk-serial::before {content: \"\";position: absolute;border-left: 1px solid gray;box-sizing: border-box;top: 0;bottom: 0;left: 50%;z-index: 0;}#sk-container-id-2 div.sk-serial {display: flex;flex-direction: column;align-items: center;background-color: white;padding-right: 0.2em;padding-left: 0.2em;position: relative;}#sk-container-id-2 div.sk-item {position: relative;z-index: 1;}#sk-container-id-2 div.sk-parallel {display: flex;align-items: stretch;justify-content: center;background-color: white;position: relative;}#sk-container-id-2 div.sk-item::before, #sk-container-id-2 div.sk-parallel-item::before {content: \"\";position: absolute;border-left: 1px solid gray;box-sizing: border-box;top: 0;bottom: 0;left: 50%;z-index: -1;}#sk-container-id-2 div.sk-parallel-item {display: flex;flex-direction: column;z-index: 1;position: relative;background-color: white;}#sk-container-id-2 div.sk-parallel-item:first-child::after {align-self: flex-end;width: 50%;}#sk-container-id-2 div.sk-parallel-item:last-child::after {align-self: flex-start;width: 50%;}#sk-container-id-2 div.sk-parallel-item:only-child::after {width: 0;}#sk-container-id-2 div.sk-dashed-wrapped {border: 1px dashed gray;margin: 0 0.4em 0.5em 0.4em;box-sizing: border-box;padding-bottom: 0.4em;background-color: white;}#sk-container-id-2 div.sk-label label {font-family: monospace;font-weight: bold;display: inline-block;line-height: 1.2em;}#sk-container-id-2 div.sk-label-container {text-align: center;}#sk-container-id-2 div.sk-container {/* jupyter's `normalize.less` sets `[hidden] { display: none; }` but bootstrap.min.css set `[hidden] { display: none !important; }` so we also need the `!important` here to be able to override the default hidden behavior on the sphinx rendered scikit-learn.org. See: https://github.com/scikit-learn/scikit-learn/issues/21755 */display: inline-block !important;position: relative;}#sk-container-id-2 div.sk-text-repr-fallback {display: none;}</style><div id=\"sk-container-id-2\" class=\"sk-top-container\"><div class=\"sk-text-repr-fallback\"><pre>LassoCV(alphas=array([1.00000000e-03, 2.78255940e-03, 7.74263683e-03, 2.15443469e-02,\n",
       "       5.99484250e-02, 1.66810054e-01, 4.64158883e-01, 1.29154967e+00,\n",
       "       3.59381366e+00, 1.00000000e+01]),\n",
       "        cv=5)</pre><b>In a Jupyter environment, please rerun this cell to show the HTML representation or trust the notebook. <br />On GitHub, the HTML representation is unable to render, please try loading this page with nbviewer.org.</b></div><div class=\"sk-container\" hidden><div class=\"sk-item\"><div class=\"sk-estimator sk-toggleable\"><input class=\"sk-toggleable__control sk-hidden--visually\" id=\"sk-estimator-id-2\" type=\"checkbox\" checked><label for=\"sk-estimator-id-2\" class=\"sk-toggleable__label sk-toggleable__label-arrow\">LassoCV</label><div class=\"sk-toggleable__content\"><pre>LassoCV(alphas=array([1.00000000e-03, 2.78255940e-03, 7.74263683e-03, 2.15443469e-02,\n",
       "       5.99484250e-02, 1.66810054e-01, 4.64158883e-01, 1.29154967e+00,\n",
       "       3.59381366e+00, 1.00000000e+01]),\n",
       "        cv=5)</pre></div></div></div></div></div>"
      ],
      "text/plain": [
       "LassoCV(alphas=array([1.00000000e-03, 2.78255940e-03, 7.74263683e-03, 2.15443469e-02,\n",
       "       5.99484250e-02, 1.66810054e-01, 4.64158883e-01, 1.29154967e+00,\n",
       "       3.59381366e+00, 1.00000000e+01]),\n",
       "        cv=5)"
      ]
     },
     "execution_count": 32,
     "metadata": {},
     "output_type": "execute_result"
    }
   ],
   "source": [
    "l_alphas = np.logspace(-3, 1, 10)\n",
    "\n",
    "lassocv = LassoCV(alphas=l_alphas, cv=5, max_iter=1000)\n",
    "lassocv.fit(Z_train, y_train)"
   ]
  },
  {
   "cell_type": "code",
   "execution_count": 33,
   "id": "64c383f0-53f3-4e3b-a1ce-f1638281c8c1",
   "metadata": {},
   "outputs": [
    {
     "data": {
      "text/plain": [
       "0.001"
      ]
     },
     "execution_count": 33,
     "metadata": {},
     "output_type": "execute_result"
    }
   ],
   "source": [
    "lassocv.alpha_"
   ]
  },
  {
   "cell_type": "code",
   "execution_count": 34,
   "id": "b85d1413-9f43-4af1-94cd-45e07d952a84",
   "metadata": {},
   "outputs": [
    {
     "name": "stderr",
     "output_type": "stream",
     "text": [
      "C:\\Users\\benja\\mambaforge\\envs\\dsi-sg\\lib\\site-packages\\sklearn\\linear_model\\_coordinate_descent.py:631: ConvergenceWarning: Objective did not converge. You might want to increase the number of iterations, check the scale of the features or consider increasing regularisation. Duality gap: 6.788e+13, tolerance: 1.839e+11\n",
      "  model = cd_fast.enet_coordinate_descent(\n",
      "C:\\Users\\benja\\mambaforge\\envs\\dsi-sg\\lib\\site-packages\\sklearn\\linear_model\\_coordinate_descent.py:631: ConvergenceWarning: Objective did not converge. You might want to increase the number of iterations, check the scale of the features or consider increasing regularisation. Duality gap: 6.769e+13, tolerance: 1.839e+11\n",
      "  model = cd_fast.enet_coordinate_descent(\n",
      "C:\\Users\\benja\\mambaforge\\envs\\dsi-sg\\lib\\site-packages\\sklearn\\linear_model\\_coordinate_descent.py:631: ConvergenceWarning: Objective did not converge. You might want to increase the number of iterations, check the scale of the features or consider increasing regularisation. Duality gap: 6.792e+13, tolerance: 1.850e+11\n",
      "  model = cd_fast.enet_coordinate_descent(\n",
      "C:\\Users\\benja\\mambaforge\\envs\\dsi-sg\\lib\\site-packages\\sklearn\\linear_model\\_coordinate_descent.py:631: ConvergenceWarning: Objective did not converge. You might want to increase the number of iterations, check the scale of the features or consider increasing regularisation. Duality gap: 6.819e+13, tolerance: 1.849e+11\n",
      "  model = cd_fast.enet_coordinate_descent(\n",
      "C:\\Users\\benja\\mambaforge\\envs\\dsi-sg\\lib\\site-packages\\sklearn\\linear_model\\_coordinate_descent.py:631: ConvergenceWarning: Objective did not converge. You might want to increase the number of iterations, check the scale of the features or consider increasing regularisation. Duality gap: 6.745e+13, tolerance: 1.841e+11\n",
      "  model = cd_fast.enet_coordinate_descent(\n"
     ]
    },
    {
     "name": "stdout",
     "output_type": "stream",
     "text": [
      "[0.92571281 0.92485418 0.92414614 0.92536617 0.92344554]\n",
      "0.9247049699867944\n"
     ]
    }
   ],
   "source": [
    "#Instantiate the model\n",
    "lasso = Lasso(alpha=lassocv.alpha_)\n",
    "\n",
    "lasso_scores = cross_val_score(lasso, Z_train, y_train)\n",
    "\n",
    "print (lasso_scores)\n",
    "print (np.mean(lasso_scores))"
   ]
  },
  {
   "cell_type": "code",
   "execution_count": 35,
   "id": "0391e665-ffc6-4438-8f56-135b7b20c311",
   "metadata": {},
   "outputs": [
    {
     "name": "stderr",
     "output_type": "stream",
     "text": [
      "C:\\Users\\benja\\mambaforge\\envs\\dsi-sg\\lib\\site-packages\\sklearn\\linear_model\\_coordinate_descent.py:631: ConvergenceWarning: Objective did not converge. You might want to increase the number of iterations, check the scale of the features or consider increasing regularisation. Duality gap: 8.497e+13, tolerance: 2.304e+11\n",
      "  model = cd_fast.enet_coordinate_descent(\n"
     ]
    }
   ],
   "source": [
    "#Retrain ridge\n",
    "lasso.fit(Z_train, y_train)\n",
    "\n",
    "#Generate predictions\n",
    "y_train_preds = lasso.predict(Z_train)\n",
    "y_test_preds = lasso.predict(Z_test)"
   ]
  },
  {
   "cell_type": "code",
   "execution_count": 36,
   "id": "59ac33ba-d8b7-4ab2-82c7-82b86fdb0aaf",
   "metadata": {},
   "outputs": [
    {
     "data": {
      "text/plain": [
       "0.9261502160893221"
      ]
     },
     "execution_count": 36,
     "metadata": {},
     "output_type": "execute_result"
    }
   ],
   "source": [
    "# Train score:\n",
    "lasso_train_score = lasso.score(Z_train, y_train)\n",
    "lasso_train_score"
   ]
  },
  {
   "cell_type": "code",
   "execution_count": 37,
   "id": "ff8e13bf-502e-44fb-a086-d26eb2e3b0ce",
   "metadata": {},
   "outputs": [
    {
     "data": {
      "text/plain": [
       "0.9247308274126094"
      ]
     },
     "execution_count": 37,
     "metadata": {},
     "output_type": "execute_result"
    }
   ],
   "source": [
    "# Test  score:\n",
    "lasso_test_score = lasso.score(Z_test, y_test)\n",
    "lasso_test_score"
   ]
  },
  {
   "cell_type": "code",
   "execution_count": 38,
   "id": "0c7f4207-2443-4c50-8b64-1edd3922001c",
   "metadata": {},
   "outputs": [
    {
     "name": "stdout",
     "output_type": "stream",
     "text": [
      "38922.92367751651\n",
      "39291.32924867723\n"
     ]
    }
   ],
   "source": [
    "#MSE\n",
    "train_MSE = mean_squared_error(y_train, y_train_preds)\n",
    "test_MSE = mean_squared_error(y_test, y_test_preds)\n",
    "#RMSE \n",
    "print(np.sqrt(train_MSE))\n",
    "print(np.sqrt(test_MSE))"
   ]
  },
  {
   "cell_type": "code",
   "execution_count": 39,
   "id": "87bbc874-927b-400b-a951-184caca7d2d0",
   "metadata": {},
   "outputs": [
    {
     "data": {
      "text/html": [
       "<div>\n",
       "<style scoped>\n",
       "    .dataframe tbody tr th:only-of-type {\n",
       "        vertical-align: middle;\n",
       "    }\n",
       "\n",
       "    .dataframe tbody tr th {\n",
       "        vertical-align: top;\n",
       "    }\n",
       "\n",
       "    .dataframe thead th {\n",
       "        text-align: right;\n",
       "    }\n",
       "</style>\n",
       "<table border=\"1\" class=\"dataframe\">\n",
       "  <thead>\n",
       "    <tr style=\"text-align: right;\">\n",
       "      <th></th>\n",
       "      <th>0</th>\n",
       "      <th>1</th>\n",
       "    </tr>\n",
       "  </thead>\n",
       "  <tbody>\n",
       "    <tr>\n",
       "      <th>682</th>\n",
       "      <td>pri_sch_name_Greendale Primary School</td>\n",
       "      <td>2.620115</td>\n",
       "    </tr>\n",
       "    <tr>\n",
       "      <th>863</th>\n",
       "      <td>sec_sch_name_Jurongville Secondary School</td>\n",
       "      <td>30.620776</td>\n",
       "    </tr>\n",
       "    <tr>\n",
       "      <th>549</th>\n",
       "      <td>street_name_YISHUN AVE 6</td>\n",
       "      <td>90.122283</td>\n",
       "    </tr>\n",
       "    <tr>\n",
       "      <th>13</th>\n",
       "      <td>3room_rental</td>\n",
       "      <td>103.369827</td>\n",
       "    </tr>\n",
       "    <tr>\n",
       "      <th>310</th>\n",
       "      <td>street_name_KIM TIAN PL</td>\n",
       "      <td>125.439067</td>\n",
       "    </tr>\n",
       "    <tr>\n",
       "      <th>...</th>\n",
       "      <td>...</td>\n",
       "      <td>...</td>\n",
       "    </tr>\n",
       "    <tr>\n",
       "      <th>333</th>\n",
       "      <td>street_name_MARINE CRES</td>\n",
       "      <td>278768.333303</td>\n",
       "    </tr>\n",
       "    <tr>\n",
       "      <th>334</th>\n",
       "      <td>street_name_MARINE DR</td>\n",
       "      <td>293413.570642</td>\n",
       "    </tr>\n",
       "    <tr>\n",
       "      <th>195</th>\n",
       "      <td>street_name_DOVER CL EAST</td>\n",
       "      <td>301359.634028</td>\n",
       "    </tr>\n",
       "    <tr>\n",
       "      <th>169</th>\n",
       "      <td>street_name_CLARENCE LANE</td>\n",
       "      <td>325401.778038</td>\n",
       "    </tr>\n",
       "    <tr>\n",
       "      <th>590</th>\n",
       "      <td>flat_model_Terrace</td>\n",
       "      <td>425342.791312</td>\n",
       "    </tr>\n",
       "  </tbody>\n",
       "</table>\n",
       "<p>937 rows × 2 columns</p>\n",
       "</div>"
      ],
      "text/plain": [
       "                                             0              1\n",
       "682      pri_sch_name_Greendale Primary School       2.620115\n",
       "863  sec_sch_name_Jurongville Secondary School      30.620776\n",
       "549                   street_name_YISHUN AVE 6      90.122283\n",
       "13                                3room_rental     103.369827\n",
       "310                    street_name_KIM TIAN PL     125.439067\n",
       "..                                         ...            ...\n",
       "333                    street_name_MARINE CRES  278768.333303\n",
       "334                      street_name_MARINE DR  293413.570642\n",
       "195                  street_name_DOVER CL EAST  301359.634028\n",
       "169                  street_name_CLARENCE LANE  325401.778038\n",
       "590                         flat_model_Terrace  425342.791312\n",
       "\n",
       "[937 rows x 2 columns]"
      ]
     },
     "execution_count": 39,
     "metadata": {},
     "output_type": "execute_result"
    }
   ],
   "source": [
    "coefs_df = pd.DataFrame(list(zip(Z_train.columns, abs(lassocv.coef_))))\n",
    "coefs_df.sort_values(by = 1, ascending = True)"
   ]
  },
  {
   "cell_type": "markdown",
   "id": "590dc7b3-e49f-4ec0-be8f-64dce6fff557",
   "metadata": {},
   "source": [
    "### Results Analysis"
   ]
  },
  {
   "cell_type": "markdown",
   "id": "3a844729-d267-4fcd-a4a8-7f1090d41ee9",
   "metadata": {},
   "source": [
    "| Version | Score Description | Linear Regression | Ridge Regression | Lasso Regression |\r\n",
    "|---------|-------------------|-------------------|------------------|------------------|\r\n",
    "| V1      | Train Score       | 0.92618           | 0.92618          | 0.92615          |\r\n",
    "| V1      | Test Score        | -6846639454563    | 0.92476          | 0.92473          |\r\n",
    "| V1      | Train RMSE        | 38915.20          | 38915.67         | 38922.83         |\r\n",
    "| V1      | Test RMSE         | 374737262352      | 39283.65         | 39291.22         |\r\n",
    "| V2      | Train Score       | 0.92618           | 0.92618          | 0.92615          |\r\n",
    "| V2      | Test Score        | -267759160690952  | 0.92476          | 0.92473          |\r\n",
    "| V2      | Train RMSE        | 38915.30          | 38915.67         | 38922.92         |\r\n",
    "| V2      | Test RMSE         | 2343474971158     | 39283.65         | 39291.33         |"
   ]
  },
  {
   "cell_type": "markdown",
   "id": "6e58174a-a2c3-46eb-8017-2cbba1d3c62d",
   "metadata": {},
   "source": [
    "Similar to v1, trying to account for a small feature does not really remove the discrepant results and the scores barely made any difference.\n",
    "\n",
    "In this iteration, in order to more aggresive reduce the features, an additonal modeling in the form of Ordinary Least Squares (OLS) is done on the numeric features to determine if there is any that can be dropped.\n",
    "\n",
    "With a the a p-value threshold of > 0.005 since it would be that with 99.5% confidence that the features are not having an impact and may be dropped in the next iteration.\n"
   ]
  },
  {
   "cell_type": "markdown",
   "id": "dee7bf4b-4e95-4e25-aeff-6cd97120563d",
   "metadata": {},
   "source": [
    "# Pickling in progress"
   ]
  },
  {
   "cell_type": "code",
   "execution_count": 40,
   "id": "a7957250-8e78-42f3-9712-0e0cb64e8158",
   "metadata": {},
   "outputs": [],
   "source": [
    "import pickle"
   ]
  },
  {
   "cell_type": "code",
   "execution_count": 41,
   "id": "935efbf5-fcbf-47d9-a42e-1bf017bd10d1",
   "metadata": {},
   "outputs": [],
   "source": [
    "pickle.dump(lr, open('lr.pkl', 'wb'))"
   ]
  },
  {
   "cell_type": "code",
   "execution_count": 42,
   "id": "ae80f6c3-4498-476c-b86a-86d2f4d19a95",
   "metadata": {},
   "outputs": [],
   "source": [
    "pickle.dump(ridgecv, open('ridgecv.pkl', 'wb'))"
   ]
  },
  {
   "cell_type": "code",
   "execution_count": 43,
   "id": "95ec9259-d916-48c3-8137-d2760323a863",
   "metadata": {},
   "outputs": [],
   "source": [
    "pickle.dump(lassocv, open('lassocv.pkl', 'wb'))"
   ]
  },
  {
   "cell_type": "code",
   "execution_count": null,
   "id": "840c325f-c941-44a4-a88d-f06cd368ceb6",
   "metadata": {},
   "outputs": [],
   "source": []
  }
 ],
 "metadata": {
  "kernelspec": {
   "display_name": "Python 3 (ipykernel)",
   "language": "python",
   "name": "python3"
  },
  "language_info": {
   "codemirror_mode": {
    "name": "ipython",
    "version": 3
   },
   "file_extension": ".py",
   "mimetype": "text/x-python",
   "name": "python",
   "nbconvert_exporter": "python",
   "pygments_lexer": "ipython3",
   "version": "3.8.17"
  }
 },
 "nbformat": 4,
 "nbformat_minor": 5
}
