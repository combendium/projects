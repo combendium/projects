{
 "cells": [
  {
   "cell_type": "markdown",
   "id": "a98d375f-3ca7-41e9-bab4-a05f74db5272",
   "metadata": {},
   "source": [
    "<img src=\"http://imgur.com/1ZcRyrc.png\" style=\"float: left; margin: 20px; height: 55px\"> \n",
    "\n",
    "# Project 2: Singapore Housing Data and Kaggle Challenge"
   ]
  },
  {
   "cell_type": "markdown",
   "id": "4a8ff5bc-6e06-4761-837b-e1ee170af9b4",
   "metadata": {},
   "source": [
    "--- \n",
    "# Part 2 Modeling and refining\n",
    "---"
   ]
  },
  {
   "cell_type": "markdown",
   "id": "c7360e1a-9802-4df8-99e7-7fcec197966d",
   "metadata": {},
   "source": [
    "# Contents:\n",
    "- [Problem Statement](#Problem-Statement)\n",
    "- [All imports](#All-imports)\n",
    "- [Preprocessing](#Preprocessing)\n",
    "- [Data Dictionary](#Data-Dictionary)\n",
    "- [Train-Test Split](#Train-Test-Split)\n",
    "- [Linear Regression](#Linear-Regression)\n",
    "- [Ridge Regression](#Ridge-Regression)\n",
    "- [Lasso Regression](#Lasso-Regression)\n",
    "- [Predictions](#Predictions)"
   ]
  },
  {
   "cell_type": "markdown",
   "id": "907483bc-d727-4bdd-b78c-379290cf900a",
   "metadata": {
    "jp-MarkdownHeadingCollapsed": true
   },
   "source": [
    "## Problem Statement"
   ]
  },
  {
   "cell_type": "markdown",
   "id": "d5bc0d96-43e3-4634-a4d1-6997289a4c4b",
   "metadata": {},
   "source": [
    "Housing pricing affects the decision making process of buyers in their assessment of the unit. This project attempts to build a linear regression model, using the data contain in the dataset folder. The goal is to have the model accurately predict the sales price of the houses in the test set, which will be evaluated based on common evaluation metrics such as R2 and RMSE.\n",
    "This will give those who are impacted by housing prices, e.g. owners, buyers and agents additional data to inform their own decision making process. "
   ]
  },
  {
   "cell_type": "markdown",
   "id": "b7757f48-5a08-4d78-ba06-b94a4f9233a7",
   "metadata": {},
   "source": [
    "## All imports\n",
    "Libraries and data imports"
   ]
  },
  {
   "cell_type": "code",
   "execution_count": 57,
   "id": "83dfe51f-5db8-4607-a154-f91bce39c437",
   "metadata": {},
   "outputs": [],
   "source": [
    "# Imports:\n",
    "import numpy as np\n",
    "import pandas as pd\n",
    "import os\n",
    "import matplotlib.pyplot as plt\n",
    "import seaborn as sns\n",
    "\n",
    "from sklearn.linear_model import LinearRegression, LassoCV, Lasso, RidgeCV, Ridge\n",
    "from sklearn.preprocessing import StandardScaler, OneHotEncoder, PolynomialFeatures, PowerTransformer\n",
    "from sklearn.model_selection import train_test_split, cross_val_score, cross_val_predict\n",
    "from sklearn.metrics import r2_score, mean_squared_error\n",
    "import statsmodels.api as sm"
   ]
  },
  {
   "cell_type": "code",
   "execution_count": 58,
   "id": "9d619f91-1eb4-4315-ba73-64321e3cddc0",
   "metadata": {},
   "outputs": [],
   "source": [
    "df = pd.read_csv('../../data/output/cleaner_train.csv')"
   ]
  },
  {
   "cell_type": "code",
   "execution_count": 59,
   "id": "cf8817c2-105d-4d77-a61f-8627328bc2e6",
   "metadata": {},
   "outputs": [
    {
     "name": "stdout",
     "output_type": "stream",
     "text": [
      "<class 'pandas.core.frame.DataFrame'>\n",
      "RangeIndex: 149772 entries, 0 to 149771\n",
      "Data columns (total 45 columns):\n",
      " #   Column                     Non-Null Count   Dtype  \n",
      "---  ------                     --------------   -----  \n",
      " 0   flat_type                  149772 non-null  object \n",
      " 1   street_name                149772 non-null  object \n",
      " 2   floor_area_sqm             149772 non-null  float64\n",
      " 3   flat_model                 149772 non-null  object \n",
      " 4   lease_commence_date        149772 non-null  int64  \n",
      " 5   resale_price               149772 non-null  float64\n",
      " 6   Tranc_Year                 149772 non-null  int64  \n",
      " 7   Tranc_Month                149772 non-null  int64  \n",
      " 8   mid                        149772 non-null  int64  \n",
      " 9   max_floor_lvl              149772 non-null  int64  \n",
      " 10  commercial                 149772 non-null  int64  \n",
      " 11  market_hawker              149772 non-null  int64  \n",
      " 12  multistorey_carpark        149772 non-null  int64  \n",
      " 13  precinct_pavilion          149772 non-null  int64  \n",
      " 14  total_dwelling_units       149772 non-null  int64  \n",
      " 15  1room_sold                 149772 non-null  int64  \n",
      " 16  2room_sold                 149772 non-null  int64  \n",
      " 17  3room_sold                 149772 non-null  int64  \n",
      " 18  4room_sold                 149772 non-null  int64  \n",
      " 19  5room_sold                 149772 non-null  int64  \n",
      " 20  exec_sold                  149772 non-null  int64  \n",
      " 21  multigen_sold              149772 non-null  int64  \n",
      " 22  studio_apartment_sold      149772 non-null  int64  \n",
      " 23  1room_rental               149772 non-null  int64  \n",
      " 24  2room_rental               149772 non-null  int64  \n",
      " 25  3room_rental               149772 non-null  int64  \n",
      " 26  other_room_rental          149772 non-null  int64  \n",
      " 27  planning_area              149772 non-null  object \n",
      " 28  Mall_Nearest_Distance      149772 non-null  float64\n",
      " 29  Mall_Within_500m           149772 non-null  float64\n",
      " 30  Mall_Within_1km            149772 non-null  float64\n",
      " 31  Mall_Within_2km            149772 non-null  float64\n",
      " 32  Hawker_Nearest_Distance    149772 non-null  float64\n",
      " 33  Hawker_Within_500m         149772 non-null  float64\n",
      " 34  Hawker_Within_1km          149772 non-null  float64\n",
      " 35  Hawker_Within_2km          149772 non-null  float64\n",
      " 36  mrt_nearest_distance       149772 non-null  float64\n",
      " 37  bus_interchange            149772 non-null  int64  \n",
      " 38  mrt_interchange            149772 non-null  int64  \n",
      " 39  bus_stop_nearest_distance  149772 non-null  float64\n",
      " 40  pri_sch_nearest_distance   149772 non-null  float64\n",
      " 41  pri_sch_name               149772 non-null  object \n",
      " 42  pri_sch_affiliation        149772 non-null  int64  \n",
      " 43  sec_sch_name               149772 non-null  object \n",
      " 44  cutoff_point               149772 non-null  int64  \n",
      "dtypes: float64(13), int64(26), object(6)\n",
      "memory usage: 51.4+ MB\n"
     ]
    }
   ],
   "source": [
    "df.info()"
   ]
  },
  {
   "cell_type": "markdown",
   "id": "daef33c7-9f02-4eed-a89c-b4293f68fc80",
   "metadata": {},
   "source": [
    "## Preprocessing\n",
    "- Train-Test split - Split to trian set and hold out 'test' set.\n",
    "- Numerical transformation - Standard scalar of numerical values with a range of values.\n",
    "- Categorical transformation - One hot encoding of object categories"
   ]
  },
  {
   "cell_type": "markdown",
   "id": "e5766865-b4e8-4928-80be-579a81bd19f9",
   "metadata": {},
   "source": [
    "### Initial Feature engineering"
   ]
  },
  {
   "cell_type": "markdown",
   "id": "df94d63d-08c7-45dd-ae06-8ad542e81ae1",
   "metadata": {},
   "source": [
    "As mentioned in Part1 (EDA), some features would have to engineered, e.g. remaining lease at point of sale could be combined to hopefully increase the fit of the feature. However, for the first iteration, it would be run as is in its two party component 'lease_commence_date' and 'Tranc_Year'"
   ]
  },
  {
   "cell_type": "markdown",
   "id": "834f2fb9-eef8-4cbb-83cb-220e76616b11",
   "metadata": {},
   "source": [
    "### Data Dictionary"
   ]
  },
  {
   "cell_type": "markdown",
   "id": "dba42584-cf8f-4eb6-b553-344a1a4f9172",
   "metadata": {},
   "source": [
    "|        Feature Name       |                        Feature Description per data source                        |\r\n",
    "|:-------------------------:|:---------------------------------------------------------------------------------:|\r\n",
    "| resale_price              | the property's sale price in Singapore dollars. This is the target variable.      |\r\n",
    "| flat_type                 |  type of the resale flat unit, e.g.   3 ROOM                                      |\r\n",
    "| street_name               |  street name where the resale flat   resides, e.g. TAMPINES ST 42                 |\r\n",
    "| floor_area_sqm            |  floor area of the resale flat unit   in square metres                            |\r\n",
    "| flat_model                |  HDB model of the resale flat, e.g.   Multi Generation                            |\r\n",
    "| lease_commence_date       |  commencement year of the flat   unit's 99-year lease                             |\r\n",
    "| Tranc_Year                |  year of resale transaction                                                       |\r\n",
    "| Tranc_Month               |  month of resale transaction                                                      |\r\n",
    "| mid                       |  middle value of storey_range                                                     |\r\n",
    "| max_floor_lvl             |  highest floor of the resale flat                                                 |\r\n",
    "| commercial                |  boolean value if resale flat has   commercial units in the same block            |\r\n",
    "| market_hawker             |  boolean value if resale flat has a   market or hawker centre in the same block   |\r\n",
    "| multistorey_carpark       |  boolean value if resale flat has a   multistorey carpark in the same block       |\r\n",
    "| precinct_pavilion         |  boolean value if resale flat has a   pavilion in the same block                  |\r\n",
    "| total_dwelling_units      |  total number of residential   dwelling units in the resale flat                  |\r\n",
    "| 1room_sold                |  number of 1-room residential units   in the resale flat                          |\r\n",
    "| 2room_sold                |  number of 2-room residential units   in the resale flat                          |\r\n",
    "| 3room_sold                |  number of 3-room residential units   in the resale flat                          |\r\n",
    "| 4room_sold                |  number of 4-room residential units   in the resale flat                          |\r\n",
    "| 5room_sold                |  number of 5-room residential units   in the resale flat                          |\r\n",
    "| exec_sold                 |  number of executive type   residential units in the resale flat block            |\r\n",
    "| multigen_sold             |  number of multi-generational type   residential units in the resale flat block   |\r\n",
    "| studio_apartment_sold     |  number of studio apartment type   residential units in the resale flat block     |\r\n",
    "| 1room_rental              |  number of 1-room rental   residential units in the resale flat block             |\r\n",
    "| 2room_rental              |  number of 2-room rental   residential units in the resale flat block             |\r\n",
    "| 3room_rental              |  number of 3-room rental   residential units in the resale flat block             |\r\n",
    "| other_room_rental         |  number of \"other\" type   rental residential units in the resale flat block       |\r\n",
    "| planning_area             |  Government planning area that the   flat is located                              |\r\n",
    "| Mall_Nearest_Distance     |  distance (in metres) to the   nearest mall                                       |\r\n",
    "| Mall_Within_500m          |  number of malls within 500 metres                                                |\r\n",
    "| Mall_Within_1km           |  number of malls within 1 kilometre                                               |\r\n",
    "| Mall_Within_2km           |  number of malls within 2   kilometres                                            |\r\n",
    "| Hawker_Nearest_Distance   |  distance (in metres) to the   nearest hawker centre                              |\r\n",
    "| Hawker_Within_500m        |  number of hawker centres within   500 metres                                     |\r\n",
    "| Hawker_Within_1km         |  number of hawker centres within 1   kilometre                                    |\r\n",
    "| Hawker_Within_2km         |  number of hawker centres within 2   kilometres                                   |\r\n",
    "| mrt_nearest_distance      |  distance (in metres) to the   nearest MRT station                                |\r\n",
    "| bus_interchange           |  boolean value if the nearest MRT   station is also a bus interchange             |\r\n",
    "| mrt_interchange           |  boolean value if the nearest MRT   station is a train interchange station        |\r\n",
    "| bus_stop_nearest_distance |  distance (in metres) to the   nearest bus stop                                   |\r\n",
    "| pri_sch_nearest_distance  |  distance (in metres) to the   nearest primary school                             |\r\n",
    "| pri_sch_name              |  name of the nearest primary school                                               |\r\n",
    "| pri_sch_affiliation       |  boolean value if the nearest   primary school has a secondary school affiliation |\r\n",
    "| sec_sch_name              |  name of the nearest secondary   school                                           |\r\n",
    "| cutoff_point              |  PSLE cutoff point of the nearest   secondary school                              |"
   ]
  },
  {
   "cell_type": "markdown",
   "id": "01d8e2fa-d592-4588-995a-ad85c69fcb01",
   "metadata": {},
   "source": [
    "### Train-Test Split\n",
    "The dataframe is split into a train set and a hold out 'test' set. <br>\n",
    "As was done in the EDA, the features are split into numerical and caategorical for processing before combining back later on."
   ]
  },
  {
   "cell_type": "code",
   "execution_count": 60,
   "id": "1c33270a-7f75-4c07-a8ca-8567be3d0279",
   "metadata": {},
   "outputs": [],
   "source": [
    "features = df.columns.to_list()\n",
    "features.remove('resale_price')"
   ]
  },
  {
   "cell_type": "code",
   "execution_count": 61,
   "id": "623988fc-d7da-4140-9d36-4c640273cf82",
   "metadata": {},
   "outputs": [],
   "source": [
    "#Create features matrix (X) and target vector (y)\n",
    "y = df['resale_price']\n",
    "X = df[features]"
   ]
  },
  {
   "cell_type": "code",
   "execution_count": 62,
   "id": "f801a2c5-c8ed-4723-8d2d-14498fddcae5",
   "metadata": {},
   "outputs": [],
   "source": [
    "#train-test split\n",
    "X_train, X_test, y_train, y_test = train_test_split(X, y, random_state=123)"
   ]
  },
  {
   "cell_type": "markdown",
   "id": "61f18665-30ae-405f-8ec9-90235c52511b",
   "metadata": {},
   "source": [
    "### Numerical features\n",
    "Standard scalar will be applied scale the individual features for modelling since there is a wide range of values within."
   ]
  },
  {
   "cell_type": "code",
   "execution_count": 63,
   "id": "81576fe1-bce7-40be-b66d-2a0c858c2087",
   "metadata": {},
   "outputs": [],
   "source": [
    "cat_feat = ['flat_type', 'street_name', 'flat_model', 'commercial', 'market_hawker',   \n",
    "            'multistorey_carpark', 'precinct_pavilion', 'planning_area', 'bus_interchange', \n",
    "            'mrt_interchange', 'pri_sch_name', 'pri_sch_affiliation', 'sec_sch_name'\n",
    "           ]\n",
    "num_feat = list(set(features) - set(cat_feat))"
   ]
  },
  {
   "cell_type": "code",
   "execution_count": 64,
   "id": "c6591ff3-133a-49ab-a868-137a5efcb62a",
   "metadata": {},
   "outputs": [],
   "source": [
    "# use sklearn StandardScaler for train set\n",
    "ss = StandardScaler()\n",
    "X_train_num_scaled = pd.DataFrame(ss.fit_transform(X_train[num_feat]))\n",
    "X_test_num_scaled = pd.DataFrame(ss.transform(X_test[num_feat]))\n",
    "X_train_num_scaled.columns = X_train[num_feat].columns\n",
    "X_test_num_scaled.columns = X_test[num_feat].columns"
   ]
  },
  {
   "cell_type": "code",
   "execution_count": 65,
   "id": "d11ce23d-2863-4abd-b5dd-ba0bc1dbeafe",
   "metadata": {},
   "outputs": [
    {
     "data": {
      "text/html": [
       "<div>\n",
       "<style scoped>\n",
       "    .dataframe tbody tr th:only-of-type {\n",
       "        vertical-align: middle;\n",
       "    }\n",
       "\n",
       "    .dataframe tbody tr th {\n",
       "        vertical-align: top;\n",
       "    }\n",
       "\n",
       "    .dataframe thead th {\n",
       "        text-align: right;\n",
       "    }\n",
       "</style>\n",
       "<table border=\"1\" class=\"dataframe\">\n",
       "  <thead>\n",
       "    <tr style=\"text-align: right;\">\n",
       "      <th></th>\n",
       "      <th>Mall_Within_500m</th>\n",
       "      <th>bus_stop_nearest_distance</th>\n",
       "      <th>Hawker_Nearest_Distance</th>\n",
       "      <th>1room_sold</th>\n",
       "      <th>4room_sold</th>\n",
       "      <th>1room_rental</th>\n",
       "      <th>studio_apartment_sold</th>\n",
       "      <th>lease_commence_date</th>\n",
       "      <th>Hawker_Within_500m</th>\n",
       "      <th>2room_rental</th>\n",
       "      <th>...</th>\n",
       "      <th>3room_rental</th>\n",
       "      <th>Mall_Nearest_Distance</th>\n",
       "      <th>3room_sold</th>\n",
       "      <th>total_dwelling_units</th>\n",
       "      <th>exec_sold</th>\n",
       "      <th>Mall_Within_1km</th>\n",
       "      <th>Hawker_Within_1km</th>\n",
       "      <th>max_floor_lvl</th>\n",
       "      <th>mrt_nearest_distance</th>\n",
       "      <th>multigen_sold</th>\n",
       "    </tr>\n",
       "  </thead>\n",
       "  <tbody>\n",
       "    <tr>\n",
       "      <th>0</th>\n",
       "      <td>-0.671314</td>\n",
       "      <td>0.043367</td>\n",
       "      <td>-0.231896</td>\n",
       "      <td>-0.024062</td>\n",
       "      <td>-0.483135</td>\n",
       "      <td>-0.031834</td>\n",
       "      <td>-0.082435</td>\n",
       "      <td>0.389746</td>\n",
       "      <td>-0.639332</td>\n",
       "      <td>-0.056527</td>\n",
       "      <td>...</td>\n",
       "      <td>-0.090780</td>\n",
       "      <td>0.697390</td>\n",
       "      <td>-0.572480</td>\n",
       "      <td>-0.696521</td>\n",
       "      <td>-0.310921</td>\n",
       "      <td>0.142231</td>\n",
       "      <td>-0.241507</td>\n",
       "      <td>-0.017258</td>\n",
       "      <td>1.217885</td>\n",
       "      <td>-0.023618</td>\n",
       "    </tr>\n",
       "    <tr>\n",
       "      <th>1</th>\n",
       "      <td>3.424053</td>\n",
       "      <td>-0.552277</td>\n",
       "      <td>0.082751</td>\n",
       "      <td>-0.024062</td>\n",
       "      <td>-0.040249</td>\n",
       "      <td>-0.031834</td>\n",
       "      <td>-0.082435</td>\n",
       "      <td>0.555643</td>\n",
       "      <td>-0.639332</td>\n",
       "      <td>-0.056527</td>\n",
       "      <td>...</td>\n",
       "      <td>-0.090780</td>\n",
       "      <td>-1.295222</td>\n",
       "      <td>-0.572480</td>\n",
       "      <td>0.674524</td>\n",
       "      <td>-0.310921</td>\n",
       "      <td>1.548442</td>\n",
       "      <td>-0.824898</td>\n",
       "      <td>2.401785</td>\n",
       "      <td>-1.182624</td>\n",
       "      <td>-0.023618</td>\n",
       "    </tr>\n",
       "    <tr>\n",
       "      <th>2</th>\n",
       "      <td>0.693809</td>\n",
       "      <td>-0.215541</td>\n",
       "      <td>0.134040</td>\n",
       "      <td>-0.024062</td>\n",
       "      <td>-1.103175</td>\n",
       "      <td>-0.031834</td>\n",
       "      <td>-0.082435</td>\n",
       "      <td>-0.356790</td>\n",
       "      <td>-0.639332</td>\n",
       "      <td>-0.056527</td>\n",
       "      <td>...</td>\n",
       "      <td>-0.090780</td>\n",
       "      <td>-0.869960</td>\n",
       "      <td>-0.572480</td>\n",
       "      <td>-1.107834</td>\n",
       "      <td>2.824966</td>\n",
       "      <td>-0.560874</td>\n",
       "      <td>-0.824898</td>\n",
       "      <td>-0.662337</td>\n",
       "      <td>-1.174373</td>\n",
       "      <td>-0.023618</td>\n",
       "    </tr>\n",
       "    <tr>\n",
       "      <th>3</th>\n",
       "      <td>0.693809</td>\n",
       "      <td>-0.772176</td>\n",
       "      <td>-0.757778</td>\n",
       "      <td>-0.024062</td>\n",
       "      <td>-0.616000</td>\n",
       "      <td>-0.031834</td>\n",
       "      <td>-0.082435</td>\n",
       "      <td>-0.854482</td>\n",
       "      <td>1.958586</td>\n",
       "      <td>-0.056527</td>\n",
       "      <td>...</td>\n",
       "      <td>-0.090780</td>\n",
       "      <td>-0.603098</td>\n",
       "      <td>1.020995</td>\n",
       "      <td>0.126106</td>\n",
       "      <td>-0.310921</td>\n",
       "      <td>-0.560874</td>\n",
       "      <td>0.341884</td>\n",
       "      <td>-0.501067</td>\n",
       "      <td>-0.293837</td>\n",
       "      <td>-0.023618</td>\n",
       "    </tr>\n",
       "    <tr>\n",
       "      <th>4</th>\n",
       "      <td>-0.671314</td>\n",
       "      <td>-0.251724</td>\n",
       "      <td>-0.699184</td>\n",
       "      <td>-0.024062</td>\n",
       "      <td>0.004040</td>\n",
       "      <td>-0.031834</td>\n",
       "      <td>-0.082435</td>\n",
       "      <td>-0.771533</td>\n",
       "      <td>0.659627</td>\n",
       "      <td>-0.056527</td>\n",
       "      <td>...</td>\n",
       "      <td>1.455899</td>\n",
       "      <td>0.620261</td>\n",
       "      <td>0.716786</td>\n",
       "      <td>0.263210</td>\n",
       "      <td>-0.310921</td>\n",
       "      <td>-0.560874</td>\n",
       "      <td>0.341884</td>\n",
       "      <td>-0.662337</td>\n",
       "      <td>0.022902</td>\n",
       "      <td>-0.023618</td>\n",
       "    </tr>\n",
       "    <tr>\n",
       "      <th>...</th>\n",
       "      <td>...</td>\n",
       "      <td>...</td>\n",
       "      <td>...</td>\n",
       "      <td>...</td>\n",
       "      <td>...</td>\n",
       "      <td>...</td>\n",
       "      <td>...</td>\n",
       "      <td>...</td>\n",
       "      <td>...</td>\n",
       "      <td>...</td>\n",
       "      <td>...</td>\n",
       "      <td>...</td>\n",
       "      <td>...</td>\n",
       "      <td>...</td>\n",
       "      <td>...</td>\n",
       "      <td>...</td>\n",
       "      <td>...</td>\n",
       "      <td>...</td>\n",
       "      <td>...</td>\n",
       "      <td>...</td>\n",
       "      <td>...</td>\n",
       "    </tr>\n",
       "    <tr>\n",
       "      <th>112324</th>\n",
       "      <td>-0.671314</td>\n",
       "      <td>-1.542915</td>\n",
       "      <td>-0.944423</td>\n",
       "      <td>-0.024062</td>\n",
       "      <td>1.022677</td>\n",
       "      <td>-0.031834</td>\n",
       "      <td>-0.082435</td>\n",
       "      <td>1.136283</td>\n",
       "      <td>0.659627</td>\n",
       "      <td>-0.056527</td>\n",
       "      <td>...</td>\n",
       "      <td>-0.090780</td>\n",
       "      <td>1.166863</td>\n",
       "      <td>-0.572480</td>\n",
       "      <td>0.297487</td>\n",
       "      <td>-0.310921</td>\n",
       "      <td>-1.263980</td>\n",
       "      <td>0.925274</td>\n",
       "      <td>1.595437</td>\n",
       "      <td>-1.011052</td>\n",
       "      <td>-0.023618</td>\n",
       "    </tr>\n",
       "    <tr>\n",
       "      <th>112325</th>\n",
       "      <td>-0.671314</td>\n",
       "      <td>-0.028837</td>\n",
       "      <td>-0.869708</td>\n",
       "      <td>-0.024062</td>\n",
       "      <td>-1.103175</td>\n",
       "      <td>-0.031834</td>\n",
       "      <td>-0.082435</td>\n",
       "      <td>-1.352173</td>\n",
       "      <td>0.659627</td>\n",
       "      <td>-0.056527</td>\n",
       "      <td>...</td>\n",
       "      <td>-0.090780</td>\n",
       "      <td>0.963408</td>\n",
       "      <td>2.411663</td>\n",
       "      <td>1.411460</td>\n",
       "      <td>-0.310921</td>\n",
       "      <td>-1.263980</td>\n",
       "      <td>-0.241507</td>\n",
       "      <td>-0.178528</td>\n",
       "      <td>0.711000</td>\n",
       "      <td>-0.023618</td>\n",
       "    </tr>\n",
       "    <tr>\n",
       "      <th>112326</th>\n",
       "      <td>-0.671314</td>\n",
       "      <td>1.086486</td>\n",
       "      <td>-0.758644</td>\n",
       "      <td>-0.024062</td>\n",
       "      <td>3.547125</td>\n",
       "      <td>-0.031834</td>\n",
       "      <td>-0.082435</td>\n",
       "      <td>-1.269224</td>\n",
       "      <td>1.958586</td>\n",
       "      <td>-0.056527</td>\n",
       "      <td>...</td>\n",
       "      <td>-0.090780</td>\n",
       "      <td>0.180434</td>\n",
       "      <td>-0.572480</td>\n",
       "      <td>1.462875</td>\n",
       "      <td>-0.310921</td>\n",
       "      <td>-0.560874</td>\n",
       "      <td>1.508665</td>\n",
       "      <td>0.144011</td>\n",
       "      <td>0.514377</td>\n",
       "      <td>-0.023618</td>\n",
       "    </tr>\n",
       "    <tr>\n",
       "      <th>112327</th>\n",
       "      <td>-0.671314</td>\n",
       "      <td>1.057931</td>\n",
       "      <td>-0.770636</td>\n",
       "      <td>-0.024062</td>\n",
       "      <td>-0.616000</td>\n",
       "      <td>-0.031834</td>\n",
       "      <td>-0.082435</td>\n",
       "      <td>-1.352173</td>\n",
       "      <td>1.958586</td>\n",
       "      <td>-0.056527</td>\n",
       "      <td>...</td>\n",
       "      <td>-0.090780</td>\n",
       "      <td>1.086927</td>\n",
       "      <td>1.281745</td>\n",
       "      <td>0.468867</td>\n",
       "      <td>-0.258656</td>\n",
       "      <td>-1.263980</td>\n",
       "      <td>0.925274</td>\n",
       "      <td>-0.501067</td>\n",
       "      <td>-0.683963</td>\n",
       "      <td>-0.023618</td>\n",
       "    </tr>\n",
       "    <tr>\n",
       "      <th>112328</th>\n",
       "      <td>-0.671314</td>\n",
       "      <td>-0.145652</td>\n",
       "      <td>0.465665</td>\n",
       "      <td>-0.024062</td>\n",
       "      <td>-0.748866</td>\n",
       "      <td>-0.031834</td>\n",
       "      <td>-0.082435</td>\n",
       "      <td>0.721540</td>\n",
       "      <td>-0.639332</td>\n",
       "      <td>-0.056527</td>\n",
       "      <td>...</td>\n",
       "      <td>-0.090780</td>\n",
       "      <td>0.519702</td>\n",
       "      <td>-0.572480</td>\n",
       "      <td>-0.302345</td>\n",
       "      <td>-0.310921</td>\n",
       "      <td>0.142231</td>\n",
       "      <td>-0.824898</td>\n",
       "      <td>0.144011</td>\n",
       "      <td>0.428496</td>\n",
       "      <td>-0.023618</td>\n",
       "    </tr>\n",
       "  </tbody>\n",
       "</table>\n",
       "<p>112329 rows × 31 columns</p>\n",
       "</div>"
      ],
      "text/plain": [
       "        Mall_Within_500m  bus_stop_nearest_distance  Hawker_Nearest_Distance  \\\n",
       "0              -0.671314                   0.043367                -0.231896   \n",
       "1               3.424053                  -0.552277                 0.082751   \n",
       "2               0.693809                  -0.215541                 0.134040   \n",
       "3               0.693809                  -0.772176                -0.757778   \n",
       "4              -0.671314                  -0.251724                -0.699184   \n",
       "...                  ...                        ...                      ...   \n",
       "112324         -0.671314                  -1.542915                -0.944423   \n",
       "112325         -0.671314                  -0.028837                -0.869708   \n",
       "112326         -0.671314                   1.086486                -0.758644   \n",
       "112327         -0.671314                   1.057931                -0.770636   \n",
       "112328         -0.671314                  -0.145652                 0.465665   \n",
       "\n",
       "        1room_sold  4room_sold  1room_rental  studio_apartment_sold  \\\n",
       "0        -0.024062   -0.483135     -0.031834              -0.082435   \n",
       "1        -0.024062   -0.040249     -0.031834              -0.082435   \n",
       "2        -0.024062   -1.103175     -0.031834              -0.082435   \n",
       "3        -0.024062   -0.616000     -0.031834              -0.082435   \n",
       "4        -0.024062    0.004040     -0.031834              -0.082435   \n",
       "...            ...         ...           ...                    ...   \n",
       "112324   -0.024062    1.022677     -0.031834              -0.082435   \n",
       "112325   -0.024062   -1.103175     -0.031834              -0.082435   \n",
       "112326   -0.024062    3.547125     -0.031834              -0.082435   \n",
       "112327   -0.024062   -0.616000     -0.031834              -0.082435   \n",
       "112328   -0.024062   -0.748866     -0.031834              -0.082435   \n",
       "\n",
       "        lease_commence_date  Hawker_Within_500m  2room_rental  ...  \\\n",
       "0                  0.389746           -0.639332     -0.056527  ...   \n",
       "1                  0.555643           -0.639332     -0.056527  ...   \n",
       "2                 -0.356790           -0.639332     -0.056527  ...   \n",
       "3                 -0.854482            1.958586     -0.056527  ...   \n",
       "4                 -0.771533            0.659627     -0.056527  ...   \n",
       "...                     ...                 ...           ...  ...   \n",
       "112324             1.136283            0.659627     -0.056527  ...   \n",
       "112325            -1.352173            0.659627     -0.056527  ...   \n",
       "112326            -1.269224            1.958586     -0.056527  ...   \n",
       "112327            -1.352173            1.958586     -0.056527  ...   \n",
       "112328             0.721540           -0.639332     -0.056527  ...   \n",
       "\n",
       "        3room_rental  Mall_Nearest_Distance  3room_sold  total_dwelling_units  \\\n",
       "0          -0.090780               0.697390   -0.572480             -0.696521   \n",
       "1          -0.090780              -1.295222   -0.572480              0.674524   \n",
       "2          -0.090780              -0.869960   -0.572480             -1.107834   \n",
       "3          -0.090780              -0.603098    1.020995              0.126106   \n",
       "4           1.455899               0.620261    0.716786              0.263210   \n",
       "...              ...                    ...         ...                   ...   \n",
       "112324     -0.090780               1.166863   -0.572480              0.297487   \n",
       "112325     -0.090780               0.963408    2.411663              1.411460   \n",
       "112326     -0.090780               0.180434   -0.572480              1.462875   \n",
       "112327     -0.090780               1.086927    1.281745              0.468867   \n",
       "112328     -0.090780               0.519702   -0.572480             -0.302345   \n",
       "\n",
       "        exec_sold  Mall_Within_1km  Hawker_Within_1km  max_floor_lvl  \\\n",
       "0       -0.310921         0.142231          -0.241507      -0.017258   \n",
       "1       -0.310921         1.548442          -0.824898       2.401785   \n",
       "2        2.824966        -0.560874          -0.824898      -0.662337   \n",
       "3       -0.310921        -0.560874           0.341884      -0.501067   \n",
       "4       -0.310921        -0.560874           0.341884      -0.662337   \n",
       "...           ...              ...                ...            ...   \n",
       "112324  -0.310921        -1.263980           0.925274       1.595437   \n",
       "112325  -0.310921        -1.263980          -0.241507      -0.178528   \n",
       "112326  -0.310921        -0.560874           1.508665       0.144011   \n",
       "112327  -0.258656        -1.263980           0.925274      -0.501067   \n",
       "112328  -0.310921         0.142231          -0.824898       0.144011   \n",
       "\n",
       "        mrt_nearest_distance  multigen_sold  \n",
       "0                   1.217885      -0.023618  \n",
       "1                  -1.182624      -0.023618  \n",
       "2                  -1.174373      -0.023618  \n",
       "3                  -0.293837      -0.023618  \n",
       "4                   0.022902      -0.023618  \n",
       "...                      ...            ...  \n",
       "112324             -1.011052      -0.023618  \n",
       "112325              0.711000      -0.023618  \n",
       "112326              0.514377      -0.023618  \n",
       "112327             -0.683963      -0.023618  \n",
       "112328              0.428496      -0.023618  \n",
       "\n",
       "[112329 rows x 31 columns]"
      ]
     },
     "execution_count": 65,
     "metadata": {},
     "output_type": "execute_result"
    }
   ],
   "source": [
    "X_train_num_scaled"
   ]
  },
  {
   "cell_type": "markdown",
   "id": "0df98585-effb-4834-b355-67669e4cf3e4",
   "metadata": {},
   "source": [
    "### Categorical features\n",
    "One Hot encoding will be used to dummify the categorical columns into a matrix."
   ]
  },
  {
   "cell_type": "code",
   "execution_count": 66,
   "id": "c62dc858-96e1-46d5-be02-9c65be8d3063",
   "metadata": {},
   "outputs": [
    {
     "name": "stdout",
     "output_type": "stream",
     "text": [
      "<class 'pandas.core.frame.DataFrame'>\n",
      "RangeIndex: 112329 entries, 0 to 112328\n",
      "Data columns (total 14 columns):\n",
      " #   Column               Non-Null Count   Dtype \n",
      "---  ------               --------------   ----- \n",
      " 0   index                112329 non-null  int64 \n",
      " 1   flat_type            112329 non-null  object\n",
      " 2   street_name          112329 non-null  object\n",
      " 3   flat_model           112329 non-null  object\n",
      " 4   commercial           112329 non-null  int64 \n",
      " 5   market_hawker        112329 non-null  int64 \n",
      " 6   multistorey_carpark  112329 non-null  int64 \n",
      " 7   precinct_pavilion    112329 non-null  int64 \n",
      " 8   planning_area        112329 non-null  object\n",
      " 9   bus_interchange      112329 non-null  int64 \n",
      " 10  mrt_interchange      112329 non-null  int64 \n",
      " 11  pri_sch_name         112329 non-null  object\n",
      " 12  pri_sch_affiliation  112329 non-null  int64 \n",
      " 13  sec_sch_name         112329 non-null  object\n",
      "dtypes: int64(8), object(6)\n",
      "memory usage: 12.0+ MB\n"
     ]
    }
   ],
   "source": [
    "#calling out categories to look for non binary cat.\n",
    "train_cat_df = X_train[cat_feat].reset_index()\n",
    "test_cat_df = X_test[cat_feat].reset_index()\n",
    "train_cat_df.info()"
   ]
  },
  {
   "cell_type": "markdown",
   "id": "ccb922d0-5058-4ffe-a02c-551e6e5aa3fa",
   "metadata": {},
   "source": [
    "For those with object type, it is likely string values hence it will be one hot encoded. However, the list will be refined so that categories with less datapoints can be combined to have data points as a group for modelling."
   ]
  },
  {
   "cell_type": "code",
   "execution_count": 67,
   "id": "042e734a-5167-4163-aa65-bf3b28b6b572",
   "metadata": {},
   "outputs": [
    {
     "data": {
      "text/plain": [
       "['flat_type',\n",
       " 'street_name',\n",
       " 'flat_model',\n",
       " 'planning_area',\n",
       " 'pri_sch_name',\n",
       " 'sec_sch_name']"
      ]
     },
     "execution_count": 67,
     "metadata": {},
     "output_type": "execute_result"
    }
   ],
   "source": [
    "#set list with object dtype to OHE\n",
    "cat_list = list(train_cat_df.dtypes[train_cat_df.dtypes == object].index)\n",
    "cat_list"
   ]
  },
  {
   "cell_type": "code",
   "execution_count": 68,
   "id": "c8734634-266b-456e-97ec-254b8f18a60a",
   "metadata": {},
   "outputs": [
    {
     "data": {
      "text/plain": [
       "11"
      ]
     },
     "execution_count": 68,
     "metadata": {},
     "output_type": "execute_result"
    }
   ],
   "source": [
    "#set threshold\n",
    "round(train_cat_df.shape[0]*0.0001)"
   ]
  },
  {
   "cell_type": "code",
   "execution_count": 69,
   "id": "2a4167ab-6cfd-44f4-b19d-32480a033d1d",
   "metadata": {},
   "outputs": [
    {
     "data": {
      "text/html": [
       "<div>\n",
       "<style scoped>\n",
       "    .dataframe tbody tr th:only-of-type {\n",
       "        vertical-align: middle;\n",
       "    }\n",
       "\n",
       "    .dataframe tbody tr th {\n",
       "        vertical-align: top;\n",
       "    }\n",
       "\n",
       "    .dataframe thead th {\n",
       "        text-align: right;\n",
       "    }\n",
       "</style>\n",
       "<table border=\"1\" class=\"dataframe\">\n",
       "  <thead>\n",
       "    <tr style=\"text-align: right;\">\n",
       "      <th></th>\n",
       "      <th>flat_type_1 ROOM</th>\n",
       "      <th>flat_type_2 ROOM</th>\n",
       "      <th>flat_type_3 ROOM</th>\n",
       "      <th>flat_type_4 ROOM</th>\n",
       "      <th>flat_type_5 ROOM</th>\n",
       "      <th>flat_type_EXECUTIVE</th>\n",
       "      <th>flat_type_MULTI-GENERATION</th>\n",
       "      <th>street_name_ADMIRALTY DR</th>\n",
       "      <th>street_name_ADMIRALTY LINK</th>\n",
       "      <th>street_name_AH HOOD RD</th>\n",
       "      <th>...</th>\n",
       "      <th>sec_sch_name_Yio Chu Kang Secondary School</th>\n",
       "      <th>sec_sch_name_Yishun Secondary School</th>\n",
       "      <th>sec_sch_name_Yishun Town Secondary School</th>\n",
       "      <th>sec_sch_name_Yuan Ching Secondary School</th>\n",
       "      <th>sec_sch_name_Yuhua Secondary School</th>\n",
       "      <th>sec_sch_name_Yusof Ishak Secondary School</th>\n",
       "      <th>sec_sch_name_Yuying Secondary School</th>\n",
       "      <th>sec_sch_name_Zhenghua Secondary School</th>\n",
       "      <th>sec_sch_name_Zhonghua Secondary School</th>\n",
       "      <th>sec_sch_name_infrequent_sklearn</th>\n",
       "    </tr>\n",
       "  </thead>\n",
       "  <tbody>\n",
       "    <tr>\n",
       "      <th>112324</th>\n",
       "      <td>0.0</td>\n",
       "      <td>0.0</td>\n",
       "      <td>0.0</td>\n",
       "      <td>1.0</td>\n",
       "      <td>0.0</td>\n",
       "      <td>0.0</td>\n",
       "      <td>0.0</td>\n",
       "      <td>0.0</td>\n",
       "      <td>0.0</td>\n",
       "      <td>0.0</td>\n",
       "      <td>...</td>\n",
       "      <td>0.0</td>\n",
       "      <td>0.0</td>\n",
       "      <td>0.0</td>\n",
       "      <td>0.0</td>\n",
       "      <td>0.0</td>\n",
       "      <td>0.0</td>\n",
       "      <td>0.0</td>\n",
       "      <td>0.0</td>\n",
       "      <td>0.0</td>\n",
       "      <td>0.0</td>\n",
       "    </tr>\n",
       "    <tr>\n",
       "      <th>112325</th>\n",
       "      <td>0.0</td>\n",
       "      <td>0.0</td>\n",
       "      <td>1.0</td>\n",
       "      <td>0.0</td>\n",
       "      <td>0.0</td>\n",
       "      <td>0.0</td>\n",
       "      <td>0.0</td>\n",
       "      <td>0.0</td>\n",
       "      <td>0.0</td>\n",
       "      <td>0.0</td>\n",
       "      <td>...</td>\n",
       "      <td>0.0</td>\n",
       "      <td>0.0</td>\n",
       "      <td>0.0</td>\n",
       "      <td>0.0</td>\n",
       "      <td>0.0</td>\n",
       "      <td>0.0</td>\n",
       "      <td>0.0</td>\n",
       "      <td>0.0</td>\n",
       "      <td>0.0</td>\n",
       "      <td>0.0</td>\n",
       "    </tr>\n",
       "    <tr>\n",
       "      <th>112326</th>\n",
       "      <td>0.0</td>\n",
       "      <td>0.0</td>\n",
       "      <td>0.0</td>\n",
       "      <td>1.0</td>\n",
       "      <td>0.0</td>\n",
       "      <td>0.0</td>\n",
       "      <td>0.0</td>\n",
       "      <td>0.0</td>\n",
       "      <td>0.0</td>\n",
       "      <td>0.0</td>\n",
       "      <td>...</td>\n",
       "      <td>0.0</td>\n",
       "      <td>0.0</td>\n",
       "      <td>0.0</td>\n",
       "      <td>0.0</td>\n",
       "      <td>0.0</td>\n",
       "      <td>0.0</td>\n",
       "      <td>0.0</td>\n",
       "      <td>0.0</td>\n",
       "      <td>0.0</td>\n",
       "      <td>0.0</td>\n",
       "    </tr>\n",
       "    <tr>\n",
       "      <th>112327</th>\n",
       "      <td>0.0</td>\n",
       "      <td>0.0</td>\n",
       "      <td>1.0</td>\n",
       "      <td>0.0</td>\n",
       "      <td>0.0</td>\n",
       "      <td>0.0</td>\n",
       "      <td>0.0</td>\n",
       "      <td>0.0</td>\n",
       "      <td>0.0</td>\n",
       "      <td>0.0</td>\n",
       "      <td>...</td>\n",
       "      <td>0.0</td>\n",
       "      <td>0.0</td>\n",
       "      <td>0.0</td>\n",
       "      <td>0.0</td>\n",
       "      <td>0.0</td>\n",
       "      <td>0.0</td>\n",
       "      <td>0.0</td>\n",
       "      <td>0.0</td>\n",
       "      <td>0.0</td>\n",
       "      <td>0.0</td>\n",
       "    </tr>\n",
       "    <tr>\n",
       "      <th>112328</th>\n",
       "      <td>0.0</td>\n",
       "      <td>0.0</td>\n",
       "      <td>0.0</td>\n",
       "      <td>1.0</td>\n",
       "      <td>0.0</td>\n",
       "      <td>0.0</td>\n",
       "      <td>0.0</td>\n",
       "      <td>0.0</td>\n",
       "      <td>0.0</td>\n",
       "      <td>0.0</td>\n",
       "      <td>...</td>\n",
       "      <td>0.0</td>\n",
       "      <td>0.0</td>\n",
       "      <td>0.0</td>\n",
       "      <td>0.0</td>\n",
       "      <td>0.0</td>\n",
       "      <td>0.0</td>\n",
       "      <td>0.0</td>\n",
       "      <td>0.0</td>\n",
       "      <td>0.0</td>\n",
       "      <td>0.0</td>\n",
       "    </tr>\n",
       "  </tbody>\n",
       "</table>\n",
       "<p>5 rows × 899 columns</p>\n",
       "</div>"
      ],
      "text/plain": [
       "        flat_type_1 ROOM  flat_type_2 ROOM  flat_type_3 ROOM  \\\n",
       "112324               0.0               0.0               0.0   \n",
       "112325               0.0               0.0               1.0   \n",
       "112326               0.0               0.0               0.0   \n",
       "112327               0.0               0.0               1.0   \n",
       "112328               0.0               0.0               0.0   \n",
       "\n",
       "        flat_type_4 ROOM  flat_type_5 ROOM  flat_type_EXECUTIVE  \\\n",
       "112324               1.0               0.0                  0.0   \n",
       "112325               0.0               0.0                  0.0   \n",
       "112326               1.0               0.0                  0.0   \n",
       "112327               0.0               0.0                  0.0   \n",
       "112328               1.0               0.0                  0.0   \n",
       "\n",
       "        flat_type_MULTI-GENERATION  street_name_ADMIRALTY DR  \\\n",
       "112324                         0.0                       0.0   \n",
       "112325                         0.0                       0.0   \n",
       "112326                         0.0                       0.0   \n",
       "112327                         0.0                       0.0   \n",
       "112328                         0.0                       0.0   \n",
       "\n",
       "        street_name_ADMIRALTY LINK  street_name_AH HOOD RD  ...  \\\n",
       "112324                         0.0                     0.0  ...   \n",
       "112325                         0.0                     0.0  ...   \n",
       "112326                         0.0                     0.0  ...   \n",
       "112327                         0.0                     0.0  ...   \n",
       "112328                         0.0                     0.0  ...   \n",
       "\n",
       "        sec_sch_name_Yio Chu Kang Secondary School  \\\n",
       "112324                                         0.0   \n",
       "112325                                         0.0   \n",
       "112326                                         0.0   \n",
       "112327                                         0.0   \n",
       "112328                                         0.0   \n",
       "\n",
       "        sec_sch_name_Yishun Secondary School  \\\n",
       "112324                                   0.0   \n",
       "112325                                   0.0   \n",
       "112326                                   0.0   \n",
       "112327                                   0.0   \n",
       "112328                                   0.0   \n",
       "\n",
       "        sec_sch_name_Yishun Town Secondary School  \\\n",
       "112324                                        0.0   \n",
       "112325                                        0.0   \n",
       "112326                                        0.0   \n",
       "112327                                        0.0   \n",
       "112328                                        0.0   \n",
       "\n",
       "        sec_sch_name_Yuan Ching Secondary School  \\\n",
       "112324                                       0.0   \n",
       "112325                                       0.0   \n",
       "112326                                       0.0   \n",
       "112327                                       0.0   \n",
       "112328                                       0.0   \n",
       "\n",
       "        sec_sch_name_Yuhua Secondary School  \\\n",
       "112324                                  0.0   \n",
       "112325                                  0.0   \n",
       "112326                                  0.0   \n",
       "112327                                  0.0   \n",
       "112328                                  0.0   \n",
       "\n",
       "        sec_sch_name_Yusof Ishak Secondary School  \\\n",
       "112324                                        0.0   \n",
       "112325                                        0.0   \n",
       "112326                                        0.0   \n",
       "112327                                        0.0   \n",
       "112328                                        0.0   \n",
       "\n",
       "        sec_sch_name_Yuying Secondary School  \\\n",
       "112324                                   0.0   \n",
       "112325                                   0.0   \n",
       "112326                                   0.0   \n",
       "112327                                   0.0   \n",
       "112328                                   0.0   \n",
       "\n",
       "        sec_sch_name_Zhenghua Secondary School  \\\n",
       "112324                                     0.0   \n",
       "112325                                     0.0   \n",
       "112326                                     0.0   \n",
       "112327                                     0.0   \n",
       "112328                                     0.0   \n",
       "\n",
       "        sec_sch_name_Zhonghua Secondary School  \\\n",
       "112324                                     0.0   \n",
       "112325                                     0.0   \n",
       "112326                                     0.0   \n",
       "112327                                     0.0   \n",
       "112328                                     0.0   \n",
       "\n",
       "        sec_sch_name_infrequent_sklearn  \n",
       "112324                              0.0  \n",
       "112325                              0.0  \n",
       "112326                              0.0  \n",
       "112327                              0.0  \n",
       "112328                              0.0  \n",
       "\n",
       "[5 rows x 899 columns]"
      ]
     },
     "execution_count": 69,
     "metadata": {},
     "output_type": "execute_result"
    }
   ],
   "source": [
    "#setup OHE\n",
    "OHE = OneHotEncoder(sparse_output = False, handle_unknown = 'infrequent_if_exist', min_frequency = 0.0001)\n",
    "train_OHE_cat_df = pd.DataFrame(OHE.fit_transform(train_cat_df[cat_list]), columns = OHE.get_feature_names_out())\n",
    "test_OHE_cat_df = pd.DataFrame(OHE.transform(test_cat_df[cat_list]), columns = OHE.get_feature_names_out())\n",
    "train_OHE_cat_df.tail()"
   ]
  },
  {
   "cell_type": "code",
   "execution_count": 70,
   "id": "cae9b1d9-98d6-43a5-9078-d16262ac363e",
   "metadata": {},
   "outputs": [],
   "source": [
    "#concat categories train sets\n",
    "train_cat_df = pd.concat([train_cat_df, train_OHE_cat_df], axis = 1)\n",
    "train_cat_df.drop(columns = cat_list, inplace = True)\n",
    "#concat categories test set\n",
    "test_cat_df = pd.concat([test_cat_df, test_OHE_cat_df], axis = 1)\n",
    "test_cat_df.drop(columns = cat_list, inplace = True)"
   ]
  },
  {
   "cell_type": "code",
   "execution_count": 71,
   "id": "591d40ab-62ee-4844-8a87-e6ac788ee0fc",
   "metadata": {},
   "outputs": [
    {
     "data": {
      "text/html": [
       "<div>\n",
       "<style scoped>\n",
       "    .dataframe tbody tr th:only-of-type {\n",
       "        vertical-align: middle;\n",
       "    }\n",
       "\n",
       "    .dataframe tbody tr th {\n",
       "        vertical-align: top;\n",
       "    }\n",
       "\n",
       "    .dataframe thead th {\n",
       "        text-align: right;\n",
       "    }\n",
       "</style>\n",
       "<table border=\"1\" class=\"dataframe\">\n",
       "  <thead>\n",
       "    <tr style=\"text-align: right;\">\n",
       "      <th></th>\n",
       "      <th>Mall_Within_500m</th>\n",
       "      <th>bus_stop_nearest_distance</th>\n",
       "      <th>Hawker_Nearest_Distance</th>\n",
       "      <th>1room_sold</th>\n",
       "      <th>4room_sold</th>\n",
       "      <th>1room_rental</th>\n",
       "      <th>studio_apartment_sold</th>\n",
       "      <th>lease_commence_date</th>\n",
       "      <th>Hawker_Within_500m</th>\n",
       "      <th>2room_rental</th>\n",
       "      <th>...</th>\n",
       "      <th>sec_sch_name_Yio Chu Kang Secondary School</th>\n",
       "      <th>sec_sch_name_Yishun Secondary School</th>\n",
       "      <th>sec_sch_name_Yishun Town Secondary School</th>\n",
       "      <th>sec_sch_name_Yuan Ching Secondary School</th>\n",
       "      <th>sec_sch_name_Yuhua Secondary School</th>\n",
       "      <th>sec_sch_name_Yusof Ishak Secondary School</th>\n",
       "      <th>sec_sch_name_Yuying Secondary School</th>\n",
       "      <th>sec_sch_name_Zhenghua Secondary School</th>\n",
       "      <th>sec_sch_name_Zhonghua Secondary School</th>\n",
       "      <th>sec_sch_name_infrequent_sklearn</th>\n",
       "    </tr>\n",
       "    <tr>\n",
       "      <th>index</th>\n",
       "      <th></th>\n",
       "      <th></th>\n",
       "      <th></th>\n",
       "      <th></th>\n",
       "      <th></th>\n",
       "      <th></th>\n",
       "      <th></th>\n",
       "      <th></th>\n",
       "      <th></th>\n",
       "      <th></th>\n",
       "      <th></th>\n",
       "      <th></th>\n",
       "      <th></th>\n",
       "      <th></th>\n",
       "      <th></th>\n",
       "      <th></th>\n",
       "      <th></th>\n",
       "      <th></th>\n",
       "      <th></th>\n",
       "      <th></th>\n",
       "      <th></th>\n",
       "    </tr>\n",
       "  </thead>\n",
       "  <tbody>\n",
       "    <tr>\n",
       "      <th>30484</th>\n",
       "      <td>-0.671314</td>\n",
       "      <td>0.043367</td>\n",
       "      <td>-0.231896</td>\n",
       "      <td>-0.024062</td>\n",
       "      <td>-0.483135</td>\n",
       "      <td>-0.031834</td>\n",
       "      <td>-0.082435</td>\n",
       "      <td>0.389746</td>\n",
       "      <td>-0.639332</td>\n",
       "      <td>-0.056527</td>\n",
       "      <td>...</td>\n",
       "      <td>0.0</td>\n",
       "      <td>0.0</td>\n",
       "      <td>0.0</td>\n",
       "      <td>0.0</td>\n",
       "      <td>0.0</td>\n",
       "      <td>0.0</td>\n",
       "      <td>0.0</td>\n",
       "      <td>0.0</td>\n",
       "      <td>0.0</td>\n",
       "      <td>0.0</td>\n",
       "    </tr>\n",
       "    <tr>\n",
       "      <th>87242</th>\n",
       "      <td>3.424053</td>\n",
       "      <td>-0.552277</td>\n",
       "      <td>0.082751</td>\n",
       "      <td>-0.024062</td>\n",
       "      <td>-0.040249</td>\n",
       "      <td>-0.031834</td>\n",
       "      <td>-0.082435</td>\n",
       "      <td>0.555643</td>\n",
       "      <td>-0.639332</td>\n",
       "      <td>-0.056527</td>\n",
       "      <td>...</td>\n",
       "      <td>0.0</td>\n",
       "      <td>0.0</td>\n",
       "      <td>0.0</td>\n",
       "      <td>0.0</td>\n",
       "      <td>0.0</td>\n",
       "      <td>0.0</td>\n",
       "      <td>0.0</td>\n",
       "      <td>0.0</td>\n",
       "      <td>0.0</td>\n",
       "      <td>0.0</td>\n",
       "    </tr>\n",
       "    <tr>\n",
       "      <th>79640</th>\n",
       "      <td>0.693809</td>\n",
       "      <td>-0.215541</td>\n",
       "      <td>0.134040</td>\n",
       "      <td>-0.024062</td>\n",
       "      <td>-1.103175</td>\n",
       "      <td>-0.031834</td>\n",
       "      <td>-0.082435</td>\n",
       "      <td>-0.356790</td>\n",
       "      <td>-0.639332</td>\n",
       "      <td>-0.056527</td>\n",
       "      <td>...</td>\n",
       "      <td>0.0</td>\n",
       "      <td>0.0</td>\n",
       "      <td>0.0</td>\n",
       "      <td>0.0</td>\n",
       "      <td>0.0</td>\n",
       "      <td>0.0</td>\n",
       "      <td>0.0</td>\n",
       "      <td>0.0</td>\n",
       "      <td>0.0</td>\n",
       "      <td>0.0</td>\n",
       "    </tr>\n",
       "    <tr>\n",
       "      <th>63804</th>\n",
       "      <td>0.693809</td>\n",
       "      <td>-0.772176</td>\n",
       "      <td>-0.757778</td>\n",
       "      <td>-0.024062</td>\n",
       "      <td>-0.616000</td>\n",
       "      <td>-0.031834</td>\n",
       "      <td>-0.082435</td>\n",
       "      <td>-0.854482</td>\n",
       "      <td>1.958586</td>\n",
       "      <td>-0.056527</td>\n",
       "      <td>...</td>\n",
       "      <td>0.0</td>\n",
       "      <td>0.0</td>\n",
       "      <td>0.0</td>\n",
       "      <td>0.0</td>\n",
       "      <td>1.0</td>\n",
       "      <td>0.0</td>\n",
       "      <td>0.0</td>\n",
       "      <td>0.0</td>\n",
       "      <td>0.0</td>\n",
       "      <td>0.0</td>\n",
       "    </tr>\n",
       "    <tr>\n",
       "      <th>146273</th>\n",
       "      <td>-0.671314</td>\n",
       "      <td>-0.251724</td>\n",
       "      <td>-0.699184</td>\n",
       "      <td>-0.024062</td>\n",
       "      <td>0.004040</td>\n",
       "      <td>-0.031834</td>\n",
       "      <td>-0.082435</td>\n",
       "      <td>-0.771533</td>\n",
       "      <td>0.659627</td>\n",
       "      <td>-0.056527</td>\n",
       "      <td>...</td>\n",
       "      <td>0.0</td>\n",
       "      <td>0.0</td>\n",
       "      <td>0.0</td>\n",
       "      <td>0.0</td>\n",
       "      <td>0.0</td>\n",
       "      <td>0.0</td>\n",
       "      <td>0.0</td>\n",
       "      <td>0.0</td>\n",
       "      <td>0.0</td>\n",
       "      <td>0.0</td>\n",
       "    </tr>\n",
       "  </tbody>\n",
       "</table>\n",
       "<p>5 rows × 937 columns</p>\n",
       "</div>"
      ],
      "text/plain": [
       "        Mall_Within_500m  bus_stop_nearest_distance  Hawker_Nearest_Distance  \\\n",
       "index                                                                          \n",
       "30484          -0.671314                   0.043367                -0.231896   \n",
       "87242           3.424053                  -0.552277                 0.082751   \n",
       "79640           0.693809                  -0.215541                 0.134040   \n",
       "63804           0.693809                  -0.772176                -0.757778   \n",
       "146273         -0.671314                  -0.251724                -0.699184   \n",
       "\n",
       "        1room_sold  4room_sold  1room_rental  studio_apartment_sold  \\\n",
       "index                                                                 \n",
       "30484    -0.024062   -0.483135     -0.031834              -0.082435   \n",
       "87242    -0.024062   -0.040249     -0.031834              -0.082435   \n",
       "79640    -0.024062   -1.103175     -0.031834              -0.082435   \n",
       "63804    -0.024062   -0.616000     -0.031834              -0.082435   \n",
       "146273   -0.024062    0.004040     -0.031834              -0.082435   \n",
       "\n",
       "        lease_commence_date  Hawker_Within_500m  2room_rental  ...  \\\n",
       "index                                                          ...   \n",
       "30484              0.389746           -0.639332     -0.056527  ...   \n",
       "87242              0.555643           -0.639332     -0.056527  ...   \n",
       "79640             -0.356790           -0.639332     -0.056527  ...   \n",
       "63804             -0.854482            1.958586     -0.056527  ...   \n",
       "146273            -0.771533            0.659627     -0.056527  ...   \n",
       "\n",
       "        sec_sch_name_Yio Chu Kang Secondary School  \\\n",
       "index                                                \n",
       "30484                                          0.0   \n",
       "87242                                          0.0   \n",
       "79640                                          0.0   \n",
       "63804                                          0.0   \n",
       "146273                                         0.0   \n",
       "\n",
       "        sec_sch_name_Yishun Secondary School  \\\n",
       "index                                          \n",
       "30484                                    0.0   \n",
       "87242                                    0.0   \n",
       "79640                                    0.0   \n",
       "63804                                    0.0   \n",
       "146273                                   0.0   \n",
       "\n",
       "        sec_sch_name_Yishun Town Secondary School  \\\n",
       "index                                               \n",
       "30484                                         0.0   \n",
       "87242                                         0.0   \n",
       "79640                                         0.0   \n",
       "63804                                         0.0   \n",
       "146273                                        0.0   \n",
       "\n",
       "        sec_sch_name_Yuan Ching Secondary School  \\\n",
       "index                                              \n",
       "30484                                        0.0   \n",
       "87242                                        0.0   \n",
       "79640                                        0.0   \n",
       "63804                                        0.0   \n",
       "146273                                       0.0   \n",
       "\n",
       "        sec_sch_name_Yuhua Secondary School  \\\n",
       "index                                         \n",
       "30484                                   0.0   \n",
       "87242                                   0.0   \n",
       "79640                                   0.0   \n",
       "63804                                   1.0   \n",
       "146273                                  0.0   \n",
       "\n",
       "        sec_sch_name_Yusof Ishak Secondary School  \\\n",
       "index                                               \n",
       "30484                                         0.0   \n",
       "87242                                         0.0   \n",
       "79640                                         0.0   \n",
       "63804                                         0.0   \n",
       "146273                                        0.0   \n",
       "\n",
       "        sec_sch_name_Yuying Secondary School  \\\n",
       "index                                          \n",
       "30484                                    0.0   \n",
       "87242                                    0.0   \n",
       "79640                                    0.0   \n",
       "63804                                    0.0   \n",
       "146273                                   0.0   \n",
       "\n",
       "        sec_sch_name_Zhenghua Secondary School  \\\n",
       "index                                            \n",
       "30484                                      0.0   \n",
       "87242                                      0.0   \n",
       "79640                                      0.0   \n",
       "63804                                      0.0   \n",
       "146273                                     0.0   \n",
       "\n",
       "        sec_sch_name_Zhonghua Secondary School  \\\n",
       "index                                            \n",
       "30484                                      0.0   \n",
       "87242                                      0.0   \n",
       "79640                                      0.0   \n",
       "63804                                      0.0   \n",
       "146273                                     0.0   \n",
       "\n",
       "        sec_sch_name_infrequent_sklearn  \n",
       "index                                    \n",
       "30484                               0.0  \n",
       "87242                               0.0  \n",
       "79640                               0.0  \n",
       "63804                               0.0  \n",
       "146273                              0.0  \n",
       "\n",
       "[5 rows x 937 columns]"
      ]
     },
     "execution_count": 71,
     "metadata": {},
     "output_type": "execute_result"
    }
   ],
   "source": [
    "#concat train set\n",
    "Z_train = pd.concat([X_train_num_scaled, train_cat_df], axis = 1)\n",
    "Z_train.set_index('index', inplace = True)\n",
    "\n",
    "#concat test set\n",
    "Z_test = pd.concat([X_test_num_scaled, test_cat_df], axis = 1)\n",
    "Z_test.set_index('index', inplace = True)\n",
    "\n",
    "Z_train.head()"
   ]
  },
  {
   "cell_type": "markdown",
   "id": "79264336-a917-458e-9439-f0d0d2098330",
   "metadata": {},
   "source": [
    "## Modelling #1\n",
    "- [Linear Regression](#Linear-Regression)\n",
    "- [Ridge Regression](#Ridge-Regression)\n",
    "- [Lasso Regression](#Lasso-Regression)\n",
    "- [Results Analysis](#Results-Analysis) - of the models tested0"
   ]
  },
  {
   "cell_type": "markdown",
   "id": "c436712a-b8fe-4ee7-aaa0-dab02691a66b",
   "metadata": {
    "jp-MarkdownHeadingCollapsed": true
   },
   "source": [
    "### Linear Regression"
   ]
  },
  {
   "cell_type": "code",
   "execution_count": 72,
   "id": "65149ff9-1fce-413d-80a7-f38deae429d4",
   "metadata": {},
   "outputs": [
    {
     "name": "stdout",
     "output_type": "stream",
     "text": [
      "[0.92574948 0.92498302 0.92412123 0.9254021  0.92348035]\n"
     ]
    },
    {
     "data": {
      "text/plain": [
       "0.9247465997170679"
      ]
     },
     "execution_count": 72,
     "metadata": {},
     "output_type": "execute_result"
    }
   ],
   "source": [
    "#Instantiate your model\n",
    "lr = LinearRegression()\n",
    "\n",
    "#Obtain Cross-validation scores\n",
    "print(cross_val_score(lr, Z_train, y_train, cv =5))\n",
    "\n",
    "#Obtain MEAN Cross-validation score\n",
    "cross_val_score(lr, Z_train, y_train).mean()"
   ]
  },
  {
   "cell_type": "code",
   "execution_count": 73,
   "id": "54449c3d-ae04-4ad1-b7ea-4b2ae8694f35",
   "metadata": {},
   "outputs": [],
   "source": [
    "# Train your model\n",
    "lr.fit(Z_train, y_train)\n",
    "\n",
    "#Generate predictions\n",
    "y_train_preds = lr.predict(Z_train)\n",
    "y_test_preds = lr.predict(Z_test)"
   ]
  },
  {
   "cell_type": "code",
   "execution_count": 74,
   "id": "6e1c64c0-f5dd-4280-a2b9-ef8d3891f8ac",
   "metadata": {},
   "outputs": [
    {
     "data": {
      "text/plain": [
       "0.9261795088793212"
      ]
     },
     "execution_count": 74,
     "metadata": {},
     "output_type": "execute_result"
    }
   ],
   "source": [
    "# Train score:\n",
    "lr.score(Z_train, y_train)"
   ]
  },
  {
   "cell_type": "code",
   "execution_count": 75,
   "id": "ae0e3154-913f-4296-87b4-3a1cc0ea70ad",
   "metadata": {},
   "outputs": [
    {
     "data": {
      "text/plain": [
       "-76711889067531.97"
      ]
     },
     "execution_count": 75,
     "metadata": {},
     "output_type": "execute_result"
    }
   ],
   "source": [
    "# Test score:\n",
    "lr.score(Z_test, y_test)"
   ]
  },
  {
   "cell_type": "code",
   "execution_count": 76,
   "id": "a7a390f6-aea8-4349-b921-626e5afcb062",
   "metadata": {},
   "outputs": [
    {
     "name": "stdout",
     "output_type": "stream",
     "text": [
      "38915.203451039495\n",
      "1254352181060.5674\n"
     ]
    }
   ],
   "source": [
    "#MSE\n",
    "train_MSE = mean_squared_error(y_train, y_train_preds)\n",
    "test_MSE = mean_squared_error(y_test, y_test_preds)\n",
    "#RMSE \n",
    "print(np.sqrt(train_MSE))\n",
    "print(np.sqrt(test_MSE))"
   ]
  },
  {
   "cell_type": "markdown",
   "id": "daf491f9-d4a2-4f06-bb16-5356a7ed1ff3",
   "metadata": {},
   "source": [
    "### Ridge Regression"
   ]
  },
  {
   "cell_type": "code",
   "execution_count": 77,
   "id": "c3c1d403-a1fb-4b57-a0f7-021426076452",
   "metadata": {},
   "outputs": [
    {
     "data": {
      "text/html": [
       "<style>#sk-container-id-3 {color: black;background-color: white;}#sk-container-id-3 pre{padding: 0;}#sk-container-id-3 div.sk-toggleable {background-color: white;}#sk-container-id-3 label.sk-toggleable__label {cursor: pointer;display: block;width: 100%;margin-bottom: 0;padding: 0.3em;box-sizing: border-box;text-align: center;}#sk-container-id-3 label.sk-toggleable__label-arrow:before {content: \"▸\";float: left;margin-right: 0.25em;color: #696969;}#sk-container-id-3 label.sk-toggleable__label-arrow:hover:before {color: black;}#sk-container-id-3 div.sk-estimator:hover label.sk-toggleable__label-arrow:before {color: black;}#sk-container-id-3 div.sk-toggleable__content {max-height: 0;max-width: 0;overflow: hidden;text-align: left;background-color: #f0f8ff;}#sk-container-id-3 div.sk-toggleable__content pre {margin: 0.2em;color: black;border-radius: 0.25em;background-color: #f0f8ff;}#sk-container-id-3 input.sk-toggleable__control:checked~div.sk-toggleable__content {max-height: 200px;max-width: 100%;overflow: auto;}#sk-container-id-3 input.sk-toggleable__control:checked~label.sk-toggleable__label-arrow:before {content: \"▾\";}#sk-container-id-3 div.sk-estimator input.sk-toggleable__control:checked~label.sk-toggleable__label {background-color: #d4ebff;}#sk-container-id-3 div.sk-label input.sk-toggleable__control:checked~label.sk-toggleable__label {background-color: #d4ebff;}#sk-container-id-3 input.sk-hidden--visually {border: 0;clip: rect(1px 1px 1px 1px);clip: rect(1px, 1px, 1px, 1px);height: 1px;margin: -1px;overflow: hidden;padding: 0;position: absolute;width: 1px;}#sk-container-id-3 div.sk-estimator {font-family: monospace;background-color: #f0f8ff;border: 1px dotted black;border-radius: 0.25em;box-sizing: border-box;margin-bottom: 0.5em;}#sk-container-id-3 div.sk-estimator:hover {background-color: #d4ebff;}#sk-container-id-3 div.sk-parallel-item::after {content: \"\";width: 100%;border-bottom: 1px solid gray;flex-grow: 1;}#sk-container-id-3 div.sk-label:hover label.sk-toggleable__label {background-color: #d4ebff;}#sk-container-id-3 div.sk-serial::before {content: \"\";position: absolute;border-left: 1px solid gray;box-sizing: border-box;top: 0;bottom: 0;left: 50%;z-index: 0;}#sk-container-id-3 div.sk-serial {display: flex;flex-direction: column;align-items: center;background-color: white;padding-right: 0.2em;padding-left: 0.2em;position: relative;}#sk-container-id-3 div.sk-item {position: relative;z-index: 1;}#sk-container-id-3 div.sk-parallel {display: flex;align-items: stretch;justify-content: center;background-color: white;position: relative;}#sk-container-id-3 div.sk-item::before, #sk-container-id-3 div.sk-parallel-item::before {content: \"\";position: absolute;border-left: 1px solid gray;box-sizing: border-box;top: 0;bottom: 0;left: 50%;z-index: -1;}#sk-container-id-3 div.sk-parallel-item {display: flex;flex-direction: column;z-index: 1;position: relative;background-color: white;}#sk-container-id-3 div.sk-parallel-item:first-child::after {align-self: flex-end;width: 50%;}#sk-container-id-3 div.sk-parallel-item:last-child::after {align-self: flex-start;width: 50%;}#sk-container-id-3 div.sk-parallel-item:only-child::after {width: 0;}#sk-container-id-3 div.sk-dashed-wrapped {border: 1px dashed gray;margin: 0 0.4em 0.5em 0.4em;box-sizing: border-box;padding-bottom: 0.4em;background-color: white;}#sk-container-id-3 div.sk-label label {font-family: monospace;font-weight: bold;display: inline-block;line-height: 1.2em;}#sk-container-id-3 div.sk-label-container {text-align: center;}#sk-container-id-3 div.sk-container {/* jupyter's `normalize.less` sets `[hidden] { display: none; }` but bootstrap.min.css set `[hidden] { display: none !important; }` so we also need the `!important` here to be able to override the default hidden behavior on the sphinx rendered scikit-learn.org. See: https://github.com/scikit-learn/scikit-learn/issues/21755 */display: inline-block !important;position: relative;}#sk-container-id-3 div.sk-text-repr-fallback {display: none;}</style><div id=\"sk-container-id-3\" class=\"sk-top-container\"><div class=\"sk-text-repr-fallback\"><pre>RidgeCV(alphas=array([1.00000000e-03, 2.78255940e-03, 7.74263683e-03, 2.15443469e-02,\n",
       "       5.99484250e-02, 1.66810054e-01, 4.64158883e-01, 1.29154967e+00,\n",
       "       3.59381366e+00, 1.00000000e+01]),\n",
       "        cv=5, scoring=&#x27;r2&#x27;)</pre><b>In a Jupyter environment, please rerun this cell to show the HTML representation or trust the notebook. <br />On GitHub, the HTML representation is unable to render, please try loading this page with nbviewer.org.</b></div><div class=\"sk-container\" hidden><div class=\"sk-item\"><div class=\"sk-estimator sk-toggleable\"><input class=\"sk-toggleable__control sk-hidden--visually\" id=\"sk-estimator-id-3\" type=\"checkbox\" checked><label for=\"sk-estimator-id-3\" class=\"sk-toggleable__label sk-toggleable__label-arrow\">RidgeCV</label><div class=\"sk-toggleable__content\"><pre>RidgeCV(alphas=array([1.00000000e-03, 2.78255940e-03, 7.74263683e-03, 2.15443469e-02,\n",
       "       5.99484250e-02, 1.66810054e-01, 4.64158883e-01, 1.29154967e+00,\n",
       "       3.59381366e+00, 1.00000000e+01]),\n",
       "        cv=5, scoring=&#x27;r2&#x27;)</pre></div></div></div></div></div>"
      ],
      "text/plain": [
       "RidgeCV(alphas=array([1.00000000e-03, 2.78255940e-03, 7.74263683e-03, 2.15443469e-02,\n",
       "       5.99484250e-02, 1.66810054e-01, 4.64158883e-01, 1.29154967e+00,\n",
       "       3.59381366e+00, 1.00000000e+01]),\n",
       "        cv=5, scoring='r2')"
      ]
     },
     "execution_count": 77,
     "metadata": {},
     "output_type": "execute_result"
    }
   ],
   "source": [
    "#alpha_list = np.logspace(-3, 1, 10)\n",
    "ridgecv = RidgeCV(alphas = np.logspace(-3, 1, 10) , scoring='r2', cv = 5)\n",
    "ridgecv.fit(Z_train, y_train)"
   ]
  },
  {
   "cell_type": "code",
   "execution_count": 78,
   "id": "7cf01fca-9fa6-4c30-ae40-055f47a84a6e",
   "metadata": {},
   "outputs": [
    {
     "data": {
      "text/plain": [
       "0.021544346900318832"
      ]
     },
     "execution_count": 78,
     "metadata": {},
     "output_type": "execute_result"
    }
   ],
   "source": [
    "ridgecv.alpha_"
   ]
  },
  {
   "cell_type": "code",
   "execution_count": 79,
   "id": "e5301f83-87e7-45d2-8fa3-0589488637af",
   "metadata": {},
   "outputs": [
    {
     "name": "stdout",
     "output_type": "stream",
     "text": [
      "[0.92573897 0.92495868 0.92414661 0.92541301 0.92349769]\n",
      "0.9247509940333934\n"
     ]
    }
   ],
   "source": [
    "#Instantiate the model\n",
    "ridge = Ridge(alpha = ridgecv.alpha_)\n",
    "ridge_scores = cross_val_score(ridge, Z_train, y_train, cv = 5)\n",
    "\n",
    "print (ridge_scores)\n",
    "print (np.mean(ridge_scores))"
   ]
  },
  {
   "cell_type": "code",
   "execution_count": 80,
   "id": "d51450f1-6d2a-44cf-8a4e-ca86a6e2e120",
   "metadata": {},
   "outputs": [],
   "source": [
    "#Retrain ridge\n",
    "ridge.fit(Z_train, y_train)\n",
    "\n",
    "#Generate predictions\n",
    "y_train_preds = ridge.predict(Z_train)\n",
    "y_test_preds = ridge.predict(Z_test)"
   ]
  },
  {
   "cell_type": "code",
   "execution_count": 81,
   "id": "8feba7bc-1369-4c34-a487-15c1153d6d68",
   "metadata": {},
   "outputs": [
    {
     "data": {
      "text/plain": [
       "0.9261777556570372"
      ]
     },
     "execution_count": 81,
     "metadata": {},
     "output_type": "execute_result"
    }
   ],
   "source": [
    "# Train score:\n",
    "ridge_train_score = ridge.score(Z_train, y_train)\n",
    "ridge_train_score"
   ]
  },
  {
   "cell_type": "code",
   "execution_count": 82,
   "id": "7aad30f5-d36e-4c64-9d67-7e3a1c5188fa",
   "metadata": {},
   "outputs": [
    {
     "data": {
      "text/plain": [
       "0.9247602588881998"
      ]
     },
     "execution_count": 82,
     "metadata": {},
     "output_type": "execute_result"
    }
   ],
   "source": [
    "# Test  score:\n",
    "ridge_test_score = ridge.score(Z_test, y_test)\n",
    "ridge_test_score"
   ]
  },
  {
   "cell_type": "code",
   "execution_count": 83,
   "id": "939f3ee2-6e09-4c84-97c2-1f1ff05c4183",
   "metadata": {},
   "outputs": [
    {
     "name": "stdout",
     "output_type": "stream",
     "text": [
      "38915.665562546455\n",
      "39283.646721933226\n"
     ]
    }
   ],
   "source": [
    "#MSE\n",
    "train_MSE = mean_squared_error(y_train, y_train_preds)\n",
    "test_MSE = mean_squared_error(y_test, y_test_preds)\n",
    "#RMSE \n",
    "print(np.sqrt(train_MSE))\n",
    "print(np.sqrt(test_MSE))"
   ]
  },
  {
   "cell_type": "markdown",
   "id": "5047a92e-9360-4351-ab7e-d7f1c72c3462",
   "metadata": {},
   "source": [
    "### Lasso Regression"
   ]
  },
  {
   "cell_type": "code",
   "execution_count": 87,
   "id": "c7d0cb6a-23e8-44e3-be18-9fa284167262",
   "metadata": {
    "scrolled": true
   },
   "outputs": [
    {
     "name": "stderr",
     "output_type": "stream",
     "text": [
      "C:\\Users\\benja\\mambaforge\\envs\\dsi-sg\\lib\\site-packages\\sklearn\\linear_model\\_coordinate_descent.py:617: ConvergenceWarning: Objective did not converge. You might want to increase the number of iterations. Duality gap: 960031203725.5312, tolerance: 183876531387.44037\n",
      "  model = cd_fast.enet_coordinate_descent_gram(\n",
      "C:\\Users\\benja\\mambaforge\\envs\\dsi-sg\\lib\\site-packages\\sklearn\\linear_model\\_coordinate_descent.py:617: ConvergenceWarning: Objective did not converge. You might want to increase the number of iterations. Duality gap: 674996162608.9844, tolerance: 183876531387.44037\n",
      "  model = cd_fast.enet_coordinate_descent_gram(\n",
      "C:\\Users\\benja\\mambaforge\\envs\\dsi-sg\\lib\\site-packages\\sklearn\\linear_model\\_coordinate_descent.py:617: ConvergenceWarning: Objective did not converge. You might want to increase the number of iterations. Duality gap: 4008828885386.375, tolerance: 183876531387.44037\n",
      "  model = cd_fast.enet_coordinate_descent_gram(\n",
      "C:\\Users\\benja\\mambaforge\\envs\\dsi-sg\\lib\\site-packages\\sklearn\\linear_model\\_coordinate_descent.py:617: ConvergenceWarning: Objective did not converge. You might want to increase the number of iterations. Duality gap: 5227422396419.8125, tolerance: 183876531387.44037\n",
      "  model = cd_fast.enet_coordinate_descent_gram(\n",
      "C:\\Users\\benja\\mambaforge\\envs\\dsi-sg\\lib\\site-packages\\sklearn\\linear_model\\_coordinate_descent.py:617: ConvergenceWarning: Objective did not converge. You might want to increase the number of iterations. Duality gap: 26087132183074.61, tolerance: 183876531387.44037\n",
      "  model = cd_fast.enet_coordinate_descent_gram(\n",
      "C:\\Users\\benja\\mambaforge\\envs\\dsi-sg\\lib\\site-packages\\sklearn\\linear_model\\_coordinate_descent.py:617: ConvergenceWarning: Objective did not converge. You might want to increase the number of iterations. Duality gap: 31592660650292.03, tolerance: 183876531387.44037\n",
      "  model = cd_fast.enet_coordinate_descent_gram(\n",
      "C:\\Users\\benja\\mambaforge\\envs\\dsi-sg\\lib\\site-packages\\sklearn\\linear_model\\_coordinate_descent.py:617: ConvergenceWarning: Objective did not converge. You might want to increase the number of iterations. Duality gap: 49780917789431.71, tolerance: 183876531387.44037\n",
      "  model = cd_fast.enet_coordinate_descent_gram(\n",
      "C:\\Users\\benja\\mambaforge\\envs\\dsi-sg\\lib\\site-packages\\sklearn\\linear_model\\_coordinate_descent.py:617: ConvergenceWarning: Objective did not converge. You might want to increase the number of iterations. Duality gap: 58581462682295.766, tolerance: 183876531387.44037\n",
      "  model = cd_fast.enet_coordinate_descent_gram(\n",
      "C:\\Users\\benja\\mambaforge\\envs\\dsi-sg\\lib\\site-packages\\sklearn\\linear_model\\_coordinate_descent.py:617: ConvergenceWarning: Objective did not converge. You might want to increase the number of iterations. Duality gap: 63151020127807.164, tolerance: 183876531387.44037\n",
      "  model = cd_fast.enet_coordinate_descent_gram(\n",
      "C:\\Users\\benja\\mambaforge\\envs\\dsi-sg\\lib\\site-packages\\sklearn\\linear_model\\_coordinate_descent.py:617: ConvergenceWarning: Objective did not converge. You might want to increase the number of iterations. Duality gap: 65241489063327.89, tolerance: 183876531387.44037\n",
      "  model = cd_fast.enet_coordinate_descent_gram(\n",
      "C:\\Users\\benja\\mambaforge\\envs\\dsi-sg\\lib\\site-packages\\sklearn\\linear_model\\_coordinate_descent.py:617: ConvergenceWarning: Objective did not converge. You might want to increase the number of iterations. Duality gap: 1714315181876.8125, tolerance: 183895226173.57632\n",
      "  model = cd_fast.enet_coordinate_descent_gram(\n",
      "C:\\Users\\benja\\mambaforge\\envs\\dsi-sg\\lib\\site-packages\\sklearn\\linear_model\\_coordinate_descent.py:617: ConvergenceWarning: Objective did not converge. You might want to increase the number of iterations. Duality gap: 575661026483.5625, tolerance: 183895226173.57632\n",
      "  model = cd_fast.enet_coordinate_descent_gram(\n",
      "C:\\Users\\benja\\mambaforge\\envs\\dsi-sg\\lib\\site-packages\\sklearn\\linear_model\\_coordinate_descent.py:617: ConvergenceWarning: Objective did not converge. You might want to increase the number of iterations. Duality gap: 3892312022927.422, tolerance: 183895226173.57632\n",
      "  model = cd_fast.enet_coordinate_descent_gram(\n",
      "C:\\Users\\benja\\mambaforge\\envs\\dsi-sg\\lib\\site-packages\\sklearn\\linear_model\\_coordinate_descent.py:617: ConvergenceWarning: Objective did not converge. You might want to increase the number of iterations. Duality gap: 8786176686830.891, tolerance: 183895226173.57632\n",
      "  model = cd_fast.enet_coordinate_descent_gram(\n",
      "C:\\Users\\benja\\mambaforge\\envs\\dsi-sg\\lib\\site-packages\\sklearn\\linear_model\\_coordinate_descent.py:617: ConvergenceWarning: Objective did not converge. You might want to increase the number of iterations. Duality gap: 27655766937139.906, tolerance: 183895226173.57632\n",
      "  model = cd_fast.enet_coordinate_descent_gram(\n",
      "C:\\Users\\benja\\mambaforge\\envs\\dsi-sg\\lib\\site-packages\\sklearn\\linear_model\\_coordinate_descent.py:617: ConvergenceWarning: Objective did not converge. You might want to increase the number of iterations. Duality gap: 54863663232762.37, tolerance: 183895226173.57632\n",
      "  model = cd_fast.enet_coordinate_descent_gram(\n",
      "C:\\Users\\benja\\mambaforge\\envs\\dsi-sg\\lib\\site-packages\\sklearn\\linear_model\\_coordinate_descent.py:617: ConvergenceWarning: Objective did not converge. You might want to increase the number of iterations. Duality gap: 52443677204072.19, tolerance: 183895226173.57632\n",
      "  model = cd_fast.enet_coordinate_descent_gram(\n",
      "C:\\Users\\benja\\mambaforge\\envs\\dsi-sg\\lib\\site-packages\\sklearn\\linear_model\\_coordinate_descent.py:617: ConvergenceWarning: Objective did not converge. You might want to increase the number of iterations. Duality gap: 60093907644034.67, tolerance: 183895226173.57632\n",
      "  model = cd_fast.enet_coordinate_descent_gram(\n",
      "C:\\Users\\benja\\mambaforge\\envs\\dsi-sg\\lib\\site-packages\\sklearn\\linear_model\\_coordinate_descent.py:617: ConvergenceWarning: Objective did not converge. You might want to increase the number of iterations. Duality gap: 63685204038768.33, tolerance: 183895226173.57632\n",
      "  model = cd_fast.enet_coordinate_descent_gram(\n",
      "C:\\Users\\benja\\mambaforge\\envs\\dsi-sg\\lib\\site-packages\\sklearn\\linear_model\\_coordinate_descent.py:617: ConvergenceWarning: Objective did not converge. You might want to increase the number of iterations. Duality gap: 65266614003090.95, tolerance: 183895226173.57632\n",
      "  model = cd_fast.enet_coordinate_descent_gram(\n",
      "C:\\Users\\benja\\mambaforge\\envs\\dsi-sg\\lib\\site-packages\\sklearn\\linear_model\\_coordinate_descent.py:617: ConvergenceWarning: Objective did not converge. You might want to increase the number of iterations. Duality gap: 279083802711.15625, tolerance: 185019062274.13406\n",
      "  model = cd_fast.enet_coordinate_descent_gram(\n",
      "C:\\Users\\benja\\mambaforge\\envs\\dsi-sg\\lib\\site-packages\\sklearn\\linear_model\\_coordinate_descent.py:617: ConvergenceWarning: Objective did not converge. You might want to increase the number of iterations. Duality gap: 602393627089.2031, tolerance: 185019062274.13406\n",
      "  model = cd_fast.enet_coordinate_descent_gram(\n",
      "C:\\Users\\benja\\mambaforge\\envs\\dsi-sg\\lib\\site-packages\\sklearn\\linear_model\\_coordinate_descent.py:617: ConvergenceWarning: Objective did not converge. You might want to increase the number of iterations. Duality gap: 4537657750332.75, tolerance: 185019062274.13406\n",
      "  model = cd_fast.enet_coordinate_descent_gram(\n",
      "C:\\Users\\benja\\mambaforge\\envs\\dsi-sg\\lib\\site-packages\\sklearn\\linear_model\\_coordinate_descent.py:617: ConvergenceWarning: Objective did not converge. You might want to increase the number of iterations. Duality gap: 9243652147781.219, tolerance: 185019062274.13406\n",
      "  model = cd_fast.enet_coordinate_descent_gram(\n",
      "C:\\Users\\benja\\mambaforge\\envs\\dsi-sg\\lib\\site-packages\\sklearn\\linear_model\\_coordinate_descent.py:617: ConvergenceWarning: Objective did not converge. You might want to increase the number of iterations. Duality gap: 44448485136618.39, tolerance: 185019062274.13406\n",
      "  model = cd_fast.enet_coordinate_descent_gram(\n",
      "C:\\Users\\benja\\mambaforge\\envs\\dsi-sg\\lib\\site-packages\\sklearn\\linear_model\\_coordinate_descent.py:617: ConvergenceWarning: Objective did not converge. You might want to increase the number of iterations. Duality gap: 35492619669406.53, tolerance: 185019062274.13406\n",
      "  model = cd_fast.enet_coordinate_descent_gram(\n",
      "C:\\Users\\benja\\mambaforge\\envs\\dsi-sg\\lib\\site-packages\\sklearn\\linear_model\\_coordinate_descent.py:617: ConvergenceWarning: Objective did not converge. You might want to increase the number of iterations. Duality gap: 46513347225721.805, tolerance: 185019062274.13406\n",
      "  model = cd_fast.enet_coordinate_descent_gram(\n",
      "C:\\Users\\benja\\mambaforge\\envs\\dsi-sg\\lib\\site-packages\\sklearn\\linear_model\\_coordinate_descent.py:617: ConvergenceWarning: Objective did not converge. You might want to increase the number of iterations. Duality gap: 58596563232916.625, tolerance: 185019062274.13406\n",
      "  model = cd_fast.enet_coordinate_descent_gram(\n",
      "C:\\Users\\benja\\mambaforge\\envs\\dsi-sg\\lib\\site-packages\\sklearn\\linear_model\\_coordinate_descent.py:617: ConvergenceWarning: Objective did not converge. You might want to increase the number of iterations. Duality gap: 63769706496831.63, tolerance: 185019062274.13406\n",
      "  model = cd_fast.enet_coordinate_descent_gram(\n",
      "C:\\Users\\benja\\mambaforge\\envs\\dsi-sg\\lib\\site-packages\\sklearn\\linear_model\\_coordinate_descent.py:617: ConvergenceWarning: Objective did not converge. You might want to increase the number of iterations. Duality gap: 65797384569865.62, tolerance: 185019062274.13406\n",
      "  model = cd_fast.enet_coordinate_descent_gram(\n",
      "C:\\Users\\benja\\mambaforge\\envs\\dsi-sg\\lib\\site-packages\\sklearn\\linear_model\\_coordinate_descent.py:617: ConvergenceWarning: Objective did not converge. You might want to increase the number of iterations. Duality gap: 6873817504076.1875, tolerance: 184875043672.3557\n",
      "  model = cd_fast.enet_coordinate_descent_gram(\n",
      "C:\\Users\\benja\\mambaforge\\envs\\dsi-sg\\lib\\site-packages\\sklearn\\linear_model\\_coordinate_descent.py:617: ConvergenceWarning: Objective did not converge. You might want to increase the number of iterations. Duality gap: 613561297076.5938, tolerance: 184875043672.3557\n",
      "  model = cd_fast.enet_coordinate_descent_gram(\n",
      "C:\\Users\\benja\\mambaforge\\envs\\dsi-sg\\lib\\site-packages\\sklearn\\linear_model\\_coordinate_descent.py:617: ConvergenceWarning: Objective did not converge. You might want to increase the number of iterations. Duality gap: 3416235724888.2188, tolerance: 184875043672.3557\n",
      "  model = cd_fast.enet_coordinate_descent_gram(\n",
      "C:\\Users\\benja\\mambaforge\\envs\\dsi-sg\\lib\\site-packages\\sklearn\\linear_model\\_coordinate_descent.py:617: ConvergenceWarning: Objective did not converge. You might want to increase the number of iterations. Duality gap: 5426171927840.6875, tolerance: 184875043672.3557\n",
      "  model = cd_fast.enet_coordinate_descent_gram(\n",
      "C:\\Users\\benja\\mambaforge\\envs\\dsi-sg\\lib\\site-packages\\sklearn\\linear_model\\_coordinate_descent.py:617: ConvergenceWarning: Objective did not converge. You might want to increase the number of iterations. Duality gap: 17289072693969.625, tolerance: 184875043672.3557\n",
      "  model = cd_fast.enet_coordinate_descent_gram(\n",
      "C:\\Users\\benja\\mambaforge\\envs\\dsi-sg\\lib\\site-packages\\sklearn\\linear_model\\_coordinate_descent.py:617: ConvergenceWarning: Objective did not converge. You might want to increase the number of iterations. Duality gap: 34111311724903.016, tolerance: 184875043672.3557\n",
      "  model = cd_fast.enet_coordinate_descent_gram(\n",
      "C:\\Users\\benja\\mambaforge\\envs\\dsi-sg\\lib\\site-packages\\sklearn\\linear_model\\_coordinate_descent.py:617: ConvergenceWarning: Objective did not converge. You might want to increase the number of iterations. Duality gap: 48531237790418.414, tolerance: 184875043672.3557\n",
      "  model = cd_fast.enet_coordinate_descent_gram(\n",
      "C:\\Users\\benja\\mambaforge\\envs\\dsi-sg\\lib\\site-packages\\sklearn\\linear_model\\_coordinate_descent.py:617: ConvergenceWarning: Objective did not converge. You might want to increase the number of iterations. Duality gap: 59859682207893.516, tolerance: 184875043672.3557\n",
      "  model = cd_fast.enet_coordinate_descent_gram(\n",
      "C:\\Users\\benja\\mambaforge\\envs\\dsi-sg\\lib\\site-packages\\sklearn\\linear_model\\_coordinate_descent.py:617: ConvergenceWarning: Objective did not converge. You might want to increase the number of iterations. Duality gap: 63724731201504.79, tolerance: 184875043672.3557\n",
      "  model = cd_fast.enet_coordinate_descent_gram(\n",
      "C:\\Users\\benja\\mambaforge\\envs\\dsi-sg\\lib\\site-packages\\sklearn\\linear_model\\_coordinate_descent.py:617: ConvergenceWarning: Objective did not converge. You might want to increase the number of iterations. Duality gap: 65551474051906.5, tolerance: 184875043672.3557\n",
      "  model = cd_fast.enet_coordinate_descent_gram(\n",
      "C:\\Users\\benja\\mambaforge\\envs\\dsi-sg\\lib\\site-packages\\sklearn\\linear_model\\_coordinate_descent.py:617: ConvergenceWarning: Objective did not converge. You might want to increase the number of iterations. Duality gap: 8633767183567.469, tolerance: 184083558034.64145\n",
      "  model = cd_fast.enet_coordinate_descent_gram(\n",
      "C:\\Users\\benja\\mambaforge\\envs\\dsi-sg\\lib\\site-packages\\sklearn\\linear_model\\_coordinate_descent.py:617: ConvergenceWarning: Objective did not converge. You might want to increase the number of iterations. Duality gap: 662345833064.4375, tolerance: 184083558034.64145\n",
      "  model = cd_fast.enet_coordinate_descent_gram(\n",
      "C:\\Users\\benja\\mambaforge\\envs\\dsi-sg\\lib\\site-packages\\sklearn\\linear_model\\_coordinate_descent.py:617: ConvergenceWarning: Objective did not converge. You might want to increase the number of iterations. Duality gap: 3565963408740.375, tolerance: 184083558034.64145\n",
      "  model = cd_fast.enet_coordinate_descent_gram(\n",
      "C:\\Users\\benja\\mambaforge\\envs\\dsi-sg\\lib\\site-packages\\sklearn\\linear_model\\_coordinate_descent.py:617: ConvergenceWarning: Objective did not converge. You might want to increase the number of iterations. Duality gap: 9235001182336.203, tolerance: 184083558034.64145\n",
      "  model = cd_fast.enet_coordinate_descent_gram(\n",
      "C:\\Users\\benja\\mambaforge\\envs\\dsi-sg\\lib\\site-packages\\sklearn\\linear_model\\_coordinate_descent.py:617: ConvergenceWarning: Objective did not converge. You might want to increase the number of iterations. Duality gap: 43900315497651.26, tolerance: 184083558034.64145\n",
      "  model = cd_fast.enet_coordinate_descent_gram(\n",
      "C:\\Users\\benja\\mambaforge\\envs\\dsi-sg\\lib\\site-packages\\sklearn\\linear_model\\_coordinate_descent.py:617: ConvergenceWarning: Objective did not converge. You might want to increase the number of iterations. Duality gap: 42504368472946.72, tolerance: 184083558034.64145\n",
      "  model = cd_fast.enet_coordinate_descent_gram(\n",
      "C:\\Users\\benja\\mambaforge\\envs\\dsi-sg\\lib\\site-packages\\sklearn\\linear_model\\_coordinate_descent.py:617: ConvergenceWarning: Objective did not converge. You might want to increase the number of iterations. Duality gap: 51767363281030.66, tolerance: 184083558034.64145\n",
      "  model = cd_fast.enet_coordinate_descent_gram(\n",
      "C:\\Users\\benja\\mambaforge\\envs\\dsi-sg\\lib\\site-packages\\sklearn\\linear_model\\_coordinate_descent.py:617: ConvergenceWarning: Objective did not converge. You might want to increase the number of iterations. Duality gap: 59898835273431.94, tolerance: 184083558034.64145\n",
      "  model = cd_fast.enet_coordinate_descent_gram(\n",
      "C:\\Users\\benja\\mambaforge\\envs\\dsi-sg\\lib\\site-packages\\sklearn\\linear_model\\_coordinate_descent.py:617: ConvergenceWarning: Objective did not converge. You might want to increase the number of iterations. Duality gap: 64131050887475.055, tolerance: 184083558034.64145\n",
      "  model = cd_fast.enet_coordinate_descent_gram(\n",
      "C:\\Users\\benja\\mambaforge\\envs\\dsi-sg\\lib\\site-packages\\sklearn\\linear_model\\_coordinate_descent.py:617: ConvergenceWarning: Objective did not converge. You might want to increase the number of iterations. Duality gap: 65873839871026.0, tolerance: 184083558034.64145\n",
      "  model = cd_fast.enet_coordinate_descent_gram(\n",
      "C:\\Users\\benja\\mambaforge\\envs\\dsi-sg\\lib\\site-packages\\sklearn\\linear_model\\_coordinate_descent.py:631: ConvergenceWarning: Objective did not converge. You might want to increase the number of iterations, check the scale of the features or consider increasing regularisation. Duality gap: 8.497e+13, tolerance: 2.304e+11\n",
      "  model = cd_fast.enet_coordinate_descent(\n"
     ]
    },
    {
     "data": {
      "text/html": [
       "<style>#sk-container-id-5 {color: black;background-color: white;}#sk-container-id-5 pre{padding: 0;}#sk-container-id-5 div.sk-toggleable {background-color: white;}#sk-container-id-5 label.sk-toggleable__label {cursor: pointer;display: block;width: 100%;margin-bottom: 0;padding: 0.3em;box-sizing: border-box;text-align: center;}#sk-container-id-5 label.sk-toggleable__label-arrow:before {content: \"▸\";float: left;margin-right: 0.25em;color: #696969;}#sk-container-id-5 label.sk-toggleable__label-arrow:hover:before {color: black;}#sk-container-id-5 div.sk-estimator:hover label.sk-toggleable__label-arrow:before {color: black;}#sk-container-id-5 div.sk-toggleable__content {max-height: 0;max-width: 0;overflow: hidden;text-align: left;background-color: #f0f8ff;}#sk-container-id-5 div.sk-toggleable__content pre {margin: 0.2em;color: black;border-radius: 0.25em;background-color: #f0f8ff;}#sk-container-id-5 input.sk-toggleable__control:checked~div.sk-toggleable__content {max-height: 200px;max-width: 100%;overflow: auto;}#sk-container-id-5 input.sk-toggleable__control:checked~label.sk-toggleable__label-arrow:before {content: \"▾\";}#sk-container-id-5 div.sk-estimator input.sk-toggleable__control:checked~label.sk-toggleable__label {background-color: #d4ebff;}#sk-container-id-5 div.sk-label input.sk-toggleable__control:checked~label.sk-toggleable__label {background-color: #d4ebff;}#sk-container-id-5 input.sk-hidden--visually {border: 0;clip: rect(1px 1px 1px 1px);clip: rect(1px, 1px, 1px, 1px);height: 1px;margin: -1px;overflow: hidden;padding: 0;position: absolute;width: 1px;}#sk-container-id-5 div.sk-estimator {font-family: monospace;background-color: #f0f8ff;border: 1px dotted black;border-radius: 0.25em;box-sizing: border-box;margin-bottom: 0.5em;}#sk-container-id-5 div.sk-estimator:hover {background-color: #d4ebff;}#sk-container-id-5 div.sk-parallel-item::after {content: \"\";width: 100%;border-bottom: 1px solid gray;flex-grow: 1;}#sk-container-id-5 div.sk-label:hover label.sk-toggleable__label {background-color: #d4ebff;}#sk-container-id-5 div.sk-serial::before {content: \"\";position: absolute;border-left: 1px solid gray;box-sizing: border-box;top: 0;bottom: 0;left: 50%;z-index: 0;}#sk-container-id-5 div.sk-serial {display: flex;flex-direction: column;align-items: center;background-color: white;padding-right: 0.2em;padding-left: 0.2em;position: relative;}#sk-container-id-5 div.sk-item {position: relative;z-index: 1;}#sk-container-id-5 div.sk-parallel {display: flex;align-items: stretch;justify-content: center;background-color: white;position: relative;}#sk-container-id-5 div.sk-item::before, #sk-container-id-5 div.sk-parallel-item::before {content: \"\";position: absolute;border-left: 1px solid gray;box-sizing: border-box;top: 0;bottom: 0;left: 50%;z-index: -1;}#sk-container-id-5 div.sk-parallel-item {display: flex;flex-direction: column;z-index: 1;position: relative;background-color: white;}#sk-container-id-5 div.sk-parallel-item:first-child::after {align-self: flex-end;width: 50%;}#sk-container-id-5 div.sk-parallel-item:last-child::after {align-self: flex-start;width: 50%;}#sk-container-id-5 div.sk-parallel-item:only-child::after {width: 0;}#sk-container-id-5 div.sk-dashed-wrapped {border: 1px dashed gray;margin: 0 0.4em 0.5em 0.4em;box-sizing: border-box;padding-bottom: 0.4em;background-color: white;}#sk-container-id-5 div.sk-label label {font-family: monospace;font-weight: bold;display: inline-block;line-height: 1.2em;}#sk-container-id-5 div.sk-label-container {text-align: center;}#sk-container-id-5 div.sk-container {/* jupyter's `normalize.less` sets `[hidden] { display: none; }` but bootstrap.min.css set `[hidden] { display: none !important; }` so we also need the `!important` here to be able to override the default hidden behavior on the sphinx rendered scikit-learn.org. See: https://github.com/scikit-learn/scikit-learn/issues/21755 */display: inline-block !important;position: relative;}#sk-container-id-5 div.sk-text-repr-fallback {display: none;}</style><div id=\"sk-container-id-5\" class=\"sk-top-container\"><div class=\"sk-text-repr-fallback\"><pre>LassoCV(alphas=array([1.00000000e-03, 2.78255940e-03, 7.74263683e-03, 2.15443469e-02,\n",
       "       5.99484250e-02, 1.66810054e-01, 4.64158883e-01, 1.29154967e+00,\n",
       "       3.59381366e+00, 1.00000000e+01]),\n",
       "        cv=5)</pre><b>In a Jupyter environment, please rerun this cell to show the HTML representation or trust the notebook. <br />On GitHub, the HTML representation is unable to render, please try loading this page with nbviewer.org.</b></div><div class=\"sk-container\" hidden><div class=\"sk-item\"><div class=\"sk-estimator sk-toggleable\"><input class=\"sk-toggleable__control sk-hidden--visually\" id=\"sk-estimator-id-5\" type=\"checkbox\" checked><label for=\"sk-estimator-id-5\" class=\"sk-toggleable__label sk-toggleable__label-arrow\">LassoCV</label><div class=\"sk-toggleable__content\"><pre>LassoCV(alphas=array([1.00000000e-03, 2.78255940e-03, 7.74263683e-03, 2.15443469e-02,\n",
       "       5.99484250e-02, 1.66810054e-01, 4.64158883e-01, 1.29154967e+00,\n",
       "       3.59381366e+00, 1.00000000e+01]),\n",
       "        cv=5)</pre></div></div></div></div></div>"
      ],
      "text/plain": [
       "LassoCV(alphas=array([1.00000000e-03, 2.78255940e-03, 7.74263683e-03, 2.15443469e-02,\n",
       "       5.99484250e-02, 1.66810054e-01, 4.64158883e-01, 1.29154967e+00,\n",
       "       3.59381366e+00, 1.00000000e+01]),\n",
       "        cv=5)"
      ]
     },
     "execution_count": 87,
     "metadata": {},
     "output_type": "execute_result"
    }
   ],
   "source": [
    "l_alphas = np.logspace(-3, 1, 10)\n",
    "\n",
    "lassocv = LassoCV(alphas=l_alphas, cv=5, max_iter=1000)\n",
    "lassocv.fit(Z_train, y_train)"
   ]
  },
  {
   "cell_type": "code",
   "execution_count": 88,
   "id": "64c383f0-53f3-4e3b-a1ce-f1638281c8c1",
   "metadata": {},
   "outputs": [
    {
     "data": {
      "text/plain": [
       "0.001"
      ]
     },
     "execution_count": 88,
     "metadata": {},
     "output_type": "execute_result"
    }
   ],
   "source": [
    "lassocv.alpha_"
   ]
  },
  {
   "cell_type": "code",
   "execution_count": 89,
   "id": "b85d1413-9f43-4af1-94cd-45e07d952a84",
   "metadata": {},
   "outputs": [
    {
     "name": "stderr",
     "output_type": "stream",
     "text": [
      "C:\\Users\\benja\\mambaforge\\envs\\dsi-sg\\lib\\site-packages\\sklearn\\linear_model\\_coordinate_descent.py:631: ConvergenceWarning: Objective did not converge. You might want to increase the number of iterations, check the scale of the features or consider increasing regularisation. Duality gap: 6.788e+13, tolerance: 1.839e+11\n",
      "  model = cd_fast.enet_coordinate_descent(\n",
      "C:\\Users\\benja\\mambaforge\\envs\\dsi-sg\\lib\\site-packages\\sklearn\\linear_model\\_coordinate_descent.py:631: ConvergenceWarning: Objective did not converge. You might want to increase the number of iterations, check the scale of the features or consider increasing regularisation. Duality gap: 6.768e+13, tolerance: 1.839e+11\n",
      "  model = cd_fast.enet_coordinate_descent(\n",
      "C:\\Users\\benja\\mambaforge\\envs\\dsi-sg\\lib\\site-packages\\sklearn\\linear_model\\_coordinate_descent.py:631: ConvergenceWarning: Objective did not converge. You might want to increase the number of iterations, check the scale of the features or consider increasing regularisation. Duality gap: 6.792e+13, tolerance: 1.850e+11\n",
      "  model = cd_fast.enet_coordinate_descent(\n",
      "C:\\Users\\benja\\mambaforge\\envs\\dsi-sg\\lib\\site-packages\\sklearn\\linear_model\\_coordinate_descent.py:631: ConvergenceWarning: Objective did not converge. You might want to increase the number of iterations, check the scale of the features or consider increasing regularisation. Duality gap: 6.819e+13, tolerance: 1.849e+11\n",
      "  model = cd_fast.enet_coordinate_descent(\n",
      "C:\\Users\\benja\\mambaforge\\envs\\dsi-sg\\lib\\site-packages\\sklearn\\linear_model\\_coordinate_descent.py:631: ConvergenceWarning: Objective did not converge. You might want to increase the number of iterations, check the scale of the features or consider increasing regularisation. Duality gap: 6.744e+13, tolerance: 1.841e+11\n",
      "  model = cd_fast.enet_coordinate_descent(\n"
     ]
    },
    {
     "name": "stdout",
     "output_type": "stream",
     "text": [
      "[0.92571231 0.92485553 0.9241447  0.92536717 0.92344725]\n",
      "0.9247053877726905\n"
     ]
    }
   ],
   "source": [
    "lasso = Lasso(alpha=lassocv.alpha_)\n",
    "\n",
    "lasso_scores = cross_val_score(lasso, Z_train, y_train)\n",
    "\n",
    "print (lasso_scores)\n",
    "print (np.mean(lasso_scores))"
   ]
  },
  {
   "cell_type": "code",
   "execution_count": 90,
   "id": "0391e665-ffc6-4438-8f56-135b7b20c311",
   "metadata": {},
   "outputs": [
    {
     "name": "stderr",
     "output_type": "stream",
     "text": [
      "C:\\Users\\benja\\mambaforge\\envs\\dsi-sg\\lib\\site-packages\\sklearn\\linear_model\\_coordinate_descent.py:631: ConvergenceWarning: Objective did not converge. You might want to increase the number of iterations, check the scale of the features or consider increasing regularisation. Duality gap: 8.497e+13, tolerance: 2.304e+11\n",
      "  model = cd_fast.enet_coordinate_descent(\n"
     ]
    }
   ],
   "source": [
    "#Retrain ridge\n",
    "lasso.fit(Z_train, y_train)\n",
    "\n",
    "#Generate predictions\n",
    "y_train_preds = lasso.predict(Z_train)\n",
    "y_test_preds = lasso.predict(Z_test)"
   ]
  },
  {
   "cell_type": "code",
   "execution_count": 91,
   "id": "59ac33ba-d8b7-4ab2-82c7-82b86fdb0aaf",
   "metadata": {},
   "outputs": [
    {
     "data": {
      "text/plain": [
       "0.9261505725726171"
      ]
     },
     "execution_count": 91,
     "metadata": {},
     "output_type": "execute_result"
    }
   ],
   "source": [
    "# Train score:\n",
    "lasso_train_score = lasso.score(Z_train, y_train)\n",
    "lasso_train_score"
   ]
  },
  {
   "cell_type": "code",
   "execution_count": 92,
   "id": "ff8e13bf-502e-44fb-a086-d26eb2e3b0ce",
   "metadata": {},
   "outputs": [
    {
     "data": {
      "text/plain": [
       "0.924731232168656"
      ]
     },
     "execution_count": 92,
     "metadata": {},
     "output_type": "execute_result"
    }
   ],
   "source": [
    "# Test  score:\n",
    "lasso_test_score = lasso.score(Z_test, y_test)\n",
    "lasso_test_score"
   ]
  },
  {
   "cell_type": "code",
   "execution_count": 93,
   "id": "0c7f4207-2443-4c50-8b64-1edd3922001c",
   "metadata": {},
   "outputs": [
    {
     "name": "stdout",
     "output_type": "stream",
     "text": [
      "38922.829734189305\n",
      "39291.22360499915\n"
     ]
    }
   ],
   "source": [
    "#MSE\n",
    "train_MSE = mean_squared_error(y_train, y_train_preds)\n",
    "test_MSE = mean_squared_error(y_test, y_test_preds)\n",
    "#RMSE \n",
    "print(np.sqrt(train_MSE))\n",
    "print(np.sqrt(test_MSE))"
   ]
  },
  {
   "cell_type": "code",
   "execution_count": 94,
   "id": "87bbc874-927b-400b-a951-184caca7d2d0",
   "metadata": {},
   "outputs": [
    {
     "data": {
      "text/html": [
       "<div>\n",
       "<style scoped>\n",
       "    .dataframe tbody tr th:only-of-type {\n",
       "        vertical-align: middle;\n",
       "    }\n",
       "\n",
       "    .dataframe tbody tr th {\n",
       "        vertical-align: top;\n",
       "    }\n",
       "\n",
       "    .dataframe thead th {\n",
       "        text-align: right;\n",
       "    }\n",
       "</style>\n",
       "<table border=\"1\" class=\"dataframe\">\n",
       "  <thead>\n",
       "    <tr style=\"text-align: right;\">\n",
       "      <th></th>\n",
       "      <th>0</th>\n",
       "      <th>1</th>\n",
       "    </tr>\n",
       "  </thead>\n",
       "  <tbody>\n",
       "    <tr>\n",
       "      <th>682</th>\n",
       "      <td>pri_sch_name_Greendale Primary School</td>\n",
       "      <td>37.259727</td>\n",
       "    </tr>\n",
       "    <tr>\n",
       "      <th>6</th>\n",
       "      <td>studio_apartment_sold</td>\n",
       "      <td>59.172796</td>\n",
       "    </tr>\n",
       "    <tr>\n",
       "      <th>16</th>\n",
       "      <td>2room_sold</td>\n",
       "      <td>62.183298</td>\n",
       "    </tr>\n",
       "    <tr>\n",
       "      <th>869</th>\n",
       "      <td>sec_sch_name_Manjusri Secondary School</td>\n",
       "      <td>92.006903</td>\n",
       "    </tr>\n",
       "    <tr>\n",
       "      <th>784</th>\n",
       "      <td>pri_sch_name_White Sands Primary School</td>\n",
       "      <td>103.761078</td>\n",
       "    </tr>\n",
       "    <tr>\n",
       "      <th>...</th>\n",
       "      <td>...</td>\n",
       "      <td>...</td>\n",
       "    </tr>\n",
       "    <tr>\n",
       "      <th>38</th>\n",
       "      <td>flat_type_1 ROOM</td>\n",
       "      <td>283643.583597</td>\n",
       "    </tr>\n",
       "    <tr>\n",
       "      <th>334</th>\n",
       "      <td>street_name_MARINE DR</td>\n",
       "      <td>290998.649285</td>\n",
       "    </tr>\n",
       "    <tr>\n",
       "      <th>195</th>\n",
       "      <td>street_name_DOVER CL EAST</td>\n",
       "      <td>299953.031463</td>\n",
       "    </tr>\n",
       "    <tr>\n",
       "      <th>169</th>\n",
       "      <td>street_name_CLARENCE LANE</td>\n",
       "      <td>324669.590649</td>\n",
       "    </tr>\n",
       "    <tr>\n",
       "      <th>590</th>\n",
       "      <td>flat_model_Terrace</td>\n",
       "      <td>425272.840411</td>\n",
       "    </tr>\n",
       "  </tbody>\n",
       "</table>\n",
       "<p>937 rows × 2 columns</p>\n",
       "</div>"
      ],
      "text/plain": [
       "                                           0              1\n",
       "682    pri_sch_name_Greendale Primary School      37.259727\n",
       "6                      studio_apartment_sold      59.172796\n",
       "16                                2room_sold      62.183298\n",
       "869   sec_sch_name_Manjusri Secondary School      92.006903\n",
       "784  pri_sch_name_White Sands Primary School     103.761078\n",
       "..                                       ...            ...\n",
       "38                          flat_type_1 ROOM  283643.583597\n",
       "334                    street_name_MARINE DR  290998.649285\n",
       "195                street_name_DOVER CL EAST  299953.031463\n",
       "169                street_name_CLARENCE LANE  324669.590649\n",
       "590                       flat_model_Terrace  425272.840411\n",
       "\n",
       "[937 rows x 2 columns]"
      ]
     },
     "execution_count": 94,
     "metadata": {},
     "output_type": "execute_result"
    }
   ],
   "source": [
    "#check on lasso coefficients that is reduced to 0\n",
    "coefs_df = pd.DataFrame(list(zip(Z_train.columns, abs(lassocv.coef_))))\n",
    "coefs_df.sort_values(by = 1, ascending = True)"
   ]
  },
  {
   "cell_type": "markdown",
   "id": "af2b6478-4126-41dc-8ab0-80fb2ed92d82",
   "metadata": {},
   "source": [
    "### Results Analysis\n"
   ]
  },
  {
   "cell_type": "markdown",
   "id": "7ed48e7c-069f-41c4-a497-3b24be12bb81",
   "metadata": {},
   "source": [
    "| Score Description | Linear Regression | Ridge Regression | Lasso Regression |\n",
    "|-------------------|-------------------|------------------|------------------|\n",
    "| Train R2 Score    | 0.92618           | 0.92618          | 0.92615          |\n",
    "| Test R2 Score     | <mark> -6846639454563</mark>    | 0.92476          | 0.92473          |\n",
    "| Train RMSE        | 38915.20          | 38915.67         | 38922.81         |\n",
    "| Test RMSE         | <mark> 374737262352 </mark>      | 39283.65         | 39291.81         |"
   ]
  },
  {
   "cell_type": "markdown",
   "id": "affa6ef2-9d95-4ecc-8663-d15a066e482d",
   "metadata": {},
   "source": [
    "After modelling the data using linear regression, the test scored gave a discrepant result (highlighted in yellow) which is negative and large which does not make sense for as an coefficient of determination (R2) score. Therefore, the Root-mean-square deviation (RMSE) is used as well as a gauge of comparison. The RMSE for Linear regression in the test set is also oddly high (highlighted in yellow). Likely, the splitting of the data set has resulted in an imbalance that skews the results of when the more simplistic linear regression model is used.\r\n",
    "\r\n",
    "Looking for alternatives, Ridge regression models and Lasso regression models were tested out as well. While the scores were both similar, the cross-validation Lasso regression model gave convergence warning, indicating that the most optimal alpha value derived may not be the true optimum. Therefore, the results of Ridge regression model will be used as a comparison in other iteration unless the convergence warning is resolved.\r\n",
    "\r\n",
    "For the Ridge regression mode, the R2 train and test scores are quite high at 0.926 and 0.926 which means the model is fairly linear. The RMSE score indicate almost $40,000 in variance from the actual value for the predictions. Tellingly, for both metrics of assessment, the test score shows a slightly higher variation and poorer fit indicating that there may be some overfit.\r\n",
    "\r\n",
    "Since the models uses features as is, this iteration is a baseline for comparison with the others which should likely show improvements. To improve the model, another iteration will be tested out with feature engineering.\r\n"
   ]
  },
  {
   "cell_type": "code",
   "execution_count": null,
   "id": "cacd7f8a-e69c-46a4-84c2-7015ce274946",
   "metadata": {},
   "outputs": [],
   "source": []
  },
  {
   "cell_type": "markdown",
   "id": "dee7bf4b-4e95-4e25-aeff-6cd97120563d",
   "metadata": {},
   "source": [
    "# Pickling in progress"
   ]
  },
  {
   "cell_type": "code",
   "execution_count": null,
   "id": "a7957250-8e78-42f3-9712-0e0cb64e8158",
   "metadata": {},
   "outputs": [],
   "source": [
    "import pickle"
   ]
  },
  {
   "cell_type": "code",
   "execution_count": null,
   "id": "935efbf5-fcbf-47d9-a42e-1bf017bd10d1",
   "metadata": {},
   "outputs": [],
   "source": [
    "pickle.dump(lr, open('lr.pkl', 'wb'))"
   ]
  },
  {
   "cell_type": "code",
   "execution_count": null,
   "id": "ae80f6c3-4498-476c-b86a-86d2f4d19a95",
   "metadata": {},
   "outputs": [],
   "source": [
    "pickle.dump(ridgecv, open('ridgecv.pkl', 'wb'))"
   ]
  },
  {
   "cell_type": "code",
   "execution_count": null,
   "id": "95ec9259-d916-48c3-8137-d2760323a863",
   "metadata": {},
   "outputs": [],
   "source": [
    "pickle.dump(lassocv, open('lassocv.pkl', 'wb'))"
   ]
  },
  {
   "cell_type": "code",
   "execution_count": null,
   "id": "840c325f-c941-44a4-a88d-f06cd368ceb6",
   "metadata": {},
   "outputs": [],
   "source": []
  }
 ],
 "metadata": {
  "kernelspec": {
   "display_name": "Python 3 (ipykernel)",
   "language": "python",
   "name": "python3"
  },
  "language_info": {
   "codemirror_mode": {
    "name": "ipython",
    "version": 3
   },
   "file_extension": ".py",
   "mimetype": "text/x-python",
   "name": "python",
   "nbconvert_exporter": "python",
   "pygments_lexer": "ipython3",
   "version": "3.8.17"
  }
 },
 "nbformat": 4,
 "nbformat_minor": 5
}
