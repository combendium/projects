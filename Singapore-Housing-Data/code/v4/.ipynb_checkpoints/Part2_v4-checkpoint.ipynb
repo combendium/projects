{
 "cells": [
  {
   "cell_type": "markdown",
   "id": "a98d375f-3ca7-41e9-bab4-a05f74db5272",
   "metadata": {},
   "source": [
    "<img src=\"http://imgur.com/1ZcRyrc.png\" style=\"float: left; margin: 20px; height: 55px\"> \n",
    "\n",
    "# Project 1: Project 2 - Singapore Housing Data and Kaggle Challenge"
   ]
  },
  {
   "cell_type": "markdown",
   "id": "4a8ff5bc-6e06-4761-837b-e1ee170af9b4",
   "metadata": {},
   "source": [
    "--- \n",
    "# Part 2 Modeling and refining\n",
    "---"
   ]
  },
  {
   "cell_type": "markdown",
   "id": "c7360e1a-9802-4df8-99e7-7fcec197966d",
   "metadata": {},
   "source": [
    "# Contents:\n",
    "- [Problem Statement](#Problem-Statement)\n",
    "- [All imports](#All-imports)\n",
    "- [Preprocessing](#Preprocessing)\n",
    "- [Data Dictionary](#Data-Dictionary)\n",
    "- [Train-Test Split](#Train-Test-Split)\n",
    "- [Linear Regression](#Linear-Regression)\n",
    "- [Ridge Regression](#Ridge-Regression)\n",
    "- [Lasso Regression](#Lasso-Regression)\n",
    "- [Predictions](#Predictions)"
   ]
  },
  {
   "cell_type": "markdown",
   "id": "907483bc-d727-4bdd-b78c-379290cf900a",
   "metadata": {},
   "source": [
    "## Problem Statement"
   ]
  },
  {
   "cell_type": "markdown",
   "id": "d5bc0d96-43e3-4634-a4d1-6997289a4c4b",
   "metadata": {},
   "source": [
    "Housing pricing affects the decision making process of buyers in their assessment of the unit. This project attempts to build a linear regression model, using the data contain in the dataset folder. The goal is to have the model accurately predict the sales price of the houses in the test set, which will be evaluated based on common evaluation metrics such as R2 and RMSE.\n",
    "This will give those who are impacted by housing prices, e.g. owners, buyers and agents additional avenue to gauge the prices of the house unit and aid their decision making process."
   ]
  },
  {
   "cell_type": "markdown",
   "id": "b7757f48-5a08-4d78-ba06-b94a4f9233a7",
   "metadata": {},
   "source": [
    "## All imports\n",
    "Libraries and data imports"
   ]
  },
  {
   "cell_type": "code",
   "execution_count": 1,
   "id": "83dfe51f-5db8-4607-a154-f91bce39c437",
   "metadata": {},
   "outputs": [],
   "source": [
    "# Imports:\n",
    "import numpy as np\n",
    "import pandas as pd\n",
    "import os\n",
    "import matplotlib.pyplot as plt\n",
    "import seaborn as sns\n",
    "\n",
    "from sklearn.linear_model import LinearRegression, LassoCV, Lasso, RidgeCV, Ridge\n",
    "from sklearn.preprocessing import StandardScaler, OneHotEncoder, PolynomialFeatures, PowerTransformer\n",
    "from sklearn.model_selection import train_test_split, cross_val_score, cross_val_predict\n",
    "from sklearn.metrics import r2_score, mean_squared_error\n",
    "import statsmodels.api as sm"
   ]
  },
  {
   "cell_type": "code",
   "execution_count": 2,
   "id": "9d619f91-1eb4-4315-ba73-64321e3cddc0",
   "metadata": {},
   "outputs": [],
   "source": [
    "df = pd.read_csv('../../data/output/cleaner_train.csv')"
   ]
  },
  {
   "cell_type": "code",
   "execution_count": 3,
   "id": "cf8817c2-105d-4d77-a61f-8627328bc2e6",
   "metadata": {},
   "outputs": [
    {
     "name": "stdout",
     "output_type": "stream",
     "text": [
      "<class 'pandas.core.frame.DataFrame'>\n",
      "RangeIndex: 149695 entries, 0 to 149694\n",
      "Data columns (total 45 columns):\n",
      " #   Column                     Non-Null Count   Dtype  \n",
      "---  ------                     --------------   -----  \n",
      " 0   flat_type                  149695 non-null  object \n",
      " 1   street_name                149695 non-null  object \n",
      " 2   floor_area_sqm             149695 non-null  float64\n",
      " 3   flat_model                 149695 non-null  object \n",
      " 4   lease_commence_date        149695 non-null  int64  \n",
      " 5   resale_price               149695 non-null  float64\n",
      " 6   Tranc_Year                 149695 non-null  int64  \n",
      " 7   Tranc_Month                149695 non-null  int64  \n",
      " 8   mid                        149695 non-null  int64  \n",
      " 9   max_floor_lvl              149695 non-null  int64  \n",
      " 10  commercial                 149695 non-null  int64  \n",
      " 11  market_hawker              149695 non-null  int64  \n",
      " 12  multistorey_carpark        149695 non-null  int64  \n",
      " 13  precinct_pavilion          149695 non-null  int64  \n",
      " 14  total_dwelling_units       149695 non-null  int64  \n",
      " 15  1room_sold                 149695 non-null  int64  \n",
      " 16  2room_sold                 149695 non-null  int64  \n",
      " 17  3room_sold                 149695 non-null  int64  \n",
      " 18  4room_sold                 149695 non-null  int64  \n",
      " 19  5room_sold                 149695 non-null  int64  \n",
      " 20  exec_sold                  149695 non-null  int64  \n",
      " 21  multigen_sold              149695 non-null  int64  \n",
      " 22  studio_apartment_sold      149695 non-null  int64  \n",
      " 23  1room_rental               149695 non-null  int64  \n",
      " 24  2room_rental               149695 non-null  int64  \n",
      " 25  3room_rental               149695 non-null  int64  \n",
      " 26  other_room_rental          149695 non-null  int64  \n",
      " 27  planning_area              149695 non-null  object \n",
      " 28  Mall_Nearest_Distance      149695 non-null  float64\n",
      " 29  Mall_Within_500m           149695 non-null  float64\n",
      " 30  Mall_Within_1km            149695 non-null  float64\n",
      " 31  Mall_Within_2km            149695 non-null  float64\n",
      " 32  Hawker_Nearest_Distance    149695 non-null  float64\n",
      " 33  Hawker_Within_500m         149695 non-null  float64\n",
      " 34  Hawker_Within_1km          149695 non-null  float64\n",
      " 35  Hawker_Within_2km          149695 non-null  float64\n",
      " 36  mrt_nearest_distance       149695 non-null  float64\n",
      " 37  bus_interchange            149695 non-null  int64  \n",
      " 38  mrt_interchange            149695 non-null  int64  \n",
      " 39  bus_stop_nearest_distance  149695 non-null  float64\n",
      " 40  pri_sch_nearest_distance   149695 non-null  float64\n",
      " 41  pri_sch_name               149695 non-null  object \n",
      " 42  pri_sch_affiliation        149695 non-null  int64  \n",
      " 43  sec_sch_name               149695 non-null  object \n",
      " 44  cutoff_point               149695 non-null  int64  \n",
      "dtypes: float64(13), int64(26), object(6)\n",
      "memory usage: 51.4+ MB\n"
     ]
    }
   ],
   "source": [
    "df.info()"
   ]
  },
  {
   "cell_type": "markdown",
   "id": "daef33c7-9f02-4eed-a89c-b4293f68fc80",
   "metadata": {},
   "source": [
    "## Preprocessing\n",
    "As mentioned in Part1 (EDA), some features would have to engineered, e.g. remaining lease at point of sale, storey level and the max floor level could be combined to hopefully increase the fit of the feature"
   ]
  },
  {
   "cell_type": "markdown",
   "id": "e5766865-b4e8-4928-80be-579a81bd19f9",
   "metadata": {},
   "source": [
    "### Initial Feature engineering"
   ]
  },
  {
   "cell_type": "code",
   "execution_count": 4,
   "id": "28642960-0e5b-4614-af24-85aba666ea47",
   "metadata": {},
   "outputs": [],
   "source": [
    "df['transaction_age'] = df['Tranc_Year'] - df['lease_commence_date']\n",
    "df.drop(columns = ['lease_commence_date'], inplace = True)"
   ]
  },
  {
   "cell_type": "code",
   "execution_count": 5,
   "id": "a31c2cc0-67f2-45d5-898e-cf6fedbbaec8",
   "metadata": {},
   "outputs": [
    {
     "name": "stdout",
     "output_type": "stream",
     "text": [
      "<class 'pandas.core.frame.DataFrame'>\n",
      "RangeIndex: 149695 entries, 0 to 149694\n",
      "Data columns (total 45 columns):\n",
      " #   Column                     Non-Null Count   Dtype  \n",
      "---  ------                     --------------   -----  \n",
      " 0   flat_type                  149695 non-null  object \n",
      " 1   street_name                149695 non-null  object \n",
      " 2   floor_area_sqm             149695 non-null  float64\n",
      " 3   flat_model                 149695 non-null  object \n",
      " 4   resale_price               149695 non-null  float64\n",
      " 5   Tranc_Year                 149695 non-null  int64  \n",
      " 6   Tranc_Month                149695 non-null  int64  \n",
      " 7   mid                        149695 non-null  int64  \n",
      " 8   max_floor_lvl              149695 non-null  int64  \n",
      " 9   commercial                 149695 non-null  int64  \n",
      " 10  market_hawker              149695 non-null  int64  \n",
      " 11  multistorey_carpark        149695 non-null  int64  \n",
      " 12  precinct_pavilion          149695 non-null  int64  \n",
      " 13  total_dwelling_units       149695 non-null  int64  \n",
      " 14  1room_sold                 149695 non-null  int64  \n",
      " 15  2room_sold                 149695 non-null  int64  \n",
      " 16  3room_sold                 149695 non-null  int64  \n",
      " 17  4room_sold                 149695 non-null  int64  \n",
      " 18  5room_sold                 149695 non-null  int64  \n",
      " 19  exec_sold                  149695 non-null  int64  \n",
      " 20  multigen_sold              149695 non-null  int64  \n",
      " 21  studio_apartment_sold      149695 non-null  int64  \n",
      " 22  1room_rental               149695 non-null  int64  \n",
      " 23  2room_rental               149695 non-null  int64  \n",
      " 24  3room_rental               149695 non-null  int64  \n",
      " 25  other_room_rental          149695 non-null  int64  \n",
      " 26  planning_area              149695 non-null  object \n",
      " 27  Mall_Nearest_Distance      149695 non-null  float64\n",
      " 28  Mall_Within_500m           149695 non-null  float64\n",
      " 29  Mall_Within_1km            149695 non-null  float64\n",
      " 30  Mall_Within_2km            149695 non-null  float64\n",
      " 31  Hawker_Nearest_Distance    149695 non-null  float64\n",
      " 32  Hawker_Within_500m         149695 non-null  float64\n",
      " 33  Hawker_Within_1km          149695 non-null  float64\n",
      " 34  Hawker_Within_2km          149695 non-null  float64\n",
      " 35  mrt_nearest_distance       149695 non-null  float64\n",
      " 36  bus_interchange            149695 non-null  int64  \n",
      " 37  mrt_interchange            149695 non-null  int64  \n",
      " 38  bus_stop_nearest_distance  149695 non-null  float64\n",
      " 39  pri_sch_nearest_distance   149695 non-null  float64\n",
      " 40  pri_sch_name               149695 non-null  object \n",
      " 41  pri_sch_affiliation        149695 non-null  int64  \n",
      " 42  sec_sch_name               149695 non-null  object \n",
      " 43  cutoff_point               149695 non-null  int64  \n",
      " 44  transaction_age            149695 non-null  int64  \n",
      "dtypes: float64(13), int64(26), object(6)\n",
      "memory usage: 51.4+ MB\n"
     ]
    }
   ],
   "source": [
    "df.info()"
   ]
  },
  {
   "cell_type": "code",
   "execution_count": 6,
   "id": "01f30bb3-7f51-49d0-a16f-f0c2533a4daf",
   "metadata": {},
   "outputs": [],
   "source": [
    "#from OLS of previous iteration + EDA \n",
    "drop_list = ['flat_model',\n",
    "             'Tranc_Month',\n",
    "             'max_floor_lvl',\n",
    "             '2room_sold',\n",
    "             'multigen_sold',\n",
    "             '5room_sold',\n",
    "             'total_dwelling_units',\n",
    "             '4room_sold',\n",
    "             '1room_rental',\n",
    "             '3room_sold',\n",
    "             'studio_apartment_sold',\n",
    "             '3room_rental',\n",
    "             '1room_sold',\n",
    "             'exec_sold',\n",
    "             '2room_rental',\n",
    "             'other_room_rental']"
   ]
  },
  {
   "cell_type": "markdown",
   "id": "3ff206ad-2e40-4e1e-8d44-8ec38e1535d9",
   "metadata": {},
   "source": [
    "Based ont the list generated by OLS, flat_model as well since the mdoels are tied to the house units. Transaction month removed from its years does not sufficiently capture the nature of the time and max_floor_lvl was seen to be quite similar to the mid level range in the EDA. This may be the reason for the discrepancies in the linear regression and this is another attempt to reduce that."
   ]
  },
  {
   "cell_type": "code",
   "execution_count": 7,
   "id": "a84ef62f-715c-4683-ad96-1d4629f3338b",
   "metadata": {},
   "outputs": [
    {
     "name": "stdout",
     "output_type": "stream",
     "text": [
      "(149695, 29)\n",
      "<class 'pandas.core.frame.DataFrame'>\n",
      "RangeIndex: 149695 entries, 0 to 149694\n",
      "Data columns (total 29 columns):\n",
      " #   Column                     Non-Null Count   Dtype  \n",
      "---  ------                     --------------   -----  \n",
      " 0   flat_type                  149695 non-null  object \n",
      " 1   street_name                149695 non-null  object \n",
      " 2   floor_area_sqm             149695 non-null  float64\n",
      " 3   resale_price               149695 non-null  float64\n",
      " 4   Tranc_Year                 149695 non-null  int64  \n",
      " 5   mid                        149695 non-null  int64  \n",
      " 6   commercial                 149695 non-null  int64  \n",
      " 7   market_hawker              149695 non-null  int64  \n",
      " 8   multistorey_carpark        149695 non-null  int64  \n",
      " 9   precinct_pavilion          149695 non-null  int64  \n",
      " 10  planning_area              149695 non-null  object \n",
      " 11  Mall_Nearest_Distance      149695 non-null  float64\n",
      " 12  Mall_Within_500m           149695 non-null  float64\n",
      " 13  Mall_Within_1km            149695 non-null  float64\n",
      " 14  Mall_Within_2km            149695 non-null  float64\n",
      " 15  Hawker_Nearest_Distance    149695 non-null  float64\n",
      " 16  Hawker_Within_500m         149695 non-null  float64\n",
      " 17  Hawker_Within_1km          149695 non-null  float64\n",
      " 18  Hawker_Within_2km          149695 non-null  float64\n",
      " 19  mrt_nearest_distance       149695 non-null  float64\n",
      " 20  bus_interchange            149695 non-null  int64  \n",
      " 21  mrt_interchange            149695 non-null  int64  \n",
      " 22  bus_stop_nearest_distance  149695 non-null  float64\n",
      " 23  pri_sch_nearest_distance   149695 non-null  float64\n",
      " 24  pri_sch_name               149695 non-null  object \n",
      " 25  pri_sch_affiliation        149695 non-null  int64  \n",
      " 26  sec_sch_name               149695 non-null  object \n",
      " 27  cutoff_point               149695 non-null  int64  \n",
      " 28  transaction_age            149695 non-null  int64  \n",
      "dtypes: float64(13), int64(11), object(5)\n",
      "memory usage: 33.1+ MB\n"
     ]
    }
   ],
   "source": [
    "df.drop(columns = drop_list, inplace = True)\n",
    "print(df.shape)\n",
    "df.info()"
   ]
  },
  {
   "cell_type": "markdown",
   "id": "c2c13875-fa7c-45fd-b684-606889f3196a",
   "metadata": {},
   "source": [
    "|        Feature Name       |                        Feature Description per data source                        |\n",
    "|:-------------------------:|:---------------------------------------------------------------------------------:|\n",
    "| resale_price              |  the property's sale price in Singapore dollars. This is the target variable that |\n",
    "| flat_type                 |  type of the resale flat unit, e.g.   3 ROOM                                      |\n",
    "| street_name               |  street name where the resale flat   resides, e.g. TAMPINES ST 42                 |\n",
    "| floor_area_sqm            |  floor area of the resale flat unit   in square metres                            |\n",
    "| lease_commence_date       |  commencement year of the flat   unit's 99-year lease                             |\n",
    "| Tranc_Year                |  year of resale transaction                                                       |\n",
    "| mid                       |  middle value of storey_range                                                     |\n",
    "| commercial                |  boolean value if resale flat has   commercial units in the same block            |\n",
    "| market_hawker             |  boolean value if resale flat has a   market or hawker centre in the same block   |\n",
    "| multistorey_carpark       |  boolean value if resale flat has a   multistorey carpark in the same block       |\n",
    "| precinct_pavilion         |  boolean value if resale flat has a   pavilion in the same block                  |\n",
    "| planning_area             |  Government planning area that the   flat is located                              |\n",
    "| Mall_Nearest_Distance     |  distance (in metres) to the   nearest mall                                       |\n",
    "| Mall_Within_500m          |  number of malls within 500 metres                                                |\n",
    "| Mall_Within_1km           |  number of malls within 1 kilometre                                               |\n",
    "| Mall_Within_2km           |  number of malls within 2   kilometres                                            |\n",
    "| Hawker_Nearest_Distance   |  distance (in metres) to the   nearest hawker centre                              |\n",
    "| Hawker_Within_500m        |  number of hawker centres within   500 metres                                     |\n",
    "| Hawker_Within_1km         |  number of hawker centres within 1   kilometre                                    |\n",
    "| Hawker_Within_2km         |  number of hawker centres within 2   kilometres                                   |\n",
    "| mrt_nearest_distance      |  distance (in metres) to the   nearest MRT station                                |\n",
    "| bus_interchange           |  boolean value if the nearest MRT   station is also a bus interchange             |\n",
    "| mrt_interchange           |  boolean value if the nearest MRT   station is a train interchange station        |\n",
    "| bus_stop_nearest_distance |  distance (in metres) to the   nearest bus stop                                   |\n",
    "| pri_sch_nearest_distance  |  distance (in metres) to the   nearest primary school                             |\n",
    "| pri_sch_name              |  name of the nearest primary school                                               |\n",
    "| pri_sch_affiliation       |  boolean value if the nearest   primary school has a secondary school affiliation |\n",
    "| sec_sch_name              |  name of the nearest secondary   school                                           |\n",
    "| cutoff_point              |  PSLE cutoff point of the nearest   secondary school                              |"
   ]
  },
  {
   "cell_type": "markdown",
   "id": "02d87454-69b0-434b-85a7-291e17bc594a",
   "metadata": {},
   "source": [
    "### Train-Test Split\n",
    "The dataframe is split into a train set and a hold out 'test' set. <br>\n",
    "As was done in the EDA, the features are split into numerical and caategorical for processing before combining back later on."
   ]
  },
  {
   "cell_type": "code",
   "execution_count": 8,
   "id": "1c33270a-7f75-4c07-a8ca-8567be3d0279",
   "metadata": {},
   "outputs": [],
   "source": [
    "features = df.columns.to_list()\n",
    "features.remove('resale_price')"
   ]
  },
  {
   "cell_type": "code",
   "execution_count": 9,
   "id": "623988fc-d7da-4140-9d36-4c640273cf82",
   "metadata": {},
   "outputs": [],
   "source": [
    "#Create features matrix (X) and target vector (y)\n",
    "y = df['resale_price']\n",
    "X = df[features]"
   ]
  },
  {
   "cell_type": "code",
   "execution_count": 10,
   "id": "f801a2c5-c8ed-4723-8d2d-14498fddcae5",
   "metadata": {},
   "outputs": [],
   "source": [
    "#train-test split\n",
    "X_train, X_test, y_train, y_test = train_test_split(X, y, random_state=123)"
   ]
  },
  {
   "cell_type": "code",
   "execution_count": 11,
   "id": "81576fe1-bce7-40be-b66d-2a0c858c2087",
   "metadata": {},
   "outputs": [],
   "source": [
    "cat_feat = ['flat_type', 'street_name', 'commercial', 'market_hawker',   \n",
    "            'multistorey_carpark', 'precinct_pavilion', 'planning_area', 'bus_interchange', \n",
    "            'mrt_interchange', 'pri_sch_name', 'pri_sch_affiliation', 'sec_sch_name'\n",
    "           ]\n",
    "num_feat = list(set(features) - set(cat_feat))"
   ]
  },
  {
   "cell_type": "code",
   "execution_count": 12,
   "id": "0a54b666-4e0d-4fac-9cc6-ba42c8fbf2c6",
   "metadata": {},
   "outputs": [
    {
     "data": {
      "text/plain": [
       "Index(['flat_type', 'street_name', 'floor_area_sqm', 'resale_price',\n",
       "       'Tranc_Year', 'mid', 'commercial', 'market_hawker',\n",
       "       'multistorey_carpark', 'precinct_pavilion', 'planning_area',\n",
       "       'Mall_Nearest_Distance', 'Mall_Within_500m', 'Mall_Within_1km',\n",
       "       'Mall_Within_2km', 'Hawker_Nearest_Distance', 'Hawker_Within_500m',\n",
       "       'Hawker_Within_1km', 'Hawker_Within_2km', 'mrt_nearest_distance',\n",
       "       'bus_interchange', 'mrt_interchange', 'bus_stop_nearest_distance',\n",
       "       'pri_sch_nearest_distance', 'pri_sch_name', 'pri_sch_affiliation',\n",
       "       'sec_sch_name', 'cutoff_point', 'transaction_age'],\n",
       "      dtype='object')"
      ]
     },
     "execution_count": 12,
     "metadata": {},
     "output_type": "execute_result"
    }
   ],
   "source": [
    "df.columns"
   ]
  },
  {
   "cell_type": "markdown",
   "id": "61f18665-30ae-405f-8ec9-90235c52511b",
   "metadata": {},
   "source": [
    "### Numerical features\n",
    "Standard scalar will be applied scale the individual features for modelling since there is a wide range of values within."
   ]
  },
  {
   "cell_type": "code",
   "execution_count": 13,
   "id": "c6591ff3-133a-49ab-a868-137a5efcb62a",
   "metadata": {},
   "outputs": [],
   "source": [
    "# use sklearn StandardScaler for train set\n",
    "ss = StandardScaler()\n",
    "X_train_num_scaled = pd.DataFrame(ss.fit_transform(X_train[num_feat]))\n",
    "X_test_num_scaled = pd.DataFrame(ss.transform(X_test[num_feat]))\n",
    "X_train_num_scaled.columns = X_train[num_feat].columns\n",
    "X_test_num_scaled.columns = X_test[num_feat].columns"
   ]
  },
  {
   "cell_type": "code",
   "execution_count": 14,
   "id": "d11ce23d-2863-4abd-b5dd-ba0bc1dbeafe",
   "metadata": {},
   "outputs": [
    {
     "data": {
      "text/html": [
       "<div>\n",
       "<style scoped>\n",
       "    .dataframe tbody tr th:only-of-type {\n",
       "        vertical-align: middle;\n",
       "    }\n",
       "\n",
       "    .dataframe tbody tr th {\n",
       "        vertical-align: top;\n",
       "    }\n",
       "\n",
       "    .dataframe thead th {\n",
       "        text-align: right;\n",
       "    }\n",
       "</style>\n",
       "<table border=\"1\" class=\"dataframe\">\n",
       "  <thead>\n",
       "    <tr style=\"text-align: right;\">\n",
       "      <th></th>\n",
       "      <th>Mall_Within_500m</th>\n",
       "      <th>mrt_nearest_distance</th>\n",
       "      <th>transaction_age</th>\n",
       "      <th>floor_area_sqm</th>\n",
       "      <th>bus_stop_nearest_distance</th>\n",
       "      <th>Hawker_Within_2km</th>\n",
       "      <th>Mall_Within_2km</th>\n",
       "      <th>Hawker_Within_500m</th>\n",
       "      <th>Hawker_Nearest_Distance</th>\n",
       "      <th>Mall_Nearest_Distance</th>\n",
       "      <th>pri_sch_nearest_distance</th>\n",
       "      <th>cutoff_point</th>\n",
       "      <th>mid</th>\n",
       "      <th>Tranc_Year</th>\n",
       "      <th>Hawker_Within_1km</th>\n",
       "      <th>Mall_Within_1km</th>\n",
       "    </tr>\n",
       "  </thead>\n",
       "  <tbody>\n",
       "    <tr>\n",
       "      <th>0</th>\n",
       "      <td>0.702171</td>\n",
       "      <td>-0.613129</td>\n",
       "      <td>0.072858</td>\n",
       "      <td>-0.541699</td>\n",
       "      <td>-1.154799</td>\n",
       "      <td>-0.449616</td>\n",
       "      <td>0.808221</td>\n",
       "      <td>-0.638824</td>\n",
       "      <td>-0.231883</td>\n",
       "      <td>-0.459972</td>\n",
       "      <td>-0.466729</td>\n",
       "      <td>-0.308567</td>\n",
       "      <td>-0.594812</td>\n",
       "      <td>-1.627976</td>\n",
       "      <td>-0.239898</td>\n",
       "      <td>0.850506</td>\n",
       "    </tr>\n",
       "    <tr>\n",
       "      <th>1</th>\n",
       "      <td>-0.672096</td>\n",
       "      <td>1.120651</td>\n",
       "      <td>0.326780</td>\n",
       "      <td>1.013054</td>\n",
       "      <td>-0.725771</td>\n",
       "      <td>-0.698875</td>\n",
       "      <td>0.519910</td>\n",
       "      <td>-0.638824</td>\n",
       "      <td>-0.365588</td>\n",
       "      <td>2.057940</td>\n",
       "      <td>1.217344</td>\n",
       "      <td>-1.108322</td>\n",
       "      <td>0.501553</td>\n",
       "      <td>-0.170781</td>\n",
       "      <td>-0.239898</td>\n",
       "      <td>-1.264725</td>\n",
       "    </tr>\n",
       "    <tr>\n",
       "      <th>2</th>\n",
       "      <td>2.076439</td>\n",
       "      <td>-0.136382</td>\n",
       "      <td>-0.011783</td>\n",
       "      <td>0.235678</td>\n",
       "      <td>-0.210831</td>\n",
       "      <td>-0.948134</td>\n",
       "      <td>0.519910</td>\n",
       "      <td>-0.638824</td>\n",
       "      <td>2.061511</td>\n",
       "      <td>-0.839730</td>\n",
       "      <td>-0.740956</td>\n",
       "      <td>1.690821</td>\n",
       "      <td>0.501553</td>\n",
       "      <td>-0.899379</td>\n",
       "      <td>-0.823760</td>\n",
       "      <td>0.850506</td>\n",
       "    </tr>\n",
       "    <tr>\n",
       "      <th>3</th>\n",
       "      <td>-0.672096</td>\n",
       "      <td>0.163551</td>\n",
       "      <td>-1.112112</td>\n",
       "      <td>0.522080</td>\n",
       "      <td>-0.674254</td>\n",
       "      <td>-0.449616</td>\n",
       "      <td>-0.345026</td>\n",
       "      <td>-0.638824</td>\n",
       "      <td>-0.114057</td>\n",
       "      <td>0.047441</td>\n",
       "      <td>-0.068970</td>\n",
       "      <td>-1.108322</td>\n",
       "      <td>-1.142994</td>\n",
       "      <td>0.922115</td>\n",
       "      <td>-0.823760</td>\n",
       "      <td>0.850506</td>\n",
       "    </tr>\n",
       "    <tr>\n",
       "      <th>4</th>\n",
       "      <td>0.702171</td>\n",
       "      <td>-0.868952</td>\n",
       "      <td>0.242139</td>\n",
       "      <td>0.276592</td>\n",
       "      <td>0.059141</td>\n",
       "      <td>-0.449616</td>\n",
       "      <td>-0.345026</td>\n",
       "      <td>-0.638824</td>\n",
       "      <td>-0.315097</td>\n",
       "      <td>-0.513236</td>\n",
       "      <td>-0.220496</td>\n",
       "      <td>-0.508505</td>\n",
       "      <td>0.867008</td>\n",
       "      <td>-1.627976</td>\n",
       "      <td>-0.239898</td>\n",
       "      <td>-0.559648</td>\n",
       "    </tr>\n",
       "    <tr>\n",
       "      <th>...</th>\n",
       "      <td>...</td>\n",
       "      <td>...</td>\n",
       "      <td>...</td>\n",
       "      <td>...</td>\n",
       "      <td>...</td>\n",
       "      <td>...</td>\n",
       "      <td>...</td>\n",
       "      <td>...</td>\n",
       "      <td>...</td>\n",
       "      <td>...</td>\n",
       "      <td>...</td>\n",
       "      <td>...</td>\n",
       "      <td>...</td>\n",
       "      <td>...</td>\n",
       "      <td>...</td>\n",
       "      <td>...</td>\n",
       "    </tr>\n",
       "    <tr>\n",
       "      <th>112266</th>\n",
       "      <td>3.450707</td>\n",
       "      <td>-0.932453</td>\n",
       "      <td>1.003906</td>\n",
       "      <td>-1.237246</td>\n",
       "      <td>0.608036</td>\n",
       "      <td>0.298160</td>\n",
       "      <td>-0.345026</td>\n",
       "      <td>3.276387</td>\n",
       "      <td>-0.904470</td>\n",
       "      <td>-1.114592</td>\n",
       "      <td>-0.308308</td>\n",
       "      <td>1.041020</td>\n",
       "      <td>-1.142994</td>\n",
       "      <td>-0.899379</td>\n",
       "      <td>1.511688</td>\n",
       "      <td>0.850506</td>\n",
       "    </tr>\n",
       "    <tr>\n",
       "      <th>112267</th>\n",
       "      <td>-0.672096</td>\n",
       "      <td>0.297706</td>\n",
       "      <td>0.242139</td>\n",
       "      <td>0.358421</td>\n",
       "      <td>-0.453163</td>\n",
       "      <td>-0.698875</td>\n",
       "      <td>-0.056714</td>\n",
       "      <td>-0.638824</td>\n",
       "      <td>-0.379281</td>\n",
       "      <td>0.432855</td>\n",
       "      <td>0.672200</td>\n",
       "      <td>-1.108322</td>\n",
       "      <td>0.501553</td>\n",
       "      <td>0.193518</td>\n",
       "      <td>-0.239898</td>\n",
       "      <td>0.145429</td>\n",
       "    </tr>\n",
       "    <tr>\n",
       "      <th>112268</th>\n",
       "      <td>3.450707</td>\n",
       "      <td>-1.141542</td>\n",
       "      <td>0.411421</td>\n",
       "      <td>-1.196332</td>\n",
       "      <td>0.488096</td>\n",
       "      <td>-0.449616</td>\n",
       "      <td>0.231598</td>\n",
       "      <td>-0.638824</td>\n",
       "      <td>-0.555852</td>\n",
       "      <td>-1.340450</td>\n",
       "      <td>-0.950931</td>\n",
       "      <td>-0.358551</td>\n",
       "      <td>-1.142994</td>\n",
       "      <td>-0.899379</td>\n",
       "      <td>0.343964</td>\n",
       "      <td>2.260660</td>\n",
       "    </tr>\n",
       "    <tr>\n",
       "      <th>112269</th>\n",
       "      <td>-0.672096</td>\n",
       "      <td>0.098324</td>\n",
       "      <td>-1.535315</td>\n",
       "      <td>-1.114503</td>\n",
       "      <td>1.069723</td>\n",
       "      <td>0.298160</td>\n",
       "      <td>-0.345026</td>\n",
       "      <td>0.666246</td>\n",
       "      <td>-0.652393</td>\n",
       "      <td>-0.182235</td>\n",
       "      <td>1.370085</td>\n",
       "      <td>1.640836</td>\n",
       "      <td>1.597917</td>\n",
       "      <td>0.922115</td>\n",
       "      <td>0.927826</td>\n",
       "      <td>1.555583</td>\n",
       "    </tr>\n",
       "    <tr>\n",
       "      <th>112270</th>\n",
       "      <td>-0.672096</td>\n",
       "      <td>1.187234</td>\n",
       "      <td>1.003906</td>\n",
       "      <td>-1.278161</td>\n",
       "      <td>0.247495</td>\n",
       "      <td>1.045936</td>\n",
       "      <td>-0.056714</td>\n",
       "      <td>0.666246</td>\n",
       "      <td>-0.730415</td>\n",
       "      <td>1.665156</td>\n",
       "      <td>-0.004752</td>\n",
       "      <td>0.041326</td>\n",
       "      <td>-0.594812</td>\n",
       "      <td>0.193518</td>\n",
       "      <td>1.511688</td>\n",
       "      <td>-1.264725</td>\n",
       "    </tr>\n",
       "  </tbody>\n",
       "</table>\n",
       "<p>112271 rows × 16 columns</p>\n",
       "</div>"
      ],
      "text/plain": [
       "        Mall_Within_500m  mrt_nearest_distance  transaction_age  \\\n",
       "0               0.702171             -0.613129         0.072858   \n",
       "1              -0.672096              1.120651         0.326780   \n",
       "2               2.076439             -0.136382        -0.011783   \n",
       "3              -0.672096              0.163551        -1.112112   \n",
       "4               0.702171             -0.868952         0.242139   \n",
       "...                  ...                   ...              ...   \n",
       "112266          3.450707             -0.932453         1.003906   \n",
       "112267         -0.672096              0.297706         0.242139   \n",
       "112268          3.450707             -1.141542         0.411421   \n",
       "112269         -0.672096              0.098324        -1.535315   \n",
       "112270         -0.672096              1.187234         1.003906   \n",
       "\n",
       "        floor_area_sqm  bus_stop_nearest_distance  Hawker_Within_2km  \\\n",
       "0            -0.541699                  -1.154799          -0.449616   \n",
       "1             1.013054                  -0.725771          -0.698875   \n",
       "2             0.235678                  -0.210831          -0.948134   \n",
       "3             0.522080                  -0.674254          -0.449616   \n",
       "4             0.276592                   0.059141          -0.449616   \n",
       "...                ...                        ...                ...   \n",
       "112266       -1.237246                   0.608036           0.298160   \n",
       "112267        0.358421                  -0.453163          -0.698875   \n",
       "112268       -1.196332                   0.488096          -0.449616   \n",
       "112269       -1.114503                   1.069723           0.298160   \n",
       "112270       -1.278161                   0.247495           1.045936   \n",
       "\n",
       "        Mall_Within_2km  Hawker_Within_500m  Hawker_Nearest_Distance  \\\n",
       "0              0.808221           -0.638824                -0.231883   \n",
       "1              0.519910           -0.638824                -0.365588   \n",
       "2              0.519910           -0.638824                 2.061511   \n",
       "3             -0.345026           -0.638824                -0.114057   \n",
       "4             -0.345026           -0.638824                -0.315097   \n",
       "...                 ...                 ...                      ...   \n",
       "112266        -0.345026            3.276387                -0.904470   \n",
       "112267        -0.056714           -0.638824                -0.379281   \n",
       "112268         0.231598           -0.638824                -0.555852   \n",
       "112269        -0.345026            0.666246                -0.652393   \n",
       "112270        -0.056714            0.666246                -0.730415   \n",
       "\n",
       "        Mall_Nearest_Distance  pri_sch_nearest_distance  cutoff_point  \\\n",
       "0                   -0.459972                 -0.466729     -0.308567   \n",
       "1                    2.057940                  1.217344     -1.108322   \n",
       "2                   -0.839730                 -0.740956      1.690821   \n",
       "3                    0.047441                 -0.068970     -1.108322   \n",
       "4                   -0.513236                 -0.220496     -0.508505   \n",
       "...                       ...                       ...           ...   \n",
       "112266              -1.114592                 -0.308308      1.041020   \n",
       "112267               0.432855                  0.672200     -1.108322   \n",
       "112268              -1.340450                 -0.950931     -0.358551   \n",
       "112269              -0.182235                  1.370085      1.640836   \n",
       "112270               1.665156                 -0.004752      0.041326   \n",
       "\n",
       "             mid  Tranc_Year  Hawker_Within_1km  Mall_Within_1km  \n",
       "0      -0.594812   -1.627976          -0.239898         0.850506  \n",
       "1       0.501553   -0.170781          -0.239898        -1.264725  \n",
       "2       0.501553   -0.899379          -0.823760         0.850506  \n",
       "3      -1.142994    0.922115          -0.823760         0.850506  \n",
       "4       0.867008   -1.627976          -0.239898        -0.559648  \n",
       "...          ...         ...                ...              ...  \n",
       "112266 -1.142994   -0.899379           1.511688         0.850506  \n",
       "112267  0.501553    0.193518          -0.239898         0.145429  \n",
       "112268 -1.142994   -0.899379           0.343964         2.260660  \n",
       "112269  1.597917    0.922115           0.927826         1.555583  \n",
       "112270 -0.594812    0.193518           1.511688        -1.264725  \n",
       "\n",
       "[112271 rows x 16 columns]"
      ]
     },
     "execution_count": 14,
     "metadata": {},
     "output_type": "execute_result"
    }
   ],
   "source": [
    "X_train_num_scaled"
   ]
  },
  {
   "cell_type": "markdown",
   "id": "0df98585-effb-4834-b355-67669e4cf3e4",
   "metadata": {},
   "source": [
    "### Categorical features\n",
    "One Hot encoding will be used to dummify the categorical columns into a matrix."
   ]
  },
  {
   "cell_type": "code",
   "execution_count": 15,
   "id": "c62dc858-96e1-46d5-be02-9c65be8d3063",
   "metadata": {},
   "outputs": [
    {
     "name": "stdout",
     "output_type": "stream",
     "text": [
      "<class 'pandas.core.frame.DataFrame'>\n",
      "RangeIndex: 112271 entries, 0 to 112270\n",
      "Data columns (total 13 columns):\n",
      " #   Column               Non-Null Count   Dtype \n",
      "---  ------               --------------   ----- \n",
      " 0   index                112271 non-null  int64 \n",
      " 1   flat_type            112271 non-null  object\n",
      " 2   street_name          112271 non-null  object\n",
      " 3   commercial           112271 non-null  int64 \n",
      " 4   market_hawker        112271 non-null  int64 \n",
      " 5   multistorey_carpark  112271 non-null  int64 \n",
      " 6   precinct_pavilion    112271 non-null  int64 \n",
      " 7   planning_area        112271 non-null  object\n",
      " 8   bus_interchange      112271 non-null  int64 \n",
      " 9   mrt_interchange      112271 non-null  int64 \n",
      " 10  pri_sch_name         112271 non-null  object\n",
      " 11  pri_sch_affiliation  112271 non-null  int64 \n",
      " 12  sec_sch_name         112271 non-null  object\n",
      "dtypes: int64(8), object(5)\n",
      "memory usage: 11.1+ MB\n"
     ]
    }
   ],
   "source": [
    "#calling out categories to look for non binary cat.\n",
    "train_cat_df = X_train[cat_feat].reset_index()\n",
    "test_cat_df = X_test[cat_feat].reset_index()\n",
    "train_cat_df.info()"
   ]
  },
  {
   "cell_type": "markdown",
   "id": "ccb922d0-5058-4ffe-a02c-551e6e5aa3fa",
   "metadata": {},
   "source": [
    "For those with object type, it is likely string values hence it will be one hot encoded. However, the list will be refined so that categories with less datapoints can be combined to have data points as a group for modelling."
   ]
  },
  {
   "cell_type": "code",
   "execution_count": 16,
   "id": "042e734a-5167-4163-aa65-bf3b28b6b572",
   "metadata": {},
   "outputs": [
    {
     "data": {
      "text/plain": [
       "['flat_type', 'street_name', 'planning_area', 'pri_sch_name', 'sec_sch_name']"
      ]
     },
     "execution_count": 16,
     "metadata": {},
     "output_type": "execute_result"
    }
   ],
   "source": [
    "#set list with object dtype to OHE\n",
    "cat_list = list(train_cat_df.dtypes[train_cat_df.dtypes == object].index)\n",
    "cat_list"
   ]
  },
  {
   "cell_type": "code",
   "execution_count": 17,
   "id": "c8734634-266b-456e-97ec-254b8f18a60a",
   "metadata": {},
   "outputs": [
    {
     "data": {
      "text/plain": [
       "11"
      ]
     },
     "execution_count": 17,
     "metadata": {},
     "output_type": "execute_result"
    }
   ],
   "source": [
    "#set threshold\n",
    "round(train_cat_df.shape[0]*0.0001)"
   ]
  },
  {
   "cell_type": "code",
   "execution_count": 18,
   "id": "2a4167ab-6cfd-44f4-b19d-32480a033d1d",
   "metadata": {
    "scrolled": true
   },
   "outputs": [
    {
     "data": {
      "text/html": [
       "<div>\n",
       "<style scoped>\n",
       "    .dataframe tbody tr th:only-of-type {\n",
       "        vertical-align: middle;\n",
       "    }\n",
       "\n",
       "    .dataframe tbody tr th {\n",
       "        vertical-align: top;\n",
       "    }\n",
       "\n",
       "    .dataframe thead th {\n",
       "        text-align: right;\n",
       "    }\n",
       "</style>\n",
       "<table border=\"1\" class=\"dataframe\">\n",
       "  <thead>\n",
       "    <tr style=\"text-align: right;\">\n",
       "      <th></th>\n",
       "      <th>flat_type_1 ROOM</th>\n",
       "      <th>flat_type_2 ROOM</th>\n",
       "      <th>flat_type_3 ROOM</th>\n",
       "      <th>flat_type_4 ROOM</th>\n",
       "      <th>flat_type_5 ROOM</th>\n",
       "      <th>flat_type_EXECUTIVE</th>\n",
       "      <th>flat_type_MULTI-GENERATION</th>\n",
       "      <th>street_name_ADMIRALTY DR</th>\n",
       "      <th>street_name_ADMIRALTY LINK</th>\n",
       "      <th>street_name_AH HOOD RD</th>\n",
       "      <th>...</th>\n",
       "      <th>sec_sch_name_Yio Chu Kang Secondary School</th>\n",
       "      <th>sec_sch_name_Yishun Secondary School</th>\n",
       "      <th>sec_sch_name_Yishun Town Secondary School</th>\n",
       "      <th>sec_sch_name_Yuan Ching Secondary School</th>\n",
       "      <th>sec_sch_name_Yuhua Secondary School</th>\n",
       "      <th>sec_sch_name_Yusof Ishak Secondary School</th>\n",
       "      <th>sec_sch_name_Yuying Secondary School</th>\n",
       "      <th>sec_sch_name_Zhenghua Secondary School</th>\n",
       "      <th>sec_sch_name_Zhonghua Secondary School</th>\n",
       "      <th>sec_sch_name_infrequent_sklearn</th>\n",
       "    </tr>\n",
       "  </thead>\n",
       "  <tbody>\n",
       "    <tr>\n",
       "      <th>112266</th>\n",
       "      <td>0.0</td>\n",
       "      <td>0.0</td>\n",
       "      <td>1.0</td>\n",
       "      <td>0.0</td>\n",
       "      <td>0.0</td>\n",
       "      <td>0.0</td>\n",
       "      <td>0.0</td>\n",
       "      <td>0.0</td>\n",
       "      <td>0.0</td>\n",
       "      <td>0.0</td>\n",
       "      <td>...</td>\n",
       "      <td>0.0</td>\n",
       "      <td>0.0</td>\n",
       "      <td>0.0</td>\n",
       "      <td>0.0</td>\n",
       "      <td>0.0</td>\n",
       "      <td>0.0</td>\n",
       "      <td>0.0</td>\n",
       "      <td>0.0</td>\n",
       "      <td>0.0</td>\n",
       "      <td>0.0</td>\n",
       "    </tr>\n",
       "    <tr>\n",
       "      <th>112267</th>\n",
       "      <td>0.0</td>\n",
       "      <td>0.0</td>\n",
       "      <td>0.0</td>\n",
       "      <td>1.0</td>\n",
       "      <td>0.0</td>\n",
       "      <td>0.0</td>\n",
       "      <td>0.0</td>\n",
       "      <td>0.0</td>\n",
       "      <td>0.0</td>\n",
       "      <td>0.0</td>\n",
       "      <td>...</td>\n",
       "      <td>0.0</td>\n",
       "      <td>0.0</td>\n",
       "      <td>0.0</td>\n",
       "      <td>0.0</td>\n",
       "      <td>0.0</td>\n",
       "      <td>0.0</td>\n",
       "      <td>0.0</td>\n",
       "      <td>0.0</td>\n",
       "      <td>0.0</td>\n",
       "      <td>0.0</td>\n",
       "    </tr>\n",
       "    <tr>\n",
       "      <th>112268</th>\n",
       "      <td>0.0</td>\n",
       "      <td>0.0</td>\n",
       "      <td>1.0</td>\n",
       "      <td>0.0</td>\n",
       "      <td>0.0</td>\n",
       "      <td>0.0</td>\n",
       "      <td>0.0</td>\n",
       "      <td>0.0</td>\n",
       "      <td>0.0</td>\n",
       "      <td>0.0</td>\n",
       "      <td>...</td>\n",
       "      <td>0.0</td>\n",
       "      <td>0.0</td>\n",
       "      <td>0.0</td>\n",
       "      <td>0.0</td>\n",
       "      <td>0.0</td>\n",
       "      <td>0.0</td>\n",
       "      <td>0.0</td>\n",
       "      <td>0.0</td>\n",
       "      <td>0.0</td>\n",
       "      <td>0.0</td>\n",
       "    </tr>\n",
       "    <tr>\n",
       "      <th>112269</th>\n",
       "      <td>0.0</td>\n",
       "      <td>0.0</td>\n",
       "      <td>1.0</td>\n",
       "      <td>0.0</td>\n",
       "      <td>0.0</td>\n",
       "      <td>0.0</td>\n",
       "      <td>0.0</td>\n",
       "      <td>0.0</td>\n",
       "      <td>0.0</td>\n",
       "      <td>0.0</td>\n",
       "      <td>...</td>\n",
       "      <td>0.0</td>\n",
       "      <td>0.0</td>\n",
       "      <td>0.0</td>\n",
       "      <td>0.0</td>\n",
       "      <td>0.0</td>\n",
       "      <td>0.0</td>\n",
       "      <td>0.0</td>\n",
       "      <td>0.0</td>\n",
       "      <td>0.0</td>\n",
       "      <td>0.0</td>\n",
       "    </tr>\n",
       "    <tr>\n",
       "      <th>112270</th>\n",
       "      <td>0.0</td>\n",
       "      <td>0.0</td>\n",
       "      <td>1.0</td>\n",
       "      <td>0.0</td>\n",
       "      <td>0.0</td>\n",
       "      <td>0.0</td>\n",
       "      <td>0.0</td>\n",
       "      <td>0.0</td>\n",
       "      <td>0.0</td>\n",
       "      <td>0.0</td>\n",
       "      <td>...</td>\n",
       "      <td>0.0</td>\n",
       "      <td>0.0</td>\n",
       "      <td>0.0</td>\n",
       "      <td>0.0</td>\n",
       "      <td>0.0</td>\n",
       "      <td>0.0</td>\n",
       "      <td>0.0</td>\n",
       "      <td>0.0</td>\n",
       "      <td>0.0</td>\n",
       "      <td>0.0</td>\n",
       "    </tr>\n",
       "  </tbody>\n",
       "</table>\n",
       "<p>5 rows × 879 columns</p>\n",
       "</div>"
      ],
      "text/plain": [
       "        flat_type_1 ROOM  flat_type_2 ROOM  flat_type_3 ROOM  \\\n",
       "112266               0.0               0.0               1.0   \n",
       "112267               0.0               0.0               0.0   \n",
       "112268               0.0               0.0               1.0   \n",
       "112269               0.0               0.0               1.0   \n",
       "112270               0.0               0.0               1.0   \n",
       "\n",
       "        flat_type_4 ROOM  flat_type_5 ROOM  flat_type_EXECUTIVE  \\\n",
       "112266               0.0               0.0                  0.0   \n",
       "112267               1.0               0.0                  0.0   \n",
       "112268               0.0               0.0                  0.0   \n",
       "112269               0.0               0.0                  0.0   \n",
       "112270               0.0               0.0                  0.0   \n",
       "\n",
       "        flat_type_MULTI-GENERATION  street_name_ADMIRALTY DR  \\\n",
       "112266                         0.0                       0.0   \n",
       "112267                         0.0                       0.0   \n",
       "112268                         0.0                       0.0   \n",
       "112269                         0.0                       0.0   \n",
       "112270                         0.0                       0.0   \n",
       "\n",
       "        street_name_ADMIRALTY LINK  street_name_AH HOOD RD  ...  \\\n",
       "112266                         0.0                     0.0  ...   \n",
       "112267                         0.0                     0.0  ...   \n",
       "112268                         0.0                     0.0  ...   \n",
       "112269                         0.0                     0.0  ...   \n",
       "112270                         0.0                     0.0  ...   \n",
       "\n",
       "        sec_sch_name_Yio Chu Kang Secondary School  \\\n",
       "112266                                         0.0   \n",
       "112267                                         0.0   \n",
       "112268                                         0.0   \n",
       "112269                                         0.0   \n",
       "112270                                         0.0   \n",
       "\n",
       "        sec_sch_name_Yishun Secondary School  \\\n",
       "112266                                   0.0   \n",
       "112267                                   0.0   \n",
       "112268                                   0.0   \n",
       "112269                                   0.0   \n",
       "112270                                   0.0   \n",
       "\n",
       "        sec_sch_name_Yishun Town Secondary School  \\\n",
       "112266                                        0.0   \n",
       "112267                                        0.0   \n",
       "112268                                        0.0   \n",
       "112269                                        0.0   \n",
       "112270                                        0.0   \n",
       "\n",
       "        sec_sch_name_Yuan Ching Secondary School  \\\n",
       "112266                                       0.0   \n",
       "112267                                       0.0   \n",
       "112268                                       0.0   \n",
       "112269                                       0.0   \n",
       "112270                                       0.0   \n",
       "\n",
       "        sec_sch_name_Yuhua Secondary School  \\\n",
       "112266                                  0.0   \n",
       "112267                                  0.0   \n",
       "112268                                  0.0   \n",
       "112269                                  0.0   \n",
       "112270                                  0.0   \n",
       "\n",
       "        sec_sch_name_Yusof Ishak Secondary School  \\\n",
       "112266                                        0.0   \n",
       "112267                                        0.0   \n",
       "112268                                        0.0   \n",
       "112269                                        0.0   \n",
       "112270                                        0.0   \n",
       "\n",
       "        sec_sch_name_Yuying Secondary School  \\\n",
       "112266                                   0.0   \n",
       "112267                                   0.0   \n",
       "112268                                   0.0   \n",
       "112269                                   0.0   \n",
       "112270                                   0.0   \n",
       "\n",
       "        sec_sch_name_Zhenghua Secondary School  \\\n",
       "112266                                     0.0   \n",
       "112267                                     0.0   \n",
       "112268                                     0.0   \n",
       "112269                                     0.0   \n",
       "112270                                     0.0   \n",
       "\n",
       "        sec_sch_name_Zhonghua Secondary School  \\\n",
       "112266                                     0.0   \n",
       "112267                                     0.0   \n",
       "112268                                     0.0   \n",
       "112269                                     0.0   \n",
       "112270                                     0.0   \n",
       "\n",
       "        sec_sch_name_infrequent_sklearn  \n",
       "112266                              0.0  \n",
       "112267                              0.0  \n",
       "112268                              0.0  \n",
       "112269                              0.0  \n",
       "112270                              0.0  \n",
       "\n",
       "[5 rows x 879 columns]"
      ]
     },
     "execution_count": 18,
     "metadata": {},
     "output_type": "execute_result"
    }
   ],
   "source": [
    "#setup OHE\n",
    "OHE = OneHotEncoder(sparse_output = False, handle_unknown = 'infrequent_if_exist', min_frequency = 0.0001)\n",
    "train_OHE_cat_df = pd.DataFrame(OHE.fit_transform(train_cat_df[cat_list]), columns = OHE.get_feature_names_out())\n",
    "test_OHE_cat_df = pd.DataFrame(OHE.transform(test_cat_df[cat_list]), columns = OHE.get_feature_names_out())\n",
    "train_OHE_cat_df.tail()"
   ]
  },
  {
   "cell_type": "code",
   "execution_count": 19,
   "id": "cae9b1d9-98d6-43a5-9078-d16262ac363e",
   "metadata": {},
   "outputs": [],
   "source": [
    "#concat categories train sets\n",
    "train_cat_df = pd.concat([train_cat_df, train_OHE_cat_df], axis = 1)\n",
    "train_cat_df.drop(columns = cat_list, inplace = True)\n",
    "#concat categories test set\n",
    "test_cat_df = pd.concat([test_cat_df, test_OHE_cat_df], axis = 1)\n",
    "test_cat_df.drop(columns = cat_list, inplace = True)"
   ]
  },
  {
   "cell_type": "code",
   "execution_count": 20,
   "id": "591d40ab-62ee-4844-8a87-e6ac788ee0fc",
   "metadata": {},
   "outputs": [
    {
     "data": {
      "text/html": [
       "<div>\n",
       "<style scoped>\n",
       "    .dataframe tbody tr th:only-of-type {\n",
       "        vertical-align: middle;\n",
       "    }\n",
       "\n",
       "    .dataframe tbody tr th {\n",
       "        vertical-align: top;\n",
       "    }\n",
       "\n",
       "    .dataframe thead th {\n",
       "        text-align: right;\n",
       "    }\n",
       "</style>\n",
       "<table border=\"1\" class=\"dataframe\">\n",
       "  <thead>\n",
       "    <tr style=\"text-align: right;\">\n",
       "      <th></th>\n",
       "      <th>Mall_Within_500m</th>\n",
       "      <th>mrt_nearest_distance</th>\n",
       "      <th>transaction_age</th>\n",
       "      <th>floor_area_sqm</th>\n",
       "      <th>bus_stop_nearest_distance</th>\n",
       "      <th>Hawker_Within_2km</th>\n",
       "      <th>Mall_Within_2km</th>\n",
       "      <th>Hawker_Within_500m</th>\n",
       "      <th>Hawker_Nearest_Distance</th>\n",
       "      <th>Mall_Nearest_Distance</th>\n",
       "      <th>...</th>\n",
       "      <th>sec_sch_name_Yio Chu Kang Secondary School</th>\n",
       "      <th>sec_sch_name_Yishun Secondary School</th>\n",
       "      <th>sec_sch_name_Yishun Town Secondary School</th>\n",
       "      <th>sec_sch_name_Yuan Ching Secondary School</th>\n",
       "      <th>sec_sch_name_Yuhua Secondary School</th>\n",
       "      <th>sec_sch_name_Yusof Ishak Secondary School</th>\n",
       "      <th>sec_sch_name_Yuying Secondary School</th>\n",
       "      <th>sec_sch_name_Zhenghua Secondary School</th>\n",
       "      <th>sec_sch_name_Zhonghua Secondary School</th>\n",
       "      <th>sec_sch_name_infrequent_sklearn</th>\n",
       "    </tr>\n",
       "    <tr>\n",
       "      <th>index</th>\n",
       "      <th></th>\n",
       "      <th></th>\n",
       "      <th></th>\n",
       "      <th></th>\n",
       "      <th></th>\n",
       "      <th></th>\n",
       "      <th></th>\n",
       "      <th></th>\n",
       "      <th></th>\n",
       "      <th></th>\n",
       "      <th></th>\n",
       "      <th></th>\n",
       "      <th></th>\n",
       "      <th></th>\n",
       "      <th></th>\n",
       "      <th></th>\n",
       "      <th></th>\n",
       "      <th></th>\n",
       "      <th></th>\n",
       "      <th></th>\n",
       "      <th></th>\n",
       "    </tr>\n",
       "  </thead>\n",
       "  <tbody>\n",
       "    <tr>\n",
       "      <th>5021</th>\n",
       "      <td>0.702171</td>\n",
       "      <td>-0.613129</td>\n",
       "      <td>0.072858</td>\n",
       "      <td>-0.541699</td>\n",
       "      <td>-1.154799</td>\n",
       "      <td>-0.449616</td>\n",
       "      <td>0.808221</td>\n",
       "      <td>-0.638824</td>\n",
       "      <td>-0.231883</td>\n",
       "      <td>-0.459972</td>\n",
       "      <td>...</td>\n",
       "      <td>0.0</td>\n",
       "      <td>0.0</td>\n",
       "      <td>0.0</td>\n",
       "      <td>0.0</td>\n",
       "      <td>0.0</td>\n",
       "      <td>0.0</td>\n",
       "      <td>0.0</td>\n",
       "      <td>0.0</td>\n",
       "      <td>0.0</td>\n",
       "      <td>0.0</td>\n",
       "    </tr>\n",
       "    <tr>\n",
       "      <th>27234</th>\n",
       "      <td>-0.672096</td>\n",
       "      <td>1.120651</td>\n",
       "      <td>0.326780</td>\n",
       "      <td>1.013054</td>\n",
       "      <td>-0.725771</td>\n",
       "      <td>-0.698875</td>\n",
       "      <td>0.519910</td>\n",
       "      <td>-0.638824</td>\n",
       "      <td>-0.365588</td>\n",
       "      <td>2.057940</td>\n",
       "      <td>...</td>\n",
       "      <td>0.0</td>\n",
       "      <td>0.0</td>\n",
       "      <td>0.0</td>\n",
       "      <td>0.0</td>\n",
       "      <td>0.0</td>\n",
       "      <td>0.0</td>\n",
       "      <td>0.0</td>\n",
       "      <td>0.0</td>\n",
       "      <td>0.0</td>\n",
       "      <td>0.0</td>\n",
       "    </tr>\n",
       "    <tr>\n",
       "      <th>33321</th>\n",
       "      <td>2.076439</td>\n",
       "      <td>-0.136382</td>\n",
       "      <td>-0.011783</td>\n",
       "      <td>0.235678</td>\n",
       "      <td>-0.210831</td>\n",
       "      <td>-0.948134</td>\n",
       "      <td>0.519910</td>\n",
       "      <td>-0.638824</td>\n",
       "      <td>2.061511</td>\n",
       "      <td>-0.839730</td>\n",
       "      <td>...</td>\n",
       "      <td>0.0</td>\n",
       "      <td>0.0</td>\n",
       "      <td>0.0</td>\n",
       "      <td>0.0</td>\n",
       "      <td>0.0</td>\n",
       "      <td>0.0</td>\n",
       "      <td>0.0</td>\n",
       "      <td>0.0</td>\n",
       "      <td>0.0</td>\n",
       "      <td>0.0</td>\n",
       "    </tr>\n",
       "    <tr>\n",
       "      <th>102732</th>\n",
       "      <td>-0.672096</td>\n",
       "      <td>0.163551</td>\n",
       "      <td>-1.112112</td>\n",
       "      <td>0.522080</td>\n",
       "      <td>-0.674254</td>\n",
       "      <td>-0.449616</td>\n",
       "      <td>-0.345026</td>\n",
       "      <td>-0.638824</td>\n",
       "      <td>-0.114057</td>\n",
       "      <td>0.047441</td>\n",
       "      <td>...</td>\n",
       "      <td>0.0</td>\n",
       "      <td>0.0</td>\n",
       "      <td>0.0</td>\n",
       "      <td>0.0</td>\n",
       "      <td>0.0</td>\n",
       "      <td>0.0</td>\n",
       "      <td>0.0</td>\n",
       "      <td>0.0</td>\n",
       "      <td>0.0</td>\n",
       "      <td>0.0</td>\n",
       "    </tr>\n",
       "    <tr>\n",
       "      <th>17312</th>\n",
       "      <td>0.702171</td>\n",
       "      <td>-0.868952</td>\n",
       "      <td>0.242139</td>\n",
       "      <td>0.276592</td>\n",
       "      <td>0.059141</td>\n",
       "      <td>-0.449616</td>\n",
       "      <td>-0.345026</td>\n",
       "      <td>-0.638824</td>\n",
       "      <td>-0.315097</td>\n",
       "      <td>-0.513236</td>\n",
       "      <td>...</td>\n",
       "      <td>0.0</td>\n",
       "      <td>1.0</td>\n",
       "      <td>0.0</td>\n",
       "      <td>0.0</td>\n",
       "      <td>0.0</td>\n",
       "      <td>0.0</td>\n",
       "      <td>0.0</td>\n",
       "      <td>0.0</td>\n",
       "      <td>0.0</td>\n",
       "      <td>0.0</td>\n",
       "    </tr>\n",
       "  </tbody>\n",
       "</table>\n",
       "<p>5 rows × 902 columns</p>\n",
       "</div>"
      ],
      "text/plain": [
       "        Mall_Within_500m  mrt_nearest_distance  transaction_age  \\\n",
       "index                                                             \n",
       "5021            0.702171             -0.613129         0.072858   \n",
       "27234          -0.672096              1.120651         0.326780   \n",
       "33321           2.076439             -0.136382        -0.011783   \n",
       "102732         -0.672096              0.163551        -1.112112   \n",
       "17312           0.702171             -0.868952         0.242139   \n",
       "\n",
       "        floor_area_sqm  bus_stop_nearest_distance  Hawker_Within_2km  \\\n",
       "index                                                                  \n",
       "5021         -0.541699                  -1.154799          -0.449616   \n",
       "27234         1.013054                  -0.725771          -0.698875   \n",
       "33321         0.235678                  -0.210831          -0.948134   \n",
       "102732        0.522080                  -0.674254          -0.449616   \n",
       "17312         0.276592                   0.059141          -0.449616   \n",
       "\n",
       "        Mall_Within_2km  Hawker_Within_500m  Hawker_Nearest_Distance  \\\n",
       "index                                                                  \n",
       "5021           0.808221           -0.638824                -0.231883   \n",
       "27234          0.519910           -0.638824                -0.365588   \n",
       "33321          0.519910           -0.638824                 2.061511   \n",
       "102732        -0.345026           -0.638824                -0.114057   \n",
       "17312         -0.345026           -0.638824                -0.315097   \n",
       "\n",
       "        Mall_Nearest_Distance  ...  \\\n",
       "index                          ...   \n",
       "5021                -0.459972  ...   \n",
       "27234                2.057940  ...   \n",
       "33321               -0.839730  ...   \n",
       "102732               0.047441  ...   \n",
       "17312               -0.513236  ...   \n",
       "\n",
       "        sec_sch_name_Yio Chu Kang Secondary School  \\\n",
       "index                                                \n",
       "5021                                           0.0   \n",
       "27234                                          0.0   \n",
       "33321                                          0.0   \n",
       "102732                                         0.0   \n",
       "17312                                          0.0   \n",
       "\n",
       "        sec_sch_name_Yishun Secondary School  \\\n",
       "index                                          \n",
       "5021                                     0.0   \n",
       "27234                                    0.0   \n",
       "33321                                    0.0   \n",
       "102732                                   0.0   \n",
       "17312                                    1.0   \n",
       "\n",
       "        sec_sch_name_Yishun Town Secondary School  \\\n",
       "index                                               \n",
       "5021                                          0.0   \n",
       "27234                                         0.0   \n",
       "33321                                         0.0   \n",
       "102732                                        0.0   \n",
       "17312                                         0.0   \n",
       "\n",
       "        sec_sch_name_Yuan Ching Secondary School  \\\n",
       "index                                              \n",
       "5021                                         0.0   \n",
       "27234                                        0.0   \n",
       "33321                                        0.0   \n",
       "102732                                       0.0   \n",
       "17312                                        0.0   \n",
       "\n",
       "        sec_sch_name_Yuhua Secondary School  \\\n",
       "index                                         \n",
       "5021                                    0.0   \n",
       "27234                                   0.0   \n",
       "33321                                   0.0   \n",
       "102732                                  0.0   \n",
       "17312                                   0.0   \n",
       "\n",
       "        sec_sch_name_Yusof Ishak Secondary School  \\\n",
       "index                                               \n",
       "5021                                          0.0   \n",
       "27234                                         0.0   \n",
       "33321                                         0.0   \n",
       "102732                                        0.0   \n",
       "17312                                         0.0   \n",
       "\n",
       "        sec_sch_name_Yuying Secondary School  \\\n",
       "index                                          \n",
       "5021                                     0.0   \n",
       "27234                                    0.0   \n",
       "33321                                    0.0   \n",
       "102732                                   0.0   \n",
       "17312                                    0.0   \n",
       "\n",
       "        sec_sch_name_Zhenghua Secondary School  \\\n",
       "index                                            \n",
       "5021                                       0.0   \n",
       "27234                                      0.0   \n",
       "33321                                      0.0   \n",
       "102732                                     0.0   \n",
       "17312                                      0.0   \n",
       "\n",
       "        sec_sch_name_Zhonghua Secondary School  \\\n",
       "index                                            \n",
       "5021                                       0.0   \n",
       "27234                                      0.0   \n",
       "33321                                      0.0   \n",
       "102732                                     0.0   \n",
       "17312                                      0.0   \n",
       "\n",
       "        sec_sch_name_infrequent_sklearn  \n",
       "index                                    \n",
       "5021                                0.0  \n",
       "27234                               0.0  \n",
       "33321                               0.0  \n",
       "102732                              0.0  \n",
       "17312                               0.0  \n",
       "\n",
       "[5 rows x 902 columns]"
      ]
     },
     "execution_count": 20,
     "metadata": {},
     "output_type": "execute_result"
    }
   ],
   "source": [
    "#concat train set\n",
    "Z_train = pd.concat([X_train_num_scaled, train_cat_df], axis = 1)\n",
    "Z_train.set_index('index', inplace = True)\n",
    "\n",
    "#concat test set\n",
    "Z_test = pd.concat([X_test_num_scaled, test_cat_df], axis = 1)\n",
    "Z_test.set_index('index', inplace = True)\n",
    "\n",
    "Z_train.head()"
   ]
  },
  {
   "cell_type": "markdown",
   "id": "abaa9f44-79a0-4530-94b8-63bffd073194",
   "metadata": {},
   "source": [
    "## Modelling\n",
    "- [Linear Regression](#Linear-Regression)\n",
    "- [Ridge Regression](#Ridge-Regression)\n",
    "- [Lasso Regression](#Lasso-Regression)"
   ]
  },
  {
   "cell_type": "markdown",
   "id": "c436712a-b8fe-4ee7-aaa0-dab02691a66b",
   "metadata": {},
   "source": [
    "### Linear Regression"
   ]
  },
  {
   "cell_type": "code",
   "execution_count": 21,
   "id": "65149ff9-1fce-413d-80a7-f38deae429d4",
   "metadata": {},
   "outputs": [
    {
     "name": "stdout",
     "output_type": "stream",
     "text": [
      "[ 9.16561101e-01  9.15181524e-01  9.15189905e-01 -3.60055375e+15\n",
      "  9.17081416e-01]\n"
     ]
    },
    {
     "data": {
      "text/plain": [
       "-54586253712926.805"
      ]
     },
     "execution_count": 21,
     "metadata": {},
     "output_type": "execute_result"
    }
   ],
   "source": [
    "#Instantiate your model\n",
    "lr = LinearRegression()\n",
    "\n",
    "#Obtain Cross-validation scores|\n",
    "print(cross_val_score(lr, Z_train, y_train, cv =5))\n",
    "\n",
    "#Obtain MEAN Cross-validation score\n",
    "cross_val_score(lr, Z_train, y_train).mean()"
   ]
  },
  {
   "cell_type": "code",
   "execution_count": 22,
   "id": "54449c3d-ae04-4ad1-b7ea-4b2ae8694f35",
   "metadata": {},
   "outputs": [],
   "source": [
    "# Train your model\n",
    "lr.fit(Z_train, y_train)\n",
    "\n",
    "#Generate predictions\n",
    "y_train_preds = lr.predict(Z_train)\n",
    "y_test_preds = lr.predict(Z_test)"
   ]
  },
  {
   "cell_type": "code",
   "execution_count": 23,
   "id": "6e1c64c0-f5dd-4280-a2b9-ef8d3891f8ac",
   "metadata": {},
   "outputs": [
    {
     "data": {
      "text/plain": [
       "0.9176220341478379"
      ]
     },
     "execution_count": 23,
     "metadata": {},
     "output_type": "execute_result"
    }
   ],
   "source": [
    "# Train score:\n",
    "lr.score(Z_train, y_train)"
   ]
  },
  {
   "cell_type": "code",
   "execution_count": 24,
   "id": "ae0e3154-913f-4296-87b4-3a1cc0ea70ad",
   "metadata": {},
   "outputs": [
    {
     "data": {
      "text/plain": [
       "0.9166728697546245"
      ]
     },
     "execution_count": 24,
     "metadata": {},
     "output_type": "execute_result"
    }
   ],
   "source": [
    "# Test score:\n",
    "lr.score(Z_test, y_test)"
   ]
  },
  {
   "cell_type": "code",
   "execution_count": 25,
   "id": "a7a390f6-aea8-4349-b921-626e5afcb062",
   "metadata": {},
   "outputs": [
    {
     "name": "stdout",
     "output_type": "stream",
     "text": [
      "41113.990245483656\n",
      "41296.11609844952\n"
     ]
    }
   ],
   "source": [
    "#MSE\n",
    "train_MSE = mean_squared_error(y_train, y_train_preds)\n",
    "test_MSE = mean_squared_error(y_test, y_test_preds)\n",
    "#RMSE \n",
    "print(np.sqrt(train_MSE))\n",
    "print(np.sqrt(test_MSE))"
   ]
  },
  {
   "cell_type": "markdown",
   "id": "daf491f9-d4a2-4f06-bb16-5356a7ed1ff3",
   "metadata": {},
   "source": [
    "### Ridge Regression"
   ]
  },
  {
   "cell_type": "code",
   "execution_count": 26,
   "id": "c3c1d403-a1fb-4b57-a0f7-021426076452",
   "metadata": {},
   "outputs": [
    {
     "data": {
      "text/html": [
       "<style>#sk-container-id-1 {color: black;background-color: white;}#sk-container-id-1 pre{padding: 0;}#sk-container-id-1 div.sk-toggleable {background-color: white;}#sk-container-id-1 label.sk-toggleable__label {cursor: pointer;display: block;width: 100%;margin-bottom: 0;padding: 0.3em;box-sizing: border-box;text-align: center;}#sk-container-id-1 label.sk-toggleable__label-arrow:before {content: \"▸\";float: left;margin-right: 0.25em;color: #696969;}#sk-container-id-1 label.sk-toggleable__label-arrow:hover:before {color: black;}#sk-container-id-1 div.sk-estimator:hover label.sk-toggleable__label-arrow:before {color: black;}#sk-container-id-1 div.sk-toggleable__content {max-height: 0;max-width: 0;overflow: hidden;text-align: left;background-color: #f0f8ff;}#sk-container-id-1 div.sk-toggleable__content pre {margin: 0.2em;color: black;border-radius: 0.25em;background-color: #f0f8ff;}#sk-container-id-1 input.sk-toggleable__control:checked~div.sk-toggleable__content {max-height: 200px;max-width: 100%;overflow: auto;}#sk-container-id-1 input.sk-toggleable__control:checked~label.sk-toggleable__label-arrow:before {content: \"▾\";}#sk-container-id-1 div.sk-estimator input.sk-toggleable__control:checked~label.sk-toggleable__label {background-color: #d4ebff;}#sk-container-id-1 div.sk-label input.sk-toggleable__control:checked~label.sk-toggleable__label {background-color: #d4ebff;}#sk-container-id-1 input.sk-hidden--visually {border: 0;clip: rect(1px 1px 1px 1px);clip: rect(1px, 1px, 1px, 1px);height: 1px;margin: -1px;overflow: hidden;padding: 0;position: absolute;width: 1px;}#sk-container-id-1 div.sk-estimator {font-family: monospace;background-color: #f0f8ff;border: 1px dotted black;border-radius: 0.25em;box-sizing: border-box;margin-bottom: 0.5em;}#sk-container-id-1 div.sk-estimator:hover {background-color: #d4ebff;}#sk-container-id-1 div.sk-parallel-item::after {content: \"\";width: 100%;border-bottom: 1px solid gray;flex-grow: 1;}#sk-container-id-1 div.sk-label:hover label.sk-toggleable__label {background-color: #d4ebff;}#sk-container-id-1 div.sk-serial::before {content: \"\";position: absolute;border-left: 1px solid gray;box-sizing: border-box;top: 0;bottom: 0;left: 50%;z-index: 0;}#sk-container-id-1 div.sk-serial {display: flex;flex-direction: column;align-items: center;background-color: white;padding-right: 0.2em;padding-left: 0.2em;position: relative;}#sk-container-id-1 div.sk-item {position: relative;z-index: 1;}#sk-container-id-1 div.sk-parallel {display: flex;align-items: stretch;justify-content: center;background-color: white;position: relative;}#sk-container-id-1 div.sk-item::before, #sk-container-id-1 div.sk-parallel-item::before {content: \"\";position: absolute;border-left: 1px solid gray;box-sizing: border-box;top: 0;bottom: 0;left: 50%;z-index: -1;}#sk-container-id-1 div.sk-parallel-item {display: flex;flex-direction: column;z-index: 1;position: relative;background-color: white;}#sk-container-id-1 div.sk-parallel-item:first-child::after {align-self: flex-end;width: 50%;}#sk-container-id-1 div.sk-parallel-item:last-child::after {align-self: flex-start;width: 50%;}#sk-container-id-1 div.sk-parallel-item:only-child::after {width: 0;}#sk-container-id-1 div.sk-dashed-wrapped {border: 1px dashed gray;margin: 0 0.4em 0.5em 0.4em;box-sizing: border-box;padding-bottom: 0.4em;background-color: white;}#sk-container-id-1 div.sk-label label {font-family: monospace;font-weight: bold;display: inline-block;line-height: 1.2em;}#sk-container-id-1 div.sk-label-container {text-align: center;}#sk-container-id-1 div.sk-container {/* jupyter's `normalize.less` sets `[hidden] { display: none; }` but bootstrap.min.css set `[hidden] { display: none !important; }` so we also need the `!important` here to be able to override the default hidden behavior on the sphinx rendered scikit-learn.org. See: https://github.com/scikit-learn/scikit-learn/issues/21755 */display: inline-block !important;position: relative;}#sk-container-id-1 div.sk-text-repr-fallback {display: none;}</style><div id=\"sk-container-id-1\" class=\"sk-top-container\"><div class=\"sk-text-repr-fallback\"><pre>RidgeCV(alphas=array([1.00000000e-03, 2.78255940e-03, 7.74263683e-03, 2.15443469e-02,\n",
       "       5.99484250e-02, 1.66810054e-01, 4.64158883e-01, 1.29154967e+00,\n",
       "       3.59381366e+00, 1.00000000e+01]),\n",
       "        cv=5, scoring=&#x27;r2&#x27;)</pre><b>In a Jupyter environment, please rerun this cell to show the HTML representation or trust the notebook. <br />On GitHub, the HTML representation is unable to render, please try loading this page with nbviewer.org.</b></div><div class=\"sk-container\" hidden><div class=\"sk-item\"><div class=\"sk-estimator sk-toggleable\"><input class=\"sk-toggleable__control sk-hidden--visually\" id=\"sk-estimator-id-1\" type=\"checkbox\" checked><label for=\"sk-estimator-id-1\" class=\"sk-toggleable__label sk-toggleable__label-arrow\">RidgeCV</label><div class=\"sk-toggleable__content\"><pre>RidgeCV(alphas=array([1.00000000e-03, 2.78255940e-03, 7.74263683e-03, 2.15443469e-02,\n",
       "       5.99484250e-02, 1.66810054e-01, 4.64158883e-01, 1.29154967e+00,\n",
       "       3.59381366e+00, 1.00000000e+01]),\n",
       "        cv=5, scoring=&#x27;r2&#x27;)</pre></div></div></div></div></div>"
      ],
      "text/plain": [
       "RidgeCV(alphas=array([1.00000000e-03, 2.78255940e-03, 7.74263683e-03, 2.15443469e-02,\n",
       "       5.99484250e-02, 1.66810054e-01, 4.64158883e-01, 1.29154967e+00,\n",
       "       3.59381366e+00, 1.00000000e+01]),\n",
       "        cv=5, scoring='r2')"
      ]
     },
     "execution_count": 26,
     "metadata": {},
     "output_type": "execute_result"
    }
   ],
   "source": [
    "#alpha_list = np.logspace(-3, 1, 10)\n",
    "ridgecv = RidgeCV(alphas = np.logspace(-3, 1, 10) , scoring='r2', cv = 5)\n",
    "ridgecv.fit(Z_train, y_train)"
   ]
  },
  {
   "cell_type": "code",
   "execution_count": 27,
   "id": "7cf01fca-9fa6-4c30-ae40-055f47a84a6e",
   "metadata": {},
   "outputs": [
    {
     "data": {
      "text/plain": [
       "0.007742636826811269"
      ]
     },
     "execution_count": 27,
     "metadata": {},
     "output_type": "execute_result"
    }
   ],
   "source": [
    "#optimal alpha\n",
    "ridgecv.alpha_"
   ]
  },
  {
   "cell_type": "code",
   "execution_count": 28,
   "id": "e5301f83-87e7-45d2-8fa3-0589488637af",
   "metadata": {},
   "outputs": [
    {
     "name": "stdout",
     "output_type": "stream",
     "text": [
      "[0.9165408  0.91519027 0.91519581 0.91656822 0.91707942]\n",
      "0.9161149040328785\n"
     ]
    }
   ],
   "source": [
    "#Instantiate the model\n",
    "ridge = Ridge(alpha = ridgecv.alpha_)\n",
    "ridge_scores = cross_val_score(ridge, Z_train, y_train, cv = 5)\n",
    "\n",
    "print (ridge_scores)\n",
    "print (np.mean(ridge_scores))"
   ]
  },
  {
   "cell_type": "code",
   "execution_count": 29,
   "id": "822bf760-a195-4a42-93bb-689dea65be94",
   "metadata": {},
   "outputs": [],
   "source": [
    "#Retrain ridge\n",
    "ridge.fit(Z_train, y_train)\n",
    "\n",
    "#Generate predictions\n",
    "y_train_preds = ridge.predict(Z_train)\n",
    "y_test_preds = ridge.predict(Z_test)"
   ]
  },
  {
   "cell_type": "code",
   "execution_count": 30,
   "id": "8feba7bc-1369-4c34-a487-15c1153d6d68",
   "metadata": {},
   "outputs": [
    {
     "data": {
      "text/plain": [
       "0.9176216835245917"
      ]
     },
     "execution_count": 30,
     "metadata": {},
     "output_type": "execute_result"
    }
   ],
   "source": [
    "# Train score:\n",
    "ridge_train_score = ridge.score(Z_train, y_train)\n",
    "ridge_train_score"
   ]
  },
  {
   "cell_type": "code",
   "execution_count": 31,
   "id": "7aad30f5-d36e-4c64-9d67-7e3a1c5188fa",
   "metadata": {},
   "outputs": [
    {
     "data": {
      "text/plain": [
       "0.9166717909827738"
      ]
     },
     "execution_count": 31,
     "metadata": {},
     "output_type": "execute_result"
    }
   ],
   "source": [
    "# Test  score:\n",
    "ridge_test_score = ridgecv.score(Z_test, y_test)\n",
    "ridge_test_score"
   ]
  },
  {
   "cell_type": "code",
   "execution_count": 32,
   "id": "939f3ee2-6e09-4c84-97c2-1f1ff05c4183",
   "metadata": {},
   "outputs": [
    {
     "name": "stdout",
     "output_type": "stream",
     "text": [
      "41114.07774160739\n",
      "41296.38341200796\n"
     ]
    }
   ],
   "source": [
    "#MSE\n",
    "train_MSE = mean_squared_error(y_train, y_train_preds)\n",
    "test_MSE = mean_squared_error(y_test, y_test_preds)\n",
    "#RMSE \n",
    "print(np.sqrt(train_MSE))\n",
    "print(np.sqrt(test_MSE))"
   ]
  },
  {
   "cell_type": "code",
   "execution_count": 75,
   "id": "e10d94ed-0e37-4294-acd2-eb242230795d",
   "metadata": {},
   "outputs": [
    {
     "data": {
      "text/html": [
       "<div>\n",
       "<style scoped>\n",
       "    .dataframe tbody tr th:only-of-type {\n",
       "        vertical-align: middle;\n",
       "    }\n",
       "\n",
       "    .dataframe tbody tr th {\n",
       "        vertical-align: top;\n",
       "    }\n",
       "\n",
       "    .dataframe thead th {\n",
       "        text-align: right;\n",
       "    }\n",
       "</style>\n",
       "<table border=\"1\" class=\"dataframe\">\n",
       "  <thead>\n",
       "    <tr style=\"text-align: right;\">\n",
       "      <th></th>\n",
       "      <th>0</th>\n",
       "      <th>1</th>\n",
       "    </tr>\n",
       "  </thead>\n",
       "  <tbody>\n",
       "    <tr>\n",
       "      <th>205</th>\n",
       "      <td>street_name_GHIM MOH RD</td>\n",
       "      <td>-193307.174717</td>\n",
       "    </tr>\n",
       "    <tr>\n",
       "      <th>120</th>\n",
       "      <td>street_name_C'WEALTH CL</td>\n",
       "      <td>-176218.865917</td>\n",
       "    </tr>\n",
       "    <tr>\n",
       "      <th>121</th>\n",
       "      <td>street_name_C'WEALTH CRES</td>\n",
       "      <td>-174197.455285</td>\n",
       "    </tr>\n",
       "    <tr>\n",
       "      <th>317</th>\n",
       "      <td>street_name_LOWER DELTA RD</td>\n",
       "      <td>-170315.312211</td>\n",
       "    </tr>\n",
       "    <tr>\n",
       "      <th>492</th>\n",
       "      <td>street_name_WHAMPOA DR</td>\n",
       "      <td>-163360.459948</td>\n",
       "    </tr>\n",
       "    <tr>\n",
       "      <th>...</th>\n",
       "      <td>...</td>\n",
       "      <td>...</td>\n",
       "    </tr>\n",
       "    <tr>\n",
       "      <th>635</th>\n",
       "      <td>pri_sch_name_Fairfield Methodist School</td>\n",
       "      <td>317695.115633</td>\n",
       "    </tr>\n",
       "    <tr>\n",
       "      <th>426</th>\n",
       "      <td>street_name_STRATHMORE AVE</td>\n",
       "      <td>343532.563942</td>\n",
       "    </tr>\n",
       "    <tr>\n",
       "      <th>652</th>\n",
       "      <td>pri_sch_name_Henry Park Primary School</td>\n",
       "      <td>385031.837075</td>\n",
       "    </tr>\n",
       "    <tr>\n",
       "      <th>177</th>\n",
       "      <td>street_name_DAWSON RD</td>\n",
       "      <td>427051.803571</td>\n",
       "    </tr>\n",
       "    <tr>\n",
       "      <th>155</th>\n",
       "      <td>street_name_CLARENCE LANE</td>\n",
       "      <td>431204.831458</td>\n",
       "    </tr>\n",
       "  </tbody>\n",
       "</table>\n",
       "<p>902 rows × 2 columns</p>\n",
       "</div>"
      ],
      "text/plain": [
       "                                           0              1\n",
       "205                  street_name_GHIM MOH RD -193307.174717\n",
       "120                  street_name_C'WEALTH CL -176218.865917\n",
       "121                street_name_C'WEALTH CRES -174197.455285\n",
       "317               street_name_LOWER DELTA RD -170315.312211\n",
       "492                   street_name_WHAMPOA DR -163360.459948\n",
       "..                                       ...            ...\n",
       "635  pri_sch_name_Fairfield Methodist School  317695.115633\n",
       "426               street_name_STRATHMORE AVE  343532.563942\n",
       "652   pri_sch_name_Henry Park Primary School  385031.837075\n",
       "177                    street_name_DAWSON RD  427051.803571\n",
       "155                street_name_CLARENCE LANE  431204.831458\n",
       "\n",
       "[902 rows x 2 columns]"
      ]
     },
     "execution_count": 75,
     "metadata": {},
     "output_type": "execute_result"
    }
   ],
   "source": [
    "coefs_ridge = pd.DataFrame(list(zip(Z_train.columns, ridgecv.coef_)))\n",
    "coefs_ridge.sort_values(by = 1, ascending = True)"
   ]
  },
  {
   "cell_type": "markdown",
   "id": "5047a92e-9360-4351-ab7e-d7f1c72c3462",
   "metadata": {},
   "source": [
    "### Lasso Regression"
   ]
  },
  {
   "cell_type": "code",
   "execution_count": 33,
   "id": "c7d0cb6a-23e8-44e3-be18-9fa284167262",
   "metadata": {
    "scrolled": true
   },
   "outputs": [
    {
     "name": "stderr",
     "output_type": "stream",
     "text": [
      "C:\\Users\\benja\\mambaforge\\envs\\dsi-sg\\lib\\site-packages\\sklearn\\linear_model\\_coordinate_descent.py:617: ConvergenceWarning: Objective did not converge. You might want to increase the number of iterations. Duality gap: 733873408009.9375, tolerance: 183042985415.42117\n",
      "  model = cd_fast.enet_coordinate_descent_gram(\n",
      "C:\\Users\\benja\\mambaforge\\envs\\dsi-sg\\lib\\site-packages\\sklearn\\linear_model\\_coordinate_descent.py:617: ConvergenceWarning: Objective did not converge. You might want to increase the number of iterations. Duality gap: 399579887961.1875, tolerance: 183042985415.42117\n",
      "  model = cd_fast.enet_coordinate_descent_gram(\n",
      "C:\\Users\\benja\\mambaforge\\envs\\dsi-sg\\lib\\site-packages\\sklearn\\linear_model\\_coordinate_descent.py:617: ConvergenceWarning: Objective did not converge. You might want to increase the number of iterations. Duality gap: 15251603032860.125, tolerance: 183042985415.42117\n",
      "  model = cd_fast.enet_coordinate_descent_gram(\n",
      "C:\\Users\\benja\\mambaforge\\envs\\dsi-sg\\lib\\site-packages\\sklearn\\linear_model\\_coordinate_descent.py:617: ConvergenceWarning: Objective did not converge. You might want to increase the number of iterations. Duality gap: 47288583854476.45, tolerance: 183042985415.42117\n",
      "  model = cd_fast.enet_coordinate_descent_gram(\n",
      "C:\\Users\\benja\\mambaforge\\envs\\dsi-sg\\lib\\site-packages\\sklearn\\linear_model\\_coordinate_descent.py:617: ConvergenceWarning: Objective did not converge. You might want to increase the number of iterations. Duality gap: 53826609572895.22, tolerance: 183042985415.42117\n",
      "  model = cd_fast.enet_coordinate_descent_gram(\n",
      "C:\\Users\\benja\\mambaforge\\envs\\dsi-sg\\lib\\site-packages\\sklearn\\linear_model\\_coordinate_descent.py:617: ConvergenceWarning: Objective did not converge. You might want to increase the number of iterations. Duality gap: 63050016710380.22, tolerance: 183042985415.42117\n",
      "  model = cd_fast.enet_coordinate_descent_gram(\n",
      "C:\\Users\\benja\\mambaforge\\envs\\dsi-sg\\lib\\site-packages\\sklearn\\linear_model\\_coordinate_descent.py:617: ConvergenceWarning: Objective did not converge. You might want to increase the number of iterations. Duality gap: 67389022250883.734, tolerance: 183042985415.42117\n",
      "  model = cd_fast.enet_coordinate_descent_gram(\n",
      "C:\\Users\\benja\\mambaforge\\envs\\dsi-sg\\lib\\site-packages\\sklearn\\linear_model\\_coordinate_descent.py:617: ConvergenceWarning: Objective did not converge. You might want to increase the number of iterations. Duality gap: 69848633013045.38, tolerance: 183042985415.42117\n",
      "  model = cd_fast.enet_coordinate_descent_gram(\n",
      "C:\\Users\\benja\\mambaforge\\envs\\dsi-sg\\lib\\site-packages\\sklearn\\linear_model\\_coordinate_descent.py:617: ConvergenceWarning: Objective did not converge. You might want to increase the number of iterations. Duality gap: 71395362103942.28, tolerance: 183042985415.42117\n",
      "  model = cd_fast.enet_coordinate_descent_gram(\n",
      "C:\\Users\\benja\\mambaforge\\envs\\dsi-sg\\lib\\site-packages\\sklearn\\linear_model\\_coordinate_descent.py:617: ConvergenceWarning: Objective did not converge. You might want to increase the number of iterations. Duality gap: 954182011684.5625, tolerance: 184935578182.76065\n",
      "  model = cd_fast.enet_coordinate_descent_gram(\n",
      "C:\\Users\\benja\\mambaforge\\envs\\dsi-sg\\lib\\site-packages\\sklearn\\linear_model\\_coordinate_descent.py:617: ConvergenceWarning: Objective did not converge. You might want to increase the number of iterations. Duality gap: 5335649157041.594, tolerance: 184935578182.76065\n",
      "  model = cd_fast.enet_coordinate_descent_gram(\n",
      "C:\\Users\\benja\\mambaforge\\envs\\dsi-sg\\lib\\site-packages\\sklearn\\linear_model\\_coordinate_descent.py:617: ConvergenceWarning: Objective did not converge. You might want to increase the number of iterations. Duality gap: 31921059290005.156, tolerance: 184935578182.76065\n",
      "  model = cd_fast.enet_coordinate_descent_gram(\n",
      "C:\\Users\\benja\\mambaforge\\envs\\dsi-sg\\lib\\site-packages\\sklearn\\linear_model\\_coordinate_descent.py:617: ConvergenceWarning: Objective did not converge. You might want to increase the number of iterations. Duality gap: 30827942530353.297, tolerance: 184935578182.76065\n",
      "  model = cd_fast.enet_coordinate_descent_gram(\n",
      "C:\\Users\\benja\\mambaforge\\envs\\dsi-sg\\lib\\site-packages\\sklearn\\linear_model\\_coordinate_descent.py:617: ConvergenceWarning: Objective did not converge. You might want to increase the number of iterations. Duality gap: 36819525448480.8, tolerance: 184935578182.76065\n",
      "  model = cd_fast.enet_coordinate_descent_gram(\n",
      "C:\\Users\\benja\\mambaforge\\envs\\dsi-sg\\lib\\site-packages\\sklearn\\linear_model\\_coordinate_descent.py:617: ConvergenceWarning: Objective did not converge. You might want to increase the number of iterations. Duality gap: 51537169159820.92, tolerance: 184935578182.76065\n",
      "  model = cd_fast.enet_coordinate_descent_gram(\n",
      "C:\\Users\\benja\\mambaforge\\envs\\dsi-sg\\lib\\site-packages\\sklearn\\linear_model\\_coordinate_descent.py:617: ConvergenceWarning: Objective did not converge. You might want to increase the number of iterations. Duality gap: 63222027607508.11, tolerance: 184935578182.76065\n",
      "  model = cd_fast.enet_coordinate_descent_gram(\n",
      "C:\\Users\\benja\\mambaforge\\envs\\dsi-sg\\lib\\site-packages\\sklearn\\linear_model\\_coordinate_descent.py:617: ConvergenceWarning: Objective did not converge. You might want to increase the number of iterations. Duality gap: 69163056946546.83, tolerance: 184935578182.76065\n",
      "  model = cd_fast.enet_coordinate_descent_gram(\n",
      "C:\\Users\\benja\\mambaforge\\envs\\dsi-sg\\lib\\site-packages\\sklearn\\linear_model\\_coordinate_descent.py:617: ConvergenceWarning: Objective did not converge. You might want to increase the number of iterations. Duality gap: 72123262638500.84, tolerance: 184935578182.76065\n",
      "  model = cd_fast.enet_coordinate_descent_gram(\n",
      "C:\\Users\\benja\\mambaforge\\envs\\dsi-sg\\lib\\site-packages\\sklearn\\linear_model\\_coordinate_descent.py:617: ConvergenceWarning: Objective did not converge. You might want to increase the number of iterations. Duality gap: 645142072598.0312, tolerance: 183773379664.71808\n",
      "  model = cd_fast.enet_coordinate_descent_gram(\n",
      "C:\\Users\\benja\\mambaforge\\envs\\dsi-sg\\lib\\site-packages\\sklearn\\linear_model\\_coordinate_descent.py:617: ConvergenceWarning: Objective did not converge. You might want to increase the number of iterations. Duality gap: 4050140080709.4375, tolerance: 183773379664.71808\n",
      "  model = cd_fast.enet_coordinate_descent_gram(\n",
      "C:\\Users\\benja\\mambaforge\\envs\\dsi-sg\\lib\\site-packages\\sklearn\\linear_model\\_coordinate_descent.py:617: ConvergenceWarning: Objective did not converge. You might want to increase the number of iterations. Duality gap: 29737612660047.906, tolerance: 183773379664.71808\n",
      "  model = cd_fast.enet_coordinate_descent_gram(\n",
      "C:\\Users\\benja\\mambaforge\\envs\\dsi-sg\\lib\\site-packages\\sklearn\\linear_model\\_coordinate_descent.py:617: ConvergenceWarning: Objective did not converge. You might want to increase the number of iterations. Duality gap: 41830896828298.84, tolerance: 183773379664.71808\n",
      "  model = cd_fast.enet_coordinate_descent_gram(\n",
      "C:\\Users\\benja\\mambaforge\\envs\\dsi-sg\\lib\\site-packages\\sklearn\\linear_model\\_coordinate_descent.py:617: ConvergenceWarning: Objective did not converge. You might want to increase the number of iterations. Duality gap: 45893842661094.09, tolerance: 183773379664.71808\n",
      "  model = cd_fast.enet_coordinate_descent_gram(\n",
      "C:\\Users\\benja\\mambaforge\\envs\\dsi-sg\\lib\\site-packages\\sklearn\\linear_model\\_coordinate_descent.py:617: ConvergenceWarning: Objective did not converge. You might want to increase the number of iterations. Duality gap: 51942202867964.66, tolerance: 183773379664.71808\n",
      "  model = cd_fast.enet_coordinate_descent_gram(\n",
      "C:\\Users\\benja\\mambaforge\\envs\\dsi-sg\\lib\\site-packages\\sklearn\\linear_model\\_coordinate_descent.py:617: ConvergenceWarning: Objective did not converge. You might want to increase the number of iterations. Duality gap: 63002997366719.09, tolerance: 183773379664.71808\n",
      "  model = cd_fast.enet_coordinate_descent_gram(\n",
      "C:\\Users\\benja\\mambaforge\\envs\\dsi-sg\\lib\\site-packages\\sklearn\\linear_model\\_coordinate_descent.py:617: ConvergenceWarning: Objective did not converge. You might want to increase the number of iterations. Duality gap: 69049582916763.39, tolerance: 183773379664.71808\n",
      "  model = cd_fast.enet_coordinate_descent_gram(\n",
      "C:\\Users\\benja\\mambaforge\\envs\\dsi-sg\\lib\\site-packages\\sklearn\\linear_model\\_coordinate_descent.py:617: ConvergenceWarning: Objective did not converge. You might want to increase the number of iterations. Duality gap: 71699706140601.31, tolerance: 183773379664.71808\n",
      "  model = cd_fast.enet_coordinate_descent_gram(\n",
      "C:\\Users\\benja\\mambaforge\\envs\\dsi-sg\\lib\\site-packages\\sklearn\\linear_model\\_coordinate_descent.py:617: ConvergenceWarning: Objective did not converge. You might want to increase the number of iterations. Duality gap: 1230768357424.5625, tolerance: 184774264762.3803\n",
      "  model = cd_fast.enet_coordinate_descent_gram(\n",
      "C:\\Users\\benja\\mambaforge\\envs\\dsi-sg\\lib\\site-packages\\sklearn\\linear_model\\_coordinate_descent.py:617: ConvergenceWarning: Objective did not converge. You might want to increase the number of iterations. Duality gap: 1169852994584.2812, tolerance: 184774264762.3803\n",
      "  model = cd_fast.enet_coordinate_descent_gram(\n",
      "C:\\Users\\benja\\mambaforge\\envs\\dsi-sg\\lib\\site-packages\\sklearn\\linear_model\\_coordinate_descent.py:617: ConvergenceWarning: Objective did not converge. You might want to increase the number of iterations. Duality gap: 16507552735784.375, tolerance: 184774264762.3803\n",
      "  model = cd_fast.enet_coordinate_descent_gram(\n",
      "C:\\Users\\benja\\mambaforge\\envs\\dsi-sg\\lib\\site-packages\\sklearn\\linear_model\\_coordinate_descent.py:617: ConvergenceWarning: Objective did not converge. You might want to increase the number of iterations. Duality gap: 45280856352510.58, tolerance: 184774264762.3803\n",
      "  model = cd_fast.enet_coordinate_descent_gram(\n",
      "C:\\Users\\benja\\mambaforge\\envs\\dsi-sg\\lib\\site-packages\\sklearn\\linear_model\\_coordinate_descent.py:617: ConvergenceWarning: Objective did not converge. You might want to increase the number of iterations. Duality gap: 38395642453782.28, tolerance: 184774264762.3803\n",
      "  model = cd_fast.enet_coordinate_descent_gram(\n",
      "C:\\Users\\benja\\mambaforge\\envs\\dsi-sg\\lib\\site-packages\\sklearn\\linear_model\\_coordinate_descent.py:617: ConvergenceWarning: Objective did not converge. You might want to increase the number of iterations. Duality gap: 53518367995439.266, tolerance: 184774264762.3803\n",
      "  model = cd_fast.enet_coordinate_descent_gram(\n",
      "C:\\Users\\benja\\mambaforge\\envs\\dsi-sg\\lib\\site-packages\\sklearn\\linear_model\\_coordinate_descent.py:617: ConvergenceWarning: Objective did not converge. You might want to increase the number of iterations. Duality gap: 63874427450312.266, tolerance: 184774264762.3803\n",
      "  model = cd_fast.enet_coordinate_descent_gram(\n",
      "C:\\Users\\benja\\mambaforge\\envs\\dsi-sg\\lib\\site-packages\\sklearn\\linear_model\\_coordinate_descent.py:617: ConvergenceWarning: Objective did not converge. You might want to increase the number of iterations. Duality gap: 69061323442415.16, tolerance: 184774264762.3803\n",
      "  model = cd_fast.enet_coordinate_descent_gram(\n",
      "C:\\Users\\benja\\mambaforge\\envs\\dsi-sg\\lib\\site-packages\\sklearn\\linear_model\\_coordinate_descent.py:617: ConvergenceWarning: Objective did not converge. You might want to increase the number of iterations. Duality gap: 71819107651945.9, tolerance: 184774264762.3803\n",
      "  model = cd_fast.enet_coordinate_descent_gram(\n",
      "C:\\Users\\benja\\mambaforge\\envs\\dsi-sg\\lib\\site-packages\\sklearn\\linear_model\\_coordinate_descent.py:617: ConvergenceWarning: Objective did not converge. You might want to increase the number of iterations. Duality gap: 989674623761.625, tolerance: 184970920659.05847\n",
      "  model = cd_fast.enet_coordinate_descent_gram(\n",
      "C:\\Users\\benja\\mambaforge\\envs\\dsi-sg\\lib\\site-packages\\sklearn\\linear_model\\_coordinate_descent.py:617: ConvergenceWarning: Objective did not converge. You might want to increase the number of iterations. Duality gap: 4214868718833.5938, tolerance: 184970920659.05847\n",
      "  model = cd_fast.enet_coordinate_descent_gram(\n",
      "C:\\Users\\benja\\mambaforge\\envs\\dsi-sg\\lib\\site-packages\\sklearn\\linear_model\\_coordinate_descent.py:617: ConvergenceWarning: Objective did not converge. You might want to increase the number of iterations. Duality gap: 30414226905454.78, tolerance: 184970920659.05847\n",
      "  model = cd_fast.enet_coordinate_descent_gram(\n",
      "C:\\Users\\benja\\mambaforge\\envs\\dsi-sg\\lib\\site-packages\\sklearn\\linear_model\\_coordinate_descent.py:617: ConvergenceWarning: Objective did not converge. You might want to increase the number of iterations. Duality gap: 37005058884719.58, tolerance: 184970920659.05847\n",
      "  model = cd_fast.enet_coordinate_descent_gram(\n",
      "C:\\Users\\benja\\mambaforge\\envs\\dsi-sg\\lib\\site-packages\\sklearn\\linear_model\\_coordinate_descent.py:617: ConvergenceWarning: Objective did not converge. You might want to increase the number of iterations. Duality gap: 52522541666234.5, tolerance: 184970920659.05847\n",
      "  model = cd_fast.enet_coordinate_descent_gram(\n",
      "C:\\Users\\benja\\mambaforge\\envs\\dsi-sg\\lib\\site-packages\\sklearn\\linear_model\\_coordinate_descent.py:617: ConvergenceWarning: Objective did not converge. You might want to increase the number of iterations. Duality gap: 55415314426484.47, tolerance: 184970920659.05847\n",
      "  model = cd_fast.enet_coordinate_descent_gram(\n",
      "C:\\Users\\benja\\mambaforge\\envs\\dsi-sg\\lib\\site-packages\\sklearn\\linear_model\\_coordinate_descent.py:617: ConvergenceWarning: Objective did not converge. You might want to increase the number of iterations. Duality gap: 63267521520073.36, tolerance: 184970920659.05847\n",
      "  model = cd_fast.enet_coordinate_descent_gram(\n",
      "C:\\Users\\benja\\mambaforge\\envs\\dsi-sg\\lib\\site-packages\\sklearn\\linear_model\\_coordinate_descent.py:617: ConvergenceWarning: Objective did not converge. You might want to increase the number of iterations. Duality gap: 69550726643640.84, tolerance: 184970920659.05847\n",
      "  model = cd_fast.enet_coordinate_descent_gram(\n",
      "C:\\Users\\benja\\mambaforge\\envs\\dsi-sg\\lib\\site-packages\\sklearn\\linear_model\\_coordinate_descent.py:617: ConvergenceWarning: Objective did not converge. You might want to increase the number of iterations. Duality gap: 72541196728914.33, tolerance: 184970920659.05847\n",
      "  model = cd_fast.enet_coordinate_descent_gram(\n",
      "C:\\Users\\benja\\mambaforge\\envs\\dsi-sg\\lib\\site-packages\\sklearn\\linear_model\\_coordinate_descent.py:631: ConvergenceWarning: Objective did not converge. You might want to increase the number of iterations, check the scale of the features or consider increasing regularisation. Duality gap: 9.459e+13, tolerance: 2.304e+11\n",
      "  model = cd_fast.enet_coordinate_descent(\n"
     ]
    },
    {
     "data": {
      "text/html": [
       "<style>#sk-container-id-2 {color: black;background-color: white;}#sk-container-id-2 pre{padding: 0;}#sk-container-id-2 div.sk-toggleable {background-color: white;}#sk-container-id-2 label.sk-toggleable__label {cursor: pointer;display: block;width: 100%;margin-bottom: 0;padding: 0.3em;box-sizing: border-box;text-align: center;}#sk-container-id-2 label.sk-toggleable__label-arrow:before {content: \"▸\";float: left;margin-right: 0.25em;color: #696969;}#sk-container-id-2 label.sk-toggleable__label-arrow:hover:before {color: black;}#sk-container-id-2 div.sk-estimator:hover label.sk-toggleable__label-arrow:before {color: black;}#sk-container-id-2 div.sk-toggleable__content {max-height: 0;max-width: 0;overflow: hidden;text-align: left;background-color: #f0f8ff;}#sk-container-id-2 div.sk-toggleable__content pre {margin: 0.2em;color: black;border-radius: 0.25em;background-color: #f0f8ff;}#sk-container-id-2 input.sk-toggleable__control:checked~div.sk-toggleable__content {max-height: 200px;max-width: 100%;overflow: auto;}#sk-container-id-2 input.sk-toggleable__control:checked~label.sk-toggleable__label-arrow:before {content: \"▾\";}#sk-container-id-2 div.sk-estimator input.sk-toggleable__control:checked~label.sk-toggleable__label {background-color: #d4ebff;}#sk-container-id-2 div.sk-label input.sk-toggleable__control:checked~label.sk-toggleable__label {background-color: #d4ebff;}#sk-container-id-2 input.sk-hidden--visually {border: 0;clip: rect(1px 1px 1px 1px);clip: rect(1px, 1px, 1px, 1px);height: 1px;margin: -1px;overflow: hidden;padding: 0;position: absolute;width: 1px;}#sk-container-id-2 div.sk-estimator {font-family: monospace;background-color: #f0f8ff;border: 1px dotted black;border-radius: 0.25em;box-sizing: border-box;margin-bottom: 0.5em;}#sk-container-id-2 div.sk-estimator:hover {background-color: #d4ebff;}#sk-container-id-2 div.sk-parallel-item::after {content: \"\";width: 100%;border-bottom: 1px solid gray;flex-grow: 1;}#sk-container-id-2 div.sk-label:hover label.sk-toggleable__label {background-color: #d4ebff;}#sk-container-id-2 div.sk-serial::before {content: \"\";position: absolute;border-left: 1px solid gray;box-sizing: border-box;top: 0;bottom: 0;left: 50%;z-index: 0;}#sk-container-id-2 div.sk-serial {display: flex;flex-direction: column;align-items: center;background-color: white;padding-right: 0.2em;padding-left: 0.2em;position: relative;}#sk-container-id-2 div.sk-item {position: relative;z-index: 1;}#sk-container-id-2 div.sk-parallel {display: flex;align-items: stretch;justify-content: center;background-color: white;position: relative;}#sk-container-id-2 div.sk-item::before, #sk-container-id-2 div.sk-parallel-item::before {content: \"\";position: absolute;border-left: 1px solid gray;box-sizing: border-box;top: 0;bottom: 0;left: 50%;z-index: -1;}#sk-container-id-2 div.sk-parallel-item {display: flex;flex-direction: column;z-index: 1;position: relative;background-color: white;}#sk-container-id-2 div.sk-parallel-item:first-child::after {align-self: flex-end;width: 50%;}#sk-container-id-2 div.sk-parallel-item:last-child::after {align-self: flex-start;width: 50%;}#sk-container-id-2 div.sk-parallel-item:only-child::after {width: 0;}#sk-container-id-2 div.sk-dashed-wrapped {border: 1px dashed gray;margin: 0 0.4em 0.5em 0.4em;box-sizing: border-box;padding-bottom: 0.4em;background-color: white;}#sk-container-id-2 div.sk-label label {font-family: monospace;font-weight: bold;display: inline-block;line-height: 1.2em;}#sk-container-id-2 div.sk-label-container {text-align: center;}#sk-container-id-2 div.sk-container {/* jupyter's `normalize.less` sets `[hidden] { display: none; }` but bootstrap.min.css set `[hidden] { display: none !important; }` so we also need the `!important` here to be able to override the default hidden behavior on the sphinx rendered scikit-learn.org. See: https://github.com/scikit-learn/scikit-learn/issues/21755 */display: inline-block !important;position: relative;}#sk-container-id-2 div.sk-text-repr-fallback {display: none;}</style><div id=\"sk-container-id-2\" class=\"sk-top-container\"><div class=\"sk-text-repr-fallback\"><pre>LassoCV(alphas=array([1.00000000e-03, 2.78255940e-03, 7.74263683e-03, 2.15443469e-02,\n",
       "       5.99484250e-02, 1.66810054e-01, 4.64158883e-01, 1.29154967e+00,\n",
       "       3.59381366e+00, 1.00000000e+01]),\n",
       "        cv=5)</pre><b>In a Jupyter environment, please rerun this cell to show the HTML representation or trust the notebook. <br />On GitHub, the HTML representation is unable to render, please try loading this page with nbviewer.org.</b></div><div class=\"sk-container\" hidden><div class=\"sk-item\"><div class=\"sk-estimator sk-toggleable\"><input class=\"sk-toggleable__control sk-hidden--visually\" id=\"sk-estimator-id-2\" type=\"checkbox\" checked><label for=\"sk-estimator-id-2\" class=\"sk-toggleable__label sk-toggleable__label-arrow\">LassoCV</label><div class=\"sk-toggleable__content\"><pre>LassoCV(alphas=array([1.00000000e-03, 2.78255940e-03, 7.74263683e-03, 2.15443469e-02,\n",
       "       5.99484250e-02, 1.66810054e-01, 4.64158883e-01, 1.29154967e+00,\n",
       "       3.59381366e+00, 1.00000000e+01]),\n",
       "        cv=5)</pre></div></div></div></div></div>"
      ],
      "text/plain": [
       "LassoCV(alphas=array([1.00000000e-03, 2.78255940e-03, 7.74263683e-03, 2.15443469e-02,\n",
       "       5.99484250e-02, 1.66810054e-01, 4.64158883e-01, 1.29154967e+00,\n",
       "       3.59381366e+00, 1.00000000e+01]),\n",
       "        cv=5)"
      ]
     },
     "execution_count": 33,
     "metadata": {},
     "output_type": "execute_result"
    }
   ],
   "source": [
    "l_alphas = np.logspace(-3, 1, 10)\n",
    "\n",
    "lassocv = LassoCV(alphas=l_alphas, cv=5, max_iter=1000)\n",
    "\n",
    "lassocv.fit(Z_train, y_train)"
   ]
  },
  {
   "cell_type": "code",
   "execution_count": 34,
   "id": "64c383f0-53f3-4e3b-a1ce-f1638281c8c1",
   "metadata": {},
   "outputs": [
    {
     "data": {
      "text/plain": [
       "0.001"
      ]
     },
     "execution_count": 34,
     "metadata": {},
     "output_type": "execute_result"
    }
   ],
   "source": [
    "lassocv.alpha_"
   ]
  },
  {
   "cell_type": "code",
   "execution_count": 35,
   "id": "b85d1413-9f43-4af1-94cd-45e07d952a84",
   "metadata": {},
   "outputs": [
    {
     "name": "stderr",
     "output_type": "stream",
     "text": [
      "C:\\Users\\benja\\mambaforge\\envs\\dsi-sg\\lib\\site-packages\\sklearn\\linear_model\\_coordinate_descent.py:631: ConvergenceWarning: Objective did not converge. You might want to increase the number of iterations, check the scale of the features or consider increasing regularisation. Duality gap: 7.516e+13, tolerance: 1.830e+11\n",
      "  model = cd_fast.enet_coordinate_descent(\n",
      "C:\\Users\\benja\\mambaforge\\envs\\dsi-sg\\lib\\site-packages\\sklearn\\linear_model\\_coordinate_descent.py:631: ConvergenceWarning: Objective did not converge. You might want to increase the number of iterations, check the scale of the features or consider increasing regularisation. Duality gap: 7.556e+13, tolerance: 1.849e+11\n",
      "  model = cd_fast.enet_coordinate_descent(\n",
      "C:\\Users\\benja\\mambaforge\\envs\\dsi-sg\\lib\\site-packages\\sklearn\\linear_model\\_coordinate_descent.py:631: ConvergenceWarning: Objective did not converge. You might want to increase the number of iterations, check the scale of the features or consider increasing regularisation. Duality gap: 7.507e+13, tolerance: 1.838e+11\n",
      "  model = cd_fast.enet_coordinate_descent(\n",
      "C:\\Users\\benja\\mambaforge\\envs\\dsi-sg\\lib\\site-packages\\sklearn\\linear_model\\_coordinate_descent.py:631: ConvergenceWarning: Objective did not converge. You might want to increase the number of iterations, check the scale of the features or consider increasing regularisation. Duality gap: 7.587e+13, tolerance: 1.848e+11\n",
      "  model = cd_fast.enet_coordinate_descent(\n",
      "C:\\Users\\benja\\mambaforge\\envs\\dsi-sg\\lib\\site-packages\\sklearn\\linear_model\\_coordinate_descent.py:631: ConvergenceWarning: Objective did not converge. You might want to increase the number of iterations, check the scale of the features or consider increasing regularisation. Duality gap: 7.596e+13, tolerance: 1.850e+11\n",
      "  model = cd_fast.enet_coordinate_descent(\n"
     ]
    },
    {
     "name": "stdout",
     "output_type": "stream",
     "text": [
      "[0.91621178 0.91522901 0.91516345 0.91667102 0.91698163]\n",
      "0.9160513788485725\n"
     ]
    }
   ],
   "source": [
    "lasso = Lasso(alpha=lassocv.alpha_)\n",
    "\n",
    "lasso_scores = cross_val_score(lasso, Z_train, y_train)\n",
    "\n",
    "print (lasso_scores)\n",
    "print (np.mean(lasso_scores))"
   ]
  },
  {
   "cell_type": "code",
   "execution_count": 36,
   "id": "0391e665-ffc6-4438-8f56-135b7b20c311",
   "metadata": {},
   "outputs": [
    {
     "name": "stderr",
     "output_type": "stream",
     "text": [
      "C:\\Users\\benja\\mambaforge\\envs\\dsi-sg\\lib\\site-packages\\sklearn\\linear_model\\_coordinate_descent.py:631: ConvergenceWarning: Objective did not converge. You might want to increase the number of iterations, check the scale of the features or consider increasing regularisation. Duality gap: 9.459e+13, tolerance: 2.304e+11\n",
      "  model = cd_fast.enet_coordinate_descent(\n"
     ]
    }
   ],
   "source": [
    "#Retrain ridge\n",
    "lasso.fit(Z_train, y_train)\n",
    "\n",
    "#Generate predictions\n",
    "y_train_preds = lasso.predict(Z_train)\n",
    "y_test_preds = lasso.predict(Z_test)"
   ]
  },
  {
   "cell_type": "code",
   "execution_count": 37,
   "id": "59ac33ba-d8b7-4ab2-82c7-82b86fdb0aaf",
   "metadata": {},
   "outputs": [
    {
     "data": {
      "text/plain": [
       "0.9175799469522133"
      ]
     },
     "execution_count": 37,
     "metadata": {},
     "output_type": "execute_result"
    }
   ],
   "source": [
    "# Train score:\n",
    "lasso_train_score = lasso.score(Z_train, y_train)\n",
    "lasso_train_score"
   ]
  },
  {
   "cell_type": "code",
   "execution_count": 38,
   "id": "ff8e13bf-502e-44fb-a086-d26eb2e3b0ce",
   "metadata": {},
   "outputs": [
    {
     "data": {
      "text/plain": [
       "0.9165583637195707"
      ]
     },
     "execution_count": 38,
     "metadata": {},
     "output_type": "execute_result"
    }
   ],
   "source": [
    "# Test  score:\n",
    "lasso_test_score = lasso.score(Z_test, y_test)\n",
    "lasso_test_score"
   ]
  },
  {
   "cell_type": "code",
   "execution_count": 39,
   "id": "0c7f4207-2443-4c50-8b64-1edd3922001c",
   "metadata": {},
   "outputs": [
    {
     "name": "stdout",
     "output_type": "stream",
     "text": [
      "41124.49154625952\n",
      "41324.480396604806\n"
     ]
    }
   ],
   "source": [
    "#MSE\n",
    "train_MSE = mean_squared_error(y_train, y_train_preds)\n",
    "test_MSE = mean_squared_error(y_test, y_test_preds)\n",
    "#RMSE \n",
    "print(np.sqrt(train_MSE))\n",
    "print(np.sqrt(test_MSE))"
   ]
  },
  {
   "cell_type": "code",
   "execution_count": 78,
   "id": "87bbc874-927b-400b-a951-184caca7d2d0",
   "metadata": {},
   "outputs": [
    {
     "data": {
      "text/html": [
       "<div>\n",
       "<style scoped>\n",
       "    .dataframe tbody tr th:only-of-type {\n",
       "        vertical-align: middle;\n",
       "    }\n",
       "\n",
       "    .dataframe tbody tr th {\n",
       "        vertical-align: top;\n",
       "    }\n",
       "\n",
       "    .dataframe thead th {\n",
       "        text-align: right;\n",
       "    }\n",
       "</style>\n",
       "<table border=\"1\" class=\"dataframe\">\n",
       "  <thead>\n",
       "    <tr style=\"text-align: right;\">\n",
       "      <th></th>\n",
       "      <th>0</th>\n",
       "      <th>1</th>\n",
       "    </tr>\n",
       "  </thead>\n",
       "  <tbody>\n",
       "    <tr>\n",
       "      <th>810</th>\n",
       "      <td>sec_sch_name_Fairfield Methodist School</td>\n",
       "      <td>-186868.402591</td>\n",
       "    </tr>\n",
       "    <tr>\n",
       "      <th>253</th>\n",
       "      <td>street_name_JLN TECK WHYE</td>\n",
       "      <td>-176391.883039</td>\n",
       "    </tr>\n",
       "    <tr>\n",
       "      <th>148</th>\n",
       "      <td>street_name_CHOA CHU KANG ST 51</td>\n",
       "      <td>-172655.347971</td>\n",
       "    </tr>\n",
       "    <tr>\n",
       "      <th>325</th>\n",
       "      <td>street_name_MARSILING RD</td>\n",
       "      <td>-171297.945344</td>\n",
       "    </tr>\n",
       "    <tr>\n",
       "      <th>859</th>\n",
       "      <td>sec_sch_name_Queenstown Secondary School</td>\n",
       "      <td>-167347.687632</td>\n",
       "    </tr>\n",
       "    <tr>\n",
       "      <th>...</th>\n",
       "      <td>...</td>\n",
       "      <td>...</td>\n",
       "    </tr>\n",
       "    <tr>\n",
       "      <th>425</th>\n",
       "      <td>street_name_STIRLING RD</td>\n",
       "      <td>401628.787189</td>\n",
       "    </tr>\n",
       "    <tr>\n",
       "      <th>328</th>\n",
       "      <td>street_name_MEI LING ST</td>\n",
       "      <td>423580.369616</td>\n",
       "    </tr>\n",
       "    <tr>\n",
       "      <th>426</th>\n",
       "      <td>street_name_STRATHMORE AVE</td>\n",
       "      <td>492498.150013</td>\n",
       "    </tr>\n",
       "    <tr>\n",
       "      <th>155</th>\n",
       "      <td>street_name_CLARENCE LANE</td>\n",
       "      <td>573910.857816</td>\n",
       "    </tr>\n",
       "    <tr>\n",
       "      <th>177</th>\n",
       "      <td>street_name_DAWSON RD</td>\n",
       "      <td>576034.651926</td>\n",
       "    </tr>\n",
       "  </tbody>\n",
       "</table>\n",
       "<p>902 rows × 2 columns</p>\n",
       "</div>"
      ],
      "text/plain": [
       "                                            0              1\n",
       "810   sec_sch_name_Fairfield Methodist School -186868.402591\n",
       "253                 street_name_JLN TECK WHYE -176391.883039\n",
       "148           street_name_CHOA CHU KANG ST 51 -172655.347971\n",
       "325                  street_name_MARSILING RD -171297.945344\n",
       "859  sec_sch_name_Queenstown Secondary School -167347.687632\n",
       "..                                        ...            ...\n",
       "425                   street_name_STIRLING RD  401628.787189\n",
       "328                   street_name_MEI LING ST  423580.369616\n",
       "426                street_name_STRATHMORE AVE  492498.150013\n",
       "155                 street_name_CLARENCE LANE  573910.857816\n",
       "177                     street_name_DAWSON RD  576034.651926\n",
       "\n",
       "[902 rows x 2 columns]"
      ]
     },
     "execution_count": 78,
     "metadata": {},
     "output_type": "execute_result"
    }
   ],
   "source": [
    "coefs_lasso = pd.DataFrame(list(zip(Z_train.columns, lassocv.coef_)))\n",
    "coefs_lasso.sort_values(by = 1, ascending = True)"
   ]
  },
  {
   "cell_type": "markdown",
   "id": "44e4cd0d-b19b-4b8b-ab6c-db948cae545a",
   "metadata": {},
   "source": [
    "### Results Analysis"
   ]
  },
  {
   "cell_type": "markdown",
   "id": "4d5db917-d2e8-40e7-8f52-9a90dcfe3ed3",
   "metadata": {},
   "source": [
    "| Version | Score Description | Linear Regression | Ridge Regression | Lasso Regression |\r\n",
    "|---------|-------------------|-------------------|------------------|------------------|\r\n",
    "| V3      | Train Score       | 0.92552           | 0.92551          | 0.92411          |\r\n",
    "| V3      | Test Score        | -1564517453.13769 | 0.92415          | 0.92446          |\r\n",
    "| V3      | Train RMSE        | 39089.89          | 39090.38         | 39097.75         |\r\n",
    "| V3      | Test RMSE         | 5664718809        | 39443.09         | 39452.04         |\r\n",
    "| V4      | Train Score       | 0.917622034       | 0.917622         | 0.91758          |\r\n",
    "| V4      | Test Score        | 0.91667287        | 0.916672         | 0.916558         |\r\n",
    "| V4      | Train RMSE        | 41113.99025       | 41114.08         | 41124.49         |\r\n",
    "| V4      | Test RMSE         | 41296.1161        | 41296.38         | 41324.48         |        |   |    |"
   ]
  },
  {
   "cell_type": "raw",
   "id": "44142a9f-4337-4f4a-b69a-cbfaf3006fbd",
   "metadata": {},
   "source": [
    "After dropping further 2 features 'flat_model', and 'max_floor_lvl' which is suspected to be collinear with 'flat_type' and 'mid' of the floor range as well as removing 'Tranc_Month', there is both improvement and worsening at the same time. \n",
    "\n",
    "The improvement is that the discrepant results with the Linear regresison model is not as prevalent in the score indicating that the features are less overfitting and more generalised, avoiding the issued where the sectioning during cross validation leads to vastly different results. The results are also more consistent across the 3 different models. In fact, Linear regresion and RIdge regression shows very high similarity in the R2 and RMSE scores.\n",
    "\n",
    "As before, the convergence warning occuring with the Lasso regression means there is likely still some issues with the features. Considering the improvement in the Linear regression model after dropping the 3 aforementioned features, it is likely too many features or some of the features itself having collinear relations. \n",
    "\n",
    "While the removal of the features led to a decrease in the R2 scores and the increased RMSE giving a larger variance in the predicted price, having the linear regression model align bodes well for the current variant of the model with less likelyihood fo overfitting, improving its robustness.\n",
    "\n",
    "An interesting thing to note is the variables with the highest coefficients in the lasso models are those relating to streets, while the ones in ridge are a mix between schools and streets. This allows us to peek into the workings of the regression models with mulitple encoded categories, being of a certain categories either penalises or rasies the price by the coefficient. This translates to location categories actually having a large impact on the resale prices even though it is not obvious which exactly is the key areas."
   ]
  },
  {
   "cell_type": "markdown",
   "id": "2bf28af2-7dd1-42c7-ba8e-6a21349716c4",
   "metadata": {},
   "source": [
    "## Conclusion"
   ]
  },
  {
   "cell_type": "markdown",
   "id": "cc60c571-db63-402b-a247-d24ec9773d2c",
   "metadata": {},
   "source": [
    "The modelling process has shown a rather linear relation between the various features and price even though the model is not perfect. In fact, through the iterative process of versioning, the reduction of multiple features does not seems to impact the models score greatly. Thus it is quite clear that a house price is determined not just by a single factor but rather quite alot of factors combined together since there was no clear correlation between price resale_price and any one factor. \n",
    "\n",
    "While a common understanding is the per area price as evident in the EDA, looking at the coeficients of the models gives us a better understanding of the other drivers (such as street address) of resale prices. This advises us in which area we can possibly look to further refine the model to be as accurate and as simple as possible.\n",
    "\n",
    "In the meantime, the current model version with the RMSE scores (which represent the pricing error) of around $41k, is less than 10% of the avereage resale price (\\\\$448,661), which gives it sufficient uility to gauge housing prices. This will give those who are impacted by housing prices, e.g. owners, buyers and agents additional avenue to gauge the prices of the house unit and aid their decision making process. \n",
    "\n",
    "Therefore, for future improvements on the resale price model, the recommendation is to look into reducing the current features and impossible, to look at the inclusion of other features not indicated in the current set such as the actual state of the hosue (e.g. degree of renovation done, furnishing provided etc.) \n"
   ]
  },
  {
   "cell_type": "markdown",
   "id": "dee7bf4b-4e95-4e25-aeff-6cd97120563d",
   "metadata": {},
   "source": [
    "### Pickling in progress"
   ]
  },
  {
   "cell_type": "code",
   "execution_count": 41,
   "id": "a7957250-8e78-42f3-9712-0e0cb64e8158",
   "metadata": {},
   "outputs": [],
   "source": [
    "import pickle"
   ]
  },
  {
   "cell_type": "code",
   "execution_count": 42,
   "id": "935efbf5-fcbf-47d9-a42e-1bf017bd10d1",
   "metadata": {},
   "outputs": [],
   "source": [
    "pickle.dump(lr, open('lr.pkl', 'wb'))"
   ]
  },
  {
   "cell_type": "code",
   "execution_count": 43,
   "id": "ae80f6c3-4498-476c-b86a-86d2f4d19a95",
   "metadata": {},
   "outputs": [],
   "source": [
    "pickle.dump(ridgecv, open('ridgecv.pkl', 'wb'))"
   ]
  },
  {
   "cell_type": "code",
   "execution_count": 44,
   "id": "95ec9259-d916-48c3-8137-d2760323a863",
   "metadata": {},
   "outputs": [],
   "source": [
    "pickle.dump(lassocv, open('lassocv.pkl', 'wb'))"
   ]
  },
  {
   "cell_type": "markdown",
   "id": "b8cfed0d-957b-447e-b462-9d82749bc2a3",
   "metadata": {},
   "source": [
    "## Predictions"
   ]
  },
  {
   "cell_type": "code",
   "execution_count": 45,
   "id": "ca11393b-b8aa-41d2-8707-46cb90e1802e",
   "metadata": {},
   "outputs": [
    {
     "name": "stderr",
     "output_type": "stream",
     "text": [
      "C:\\Users\\benja\\AppData\\Local\\Temp\\ipykernel_19012\\3863900838.py:1: DtypeWarning: Columns (40) have mixed types. Specify dtype option on import or set low_memory=False.\n",
      "  exam = pd.read_csv('../../data/test.csv')\n"
     ]
    }
   ],
   "source": [
    "exam = pd.read_csv('../../data/test.csv')"
   ]
  },
  {
   "cell_type": "code",
   "execution_count": 46,
   "id": "3ade8835-20c9-407c-b537-4521b4df2d79",
   "metadata": {},
   "outputs": [],
   "source": [
    "def bool_converter(df, feature):\n",
    "    for n in feature:\n",
    "        df[n].replace({'Y': 1, 'N' : 0}, inplace = True)"
   ]
  },
  {
   "cell_type": "code",
   "execution_count": 47,
   "id": "c9140efa-d547-4f51-94ab-9bd6d9127166",
   "metadata": {},
   "outputs": [],
   "source": [
    "object_features = ['commercial', 'market_hawker', 'multistorey_carpark', 'precinct_pavilion']\n",
    "bool_converter(exam, object_features)"
   ]
  },
  {
   "cell_type": "code",
   "execution_count": 48,
   "id": "e9b10fbb-164e-47f7-a6fc-f9cc8f33939d",
   "metadata": {},
   "outputs": [],
   "source": [
    "exam['Hawker_Within_500m'].replace([np.nan], 0, inplace = True)\n",
    "exam['Hawker_Within_1km'].replace([np.nan], 0, inplace = True)\n",
    "exam['Hawker_Within_2km'].replace([np.nan], 0, inplace = True)\n",
    "\n",
    "exam['Mall_Within_500m'].replace([np.nan], 0, inplace = True)\n",
    "exam['Mall_Within_1km'].replace([np.nan], 0, inplace = True)\n",
    "exam['Mall_Within_2km'].replace([np.nan], 0, inplace = True)"
   ]
  },
  {
   "cell_type": "code",
   "execution_count": 49,
   "id": "c7ce86d2-aa4a-402b-b05b-dcbecbfa75b8",
   "metadata": {},
   "outputs": [],
   "source": [
    "choose_mask = pd.read_csv('../../data/dataset_description_chosen.csv')\n",
    "mask_list = list(choose_mask.loc[choose_mask['Decision( 1 = Accept, 0 = Reject)'] == 0, 'Codebook / Data Dictionary'])"
   ]
  },
  {
   "cell_type": "code",
   "execution_count": 50,
   "id": "998d86d4-5340-40f8-9a02-58c4297d60cb",
   "metadata": {},
   "outputs": [],
   "source": [
    "#feature engineer\n",
    "exam['transaction_age'] = exam['Tranc_Year'] - exam['lease_commence_date']\n",
    "exam.drop(columns = ['lease_commence_date'], inplace = True)"
   ]
  },
  {
   "cell_type": "code",
   "execution_count": 51,
   "id": "7cb32cdc-72f1-441d-b4fc-ae2b947f5da0",
   "metadata": {},
   "outputs": [],
   "source": [
    "#set up csv as a drop list with the inclusion of id.\n",
    "exam.drop(columns = mask_list, inplace = True)\n",
    "exam.drop(columns = drop_list, inplace = True)"
   ]
  },
  {
   "cell_type": "code",
   "execution_count": 52,
   "id": "c587482d-c067-49c4-9e02-53fade551901",
   "metadata": {},
   "outputs": [
    {
     "data": {
      "text/plain": [
       "id                            0\n",
       "flat_type                     0\n",
       "street_name                   0\n",
       "floor_area_sqm                0\n",
       "Tranc_Year                    0\n",
       "mid                           0\n",
       "commercial                    0\n",
       "market_hawker                 0\n",
       "multistorey_carpark           0\n",
       "precinct_pavilion             0\n",
       "planning_area                 0\n",
       "Mall_Nearest_Distance        84\n",
       "Mall_Within_500m              0\n",
       "Mall_Within_1km               0\n",
       "Mall_Within_2km               0\n",
       "Hawker_Nearest_Distance       0\n",
       "Hawker_Within_500m            0\n",
       "Hawker_Within_1km             0\n",
       "Hawker_Within_2km             0\n",
       "mrt_nearest_distance          0\n",
       "bus_interchange               0\n",
       "mrt_interchange               0\n",
       "bus_stop_nearest_distance     0\n",
       "pri_sch_nearest_distance      0\n",
       "pri_sch_name                  0\n",
       "pri_sch_affiliation           0\n",
       "sec_sch_name                  0\n",
       "cutoff_point                  0\n",
       "transaction_age               0\n",
       "dtype: int64"
      ]
     },
     "execution_count": 52,
     "metadata": {},
     "output_type": "execute_result"
    }
   ],
   "source": [
    "exam.isnull().sum()"
   ]
  },
  {
   "cell_type": "code",
   "execution_count": 53,
   "id": "02ba78b6-dad9-4b84-9404-1e80605034d7",
   "metadata": {},
   "outputs": [],
   "source": [
    "exam['Mall_Nearest_Distance'].replace(np.nan,0, inplace = True)"
   ]
  },
  {
   "cell_type": "code",
   "execution_count": 54,
   "id": "33c2ec27-6304-4632-ac1d-960da7f6c94a",
   "metadata": {},
   "outputs": [
    {
     "data": {
      "text/html": [
       "<div>\n",
       "<style scoped>\n",
       "    .dataframe tbody tr th:only-of-type {\n",
       "        vertical-align: middle;\n",
       "    }\n",
       "\n",
       "    .dataframe tbody tr th {\n",
       "        vertical-align: top;\n",
       "    }\n",
       "\n",
       "    .dataframe thead th {\n",
       "        text-align: right;\n",
       "    }\n",
       "</style>\n",
       "<table border=\"1\" class=\"dataframe\">\n",
       "  <thead>\n",
       "    <tr style=\"text-align: right;\">\n",
       "      <th></th>\n",
       "      <th>id</th>\n",
       "    </tr>\n",
       "  </thead>\n",
       "  <tbody>\n",
       "    <tr>\n",
       "      <th>0</th>\n",
       "      <td>114982</td>\n",
       "    </tr>\n",
       "    <tr>\n",
       "      <th>1</th>\n",
       "      <td>95653</td>\n",
       "    </tr>\n",
       "    <tr>\n",
       "      <th>2</th>\n",
       "      <td>40303</td>\n",
       "    </tr>\n",
       "    <tr>\n",
       "      <th>3</th>\n",
       "      <td>109506</td>\n",
       "    </tr>\n",
       "    <tr>\n",
       "      <th>4</th>\n",
       "      <td>100149</td>\n",
       "    </tr>\n",
       "    <tr>\n",
       "      <th>...</th>\n",
       "      <td>...</td>\n",
       "    </tr>\n",
       "    <tr>\n",
       "      <th>16732</th>\n",
       "      <td>23347</td>\n",
       "    </tr>\n",
       "    <tr>\n",
       "      <th>16733</th>\n",
       "      <td>54003</td>\n",
       "    </tr>\n",
       "    <tr>\n",
       "      <th>16734</th>\n",
       "      <td>128921</td>\n",
       "    </tr>\n",
       "    <tr>\n",
       "      <th>16735</th>\n",
       "      <td>69352</td>\n",
       "    </tr>\n",
       "    <tr>\n",
       "      <th>16736</th>\n",
       "      <td>146210</td>\n",
       "    </tr>\n",
       "  </tbody>\n",
       "</table>\n",
       "<p>16737 rows × 1 columns</p>\n",
       "</div>"
      ],
      "text/plain": [
       "           id\n",
       "0      114982\n",
       "1       95653\n",
       "2       40303\n",
       "3      109506\n",
       "4      100149\n",
       "...       ...\n",
       "16732   23347\n",
       "16733   54003\n",
       "16734  128921\n",
       "16735   69352\n",
       "16736  146210\n",
       "\n",
       "[16737 rows x 1 columns]"
      ]
     },
     "execution_count": 54,
     "metadata": {},
     "output_type": "execute_result"
    }
   ],
   "source": [
    "id_frame = exam[['id']]\n",
    "id_frame"
   ]
  },
  {
   "cell_type": "code",
   "execution_count": 55,
   "id": "440c64d6-9f6a-4f73-b0ac-7578ba73466b",
   "metadata": {},
   "outputs": [],
   "source": [
    "X_exam_num = pd.DataFrame(ss.transform(exam[num_feat]))\n",
    "X_exam_num.columns = exam[num_feat].columns"
   ]
  },
  {
   "cell_type": "code",
   "execution_count": 56,
   "id": "fcadeb9e-5eb5-43a4-9798-60feed45c678",
   "metadata": {},
   "outputs": [
    {
     "name": "stdout",
     "output_type": "stream",
     "text": [
      "<class 'pandas.core.frame.DataFrame'>\n",
      "RangeIndex: 16737 entries, 0 to 16736\n",
      "Data columns (total 13 columns):\n",
      " #   Column               Non-Null Count  Dtype \n",
      "---  ------               --------------  ----- \n",
      " 0   index                16737 non-null  int64 \n",
      " 1   flat_type            16737 non-null  object\n",
      " 2   street_name          16737 non-null  object\n",
      " 3   commercial           16737 non-null  int64 \n",
      " 4   market_hawker        16737 non-null  int64 \n",
      " 5   multistorey_carpark  16737 non-null  int64 \n",
      " 6   precinct_pavilion    16737 non-null  int64 \n",
      " 7   planning_area        16737 non-null  object\n",
      " 8   bus_interchange      16737 non-null  int64 \n",
      " 9   mrt_interchange      16737 non-null  int64 \n",
      " 10  pri_sch_name         16737 non-null  object\n",
      " 11  pri_sch_affiliation  16737 non-null  int64 \n",
      " 12  sec_sch_name         16737 non-null  object\n",
      "dtypes: int64(8), object(5)\n",
      "memory usage: 1.7+ MB\n"
     ]
    }
   ],
   "source": [
    "X_exam_cat_df = exam[cat_feat].reset_index()\n",
    "X_exam_cat_df.info()"
   ]
  },
  {
   "cell_type": "code",
   "execution_count": 57,
   "id": "6a56bcd0-2708-4bd6-b4e3-685f56e4fa5a",
   "metadata": {},
   "outputs": [
    {
     "data": {
      "text/html": [
       "<div>\n",
       "<style scoped>\n",
       "    .dataframe tbody tr th:only-of-type {\n",
       "        vertical-align: middle;\n",
       "    }\n",
       "\n",
       "    .dataframe tbody tr th {\n",
       "        vertical-align: top;\n",
       "    }\n",
       "\n",
       "    .dataframe thead th {\n",
       "        text-align: right;\n",
       "    }\n",
       "</style>\n",
       "<table border=\"1\" class=\"dataframe\">\n",
       "  <thead>\n",
       "    <tr style=\"text-align: right;\">\n",
       "      <th></th>\n",
       "      <th>flat_type_1 ROOM</th>\n",
       "      <th>flat_type_2 ROOM</th>\n",
       "      <th>flat_type_3 ROOM</th>\n",
       "      <th>flat_type_4 ROOM</th>\n",
       "      <th>flat_type_5 ROOM</th>\n",
       "      <th>flat_type_EXECUTIVE</th>\n",
       "      <th>flat_type_MULTI-GENERATION</th>\n",
       "      <th>street_name_ADMIRALTY DR</th>\n",
       "      <th>street_name_ADMIRALTY LINK</th>\n",
       "      <th>street_name_AH HOOD RD</th>\n",
       "      <th>...</th>\n",
       "      <th>sec_sch_name_Yio Chu Kang Secondary School</th>\n",
       "      <th>sec_sch_name_Yishun Secondary School</th>\n",
       "      <th>sec_sch_name_Yishun Town Secondary School</th>\n",
       "      <th>sec_sch_name_Yuan Ching Secondary School</th>\n",
       "      <th>sec_sch_name_Yuhua Secondary School</th>\n",
       "      <th>sec_sch_name_Yusof Ishak Secondary School</th>\n",
       "      <th>sec_sch_name_Yuying Secondary School</th>\n",
       "      <th>sec_sch_name_Zhenghua Secondary School</th>\n",
       "      <th>sec_sch_name_Zhonghua Secondary School</th>\n",
       "      <th>sec_sch_name_infrequent_sklearn</th>\n",
       "    </tr>\n",
       "  </thead>\n",
       "  <tbody>\n",
       "    <tr>\n",
       "      <th>16732</th>\n",
       "      <td>0.0</td>\n",
       "      <td>0.0</td>\n",
       "      <td>1.0</td>\n",
       "      <td>0.0</td>\n",
       "      <td>0.0</td>\n",
       "      <td>0.0</td>\n",
       "      <td>0.0</td>\n",
       "      <td>0.0</td>\n",
       "      <td>0.0</td>\n",
       "      <td>0.0</td>\n",
       "      <td>...</td>\n",
       "      <td>1.0</td>\n",
       "      <td>0.0</td>\n",
       "      <td>0.0</td>\n",
       "      <td>0.0</td>\n",
       "      <td>0.0</td>\n",
       "      <td>0.0</td>\n",
       "      <td>0.0</td>\n",
       "      <td>0.0</td>\n",
       "      <td>0.0</td>\n",
       "      <td>0.0</td>\n",
       "    </tr>\n",
       "    <tr>\n",
       "      <th>16733</th>\n",
       "      <td>0.0</td>\n",
       "      <td>0.0</td>\n",
       "      <td>0.0</td>\n",
       "      <td>1.0</td>\n",
       "      <td>0.0</td>\n",
       "      <td>0.0</td>\n",
       "      <td>0.0</td>\n",
       "      <td>0.0</td>\n",
       "      <td>0.0</td>\n",
       "      <td>0.0</td>\n",
       "      <td>...</td>\n",
       "      <td>0.0</td>\n",
       "      <td>0.0</td>\n",
       "      <td>0.0</td>\n",
       "      <td>0.0</td>\n",
       "      <td>0.0</td>\n",
       "      <td>0.0</td>\n",
       "      <td>0.0</td>\n",
       "      <td>0.0</td>\n",
       "      <td>0.0</td>\n",
       "      <td>0.0</td>\n",
       "    </tr>\n",
       "    <tr>\n",
       "      <th>16734</th>\n",
       "      <td>0.0</td>\n",
       "      <td>0.0</td>\n",
       "      <td>0.0</td>\n",
       "      <td>0.0</td>\n",
       "      <td>1.0</td>\n",
       "      <td>0.0</td>\n",
       "      <td>0.0</td>\n",
       "      <td>0.0</td>\n",
       "      <td>0.0</td>\n",
       "      <td>0.0</td>\n",
       "      <td>...</td>\n",
       "      <td>0.0</td>\n",
       "      <td>0.0</td>\n",
       "      <td>0.0</td>\n",
       "      <td>0.0</td>\n",
       "      <td>0.0</td>\n",
       "      <td>0.0</td>\n",
       "      <td>0.0</td>\n",
       "      <td>0.0</td>\n",
       "      <td>0.0</td>\n",
       "      <td>0.0</td>\n",
       "    </tr>\n",
       "    <tr>\n",
       "      <th>16735</th>\n",
       "      <td>0.0</td>\n",
       "      <td>0.0</td>\n",
       "      <td>0.0</td>\n",
       "      <td>1.0</td>\n",
       "      <td>0.0</td>\n",
       "      <td>0.0</td>\n",
       "      <td>0.0</td>\n",
       "      <td>0.0</td>\n",
       "      <td>0.0</td>\n",
       "      <td>0.0</td>\n",
       "      <td>...</td>\n",
       "      <td>0.0</td>\n",
       "      <td>0.0</td>\n",
       "      <td>0.0</td>\n",
       "      <td>0.0</td>\n",
       "      <td>0.0</td>\n",
       "      <td>0.0</td>\n",
       "      <td>0.0</td>\n",
       "      <td>0.0</td>\n",
       "      <td>0.0</td>\n",
       "      <td>0.0</td>\n",
       "    </tr>\n",
       "    <tr>\n",
       "      <th>16736</th>\n",
       "      <td>0.0</td>\n",
       "      <td>0.0</td>\n",
       "      <td>0.0</td>\n",
       "      <td>1.0</td>\n",
       "      <td>0.0</td>\n",
       "      <td>0.0</td>\n",
       "      <td>0.0</td>\n",
       "      <td>0.0</td>\n",
       "      <td>0.0</td>\n",
       "      <td>0.0</td>\n",
       "      <td>...</td>\n",
       "      <td>0.0</td>\n",
       "      <td>0.0</td>\n",
       "      <td>0.0</td>\n",
       "      <td>0.0</td>\n",
       "      <td>0.0</td>\n",
       "      <td>0.0</td>\n",
       "      <td>0.0</td>\n",
       "      <td>0.0</td>\n",
       "      <td>0.0</td>\n",
       "      <td>0.0</td>\n",
       "    </tr>\n",
       "  </tbody>\n",
       "</table>\n",
       "<p>5 rows × 879 columns</p>\n",
       "</div>"
      ],
      "text/plain": [
       "       flat_type_1 ROOM  flat_type_2 ROOM  flat_type_3 ROOM  flat_type_4 ROOM  \\\n",
       "16732               0.0               0.0               1.0               0.0   \n",
       "16733               0.0               0.0               0.0               1.0   \n",
       "16734               0.0               0.0               0.0               0.0   \n",
       "16735               0.0               0.0               0.0               1.0   \n",
       "16736               0.0               0.0               0.0               1.0   \n",
       "\n",
       "       flat_type_5 ROOM  flat_type_EXECUTIVE  flat_type_MULTI-GENERATION  \\\n",
       "16732               0.0                  0.0                         0.0   \n",
       "16733               0.0                  0.0                         0.0   \n",
       "16734               1.0                  0.0                         0.0   \n",
       "16735               0.0                  0.0                         0.0   \n",
       "16736               0.0                  0.0                         0.0   \n",
       "\n",
       "       street_name_ADMIRALTY DR  street_name_ADMIRALTY LINK  \\\n",
       "16732                       0.0                         0.0   \n",
       "16733                       0.0                         0.0   \n",
       "16734                       0.0                         0.0   \n",
       "16735                       0.0                         0.0   \n",
       "16736                       0.0                         0.0   \n",
       "\n",
       "       street_name_AH HOOD RD  ...  \\\n",
       "16732                     0.0  ...   \n",
       "16733                     0.0  ...   \n",
       "16734                     0.0  ...   \n",
       "16735                     0.0  ...   \n",
       "16736                     0.0  ...   \n",
       "\n",
       "       sec_sch_name_Yio Chu Kang Secondary School  \\\n",
       "16732                                         1.0   \n",
       "16733                                         0.0   \n",
       "16734                                         0.0   \n",
       "16735                                         0.0   \n",
       "16736                                         0.0   \n",
       "\n",
       "       sec_sch_name_Yishun Secondary School  \\\n",
       "16732                                   0.0   \n",
       "16733                                   0.0   \n",
       "16734                                   0.0   \n",
       "16735                                   0.0   \n",
       "16736                                   0.0   \n",
       "\n",
       "       sec_sch_name_Yishun Town Secondary School  \\\n",
       "16732                                        0.0   \n",
       "16733                                        0.0   \n",
       "16734                                        0.0   \n",
       "16735                                        0.0   \n",
       "16736                                        0.0   \n",
       "\n",
       "       sec_sch_name_Yuan Ching Secondary School  \\\n",
       "16732                                       0.0   \n",
       "16733                                       0.0   \n",
       "16734                                       0.0   \n",
       "16735                                       0.0   \n",
       "16736                                       0.0   \n",
       "\n",
       "       sec_sch_name_Yuhua Secondary School  \\\n",
       "16732                                  0.0   \n",
       "16733                                  0.0   \n",
       "16734                                  0.0   \n",
       "16735                                  0.0   \n",
       "16736                                  0.0   \n",
       "\n",
       "       sec_sch_name_Yusof Ishak Secondary School  \\\n",
       "16732                                        0.0   \n",
       "16733                                        0.0   \n",
       "16734                                        0.0   \n",
       "16735                                        0.0   \n",
       "16736                                        0.0   \n",
       "\n",
       "       sec_sch_name_Yuying Secondary School  \\\n",
       "16732                                   0.0   \n",
       "16733                                   0.0   \n",
       "16734                                   0.0   \n",
       "16735                                   0.0   \n",
       "16736                                   0.0   \n",
       "\n",
       "       sec_sch_name_Zhenghua Secondary School  \\\n",
       "16732                                     0.0   \n",
       "16733                                     0.0   \n",
       "16734                                     0.0   \n",
       "16735                                     0.0   \n",
       "16736                                     0.0   \n",
       "\n",
       "       sec_sch_name_Zhonghua Secondary School  sec_sch_name_infrequent_sklearn  \n",
       "16732                                     0.0                              0.0  \n",
       "16733                                     0.0                              0.0  \n",
       "16734                                     0.0                              0.0  \n",
       "16735                                     0.0                              0.0  \n",
       "16736                                     0.0                              0.0  \n",
       "\n",
       "[5 rows x 879 columns]"
      ]
     },
     "execution_count": 57,
     "metadata": {},
     "output_type": "execute_result"
    }
   ],
   "source": [
    "exam_OHE_cat_df = pd.DataFrame(OHE.transform(X_exam_cat_df[cat_list]), columns = OHE.get_feature_names_out())\n",
    "exam_OHE_cat_df.tail()"
   ]
  },
  {
   "cell_type": "code",
   "execution_count": 58,
   "id": "2423b315-7703-4689-8fbb-0aa7f866daa3",
   "metadata": {},
   "outputs": [],
   "source": [
    "X_exam_cat_df = pd.concat([X_exam_cat_df, exam_OHE_cat_df], axis = 1)\n",
    "X_exam_cat_df.drop(columns = cat_list, inplace = True)"
   ]
  },
  {
   "cell_type": "code",
   "execution_count": 59,
   "id": "b3eab84b-ad3c-4e17-9be5-22537fff06be",
   "metadata": {},
   "outputs": [],
   "source": [
    "#concat test set\n",
    "Z_exam = pd.concat([X_exam_num, X_exam_cat_df], axis = 1)\n",
    "Z_exam.set_index('index', inplace = True)"
   ]
  },
  {
   "cell_type": "code",
   "execution_count": 60,
   "id": "7dbdefd0-2b19-453c-a1d1-3a97b7b9131d",
   "metadata": {},
   "outputs": [
    {
     "data": {
      "text/plain": [
       "Mall_Within_500m                             0\n",
       "mrt_nearest_distance                         0\n",
       "transaction_age                              0\n",
       "floor_area_sqm                               0\n",
       "bus_stop_nearest_distance                    0\n",
       "                                            ..\n",
       "sec_sch_name_Yusof Ishak Secondary School    0\n",
       "sec_sch_name_Yuying Secondary School         0\n",
       "sec_sch_name_Zhenghua Secondary School       0\n",
       "sec_sch_name_Zhonghua Secondary School       0\n",
       "sec_sch_name_infrequent_sklearn              0\n",
       "Length: 902, dtype: int64"
      ]
     },
     "execution_count": 60,
     "metadata": {},
     "output_type": "execute_result"
    }
   ],
   "source": [
    "Z_exam.isna().sum()"
   ]
  },
  {
   "cell_type": "code",
   "execution_count": 61,
   "id": "020f6d63-3aa0-4cae-9b14-5d74c9d5c1f0",
   "metadata": {},
   "outputs": [],
   "source": [
    "y_exam_preds = ridge.predict(Z_exam)"
   ]
  },
  {
   "cell_type": "code",
   "execution_count": 62,
   "id": "5ec8a362-634b-48c6-9c50-0af26a0f050d",
   "metadata": {},
   "outputs": [],
   "source": [
    "y_exam_preds_df = pd.DataFrame(y_exam_preds, columns = ['resale_price'])"
   ]
  },
  {
   "cell_type": "code",
   "execution_count": 63,
   "id": "b88584f9-ce5c-4a42-913e-7fa3a1880089",
   "metadata": {},
   "outputs": [],
   "source": [
    "submission_df = pd.concat([id_frame, y_exam_preds_df], axis = 1)"
   ]
  },
  {
   "cell_type": "code",
   "execution_count": 64,
   "id": "840c325f-c941-44a4-a88d-f06cd368ceb6",
   "metadata": {},
   "outputs": [
    {
     "data": {
      "text/html": [
       "<div>\n",
       "<style scoped>\n",
       "    .dataframe tbody tr th:only-of-type {\n",
       "        vertical-align: middle;\n",
       "    }\n",
       "\n",
       "    .dataframe tbody tr th {\n",
       "        vertical-align: top;\n",
       "    }\n",
       "\n",
       "    .dataframe thead th {\n",
       "        text-align: right;\n",
       "    }\n",
       "</style>\n",
       "<table border=\"1\" class=\"dataframe\">\n",
       "  <thead>\n",
       "    <tr style=\"text-align: right;\">\n",
       "      <th></th>\n",
       "      <th>id</th>\n",
       "      <th>resale_price</th>\n",
       "    </tr>\n",
       "  </thead>\n",
       "  <tbody>\n",
       "    <tr>\n",
       "      <th>0</th>\n",
       "      <td>114982</td>\n",
       "      <td>334742.948942</td>\n",
       "    </tr>\n",
       "    <tr>\n",
       "      <th>1</th>\n",
       "      <td>95653</td>\n",
       "      <td>485274.553227</td>\n",
       "    </tr>\n",
       "    <tr>\n",
       "      <th>2</th>\n",
       "      <td>40303</td>\n",
       "      <td>342931.255004</td>\n",
       "    </tr>\n",
       "    <tr>\n",
       "      <th>3</th>\n",
       "      <td>109506</td>\n",
       "      <td>317057.277038</td>\n",
       "    </tr>\n",
       "    <tr>\n",
       "      <th>4</th>\n",
       "      <td>100149</td>\n",
       "      <td>436652.165198</td>\n",
       "    </tr>\n",
       "    <tr>\n",
       "      <th>...</th>\n",
       "      <td>...</td>\n",
       "      <td>...</td>\n",
       "    </tr>\n",
       "    <tr>\n",
       "      <th>16732</th>\n",
       "      <td>23347</td>\n",
       "      <td>352470.636968</td>\n",
       "    </tr>\n",
       "    <tr>\n",
       "      <th>16733</th>\n",
       "      <td>54003</td>\n",
       "      <td>501597.297368</td>\n",
       "    </tr>\n",
       "    <tr>\n",
       "      <th>16734</th>\n",
       "      <td>128921</td>\n",
       "      <td>383210.588763</td>\n",
       "    </tr>\n",
       "    <tr>\n",
       "      <th>16735</th>\n",
       "      <td>69352</td>\n",
       "      <td>512622.009746</td>\n",
       "    </tr>\n",
       "    <tr>\n",
       "      <th>16736</th>\n",
       "      <td>146210</td>\n",
       "      <td>389392.956857</td>\n",
       "    </tr>\n",
       "  </tbody>\n",
       "</table>\n",
       "<p>16737 rows × 2 columns</p>\n",
       "</div>"
      ],
      "text/plain": [
       "           id   resale_price\n",
       "0      114982  334742.948942\n",
       "1       95653  485274.553227\n",
       "2       40303  342931.255004\n",
       "3      109506  317057.277038\n",
       "4      100149  436652.165198\n",
       "...       ...            ...\n",
       "16732   23347  352470.636968\n",
       "16733   54003  501597.297368\n",
       "16734  128921  383210.588763\n",
       "16735   69352  512622.009746\n",
       "16736  146210  389392.956857\n",
       "\n",
       "[16737 rows x 2 columns]"
      ]
     },
     "execution_count": 64,
     "metadata": {},
     "output_type": "execute_result"
    }
   ],
   "source": [
    "submission_df"
   ]
  },
  {
   "cell_type": "code",
   "execution_count": 65,
   "id": "2d87482a-b476-4a1d-83ee-a25074582f0d",
   "metadata": {},
   "outputs": [],
   "source": [
    "submission_df.rename(columns={'id': 'Id','resale_price': 'Predicted'}, inplace = True)"
   ]
  },
  {
   "cell_type": "code",
   "execution_count": 66,
   "id": "db2c75de-6013-4888-b152-37c4adbd9a3f",
   "metadata": {},
   "outputs": [],
   "source": [
    "#data export to already created output folder\n",
    "submission_df.to_csv('../../data/output/submission_df.csv', index = False)"
   ]
  },
  {
   "cell_type": "code",
   "execution_count": null,
   "id": "b0d0c5e4-637b-4c02-8086-3aae5719b366",
   "metadata": {},
   "outputs": [],
   "source": []
  }
 ],
 "metadata": {
  "kernelspec": {
   "display_name": "Python 3 (ipykernel)",
   "language": "python",
   "name": "python3"
  },
  "language_info": {
   "codemirror_mode": {
    "name": "ipython",
    "version": 3
   },
   "file_extension": ".py",
   "mimetype": "text/x-python",
   "name": "python",
   "nbconvert_exporter": "python",
   "pygments_lexer": "ipython3",
   "version": "3.8.17"
  }
 },
 "nbformat": 4,
 "nbformat_minor": 5
}
