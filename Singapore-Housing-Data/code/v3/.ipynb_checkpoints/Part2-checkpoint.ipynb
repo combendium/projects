{
 "cells": [
  {
   "cell_type": "markdown",
   "id": "a98d375f-3ca7-41e9-bab4-a05f74db5272",
   "metadata": {},
   "source": [
    "<img src=\"http://imgur.com/1ZcRyrc.png\" style=\"float: left; margin: 20px; height: 55px\"> \n",
    "\n",
    "# Project 1: Project 2 - Singapore Housing Data and Kaggle Challenge"
   ]
  },
  {
   "cell_type": "markdown",
   "id": "4a8ff5bc-6e06-4761-837b-e1ee170af9b4",
   "metadata": {},
   "source": [
    "--- \n",
    "# Part 2 Modeling and refining\n",
    "---"
   ]
  },
  {
   "cell_type": "markdown",
   "id": "c7360e1a-9802-4df8-99e7-7fcec197966d",
   "metadata": {},
   "source": [
    "# Contents:\n",
    "- [Problem Statement](#Problem-Statement)\n",
    "- [All imports](#All-imports)\n",
    "- [Preprocessing](#Preprocessing)\n",
    "- [Data Dictionary](#Data-Dictionary)\n",
    "- [Train-Test Split](#Train-Test-Split)\n",
    "- [Linear Regression](#Linear-Regression)\n",
    "- [Ridge Regression](#Ridge-Regression)\n",
    "- [Lasso Regression](#Lasso-Regression)\n",
    "- [Predictions](#Predictions)"
   ]
  },
  {
   "cell_type": "markdown",
   "id": "907483bc-d727-4bdd-b78c-379290cf900a",
   "metadata": {},
   "source": [
    "## Problem Statement"
   ]
  },
  {
   "cell_type": "markdown",
   "id": "d5bc0d96-43e3-4634-a4d1-6997289a4c4b",
   "metadata": {},
   "source": [
    "Housing pricing affects the decision making process of buyers in their assessment of the unit. This project attempts to build a linear regression model, using the data contain in the dataset folder. The goal is to have the model accurately predict the sales price of the houses in the test set, which will be evaluated based on common evaluation metrics such as R2 and RMSE.\n",
    "This will give those who are impacted by housing prices, e.g. owners, buyers and agents additional data to inform their own decision making process. "
   ]
  },
  {
   "cell_type": "markdown",
   "id": "b7757f48-5a08-4d78-ba06-b94a4f9233a7",
   "metadata": {},
   "source": [
    "## All imports\n",
    "Libraries and data imports"
   ]
  },
  {
   "cell_type": "code",
   "execution_count": 1,
   "id": "83dfe51f-5db8-4607-a154-f91bce39c437",
   "metadata": {},
   "outputs": [],
   "source": [
    "# Imports:\n",
    "import numpy as np\n",
    "import pandas as pd\n",
    "import os\n",
    "import matplotlib.pyplot as plt\n",
    "import seaborn as sns\n",
    "\n",
    "from sklearn.linear_model import LinearRegression, LassoCV, Lasso, RidgeCV, Ridge\n",
    "from sklearn.preprocessing import StandardScaler, OneHotEncoder, PolynomialFeatures, PowerTransformer\n",
    "from sklearn.model_selection import train_test_split, cross_val_score, cross_val_predict\n",
    "from sklearn.metrics import r2_score, mean_squared_error\n",
    "import statsmodels.api as sm"
   ]
  },
  {
   "cell_type": "code",
   "execution_count": 2,
   "id": "9d619f91-1eb4-4315-ba73-64321e3cddc0",
   "metadata": {},
   "outputs": [],
   "source": [
    "df = pd.read_csv('../../data/output/cleaner_train.csv')"
   ]
  },
  {
   "cell_type": "code",
   "execution_count": 43,
   "id": "cf8817c2-105d-4d77-a61f-8627328bc2e6",
   "metadata": {},
   "outputs": [
    {
     "name": "stdout",
     "output_type": "stream",
     "text": [
      "<class 'pandas.core.frame.DataFrame'>\n",
      "RangeIndex: 149772 entries, 0 to 149771\n",
      "Data columns (total 32 columns):\n",
      " #   Column                     Non-Null Count   Dtype  \n",
      "---  ------                     --------------   -----  \n",
      " 0   flat_type                  149772 non-null  object \n",
      " 1   street_name                149772 non-null  object \n",
      " 2   floor_area_sqm             149772 non-null  float64\n",
      " 3   flat_model                 149772 non-null  object \n",
      " 4   resale_price               149772 non-null  float64\n",
      " 5   Tranc_Year                 149772 non-null  int64  \n",
      " 6   Tranc_Month                149772 non-null  int64  \n",
      " 7   mid                        149772 non-null  int64  \n",
      " 8   max_floor_lvl              149772 non-null  int64  \n",
      " 9   commercial                 149772 non-null  int64  \n",
      " 10  market_hawker              149772 non-null  int64  \n",
      " 11  multistorey_carpark        149772 non-null  int64  \n",
      " 12  precinct_pavilion          149772 non-null  int64  \n",
      " 13  planning_area              149772 non-null  object \n",
      " 14  Mall_Nearest_Distance      149772 non-null  float64\n",
      " 15  Mall_Within_500m           149772 non-null  float64\n",
      " 16  Mall_Within_1km            149772 non-null  float64\n",
      " 17  Mall_Within_2km            149772 non-null  float64\n",
      " 18  Hawker_Nearest_Distance    149772 non-null  float64\n",
      " 19  Hawker_Within_500m         149772 non-null  float64\n",
      " 20  Hawker_Within_1km          149772 non-null  float64\n",
      " 21  Hawker_Within_2km          149772 non-null  float64\n",
      " 22  mrt_nearest_distance       149772 non-null  float64\n",
      " 23  bus_interchange            149772 non-null  int64  \n",
      " 24  mrt_interchange            149772 non-null  int64  \n",
      " 25  bus_stop_nearest_distance  149772 non-null  float64\n",
      " 26  pri_sch_nearest_distance   149772 non-null  float64\n",
      " 27  pri_sch_name               149772 non-null  object \n",
      " 28  pri_sch_affiliation        149772 non-null  int64  \n",
      " 29  sec_sch_name               149772 non-null  object \n",
      " 30  cutoff_point               149772 non-null  int64  \n",
      " 31  transaction_age            149772 non-null  int64  \n",
      "dtypes: float64(13), int64(13), object(6)\n",
      "memory usage: 36.6+ MB\n"
     ]
    }
   ],
   "source": [
    "df.info()"
   ]
  },
  {
   "cell_type": "markdown",
   "id": "daef33c7-9f02-4eed-a89c-b4293f68fc80",
   "metadata": {},
   "source": [
    "## Preprocessing\n",
    "As mentioned in Part1 (EDA), some features would have to engineered, e.g. remaining lease at point of sale, storey level and the max floor level could be combined to hopefully increase the fit of the feature"
   ]
  },
  {
   "cell_type": "markdown",
   "id": "e5766865-b4e8-4928-80be-579a81bd19f9",
   "metadata": {},
   "source": [
    "### Initial Feature engineering"
   ]
  },
  {
   "cell_type": "code",
   "execution_count": 4,
   "id": "28642960-0e5b-4614-af24-85aba666ea47",
   "metadata": {},
   "outputs": [],
   "source": [
    "df['transaction_age'] = df['Tranc_Year'] - df['lease_commence_date']\n",
    "df.drop(columns = ['lease_commence_date'], inplace = True)"
   ]
  },
  {
   "cell_type": "code",
   "execution_count": 5,
   "id": "a31c2cc0-67f2-45d5-898e-cf6fedbbaec8",
   "metadata": {},
   "outputs": [
    {
     "name": "stdout",
     "output_type": "stream",
     "text": [
      "<class 'pandas.core.frame.DataFrame'>\n",
      "RangeIndex: 149772 entries, 0 to 149771\n",
      "Data columns (total 45 columns):\n",
      " #   Column                     Non-Null Count   Dtype  \n",
      "---  ------                     --------------   -----  \n",
      " 0   flat_type                  149772 non-null  object \n",
      " 1   street_name                149772 non-null  object \n",
      " 2   floor_area_sqm             149772 non-null  float64\n",
      " 3   flat_model                 149772 non-null  object \n",
      " 4   resale_price               149772 non-null  float64\n",
      " 5   Tranc_Year                 149772 non-null  int64  \n",
      " 6   Tranc_Month                149772 non-null  int64  \n",
      " 7   mid                        149772 non-null  int64  \n",
      " 8   max_floor_lvl              149772 non-null  int64  \n",
      " 9   commercial                 149772 non-null  int64  \n",
      " 10  market_hawker              149772 non-null  int64  \n",
      " 11  multistorey_carpark        149772 non-null  int64  \n",
      " 12  precinct_pavilion          149772 non-null  int64  \n",
      " 13  total_dwelling_units       149772 non-null  int64  \n",
      " 14  1room_sold                 149772 non-null  int64  \n",
      " 15  2room_sold                 149772 non-null  int64  \n",
      " 16  3room_sold                 149772 non-null  int64  \n",
      " 17  4room_sold                 149772 non-null  int64  \n",
      " 18  5room_sold                 149772 non-null  int64  \n",
      " 19  exec_sold                  149772 non-null  int64  \n",
      " 20  multigen_sold              149772 non-null  int64  \n",
      " 21  studio_apartment_sold      149772 non-null  int64  \n",
      " 22  1room_rental               149772 non-null  int64  \n",
      " 23  2room_rental               149772 non-null  int64  \n",
      " 24  3room_rental               149772 non-null  int64  \n",
      " 25  other_room_rental          149772 non-null  int64  \n",
      " 26  planning_area              149772 non-null  object \n",
      " 27  Mall_Nearest_Distance      149772 non-null  float64\n",
      " 28  Mall_Within_500m           149772 non-null  float64\n",
      " 29  Mall_Within_1km            149772 non-null  float64\n",
      " 30  Mall_Within_2km            149772 non-null  float64\n",
      " 31  Hawker_Nearest_Distance    149772 non-null  float64\n",
      " 32  Hawker_Within_500m         149772 non-null  float64\n",
      " 33  Hawker_Within_1km          149772 non-null  float64\n",
      " 34  Hawker_Within_2km          149772 non-null  float64\n",
      " 35  mrt_nearest_distance       149772 non-null  float64\n",
      " 36  bus_interchange            149772 non-null  int64  \n",
      " 37  mrt_interchange            149772 non-null  int64  \n",
      " 38  bus_stop_nearest_distance  149772 non-null  float64\n",
      " 39  pri_sch_nearest_distance   149772 non-null  float64\n",
      " 40  pri_sch_name               149772 non-null  object \n",
      " 41  pri_sch_affiliation        149772 non-null  int64  \n",
      " 42  sec_sch_name               149772 non-null  object \n",
      " 43  cutoff_point               149772 non-null  int64  \n",
      " 44  transaction_age            149772 non-null  int64  \n",
      "dtypes: float64(13), int64(26), object(6)\n",
      "memory usage: 51.4+ MB\n"
     ]
    }
   ],
   "source": [
    "df.info()"
   ]
  },
  {
   "cell_type": "code",
   "execution_count": 6,
   "id": "01f30bb3-7f51-49d0-a16f-f0c2533a4daf",
   "metadata": {},
   "outputs": [],
   "source": [
    "#from OLS of previous iteration \n",
    "drop_list = ['flat_model',\n",
    "             '2room_sold',\n",
    "             'multigen_sold',\n",
    "             '5room_sold',\n",
    "             'total_dwelling_units',\n",
    "             '4room_sold',\n",
    "             '1room_rental',\n",
    "             '3room_sold',\n",
    "             'studio_apartment_sold',\n",
    "             '3room_rental',\n",
    "             '1room_sold',\n",
    "             'exec_sold',\n",
    "             '2room_rental',\n",
    "             'other_room_rental']"
   ]
  },
  {
   "cell_type": "code",
   "execution_count": 7,
   "id": "a84ef62f-715c-4683-ad96-1d4629f3338b",
   "metadata": {},
   "outputs": [
    {
     "name": "stdout",
     "output_type": "stream",
     "text": [
      "(149772, 32)\n",
      "<class 'pandas.core.frame.DataFrame'>\n",
      "RangeIndex: 149772 entries, 0 to 149771\n",
      "Data columns (total 32 columns):\n",
      " #   Column                     Non-Null Count   Dtype  \n",
      "---  ------                     --------------   -----  \n",
      " 0   flat_type                  149772 non-null  object \n",
      " 1   street_name                149772 non-null  object \n",
      " 2   floor_area_sqm             149772 non-null  float64\n",
      " 3   flat_model                 149772 non-null  object \n",
      " 4   resale_price               149772 non-null  float64\n",
      " 5   Tranc_Year                 149772 non-null  int64  \n",
      " 6   Tranc_Month                149772 non-null  int64  \n",
      " 7   mid                        149772 non-null  int64  \n",
      " 8   max_floor_lvl              149772 non-null  int64  \n",
      " 9   commercial                 149772 non-null  int64  \n",
      " 10  market_hawker              149772 non-null  int64  \n",
      " 11  multistorey_carpark        149772 non-null  int64  \n",
      " 12  precinct_pavilion          149772 non-null  int64  \n",
      " 13  planning_area              149772 non-null  object \n",
      " 14  Mall_Nearest_Distance      149772 non-null  float64\n",
      " 15  Mall_Within_500m           149772 non-null  float64\n",
      " 16  Mall_Within_1km            149772 non-null  float64\n",
      " 17  Mall_Within_2km            149772 non-null  float64\n",
      " 18  Hawker_Nearest_Distance    149772 non-null  float64\n",
      " 19  Hawker_Within_500m         149772 non-null  float64\n",
      " 20  Hawker_Within_1km          149772 non-null  float64\n",
      " 21  Hawker_Within_2km          149772 non-null  float64\n",
      " 22  mrt_nearest_distance       149772 non-null  float64\n",
      " 23  bus_interchange            149772 non-null  int64  \n",
      " 24  mrt_interchange            149772 non-null  int64  \n",
      " 25  bus_stop_nearest_distance  149772 non-null  float64\n",
      " 26  pri_sch_nearest_distance   149772 non-null  float64\n",
      " 27  pri_sch_name               149772 non-null  object \n",
      " 28  pri_sch_affiliation        149772 non-null  int64  \n",
      " 29  sec_sch_name               149772 non-null  object \n",
      " 30  cutoff_point               149772 non-null  int64  \n",
      " 31  transaction_age            149772 non-null  int64  \n",
      "dtypes: float64(13), int64(13), object(6)\n",
      "memory usage: 36.6+ MB\n"
     ]
    }
   ],
   "source": [
    "df.drop(columns = drop_list, inplace = True)\n",
    "print(df.shape)\n",
    "df.info()"
   ]
  },
  {
   "cell_type": "markdown",
   "id": "c2c13875-fa7c-45fd-b684-606889f3196a",
   "metadata": {},
   "source": [
    "|        Feature Name       |                        Feature Description per data source                        |\n",
    "|:-------------------------:|:---------------------------------------------------------------------------------:|\n",
    "| resale_price              |  the property's sale price in Singapore dollars. This is the target variable that |\n",
    "| flat_type                 |  type of the resale flat unit, e.g.   3 ROOM                                      |\n",
    "| street_name               |  street name where the resale flat   resides, e.g. TAMPINES ST 42                 |\n",
    "| floor_area_sqm            |  floor area of the resale flat unit   in square metres                            |\n",
    "| flat_model                |  HDB model of the resale flat, e.g.   Multi Generation                            |\n",
    "| lease_commence_date       |  commencement year of the flat   unit's 99-year lease                             |\n",
    "| Tranc_Year                |  year of resale transaction                                                       |\n",
    "| Tranc_Month               |  month of resale transaction                                                      |\n",
    "| mid                       |  middle value of storey_range                                                     |\n",
    "| max_floor_lvl             |  highest floor of the resale flat                                                 |\n",
    "| commercial                |  boolean value if resale flat has   commercial units in the same block            |\n",
    "| market_hawker             |  boolean value if resale flat has a   market or hawker centre in the same block   |\n",
    "| multistorey_carpark       |  boolean value if resale flat has a   multistorey carpark in the same block       |\n",
    "| precinct_pavilion         |  boolean value if resale flat has a   pavilion in the same block                  |\n",
    "| planning_area             |  Government planning area that the   flat is located                              |\n",
    "| Mall_Nearest_Distance     |  distance (in metres) to the   nearest mall                                       |\n",
    "| Mall_Within_500m          |  number of malls within 500 metres                                                |\n",
    "| Mall_Within_1km           |  number of malls within 1 kilometre                                               |\n",
    "| Mall_Within_2km           |  number of malls within 2   kilometres                                            |\n",
    "| Hawker_Nearest_Distance   |  distance (in metres) to the   nearest hawker centre                              |\n",
    "| Hawker_Within_500m        |  number of hawker centres within   500 metres                                     |\n",
    "| Hawker_Within_1km         |  number of hawker centres within 1   kilometre                                    |\n",
    "| Hawker_Within_2km         |  number of hawker centres within 2   kilometres                                   |\n",
    "| mrt_nearest_distance      |  distance (in metres) to the   nearest MRT station                                |\n",
    "| bus_interchange           |  boolean value if the nearest MRT   station is also a bus interchange             |\n",
    "| mrt_interchange           |  boolean value if the nearest MRT   station is a train interchange station        |\n",
    "| bus_stop_nearest_distance |  distance (in metres) to the   nearest bus stop                                   |\n",
    "| pri_sch_nearest_distance  |  distance (in metres) to the   nearest primary school                             |\n",
    "| pri_sch_name              |  name of the nearest primary school                                               |\n",
    "| pri_sch_affiliation       |  boolean value if the nearest   primary school has a secondary school affiliation |\n",
    "| sec_sch_name              |  name of the nearest secondary   school                                           |\n",
    "| cutoff_point              |  PSLE cutoff point of the nearest   secondary school                              |"
   ]
  },
  {
   "cell_type": "markdown",
   "id": "02d87454-69b0-434b-85a7-291e17bc594a",
   "metadata": {},
   "source": [
    "### Train-Test Split\n",
    "The dataframe is split into a train set and a hold out 'test' set. <br>\n",
    "As was done in the EDA, the features are split into numerical and caategorical for processing before combining back later on."
   ]
  },
  {
   "cell_type": "code",
   "execution_count": 8,
   "id": "1c33270a-7f75-4c07-a8ca-8567be3d0279",
   "metadata": {},
   "outputs": [],
   "source": [
    "features = df.columns.to_list()\n",
    "features.remove('resale_price')"
   ]
  },
  {
   "cell_type": "code",
   "execution_count": 9,
   "id": "623988fc-d7da-4140-9d36-4c640273cf82",
   "metadata": {},
   "outputs": [],
   "source": [
    "#Create features matrix (X) and target vector (y)\n",
    "y = df['resale_price']\n",
    "X = df[features]"
   ]
  },
  {
   "cell_type": "code",
   "execution_count": 10,
   "id": "f801a2c5-c8ed-4723-8d2d-14498fddcae5",
   "metadata": {},
   "outputs": [],
   "source": [
    "#train-test split\n",
    "X_train, X_test, y_train, y_test = train_test_split(X, y, random_state=123)"
   ]
  },
  {
   "cell_type": "code",
   "execution_count": 11,
   "id": "81576fe1-bce7-40be-b66d-2a0c858c2087",
   "metadata": {},
   "outputs": [],
   "source": [
    "cat_feat = ['flat_type', 'flat_model', 'street_name', 'commercial', 'market_hawker',   \n",
    "            'multistorey_carpark', 'precinct_pavilion', 'planning_area', 'bus_interchange', \n",
    "            'mrt_interchange', 'pri_sch_name', 'pri_sch_affiliation', 'sec_sch_name'\n",
    "           ]\n",
    "num_feat = list(set(features) - set(cat_feat))"
   ]
  },
  {
   "cell_type": "markdown",
   "id": "61f18665-30ae-405f-8ec9-90235c52511b",
   "metadata": {},
   "source": [
    "### Numerical features\n",
    "Standard scalar will be applied scale the individual features for modelling since there is a wide range of values within."
   ]
  },
  {
   "cell_type": "code",
   "execution_count": 12,
   "id": "c6591ff3-133a-49ab-a868-137a5efcb62a",
   "metadata": {},
   "outputs": [],
   "source": [
    "# use sklearn StandardScaler for train set\n",
    "ss = StandardScaler()\n",
    "X_train_num_scaled = pd.DataFrame(ss.fit_transform(X_train[num_feat]))\n",
    "X_test_num_scaled = pd.DataFrame(ss.transform(X_test[num_feat]))\n",
    "X_train_num_scaled.columns = X_train[num_feat].columns\n",
    "X_test_num_scaled.columns = X_test[num_feat].columns"
   ]
  },
  {
   "cell_type": "code",
   "execution_count": 13,
   "id": "d11ce23d-2863-4abd-b5dd-ba0bc1dbeafe",
   "metadata": {},
   "outputs": [
    {
     "data": {
      "text/html": [
       "<div>\n",
       "<style scoped>\n",
       "    .dataframe tbody tr th:only-of-type {\n",
       "        vertical-align: middle;\n",
       "    }\n",
       "\n",
       "    .dataframe tbody tr th {\n",
       "        vertical-align: top;\n",
       "    }\n",
       "\n",
       "    .dataframe thead th {\n",
       "        text-align: right;\n",
       "    }\n",
       "</style>\n",
       "<table border=\"1\" class=\"dataframe\">\n",
       "  <thead>\n",
       "    <tr style=\"text-align: right;\">\n",
       "      <th></th>\n",
       "      <th>Mall_Within_1km</th>\n",
       "      <th>Mall_Nearest_Distance</th>\n",
       "      <th>Mall_Within_2km</th>\n",
       "      <th>Hawker_Within_500m</th>\n",
       "      <th>Tranc_Year</th>\n",
       "      <th>bus_stop_nearest_distance</th>\n",
       "      <th>mrt_nearest_distance</th>\n",
       "      <th>transaction_age</th>\n",
       "      <th>max_floor_lvl</th>\n",
       "      <th>Mall_Within_500m</th>\n",
       "      <th>Hawker_Nearest_Distance</th>\n",
       "      <th>pri_sch_nearest_distance</th>\n",
       "      <th>Hawker_Within_1km</th>\n",
       "      <th>mid</th>\n",
       "      <th>cutoff_point</th>\n",
       "      <th>floor_area_sqm</th>\n",
       "      <th>Hawker_Within_2km</th>\n",
       "      <th>Tranc_Month</th>\n",
       "    </tr>\n",
       "  </thead>\n",
       "  <tbody>\n",
       "    <tr>\n",
       "      <th>0</th>\n",
       "      <td>0.142231</td>\n",
       "      <td>0.697390</td>\n",
       "      <td>-0.056933</td>\n",
       "      <td>-0.639332</td>\n",
       "      <td>-0.172090</td>\n",
       "      <td>0.043367</td>\n",
       "      <td>1.217885</td>\n",
       "      <td>-0.436830</td>\n",
       "      <td>-0.017258</td>\n",
       "      <td>-0.671314</td>\n",
       "      <td>-0.231896</td>\n",
       "      <td>-0.982031</td>\n",
       "      <td>-0.241507</td>\n",
       "      <td>-0.048992</td>\n",
       "      <td>-1.107259</td>\n",
       "      <td>0.894109</td>\n",
       "      <td>-0.451629</td>\n",
       "      <td>-0.172644</td>\n",
       "    </tr>\n",
       "    <tr>\n",
       "      <th>1</th>\n",
       "      <td>1.548442</td>\n",
       "      <td>-1.295222</td>\n",
       "      <td>1.097444</td>\n",
       "      <td>-0.639332</td>\n",
       "      <td>0.922329</td>\n",
       "      <td>-0.552277</td>\n",
       "      <td>-1.182624</td>\n",
       "      <td>-0.352343</td>\n",
       "      <td>2.401785</td>\n",
       "      <td>3.424053</td>\n",
       "      <td>0.082751</td>\n",
       "      <td>-0.438532</td>\n",
       "      <td>-0.824898</td>\n",
       "      <td>1.045130</td>\n",
       "      <td>-1.107259</td>\n",
       "      <td>0.975940</td>\n",
       "      <td>-0.700918</td>\n",
       "      <td>-1.071769</td>\n",
       "    </tr>\n",
       "    <tr>\n",
       "      <th>2</th>\n",
       "      <td>-0.560874</td>\n",
       "      <td>-0.869960</td>\n",
       "      <td>0.231661</td>\n",
       "      <td>-0.639332</td>\n",
       "      <td>0.922329</td>\n",
       "      <td>-0.215541</td>\n",
       "      <td>-1.174373</td>\n",
       "      <td>0.577014</td>\n",
       "      <td>-0.662337</td>\n",
       "      <td>0.693809</td>\n",
       "      <td>0.134040</td>\n",
       "      <td>0.641285</td>\n",
       "      <td>-0.824898</td>\n",
       "      <td>-0.048992</td>\n",
       "      <td>-1.057314</td>\n",
       "      <td>1.998830</td>\n",
       "      <td>-0.700918</td>\n",
       "      <td>0.127064</td>\n",
       "    </tr>\n",
       "    <tr>\n",
       "      <th>3</th>\n",
       "      <td>-0.560874</td>\n",
       "      <td>-0.603098</td>\n",
       "      <td>-0.634122</td>\n",
       "      <td>1.958586</td>\n",
       "      <td>-1.266509</td>\n",
       "      <td>-0.772176</td>\n",
       "      <td>-0.293837</td>\n",
       "      <td>0.577014</td>\n",
       "      <td>-0.501067</td>\n",
       "      <td>0.693809</td>\n",
       "      <td>-0.757778</td>\n",
       "      <td>-0.394824</td>\n",
       "      <td>0.341884</td>\n",
       "      <td>-0.048992</td>\n",
       "      <td>-1.107259</td>\n",
       "      <td>-0.660683</td>\n",
       "      <td>0.046949</td>\n",
       "      <td>1.325897</td>\n",
       "    </tr>\n",
       "    <tr>\n",
       "      <th>4</th>\n",
       "      <td>-0.560874</td>\n",
       "      <td>0.620261</td>\n",
       "      <td>-0.634122</td>\n",
       "      <td>0.659627</td>\n",
       "      <td>-0.172090</td>\n",
       "      <td>-0.251724</td>\n",
       "      <td>0.022902</td>\n",
       "      <td>0.745988</td>\n",
       "      <td>-0.662337</td>\n",
       "      <td>-0.671314</td>\n",
       "      <td>-0.699184</td>\n",
       "      <td>0.121074</td>\n",
       "      <td>0.341884</td>\n",
       "      <td>-1.143114</td>\n",
       "      <td>1.240134</td>\n",
       "      <td>-0.169696</td>\n",
       "      <td>1.791971</td>\n",
       "      <td>-1.371477</td>\n",
       "    </tr>\n",
       "    <tr>\n",
       "      <th>...</th>\n",
       "      <td>...</td>\n",
       "      <td>...</td>\n",
       "      <td>...</td>\n",
       "      <td>...</td>\n",
       "      <td>...</td>\n",
       "      <td>...</td>\n",
       "      <td>...</td>\n",
       "      <td>...</td>\n",
       "      <td>...</td>\n",
       "      <td>...</td>\n",
       "      <td>...</td>\n",
       "      <td>...</td>\n",
       "      <td>...</td>\n",
       "      <td>...</td>\n",
       "      <td>...</td>\n",
       "      <td>...</td>\n",
       "      <td>...</td>\n",
       "      <td>...</td>\n",
       "    </tr>\n",
       "    <tr>\n",
       "      <th>112324</th>\n",
       "      <td>-1.263980</td>\n",
       "      <td>1.166863</td>\n",
       "      <td>0.520256</td>\n",
       "      <td>0.659627</td>\n",
       "      <td>-0.536896</td>\n",
       "      <td>-1.542915</td>\n",
       "      <td>-1.011052</td>\n",
       "      <td>-1.281700</td>\n",
       "      <td>1.595437</td>\n",
       "      <td>-0.671314</td>\n",
       "      <td>-0.944423</td>\n",
       "      <td>3.172083</td>\n",
       "      <td>0.925274</td>\n",
       "      <td>1.592191</td>\n",
       "      <td>0.690745</td>\n",
       "      <td>-0.292442</td>\n",
       "      <td>2.290548</td>\n",
       "      <td>-1.071769</td>\n",
       "    </tr>\n",
       "    <tr>\n",
       "      <th>112325</th>\n",
       "      <td>-1.263980</td>\n",
       "      <td>0.963408</td>\n",
       "      <td>-0.634122</td>\n",
       "      <td>0.659627</td>\n",
       "      <td>0.922329</td>\n",
       "      <td>-0.028837</td>\n",
       "      <td>0.711000</td>\n",
       "      <td>1.590857</td>\n",
       "      <td>-0.178528</td>\n",
       "      <td>-0.671314</td>\n",
       "      <td>-0.869708</td>\n",
       "      <td>2.155829</td>\n",
       "      <td>-0.241507</td>\n",
       "      <td>-0.048992</td>\n",
       "      <td>-1.107259</td>\n",
       "      <td>-1.315332</td>\n",
       "      <td>-0.451629</td>\n",
       "      <td>-0.772061</td>\n",
       "    </tr>\n",
       "    <tr>\n",
       "      <th>112326</th>\n",
       "      <td>-0.560874</td>\n",
       "      <td>0.180434</td>\n",
       "      <td>-0.056933</td>\n",
       "      <td>1.958586</td>\n",
       "      <td>1.287135</td>\n",
       "      <td>1.086486</td>\n",
       "      <td>0.514377</td>\n",
       "      <td>1.590857</td>\n",
       "      <td>0.144011</td>\n",
       "      <td>-0.671314</td>\n",
       "      <td>-0.758644</td>\n",
       "      <td>-0.720921</td>\n",
       "      <td>1.508665</td>\n",
       "      <td>-0.048992</td>\n",
       "      <td>1.939358</td>\n",
       "      <td>-0.292442</td>\n",
       "      <td>1.293393</td>\n",
       "      <td>1.026189</td>\n",
       "    </tr>\n",
       "    <tr>\n",
       "      <th>112327</th>\n",
       "      <td>-1.263980</td>\n",
       "      <td>1.086927</td>\n",
       "      <td>0.231661</td>\n",
       "      <td>1.958586</td>\n",
       "      <td>0.922329</td>\n",
       "      <td>1.057931</td>\n",
       "      <td>-0.683963</td>\n",
       "      <td>1.590857</td>\n",
       "      <td>-0.501067</td>\n",
       "      <td>-0.671314</td>\n",
       "      <td>-0.770636</td>\n",
       "      <td>-0.431725</td>\n",
       "      <td>0.925274</td>\n",
       "      <td>-0.596053</td>\n",
       "      <td>-1.057314</td>\n",
       "      <td>-0.988007</td>\n",
       "      <td>1.791971</td>\n",
       "      <td>0.426773</td>\n",
       "    </tr>\n",
       "    <tr>\n",
       "      <th>112328</th>\n",
       "      <td>0.142231</td>\n",
       "      <td>0.519702</td>\n",
       "      <td>0.808850</td>\n",
       "      <td>-0.639332</td>\n",
       "      <td>0.557522</td>\n",
       "      <td>-0.145652</td>\n",
       "      <td>0.428496</td>\n",
       "      <td>-0.605804</td>\n",
       "      <td>0.144011</td>\n",
       "      <td>-0.671314</td>\n",
       "      <td>0.465665</td>\n",
       "      <td>-0.909208</td>\n",
       "      <td>-0.824898</td>\n",
       "      <td>-0.596053</td>\n",
       "      <td>1.639691</td>\n",
       "      <td>-0.292442</td>\n",
       "      <td>-0.700918</td>\n",
       "      <td>0.127064</td>\n",
       "    </tr>\n",
       "  </tbody>\n",
       "</table>\n",
       "<p>112329 rows × 18 columns</p>\n",
       "</div>"
      ],
      "text/plain": [
       "        Mall_Within_1km  Mall_Nearest_Distance  Mall_Within_2km  \\\n",
       "0              0.142231               0.697390        -0.056933   \n",
       "1              1.548442              -1.295222         1.097444   \n",
       "2             -0.560874              -0.869960         0.231661   \n",
       "3             -0.560874              -0.603098        -0.634122   \n",
       "4             -0.560874               0.620261        -0.634122   \n",
       "...                 ...                    ...              ...   \n",
       "112324        -1.263980               1.166863         0.520256   \n",
       "112325        -1.263980               0.963408        -0.634122   \n",
       "112326        -0.560874               0.180434        -0.056933   \n",
       "112327        -1.263980               1.086927         0.231661   \n",
       "112328         0.142231               0.519702         0.808850   \n",
       "\n",
       "        Hawker_Within_500m  Tranc_Year  bus_stop_nearest_distance  \\\n",
       "0                -0.639332   -0.172090                   0.043367   \n",
       "1                -0.639332    0.922329                  -0.552277   \n",
       "2                -0.639332    0.922329                  -0.215541   \n",
       "3                 1.958586   -1.266509                  -0.772176   \n",
       "4                 0.659627   -0.172090                  -0.251724   \n",
       "...                    ...         ...                        ...   \n",
       "112324            0.659627   -0.536896                  -1.542915   \n",
       "112325            0.659627    0.922329                  -0.028837   \n",
       "112326            1.958586    1.287135                   1.086486   \n",
       "112327            1.958586    0.922329                   1.057931   \n",
       "112328           -0.639332    0.557522                  -0.145652   \n",
       "\n",
       "        mrt_nearest_distance  transaction_age  max_floor_lvl  \\\n",
       "0                   1.217885        -0.436830      -0.017258   \n",
       "1                  -1.182624        -0.352343       2.401785   \n",
       "2                  -1.174373         0.577014      -0.662337   \n",
       "3                  -0.293837         0.577014      -0.501067   \n",
       "4                   0.022902         0.745988      -0.662337   \n",
       "...                      ...              ...            ...   \n",
       "112324             -1.011052        -1.281700       1.595437   \n",
       "112325              0.711000         1.590857      -0.178528   \n",
       "112326              0.514377         1.590857       0.144011   \n",
       "112327             -0.683963         1.590857      -0.501067   \n",
       "112328              0.428496        -0.605804       0.144011   \n",
       "\n",
       "        Mall_Within_500m  Hawker_Nearest_Distance  pri_sch_nearest_distance  \\\n",
       "0              -0.671314                -0.231896                 -0.982031   \n",
       "1               3.424053                 0.082751                 -0.438532   \n",
       "2               0.693809                 0.134040                  0.641285   \n",
       "3               0.693809                -0.757778                 -0.394824   \n",
       "4              -0.671314                -0.699184                  0.121074   \n",
       "...                  ...                      ...                       ...   \n",
       "112324         -0.671314                -0.944423                  3.172083   \n",
       "112325         -0.671314                -0.869708                  2.155829   \n",
       "112326         -0.671314                -0.758644                 -0.720921   \n",
       "112327         -0.671314                -0.770636                 -0.431725   \n",
       "112328         -0.671314                 0.465665                 -0.909208   \n",
       "\n",
       "        Hawker_Within_1km       mid  cutoff_point  floor_area_sqm  \\\n",
       "0               -0.241507 -0.048992     -1.107259        0.894109   \n",
       "1               -0.824898  1.045130     -1.107259        0.975940   \n",
       "2               -0.824898 -0.048992     -1.057314        1.998830   \n",
       "3                0.341884 -0.048992     -1.107259       -0.660683   \n",
       "4                0.341884 -1.143114      1.240134       -0.169696   \n",
       "...                   ...       ...           ...             ...   \n",
       "112324           0.925274  1.592191      0.690745       -0.292442   \n",
       "112325          -0.241507 -0.048992     -1.107259       -1.315332   \n",
       "112326           1.508665 -0.048992      1.939358       -0.292442   \n",
       "112327           0.925274 -0.596053     -1.057314       -0.988007   \n",
       "112328          -0.824898 -0.596053      1.639691       -0.292442   \n",
       "\n",
       "        Hawker_Within_2km  Tranc_Month  \n",
       "0               -0.451629    -0.172644  \n",
       "1               -0.700918    -1.071769  \n",
       "2               -0.700918     0.127064  \n",
       "3                0.046949     1.325897  \n",
       "4                1.791971    -1.371477  \n",
       "...                   ...          ...  \n",
       "112324           2.290548    -1.071769  \n",
       "112325          -0.451629    -0.772061  \n",
       "112326           1.293393     1.026189  \n",
       "112327           1.791971     0.426773  \n",
       "112328          -0.700918     0.127064  \n",
       "\n",
       "[112329 rows x 18 columns]"
      ]
     },
     "execution_count": 13,
     "metadata": {},
     "output_type": "execute_result"
    }
   ],
   "source": [
    "X_train_num_scaled"
   ]
  },
  {
   "cell_type": "markdown",
   "id": "0df98585-effb-4834-b355-67669e4cf3e4",
   "metadata": {},
   "source": [
    "### Categorical features\n",
    "One Hot encoding will be used to dummify the categorical columns into a matrix."
   ]
  },
  {
   "cell_type": "code",
   "execution_count": 14,
   "id": "c62dc858-96e1-46d5-be02-9c65be8d3063",
   "metadata": {},
   "outputs": [
    {
     "name": "stdout",
     "output_type": "stream",
     "text": [
      "<class 'pandas.core.frame.DataFrame'>\n",
      "RangeIndex: 112329 entries, 0 to 112328\n",
      "Data columns (total 14 columns):\n",
      " #   Column               Non-Null Count   Dtype \n",
      "---  ------               --------------   ----- \n",
      " 0   index                112329 non-null  int64 \n",
      " 1   flat_type            112329 non-null  object\n",
      " 2   flat_model           112329 non-null  object\n",
      " 3   street_name          112329 non-null  object\n",
      " 4   commercial           112329 non-null  int64 \n",
      " 5   market_hawker        112329 non-null  int64 \n",
      " 6   multistorey_carpark  112329 non-null  int64 \n",
      " 7   precinct_pavilion    112329 non-null  int64 \n",
      " 8   planning_area        112329 non-null  object\n",
      " 9   bus_interchange      112329 non-null  int64 \n",
      " 10  mrt_interchange      112329 non-null  int64 \n",
      " 11  pri_sch_name         112329 non-null  object\n",
      " 12  pri_sch_affiliation  112329 non-null  int64 \n",
      " 13  sec_sch_name         112329 non-null  object\n",
      "dtypes: int64(8), object(6)\n",
      "memory usage: 12.0+ MB\n"
     ]
    }
   ],
   "source": [
    "#calling out categories to look for non binary cat.\n",
    "train_cat_df = X_train[cat_feat].reset_index()\n",
    "test_cat_df = X_test[cat_feat].reset_index()\n",
    "train_cat_df.info()"
   ]
  },
  {
   "cell_type": "markdown",
   "id": "ccb922d0-5058-4ffe-a02c-551e6e5aa3fa",
   "metadata": {},
   "source": [
    "For those with object type, it is likely string values hence it will be one hot encoded. However, the list will be refined so that categories with less datapoints can be combined to have data points as a group for modelling."
   ]
  },
  {
   "cell_type": "code",
   "execution_count": 15,
   "id": "042e734a-5167-4163-aa65-bf3b28b6b572",
   "metadata": {},
   "outputs": [
    {
     "data": {
      "text/plain": [
       "['flat_type',\n",
       " 'flat_model',\n",
       " 'street_name',\n",
       " 'planning_area',\n",
       " 'pri_sch_name',\n",
       " 'sec_sch_name']"
      ]
     },
     "execution_count": 15,
     "metadata": {},
     "output_type": "execute_result"
    }
   ],
   "source": [
    "#set list with object dtype to OHE\n",
    "cat_list = list(train_cat_df.dtypes[train_cat_df.dtypes == object].index)\n",
    "cat_list"
   ]
  },
  {
   "cell_type": "code",
   "execution_count": 16,
   "id": "c8734634-266b-456e-97ec-254b8f18a60a",
   "metadata": {},
   "outputs": [
    {
     "data": {
      "text/plain": [
       "11"
      ]
     },
     "execution_count": 16,
     "metadata": {},
     "output_type": "execute_result"
    }
   ],
   "source": [
    "#set threshold\n",
    "round(train_cat_df.shape[0]*0.0001)"
   ]
  },
  {
   "cell_type": "code",
   "execution_count": 17,
   "id": "2a4167ab-6cfd-44f4-b19d-32480a033d1d",
   "metadata": {
    "scrolled": true
   },
   "outputs": [
    {
     "data": {
      "text/html": [
       "<div>\n",
       "<style scoped>\n",
       "    .dataframe tbody tr th:only-of-type {\n",
       "        vertical-align: middle;\n",
       "    }\n",
       "\n",
       "    .dataframe tbody tr th {\n",
       "        vertical-align: top;\n",
       "    }\n",
       "\n",
       "    .dataframe thead th {\n",
       "        text-align: right;\n",
       "    }\n",
       "</style>\n",
       "<table border=\"1\" class=\"dataframe\">\n",
       "  <thead>\n",
       "    <tr style=\"text-align: right;\">\n",
       "      <th></th>\n",
       "      <th>flat_type_1 ROOM</th>\n",
       "      <th>flat_type_2 ROOM</th>\n",
       "      <th>flat_type_3 ROOM</th>\n",
       "      <th>flat_type_4 ROOM</th>\n",
       "      <th>flat_type_5 ROOM</th>\n",
       "      <th>flat_type_EXECUTIVE</th>\n",
       "      <th>flat_type_MULTI-GENERATION</th>\n",
       "      <th>flat_model_Adjoined flat</th>\n",
       "      <th>flat_model_Apartment</th>\n",
       "      <th>flat_model_DBSS</th>\n",
       "      <th>...</th>\n",
       "      <th>sec_sch_name_Yio Chu Kang Secondary School</th>\n",
       "      <th>sec_sch_name_Yishun Secondary School</th>\n",
       "      <th>sec_sch_name_Yishun Town Secondary School</th>\n",
       "      <th>sec_sch_name_Yuan Ching Secondary School</th>\n",
       "      <th>sec_sch_name_Yuhua Secondary School</th>\n",
       "      <th>sec_sch_name_Yusof Ishak Secondary School</th>\n",
       "      <th>sec_sch_name_Yuying Secondary School</th>\n",
       "      <th>sec_sch_name_Zhenghua Secondary School</th>\n",
       "      <th>sec_sch_name_Zhonghua Secondary School</th>\n",
       "      <th>sec_sch_name_infrequent_sklearn</th>\n",
       "    </tr>\n",
       "  </thead>\n",
       "  <tbody>\n",
       "    <tr>\n",
       "      <th>112324</th>\n",
       "      <td>0.0</td>\n",
       "      <td>0.0</td>\n",
       "      <td>0.0</td>\n",
       "      <td>1.0</td>\n",
       "      <td>0.0</td>\n",
       "      <td>0.0</td>\n",
       "      <td>0.0</td>\n",
       "      <td>0.0</td>\n",
       "      <td>0.0</td>\n",
       "      <td>0.0</td>\n",
       "      <td>...</td>\n",
       "      <td>0.0</td>\n",
       "      <td>0.0</td>\n",
       "      <td>0.0</td>\n",
       "      <td>0.0</td>\n",
       "      <td>0.0</td>\n",
       "      <td>0.0</td>\n",
       "      <td>0.0</td>\n",
       "      <td>0.0</td>\n",
       "      <td>0.0</td>\n",
       "      <td>0.0</td>\n",
       "    </tr>\n",
       "    <tr>\n",
       "      <th>112325</th>\n",
       "      <td>0.0</td>\n",
       "      <td>0.0</td>\n",
       "      <td>1.0</td>\n",
       "      <td>0.0</td>\n",
       "      <td>0.0</td>\n",
       "      <td>0.0</td>\n",
       "      <td>0.0</td>\n",
       "      <td>0.0</td>\n",
       "      <td>0.0</td>\n",
       "      <td>0.0</td>\n",
       "      <td>...</td>\n",
       "      <td>0.0</td>\n",
       "      <td>0.0</td>\n",
       "      <td>0.0</td>\n",
       "      <td>0.0</td>\n",
       "      <td>0.0</td>\n",
       "      <td>0.0</td>\n",
       "      <td>0.0</td>\n",
       "      <td>0.0</td>\n",
       "      <td>0.0</td>\n",
       "      <td>0.0</td>\n",
       "    </tr>\n",
       "    <tr>\n",
       "      <th>112326</th>\n",
       "      <td>0.0</td>\n",
       "      <td>0.0</td>\n",
       "      <td>0.0</td>\n",
       "      <td>1.0</td>\n",
       "      <td>0.0</td>\n",
       "      <td>0.0</td>\n",
       "      <td>0.0</td>\n",
       "      <td>0.0</td>\n",
       "      <td>0.0</td>\n",
       "      <td>0.0</td>\n",
       "      <td>...</td>\n",
       "      <td>0.0</td>\n",
       "      <td>0.0</td>\n",
       "      <td>0.0</td>\n",
       "      <td>0.0</td>\n",
       "      <td>0.0</td>\n",
       "      <td>0.0</td>\n",
       "      <td>0.0</td>\n",
       "      <td>0.0</td>\n",
       "      <td>0.0</td>\n",
       "      <td>0.0</td>\n",
       "    </tr>\n",
       "    <tr>\n",
       "      <th>112327</th>\n",
       "      <td>0.0</td>\n",
       "      <td>0.0</td>\n",
       "      <td>1.0</td>\n",
       "      <td>0.0</td>\n",
       "      <td>0.0</td>\n",
       "      <td>0.0</td>\n",
       "      <td>0.0</td>\n",
       "      <td>0.0</td>\n",
       "      <td>0.0</td>\n",
       "      <td>0.0</td>\n",
       "      <td>...</td>\n",
       "      <td>0.0</td>\n",
       "      <td>0.0</td>\n",
       "      <td>0.0</td>\n",
       "      <td>0.0</td>\n",
       "      <td>0.0</td>\n",
       "      <td>0.0</td>\n",
       "      <td>0.0</td>\n",
       "      <td>0.0</td>\n",
       "      <td>0.0</td>\n",
       "      <td>0.0</td>\n",
       "    </tr>\n",
       "    <tr>\n",
       "      <th>112328</th>\n",
       "      <td>0.0</td>\n",
       "      <td>0.0</td>\n",
       "      <td>0.0</td>\n",
       "      <td>1.0</td>\n",
       "      <td>0.0</td>\n",
       "      <td>0.0</td>\n",
       "      <td>0.0</td>\n",
       "      <td>0.0</td>\n",
       "      <td>0.0</td>\n",
       "      <td>0.0</td>\n",
       "      <td>...</td>\n",
       "      <td>0.0</td>\n",
       "      <td>0.0</td>\n",
       "      <td>0.0</td>\n",
       "      <td>0.0</td>\n",
       "      <td>0.0</td>\n",
       "      <td>0.0</td>\n",
       "      <td>0.0</td>\n",
       "      <td>0.0</td>\n",
       "      <td>0.0</td>\n",
       "      <td>0.0</td>\n",
       "    </tr>\n",
       "  </tbody>\n",
       "</table>\n",
       "<p>5 rows × 899 columns</p>\n",
       "</div>"
      ],
      "text/plain": [
       "        flat_type_1 ROOM  flat_type_2 ROOM  flat_type_3 ROOM  \\\n",
       "112324               0.0               0.0               0.0   \n",
       "112325               0.0               0.0               1.0   \n",
       "112326               0.0               0.0               0.0   \n",
       "112327               0.0               0.0               1.0   \n",
       "112328               0.0               0.0               0.0   \n",
       "\n",
       "        flat_type_4 ROOM  flat_type_5 ROOM  flat_type_EXECUTIVE  \\\n",
       "112324               1.0               0.0                  0.0   \n",
       "112325               0.0               0.0                  0.0   \n",
       "112326               1.0               0.0                  0.0   \n",
       "112327               0.0               0.0                  0.0   \n",
       "112328               1.0               0.0                  0.0   \n",
       "\n",
       "        flat_type_MULTI-GENERATION  flat_model_Adjoined flat  \\\n",
       "112324                         0.0                       0.0   \n",
       "112325                         0.0                       0.0   \n",
       "112326                         0.0                       0.0   \n",
       "112327                         0.0                       0.0   \n",
       "112328                         0.0                       0.0   \n",
       "\n",
       "        flat_model_Apartment  flat_model_DBSS  ...  \\\n",
       "112324                   0.0              0.0  ...   \n",
       "112325                   0.0              0.0  ...   \n",
       "112326                   0.0              0.0  ...   \n",
       "112327                   0.0              0.0  ...   \n",
       "112328                   0.0              0.0  ...   \n",
       "\n",
       "        sec_sch_name_Yio Chu Kang Secondary School  \\\n",
       "112324                                         0.0   \n",
       "112325                                         0.0   \n",
       "112326                                         0.0   \n",
       "112327                                         0.0   \n",
       "112328                                         0.0   \n",
       "\n",
       "        sec_sch_name_Yishun Secondary School  \\\n",
       "112324                                   0.0   \n",
       "112325                                   0.0   \n",
       "112326                                   0.0   \n",
       "112327                                   0.0   \n",
       "112328                                   0.0   \n",
       "\n",
       "        sec_sch_name_Yishun Town Secondary School  \\\n",
       "112324                                        0.0   \n",
       "112325                                        0.0   \n",
       "112326                                        0.0   \n",
       "112327                                        0.0   \n",
       "112328                                        0.0   \n",
       "\n",
       "        sec_sch_name_Yuan Ching Secondary School  \\\n",
       "112324                                       0.0   \n",
       "112325                                       0.0   \n",
       "112326                                       0.0   \n",
       "112327                                       0.0   \n",
       "112328                                       0.0   \n",
       "\n",
       "        sec_sch_name_Yuhua Secondary School  \\\n",
       "112324                                  0.0   \n",
       "112325                                  0.0   \n",
       "112326                                  0.0   \n",
       "112327                                  0.0   \n",
       "112328                                  0.0   \n",
       "\n",
       "        sec_sch_name_Yusof Ishak Secondary School  \\\n",
       "112324                                        0.0   \n",
       "112325                                        0.0   \n",
       "112326                                        0.0   \n",
       "112327                                        0.0   \n",
       "112328                                        0.0   \n",
       "\n",
       "        sec_sch_name_Yuying Secondary School  \\\n",
       "112324                                   0.0   \n",
       "112325                                   0.0   \n",
       "112326                                   0.0   \n",
       "112327                                   0.0   \n",
       "112328                                   0.0   \n",
       "\n",
       "        sec_sch_name_Zhenghua Secondary School  \\\n",
       "112324                                     0.0   \n",
       "112325                                     0.0   \n",
       "112326                                     0.0   \n",
       "112327                                     0.0   \n",
       "112328                                     0.0   \n",
       "\n",
       "        sec_sch_name_Zhonghua Secondary School  \\\n",
       "112324                                     0.0   \n",
       "112325                                     0.0   \n",
       "112326                                     0.0   \n",
       "112327                                     0.0   \n",
       "112328                                     0.0   \n",
       "\n",
       "        sec_sch_name_infrequent_sklearn  \n",
       "112324                              0.0  \n",
       "112325                              0.0  \n",
       "112326                              0.0  \n",
       "112327                              0.0  \n",
       "112328                              0.0  \n",
       "\n",
       "[5 rows x 899 columns]"
      ]
     },
     "execution_count": 17,
     "metadata": {},
     "output_type": "execute_result"
    }
   ],
   "source": [
    "#setup OHE\n",
    "OHE = OneHotEncoder(sparse_output = False, handle_unknown = 'infrequent_if_exist', min_frequency = 0.0001)\n",
    "train_OHE_cat_df = pd.DataFrame(OHE.fit_transform(train_cat_df[cat_list]), columns = OHE.get_feature_names_out())\n",
    "test_OHE_cat_df = pd.DataFrame(OHE.transform(test_cat_df[cat_list]), columns = OHE.get_feature_names_out())\n",
    "train_OHE_cat_df.tail()"
   ]
  },
  {
   "cell_type": "code",
   "execution_count": 18,
   "id": "cae9b1d9-98d6-43a5-9078-d16262ac363e",
   "metadata": {},
   "outputs": [],
   "source": [
    "#concat categories train sets\n",
    "train_cat_df = pd.concat([train_cat_df, train_OHE_cat_df], axis = 1)\n",
    "train_cat_df.drop(columns = cat_list, inplace = True)\n",
    "#concat categories test set\n",
    "test_cat_df = pd.concat([test_cat_df, test_OHE_cat_df], axis = 1)\n",
    "test_cat_df.drop(columns = cat_list, inplace = True)"
   ]
  },
  {
   "cell_type": "code",
   "execution_count": 19,
   "id": "591d40ab-62ee-4844-8a87-e6ac788ee0fc",
   "metadata": {},
   "outputs": [
    {
     "data": {
      "text/html": [
       "<div>\n",
       "<style scoped>\n",
       "    .dataframe tbody tr th:only-of-type {\n",
       "        vertical-align: middle;\n",
       "    }\n",
       "\n",
       "    .dataframe tbody tr th {\n",
       "        vertical-align: top;\n",
       "    }\n",
       "\n",
       "    .dataframe thead th {\n",
       "        text-align: right;\n",
       "    }\n",
       "</style>\n",
       "<table border=\"1\" class=\"dataframe\">\n",
       "  <thead>\n",
       "    <tr style=\"text-align: right;\">\n",
       "      <th></th>\n",
       "      <th>Mall_Within_1km</th>\n",
       "      <th>Mall_Nearest_Distance</th>\n",
       "      <th>Mall_Within_2km</th>\n",
       "      <th>Hawker_Within_500m</th>\n",
       "      <th>Tranc_Year</th>\n",
       "      <th>bus_stop_nearest_distance</th>\n",
       "      <th>mrt_nearest_distance</th>\n",
       "      <th>transaction_age</th>\n",
       "      <th>max_floor_lvl</th>\n",
       "      <th>Mall_Within_500m</th>\n",
       "      <th>...</th>\n",
       "      <th>sec_sch_name_Yio Chu Kang Secondary School</th>\n",
       "      <th>sec_sch_name_Yishun Secondary School</th>\n",
       "      <th>sec_sch_name_Yishun Town Secondary School</th>\n",
       "      <th>sec_sch_name_Yuan Ching Secondary School</th>\n",
       "      <th>sec_sch_name_Yuhua Secondary School</th>\n",
       "      <th>sec_sch_name_Yusof Ishak Secondary School</th>\n",
       "      <th>sec_sch_name_Yuying Secondary School</th>\n",
       "      <th>sec_sch_name_Zhenghua Secondary School</th>\n",
       "      <th>sec_sch_name_Zhonghua Secondary School</th>\n",
       "      <th>sec_sch_name_infrequent_sklearn</th>\n",
       "    </tr>\n",
       "    <tr>\n",
       "      <th>index</th>\n",
       "      <th></th>\n",
       "      <th></th>\n",
       "      <th></th>\n",
       "      <th></th>\n",
       "      <th></th>\n",
       "      <th></th>\n",
       "      <th></th>\n",
       "      <th></th>\n",
       "      <th></th>\n",
       "      <th></th>\n",
       "      <th></th>\n",
       "      <th></th>\n",
       "      <th></th>\n",
       "      <th></th>\n",
       "      <th></th>\n",
       "      <th></th>\n",
       "      <th></th>\n",
       "      <th></th>\n",
       "      <th></th>\n",
       "      <th></th>\n",
       "      <th></th>\n",
       "    </tr>\n",
       "  </thead>\n",
       "  <tbody>\n",
       "    <tr>\n",
       "      <th>30484</th>\n",
       "      <td>0.142231</td>\n",
       "      <td>0.697390</td>\n",
       "      <td>-0.056933</td>\n",
       "      <td>-0.639332</td>\n",
       "      <td>-0.172090</td>\n",
       "      <td>0.043367</td>\n",
       "      <td>1.217885</td>\n",
       "      <td>-0.436830</td>\n",
       "      <td>-0.017258</td>\n",
       "      <td>-0.671314</td>\n",
       "      <td>...</td>\n",
       "      <td>0.0</td>\n",
       "      <td>0.0</td>\n",
       "      <td>0.0</td>\n",
       "      <td>0.0</td>\n",
       "      <td>0.0</td>\n",
       "      <td>0.0</td>\n",
       "      <td>0.0</td>\n",
       "      <td>0.0</td>\n",
       "      <td>0.0</td>\n",
       "      <td>0.0</td>\n",
       "    </tr>\n",
       "    <tr>\n",
       "      <th>87242</th>\n",
       "      <td>1.548442</td>\n",
       "      <td>-1.295222</td>\n",
       "      <td>1.097444</td>\n",
       "      <td>-0.639332</td>\n",
       "      <td>0.922329</td>\n",
       "      <td>-0.552277</td>\n",
       "      <td>-1.182624</td>\n",
       "      <td>-0.352343</td>\n",
       "      <td>2.401785</td>\n",
       "      <td>3.424053</td>\n",
       "      <td>...</td>\n",
       "      <td>0.0</td>\n",
       "      <td>0.0</td>\n",
       "      <td>0.0</td>\n",
       "      <td>0.0</td>\n",
       "      <td>0.0</td>\n",
       "      <td>0.0</td>\n",
       "      <td>0.0</td>\n",
       "      <td>0.0</td>\n",
       "      <td>0.0</td>\n",
       "      <td>0.0</td>\n",
       "    </tr>\n",
       "    <tr>\n",
       "      <th>79640</th>\n",
       "      <td>-0.560874</td>\n",
       "      <td>-0.869960</td>\n",
       "      <td>0.231661</td>\n",
       "      <td>-0.639332</td>\n",
       "      <td>0.922329</td>\n",
       "      <td>-0.215541</td>\n",
       "      <td>-1.174373</td>\n",
       "      <td>0.577014</td>\n",
       "      <td>-0.662337</td>\n",
       "      <td>0.693809</td>\n",
       "      <td>...</td>\n",
       "      <td>0.0</td>\n",
       "      <td>0.0</td>\n",
       "      <td>0.0</td>\n",
       "      <td>0.0</td>\n",
       "      <td>0.0</td>\n",
       "      <td>0.0</td>\n",
       "      <td>0.0</td>\n",
       "      <td>0.0</td>\n",
       "      <td>0.0</td>\n",
       "      <td>0.0</td>\n",
       "    </tr>\n",
       "    <tr>\n",
       "      <th>63804</th>\n",
       "      <td>-0.560874</td>\n",
       "      <td>-0.603098</td>\n",
       "      <td>-0.634122</td>\n",
       "      <td>1.958586</td>\n",
       "      <td>-1.266509</td>\n",
       "      <td>-0.772176</td>\n",
       "      <td>-0.293837</td>\n",
       "      <td>0.577014</td>\n",
       "      <td>-0.501067</td>\n",
       "      <td>0.693809</td>\n",
       "      <td>...</td>\n",
       "      <td>0.0</td>\n",
       "      <td>0.0</td>\n",
       "      <td>0.0</td>\n",
       "      <td>0.0</td>\n",
       "      <td>1.0</td>\n",
       "      <td>0.0</td>\n",
       "      <td>0.0</td>\n",
       "      <td>0.0</td>\n",
       "      <td>0.0</td>\n",
       "      <td>0.0</td>\n",
       "    </tr>\n",
       "    <tr>\n",
       "      <th>146273</th>\n",
       "      <td>-0.560874</td>\n",
       "      <td>0.620261</td>\n",
       "      <td>-0.634122</td>\n",
       "      <td>0.659627</td>\n",
       "      <td>-0.172090</td>\n",
       "      <td>-0.251724</td>\n",
       "      <td>0.022902</td>\n",
       "      <td>0.745988</td>\n",
       "      <td>-0.662337</td>\n",
       "      <td>-0.671314</td>\n",
       "      <td>...</td>\n",
       "      <td>0.0</td>\n",
       "      <td>0.0</td>\n",
       "      <td>0.0</td>\n",
       "      <td>0.0</td>\n",
       "      <td>0.0</td>\n",
       "      <td>0.0</td>\n",
       "      <td>0.0</td>\n",
       "      <td>0.0</td>\n",
       "      <td>0.0</td>\n",
       "      <td>0.0</td>\n",
       "    </tr>\n",
       "  </tbody>\n",
       "</table>\n",
       "<p>5 rows × 924 columns</p>\n",
       "</div>"
      ],
      "text/plain": [
       "        Mall_Within_1km  Mall_Nearest_Distance  Mall_Within_2km  \\\n",
       "index                                                             \n",
       "30484          0.142231               0.697390        -0.056933   \n",
       "87242          1.548442              -1.295222         1.097444   \n",
       "79640         -0.560874              -0.869960         0.231661   \n",
       "63804         -0.560874              -0.603098        -0.634122   \n",
       "146273        -0.560874               0.620261        -0.634122   \n",
       "\n",
       "        Hawker_Within_500m  Tranc_Year  bus_stop_nearest_distance  \\\n",
       "index                                                               \n",
       "30484            -0.639332   -0.172090                   0.043367   \n",
       "87242            -0.639332    0.922329                  -0.552277   \n",
       "79640            -0.639332    0.922329                  -0.215541   \n",
       "63804             1.958586   -1.266509                  -0.772176   \n",
       "146273            0.659627   -0.172090                  -0.251724   \n",
       "\n",
       "        mrt_nearest_distance  transaction_age  max_floor_lvl  \\\n",
       "index                                                          \n",
       "30484               1.217885        -0.436830      -0.017258   \n",
       "87242              -1.182624        -0.352343       2.401785   \n",
       "79640              -1.174373         0.577014      -0.662337   \n",
       "63804              -0.293837         0.577014      -0.501067   \n",
       "146273              0.022902         0.745988      -0.662337   \n",
       "\n",
       "        Mall_Within_500m  ...  sec_sch_name_Yio Chu Kang Secondary School  \\\n",
       "index                     ...                                               \n",
       "30484          -0.671314  ...                                         0.0   \n",
       "87242           3.424053  ...                                         0.0   \n",
       "79640           0.693809  ...                                         0.0   \n",
       "63804           0.693809  ...                                         0.0   \n",
       "146273         -0.671314  ...                                         0.0   \n",
       "\n",
       "        sec_sch_name_Yishun Secondary School  \\\n",
       "index                                          \n",
       "30484                                    0.0   \n",
       "87242                                    0.0   \n",
       "79640                                    0.0   \n",
       "63804                                    0.0   \n",
       "146273                                   0.0   \n",
       "\n",
       "        sec_sch_name_Yishun Town Secondary School  \\\n",
       "index                                               \n",
       "30484                                         0.0   \n",
       "87242                                         0.0   \n",
       "79640                                         0.0   \n",
       "63804                                         0.0   \n",
       "146273                                        0.0   \n",
       "\n",
       "        sec_sch_name_Yuan Ching Secondary School  \\\n",
       "index                                              \n",
       "30484                                        0.0   \n",
       "87242                                        0.0   \n",
       "79640                                        0.0   \n",
       "63804                                        0.0   \n",
       "146273                                       0.0   \n",
       "\n",
       "        sec_sch_name_Yuhua Secondary School  \\\n",
       "index                                         \n",
       "30484                                   0.0   \n",
       "87242                                   0.0   \n",
       "79640                                   0.0   \n",
       "63804                                   1.0   \n",
       "146273                                  0.0   \n",
       "\n",
       "        sec_sch_name_Yusof Ishak Secondary School  \\\n",
       "index                                               \n",
       "30484                                         0.0   \n",
       "87242                                         0.0   \n",
       "79640                                         0.0   \n",
       "63804                                         0.0   \n",
       "146273                                        0.0   \n",
       "\n",
       "        sec_sch_name_Yuying Secondary School  \\\n",
       "index                                          \n",
       "30484                                    0.0   \n",
       "87242                                    0.0   \n",
       "79640                                    0.0   \n",
       "63804                                    0.0   \n",
       "146273                                   0.0   \n",
       "\n",
       "        sec_sch_name_Zhenghua Secondary School  \\\n",
       "index                                            \n",
       "30484                                      0.0   \n",
       "87242                                      0.0   \n",
       "79640                                      0.0   \n",
       "63804                                      0.0   \n",
       "146273                                     0.0   \n",
       "\n",
       "        sec_sch_name_Zhonghua Secondary School  \\\n",
       "index                                            \n",
       "30484                                      0.0   \n",
       "87242                                      0.0   \n",
       "79640                                      0.0   \n",
       "63804                                      0.0   \n",
       "146273                                     0.0   \n",
       "\n",
       "        sec_sch_name_infrequent_sklearn  \n",
       "index                                    \n",
       "30484                               0.0  \n",
       "87242                               0.0  \n",
       "79640                               0.0  \n",
       "63804                               0.0  \n",
       "146273                              0.0  \n",
       "\n",
       "[5 rows x 924 columns]"
      ]
     },
     "execution_count": 19,
     "metadata": {},
     "output_type": "execute_result"
    }
   ],
   "source": [
    "#concat train set\n",
    "Z_train = pd.concat([X_train_num_scaled, train_cat_df], axis = 1)\n",
    "Z_train.set_index('index', inplace = True)\n",
    "\n",
    "#concat test set\n",
    "Z_test = pd.concat([X_test_num_scaled, test_cat_df], axis = 1)\n",
    "Z_test.set_index('index', inplace = True)\n",
    "\n",
    "Z_train.head()"
   ]
  },
  {
   "cell_type": "markdown",
   "id": "abaa9f44-79a0-4530-94b8-63bffd073194",
   "metadata": {},
   "source": [
    "## Modelling\n",
    "- [Linear Regression](#Linear-Regression)\n",
    "- [Ridge Regression](#Ridge-Regression)\n",
    "- [Lasso Regression](#Lasso-Regression)"
   ]
  },
  {
   "cell_type": "markdown",
   "id": "c436712a-b8fe-4ee7-aaa0-dab02691a66b",
   "metadata": {},
   "source": [
    "### Linear Regression"
   ]
  },
  {
   "cell_type": "code",
   "execution_count": 20,
   "id": "65149ff9-1fce-413d-80a7-f38deae429d4",
   "metadata": {},
   "outputs": [
    {
     "name": "stdout",
     "output_type": "stream",
     "text": [
      "[0.9249671  0.92449641 0.92345193 0.9248693  0.92266924]\n"
     ]
    },
    {
     "data": {
      "text/plain": [
       "0.9240907448215194"
      ]
     },
     "execution_count": 20,
     "metadata": {},
     "output_type": "execute_result"
    }
   ],
   "source": [
    "#Instantiate your model\n",
    "lr = LinearRegression()\n",
    "\n",
    "#Obtain Cross-validation scores|\n",
    "print(cross_val_score(lr, Z_train, y_train, cv =5))\n",
    "\n",
    "#Obtain MEAN Cross-validation score\n",
    "cross_val_score(lr, Z_train, y_train).mean()"
   ]
  },
  {
   "cell_type": "code",
   "execution_count": 21,
   "id": "54449c3d-ae04-4ad1-b7ea-4b2ae8694f35",
   "metadata": {},
   "outputs": [],
   "source": [
    "# Train your model\n",
    "lr.fit(Z_train, y_train)\n",
    "\n",
    "#Generate predictions\n",
    "y_train_preds = lr.predict(Z_train)\n",
    "y_test_preds = lr.predict(Z_test)"
   ]
  },
  {
   "cell_type": "code",
   "execution_count": 22,
   "id": "6e1c64c0-f5dd-4280-a2b9-ef8d3891f8ac",
   "metadata": {},
   "outputs": [
    {
     "data": {
      "text/plain": [
       "0.92551526103617"
      ]
     },
     "execution_count": 22,
     "metadata": {},
     "output_type": "execute_result"
    }
   ],
   "source": [
    "# Train score:\n",
    "lr.score(Z_train, y_train)"
   ]
  },
  {
   "cell_type": "code",
   "execution_count": 23,
   "id": "ae0e3154-913f-4296-87b4-3a1cc0ea70ad",
   "metadata": {},
   "outputs": [
    {
     "data": {
      "text/plain": [
       "-1564517453.1376903"
      ]
     },
     "execution_count": 23,
     "metadata": {},
     "output_type": "execute_result"
    }
   ],
   "source": [
    "# Test score:\n",
    "lr.score(Z_test, y_test)"
   ]
  },
  {
   "cell_type": "code",
   "execution_count": 24,
   "id": "a7a390f6-aea8-4349-b921-626e5afcb062",
   "metadata": {},
   "outputs": [
    {
     "name": "stdout",
     "output_type": "stream",
     "text": [
      "39089.893775248216\n",
      "5664718809.232266\n"
     ]
    }
   ],
   "source": [
    "#MSE\n",
    "train_MSE = mean_squared_error(y_train, y_train_preds)\n",
    "test_MSE = mean_squared_error(y_test, y_test_preds)\n",
    "#RMSE \n",
    "print(np.sqrt(train_MSE))\n",
    "print(np.sqrt(test_MSE))"
   ]
  },
  {
   "cell_type": "markdown",
   "id": "daf491f9-d4a2-4f06-bb16-5356a7ed1ff3",
   "metadata": {},
   "source": [
    "### Ridge Regression"
   ]
  },
  {
   "cell_type": "code",
   "execution_count": 25,
   "id": "c3c1d403-a1fb-4b57-a0f7-021426076452",
   "metadata": {},
   "outputs": [
    {
     "data": {
      "text/html": [
       "<style>#sk-container-id-1 {color: black;background-color: white;}#sk-container-id-1 pre{padding: 0;}#sk-container-id-1 div.sk-toggleable {background-color: white;}#sk-container-id-1 label.sk-toggleable__label {cursor: pointer;display: block;width: 100%;margin-bottom: 0;padding: 0.3em;box-sizing: border-box;text-align: center;}#sk-container-id-1 label.sk-toggleable__label-arrow:before {content: \"▸\";float: left;margin-right: 0.25em;color: #696969;}#sk-container-id-1 label.sk-toggleable__label-arrow:hover:before {color: black;}#sk-container-id-1 div.sk-estimator:hover label.sk-toggleable__label-arrow:before {color: black;}#sk-container-id-1 div.sk-toggleable__content {max-height: 0;max-width: 0;overflow: hidden;text-align: left;background-color: #f0f8ff;}#sk-container-id-1 div.sk-toggleable__content pre {margin: 0.2em;color: black;border-radius: 0.25em;background-color: #f0f8ff;}#sk-container-id-1 input.sk-toggleable__control:checked~div.sk-toggleable__content {max-height: 200px;max-width: 100%;overflow: auto;}#sk-container-id-1 input.sk-toggleable__control:checked~label.sk-toggleable__label-arrow:before {content: \"▾\";}#sk-container-id-1 div.sk-estimator input.sk-toggleable__control:checked~label.sk-toggleable__label {background-color: #d4ebff;}#sk-container-id-1 div.sk-label input.sk-toggleable__control:checked~label.sk-toggleable__label {background-color: #d4ebff;}#sk-container-id-1 input.sk-hidden--visually {border: 0;clip: rect(1px 1px 1px 1px);clip: rect(1px, 1px, 1px, 1px);height: 1px;margin: -1px;overflow: hidden;padding: 0;position: absolute;width: 1px;}#sk-container-id-1 div.sk-estimator {font-family: monospace;background-color: #f0f8ff;border: 1px dotted black;border-radius: 0.25em;box-sizing: border-box;margin-bottom: 0.5em;}#sk-container-id-1 div.sk-estimator:hover {background-color: #d4ebff;}#sk-container-id-1 div.sk-parallel-item::after {content: \"\";width: 100%;border-bottom: 1px solid gray;flex-grow: 1;}#sk-container-id-1 div.sk-label:hover label.sk-toggleable__label {background-color: #d4ebff;}#sk-container-id-1 div.sk-serial::before {content: \"\";position: absolute;border-left: 1px solid gray;box-sizing: border-box;top: 0;bottom: 0;left: 50%;z-index: 0;}#sk-container-id-1 div.sk-serial {display: flex;flex-direction: column;align-items: center;background-color: white;padding-right: 0.2em;padding-left: 0.2em;position: relative;}#sk-container-id-1 div.sk-item {position: relative;z-index: 1;}#sk-container-id-1 div.sk-parallel {display: flex;align-items: stretch;justify-content: center;background-color: white;position: relative;}#sk-container-id-1 div.sk-item::before, #sk-container-id-1 div.sk-parallel-item::before {content: \"\";position: absolute;border-left: 1px solid gray;box-sizing: border-box;top: 0;bottom: 0;left: 50%;z-index: -1;}#sk-container-id-1 div.sk-parallel-item {display: flex;flex-direction: column;z-index: 1;position: relative;background-color: white;}#sk-container-id-1 div.sk-parallel-item:first-child::after {align-self: flex-end;width: 50%;}#sk-container-id-1 div.sk-parallel-item:last-child::after {align-self: flex-start;width: 50%;}#sk-container-id-1 div.sk-parallel-item:only-child::after {width: 0;}#sk-container-id-1 div.sk-dashed-wrapped {border: 1px dashed gray;margin: 0 0.4em 0.5em 0.4em;box-sizing: border-box;padding-bottom: 0.4em;background-color: white;}#sk-container-id-1 div.sk-label label {font-family: monospace;font-weight: bold;display: inline-block;line-height: 1.2em;}#sk-container-id-1 div.sk-label-container {text-align: center;}#sk-container-id-1 div.sk-container {/* jupyter's `normalize.less` sets `[hidden] { display: none; }` but bootstrap.min.css set `[hidden] { display: none !important; }` so we also need the `!important` here to be able to override the default hidden behavior on the sphinx rendered scikit-learn.org. See: https://github.com/scikit-learn/scikit-learn/issues/21755 */display: inline-block !important;position: relative;}#sk-container-id-1 div.sk-text-repr-fallback {display: none;}</style><div id=\"sk-container-id-1\" class=\"sk-top-container\"><div class=\"sk-text-repr-fallback\"><pre>RidgeCV(alphas=array([1.00000000e-03, 2.78255940e-03, 7.74263683e-03, 2.15443469e-02,\n",
       "       5.99484250e-02, 1.66810054e-01, 4.64158883e-01, 1.29154967e+00,\n",
       "       3.59381366e+00, 1.00000000e+01]),\n",
       "        cv=5, scoring=&#x27;r2&#x27;)</pre><b>In a Jupyter environment, please rerun this cell to show the HTML representation or trust the notebook. <br />On GitHub, the HTML representation is unable to render, please try loading this page with nbviewer.org.</b></div><div class=\"sk-container\" hidden><div class=\"sk-item\"><div class=\"sk-estimator sk-toggleable\"><input class=\"sk-toggleable__control sk-hidden--visually\" id=\"sk-estimator-id-1\" type=\"checkbox\" checked><label for=\"sk-estimator-id-1\" class=\"sk-toggleable__label sk-toggleable__label-arrow\">RidgeCV</label><div class=\"sk-toggleable__content\"><pre>RidgeCV(alphas=array([1.00000000e-03, 2.78255940e-03, 7.74263683e-03, 2.15443469e-02,\n",
       "       5.99484250e-02, 1.66810054e-01, 4.64158883e-01, 1.29154967e+00,\n",
       "       3.59381366e+00, 1.00000000e+01]),\n",
       "        cv=5, scoring=&#x27;r2&#x27;)</pre></div></div></div></div></div>"
      ],
      "text/plain": [
       "RidgeCV(alphas=array([1.00000000e-03, 2.78255940e-03, 7.74263683e-03, 2.15443469e-02,\n",
       "       5.99484250e-02, 1.66810054e-01, 4.64158883e-01, 1.29154967e+00,\n",
       "       3.59381366e+00, 1.00000000e+01]),\n",
       "        cv=5, scoring='r2')"
      ]
     },
     "execution_count": 25,
     "metadata": {},
     "output_type": "execute_result"
    }
   ],
   "source": [
    "#alpha_list = np.logspace(-3, 1, 10)\n",
    "ridgecv = RidgeCV(alphas = np.logspace(-3, 1, 10) , scoring='r2', cv = 5)\n",
    "ridgecv.fit(Z_train, y_train)"
   ]
  },
  {
   "cell_type": "code",
   "execution_count": 26,
   "id": "7cf01fca-9fa6-4c30-ae40-055f47a84a6e",
   "metadata": {},
   "outputs": [
    {
     "data": {
      "text/plain": [
       "0.021544346900318832"
      ]
     },
     "execution_count": 26,
     "metadata": {},
     "output_type": "execute_result"
    }
   ],
   "source": [
    "#optimal alpha\n",
    "ridgecv.alpha_"
   ]
  },
  {
   "cell_type": "code",
   "execution_count": 27,
   "id": "e5301f83-87e7-45d2-8fa3-0589488637af",
   "metadata": {},
   "outputs": [
    {
     "name": "stdout",
     "output_type": "stream",
     "text": [
      "[0.92495587 0.92446998 0.92347839 0.92487497 0.92268616]\n",
      "0.9240930731447097\n"
     ]
    }
   ],
   "source": [
    "#Instantiate the model\n",
    "ridge = Ridge(alpha = ridgecv.alpha_)\n",
    "ridge_scores = cross_val_score(ridge, Z_train, y_train, cv = 5)\n",
    "\n",
    "print (ridge_scores)\n",
    "print (np.mean(ridge_scores))"
   ]
  },
  {
   "cell_type": "code",
   "execution_count": 28,
   "id": "822bf760-a195-4a42-93bb-689dea65be94",
   "metadata": {},
   "outputs": [],
   "source": [
    "#Retrain ridge\n",
    "ridge.fit(Z_train, y_train)\n",
    "\n",
    "#Generate predictions\n",
    "y_train_preds = ridge.predict(Z_train)\n",
    "y_test_preds = ridge.predict(Z_test)"
   ]
  },
  {
   "cell_type": "code",
   "execution_count": 29,
   "id": "8feba7bc-1369-4c34-a487-15c1153d6d68",
   "metadata": {},
   "outputs": [
    {
     "data": {
      "text/plain": [
       "0.9255133922192182"
      ]
     },
     "execution_count": 29,
     "metadata": {},
     "output_type": "execute_result"
    }
   ],
   "source": [
    "# Train score:\n",
    "ridge_train_score = ridge.score(Z_train, y_train)\n",
    "ridge_train_score"
   ]
  },
  {
   "cell_type": "code",
   "execution_count": 30,
   "id": "7aad30f5-d36e-4c64-9d67-7e3a1c5188fa",
   "metadata": {},
   "outputs": [
    {
     "data": {
      "text/plain": [
       "0.9241482420672579"
      ]
     },
     "execution_count": 30,
     "metadata": {},
     "output_type": "execute_result"
    }
   ],
   "source": [
    "# Test  score:\n",
    "ridge_test_score = ridgecv.score(Z_test, y_test)\n",
    "ridge_test_score"
   ]
  },
  {
   "cell_type": "code",
   "execution_count": 31,
   "id": "939f3ee2-6e09-4c84-97c2-1f1ff05c4183",
   "metadata": {},
   "outputs": [
    {
     "name": "stdout",
     "output_type": "stream",
     "text": [
      "39090.38415353868\n",
      "39443.09410178983\n"
     ]
    }
   ],
   "source": [
    "#MSE\n",
    "train_MSE = mean_squared_error(y_train, y_train_preds)\n",
    "test_MSE = mean_squared_error(y_test, y_test_preds)\n",
    "#RMSE \n",
    "print(np.sqrt(train_MSE))\n",
    "print(np.sqrt(test_MSE))"
   ]
  },
  {
   "cell_type": "markdown",
   "id": "5047a92e-9360-4351-ab7e-d7f1c72c3462",
   "metadata": {},
   "source": [
    "### Lasso Regression"
   ]
  },
  {
   "cell_type": "code",
   "execution_count": 32,
   "id": "c7d0cb6a-23e8-44e3-be18-9fa284167262",
   "metadata": {
    "scrolled": true
   },
   "outputs": [
    {
     "name": "stderr",
     "output_type": "stream",
     "text": [
      "C:\\Users\\benja\\mambaforge\\envs\\dsi-sg\\lib\\site-packages\\sklearn\\linear_model\\_coordinate_descent.py:617: ConvergenceWarning: Objective did not converge. You might want to increase the number of iterations. Duality gap: 549098108040.03125, tolerance: 183876531387.44037\n",
      "  model = cd_fast.enet_coordinate_descent_gram(\n",
      "C:\\Users\\benja\\mambaforge\\envs\\dsi-sg\\lib\\site-packages\\sklearn\\linear_model\\_coordinate_descent.py:617: ConvergenceWarning: Objective did not converge. You might want to increase the number of iterations. Duality gap: 200703488893.42188, tolerance: 183876531387.44037\n",
      "  model = cd_fast.enet_coordinate_descent_gram(\n",
      "C:\\Users\\benja\\mambaforge\\envs\\dsi-sg\\lib\\site-packages\\sklearn\\linear_model\\_coordinate_descent.py:617: ConvergenceWarning: Objective did not converge. You might want to increase the number of iterations. Duality gap: 3875951840152.5625, tolerance: 183876531387.44037\n",
      "  model = cd_fast.enet_coordinate_descent_gram(\n",
      "C:\\Users\\benja\\mambaforge\\envs\\dsi-sg\\lib\\site-packages\\sklearn\\linear_model\\_coordinate_descent.py:617: ConvergenceWarning: Objective did not converge. You might want to increase the number of iterations. Duality gap: 8443299165575.984, tolerance: 183876531387.44037\n",
      "  model = cd_fast.enet_coordinate_descent_gram(\n",
      "C:\\Users\\benja\\mambaforge\\envs\\dsi-sg\\lib\\site-packages\\sklearn\\linear_model\\_coordinate_descent.py:617: ConvergenceWarning: Objective did not converge. You might want to increase the number of iterations. Duality gap: 32644465500687.406, tolerance: 183876531387.44037\n",
      "  model = cd_fast.enet_coordinate_descent_gram(\n",
      "C:\\Users\\benja\\mambaforge\\envs\\dsi-sg\\lib\\site-packages\\sklearn\\linear_model\\_coordinate_descent.py:617: ConvergenceWarning: Objective did not converge. You might want to increase the number of iterations. Duality gap: 49598772376158.28, tolerance: 183876531387.44037\n",
      "  model = cd_fast.enet_coordinate_descent_gram(\n",
      "C:\\Users\\benja\\mambaforge\\envs\\dsi-sg\\lib\\site-packages\\sklearn\\linear_model\\_coordinate_descent.py:617: ConvergenceWarning: Objective did not converge. You might want to increase the number of iterations. Duality gap: 58646746950444.52, tolerance: 183876531387.44037\n",
      "  model = cd_fast.enet_coordinate_descent_gram(\n",
      "C:\\Users\\benja\\mambaforge\\envs\\dsi-sg\\lib\\site-packages\\sklearn\\linear_model\\_coordinate_descent.py:617: ConvergenceWarning: Objective did not converge. You might want to increase the number of iterations. Duality gap: 63103692676186.516, tolerance: 183876531387.44037\n",
      "  model = cd_fast.enet_coordinate_descent_gram(\n",
      "C:\\Users\\benja\\mambaforge\\envs\\dsi-sg\\lib\\site-packages\\sklearn\\linear_model\\_coordinate_descent.py:617: ConvergenceWarning: Objective did not converge. You might want to increase the number of iterations. Duality gap: 65283651811134.89, tolerance: 183876531387.44037\n",
      "  model = cd_fast.enet_coordinate_descent_gram(\n",
      "C:\\Users\\benja\\mambaforge\\envs\\dsi-sg\\lib\\site-packages\\sklearn\\linear_model\\_coordinate_descent.py:617: ConvergenceWarning: Objective did not converge. You might want to increase the number of iterations. Duality gap: 433779499395.40625, tolerance: 183895226173.57632\n",
      "  model = cd_fast.enet_coordinate_descent_gram(\n",
      "C:\\Users\\benja\\mambaforge\\envs\\dsi-sg\\lib\\site-packages\\sklearn\\linear_model\\_coordinate_descent.py:617: ConvergenceWarning: Objective did not converge. You might want to increase the number of iterations. Duality gap: 3172602652126.7188, tolerance: 183895226173.57632\n",
      "  model = cd_fast.enet_coordinate_descent_gram(\n",
      "C:\\Users\\benja\\mambaforge\\envs\\dsi-sg\\lib\\site-packages\\sklearn\\linear_model\\_coordinate_descent.py:617: ConvergenceWarning: Objective did not converge. You might want to increase the number of iterations. Duality gap: 42982244830679.5, tolerance: 183895226173.57632\n",
      "  model = cd_fast.enet_coordinate_descent_gram(\n",
      "C:\\Users\\benja\\mambaforge\\envs\\dsi-sg\\lib\\site-packages\\sklearn\\linear_model\\_coordinate_descent.py:617: ConvergenceWarning: Objective did not converge. You might want to increase the number of iterations. Duality gap: 39142752286188.36, tolerance: 183895226173.57632\n",
      "  model = cd_fast.enet_coordinate_descent_gram(\n",
      "C:\\Users\\benja\\mambaforge\\envs\\dsi-sg\\lib\\site-packages\\sklearn\\linear_model\\_coordinate_descent.py:617: ConvergenceWarning: Objective did not converge. You might want to increase the number of iterations. Duality gap: 50515353377790.56, tolerance: 183895226173.57632\n",
      "  model = cd_fast.enet_coordinate_descent_gram(\n",
      "C:\\Users\\benja\\mambaforge\\envs\\dsi-sg\\lib\\site-packages\\sklearn\\linear_model\\_coordinate_descent.py:617: ConvergenceWarning: Objective did not converge. You might want to increase the number of iterations. Duality gap: 60912790163247.68, tolerance: 183895226173.57632\n",
      "  model = cd_fast.enet_coordinate_descent_gram(\n",
      "C:\\Users\\benja\\mambaforge\\envs\\dsi-sg\\lib\\site-packages\\sklearn\\linear_model\\_coordinate_descent.py:617: ConvergenceWarning: Objective did not converge. You might want to increase the number of iterations. Duality gap: 64364647974086.54, tolerance: 183895226173.57632\n",
      "  model = cd_fast.enet_coordinate_descent_gram(\n",
      "C:\\Users\\benja\\mambaforge\\envs\\dsi-sg\\lib\\site-packages\\sklearn\\linear_model\\_coordinate_descent.py:617: ConvergenceWarning: Objective did not converge. You might want to increase the number of iterations. Duality gap: 65910567544348.09, tolerance: 183895226173.57632\n",
      "  model = cd_fast.enet_coordinate_descent_gram(\n",
      "C:\\Users\\benja\\mambaforge\\envs\\dsi-sg\\lib\\site-packages\\sklearn\\linear_model\\_coordinate_descent.py:617: ConvergenceWarning: Objective did not converge. You might want to increase the number of iterations. Duality gap: 434515559285.8281, tolerance: 185019062274.13406\n",
      "  model = cd_fast.enet_coordinate_descent_gram(\n",
      "C:\\Users\\benja\\mambaforge\\envs\\dsi-sg\\lib\\site-packages\\sklearn\\linear_model\\_coordinate_descent.py:617: ConvergenceWarning: Objective did not converge. You might want to increase the number of iterations. Duality gap: 2150761162022.1562, tolerance: 185019062274.13406\n",
      "  model = cd_fast.enet_coordinate_descent_gram(\n",
      "C:\\Users\\benja\\mambaforge\\envs\\dsi-sg\\lib\\site-packages\\sklearn\\linear_model\\_coordinate_descent.py:617: ConvergenceWarning: Objective did not converge. You might want to increase the number of iterations. Duality gap: 7104804625123.594, tolerance: 185019062274.13406\n",
      "  model = cd_fast.enet_coordinate_descent_gram(\n",
      "C:\\Users\\benja\\mambaforge\\envs\\dsi-sg\\lib\\site-packages\\sklearn\\linear_model\\_coordinate_descent.py:617: ConvergenceWarning: Objective did not converge. You might want to increase the number of iterations. Duality gap: 12948092381704.656, tolerance: 185019062274.13406\n",
      "  model = cd_fast.enet_coordinate_descent_gram(\n",
      "C:\\Users\\benja\\mambaforge\\envs\\dsi-sg\\lib\\site-packages\\sklearn\\linear_model\\_coordinate_descent.py:617: ConvergenceWarning: Objective did not converge. You might want to increase the number of iterations. Duality gap: 15572380039102.125, tolerance: 185019062274.13406\n",
      "  model = cd_fast.enet_coordinate_descent_gram(\n",
      "C:\\Users\\benja\\mambaforge\\envs\\dsi-sg\\lib\\site-packages\\sklearn\\linear_model\\_coordinate_descent.py:617: ConvergenceWarning: Objective did not converge. You might want to increase the number of iterations. Duality gap: 45484648080414.97, tolerance: 185019062274.13406\n",
      "  model = cd_fast.enet_coordinate_descent_gram(\n",
      "C:\\Users\\benja\\mambaforge\\envs\\dsi-sg\\lib\\site-packages\\sklearn\\linear_model\\_coordinate_descent.py:617: ConvergenceWarning: Objective did not converge. You might want to increase the number of iterations. Duality gap: 57692119286762.375, tolerance: 185019062274.13406\n",
      "  model = cd_fast.enet_coordinate_descent_gram(\n",
      "C:\\Users\\benja\\mambaforge\\envs\\dsi-sg\\lib\\site-packages\\sklearn\\linear_model\\_coordinate_descent.py:617: ConvergenceWarning: Objective did not converge. You might want to increase the number of iterations. Duality gap: 62941434042411.73, tolerance: 185019062274.13406\n",
      "  model = cd_fast.enet_coordinate_descent_gram(\n",
      "C:\\Users\\benja\\mambaforge\\envs\\dsi-sg\\lib\\site-packages\\sklearn\\linear_model\\_coordinate_descent.py:617: ConvergenceWarning: Objective did not converge. You might want to increase the number of iterations. Duality gap: 65522216236052.39, tolerance: 185019062274.13406\n",
      "  model = cd_fast.enet_coordinate_descent_gram(\n",
      "C:\\Users\\benja\\mambaforge\\envs\\dsi-sg\\lib\\site-packages\\sklearn\\linear_model\\_coordinate_descent.py:617: ConvergenceWarning: Objective did not converge. You might want to increase the number of iterations. Duality gap: 511981245553.75, tolerance: 184875043672.3557\n",
      "  model = cd_fast.enet_coordinate_descent_gram(\n",
      "C:\\Users\\benja\\mambaforge\\envs\\dsi-sg\\lib\\site-packages\\sklearn\\linear_model\\_coordinate_descent.py:617: ConvergenceWarning: Objective did not converge. You might want to increase the number of iterations. Duality gap: 5114914487784.516, tolerance: 184875043672.3557\n",
      "  model = cd_fast.enet_coordinate_descent_gram(\n",
      "C:\\Users\\benja\\mambaforge\\envs\\dsi-sg\\lib\\site-packages\\sklearn\\linear_model\\_coordinate_descent.py:617: ConvergenceWarning: Objective did not converge. You might want to increase the number of iterations. Duality gap: 34829114643049.266, tolerance: 184875043672.3557\n",
      "  model = cd_fast.enet_coordinate_descent_gram(\n",
      "C:\\Users\\benja\\mambaforge\\envs\\dsi-sg\\lib\\site-packages\\sklearn\\linear_model\\_coordinate_descent.py:617: ConvergenceWarning: Objective did not converge. You might want to increase the number of iterations. Duality gap: 32151483126171.86, tolerance: 184875043672.3557\n",
      "  model = cd_fast.enet_coordinate_descent_gram(\n",
      "C:\\Users\\benja\\mambaforge\\envs\\dsi-sg\\lib\\site-packages\\sklearn\\linear_model\\_coordinate_descent.py:617: ConvergenceWarning: Objective did not converge. You might want to increase the number of iterations. Duality gap: 49852084559949.91, tolerance: 184875043672.3557\n",
      "  model = cd_fast.enet_coordinate_descent_gram(\n",
      "C:\\Users\\benja\\mambaforge\\envs\\dsi-sg\\lib\\site-packages\\sklearn\\linear_model\\_coordinate_descent.py:617: ConvergenceWarning: Objective did not converge. You might want to increase the number of iterations. Duality gap: 60304407527486.58, tolerance: 184875043672.3557\n",
      "  model = cd_fast.enet_coordinate_descent_gram(\n",
      "C:\\Users\\benja\\mambaforge\\envs\\dsi-sg\\lib\\site-packages\\sklearn\\linear_model\\_coordinate_descent.py:617: ConvergenceWarning: Objective did not converge. You might want to increase the number of iterations. Duality gap: 64435430954225.65, tolerance: 184875043672.3557\n",
      "  model = cd_fast.enet_coordinate_descent_gram(\n",
      "C:\\Users\\benja\\mambaforge\\envs\\dsi-sg\\lib\\site-packages\\sklearn\\linear_model\\_coordinate_descent.py:617: ConvergenceWarning: Objective did not converge. You might want to increase the number of iterations. Duality gap: 66219689459525.28, tolerance: 184875043672.3557\n",
      "  model = cd_fast.enet_coordinate_descent_gram(\n",
      "C:\\Users\\benja\\mambaforge\\envs\\dsi-sg\\lib\\site-packages\\sklearn\\linear_model\\_coordinate_descent.py:617: ConvergenceWarning: Objective did not converge. You might want to increase the number of iterations. Duality gap: 1145895934484.2969, tolerance: 184083558034.64145\n",
      "  model = cd_fast.enet_coordinate_descent_gram(\n",
      "C:\\Users\\benja\\mambaforge\\envs\\dsi-sg\\lib\\site-packages\\sklearn\\linear_model\\_coordinate_descent.py:617: ConvergenceWarning: Objective did not converge. You might want to increase the number of iterations. Duality gap: 5251018047699.609, tolerance: 184083558034.64145\n",
      "  model = cd_fast.enet_coordinate_descent_gram(\n",
      "C:\\Users\\benja\\mambaforge\\envs\\dsi-sg\\lib\\site-packages\\sklearn\\linear_model\\_coordinate_descent.py:617: ConvergenceWarning: Objective did not converge. You might want to increase the number of iterations. Duality gap: 19250135334280.92, tolerance: 184083558034.64145\n",
      "  model = cd_fast.enet_coordinate_descent_gram(\n",
      "C:\\Users\\benja\\mambaforge\\envs\\dsi-sg\\lib\\site-packages\\sklearn\\linear_model\\_coordinate_descent.py:617: ConvergenceWarning: Objective did not converge. You might want to increase the number of iterations. Duality gap: 32316160673678.97, tolerance: 184083558034.64145\n",
      "  model = cd_fast.enet_coordinate_descent_gram(\n",
      "C:\\Users\\benja\\mambaforge\\envs\\dsi-sg\\lib\\site-packages\\sklearn\\linear_model\\_coordinate_descent.py:617: ConvergenceWarning: Objective did not converge. You might want to increase the number of iterations. Duality gap: 52573056794005.2, tolerance: 184083558034.64145\n",
      "  model = cd_fast.enet_coordinate_descent_gram(\n",
      "C:\\Users\\benja\\mambaforge\\envs\\dsi-sg\\lib\\site-packages\\sklearn\\linear_model\\_coordinate_descent.py:617: ConvergenceWarning: Objective did not converge. You might want to increase the number of iterations. Duality gap: 60430089996029.125, tolerance: 184083558034.64145\n",
      "  model = cd_fast.enet_coordinate_descent_gram(\n",
      "C:\\Users\\benja\\mambaforge\\envs\\dsi-sg\\lib\\site-packages\\sklearn\\linear_model\\_coordinate_descent.py:617: ConvergenceWarning: Objective did not converge. You might want to increase the number of iterations. Duality gap: 64084065847681.25, tolerance: 184083558034.64145\n",
      "  model = cd_fast.enet_coordinate_descent_gram(\n",
      "C:\\Users\\benja\\mambaforge\\envs\\dsi-sg\\lib\\site-packages\\sklearn\\linear_model\\_coordinate_descent.py:617: ConvergenceWarning: Objective did not converge. You might want to increase the number of iterations. Duality gap: 65916776343750.516, tolerance: 184083558034.64145\n",
      "  model = cd_fast.enet_coordinate_descent_gram(\n",
      "C:\\Users\\benja\\mambaforge\\envs\\dsi-sg\\lib\\site-packages\\sklearn\\linear_model\\_coordinate_descent.py:631: ConvergenceWarning: Objective did not converge. You might want to increase the number of iterations, check the scale of the features or consider increasing regularisation. Duality gap: 8.545e+13, tolerance: 2.304e+11\n",
      "  model = cd_fast.enet_coordinate_descent(\n"
     ]
    },
    {
     "data": {
      "text/html": [
       "<style>#sk-container-id-2 {color: black;background-color: white;}#sk-container-id-2 pre{padding: 0;}#sk-container-id-2 div.sk-toggleable {background-color: white;}#sk-container-id-2 label.sk-toggleable__label {cursor: pointer;display: block;width: 100%;margin-bottom: 0;padding: 0.3em;box-sizing: border-box;text-align: center;}#sk-container-id-2 label.sk-toggleable__label-arrow:before {content: \"▸\";float: left;margin-right: 0.25em;color: #696969;}#sk-container-id-2 label.sk-toggleable__label-arrow:hover:before {color: black;}#sk-container-id-2 div.sk-estimator:hover label.sk-toggleable__label-arrow:before {color: black;}#sk-container-id-2 div.sk-toggleable__content {max-height: 0;max-width: 0;overflow: hidden;text-align: left;background-color: #f0f8ff;}#sk-container-id-2 div.sk-toggleable__content pre {margin: 0.2em;color: black;border-radius: 0.25em;background-color: #f0f8ff;}#sk-container-id-2 input.sk-toggleable__control:checked~div.sk-toggleable__content {max-height: 200px;max-width: 100%;overflow: auto;}#sk-container-id-2 input.sk-toggleable__control:checked~label.sk-toggleable__label-arrow:before {content: \"▾\";}#sk-container-id-2 div.sk-estimator input.sk-toggleable__control:checked~label.sk-toggleable__label {background-color: #d4ebff;}#sk-container-id-2 div.sk-label input.sk-toggleable__control:checked~label.sk-toggleable__label {background-color: #d4ebff;}#sk-container-id-2 input.sk-hidden--visually {border: 0;clip: rect(1px 1px 1px 1px);clip: rect(1px, 1px, 1px, 1px);height: 1px;margin: -1px;overflow: hidden;padding: 0;position: absolute;width: 1px;}#sk-container-id-2 div.sk-estimator {font-family: monospace;background-color: #f0f8ff;border: 1px dotted black;border-radius: 0.25em;box-sizing: border-box;margin-bottom: 0.5em;}#sk-container-id-2 div.sk-estimator:hover {background-color: #d4ebff;}#sk-container-id-2 div.sk-parallel-item::after {content: \"\";width: 100%;border-bottom: 1px solid gray;flex-grow: 1;}#sk-container-id-2 div.sk-label:hover label.sk-toggleable__label {background-color: #d4ebff;}#sk-container-id-2 div.sk-serial::before {content: \"\";position: absolute;border-left: 1px solid gray;box-sizing: border-box;top: 0;bottom: 0;left: 50%;z-index: 0;}#sk-container-id-2 div.sk-serial {display: flex;flex-direction: column;align-items: center;background-color: white;padding-right: 0.2em;padding-left: 0.2em;position: relative;}#sk-container-id-2 div.sk-item {position: relative;z-index: 1;}#sk-container-id-2 div.sk-parallel {display: flex;align-items: stretch;justify-content: center;background-color: white;position: relative;}#sk-container-id-2 div.sk-item::before, #sk-container-id-2 div.sk-parallel-item::before {content: \"\";position: absolute;border-left: 1px solid gray;box-sizing: border-box;top: 0;bottom: 0;left: 50%;z-index: -1;}#sk-container-id-2 div.sk-parallel-item {display: flex;flex-direction: column;z-index: 1;position: relative;background-color: white;}#sk-container-id-2 div.sk-parallel-item:first-child::after {align-self: flex-end;width: 50%;}#sk-container-id-2 div.sk-parallel-item:last-child::after {align-self: flex-start;width: 50%;}#sk-container-id-2 div.sk-parallel-item:only-child::after {width: 0;}#sk-container-id-2 div.sk-dashed-wrapped {border: 1px dashed gray;margin: 0 0.4em 0.5em 0.4em;box-sizing: border-box;padding-bottom: 0.4em;background-color: white;}#sk-container-id-2 div.sk-label label {font-family: monospace;font-weight: bold;display: inline-block;line-height: 1.2em;}#sk-container-id-2 div.sk-label-container {text-align: center;}#sk-container-id-2 div.sk-container {/* jupyter's `normalize.less` sets `[hidden] { display: none; }` but bootstrap.min.css set `[hidden] { display: none !important; }` so we also need the `!important` here to be able to override the default hidden behavior on the sphinx rendered scikit-learn.org. See: https://github.com/scikit-learn/scikit-learn/issues/21755 */display: inline-block !important;position: relative;}#sk-container-id-2 div.sk-text-repr-fallback {display: none;}</style><div id=\"sk-container-id-2\" class=\"sk-top-container\"><div class=\"sk-text-repr-fallback\"><pre>LassoCV(alphas=array([1.00000000e-03, 2.78255940e-03, 7.74263683e-03, 2.15443469e-02,\n",
       "       5.99484250e-02, 1.66810054e-01, 4.64158883e-01, 1.29154967e+00,\n",
       "       3.59381366e+00, 1.00000000e+01]),\n",
       "        cv=5)</pre><b>In a Jupyter environment, please rerun this cell to show the HTML representation or trust the notebook. <br />On GitHub, the HTML representation is unable to render, please try loading this page with nbviewer.org.</b></div><div class=\"sk-container\" hidden><div class=\"sk-item\"><div class=\"sk-estimator sk-toggleable\"><input class=\"sk-toggleable__control sk-hidden--visually\" id=\"sk-estimator-id-2\" type=\"checkbox\" checked><label for=\"sk-estimator-id-2\" class=\"sk-toggleable__label sk-toggleable__label-arrow\">LassoCV</label><div class=\"sk-toggleable__content\"><pre>LassoCV(alphas=array([1.00000000e-03, 2.78255940e-03, 7.74263683e-03, 2.15443469e-02,\n",
       "       5.99484250e-02, 1.66810054e-01, 4.64158883e-01, 1.29154967e+00,\n",
       "       3.59381366e+00, 1.00000000e+01]),\n",
       "        cv=5)</pre></div></div></div></div></div>"
      ],
      "text/plain": [
       "LassoCV(alphas=array([1.00000000e-03, 2.78255940e-03, 7.74263683e-03, 2.15443469e-02,\n",
       "       5.99484250e-02, 1.66810054e-01, 4.64158883e-01, 1.29154967e+00,\n",
       "       3.59381366e+00, 1.00000000e+01]),\n",
       "        cv=5)"
      ]
     },
     "execution_count": 32,
     "metadata": {},
     "output_type": "execute_result"
    }
   ],
   "source": [
    "l_alphas = np.logspace(-3, 1, 10)\n",
    "\n",
    "lassocv = LassoCV(alphas=l_alphas, cv=5, max_iter=1000)\n",
    "\n",
    "lassocv.fit(Z_train, y_train)"
   ]
  },
  {
   "cell_type": "code",
   "execution_count": 33,
   "id": "64c383f0-53f3-4e3b-a1ce-f1638281c8c1",
   "metadata": {},
   "outputs": [
    {
     "data": {
      "text/plain": [
       "0.001"
      ]
     },
     "execution_count": 33,
     "metadata": {},
     "output_type": "execute_result"
    }
   ],
   "source": [
    "lassocv.alpha_"
   ]
  },
  {
   "cell_type": "code",
   "execution_count": 34,
   "id": "b85d1413-9f43-4af1-94cd-45e07d952a84",
   "metadata": {},
   "outputs": [
    {
     "name": "stderr",
     "output_type": "stream",
     "text": [
      "C:\\Users\\benja\\mambaforge\\envs\\dsi-sg\\lib\\site-packages\\sklearn\\linear_model\\_coordinate_descent.py:631: ConvergenceWarning: Objective did not converge. You might want to increase the number of iterations, check the scale of the features or consider increasing regularisation. Duality gap: 6.827e+13, tolerance: 1.839e+11\n",
      "  model = cd_fast.enet_coordinate_descent(\n",
      "C:\\Users\\benja\\mambaforge\\envs\\dsi-sg\\lib\\site-packages\\sklearn\\linear_model\\_coordinate_descent.py:631: ConvergenceWarning: Objective did not converge. You might want to increase the number of iterations, check the scale of the features or consider increasing regularisation. Duality gap: 6.807e+13, tolerance: 1.839e+11\n",
      "  model = cd_fast.enet_coordinate_descent(\n",
      "C:\\Users\\benja\\mambaforge\\envs\\dsi-sg\\lib\\site-packages\\sklearn\\linear_model\\_coordinate_descent.py:631: ConvergenceWarning: Objective did not converge. You might want to increase the number of iterations, check the scale of the features or consider increasing regularisation. Duality gap: 6.830e+13, tolerance: 1.850e+11\n",
      "  model = cd_fast.enet_coordinate_descent(\n",
      "C:\\Users\\benja\\mambaforge\\envs\\dsi-sg\\lib\\site-packages\\sklearn\\linear_model\\_coordinate_descent.py:631: ConvergenceWarning: Objective did not converge. You might want to increase the number of iterations, check the scale of the features or consider increasing regularisation. Duality gap: 6.863e+13, tolerance: 1.849e+11\n",
      "  model = cd_fast.enet_coordinate_descent(\n",
      "C:\\Users\\benja\\mambaforge\\envs\\dsi-sg\\lib\\site-packages\\sklearn\\linear_model\\_coordinate_descent.py:631: ConvergenceWarning: Objective did not converge. You might want to increase the number of iterations, check the scale of the features or consider increasing regularisation. Duality gap: 6.782e+13, tolerance: 1.841e+11\n",
      "  model = cd_fast.enet_coordinate_descent(\n"
     ]
    },
    {
     "name": "stdout",
     "output_type": "stream",
     "text": [
      "[0.92492638 0.92436544 0.92347895 0.92482993 0.9226332 ]\n",
      "0.924046781315439\n"
     ]
    }
   ],
   "source": [
    "lasso = Lasso(alpha=lassocv.alpha_)\n",
    "\n",
    "lasso_scores = cross_val_score(lasso, Z_train, y_train)\n",
    "\n",
    "print (lasso_scores)\n",
    "print (np.mean(lasso_scores))"
   ]
  },
  {
   "cell_type": "code",
   "execution_count": 35,
   "id": "0391e665-ffc6-4438-8f56-135b7b20c311",
   "metadata": {},
   "outputs": [
    {
     "name": "stderr",
     "output_type": "stream",
     "text": [
      "C:\\Users\\benja\\mambaforge\\envs\\dsi-sg\\lib\\site-packages\\sklearn\\linear_model\\_coordinate_descent.py:631: ConvergenceWarning: Objective did not converge. You might want to increase the number of iterations, check the scale of the features or consider increasing regularisation. Duality gap: 8.545e+13, tolerance: 2.304e+11\n",
      "  model = cd_fast.enet_coordinate_descent(\n"
     ]
    }
   ],
   "source": [
    "#Retrain ridge\n",
    "lasso.fit(Z_train, y_train)\n",
    "\n",
    "#Generate predictions\n",
    "y_train_preds = lasso.predict(Z_train)\n",
    "y_test_preds = lasso.predict(Z_test)"
   ]
  },
  {
   "cell_type": "code",
   "execution_count": 36,
   "id": "59ac33ba-d8b7-4ab2-82c7-82b86fdb0aaf",
   "metadata": {},
   "outputs": [
    {
     "data": {
      "text/plain": [
       "0.925485335015581"
      ]
     },
     "execution_count": 36,
     "metadata": {},
     "output_type": "execute_result"
    }
   ],
   "source": [
    "# Train score:\n",
    "lasso_train_score = lasso.score(Z_train, y_train)\n",
    "lasso_train_score"
   ]
  },
  {
   "cell_type": "code",
   "execution_count": 37,
   "id": "ff8e13bf-502e-44fb-a086-d26eb2e3b0ce",
   "metadata": {},
   "outputs": [
    {
     "data": {
      "text/plain": [
       "0.9241138135893248"
      ]
     },
     "execution_count": 37,
     "metadata": {},
     "output_type": "execute_result"
    }
   ],
   "source": [
    "# Test  score:\n",
    "lasso_test_score = lasso.score(Z_test, y_test)\n",
    "lasso_test_score"
   ]
  },
  {
   "cell_type": "code",
   "execution_count": 38,
   "id": "0c7f4207-2443-4c50-8b64-1edd3922001c",
   "metadata": {},
   "outputs": [
    {
     "name": "stdout",
     "output_type": "stream",
     "text": [
      "39097.74563528389\n",
      "39452.04453138137\n"
     ]
    }
   ],
   "source": [
    "#MSE\n",
    "train_MSE = mean_squared_error(y_train, y_train_preds)\n",
    "test_MSE = mean_squared_error(y_test, y_test_preds)\n",
    "#RMSE \n",
    "print(np.sqrt(train_MSE))\n",
    "print(np.sqrt(test_MSE))"
   ]
  },
  {
   "cell_type": "code",
   "execution_count": 39,
   "id": "87bbc874-927b-400b-a951-184caca7d2d0",
   "metadata": {},
   "outputs": [
    {
     "data": {
      "text/html": [
       "<div>\n",
       "<style scoped>\n",
       "    .dataframe tbody tr th:only-of-type {\n",
       "        vertical-align: middle;\n",
       "    }\n",
       "\n",
       "    .dataframe tbody tr th {\n",
       "        vertical-align: top;\n",
       "    }\n",
       "\n",
       "    .dataframe thead th {\n",
       "        text-align: right;\n",
       "    }\n",
       "</style>\n",
       "<table border=\"1\" class=\"dataframe\">\n",
       "  <thead>\n",
       "    <tr style=\"text-align: right;\">\n",
       "      <th></th>\n",
       "      <th>0</th>\n",
       "      <th>1</th>\n",
       "    </tr>\n",
       "  </thead>\n",
       "  <tbody>\n",
       "    <tr>\n",
       "      <th>41</th>\n",
       "      <td>flat_model_Multi Generation</td>\n",
       "      <td>60.451648</td>\n",
       "    </tr>\n",
       "    <tr>\n",
       "      <th>815</th>\n",
       "      <td>sec_sch_name_Catholic High School</td>\n",
       "      <td>81.563485</td>\n",
       "    </tr>\n",
       "    <tr>\n",
       "      <th>855</th>\n",
       "      <td>sec_sch_name_Loyang Secondary School</td>\n",
       "      <td>144.112137</td>\n",
       "    </tr>\n",
       "    <tr>\n",
       "      <th>834</th>\n",
       "      <td>sec_sch_name_Fuchun Secondary School</td>\n",
       "      <td>156.204017</td>\n",
       "    </tr>\n",
       "    <tr>\n",
       "      <th>104</th>\n",
       "      <td>street_name_BOON LAY AVE</td>\n",
       "      <td>166.042094</td>\n",
       "    </tr>\n",
       "    <tr>\n",
       "      <th>...</th>\n",
       "      <td>...</td>\n",
       "      <td>...</td>\n",
       "    </tr>\n",
       "    <tr>\n",
       "      <th>339</th>\n",
       "      <td>street_name_MARINE CRES</td>\n",
       "      <td>282847.920392</td>\n",
       "    </tr>\n",
       "    <tr>\n",
       "      <th>201</th>\n",
       "      <td>street_name_DOVER CL EAST</td>\n",
       "      <td>298001.904834</td>\n",
       "    </tr>\n",
       "    <tr>\n",
       "      <th>340</th>\n",
       "      <td>street_name_MARINE DR</td>\n",
       "      <td>298643.437636</td>\n",
       "    </tr>\n",
       "    <tr>\n",
       "      <th>175</th>\n",
       "      <td>street_name_CLARENCE LANE</td>\n",
       "      <td>328834.109270</td>\n",
       "    </tr>\n",
       "    <tr>\n",
       "      <th>47</th>\n",
       "      <td>flat_model_Terrace</td>\n",
       "      <td>434380.080706</td>\n",
       "    </tr>\n",
       "  </tbody>\n",
       "</table>\n",
       "<p>924 rows × 2 columns</p>\n",
       "</div>"
      ],
      "text/plain": [
       "                                        0              1\n",
       "41            flat_model_Multi Generation      60.451648\n",
       "815     sec_sch_name_Catholic High School      81.563485\n",
       "855  sec_sch_name_Loyang Secondary School     144.112137\n",
       "834  sec_sch_name_Fuchun Secondary School     156.204017\n",
       "104              street_name_BOON LAY AVE     166.042094\n",
       "..                                    ...            ...\n",
       "339               street_name_MARINE CRES  282847.920392\n",
       "201             street_name_DOVER CL EAST  298001.904834\n",
       "340                 street_name_MARINE DR  298643.437636\n",
       "175             street_name_CLARENCE LANE  328834.109270\n",
       "47                     flat_model_Terrace  434380.080706\n",
       "\n",
       "[924 rows x 2 columns]"
      ]
     },
     "execution_count": 39,
     "metadata": {},
     "output_type": "execute_result"
    }
   ],
   "source": [
    "coefs_df = pd.DataFrame(list(zip(Z_train.columns, abs(lassocv.coef_))))\n",
    "coefs_df.sort_values(by = 1, ascending = True)"
   ]
  },
  {
   "cell_type": "markdown",
   "id": "44e4cd0d-b19b-4b8b-ab6c-db948cae545a",
   "metadata": {},
   "source": [
    "### Results Analysis"
   ]
  },
  {
   "cell_type": "markdown",
   "id": "4d5db917-d2e8-40e7-8f52-9a90dcfe3ed3",
   "metadata": {},
   "source": [
    "| Version | Score Description | Linear Regression | Ridge Regression | Lasso Regression |\r\n",
    "|---------|-------------------|-------------------|------------------|------------------|\r\n",
    "| V1      | Train Score       | 0.92618           | 0.92618          | 0.92615          |\r\n",
    "| V1      | Test Score        | -6846639454563    | 0.92476          | 0.92473          |\r\n",
    "| V1      | Train RMSE        | 38915.20          | 38915.67         | 38922.83         |\r\n",
    "| V1      | Test RMSE         | 374737262352      | 39283.65         | 39291.22         |\r\n",
    "| V3      | Train Score       | 0.92552           | 0.92551          | 0.92411          |\r\n",
    "| V3      | Test Score        | -1564517453.13769 | 0.92415          | 0.92446          |\r\n",
    "| V3      | Train RMSE        | 39089.89          | 39090.38         | 39097.75         |\r\n",
    "| V3      | Test RMSE         | 5664718809        | 39443.09         | 39452.04         |    |"
   ]
  },
  {
   "cell_type": "markdown",
   "id": "3316cb5b-0ea9-45a0-9706-af3510994011",
   "metadata": {},
   "source": [
    "Similar to v1 & v2, there still steems to be some discrepant results with the Linear regresison model. Nerver theless, the Ridge regression models and Lasso regression models retain a consistent score between the train and test sets as well as between the different version. \n",
    "As before, the convergence warning occuring with the Lasso regression mesn there is likely  some issues with the features, either too little, too many or some of the features itself. In this case, with 900 columns, it is possible there is too many or the features may be problematic.\n",
    "\n",
    "One possible instance is the flat_type and flat_model. It may be that there are some duplicity due to the flat_models only appearing in flat types. Another iteration would be tried without flat_models. This would serve to reduce the run time as well."
   ]
  },
  {
   "cell_type": "markdown",
   "id": "2bf28af2-7dd1-42c7-ba8e-6a21349716c4",
   "metadata": {},
   "source": [
    "### \n"
   ]
  },
  {
   "cell_type": "markdown",
   "id": "dee7bf4b-4e95-4e25-aeff-6cd97120563d",
   "metadata": {},
   "source": [
    "# Pickling in progress"
   ]
  },
  {
   "cell_type": "code",
   "execution_count": 40,
   "id": "a7957250-8e78-42f3-9712-0e0cb64e8158",
   "metadata": {},
   "outputs": [],
   "source": [
    "import pickle"
   ]
  },
  {
   "cell_type": "code",
   "execution_count": 41,
   "id": "935efbf5-fcbf-47d9-a42e-1bf017bd10d1",
   "metadata": {},
   "outputs": [],
   "source": [
    "pickle.dump(lr, open('lr.pkl', 'wb'))"
   ]
  },
  {
   "cell_type": "code",
   "execution_count": 42,
   "id": "ae80f6c3-4498-476c-b86a-86d2f4d19a95",
   "metadata": {},
   "outputs": [],
   "source": [
    "pickle.dump(ridgecv, open('ridgecv.pkl', 'wb'))"
   ]
  },
  {
   "cell_type": "code",
   "execution_count": 44,
   "id": "95ec9259-d916-48c3-8137-d2760323a863",
   "metadata": {},
   "outputs": [],
   "source": [
    "pickle.dump(lassocv, open('lassocv.pkl', 'wb'))"
   ]
  },
  {
   "cell_type": "markdown",
   "id": "b8cfed0d-957b-447e-b462-9d82749bc2a3",
   "metadata": {},
   "source": [
    "## Predictions"
   ]
  },
  {
   "cell_type": "code",
   "execution_count": 45,
   "id": "ca11393b-b8aa-41d2-8707-46cb90e1802e",
   "metadata": {},
   "outputs": [
    {
     "name": "stderr",
     "output_type": "stream",
     "text": [
      "C:\\Users\\benja\\AppData\\Local\\Temp\\ipykernel_10756\\3863900838.py:1: DtypeWarning: Columns (40) have mixed types. Specify dtype option on import or set low_memory=False.\n",
      "  exam = pd.read_csv('../../data/test.csv')\n"
     ]
    }
   ],
   "source": [
    "exam = pd.read_csv('../../data/test.csv')"
   ]
  },
  {
   "cell_type": "code",
   "execution_count": 46,
   "id": "3ade8835-20c9-407c-b537-4521b4df2d79",
   "metadata": {},
   "outputs": [],
   "source": [
    "def bool_converter(df, feature):\n",
    "    for n in feature:\n",
    "        df[n].replace({'Y': 1, 'N' : 0}, inplace = True)"
   ]
  },
  {
   "cell_type": "code",
   "execution_count": 47,
   "id": "c9140efa-d547-4f51-94ab-9bd6d9127166",
   "metadata": {},
   "outputs": [],
   "source": [
    "object_features = ['commercial', 'market_hawker', 'multistorey_carpark', 'precinct_pavilion']\n",
    "bool_converter(exam, object_features)"
   ]
  },
  {
   "cell_type": "code",
   "execution_count": 48,
   "id": "e9b10fbb-164e-47f7-a6fc-f9cc8f33939d",
   "metadata": {},
   "outputs": [],
   "source": [
    "exam['Hawker_Within_500m'].replace([np.nan], 0, inplace = True)\n",
    "exam['Hawker_Within_1km'].replace([np.nan], 0, inplace = True)\n",
    "exam['Hawker_Within_2km'].replace([np.nan], 0, inplace = True)\n",
    "\n",
    "exam['Mall_Within_500m'].replace([np.nan], 0, inplace = True)\n",
    "exam['Mall_Within_1km'].replace([np.nan], 0, inplace = True)\n",
    "exam['Mall_Within_2km'].replace([np.nan], 0, inplace = True)"
   ]
  },
  {
   "cell_type": "code",
   "execution_count": 49,
   "id": "c7ce86d2-aa4a-402b-b05b-dcbecbfa75b8",
   "metadata": {},
   "outputs": [],
   "source": [
    "choose_mask = pd.read_csv('../../data/dataset_description_chosen.csv')\n",
    "mask_list = list(choose_mask.loc[choose_mask['Decision( 1 = Accept, 0 = Reject)'] == 0, 'Codebook / Data Dictionary'])"
   ]
  },
  {
   "cell_type": "code",
   "execution_count": 50,
   "id": "998d86d4-5340-40f8-9a02-58c4297d60cb",
   "metadata": {},
   "outputs": [],
   "source": [
    "#feature engineer\n",
    "exam['transaction_age'] = exam['Tranc_Year'] - exam['lease_commence_date']\n",
    "exam.drop(columns = ['lease_commence_date'], inplace = True)"
   ]
  },
  {
   "cell_type": "code",
   "execution_count": 51,
   "id": "7cb32cdc-72f1-441d-b4fc-ae2b947f5da0",
   "metadata": {},
   "outputs": [],
   "source": [
    "#set up csv as a drop list with the inclusion of id.\n",
    "exam.drop(columns = mask_list, inplace = True)\n",
    "exam.drop(columns = drop_list, inplace = True)"
   ]
  },
  {
   "cell_type": "code",
   "execution_count": 52,
   "id": "c587482d-c067-49c4-9e02-53fade551901",
   "metadata": {},
   "outputs": [
    {
     "data": {
      "text/plain": [
       "id                            0\n",
       "flat_type                     0\n",
       "street_name                   0\n",
       "floor_area_sqm                0\n",
       "flat_model                    0\n",
       "Tranc_Year                    0\n",
       "Tranc_Month                   0\n",
       "mid                           0\n",
       "max_floor_lvl                 0\n",
       "commercial                    0\n",
       "market_hawker                 0\n",
       "multistorey_carpark           0\n",
       "precinct_pavilion             0\n",
       "planning_area                 0\n",
       "Mall_Nearest_Distance        84\n",
       "Mall_Within_500m              0\n",
       "Mall_Within_1km               0\n",
       "Mall_Within_2km               0\n",
       "Hawker_Nearest_Distance       0\n",
       "Hawker_Within_500m            0\n",
       "Hawker_Within_1km             0\n",
       "Hawker_Within_2km             0\n",
       "mrt_nearest_distance          0\n",
       "bus_interchange               0\n",
       "mrt_interchange               0\n",
       "bus_stop_nearest_distance     0\n",
       "pri_sch_nearest_distance      0\n",
       "pri_sch_name                  0\n",
       "pri_sch_affiliation           0\n",
       "sec_sch_name                  0\n",
       "cutoff_point                  0\n",
       "transaction_age               0\n",
       "dtype: int64"
      ]
     },
     "execution_count": 52,
     "metadata": {},
     "output_type": "execute_result"
    }
   ],
   "source": [
    "exam.isnull().sum()"
   ]
  },
  {
   "cell_type": "code",
   "execution_count": 53,
   "id": "02ba78b6-dad9-4b84-9404-1e80605034d7",
   "metadata": {},
   "outputs": [],
   "source": [
    "exam['Mall_Nearest_Distance'].replace(np.nan,0, inplace = True)"
   ]
  },
  {
   "cell_type": "code",
   "execution_count": 54,
   "id": "33c2ec27-6304-4632-ac1d-960da7f6c94a",
   "metadata": {},
   "outputs": [
    {
     "data": {
      "text/html": [
       "<div>\n",
       "<style scoped>\n",
       "    .dataframe tbody tr th:only-of-type {\n",
       "        vertical-align: middle;\n",
       "    }\n",
       "\n",
       "    .dataframe tbody tr th {\n",
       "        vertical-align: top;\n",
       "    }\n",
       "\n",
       "    .dataframe thead th {\n",
       "        text-align: right;\n",
       "    }\n",
       "</style>\n",
       "<table border=\"1\" class=\"dataframe\">\n",
       "  <thead>\n",
       "    <tr style=\"text-align: right;\">\n",
       "      <th></th>\n",
       "      <th>id</th>\n",
       "    </tr>\n",
       "  </thead>\n",
       "  <tbody>\n",
       "    <tr>\n",
       "      <th>0</th>\n",
       "      <td>114982</td>\n",
       "    </tr>\n",
       "    <tr>\n",
       "      <th>1</th>\n",
       "      <td>95653</td>\n",
       "    </tr>\n",
       "    <tr>\n",
       "      <th>2</th>\n",
       "      <td>40303</td>\n",
       "    </tr>\n",
       "    <tr>\n",
       "      <th>3</th>\n",
       "      <td>109506</td>\n",
       "    </tr>\n",
       "    <tr>\n",
       "      <th>4</th>\n",
       "      <td>100149</td>\n",
       "    </tr>\n",
       "    <tr>\n",
       "      <th>...</th>\n",
       "      <td>...</td>\n",
       "    </tr>\n",
       "    <tr>\n",
       "      <th>16732</th>\n",
       "      <td>23347</td>\n",
       "    </tr>\n",
       "    <tr>\n",
       "      <th>16733</th>\n",
       "      <td>54003</td>\n",
       "    </tr>\n",
       "    <tr>\n",
       "      <th>16734</th>\n",
       "      <td>128921</td>\n",
       "    </tr>\n",
       "    <tr>\n",
       "      <th>16735</th>\n",
       "      <td>69352</td>\n",
       "    </tr>\n",
       "    <tr>\n",
       "      <th>16736</th>\n",
       "      <td>146210</td>\n",
       "    </tr>\n",
       "  </tbody>\n",
       "</table>\n",
       "<p>16737 rows × 1 columns</p>\n",
       "</div>"
      ],
      "text/plain": [
       "           id\n",
       "0      114982\n",
       "1       95653\n",
       "2       40303\n",
       "3      109506\n",
       "4      100149\n",
       "...       ...\n",
       "16732   23347\n",
       "16733   54003\n",
       "16734  128921\n",
       "16735   69352\n",
       "16736  146210\n",
       "\n",
       "[16737 rows x 1 columns]"
      ]
     },
     "execution_count": 54,
     "metadata": {},
     "output_type": "execute_result"
    }
   ],
   "source": [
    "id_frame = exam[['id']]\n",
    "id_frame"
   ]
  },
  {
   "cell_type": "code",
   "execution_count": 55,
   "id": "440c64d6-9f6a-4f73-b0ac-7578ba73466b",
   "metadata": {},
   "outputs": [],
   "source": [
    "X_exam_num = pd.DataFrame(ss.transform(exam[num_feat]))\n",
    "X_exam_num.columns = exam[num_feat].columns"
   ]
  },
  {
   "cell_type": "code",
   "execution_count": 56,
   "id": "fcadeb9e-5eb5-43a4-9798-60feed45c678",
   "metadata": {},
   "outputs": [
    {
     "name": "stdout",
     "output_type": "stream",
     "text": [
      "<class 'pandas.core.frame.DataFrame'>\n",
      "RangeIndex: 16737 entries, 0 to 16736\n",
      "Data columns (total 14 columns):\n",
      " #   Column               Non-Null Count  Dtype \n",
      "---  ------               --------------  ----- \n",
      " 0   index                16737 non-null  int64 \n",
      " 1   flat_type            16737 non-null  object\n",
      " 2   flat_model           16737 non-null  object\n",
      " 3   street_name          16737 non-null  object\n",
      " 4   commercial           16737 non-null  int64 \n",
      " 5   market_hawker        16737 non-null  int64 \n",
      " 6   multistorey_carpark  16737 non-null  int64 \n",
      " 7   precinct_pavilion    16737 non-null  int64 \n",
      " 8   planning_area        16737 non-null  object\n",
      " 9   bus_interchange      16737 non-null  int64 \n",
      " 10  mrt_interchange      16737 non-null  int64 \n",
      " 11  pri_sch_name         16737 non-null  object\n",
      " 12  pri_sch_affiliation  16737 non-null  int64 \n",
      " 13  sec_sch_name         16737 non-null  object\n",
      "dtypes: int64(8), object(6)\n",
      "memory usage: 1.8+ MB\n"
     ]
    }
   ],
   "source": [
    "X_exam_cat_df = exam[cat_feat].reset_index()\n",
    "X_exam_cat_df.info()"
   ]
  },
  {
   "cell_type": "code",
   "execution_count": 57,
   "id": "6a56bcd0-2708-4bd6-b4e3-685f56e4fa5a",
   "metadata": {},
   "outputs": [
    {
     "data": {
      "text/html": [
       "<div>\n",
       "<style scoped>\n",
       "    .dataframe tbody tr th:only-of-type {\n",
       "        vertical-align: middle;\n",
       "    }\n",
       "\n",
       "    .dataframe tbody tr th {\n",
       "        vertical-align: top;\n",
       "    }\n",
       "\n",
       "    .dataframe thead th {\n",
       "        text-align: right;\n",
       "    }\n",
       "</style>\n",
       "<table border=\"1\" class=\"dataframe\">\n",
       "  <thead>\n",
       "    <tr style=\"text-align: right;\">\n",
       "      <th></th>\n",
       "      <th>flat_type_1 ROOM</th>\n",
       "      <th>flat_type_2 ROOM</th>\n",
       "      <th>flat_type_3 ROOM</th>\n",
       "      <th>flat_type_4 ROOM</th>\n",
       "      <th>flat_type_5 ROOM</th>\n",
       "      <th>flat_type_EXECUTIVE</th>\n",
       "      <th>flat_type_MULTI-GENERATION</th>\n",
       "      <th>flat_model_Adjoined flat</th>\n",
       "      <th>flat_model_Apartment</th>\n",
       "      <th>flat_model_DBSS</th>\n",
       "      <th>...</th>\n",
       "      <th>sec_sch_name_Yio Chu Kang Secondary School</th>\n",
       "      <th>sec_sch_name_Yishun Secondary School</th>\n",
       "      <th>sec_sch_name_Yishun Town Secondary School</th>\n",
       "      <th>sec_sch_name_Yuan Ching Secondary School</th>\n",
       "      <th>sec_sch_name_Yuhua Secondary School</th>\n",
       "      <th>sec_sch_name_Yusof Ishak Secondary School</th>\n",
       "      <th>sec_sch_name_Yuying Secondary School</th>\n",
       "      <th>sec_sch_name_Zhenghua Secondary School</th>\n",
       "      <th>sec_sch_name_Zhonghua Secondary School</th>\n",
       "      <th>sec_sch_name_infrequent_sklearn</th>\n",
       "    </tr>\n",
       "  </thead>\n",
       "  <tbody>\n",
       "    <tr>\n",
       "      <th>16732</th>\n",
       "      <td>0.0</td>\n",
       "      <td>0.0</td>\n",
       "      <td>1.0</td>\n",
       "      <td>0.0</td>\n",
       "      <td>0.0</td>\n",
       "      <td>0.0</td>\n",
       "      <td>0.0</td>\n",
       "      <td>0.0</td>\n",
       "      <td>0.0</td>\n",
       "      <td>0.0</td>\n",
       "      <td>...</td>\n",
       "      <td>1.0</td>\n",
       "      <td>0.0</td>\n",
       "      <td>0.0</td>\n",
       "      <td>0.0</td>\n",
       "      <td>0.0</td>\n",
       "      <td>0.0</td>\n",
       "      <td>0.0</td>\n",
       "      <td>0.0</td>\n",
       "      <td>0.0</td>\n",
       "      <td>0.0</td>\n",
       "    </tr>\n",
       "    <tr>\n",
       "      <th>16733</th>\n",
       "      <td>0.0</td>\n",
       "      <td>0.0</td>\n",
       "      <td>0.0</td>\n",
       "      <td>1.0</td>\n",
       "      <td>0.0</td>\n",
       "      <td>0.0</td>\n",
       "      <td>0.0</td>\n",
       "      <td>0.0</td>\n",
       "      <td>0.0</td>\n",
       "      <td>0.0</td>\n",
       "      <td>...</td>\n",
       "      <td>0.0</td>\n",
       "      <td>0.0</td>\n",
       "      <td>0.0</td>\n",
       "      <td>0.0</td>\n",
       "      <td>0.0</td>\n",
       "      <td>0.0</td>\n",
       "      <td>0.0</td>\n",
       "      <td>0.0</td>\n",
       "      <td>0.0</td>\n",
       "      <td>0.0</td>\n",
       "    </tr>\n",
       "    <tr>\n",
       "      <th>16734</th>\n",
       "      <td>0.0</td>\n",
       "      <td>0.0</td>\n",
       "      <td>0.0</td>\n",
       "      <td>0.0</td>\n",
       "      <td>1.0</td>\n",
       "      <td>0.0</td>\n",
       "      <td>0.0</td>\n",
       "      <td>0.0</td>\n",
       "      <td>0.0</td>\n",
       "      <td>0.0</td>\n",
       "      <td>...</td>\n",
       "      <td>0.0</td>\n",
       "      <td>0.0</td>\n",
       "      <td>0.0</td>\n",
       "      <td>0.0</td>\n",
       "      <td>0.0</td>\n",
       "      <td>0.0</td>\n",
       "      <td>0.0</td>\n",
       "      <td>0.0</td>\n",
       "      <td>0.0</td>\n",
       "      <td>0.0</td>\n",
       "    </tr>\n",
       "    <tr>\n",
       "      <th>16735</th>\n",
       "      <td>0.0</td>\n",
       "      <td>0.0</td>\n",
       "      <td>0.0</td>\n",
       "      <td>1.0</td>\n",
       "      <td>0.0</td>\n",
       "      <td>0.0</td>\n",
       "      <td>0.0</td>\n",
       "      <td>0.0</td>\n",
       "      <td>0.0</td>\n",
       "      <td>0.0</td>\n",
       "      <td>...</td>\n",
       "      <td>0.0</td>\n",
       "      <td>0.0</td>\n",
       "      <td>0.0</td>\n",
       "      <td>0.0</td>\n",
       "      <td>0.0</td>\n",
       "      <td>0.0</td>\n",
       "      <td>0.0</td>\n",
       "      <td>0.0</td>\n",
       "      <td>0.0</td>\n",
       "      <td>0.0</td>\n",
       "    </tr>\n",
       "    <tr>\n",
       "      <th>16736</th>\n",
       "      <td>0.0</td>\n",
       "      <td>0.0</td>\n",
       "      <td>0.0</td>\n",
       "      <td>1.0</td>\n",
       "      <td>0.0</td>\n",
       "      <td>0.0</td>\n",
       "      <td>0.0</td>\n",
       "      <td>0.0</td>\n",
       "      <td>0.0</td>\n",
       "      <td>0.0</td>\n",
       "      <td>...</td>\n",
       "      <td>0.0</td>\n",
       "      <td>0.0</td>\n",
       "      <td>0.0</td>\n",
       "      <td>0.0</td>\n",
       "      <td>0.0</td>\n",
       "      <td>0.0</td>\n",
       "      <td>0.0</td>\n",
       "      <td>0.0</td>\n",
       "      <td>0.0</td>\n",
       "      <td>0.0</td>\n",
       "    </tr>\n",
       "  </tbody>\n",
       "</table>\n",
       "<p>5 rows × 899 columns</p>\n",
       "</div>"
      ],
      "text/plain": [
       "       flat_type_1 ROOM  flat_type_2 ROOM  flat_type_3 ROOM  flat_type_4 ROOM  \\\n",
       "16732               0.0               0.0               1.0               0.0   \n",
       "16733               0.0               0.0               0.0               1.0   \n",
       "16734               0.0               0.0               0.0               0.0   \n",
       "16735               0.0               0.0               0.0               1.0   \n",
       "16736               0.0               0.0               0.0               1.0   \n",
       "\n",
       "       flat_type_5 ROOM  flat_type_EXECUTIVE  flat_type_MULTI-GENERATION  \\\n",
       "16732               0.0                  0.0                         0.0   \n",
       "16733               0.0                  0.0                         0.0   \n",
       "16734               1.0                  0.0                         0.0   \n",
       "16735               0.0                  0.0                         0.0   \n",
       "16736               0.0                  0.0                         0.0   \n",
       "\n",
       "       flat_model_Adjoined flat  flat_model_Apartment  flat_model_DBSS  ...  \\\n",
       "16732                       0.0                   0.0              0.0  ...   \n",
       "16733                       0.0                   0.0              0.0  ...   \n",
       "16734                       0.0                   0.0              0.0  ...   \n",
       "16735                       0.0                   0.0              0.0  ...   \n",
       "16736                       0.0                   0.0              0.0  ...   \n",
       "\n",
       "       sec_sch_name_Yio Chu Kang Secondary School  \\\n",
       "16732                                         1.0   \n",
       "16733                                         0.0   \n",
       "16734                                         0.0   \n",
       "16735                                         0.0   \n",
       "16736                                         0.0   \n",
       "\n",
       "       sec_sch_name_Yishun Secondary School  \\\n",
       "16732                                   0.0   \n",
       "16733                                   0.0   \n",
       "16734                                   0.0   \n",
       "16735                                   0.0   \n",
       "16736                                   0.0   \n",
       "\n",
       "       sec_sch_name_Yishun Town Secondary School  \\\n",
       "16732                                        0.0   \n",
       "16733                                        0.0   \n",
       "16734                                        0.0   \n",
       "16735                                        0.0   \n",
       "16736                                        0.0   \n",
       "\n",
       "       sec_sch_name_Yuan Ching Secondary School  \\\n",
       "16732                                       0.0   \n",
       "16733                                       0.0   \n",
       "16734                                       0.0   \n",
       "16735                                       0.0   \n",
       "16736                                       0.0   \n",
       "\n",
       "       sec_sch_name_Yuhua Secondary School  \\\n",
       "16732                                  0.0   \n",
       "16733                                  0.0   \n",
       "16734                                  0.0   \n",
       "16735                                  0.0   \n",
       "16736                                  0.0   \n",
       "\n",
       "       sec_sch_name_Yusof Ishak Secondary School  \\\n",
       "16732                                        0.0   \n",
       "16733                                        0.0   \n",
       "16734                                        0.0   \n",
       "16735                                        0.0   \n",
       "16736                                        0.0   \n",
       "\n",
       "       sec_sch_name_Yuying Secondary School  \\\n",
       "16732                                   0.0   \n",
       "16733                                   0.0   \n",
       "16734                                   0.0   \n",
       "16735                                   0.0   \n",
       "16736                                   0.0   \n",
       "\n",
       "       sec_sch_name_Zhenghua Secondary School  \\\n",
       "16732                                     0.0   \n",
       "16733                                     0.0   \n",
       "16734                                     0.0   \n",
       "16735                                     0.0   \n",
       "16736                                     0.0   \n",
       "\n",
       "       sec_sch_name_Zhonghua Secondary School  sec_sch_name_infrequent_sklearn  \n",
       "16732                                     0.0                              0.0  \n",
       "16733                                     0.0                              0.0  \n",
       "16734                                     0.0                              0.0  \n",
       "16735                                     0.0                              0.0  \n",
       "16736                                     0.0                              0.0  \n",
       "\n",
       "[5 rows x 899 columns]"
      ]
     },
     "execution_count": 57,
     "metadata": {},
     "output_type": "execute_result"
    }
   ],
   "source": [
    "exam_OHE_cat_df = pd.DataFrame(OHE.transform(X_exam_cat_df[cat_list]), columns = OHE.get_feature_names_out())\n",
    "exam_OHE_cat_df.tail()"
   ]
  },
  {
   "cell_type": "code",
   "execution_count": 58,
   "id": "2423b315-7703-4689-8fbb-0aa7f866daa3",
   "metadata": {},
   "outputs": [],
   "source": [
    "X_exam_cat_df = pd.concat([X_exam_cat_df, exam_OHE_cat_df], axis = 1)\n",
    "X_exam_cat_df.drop(columns = cat_list, inplace = True)"
   ]
  },
  {
   "cell_type": "code",
   "execution_count": 59,
   "id": "b3eab84b-ad3c-4e17-9be5-22537fff06be",
   "metadata": {},
   "outputs": [],
   "source": [
    "#concat test set\n",
    "Z_exam = pd.concat([X_exam_num, X_exam_cat_df], axis = 1)\n",
    "Z_exam.set_index('index', inplace = True)"
   ]
  },
  {
   "cell_type": "code",
   "execution_count": 60,
   "id": "7dbdefd0-2b19-453c-a1d1-3a97b7b9131d",
   "metadata": {},
   "outputs": [
    {
     "data": {
      "text/plain": [
       "Mall_Within_1km                              0\n",
       "Mall_Nearest_Distance                        0\n",
       "Mall_Within_2km                              0\n",
       "Hawker_Within_500m                           0\n",
       "Tranc_Year                                   0\n",
       "                                            ..\n",
       "sec_sch_name_Yusof Ishak Secondary School    0\n",
       "sec_sch_name_Yuying Secondary School         0\n",
       "sec_sch_name_Zhenghua Secondary School       0\n",
       "sec_sch_name_Zhonghua Secondary School       0\n",
       "sec_sch_name_infrequent_sklearn              0\n",
       "Length: 924, dtype: int64"
      ]
     },
     "execution_count": 60,
     "metadata": {},
     "output_type": "execute_result"
    }
   ],
   "source": [
    "Z_exam.isna().sum()"
   ]
  },
  {
   "cell_type": "code",
   "execution_count": 75,
   "id": "020f6d63-3aa0-4cae-9b14-5d74c9d5c1f0",
   "metadata": {},
   "outputs": [],
   "source": [
    "y_exam_preds = ridge.predict(Z_exam)"
   ]
  },
  {
   "cell_type": "code",
   "execution_count": 76,
   "id": "5ec8a362-634b-48c6-9c50-0af26a0f050d",
   "metadata": {},
   "outputs": [],
   "source": [
    "y_exam_preds_df = pd.DataFrame(y_exam_preds, columns = ['resale_price'])"
   ]
  },
  {
   "cell_type": "code",
   "execution_count": 77,
   "id": "b88584f9-ce5c-4a42-913e-7fa3a1880089",
   "metadata": {},
   "outputs": [],
   "source": [
    "submission_df = pd.concat([id_frame, y_exam_preds_df], axis = 1)"
   ]
  },
  {
   "cell_type": "code",
   "execution_count": 78,
   "id": "840c325f-c941-44a4-a88d-f06cd368ceb6",
   "metadata": {},
   "outputs": [
    {
     "data": {
      "text/html": [
       "<div>\n",
       "<style scoped>\n",
       "    .dataframe tbody tr th:only-of-type {\n",
       "        vertical-align: middle;\n",
       "    }\n",
       "\n",
       "    .dataframe tbody tr th {\n",
       "        vertical-align: top;\n",
       "    }\n",
       "\n",
       "    .dataframe thead th {\n",
       "        text-align: right;\n",
       "    }\n",
       "</style>\n",
       "<table border=\"1\" class=\"dataframe\">\n",
       "  <thead>\n",
       "    <tr style=\"text-align: right;\">\n",
       "      <th></th>\n",
       "      <th>id</th>\n",
       "      <th>resale_price</th>\n",
       "    </tr>\n",
       "  </thead>\n",
       "  <tbody>\n",
       "    <tr>\n",
       "      <th>0</th>\n",
       "      <td>114982</td>\n",
       "      <td>337310.175883</td>\n",
       "    </tr>\n",
       "    <tr>\n",
       "      <th>1</th>\n",
       "      <td>95653</td>\n",
       "      <td>480257.148515</td>\n",
       "    </tr>\n",
       "    <tr>\n",
       "      <th>2</th>\n",
       "      <td>40303</td>\n",
       "      <td>339687.115918</td>\n",
       "    </tr>\n",
       "    <tr>\n",
       "      <th>3</th>\n",
       "      <td>109506</td>\n",
       "      <td>314495.830653</td>\n",
       "    </tr>\n",
       "    <tr>\n",
       "      <th>4</th>\n",
       "      <td>100149</td>\n",
       "      <td>452504.956058</td>\n",
       "    </tr>\n",
       "    <tr>\n",
       "      <th>...</th>\n",
       "      <td>...</td>\n",
       "      <td>...</td>\n",
       "    </tr>\n",
       "    <tr>\n",
       "      <th>16732</th>\n",
       "      <td>23347</td>\n",
       "      <td>355668.285701</td>\n",
       "    </tr>\n",
       "    <tr>\n",
       "      <th>16733</th>\n",
       "      <td>54003</td>\n",
       "      <td>499357.650207</td>\n",
       "    </tr>\n",
       "    <tr>\n",
       "      <th>16734</th>\n",
       "      <td>128921</td>\n",
       "      <td>381430.375087</td>\n",
       "    </tr>\n",
       "    <tr>\n",
       "      <th>16735</th>\n",
       "      <td>69352</td>\n",
       "      <td>503212.969660</td>\n",
       "    </tr>\n",
       "    <tr>\n",
       "      <th>16736</th>\n",
       "      <td>146210</td>\n",
       "      <td>374178.399391</td>\n",
       "    </tr>\n",
       "  </tbody>\n",
       "</table>\n",
       "<p>16737 rows × 2 columns</p>\n",
       "</div>"
      ],
      "text/plain": [
       "           id   resale_price\n",
       "0      114982  337310.175883\n",
       "1       95653  480257.148515\n",
       "2       40303  339687.115918\n",
       "3      109506  314495.830653\n",
       "4      100149  452504.956058\n",
       "...       ...            ...\n",
       "16732   23347  355668.285701\n",
       "16733   54003  499357.650207\n",
       "16734  128921  381430.375087\n",
       "16735   69352  503212.969660\n",
       "16736  146210  374178.399391\n",
       "\n",
       "[16737 rows x 2 columns]"
      ]
     },
     "execution_count": 78,
     "metadata": {},
     "output_type": "execute_result"
    }
   ],
   "source": [
    "submission_df"
   ]
  },
  {
   "cell_type": "code",
   "execution_count": 79,
   "id": "2d87482a-b476-4a1d-83ee-a25074582f0d",
   "metadata": {},
   "outputs": [],
   "source": [
    "submission_df.rename(columns={'id': 'Id','resale_price': 'Predicted'}, inplace = True)"
   ]
  },
  {
   "cell_type": "code",
   "execution_count": 80,
   "id": "db2c75de-6013-4888-b152-37c4adbd9a3f",
   "metadata": {},
   "outputs": [],
   "source": [
    "#data export to already created output folder\n",
    "submission_df.to_csv('../../data/output/submission_df.csv', index = False)"
   ]
  },
  {
   "cell_type": "code",
   "execution_count": null,
   "id": "c149be55-c466-4f61-a996-22d8fdbb1835",
   "metadata": {},
   "outputs": [],
   "source": []
  }
 ],
 "metadata": {
  "kernelspec": {
   "display_name": "Python 3 (ipykernel)",
   "language": "python",
   "name": "python3"
  },
  "language_info": {
   "codemirror_mode": {
    "name": "ipython",
    "version": 3
   },
   "file_extension": ".py",
   "mimetype": "text/x-python",
   "name": "python",
   "nbconvert_exporter": "python",
   "pygments_lexer": "ipython3",
   "version": "3.8.17"
  }
 },
 "nbformat": 4,
 "nbformat_minor": 5
}
